{
 "cells": [
  {
   "cell_type": "code",
   "execution_count": 17,
   "metadata": {},
   "outputs": [],
   "source": [
    "import pandas as pd\n",
    "import matplotlib.pyplot as plt\n",
    "import plotly.express as px\n",
    "import plotly.graph_objs as go\n",
    "import datetime\n"
   ]
  },
  {
   "cell_type": "markdown",
   "metadata": {},
   "source": [
    "Load data from CSV"
   ]
  },
  {
   "cell_type": "code",
   "execution_count": 2,
   "metadata": {
    "scrolled": false
   },
   "outputs": [
    {
     "data": {
      "text/html": [
       "<div>\n",
       "<style scoped>\n",
       "    .dataframe tbody tr th:only-of-type {\n",
       "        vertical-align: middle;\n",
       "    }\n",
       "\n",
       "    .dataframe tbody tr th {\n",
       "        vertical-align: top;\n",
       "    }\n",
       "\n",
       "    .dataframe thead th {\n",
       "        text-align: right;\n",
       "    }\n",
       "</style>\n",
       "<table border=\"1\" class=\"dataframe\">\n",
       "  <thead>\n",
       "    <tr style=\"text-align: right;\">\n",
       "      <th></th>\n",
       "      <th>show_id</th>\n",
       "      <th>type</th>\n",
       "      <th>title</th>\n",
       "      <th>director</th>\n",
       "      <th>cast</th>\n",
       "      <th>country</th>\n",
       "      <th>date_added</th>\n",
       "      <th>release_year</th>\n",
       "      <th>rating</th>\n",
       "      <th>duration</th>\n",
       "      <th>listed_in</th>\n",
       "      <th>description</th>\n",
       "    </tr>\n",
       "  </thead>\n",
       "  <tbody>\n",
       "    <tr>\n",
       "      <th>0</th>\n",
       "      <td>s1</td>\n",
       "      <td>TV Show</td>\n",
       "      <td>3%</td>\n",
       "      <td>NaN</td>\n",
       "      <td>João Miguel, Bianca Comparato, Michel Gomes, R...</td>\n",
       "      <td>Brazil</td>\n",
       "      <td>August 14, 2020</td>\n",
       "      <td>2020</td>\n",
       "      <td>TV-MA</td>\n",
       "      <td>4 Seasons</td>\n",
       "      <td>International TV Shows, TV Dramas, TV Sci-Fi &amp;...</td>\n",
       "      <td>In a future where the elite inhabit an island ...</td>\n",
       "    </tr>\n",
       "    <tr>\n",
       "      <th>1</th>\n",
       "      <td>s2</td>\n",
       "      <td>Movie</td>\n",
       "      <td>7:19</td>\n",
       "      <td>Jorge Michel Grau</td>\n",
       "      <td>Demián Bichir, Héctor Bonilla, Oscar Serrano, ...</td>\n",
       "      <td>Mexico</td>\n",
       "      <td>December 23, 2016</td>\n",
       "      <td>2016</td>\n",
       "      <td>TV-MA</td>\n",
       "      <td>93 min</td>\n",
       "      <td>Dramas, International Movies</td>\n",
       "      <td>After a devastating earthquake hits Mexico Cit...</td>\n",
       "    </tr>\n",
       "    <tr>\n",
       "      <th>2</th>\n",
       "      <td>s3</td>\n",
       "      <td>Movie</td>\n",
       "      <td>23:59</td>\n",
       "      <td>Gilbert Chan</td>\n",
       "      <td>Tedd Chan, Stella Chung, Henley Hii, Lawrence ...</td>\n",
       "      <td>Singapore</td>\n",
       "      <td>December 20, 2018</td>\n",
       "      <td>2011</td>\n",
       "      <td>R</td>\n",
       "      <td>78 min</td>\n",
       "      <td>Horror Movies, International Movies</td>\n",
       "      <td>When an army recruit is found dead, his fellow...</td>\n",
       "    </tr>\n",
       "    <tr>\n",
       "      <th>3</th>\n",
       "      <td>s4</td>\n",
       "      <td>Movie</td>\n",
       "      <td>9</td>\n",
       "      <td>Shane Acker</td>\n",
       "      <td>Elijah Wood, John C. Reilly, Jennifer Connelly...</td>\n",
       "      <td>United States</td>\n",
       "      <td>November 16, 2017</td>\n",
       "      <td>2009</td>\n",
       "      <td>PG-13</td>\n",
       "      <td>80 min</td>\n",
       "      <td>Action &amp; Adventure, Independent Movies, Sci-Fi...</td>\n",
       "      <td>In a postapocalyptic world, rag-doll robots hi...</td>\n",
       "    </tr>\n",
       "    <tr>\n",
       "      <th>4</th>\n",
       "      <td>s5</td>\n",
       "      <td>Movie</td>\n",
       "      <td>21</td>\n",
       "      <td>Robert Luketic</td>\n",
       "      <td>Jim Sturgess, Kevin Spacey, Kate Bosworth, Aar...</td>\n",
       "      <td>United States</td>\n",
       "      <td>January 1, 2020</td>\n",
       "      <td>2008</td>\n",
       "      <td>PG-13</td>\n",
       "      <td>123 min</td>\n",
       "      <td>Dramas</td>\n",
       "      <td>A brilliant group of students become card-coun...</td>\n",
       "    </tr>\n",
       "    <tr>\n",
       "      <th>...</th>\n",
       "      <td>...</td>\n",
       "      <td>...</td>\n",
       "      <td>...</td>\n",
       "      <td>...</td>\n",
       "      <td>...</td>\n",
       "      <td>...</td>\n",
       "      <td>...</td>\n",
       "      <td>...</td>\n",
       "      <td>...</td>\n",
       "      <td>...</td>\n",
       "      <td>...</td>\n",
       "      <td>...</td>\n",
       "    </tr>\n",
       "    <tr>\n",
       "      <th>7782</th>\n",
       "      <td>s7783</td>\n",
       "      <td>Movie</td>\n",
       "      <td>Zozo</td>\n",
       "      <td>Josef Fares</td>\n",
       "      <td>Imad Creidi, Antoinette Turk, Elias Gergi, Car...</td>\n",
       "      <td>Sweden, Czech Republic, United Kingdom, Denmar...</td>\n",
       "      <td>October 19, 2020</td>\n",
       "      <td>2005</td>\n",
       "      <td>TV-MA</td>\n",
       "      <td>99 min</td>\n",
       "      <td>Dramas, International Movies</td>\n",
       "      <td>When Lebanon's Civil War deprives Zozo of his ...</td>\n",
       "    </tr>\n",
       "    <tr>\n",
       "      <th>7783</th>\n",
       "      <td>s7784</td>\n",
       "      <td>Movie</td>\n",
       "      <td>Zubaan</td>\n",
       "      <td>Mozez Singh</td>\n",
       "      <td>Vicky Kaushal, Sarah-Jane Dias, Raaghav Chanan...</td>\n",
       "      <td>India</td>\n",
       "      <td>March 2, 2019</td>\n",
       "      <td>2015</td>\n",
       "      <td>TV-14</td>\n",
       "      <td>111 min</td>\n",
       "      <td>Dramas, International Movies, Music &amp; Musicals</td>\n",
       "      <td>A scrappy but poor boy worms his way into a ty...</td>\n",
       "    </tr>\n",
       "    <tr>\n",
       "      <th>7784</th>\n",
       "      <td>s7785</td>\n",
       "      <td>Movie</td>\n",
       "      <td>Zulu Man in Japan</td>\n",
       "      <td>NaN</td>\n",
       "      <td>Nasty C</td>\n",
       "      <td>NaN</td>\n",
       "      <td>September 25, 2020</td>\n",
       "      <td>2019</td>\n",
       "      <td>TV-MA</td>\n",
       "      <td>44 min</td>\n",
       "      <td>Documentaries, International Movies, Music &amp; M...</td>\n",
       "      <td>In this documentary, South African rapper Nast...</td>\n",
       "    </tr>\n",
       "    <tr>\n",
       "      <th>7785</th>\n",
       "      <td>s7786</td>\n",
       "      <td>TV Show</td>\n",
       "      <td>Zumbo's Just Desserts</td>\n",
       "      <td>NaN</td>\n",
       "      <td>Adriano Zumbo, Rachel Khoo</td>\n",
       "      <td>Australia</td>\n",
       "      <td>October 31, 2020</td>\n",
       "      <td>2019</td>\n",
       "      <td>TV-PG</td>\n",
       "      <td>1 Season</td>\n",
       "      <td>International TV Shows, Reality TV</td>\n",
       "      <td>Dessert wizard Adriano Zumbo looks for the nex...</td>\n",
       "    </tr>\n",
       "    <tr>\n",
       "      <th>7786</th>\n",
       "      <td>s7787</td>\n",
       "      <td>Movie</td>\n",
       "      <td>ZZ TOP: THAT LITTLE OL' BAND FROM TEXAS</td>\n",
       "      <td>Sam Dunn</td>\n",
       "      <td>NaN</td>\n",
       "      <td>United Kingdom, Canada, United States</td>\n",
       "      <td>March 1, 2020</td>\n",
       "      <td>2019</td>\n",
       "      <td>TV-MA</td>\n",
       "      <td>90 min</td>\n",
       "      <td>Documentaries, Music &amp; Musicals</td>\n",
       "      <td>This documentary delves into the mystique behi...</td>\n",
       "    </tr>\n",
       "  </tbody>\n",
       "</table>\n",
       "<p>7787 rows × 12 columns</p>\n",
       "</div>"
      ],
      "text/plain": [
       "     show_id     type                                    title  \\\n",
       "0         s1  TV Show                                       3%   \n",
       "1         s2    Movie                                     7:19   \n",
       "2         s3    Movie                                    23:59   \n",
       "3         s4    Movie                                        9   \n",
       "4         s5    Movie                                       21   \n",
       "...      ...      ...                                      ...   \n",
       "7782   s7783    Movie                                     Zozo   \n",
       "7783   s7784    Movie                                   Zubaan   \n",
       "7784   s7785    Movie                        Zulu Man in Japan   \n",
       "7785   s7786  TV Show                    Zumbo's Just Desserts   \n",
       "7786   s7787    Movie  ZZ TOP: THAT LITTLE OL' BAND FROM TEXAS   \n",
       "\n",
       "               director                                               cast  \\\n",
       "0                   NaN  João Miguel, Bianca Comparato, Michel Gomes, R...   \n",
       "1     Jorge Michel Grau  Demián Bichir, Héctor Bonilla, Oscar Serrano, ...   \n",
       "2          Gilbert Chan  Tedd Chan, Stella Chung, Henley Hii, Lawrence ...   \n",
       "3           Shane Acker  Elijah Wood, John C. Reilly, Jennifer Connelly...   \n",
       "4        Robert Luketic  Jim Sturgess, Kevin Spacey, Kate Bosworth, Aar...   \n",
       "...                 ...                                                ...   \n",
       "7782        Josef Fares  Imad Creidi, Antoinette Turk, Elias Gergi, Car...   \n",
       "7783        Mozez Singh  Vicky Kaushal, Sarah-Jane Dias, Raaghav Chanan...   \n",
       "7784                NaN                                            Nasty C   \n",
       "7785                NaN                         Adriano Zumbo, Rachel Khoo   \n",
       "7786           Sam Dunn                                                NaN   \n",
       "\n",
       "                                                country          date_added  \\\n",
       "0                                                Brazil     August 14, 2020   \n",
       "1                                                Mexico   December 23, 2016   \n",
       "2                                             Singapore   December 20, 2018   \n",
       "3                                         United States   November 16, 2017   \n",
       "4                                         United States     January 1, 2020   \n",
       "...                                                 ...                 ...   \n",
       "7782  Sweden, Czech Republic, United Kingdom, Denmar...    October 19, 2020   \n",
       "7783                                              India       March 2, 2019   \n",
       "7784                                                NaN  September 25, 2020   \n",
       "7785                                          Australia    October 31, 2020   \n",
       "7786              United Kingdom, Canada, United States       March 1, 2020   \n",
       "\n",
       "      release_year rating   duration  \\\n",
       "0             2020  TV-MA  4 Seasons   \n",
       "1             2016  TV-MA     93 min   \n",
       "2             2011      R     78 min   \n",
       "3             2009  PG-13     80 min   \n",
       "4             2008  PG-13    123 min   \n",
       "...            ...    ...        ...   \n",
       "7782          2005  TV-MA     99 min   \n",
       "7783          2015  TV-14    111 min   \n",
       "7784          2019  TV-MA     44 min   \n",
       "7785          2019  TV-PG   1 Season   \n",
       "7786          2019  TV-MA     90 min   \n",
       "\n",
       "                                              listed_in  \\\n",
       "0     International TV Shows, TV Dramas, TV Sci-Fi &...   \n",
       "1                          Dramas, International Movies   \n",
       "2                   Horror Movies, International Movies   \n",
       "3     Action & Adventure, Independent Movies, Sci-Fi...   \n",
       "4                                                Dramas   \n",
       "...                                                 ...   \n",
       "7782                       Dramas, International Movies   \n",
       "7783     Dramas, International Movies, Music & Musicals   \n",
       "7784  Documentaries, International Movies, Music & M...   \n",
       "7785                 International TV Shows, Reality TV   \n",
       "7786                    Documentaries, Music & Musicals   \n",
       "\n",
       "                                            description  \n",
       "0     In a future where the elite inhabit an island ...  \n",
       "1     After a devastating earthquake hits Mexico Cit...  \n",
       "2     When an army recruit is found dead, his fellow...  \n",
       "3     In a postapocalyptic world, rag-doll robots hi...  \n",
       "4     A brilliant group of students become card-coun...  \n",
       "...                                                 ...  \n",
       "7782  When Lebanon's Civil War deprives Zozo of his ...  \n",
       "7783  A scrappy but poor boy worms his way into a ty...  \n",
       "7784  In this documentary, South African rapper Nast...  \n",
       "7785  Dessert wizard Adriano Zumbo looks for the nex...  \n",
       "7786  This documentary delves into the mystique behi...  \n",
       "\n",
       "[7787 rows x 12 columns]"
      ]
     },
     "execution_count": 2,
     "metadata": {},
     "output_type": "execute_result"
    }
   ],
   "source": [
    "dataframe = pd.read_csv('data.csv')\n",
    "dataframe"
   ]
  },
  {
   "cell_type": "markdown",
   "metadata": {},
   "source": [
    "We observe that some shows have multiple countries separated by `,`"
   ]
  },
  {
   "cell_type": "markdown",
   "metadata": {},
   "source": [
    "### 1. Number of titles produced by each country added yearly on Netflix"
   ]
  },
  {
   "cell_type": "code",
   "execution_count": 39,
   "metadata": {
    "scrolled": true
   },
   "outputs": [
    {
     "data": {
      "text/html": [
       "<div>\n",
       "<style scoped>\n",
       "    .dataframe tbody tr th:only-of-type {\n",
       "        vertical-align: middle;\n",
       "    }\n",
       "\n",
       "    .dataframe tbody tr th {\n",
       "        vertical-align: top;\n",
       "    }\n",
       "\n",
       "    .dataframe thead th {\n",
       "        text-align: right;\n",
       "    }\n",
       "</style>\n",
       "<table border=\"1\" class=\"dataframe\">\n",
       "  <thead>\n",
       "    <tr style=\"text-align: right;\">\n",
       "      <th></th>\n",
       "      <th>show_id</th>\n",
       "      <th>type</th>\n",
       "      <th>title</th>\n",
       "      <th>director</th>\n",
       "      <th>cast</th>\n",
       "      <th>country</th>\n",
       "      <th>date_added</th>\n",
       "      <th>release_year</th>\n",
       "      <th>rating</th>\n",
       "      <th>duration</th>\n",
       "      <th>listed_in</th>\n",
       "      <th>description</th>\n",
       "    </tr>\n",
       "  </thead>\n",
       "  <tbody>\n",
       "    <tr>\n",
       "      <th>11</th>\n",
       "      <td>s12</td>\n",
       "      <td>TV Show</td>\n",
       "      <td>1983</td>\n",
       "      <td>NaN</td>\n",
       "      <td>Robert Więckiewicz, Maciej Musiał, Michalina O...</td>\n",
       "      <td>Poland, United States</td>\n",
       "      <td>November 30, 2018</td>\n",
       "      <td>2018</td>\n",
       "      <td>TV-MA</td>\n",
       "      <td>1 Season</td>\n",
       "      <td>Crime TV Shows, International TV Shows, TV Dramas</td>\n",
       "      <td>In this dark alt-history thriller, a naïve law...</td>\n",
       "    </tr>\n",
       "    <tr>\n",
       "      <th>17</th>\n",
       "      <td>s18</td>\n",
       "      <td>Movie</td>\n",
       "      <td>22-Jul</td>\n",
       "      <td>Paul Greengrass</td>\n",
       "      <td>Anders Danielsen Lie, Jon Øigarden, Jonas Stra...</td>\n",
       "      <td>Norway, Iceland, United States</td>\n",
       "      <td>October 10, 2018</td>\n",
       "      <td>2018</td>\n",
       "      <td>R</td>\n",
       "      <td>144 min</td>\n",
       "      <td>Dramas, Thrillers</td>\n",
       "      <td>After devastating terror attacks in Norway, a ...</td>\n",
       "    </tr>\n",
       "    <tr>\n",
       "      <th>48</th>\n",
       "      <td>s49</td>\n",
       "      <td>Movie</td>\n",
       "      <td>10 Days in Sun City</td>\n",
       "      <td>Adze Ugah</td>\n",
       "      <td>Ayo Makun, Adesua Etomi, Richard Mofe-Damijo, ...</td>\n",
       "      <td>South Africa, Nigeria</td>\n",
       "      <td>October 18, 2019</td>\n",
       "      <td>2017</td>\n",
       "      <td>TV-14</td>\n",
       "      <td>87 min</td>\n",
       "      <td>Comedies, International Movies, Romantic Movies</td>\n",
       "      <td>After his girlfriend wins the Miss Nigeria pag...</td>\n",
       "    </tr>\n",
       "    <tr>\n",
       "      <th>50</th>\n",
       "      <td>s51</td>\n",
       "      <td>Movie</td>\n",
       "      <td>10,000 B.C.</td>\n",
       "      <td>Roland Emmerich</td>\n",
       "      <td>Steven Strait, Camilla Belle, Cliff Curtis, Jo...</td>\n",
       "      <td>United States, South Africa</td>\n",
       "      <td>June 1, 2019</td>\n",
       "      <td>2008</td>\n",
       "      <td>PG-13</td>\n",
       "      <td>109 min</td>\n",
       "      <td>Action &amp; Adventure</td>\n",
       "      <td>Fierce mammoth hunter D'Leh sets out on an imp...</td>\n",
       "    </tr>\n",
       "    <tr>\n",
       "      <th>54</th>\n",
       "      <td>s55</td>\n",
       "      <td>Movie</td>\n",
       "      <td>100 Meters</td>\n",
       "      <td>Marcel Barrena</td>\n",
       "      <td>Dani Rovira, Karra Elejalde, Alexandra Jiménez...</td>\n",
       "      <td>Portugal, Spain</td>\n",
       "      <td>March 10, 2017</td>\n",
       "      <td>2016</td>\n",
       "      <td>TV-MA</td>\n",
       "      <td>109 min</td>\n",
       "      <td>Dramas, International Movies, Sports Movies</td>\n",
       "      <td>A man who is diagnosed with multiple sclerosis...</td>\n",
       "    </tr>\n",
       "    <tr>\n",
       "      <th>...</th>\n",
       "      <td>...</td>\n",
       "      <td>...</td>\n",
       "      <td>...</td>\n",
       "      <td>...</td>\n",
       "      <td>...</td>\n",
       "      <td>...</td>\n",
       "      <td>...</td>\n",
       "      <td>...</td>\n",
       "      <td>...</td>\n",
       "      <td>...</td>\n",
       "      <td>...</td>\n",
       "      <td>...</td>\n",
       "    </tr>\n",
       "    <tr>\n",
       "      <th>7759</th>\n",
       "      <td>s7760</td>\n",
       "      <td>TV Show</td>\n",
       "      <td>Zak Storm</td>\n",
       "      <td>NaN</td>\n",
       "      <td>Michael Johnston, Jessica Gee-George, Christin...</td>\n",
       "      <td>United States, France, South Korea, Indonesia</td>\n",
       "      <td>September 13, 2018</td>\n",
       "      <td>2016</td>\n",
       "      <td>TV-Y7</td>\n",
       "      <td>3 Seasons</td>\n",
       "      <td>Kids' TV</td>\n",
       "      <td>Teen surfer Zak Storm is mysteriously transpor...</td>\n",
       "    </tr>\n",
       "    <tr>\n",
       "      <th>7761</th>\n",
       "      <td>s7762</td>\n",
       "      <td>Movie</td>\n",
       "      <td>Zapped</td>\n",
       "      <td>Peter DeLuise</td>\n",
       "      <td>Zendaya, Chanelle Peloso, Spencer Boldman, Emi...</td>\n",
       "      <td>Canada, United States</td>\n",
       "      <td>February 1, 2017</td>\n",
       "      <td>2014</td>\n",
       "      <td>TV-Y</td>\n",
       "      <td>92 min</td>\n",
       "      <td>Children &amp; Family Movies, Comedies</td>\n",
       "      <td>A girl discovers a dog-training app that can g...</td>\n",
       "    </tr>\n",
       "    <tr>\n",
       "      <th>7770</th>\n",
       "      <td>s7771</td>\n",
       "      <td>Movie</td>\n",
       "      <td>Zinzana</td>\n",
       "      <td>Majid Al Ansari</td>\n",
       "      <td>Ali Suliman, Saleh Bakri, Yasa, Ali Al-Jabri, ...</td>\n",
       "      <td>United Arab Emirates, Jordan</td>\n",
       "      <td>March 9, 2016</td>\n",
       "      <td>2015</td>\n",
       "      <td>TV-MA</td>\n",
       "      <td>96 min</td>\n",
       "      <td>Dramas, International Movies, Thrillers</td>\n",
       "      <td>Recovering alcoholic Talal wakes up inside a s...</td>\n",
       "    </tr>\n",
       "    <tr>\n",
       "      <th>7782</th>\n",
       "      <td>s7783</td>\n",
       "      <td>Movie</td>\n",
       "      <td>Zozo</td>\n",
       "      <td>Josef Fares</td>\n",
       "      <td>Imad Creidi, Antoinette Turk, Elias Gergi, Car...</td>\n",
       "      <td>Sweden, Czech Republic, United Kingdom, Denmar...</td>\n",
       "      <td>October 19, 2020</td>\n",
       "      <td>2005</td>\n",
       "      <td>TV-MA</td>\n",
       "      <td>99 min</td>\n",
       "      <td>Dramas, International Movies</td>\n",
       "      <td>When Lebanon's Civil War deprives Zozo of his ...</td>\n",
       "    </tr>\n",
       "    <tr>\n",
       "      <th>7786</th>\n",
       "      <td>s7787</td>\n",
       "      <td>Movie</td>\n",
       "      <td>ZZ TOP: THAT LITTLE OL' BAND FROM TEXAS</td>\n",
       "      <td>Sam Dunn</td>\n",
       "      <td>NaN</td>\n",
       "      <td>United Kingdom, Canada, United States</td>\n",
       "      <td>March 1, 2020</td>\n",
       "      <td>2019</td>\n",
       "      <td>TV-MA</td>\n",
       "      <td>90 min</td>\n",
       "      <td>Documentaries, Music &amp; Musicals</td>\n",
       "      <td>This documentary delves into the mystique behi...</td>\n",
       "    </tr>\n",
       "  </tbody>\n",
       "</table>\n",
       "<p>1153 rows × 12 columns</p>\n",
       "</div>"
      ],
      "text/plain": [
       "     show_id     type                                    title  \\\n",
       "11       s12  TV Show                                     1983   \n",
       "17       s18    Movie                                   22-Jul   \n",
       "48       s49    Movie                      10 Days in Sun City   \n",
       "50       s51    Movie                              10,000 B.C.   \n",
       "54       s55    Movie                               100 Meters   \n",
       "...      ...      ...                                      ...   \n",
       "7759   s7760  TV Show                                Zak Storm   \n",
       "7761   s7762    Movie                                   Zapped   \n",
       "7770   s7771    Movie                                  Zinzana   \n",
       "7782   s7783    Movie                                     Zozo   \n",
       "7786   s7787    Movie  ZZ TOP: THAT LITTLE OL' BAND FROM TEXAS   \n",
       "\n",
       "             director                                               cast  \\\n",
       "11                NaN  Robert Więckiewicz, Maciej Musiał, Michalina O...   \n",
       "17    Paul Greengrass  Anders Danielsen Lie, Jon Øigarden, Jonas Stra...   \n",
       "48          Adze Ugah  Ayo Makun, Adesua Etomi, Richard Mofe-Damijo, ...   \n",
       "50    Roland Emmerich  Steven Strait, Camilla Belle, Cliff Curtis, Jo...   \n",
       "54     Marcel Barrena  Dani Rovira, Karra Elejalde, Alexandra Jiménez...   \n",
       "...               ...                                                ...   \n",
       "7759              NaN  Michael Johnston, Jessica Gee-George, Christin...   \n",
       "7761    Peter DeLuise  Zendaya, Chanelle Peloso, Spencer Boldman, Emi...   \n",
       "7770  Majid Al Ansari  Ali Suliman, Saleh Bakri, Yasa, Ali Al-Jabri, ...   \n",
       "7782      Josef Fares  Imad Creidi, Antoinette Turk, Elias Gergi, Car...   \n",
       "7786         Sam Dunn                                                NaN   \n",
       "\n",
       "                                                country          date_added  \\\n",
       "11                                Poland, United States   November 30, 2018   \n",
       "17                       Norway, Iceland, United States    October 10, 2018   \n",
       "48                                South Africa, Nigeria    October 18, 2019   \n",
       "50                          United States, South Africa        June 1, 2019   \n",
       "54                                      Portugal, Spain      March 10, 2017   \n",
       "...                                                 ...                 ...   \n",
       "7759      United States, France, South Korea, Indonesia  September 13, 2018   \n",
       "7761                              Canada, United States    February 1, 2017   \n",
       "7770                       United Arab Emirates, Jordan       March 9, 2016   \n",
       "7782  Sweden, Czech Republic, United Kingdom, Denmar...    October 19, 2020   \n",
       "7786              United Kingdom, Canada, United States       March 1, 2020   \n",
       "\n",
       "      release_year rating   duration  \\\n",
       "11            2018  TV-MA   1 Season   \n",
       "17            2018      R    144 min   \n",
       "48            2017  TV-14     87 min   \n",
       "50            2008  PG-13    109 min   \n",
       "54            2016  TV-MA    109 min   \n",
       "...            ...    ...        ...   \n",
       "7759          2016  TV-Y7  3 Seasons   \n",
       "7761          2014   TV-Y     92 min   \n",
       "7770          2015  TV-MA     96 min   \n",
       "7782          2005  TV-MA     99 min   \n",
       "7786          2019  TV-MA     90 min   \n",
       "\n",
       "                                              listed_in  \\\n",
       "11    Crime TV Shows, International TV Shows, TV Dramas   \n",
       "17                                    Dramas, Thrillers   \n",
       "48      Comedies, International Movies, Romantic Movies   \n",
       "50                                   Action & Adventure   \n",
       "54          Dramas, International Movies, Sports Movies   \n",
       "...                                                 ...   \n",
       "7759                                           Kids' TV   \n",
       "7761                 Children & Family Movies, Comedies   \n",
       "7770            Dramas, International Movies, Thrillers   \n",
       "7782                       Dramas, International Movies   \n",
       "7786                    Documentaries, Music & Musicals   \n",
       "\n",
       "                                            description  \n",
       "11    In this dark alt-history thriller, a naïve law...  \n",
       "17    After devastating terror attacks in Norway, a ...  \n",
       "48    After his girlfriend wins the Miss Nigeria pag...  \n",
       "50    Fierce mammoth hunter D'Leh sets out on an imp...  \n",
       "54    A man who is diagnosed with multiple sclerosis...  \n",
       "...                                                 ...  \n",
       "7759  Teen surfer Zak Storm is mysteriously transpor...  \n",
       "7761  A girl discovers a dog-training app that can g...  \n",
       "7770  Recovering alcoholic Talal wakes up inside a s...  \n",
       "7782  When Lebanon's Civil War deprives Zozo of his ...  \n",
       "7786  This documentary delves into the mystique behi...  \n",
       "\n",
       "[1153 rows x 12 columns]"
      ]
     },
     "execution_count": 39,
     "metadata": {},
     "output_type": "execute_result"
    }
   ],
   "source": [
    "dataframe[dataframe['country'].str.contains(\",\",na=False)]"
   ]
  },
  {
   "cell_type": "markdown",
   "metadata": {},
   "source": [
    "Let's try to create arrays from the comma separated country values."
   ]
  },
  {
   "cell_type": "code",
   "execution_count": 40,
   "metadata": {},
   "outputs": [
    {
     "data": {
      "text/html": [
       "<div>\n",
       "<style scoped>\n",
       "    .dataframe tbody tr th:only-of-type {\n",
       "        vertical-align: middle;\n",
       "    }\n",
       "\n",
       "    .dataframe tbody tr th {\n",
       "        vertical-align: top;\n",
       "    }\n",
       "\n",
       "    .dataframe thead th {\n",
       "        text-align: right;\n",
       "    }\n",
       "</style>\n",
       "<table border=\"1\" class=\"dataframe\">\n",
       "  <thead>\n",
       "    <tr style=\"text-align: right;\">\n",
       "      <th></th>\n",
       "      <th>title</th>\n",
       "      <th>country</th>\n",
       "      <th>date_added</th>\n",
       "      <th>release_year</th>\n",
       "    </tr>\n",
       "  </thead>\n",
       "  <tbody>\n",
       "    <tr>\n",
       "      <th>0</th>\n",
       "      <td>3%</td>\n",
       "      <td>[Brazil]</td>\n",
       "      <td>August 14, 2020</td>\n",
       "      <td>2020</td>\n",
       "    </tr>\n",
       "    <tr>\n",
       "      <th>1</th>\n",
       "      <td>7:19</td>\n",
       "      <td>[Mexico]</td>\n",
       "      <td>December 23, 2016</td>\n",
       "      <td>2016</td>\n",
       "    </tr>\n",
       "    <tr>\n",
       "      <th>2</th>\n",
       "      <td>23:59</td>\n",
       "      <td>[Singapore]</td>\n",
       "      <td>December 20, 2018</td>\n",
       "      <td>2011</td>\n",
       "    </tr>\n",
       "    <tr>\n",
       "      <th>3</th>\n",
       "      <td>9</td>\n",
       "      <td>[United States]</td>\n",
       "      <td>November 16, 2017</td>\n",
       "      <td>2009</td>\n",
       "    </tr>\n",
       "    <tr>\n",
       "      <th>4</th>\n",
       "      <td>21</td>\n",
       "      <td>[United States]</td>\n",
       "      <td>January 1, 2020</td>\n",
       "      <td>2008</td>\n",
       "    </tr>\n",
       "    <tr>\n",
       "      <th>...</th>\n",
       "      <td>...</td>\n",
       "      <td>...</td>\n",
       "      <td>...</td>\n",
       "      <td>...</td>\n",
       "    </tr>\n",
       "    <tr>\n",
       "      <th>7782</th>\n",
       "      <td>Zozo</td>\n",
       "      <td>[Sweden,  Czech Republic,  United Kingdom,  De...</td>\n",
       "      <td>October 19, 2020</td>\n",
       "      <td>2005</td>\n",
       "    </tr>\n",
       "    <tr>\n",
       "      <th>7783</th>\n",
       "      <td>Zubaan</td>\n",
       "      <td>[India]</td>\n",
       "      <td>March 2, 2019</td>\n",
       "      <td>2015</td>\n",
       "    </tr>\n",
       "    <tr>\n",
       "      <th>7784</th>\n",
       "      <td>Zulu Man in Japan</td>\n",
       "      <td>[nan]</td>\n",
       "      <td>September 25, 2020</td>\n",
       "      <td>2019</td>\n",
       "    </tr>\n",
       "    <tr>\n",
       "      <th>7785</th>\n",
       "      <td>Zumbo's Just Desserts</td>\n",
       "      <td>[Australia]</td>\n",
       "      <td>October 31, 2020</td>\n",
       "      <td>2019</td>\n",
       "    </tr>\n",
       "    <tr>\n",
       "      <th>7786</th>\n",
       "      <td>ZZ TOP: THAT LITTLE OL' BAND FROM TEXAS</td>\n",
       "      <td>[United Kingdom,  Canada,  United States]</td>\n",
       "      <td>March 1, 2020</td>\n",
       "      <td>2019</td>\n",
       "    </tr>\n",
       "  </tbody>\n",
       "</table>\n",
       "<p>7787 rows × 4 columns</p>\n",
       "</div>"
      ],
      "text/plain": [
       "                                        title  \\\n",
       "0                                          3%   \n",
       "1                                        7:19   \n",
       "2                                       23:59   \n",
       "3                                           9   \n",
       "4                                          21   \n",
       "...                                       ...   \n",
       "7782                                     Zozo   \n",
       "7783                                   Zubaan   \n",
       "7784                        Zulu Man in Japan   \n",
       "7785                    Zumbo's Just Desserts   \n",
       "7786  ZZ TOP: THAT LITTLE OL' BAND FROM TEXAS   \n",
       "\n",
       "                                                country          date_added  \\\n",
       "0                                              [Brazil]     August 14, 2020   \n",
       "1                                              [Mexico]   December 23, 2016   \n",
       "2                                           [Singapore]   December 20, 2018   \n",
       "3                                       [United States]   November 16, 2017   \n",
       "4                                       [United States]     January 1, 2020   \n",
       "...                                                 ...                 ...   \n",
       "7782  [Sweden,  Czech Republic,  United Kingdom,  De...    October 19, 2020   \n",
       "7783                                            [India]       March 2, 2019   \n",
       "7784                                              [nan]  September 25, 2020   \n",
       "7785                                        [Australia]    October 31, 2020   \n",
       "7786          [United Kingdom,  Canada,  United States]       March 1, 2020   \n",
       "\n",
       "      release_year  \n",
       "0             2020  \n",
       "1             2016  \n",
       "2             2011  \n",
       "3             2009  \n",
       "4             2008  \n",
       "...            ...  \n",
       "7782          2005  \n",
       "7783          2015  \n",
       "7784          2019  \n",
       "7785          2019  \n",
       "7786          2019  \n",
       "\n",
       "[7787 rows x 4 columns]"
      ]
     },
     "execution_count": 40,
     "metadata": {},
     "output_type": "execute_result"
    }
   ],
   "source": [
    "by_country = dataframe[['title', 'country', 'date_added',\n",
    "                        'release_year']].copy()\n",
    "by_country['country'] = by_country['country'].apply(\n",
    "    lambda x: str(x).split(\",\"))\n",
    "by_country"
   ]
  },
  {
   "cell_type": "markdown",
   "metadata": {},
   "source": [
    "Now we can use the `explode` method to expand the records which have multiple countries. "
   ]
  },
  {
   "cell_type": "code",
   "execution_count": 41,
   "metadata": {},
   "outputs": [
    {
     "data": {
      "text/html": [
       "<div>\n",
       "<style scoped>\n",
       "    .dataframe tbody tr th:only-of-type {\n",
       "        vertical-align: middle;\n",
       "    }\n",
       "\n",
       "    .dataframe tbody tr th {\n",
       "        vertical-align: top;\n",
       "    }\n",
       "\n",
       "    .dataframe thead th {\n",
       "        text-align: right;\n",
       "    }\n",
       "</style>\n",
       "<table border=\"1\" class=\"dataframe\">\n",
       "  <thead>\n",
       "    <tr style=\"text-align: right;\">\n",
       "      <th></th>\n",
       "      <th>title</th>\n",
       "      <th>country</th>\n",
       "      <th>date_added</th>\n",
       "      <th>release_year</th>\n",
       "    </tr>\n",
       "  </thead>\n",
       "  <tbody>\n",
       "    <tr>\n",
       "      <th>0</th>\n",
       "      <td>3%</td>\n",
       "      <td>Brazil</td>\n",
       "      <td>August 14, 2020</td>\n",
       "      <td>2020</td>\n",
       "    </tr>\n",
       "    <tr>\n",
       "      <th>1</th>\n",
       "      <td>7:19</td>\n",
       "      <td>Mexico</td>\n",
       "      <td>December 23, 2016</td>\n",
       "      <td>2016</td>\n",
       "    </tr>\n",
       "    <tr>\n",
       "      <th>2</th>\n",
       "      <td>23:59</td>\n",
       "      <td>Singapore</td>\n",
       "      <td>December 20, 2018</td>\n",
       "      <td>2011</td>\n",
       "    </tr>\n",
       "    <tr>\n",
       "      <th>3</th>\n",
       "      <td>9</td>\n",
       "      <td>United States</td>\n",
       "      <td>November 16, 2017</td>\n",
       "      <td>2009</td>\n",
       "    </tr>\n",
       "    <tr>\n",
       "      <th>4</th>\n",
       "      <td>21</td>\n",
       "      <td>United States</td>\n",
       "      <td>January 1, 2020</td>\n",
       "      <td>2008</td>\n",
       "    </tr>\n",
       "    <tr>\n",
       "      <th>...</th>\n",
       "      <td>...</td>\n",
       "      <td>...</td>\n",
       "      <td>...</td>\n",
       "      <td>...</td>\n",
       "    </tr>\n",
       "    <tr>\n",
       "      <th>7784</th>\n",
       "      <td>Zulu Man in Japan</td>\n",
       "      <td>nan</td>\n",
       "      <td>September 25, 2020</td>\n",
       "      <td>2019</td>\n",
       "    </tr>\n",
       "    <tr>\n",
       "      <th>7785</th>\n",
       "      <td>Zumbo's Just Desserts</td>\n",
       "      <td>Australia</td>\n",
       "      <td>October 31, 2020</td>\n",
       "      <td>2019</td>\n",
       "    </tr>\n",
       "    <tr>\n",
       "      <th>7786</th>\n",
       "      <td>ZZ TOP: THAT LITTLE OL' BAND FROM TEXAS</td>\n",
       "      <td>United Kingdom</td>\n",
       "      <td>March 1, 2020</td>\n",
       "      <td>2019</td>\n",
       "    </tr>\n",
       "    <tr>\n",
       "      <th>7786</th>\n",
       "      <td>ZZ TOP: THAT LITTLE OL' BAND FROM TEXAS</td>\n",
       "      <td>Canada</td>\n",
       "      <td>March 1, 2020</td>\n",
       "      <td>2019</td>\n",
       "    </tr>\n",
       "    <tr>\n",
       "      <th>7786</th>\n",
       "      <td>ZZ TOP: THAT LITTLE OL' BAND FROM TEXAS</td>\n",
       "      <td>United States</td>\n",
       "      <td>March 1, 2020</td>\n",
       "      <td>2019</td>\n",
       "    </tr>\n",
       "  </tbody>\n",
       "</table>\n",
       "<p>9574 rows × 4 columns</p>\n",
       "</div>"
      ],
      "text/plain": [
       "                                        title         country  \\\n",
       "0                                          3%          Brazil   \n",
       "1                                        7:19          Mexico   \n",
       "2                                       23:59       Singapore   \n",
       "3                                           9   United States   \n",
       "4                                          21   United States   \n",
       "...                                       ...             ...   \n",
       "7784                        Zulu Man in Japan             nan   \n",
       "7785                    Zumbo's Just Desserts       Australia   \n",
       "7786  ZZ TOP: THAT LITTLE OL' BAND FROM TEXAS  United Kingdom   \n",
       "7786  ZZ TOP: THAT LITTLE OL' BAND FROM TEXAS          Canada   \n",
       "7786  ZZ TOP: THAT LITTLE OL' BAND FROM TEXAS   United States   \n",
       "\n",
       "              date_added  release_year  \n",
       "0        August 14, 2020          2020  \n",
       "1      December 23, 2016          2016  \n",
       "2      December 20, 2018          2011  \n",
       "3      November 16, 2017          2009  \n",
       "4        January 1, 2020          2008  \n",
       "...                  ...           ...  \n",
       "7784  September 25, 2020          2019  \n",
       "7785    October 31, 2020          2019  \n",
       "7786       March 1, 2020          2019  \n",
       "7786       March 1, 2020          2019  \n",
       "7786       March 1, 2020          2019  \n",
       "\n",
       "[9574 rows x 4 columns]"
      ]
     },
     "execution_count": 41,
     "metadata": {},
     "output_type": "execute_result"
    }
   ],
   "source": [
    "expanded_countries = by_country.explode('country')\n",
    "\n",
    "expanded_countries"
   ]
  },
  {
   "cell_type": "markdown",
   "metadata": {},
   "source": [
    "We need to extract the year in which each tv show/movie was added to Netflix from the `date_added` column"
   ]
  },
  {
   "cell_type": "code",
   "execution_count": 42,
   "metadata": {},
   "outputs": [],
   "source": [
    "def parse_time(string_time):\n",
    "    try:\n",
    "        clean = string_time.strip()\n",
    "        parsed = datetime.datetime.strptime(clean, '%B %d, %Y')\n",
    "        return int(parsed.year)\n",
    "\n",
    "    except Exception as e:\n",
    "        return 0"
   ]
  },
  {
   "cell_type": "code",
   "execution_count": 43,
   "metadata": {},
   "outputs": [
    {
     "data": {
      "text/html": [
       "<div>\n",
       "<style scoped>\n",
       "    .dataframe tbody tr th:only-of-type {\n",
       "        vertical-align: middle;\n",
       "    }\n",
       "\n",
       "    .dataframe tbody tr th {\n",
       "        vertical-align: top;\n",
       "    }\n",
       "\n",
       "    .dataframe thead th {\n",
       "        text-align: right;\n",
       "    }\n",
       "</style>\n",
       "<table border=\"1\" class=\"dataframe\">\n",
       "  <thead>\n",
       "    <tr style=\"text-align: right;\">\n",
       "      <th></th>\n",
       "      <th>title</th>\n",
       "      <th>country</th>\n",
       "      <th>date_added</th>\n",
       "      <th>release_year</th>\n",
       "      <th>added_year</th>\n",
       "    </tr>\n",
       "  </thead>\n",
       "  <tbody>\n",
       "    <tr>\n",
       "      <th>0</th>\n",
       "      <td>3%</td>\n",
       "      <td>Brazil</td>\n",
       "      <td>August 14, 2020</td>\n",
       "      <td>2020</td>\n",
       "      <td>2020</td>\n",
       "    </tr>\n",
       "    <tr>\n",
       "      <th>1</th>\n",
       "      <td>7:19</td>\n",
       "      <td>Mexico</td>\n",
       "      <td>December 23, 2016</td>\n",
       "      <td>2016</td>\n",
       "      <td>2016</td>\n",
       "    </tr>\n",
       "    <tr>\n",
       "      <th>2</th>\n",
       "      <td>23:59</td>\n",
       "      <td>Singapore</td>\n",
       "      <td>December 20, 2018</td>\n",
       "      <td>2011</td>\n",
       "      <td>2018</td>\n",
       "    </tr>\n",
       "    <tr>\n",
       "      <th>3</th>\n",
       "      <td>9</td>\n",
       "      <td>United States</td>\n",
       "      <td>November 16, 2017</td>\n",
       "      <td>2009</td>\n",
       "      <td>2017</td>\n",
       "    </tr>\n",
       "    <tr>\n",
       "      <th>4</th>\n",
       "      <td>21</td>\n",
       "      <td>United States</td>\n",
       "      <td>January 1, 2020</td>\n",
       "      <td>2008</td>\n",
       "      <td>2020</td>\n",
       "    </tr>\n",
       "    <tr>\n",
       "      <th>...</th>\n",
       "      <td>...</td>\n",
       "      <td>...</td>\n",
       "      <td>...</td>\n",
       "      <td>...</td>\n",
       "      <td>...</td>\n",
       "    </tr>\n",
       "    <tr>\n",
       "      <th>7784</th>\n",
       "      <td>Zulu Man in Japan</td>\n",
       "      <td>nan</td>\n",
       "      <td>September 25, 2020</td>\n",
       "      <td>2019</td>\n",
       "      <td>2020</td>\n",
       "    </tr>\n",
       "    <tr>\n",
       "      <th>7785</th>\n",
       "      <td>Zumbo's Just Desserts</td>\n",
       "      <td>Australia</td>\n",
       "      <td>October 31, 2020</td>\n",
       "      <td>2019</td>\n",
       "      <td>2020</td>\n",
       "    </tr>\n",
       "    <tr>\n",
       "      <th>7786</th>\n",
       "      <td>ZZ TOP: THAT LITTLE OL' BAND FROM TEXAS</td>\n",
       "      <td>United Kingdom</td>\n",
       "      <td>March 1, 2020</td>\n",
       "      <td>2019</td>\n",
       "      <td>2020</td>\n",
       "    </tr>\n",
       "    <tr>\n",
       "      <th>7786</th>\n",
       "      <td>ZZ TOP: THAT LITTLE OL' BAND FROM TEXAS</td>\n",
       "      <td>Canada</td>\n",
       "      <td>March 1, 2020</td>\n",
       "      <td>2019</td>\n",
       "      <td>2020</td>\n",
       "    </tr>\n",
       "    <tr>\n",
       "      <th>7786</th>\n",
       "      <td>ZZ TOP: THAT LITTLE OL' BAND FROM TEXAS</td>\n",
       "      <td>United States</td>\n",
       "      <td>March 1, 2020</td>\n",
       "      <td>2019</td>\n",
       "      <td>2020</td>\n",
       "    </tr>\n",
       "  </tbody>\n",
       "</table>\n",
       "<p>9564 rows × 5 columns</p>\n",
       "</div>"
      ],
      "text/plain": [
       "                                        title         country  \\\n",
       "0                                          3%          Brazil   \n",
       "1                                        7:19          Mexico   \n",
       "2                                       23:59       Singapore   \n",
       "3                                           9   United States   \n",
       "4                                          21   United States   \n",
       "...                                       ...             ...   \n",
       "7784                        Zulu Man in Japan             nan   \n",
       "7785                    Zumbo's Just Desserts       Australia   \n",
       "7786  ZZ TOP: THAT LITTLE OL' BAND FROM TEXAS  United Kingdom   \n",
       "7786  ZZ TOP: THAT LITTLE OL' BAND FROM TEXAS          Canada   \n",
       "7786  ZZ TOP: THAT LITTLE OL' BAND FROM TEXAS   United States   \n",
       "\n",
       "              date_added  release_year  added_year  \n",
       "0        August 14, 2020          2020        2020  \n",
       "1      December 23, 2016          2016        2016  \n",
       "2      December 20, 2018          2011        2018  \n",
       "3      November 16, 2017          2009        2017  \n",
       "4        January 1, 2020          2008        2020  \n",
       "...                  ...           ...         ...  \n",
       "7784  September 25, 2020          2019        2020  \n",
       "7785    October 31, 2020          2019        2020  \n",
       "7786       March 1, 2020          2019        2020  \n",
       "7786       March 1, 2020          2019        2020  \n",
       "7786       March 1, 2020          2019        2020  \n",
       "\n",
       "[9564 rows x 5 columns]"
      ]
     },
     "execution_count": 43,
     "metadata": {},
     "output_type": "execute_result"
    }
   ],
   "source": [
    "expanded_countries['added_year'] = expanded_countries['date_added'].apply(\n",
    "    parse_time)\n",
    "with_year = expanded_countries[expanded_countries['added_year'] != 0]\n",
    "\n",
    "with_year"
   ]
  },
  {
   "cell_type": "markdown",
   "metadata": {},
   "source": [
    "We get all the added_year values available in our dataframe."
   ]
  },
  {
   "cell_type": "code",
   "execution_count": 44,
   "metadata": {},
   "outputs": [],
   "source": [
    "years = sorted(expanded_countries['added_year'].unique())"
   ]
  },
  {
   "cell_type": "markdown",
   "metadata": {},
   "source": [
    "For each year, we count how many shows/movies are produced by each country and create one larger dataframe containing all aggregate data."
   ]
  },
  {
   "cell_type": "code",
   "execution_count": 45,
   "metadata": {},
   "outputs": [
    {
     "data": {
      "text/html": [
       "<div>\n",
       "<style scoped>\n",
       "    .dataframe tbody tr th:only-of-type {\n",
       "        vertical-align: middle;\n",
       "    }\n",
       "\n",
       "    .dataframe tbody tr th {\n",
       "        vertical-align: top;\n",
       "    }\n",
       "\n",
       "    .dataframe thead th {\n",
       "        text-align: right;\n",
       "    }\n",
       "</style>\n",
       "<table border=\"1\" class=\"dataframe\">\n",
       "  <thead>\n",
       "    <tr style=\"text-align: right;\">\n",
       "      <th></th>\n",
       "      <th>country</th>\n",
       "      <th>number_of_titles</th>\n",
       "      <th>added_year</th>\n",
       "    </tr>\n",
       "  </thead>\n",
       "  <tbody>\n",
       "    <tr>\n",
       "      <th>0</th>\n",
       "      <td>Australia</td>\n",
       "      <td>1</td>\n",
       "      <td>2008</td>\n",
       "    </tr>\n",
       "    <tr>\n",
       "      <th>1</th>\n",
       "      <td>Japan</td>\n",
       "      <td>1</td>\n",
       "      <td>2008</td>\n",
       "    </tr>\n",
       "    <tr>\n",
       "      <th>2</th>\n",
       "      <td>United Kingdom</td>\n",
       "      <td>1</td>\n",
       "      <td>2008</td>\n",
       "    </tr>\n",
       "    <tr>\n",
       "      <th>3</th>\n",
       "      <td>United States</td>\n",
       "      <td>6</td>\n",
       "      <td>2008</td>\n",
       "    </tr>\n",
       "    <tr>\n",
       "      <th>4</th>\n",
       "      <td>nan</td>\n",
       "      <td>1</td>\n",
       "      <td>2008</td>\n",
       "    </tr>\n",
       "    <tr>\n",
       "      <th>...</th>\n",
       "      <td>...</td>\n",
       "      <td>...</td>\n",
       "      <td>...</td>\n",
       "    </tr>\n",
       "    <tr>\n",
       "      <th>184</th>\n",
       "      <td>Venezuela</td>\n",
       "      <td>2</td>\n",
       "      <td>2021</td>\n",
       "    </tr>\n",
       "    <tr>\n",
       "      <th>185</th>\n",
       "      <td>Vietnam</td>\n",
       "      <td>5</td>\n",
       "      <td>2021</td>\n",
       "    </tr>\n",
       "    <tr>\n",
       "      <th>186</th>\n",
       "      <td>West Germany</td>\n",
       "      <td>1</td>\n",
       "      <td>2021</td>\n",
       "    </tr>\n",
       "    <tr>\n",
       "      <th>187</th>\n",
       "      <td>Zimbabwe</td>\n",
       "      <td>1</td>\n",
       "      <td>2021</td>\n",
       "    </tr>\n",
       "    <tr>\n",
       "      <th>188</th>\n",
       "      <td>nan</td>\n",
       "      <td>492</td>\n",
       "      <td>2021</td>\n",
       "    </tr>\n",
       "  </tbody>\n",
       "</table>\n",
       "<p>850 rows × 3 columns</p>\n",
       "</div>"
      ],
      "text/plain": [
       "            country  number_of_titles  added_year\n",
       "0         Australia                 1        2008\n",
       "1             Japan                 1        2008\n",
       "2    United Kingdom                 1        2008\n",
       "3     United States                 6        2008\n",
       "4               nan                 1        2008\n",
       "..              ...               ...         ...\n",
       "184       Venezuela                 2        2021\n",
       "185         Vietnam                 5        2021\n",
       "186    West Germany                 1        2021\n",
       "187        Zimbabwe                 1        2021\n",
       "188             nan               492        2021\n",
       "\n",
       "[850 rows x 3 columns]"
      ]
     },
     "execution_count": 45,
     "metadata": {},
     "output_type": "execute_result"
    }
   ],
   "source": [
    "counts_by_year_and_country = pd.DataFrame()\n",
    "\n",
    "for year in years:\n",
    "\n",
    "    for_year = expanded_countries[\n",
    "        expanded_countries['added_year'] < year].copy()\n",
    "\n",
    "    for_year = for_year[['country', 'title']]\n",
    "\n",
    "    counts_by_country = for_year.groupby(\n",
    "        by='country', as_index=False).agg(number_of_titles=('title', 'count'))\n",
    "    counts_by_country['added_year'] = year\n",
    "    counts_by_year_and_country = pd.concat(\n",
    "        [counts_by_year_and_country, counts_by_country])\n",
    "\n",
    "counts_by_year_and_country"
   ]
  },
  {
   "cell_type": "code",
   "execution_count": 46,
   "metadata": {},
   "outputs": [
    {
     "data": {
      "text/html": [
       "<div>\n",
       "<style scoped>\n",
       "    .dataframe tbody tr th:only-of-type {\n",
       "        vertical-align: middle;\n",
       "    }\n",
       "\n",
       "    .dataframe tbody tr th {\n",
       "        vertical-align: top;\n",
       "    }\n",
       "\n",
       "    .dataframe thead th {\n",
       "        text-align: right;\n",
       "    }\n",
       "</style>\n",
       "<table border=\"1\" class=\"dataframe\">\n",
       "  <thead>\n",
       "    <tr style=\"text-align: right;\">\n",
       "      <th></th>\n",
       "      <th>country</th>\n",
       "      <th>number_of_titles</th>\n",
       "      <th>added_year</th>\n",
       "    </tr>\n",
       "  </thead>\n",
       "  <tbody>\n",
       "    <tr>\n",
       "      <th>3</th>\n",
       "      <td>United States</td>\n",
       "      <td>6</td>\n",
       "      <td>2008</td>\n",
       "    </tr>\n",
       "    <tr>\n",
       "      <th>3</th>\n",
       "      <td>United States</td>\n",
       "      <td>8</td>\n",
       "      <td>2009</td>\n",
       "    </tr>\n",
       "    <tr>\n",
       "      <th>4</th>\n",
       "      <td>United States</td>\n",
       "      <td>9</td>\n",
       "      <td>2010</td>\n",
       "    </tr>\n",
       "    <tr>\n",
       "      <th>4</th>\n",
       "      <td>United States</td>\n",
       "      <td>10</td>\n",
       "      <td>2011</td>\n",
       "    </tr>\n",
       "    <tr>\n",
       "      <th>7</th>\n",
       "      <td>United States</td>\n",
       "      <td>22</td>\n",
       "      <td>2012</td>\n",
       "    </tr>\n",
       "    <tr>\n",
       "      <th>7</th>\n",
       "      <td>United States</td>\n",
       "      <td>25</td>\n",
       "      <td>2013</td>\n",
       "    </tr>\n",
       "    <tr>\n",
       "      <th>10</th>\n",
       "      <td>United States</td>\n",
       "      <td>35</td>\n",
       "      <td>2014</td>\n",
       "    </tr>\n",
       "    <tr>\n",
       "      <th>18</th>\n",
       "      <td>United States</td>\n",
       "      <td>54</td>\n",
       "      <td>2015</td>\n",
       "    </tr>\n",
       "    <tr>\n",
       "      <th>31</th>\n",
       "      <td>United States</td>\n",
       "      <td>111</td>\n",
       "      <td>2016</td>\n",
       "    </tr>\n",
       "    <tr>\n",
       "      <th>81</th>\n",
       "      <td>United States</td>\n",
       "      <td>291</td>\n",
       "      <td>2017</td>\n",
       "    </tr>\n",
       "    <tr>\n",
       "      <th>132</th>\n",
       "      <td>United States</td>\n",
       "      <td>703</td>\n",
       "      <td>2018</td>\n",
       "    </tr>\n",
       "    <tr>\n",
       "      <th>154</th>\n",
       "      <td>United States</td>\n",
       "      <td>1219</td>\n",
       "      <td>2019</td>\n",
       "    </tr>\n",
       "    <tr>\n",
       "      <th>169</th>\n",
       "      <td>United States</td>\n",
       "      <td>2050</td>\n",
       "      <td>2020</td>\n",
       "    </tr>\n",
       "    <tr>\n",
       "      <th>182</th>\n",
       "      <td>United States</td>\n",
       "      <td>2819</td>\n",
       "      <td>2021</td>\n",
       "    </tr>\n",
       "  </tbody>\n",
       "</table>\n",
       "</div>"
      ],
      "text/plain": [
       "           country  number_of_titles  added_year\n",
       "3    United States                 6        2008\n",
       "3    United States                 8        2009\n",
       "4    United States                 9        2010\n",
       "4    United States                10        2011\n",
       "7    United States                22        2012\n",
       "7    United States                25        2013\n",
       "10   United States                35        2014\n",
       "18   United States                54        2015\n",
       "31   United States               111        2016\n",
       "81   United States               291        2017\n",
       "132  United States               703        2018\n",
       "154  United States              1219        2019\n",
       "169  United States              2050        2020\n",
       "182  United States              2819        2021"
      ]
     },
     "execution_count": 46,
     "metadata": {},
     "output_type": "execute_result"
    }
   ],
   "source": [
    "counts_by_year_and_country[counts_by_year_and_country['country'] == \"United States\"]"
   ]
  },
  {
   "cell_type": "code",
   "execution_count": 47,
   "metadata": {},
   "outputs": [
    {
     "data": {
      "text/html": [
       "<div>\n",
       "<style scoped>\n",
       "    .dataframe tbody tr th:only-of-type {\n",
       "        vertical-align: middle;\n",
       "    }\n",
       "\n",
       "    .dataframe tbody tr th {\n",
       "        vertical-align: top;\n",
       "    }\n",
       "\n",
       "    .dataframe thead th {\n",
       "        text-align: right;\n",
       "    }\n",
       "</style>\n",
       "<table border=\"1\" class=\"dataframe\">\n",
       "  <thead>\n",
       "    <tr style=\"text-align: right;\">\n",
       "      <th></th>\n",
       "      <th>country</th>\n",
       "      <th>number_of_titles</th>\n",
       "      <th>added_year</th>\n",
       "    </tr>\n",
       "  </thead>\n",
       "  <tbody>\n",
       "    <tr>\n",
       "      <th>0</th>\n",
       "      <td>France</td>\n",
       "      <td>1</td>\n",
       "      <td>2012</td>\n",
       "    </tr>\n",
       "    <tr>\n",
       "      <th>1</th>\n",
       "      <td>Mexico</td>\n",
       "      <td>1</td>\n",
       "      <td>2012</td>\n",
       "    </tr>\n",
       "    <tr>\n",
       "      <th>2</th>\n",
       "      <td>Australia</td>\n",
       "      <td>1</td>\n",
       "      <td>2012</td>\n",
       "    </tr>\n",
       "    <tr>\n",
       "      <th>3</th>\n",
       "      <td>Denmark</td>\n",
       "      <td>1</td>\n",
       "      <td>2012</td>\n",
       "    </tr>\n",
       "    <tr>\n",
       "      <th>4</th>\n",
       "      <td>Japan</td>\n",
       "      <td>1</td>\n",
       "      <td>2012</td>\n",
       "    </tr>\n",
       "    <tr>\n",
       "      <th>5</th>\n",
       "      <td>Spain</td>\n",
       "      <td>1</td>\n",
       "      <td>2012</td>\n",
       "    </tr>\n",
       "    <tr>\n",
       "      <th>6</th>\n",
       "      <td>United Kingdom</td>\n",
       "      <td>1</td>\n",
       "      <td>2012</td>\n",
       "    </tr>\n",
       "    <tr>\n",
       "      <th>7</th>\n",
       "      <td>United States</td>\n",
       "      <td>22</td>\n",
       "      <td>2012</td>\n",
       "    </tr>\n",
       "    <tr>\n",
       "      <th>8</th>\n",
       "      <td>nan</td>\n",
       "      <td>1</td>\n",
       "      <td>2012</td>\n",
       "    </tr>\n",
       "  </tbody>\n",
       "</table>\n",
       "</div>"
      ],
      "text/plain": [
       "          country  number_of_titles  added_year\n",
       "0          France                 1        2012\n",
       "1          Mexico                 1        2012\n",
       "2       Australia                 1        2012\n",
       "3         Denmark                 1        2012\n",
       "4           Japan                 1        2012\n",
       "5           Spain                 1        2012\n",
       "6  United Kingdom                 1        2012\n",
       "7   United States                22        2012\n",
       "8             nan                 1        2012"
      ]
     },
     "execution_count": 47,
     "metadata": {},
     "output_type": "execute_result"
    }
   ],
   "source": [
    "counts_by_year_and_country[counts_by_year_and_country['added_year'] == 2012]"
   ]
  },
  {
   "cell_type": "markdown",
   "metadata": {},
   "source": [
    "Now we can plot this data on a map and also use the `animation_frame` property to have it variable year."
   ]
  },
  {
   "cell_type": "code",
   "execution_count": 48,
   "metadata": {},
   "outputs": [
    {
     "data": {
      "application/vnd.plotly.v1+json": {
       "config": {
        "plotlyServerURL": "https://plot.ly"
       },
       "data": [
        {
         "coloraxis": "coloraxis",
         "customdata": [
          [
           "Australia",
           1,
           2008
          ],
          [
           "Japan",
           1,
           2008
          ],
          [
           "United Kingdom",
           1,
           2008
          ],
          [
           "United States",
           6,
           2008
          ],
          [
           "nan",
           1,
           2008
          ]
         ],
         "geo": "geo",
         "hovertemplate": "<b>%{hovertext}</b><br><br>number_of_titles=%{z}<extra></extra>",
         "hovertext": [
          "Australia",
          "Japan",
          "United Kingdom",
          "United States",
          "nan"
         ],
         "locationmode": "country names",
         "locations": [
          "Australia",
          "Japan",
          "United Kingdom",
          "United States",
          "nan"
         ],
         "name": "",
         "type": "choropleth",
         "z": [
          1,
          1,
          1,
          6,
          1
         ]
        }
       ],
       "frames": [
        {
         "data": [
          {
           "coloraxis": "coloraxis",
           "customdata": [
            [
             "Australia",
             1,
             2008
            ],
            [
             "Japan",
             1,
             2008
            ],
            [
             "United Kingdom",
             1,
             2008
            ],
            [
             "United States",
             6,
             2008
            ],
            [
             "nan",
             1,
             2008
            ]
           ],
           "geo": "geo",
           "hovertemplate": "<b>%{hovertext}</b><br><br>number_of_titles=%{z}<extra></extra>",
           "hovertext": [
            "Australia",
            "Japan",
            "United Kingdom",
            "United States",
            "nan"
           ],
           "locationmode": "country names",
           "locations": [
            "Australia",
            "Japan",
            "United Kingdom",
            "United States",
            "nan"
           ],
           "name": "",
           "type": "choropleth",
           "z": [
            1,
            1,
            1,
            6,
            1
           ]
          }
         ],
         "name": "2008"
        },
        {
         "data": [
          {
           "coloraxis": "coloraxis",
           "customdata": [
            [
             "Australia",
             1,
             2009
            ],
            [
             "Japan",
             1,
             2009
            ],
            [
             "United Kingdom",
             1,
             2009
            ],
            [
             "United States",
             8,
             2009
            ],
            [
             "nan",
             1,
             2009
            ]
           ],
           "geo": "geo",
           "hovertemplate": "<b>%{hovertext}</b><br><br>number_of_titles=%{z}<extra></extra>",
           "hovertext": [
            "Australia",
            "Japan",
            "United Kingdom",
            "United States",
            "nan"
           ],
           "locationmode": "country names",
           "locations": [
            "Australia",
            "Japan",
            "United Kingdom",
            "United States",
            "nan"
           ],
           "name": "",
           "type": "choropleth",
           "z": [
            1,
            1,
            1,
            8,
            1
           ]
          }
         ],
         "name": "2009"
        },
        {
         "data": [
          {
           "coloraxis": "coloraxis",
           "customdata": [
            [
             "Australia",
             1,
             2010
            ],
            [
             "Denmark",
             1,
             2010
            ],
            [
             "Japan",
             1,
             2010
            ],
            [
             "United Kingdom",
             1,
             2010
            ],
            [
             "United States",
             9,
             2010
            ],
            [
             "nan",
             1,
             2010
            ]
           ],
           "geo": "geo",
           "hovertemplate": "<b>%{hovertext}</b><br><br>number_of_titles=%{z}<extra></extra>",
           "hovertext": [
            "Australia",
            "Denmark",
            "Japan",
            "United Kingdom",
            "United States",
            "nan"
           ],
           "locationmode": "country names",
           "locations": [
            "Australia",
            "Denmark",
            "Japan",
            "United Kingdom",
            "United States",
            "nan"
           ],
           "name": "",
           "type": "choropleth",
           "z": [
            1,
            1,
            1,
            1,
            9,
            1
           ]
          }
         ],
         "name": "2010"
        },
        {
         "data": [
          {
           "coloraxis": "coloraxis",
           "customdata": [
            [
             "Australia",
             1,
             2011
            ],
            [
             "Denmark",
             1,
             2011
            ],
            [
             "Japan",
             1,
             2011
            ],
            [
             "United Kingdom",
             1,
             2011
            ],
            [
             "United States",
             10,
             2011
            ],
            [
             "nan",
             1,
             2011
            ]
           ],
           "geo": "geo",
           "hovertemplate": "<b>%{hovertext}</b><br><br>number_of_titles=%{z}<extra></extra>",
           "hovertext": [
            "Australia",
            "Denmark",
            "Japan",
            "United Kingdom",
            "United States",
            "nan"
           ],
           "locationmode": "country names",
           "locations": [
            "Australia",
            "Denmark",
            "Japan",
            "United Kingdom",
            "United States",
            "nan"
           ],
           "name": "",
           "type": "choropleth",
           "z": [
            1,
            1,
            1,
            1,
            10,
            1
           ]
          }
         ],
         "name": "2011"
        },
        {
         "data": [
          {
           "coloraxis": "coloraxis",
           "customdata": [
            [
             " France",
             1,
             2012
            ],
            [
             " Mexico",
             1,
             2012
            ],
            [
             "Australia",
             1,
             2012
            ],
            [
             "Denmark",
             1,
             2012
            ],
            [
             "Japan",
             1,
             2012
            ],
            [
             "Spain",
             1,
             2012
            ],
            [
             "United Kingdom",
             1,
             2012
            ],
            [
             "United States",
             22,
             2012
            ],
            [
             "nan",
             1,
             2012
            ]
           ],
           "geo": "geo",
           "hovertemplate": "<b>%{hovertext}</b><br><br>number_of_titles=%{z}<extra></extra>",
           "hovertext": [
            " France",
            " Mexico",
            "Australia",
            "Denmark",
            "Japan",
            "Spain",
            "United Kingdom",
            "United States",
            "nan"
           ],
           "locationmode": "country names",
           "locations": [
            " France",
            " Mexico",
            "Australia",
            "Denmark",
            "Japan",
            "Spain",
            "United Kingdom",
            "United States",
            "nan"
           ],
           "name": "",
           "type": "choropleth",
           "z": [
            1,
            1,
            1,
            1,
            1,
            1,
            1,
            22,
            1
           ]
          }
         ],
         "name": "2012"
        },
        {
         "data": [
          {
           "coloraxis": "coloraxis",
           "customdata": [
            [
             " France",
             1,
             2013
            ],
            [
             " Mexico",
             2,
             2013
            ],
            [
             "Australia",
             1,
             2013
            ],
            [
             "Denmark",
             1,
             2013
            ],
            [
             "Japan",
             1,
             2013
            ],
            [
             "Spain",
             1,
             2013
            ],
            [
             "United Kingdom",
             1,
             2013
            ],
            [
             "United States",
             25,
             2013
            ],
            [
             "nan",
             1,
             2013
            ]
           ],
           "geo": "geo",
           "hovertemplate": "<b>%{hovertext}</b><br><br>number_of_titles=%{z}<extra></extra>",
           "hovertext": [
            " France",
            " Mexico",
            "Australia",
            "Denmark",
            "Japan",
            "Spain",
            "United Kingdom",
            "United States",
            "nan"
           ],
           "locationmode": "country names",
           "locations": [
            " France",
            " Mexico",
            "Australia",
            "Denmark",
            "Japan",
            "Spain",
            "United Kingdom",
            "United States",
            "nan"
           ],
           "name": "",
           "type": "choropleth",
           "z": [
            1,
            2,
            1,
            1,
            1,
            1,
            1,
            25,
            1
           ]
          }
         ],
         "name": "2013"
        },
        {
         "data": [
          {
           "coloraxis": "coloraxis",
           "customdata": [
            [
             " France",
             1,
             2014
            ],
            [
             " Ireland",
             1,
             2014
            ],
            [
             " Mexico",
             2,
             2014
            ],
            [
             " United Kingdom",
             1,
             2014
            ],
            [
             "Australia",
             1,
             2014
            ],
            [
             "Canada",
             1,
             2014
            ],
            [
             "Denmark",
             1,
             2014
            ],
            [
             "Japan",
             1,
             2014
            ],
            [
             "Spain",
             1,
             2014
            ],
            [
             "United Kingdom",
             1,
             2014
            ],
            [
             "United States",
             35,
             2014
            ],
            [
             "nan",
             1,
             2014
            ]
           ],
           "geo": "geo",
           "hovertemplate": "<b>%{hovertext}</b><br><br>number_of_titles=%{z}<extra></extra>",
           "hovertext": [
            " France",
            " Ireland",
            " Mexico",
            " United Kingdom",
            "Australia",
            "Canada",
            "Denmark",
            "Japan",
            "Spain",
            "United Kingdom",
            "United States",
            "nan"
           ],
           "locationmode": "country names",
           "locations": [
            " France",
            " Ireland",
            " Mexico",
            " United Kingdom",
            "Australia",
            "Canada",
            "Denmark",
            "Japan",
            "Spain",
            "United Kingdom",
            "United States",
            "nan"
           ],
           "name": "",
           "type": "choropleth",
           "z": [
            1,
            1,
            2,
            1,
            1,
            1,
            1,
            1,
            1,
            1,
            35,
            1
           ]
          }
         ],
         "name": "2014"
        },
        {
         "data": [
          {
           "coloraxis": "coloraxis",
           "customdata": [
            [
             "",
             1,
             2015
            ],
            [
             " Bermuda",
             1,
             2015
            ],
            [
             " Canada",
             2,
             2015
            ],
            [
             " Ecuador",
             1,
             2015
            ],
            [
             " Egypt",
             1,
             2015
            ],
            [
             " France",
             1,
             2015
            ],
            [
             " Hungary",
             1,
             2015
            ],
            [
             " Ireland",
             2,
             2015
            ],
            [
             " Mexico",
             2,
             2015
            ],
            [
             " United Kingdom",
             1,
             2015
            ],
            [
             " United States",
             4,
             2015
            ],
            [
             "Australia",
             1,
             2015
            ],
            [
             "Canada",
             3,
             2015
            ],
            [
             "Denmark",
             1,
             2015
            ],
            [
             "Japan",
             1,
             2015
            ],
            [
             "Norway",
             1,
             2015
            ],
            [
             "Spain",
             1,
             2015
            ],
            [
             "United Kingdom",
             4,
             2015
            ],
            [
             "United States",
             54,
             2015
            ],
            [
             "nan",
             1,
             2015
            ]
           ],
           "geo": "geo",
           "hovertemplate": "<b>%{hovertext}</b><br><br>number_of_titles=%{z}<extra></extra>",
           "hovertext": [
            "",
            " Bermuda",
            " Canada",
            " Ecuador",
            " Egypt",
            " France",
            " Hungary",
            " Ireland",
            " Mexico",
            " United Kingdom",
            " United States",
            "Australia",
            "Canada",
            "Denmark",
            "Japan",
            "Norway",
            "Spain",
            "United Kingdom",
            "United States",
            "nan"
           ],
           "locationmode": "country names",
           "locations": [
            "",
            " Bermuda",
            " Canada",
            " Ecuador",
            " Egypt",
            " France",
            " Hungary",
            " Ireland",
            " Mexico",
            " United Kingdom",
            " United States",
            "Australia",
            "Canada",
            "Denmark",
            "Japan",
            "Norway",
            "Spain",
            "United Kingdom",
            "United States",
            "nan"
           ],
           "name": "",
           "type": "choropleth",
           "z": [
            1,
            1,
            2,
            1,
            1,
            1,
            1,
            2,
            2,
            1,
            4,
            1,
            3,
            1,
            1,
            1,
            1,
            4,
            54,
            1
           ]
          }
         ],
         "name": "2015"
        },
        {
         "data": [
          {
           "coloraxis": "coloraxis",
           "customdata": [
            [
             "",
             1,
             2016
            ],
            [
             " Australia",
             2,
             2016
            ],
            [
             " Belgium",
             2,
             2016
            ],
            [
             " Bermuda",
             1,
             2016
            ],
            [
             " Canada",
             4,
             2016
            ],
            [
             " China",
             1,
             2016
            ],
            [
             " Ecuador",
             1,
             2016
            ],
            [
             " Egypt",
             1,
             2016
            ],
            [
             " France",
             6,
             2016
            ],
            [
             " Hungary",
             1,
             2016
            ],
            [
             " Ireland",
             4,
             2016
            ],
            [
             " Italy",
             2,
             2016
            ],
            [
             " Mexico",
             2,
             2016
            ],
            [
             " New Zealand",
             1,
             2016
            ],
            [
             " Ukraine",
             1,
             2016
            ],
            [
             " United Kingdom",
             5,
             2016
            ],
            [
             " United States",
             7,
             2016
            ],
            [
             "Australia",
             4,
             2016
            ],
            [
             "Belgium",
             1,
             2016
            ],
            [
             "Canada",
             9,
             2016
            ],
            [
             "Denmark",
             1,
             2016
            ],
            [
             "France",
             4,
             2016
            ],
            [
             "Germany",
             2,
             2016
            ],
            [
             "Italy",
             1,
             2016
            ],
            [
             "Japan",
             2,
             2016
            ],
            [
             "Mexico",
             1,
             2016
            ],
            [
             "New Zealand",
             1,
             2016
            ],
            [
             "Nigeria",
             1,
             2016
            ],
            [
             "Norway",
             2,
             2016
            ],
            [
             "Spain",
             1,
             2016
            ],
            [
             "United Kingdom",
             8,
             2016
            ],
            [
             "United States",
             111,
             2016
            ],
            [
             "nan",
             6,
             2016
            ]
           ],
           "geo": "geo",
           "hovertemplate": "<b>%{hovertext}</b><br><br>number_of_titles=%{z}<extra></extra>",
           "hovertext": [
            "",
            " Australia",
            " Belgium",
            " Bermuda",
            " Canada",
            " China",
            " Ecuador",
            " Egypt",
            " France",
            " Hungary",
            " Ireland",
            " Italy",
            " Mexico",
            " New Zealand",
            " Ukraine",
            " United Kingdom",
            " United States",
            "Australia",
            "Belgium",
            "Canada",
            "Denmark",
            "France",
            "Germany",
            "Italy",
            "Japan",
            "Mexico",
            "New Zealand",
            "Nigeria",
            "Norway",
            "Spain",
            "United Kingdom",
            "United States",
            "nan"
           ],
           "locationmode": "country names",
           "locations": [
            "",
            " Australia",
            " Belgium",
            " Bermuda",
            " Canada",
            " China",
            " Ecuador",
            " Egypt",
            " France",
            " Hungary",
            " Ireland",
            " Italy",
            " Mexico",
            " New Zealand",
            " Ukraine",
            " United Kingdom",
            " United States",
            "Australia",
            "Belgium",
            "Canada",
            "Denmark",
            "France",
            "Germany",
            "Italy",
            "Japan",
            "Mexico",
            "New Zealand",
            "Nigeria",
            "Norway",
            "Spain",
            "United Kingdom",
            "United States",
            "nan"
           ],
           "name": "",
           "type": "choropleth",
           "z": [
            1,
            2,
            2,
            1,
            4,
            1,
            1,
            1,
            6,
            1,
            4,
            2,
            2,
            1,
            1,
            5,
            7,
            4,
            1,
            9,
            1,
            4,
            2,
            1,
            2,
            1,
            1,
            1,
            2,
            1,
            8,
            111,
            6
           ]
          }
         ],
         "name": "2016"
        },
        {
         "data": [
          {
           "coloraxis": "coloraxis",
           "customdata": [
            [
             "",
             1,
             2017
            ],
            [
             " Australia",
             4,
             2017
            ],
            [
             " Azerbaijan",
             1,
             2017
            ],
            [
             " Belgium",
             5,
             2017
            ],
            [
             " Bermuda",
             1,
             2017
            ],
            [
             " Canada",
             13,
             2017
            ],
            [
             " Chile",
             1,
             2017
            ],
            [
             " China",
             4,
             2017
            ],
            [
             " Cuba",
             1,
             2017
            ],
            [
             " Denmark",
             1,
             2017
            ],
            [
             " Ecuador",
             1,
             2017
            ],
            [
             " Egypt",
             1,
             2017
            ],
            [
             " Finland",
             1,
             2017
            ],
            [
             " France",
             19,
             2017
            ],
            [
             " Germany",
             9,
             2017
            ],
            [
             " Greece",
             5,
             2017
            ],
            [
             " Hong Kong",
             1,
             2017
            ],
            [
             " Hungary",
             2,
             2017
            ],
            [
             " India",
             2,
             2017
            ],
            [
             " Indonesia",
             1,
             2017
            ],
            [
             " Ireland",
             5,
             2017
            ],
            [
             " Israel",
             1,
             2017
            ],
            [
             " Italy",
             2,
             2017
            ],
            [
             " Japan",
             12,
             2017
            ],
            [
             " Jordan",
             1,
             2017
            ],
            [
             " Kazakhstan",
             1,
             2017
            ],
            [
             " Mexico",
             2,
             2017
            ],
            [
             " Montenegro",
             1,
             2017
            ],
            [
             " Netherlands",
             4,
             2017
            ],
            [
             " New Zealand",
             4,
             2017
            ],
            [
             " Norway",
             2,
             2017
            ],
            [
             " Peru",
             1,
             2017
            ],
            [
             " Qatar",
             1,
             2017
            ],
            [
             " Russia",
             1,
             2017
            ],
            [
             " Serbia",
             1,
             2017
            ],
            [
             " Slovenia",
             1,
             2017
            ],
            [
             " South Africa",
             2,
             2017
            ],
            [
             " South Korea",
             2,
             2017
            ],
            [
             " Spain",
             5,
             2017
            ],
            [
             " Sweden",
             1,
             2017
            ],
            [
             " Ukraine",
             1,
             2017
            ],
            [
             " United Kingdom",
             14,
             2017
            ],
            [
             " United States",
             31,
             2017
            ],
            [
             " Zimbabwe",
             1,
             2017
            ],
            [
             "Argentina",
             3,
             2017
            ],
            [
             "Australia",
             11,
             2017
            ],
            [
             "Austria",
             1,
             2017
            ],
            [
             "Belgium",
             2,
             2017
            ],
            [
             "Brazil",
             2,
             2017
            ],
            [
             "Canada",
             31,
             2017
            ],
            [
             "Chile",
             1,
             2017
            ],
            [
             "China",
             6,
             2017
            ],
            [
             "Colombia",
             2,
             2017
            ],
            [
             "Croatia",
             1,
             2017
            ],
            [
             "Denmark",
             7,
             2017
            ],
            [
             "France",
             20,
             2017
            ],
            [
             "Germany",
             7,
             2017
            ],
            [
             "Hong Kong",
             3,
             2017
            ],
            [
             "Iceland",
             1,
             2017
            ],
            [
             "India",
             12,
             2017
            ],
            [
             "Ireland",
             3,
             2017
            ],
            [
             "Israel",
             2,
             2017
            ],
            [
             "Italy",
             4,
             2017
            ],
            [
             "Japan",
             21,
             2017
            ],
            [
             "Mexico",
             10,
             2017
            ],
            [
             "Netherlands",
             4,
             2017
            ],
            [
             "New Zealand",
             2,
             2017
            ],
            [
             "Nigeria",
             2,
             2017
            ],
            [
             "Norway",
             5,
             2017
            ],
            [
             "Pakistan",
             4,
             2017
            ],
            [
             "Peru",
             2,
             2017
            ],
            [
             "Poland",
             1,
             2017
            ],
            [
             "Russia",
             1,
             2017
            ],
            [
             "South Korea",
             9,
             2017
            ],
            [
             "Spain",
             13,
             2017
            ],
            [
             "Sweden",
             1,
             2017
            ],
            [
             "Switzerland",
             1,
             2017
            ],
            [
             "Taiwan",
             29,
             2017
            ],
            [
             "Turkey",
             4,
             2017
            ],
            [
             "United Arab Emirates",
             1,
             2017
            ],
            [
             "United Kingdom",
             53,
             2017
            ],
            [
             "United States",
             291,
             2017
            ],
            [
             "nan",
             25,
             2017
            ]
           ],
           "geo": "geo",
           "hovertemplate": "<b>%{hovertext}</b><br><br>number_of_titles=%{z}<extra></extra>",
           "hovertext": [
            "",
            " Australia",
            " Azerbaijan",
            " Belgium",
            " Bermuda",
            " Canada",
            " Chile",
            " China",
            " Cuba",
            " Denmark",
            " Ecuador",
            " Egypt",
            " Finland",
            " France",
            " Germany",
            " Greece",
            " Hong Kong",
            " Hungary",
            " India",
            " Indonesia",
            " Ireland",
            " Israel",
            " Italy",
            " Japan",
            " Jordan",
            " Kazakhstan",
            " Mexico",
            " Montenegro",
            " Netherlands",
            " New Zealand",
            " Norway",
            " Peru",
            " Qatar",
            " Russia",
            " Serbia",
            " Slovenia",
            " South Africa",
            " South Korea",
            " Spain",
            " Sweden",
            " Ukraine",
            " United Kingdom",
            " United States",
            " Zimbabwe",
            "Argentina",
            "Australia",
            "Austria",
            "Belgium",
            "Brazil",
            "Canada",
            "Chile",
            "China",
            "Colombia",
            "Croatia",
            "Denmark",
            "France",
            "Germany",
            "Hong Kong",
            "Iceland",
            "India",
            "Ireland",
            "Israel",
            "Italy",
            "Japan",
            "Mexico",
            "Netherlands",
            "New Zealand",
            "Nigeria",
            "Norway",
            "Pakistan",
            "Peru",
            "Poland",
            "Russia",
            "South Korea",
            "Spain",
            "Sweden",
            "Switzerland",
            "Taiwan",
            "Turkey",
            "United Arab Emirates",
            "United Kingdom",
            "United States",
            "nan"
           ],
           "locationmode": "country names",
           "locations": [
            "",
            " Australia",
            " Azerbaijan",
            " Belgium",
            " Bermuda",
            " Canada",
            " Chile",
            " China",
            " Cuba",
            " Denmark",
            " Ecuador",
            " Egypt",
            " Finland",
            " France",
            " Germany",
            " Greece",
            " Hong Kong",
            " Hungary",
            " India",
            " Indonesia",
            " Ireland",
            " Israel",
            " Italy",
            " Japan",
            " Jordan",
            " Kazakhstan",
            " Mexico",
            " Montenegro",
            " Netherlands",
            " New Zealand",
            " Norway",
            " Peru",
            " Qatar",
            " Russia",
            " Serbia",
            " Slovenia",
            " South Africa",
            " South Korea",
            " Spain",
            " Sweden",
            " Ukraine",
            " United Kingdom",
            " United States",
            " Zimbabwe",
            "Argentina",
            "Australia",
            "Austria",
            "Belgium",
            "Brazil",
            "Canada",
            "Chile",
            "China",
            "Colombia",
            "Croatia",
            "Denmark",
            "France",
            "Germany",
            "Hong Kong",
            "Iceland",
            "India",
            "Ireland",
            "Israel",
            "Italy",
            "Japan",
            "Mexico",
            "Netherlands",
            "New Zealand",
            "Nigeria",
            "Norway",
            "Pakistan",
            "Peru",
            "Poland",
            "Russia",
            "South Korea",
            "Spain",
            "Sweden",
            "Switzerland",
            "Taiwan",
            "Turkey",
            "United Arab Emirates",
            "United Kingdom",
            "United States",
            "nan"
           ],
           "name": "",
           "type": "choropleth",
           "z": [
            1,
            4,
            1,
            5,
            1,
            13,
            1,
            4,
            1,
            1,
            1,
            1,
            1,
            19,
            9,
            5,
            1,
            2,
            2,
            1,
            5,
            1,
            2,
            12,
            1,
            1,
            2,
            1,
            4,
            4,
            2,
            1,
            1,
            1,
            1,
            1,
            2,
            2,
            5,
            1,
            1,
            14,
            31,
            1,
            3,
            11,
            1,
            2,
            2,
            31,
            1,
            6,
            2,
            1,
            7,
            20,
            7,
            3,
            1,
            12,
            3,
            2,
            4,
            21,
            10,
            4,
            2,
            2,
            5,
            4,
            2,
            1,
            1,
            9,
            13,
            1,
            1,
            29,
            4,
            1,
            53,
            291,
            25
           ]
          }
         ],
         "name": "2017"
        },
        {
         "data": [
          {
           "coloraxis": "coloraxis",
           "customdata": [
            [
             "",
             1,
             2018
            ],
            [
             " Afghanistan",
             1,
             2018
            ],
            [
             " Argentina",
             6,
             2018
            ],
            [
             " Armenia",
             1,
             2018
            ],
            [
             " Australia",
             9,
             2018
            ],
            [
             " Austria",
             1,
             2018
            ],
            [
             " Azerbaijan",
             1,
             2018
            ],
            [
             " Belgium",
             21,
             2018
            ],
            [
             " Bermuda",
             1,
             2018
            ],
            [
             " Brazil",
             2,
             2018
            ],
            [
             " Bulgaria",
             1,
             2018
            ],
            [
             " Cambodia",
             1,
             2018
            ],
            [
             " Canada",
             34,
             2018
            ],
            [
             " Chile",
             2,
             2018
            ],
            [
             " China",
             9,
             2018
            ],
            [
             " Colombia",
             2,
             2018
            ],
            [
             " Croatia",
             1,
             2018
            ],
            [
             " Cuba",
             1,
             2018
            ],
            [
             " Czech Republic",
             2,
             2018
            ],
            [
             " Denmark",
             4,
             2018
            ],
            [
             " Ecuador",
             1,
             2018
            ],
            [
             " Egypt",
             1,
             2018
            ],
            [
             " Finland",
             1,
             2018
            ],
            [
             " France",
             42,
             2018
            ],
            [
             " Germany",
             24,
             2018
            ],
            [
             " Greece",
             6,
             2018
            ],
            [
             " Hong Kong",
             7,
             2018
            ],
            [
             " Hungary",
             2,
             2018
            ],
            [
             " Iceland",
             1,
             2018
            ],
            [
             " India",
             11,
             2018
            ],
            [
             " Indonesia",
             1,
             2018
            ],
            [
             " Iran",
             1,
             2018
            ],
            [
             " Ireland",
             8,
             2018
            ],
            [
             " Israel",
             3,
             2018
            ],
            [
             " Italy",
             7,
             2018
            ],
            [
             " Japan",
             19,
             2018
            ],
            [
             " Jordan",
             4,
             2018
            ],
            [
             " Kazakhstan",
             1,
             2018
            ],
            [
             " Latvia",
             1,
             2018
            ],
            [
             " Lebanon",
             1,
             2018
            ],
            [
             " Lithuania",
             1,
             2018
            ],
            [
             " Malaysia",
             1,
             2018
            ],
            [
             " Mexico",
             8,
             2018
            ],
            [
             " Mongolia",
             1,
             2018
            ],
            [
             " Montenegro",
             1,
             2018
            ],
            [
             " Morocco",
             1,
             2018
            ],
            [
             " Nepal",
             1,
             2018
            ],
            [
             " Netherlands",
             8,
             2018
            ],
            [
             " New Zealand",
             5,
             2018
            ],
            [
             " Nicaragua",
             1,
             2018
            ],
            [
             " Norway",
             3,
             2018
            ],
            [
             " Panama",
             1,
             2018
            ],
            [
             " Peru",
             2,
             2018
            ],
            [
             " Philippines",
             1,
             2018
            ],
            [
             " Poland",
             1,
             2018
            ],
            [
             " Qatar",
             5,
             2018
            ],
            [
             " Romania",
             1,
             2018
            ],
            [
             " Russia",
             3,
             2018
            ],
            [
             " Samoa",
             1,
             2018
            ],
            [
             " Senegal",
             1,
             2018
            ],
            [
             " Serbia",
             1,
             2018
            ],
            [
             " Singapore",
             1,
             2018
            ],
            [
             " Slovakia",
             1,
             2018
            ],
            [
             " Slovenia",
             1,
             2018
            ],
            [
             " South Africa",
             6,
             2018
            ],
            [
             " South Korea",
             3,
             2018
            ],
            [
             " Soviet Union",
             2,
             2018
            ],
            [
             " Spain",
             16,
             2018
            ],
            [
             " Sri Lanka",
             1,
             2018
            ],
            [
             " Sweden",
             8,
             2018
            ],
            [
             " Switzerland",
             4,
             2018
            ],
            [
             " Thailand",
             1,
             2018
            ],
            [
             " Ukraine",
             1,
             2018
            ],
            [
             " United Arab Emirates",
             2,
             2018
            ],
            [
             " United Kingdom",
             29,
             2018
            ],
            [
             " United States",
             90,
             2018
            ],
            [
             " Uruguay",
             4,
             2018
            ],
            [
             " Venezuela",
             1,
             2018
            ],
            [
             " Zimbabwe",
             1,
             2018
            ],
            [
             "Argentina",
             13,
             2018
            ],
            [
             "Australia",
             30,
             2018
            ],
            [
             "Austria",
             2,
             2018
            ],
            [
             "Belgium",
             6,
             2018
            ],
            [
             "Brazil",
             16,
             2018
            ],
            [
             "Bulgaria",
             1,
             2018
            ],
            [
             "Cambodia",
             1,
             2018
            ],
            [
             "Canada",
             81,
             2018
            ],
            [
             "Chile",
             8,
             2018
            ],
            [
             "China",
             26,
             2018
            ],
            [
             "Colombia",
             5,
             2018
            ],
            [
             "Croatia",
             1,
             2018
            ],
            [
             "Czech Republic",
             2,
             2018
            ],
            [
             "Denmark",
             9,
             2018
            ],
            [
             "Finland",
             1,
             2018
            ],
            [
             "France",
             51,
             2018
            ],
            [
             "Georgia",
             1,
             2018
            ],
            [
             "Germany",
             25,
             2018
            ],
            [
             "Greece",
             1,
             2018
            ],
            [
             "Hong Kong",
             5,
             2018
            ],
            [
             "Iceland",
             1,
             2018
            ],
            [
             "India",
             166,
             2018
            ],
            [
             "Indonesia",
             2,
             2018
            ],
            [
             "Ireland",
             7,
             2018
            ],
            [
             "Israel",
             6,
             2018
            ],
            [
             "Italy",
             16,
             2018
            ],
            [
             "Japan",
             59,
             2018
            ],
            [
             "Lebanon",
             1,
             2018
            ],
            [
             "Malaysia",
             7,
             2018
            ],
            [
             "Mexico",
             40,
             2018
            ],
            [
             "Netherlands",
             8,
             2018
            ],
            [
             "New Zealand",
             4,
             2018
            ],
            [
             "Nigeria",
             3,
             2018
            ],
            [
             "Norway",
             9,
             2018
            ],
            [
             "Pakistan",
             9,
             2018
            ],
            [
             "Peru",
             2,
             2018
            ],
            [
             "Poland",
             1,
             2018
            ],
            [
             "Portugal",
             1,
             2018
            ],
            [
             "Russia",
             7,
             2018
            ],
            [
             "Saudi Arabia",
             1,
             2018
            ],
            [
             "Singapore",
             17,
             2018
            ],
            [
             "Slovenia",
             1,
             2018
            ],
            [
             "South Africa",
             1,
             2018
            ],
            [
             "South Korea",
             52,
             2018
            ],
            [
             "Spain",
             45,
             2018
            ],
            [
             "Sweden",
             5,
             2018
            ],
            [
             "Switzerland",
             2,
             2018
            ],
            [
             "Taiwan",
             40,
             2018
            ],
            [
             "Thailand",
             2,
             2018
            ],
            [
             "Turkey",
             49,
             2018
            ],
            [
             "Ukraine",
             1,
             2018
            ],
            [
             "United Arab Emirates",
             3,
             2018
            ],
            [
             "United Kingdom",
             172,
             2018
            ],
            [
             "United States",
             703,
             2018
            ],
            [
             "Uruguay",
             1,
             2018
            ],
            [
             "Venezuela",
             1,
             2018
            ],
            [
             "Vietnam",
             1,
             2018
            ],
            [
             "West Germany",
             1,
             2018
            ],
            [
             "nan",
             91,
             2018
            ]
           ],
           "geo": "geo",
           "hovertemplate": "<b>%{hovertext}</b><br><br>number_of_titles=%{z}<extra></extra>",
           "hovertext": [
            "",
            " Afghanistan",
            " Argentina",
            " Armenia",
            " Australia",
            " Austria",
            " Azerbaijan",
            " Belgium",
            " Bermuda",
            " Brazil",
            " Bulgaria",
            " Cambodia",
            " Canada",
            " Chile",
            " China",
            " Colombia",
            " Croatia",
            " Cuba",
            " Czech Republic",
            " Denmark",
            " Ecuador",
            " Egypt",
            " Finland",
            " France",
            " Germany",
            " Greece",
            " Hong Kong",
            " Hungary",
            " Iceland",
            " India",
            " Indonesia",
            " Iran",
            " Ireland",
            " Israel",
            " Italy",
            " Japan",
            " Jordan",
            " Kazakhstan",
            " Latvia",
            " Lebanon",
            " Lithuania",
            " Malaysia",
            " Mexico",
            " Mongolia",
            " Montenegro",
            " Morocco",
            " Nepal",
            " Netherlands",
            " New Zealand",
            " Nicaragua",
            " Norway",
            " Panama",
            " Peru",
            " Philippines",
            " Poland",
            " Qatar",
            " Romania",
            " Russia",
            " Samoa",
            " Senegal",
            " Serbia",
            " Singapore",
            " Slovakia",
            " Slovenia",
            " South Africa",
            " South Korea",
            " Soviet Union",
            " Spain",
            " Sri Lanka",
            " Sweden",
            " Switzerland",
            " Thailand",
            " Ukraine",
            " United Arab Emirates",
            " United Kingdom",
            " United States",
            " Uruguay",
            " Venezuela",
            " Zimbabwe",
            "Argentina",
            "Australia",
            "Austria",
            "Belgium",
            "Brazil",
            "Bulgaria",
            "Cambodia",
            "Canada",
            "Chile",
            "China",
            "Colombia",
            "Croatia",
            "Czech Republic",
            "Denmark",
            "Finland",
            "France",
            "Georgia",
            "Germany",
            "Greece",
            "Hong Kong",
            "Iceland",
            "India",
            "Indonesia",
            "Ireland",
            "Israel",
            "Italy",
            "Japan",
            "Lebanon",
            "Malaysia",
            "Mexico",
            "Netherlands",
            "New Zealand",
            "Nigeria",
            "Norway",
            "Pakistan",
            "Peru",
            "Poland",
            "Portugal",
            "Russia",
            "Saudi Arabia",
            "Singapore",
            "Slovenia",
            "South Africa",
            "South Korea",
            "Spain",
            "Sweden",
            "Switzerland",
            "Taiwan",
            "Thailand",
            "Turkey",
            "Ukraine",
            "United Arab Emirates",
            "United Kingdom",
            "United States",
            "Uruguay",
            "Venezuela",
            "Vietnam",
            "West Germany",
            "nan"
           ],
           "locationmode": "country names",
           "locations": [
            "",
            " Afghanistan",
            " Argentina",
            " Armenia",
            " Australia",
            " Austria",
            " Azerbaijan",
            " Belgium",
            " Bermuda",
            " Brazil",
            " Bulgaria",
            " Cambodia",
            " Canada",
            " Chile",
            " China",
            " Colombia",
            " Croatia",
            " Cuba",
            " Czech Republic",
            " Denmark",
            " Ecuador",
            " Egypt",
            " Finland",
            " France",
            " Germany",
            " Greece",
            " Hong Kong",
            " Hungary",
            " Iceland",
            " India",
            " Indonesia",
            " Iran",
            " Ireland",
            " Israel",
            " Italy",
            " Japan",
            " Jordan",
            " Kazakhstan",
            " Latvia",
            " Lebanon",
            " Lithuania",
            " Malaysia",
            " Mexico",
            " Mongolia",
            " Montenegro",
            " Morocco",
            " Nepal",
            " Netherlands",
            " New Zealand",
            " Nicaragua",
            " Norway",
            " Panama",
            " Peru",
            " Philippines",
            " Poland",
            " Qatar",
            " Romania",
            " Russia",
            " Samoa",
            " Senegal",
            " Serbia",
            " Singapore",
            " Slovakia",
            " Slovenia",
            " South Africa",
            " South Korea",
            " Soviet Union",
            " Spain",
            " Sri Lanka",
            " Sweden",
            " Switzerland",
            " Thailand",
            " Ukraine",
            " United Arab Emirates",
            " United Kingdom",
            " United States",
            " Uruguay",
            " Venezuela",
            " Zimbabwe",
            "Argentina",
            "Australia",
            "Austria",
            "Belgium",
            "Brazil",
            "Bulgaria",
            "Cambodia",
            "Canada",
            "Chile",
            "China",
            "Colombia",
            "Croatia",
            "Czech Republic",
            "Denmark",
            "Finland",
            "France",
            "Georgia",
            "Germany",
            "Greece",
            "Hong Kong",
            "Iceland",
            "India",
            "Indonesia",
            "Ireland",
            "Israel",
            "Italy",
            "Japan",
            "Lebanon",
            "Malaysia",
            "Mexico",
            "Netherlands",
            "New Zealand",
            "Nigeria",
            "Norway",
            "Pakistan",
            "Peru",
            "Poland",
            "Portugal",
            "Russia",
            "Saudi Arabia",
            "Singapore",
            "Slovenia",
            "South Africa",
            "South Korea",
            "Spain",
            "Sweden",
            "Switzerland",
            "Taiwan",
            "Thailand",
            "Turkey",
            "Ukraine",
            "United Arab Emirates",
            "United Kingdom",
            "United States",
            "Uruguay",
            "Venezuela",
            "Vietnam",
            "West Germany",
            "nan"
           ],
           "name": "",
           "type": "choropleth",
           "z": [
            1,
            1,
            6,
            1,
            9,
            1,
            1,
            21,
            1,
            2,
            1,
            1,
            34,
            2,
            9,
            2,
            1,
            1,
            2,
            4,
            1,
            1,
            1,
            42,
            24,
            6,
            7,
            2,
            1,
            11,
            1,
            1,
            8,
            3,
            7,
            19,
            4,
            1,
            1,
            1,
            1,
            1,
            8,
            1,
            1,
            1,
            1,
            8,
            5,
            1,
            3,
            1,
            2,
            1,
            1,
            5,
            1,
            3,
            1,
            1,
            1,
            1,
            1,
            1,
            6,
            3,
            2,
            16,
            1,
            8,
            4,
            1,
            1,
            2,
            29,
            90,
            4,
            1,
            1,
            13,
            30,
            2,
            6,
            16,
            1,
            1,
            81,
            8,
            26,
            5,
            1,
            2,
            9,
            1,
            51,
            1,
            25,
            1,
            5,
            1,
            166,
            2,
            7,
            6,
            16,
            59,
            1,
            7,
            40,
            8,
            4,
            3,
            9,
            9,
            2,
            1,
            1,
            7,
            1,
            17,
            1,
            1,
            52,
            45,
            5,
            2,
            40,
            2,
            49,
            1,
            3,
            172,
            703,
            1,
            1,
            1,
            1,
            91
           ]
          }
         ],
         "name": "2018"
        },
        {
         "data": [
          {
           "coloraxis": "coloraxis",
           "customdata": [
            [
             "",
             2,
             2019
            ],
            [
             " Afghanistan",
             1,
             2019
            ],
            [
             " Albania",
             1,
             2019
            ],
            [
             " Argentina",
             9,
             2019
            ],
            [
             " Armenia",
             1,
             2019
            ],
            [
             " Australia",
             17,
             2019
            ],
            [
             " Austria",
             2,
             2019
            ],
            [
             " Azerbaijan",
             1,
             2019
            ],
            [
             " Bangladesh",
             1,
             2019
            ],
            [
             " Belgium",
             33,
             2019
            ],
            [
             " Bermuda",
             1,
             2019
            ],
            [
             " Brazil",
             5,
             2019
            ],
            [
             " Bulgaria",
             2,
             2019
            ],
            [
             " Cambodia",
             1,
             2019
            ],
            [
             " Canada",
             68,
             2019
            ],
            [
             " Cayman Islands",
             1,
             2019
            ],
            [
             " Chile",
             4,
             2019
            ],
            [
             " China",
             25,
             2019
            ],
            [
             " Colombia",
             4,
             2019
            ],
            [
             " Croatia",
             2,
             2019
            ],
            [
             " Cuba",
             1,
             2019
            ],
            [
             " Czech Republic",
             4,
             2019
            ],
            [
             " Denmark",
             8,
             2019
            ],
            [
             " Dominican Republic",
             1,
             2019
            ],
            [
             " Ecuador",
             1,
             2019
            ],
            [
             " Egypt",
             2,
             2019
            ],
            [
             " Finland",
             2,
             2019
            ],
            [
             " France",
             73,
             2019
            ],
            [
             " Germany",
             42,
             2019
            ],
            [
             " Greece",
             7,
             2019
            ],
            [
             " Hong Kong",
             14,
             2019
            ],
            [
             " Hungary",
             2,
             2019
            ],
            [
             " Iceland",
             2,
             2019
            ],
            [
             " India",
             21,
             2019
            ],
            [
             " Indonesia",
             4,
             2019
            ],
            [
             " Iran",
             3,
             2019
            ],
            [
             " Iraq",
             1,
             2019
            ],
            [
             " Ireland",
             10,
             2019
            ],
            [
             " Israel",
             6,
             2019
            ],
            [
             " Italy",
             12,
             2019
            ],
            [
             " Japan",
             25,
             2019
            ],
            [
             " Jordan",
             5,
             2019
            ],
            [
             " Kazakhstan",
             1,
             2019
            ],
            [
             " Kenya",
             1,
             2019
            ],
            [
             " Kuwait",
             1,
             2019
            ],
            [
             " Latvia",
             1,
             2019
            ],
            [
             " Lebanon",
             2,
             2019
            ],
            [
             " Lithuania",
             1,
             2019
            ],
            [
             " Luxembourg",
             3,
             2019
            ],
            [
             " Malaysia",
             1,
             2019
            ],
            [
             " Mexico",
             15,
             2019
            ],
            [
             " Mongolia",
             1,
             2019
            ],
            [
             " Montenegro",
             1,
             2019
            ],
            [
             " Morocco",
             5,
             2019
            ],
            [
             " Namibia",
             1,
             2019
            ],
            [
             " Nepal",
             1,
             2019
            ],
            [
             " Netherlands",
             14,
             2019
            ],
            [
             " New Zealand",
             7,
             2019
            ],
            [
             " Nicaragua",
             1,
             2019
            ],
            [
             " Norway",
             3,
             2019
            ],
            [
             " Panama",
             1,
             2019
            ],
            [
             " Peru",
             3,
             2019
            ],
            [
             " Philippines",
             2,
             2019
            ],
            [
             " Poland",
             5,
             2019
            ],
            [
             " Portugal",
             1,
             2019
            ],
            [
             " Qatar",
             7,
             2019
            ],
            [
             " Romania",
             1,
             2019
            ],
            [
             " Russia",
             4,
             2019
            ],
            [
             " Samoa",
             1,
             2019
            ],
            [
             " Senegal",
             1,
             2019
            ],
            [
             " Serbia",
             2,
             2019
            ],
            [
             " Singapore",
             2,
             2019
            ],
            [
             " Slovakia",
             1,
             2019
            ],
            [
             " Slovenia",
             2,
             2019
            ],
            [
             " South Africa",
             14,
             2019
            ],
            [
             " South Korea",
             7,
             2019
            ],
            [
             " Soviet Union",
             2,
             2019
            ],
            [
             " Spain",
             25,
             2019
            ],
            [
             " Sri Lanka",
             1,
             2019
            ],
            [
             " Sudan",
             1,
             2019
            ],
            [
             " Sweden",
             15,
             2019
            ],
            [
             " Switzerland",
             6,
             2019
            ],
            [
             " Syria",
             1,
             2019
            ],
            [
             " Taiwan",
             1,
             2019
            ],
            [
             " Thailand",
             1,
             2019
            ],
            [
             " Uganda",
             1,
             2019
            ],
            [
             " Ukraine",
             1,
             2019
            ],
            [
             " United Arab Emirates",
             5,
             2019
            ],
            [
             " United Kingdom",
             60,
             2019
            ],
            [
             " United States",
             190,
             2019
            ],
            [
             " Uruguay",
             4,
             2019
            ],
            [
             " Venezuela",
             1,
             2019
            ],
            [
             " West Germany",
             1,
             2019
            ],
            [
             " Zimbabwe",
             2,
             2019
            ],
            [
             "Argentina",
             37,
             2019
            ],
            [
             "Australia",
             60,
             2019
            ],
            [
             "Austria",
             2,
             2019
            ],
            [
             "Belgium",
             8,
             2019
            ],
            [
             "Brazil",
             33,
             2019
            ],
            [
             "Bulgaria",
             4,
             2019
            ],
            [
             "Cambodia",
             2,
             2019
            ],
            [
             "Canada",
             131,
             2019
            ],
            [
             "Chile",
             15,
             2019
            ],
            [
             "China",
             53,
             2019
            ],
            [
             "Colombia",
             18,
             2019
            ],
            [
             "Croatia",
             1,
             2019
            ],
            [
             "Czech Republic",
             5,
             2019
            ],
            [
             "Denmark",
             15,
             2019
            ],
            [
             "Egypt",
             2,
             2019
            ],
            [
             "Finland",
             1,
             2019
            ],
            [
             "France",
             86,
             2019
            ],
            [
             "Georgia",
             2,
             2019
            ],
            [
             "Germany",
             41,
             2019
            ],
            [
             "Greece",
             1,
             2019
            ],
            [
             "Guatemala",
             1,
             2019
            ],
            [
             "Hong Kong",
             55,
             2019
            ],
            [
             "Hungary",
             2,
             2019
            ],
            [
             "Iceland",
             2,
             2019
            ],
            [
             "India",
             512,
             2019
            ],
            [
             "Indonesia",
             27,
             2019
            ],
            [
             "Ireland",
             17,
             2019
            ],
            [
             "Israel",
             12,
             2019
            ],
            [
             "Italy",
             25,
             2019
            ],
            [
             "Japan",
             100,
             2019
            ],
            [
             "Lebanon",
             2,
             2019
            ],
            [
             "Malaysia",
             10,
             2019
            ],
            [
             "Mexico",
             64,
             2019
            ],
            [
             "Netherlands",
             12,
             2019
            ],
            [
             "New Zealand",
             8,
             2019
            ],
            [
             "Nigeria",
             4,
             2019
            ],
            [
             "Norway",
             12,
             2019
            ],
            [
             "Pakistan",
             14,
             2019
            ],
            [
             "Peru",
             4,
             2019
            ],
            [
             "Philippines",
             5,
             2019
            ],
            [
             "Poland",
             4,
             2019
            ],
            [
             "Portugal",
             2,
             2019
            ],
            [
             "Russia",
             12,
             2019
            ],
            [
             "Saudi Arabia",
             2,
             2019
            ],
            [
             "Serbia",
             2,
             2019
            ],
            [
             "Singapore",
             24,
             2019
            ],
            [
             "Slovenia",
             1,
             2019
            ],
            [
             "Somalia",
             1,
             2019
            ],
            [
             "South Africa",
             6,
             2019
            ],
            [
             "South Korea",
             81,
             2019
            ],
            [
             "Soviet Union",
             1,
             2019
            ],
            [
             "Spain",
             80,
             2019
            ],
            [
             "Sweden",
             8,
             2019
            ],
            [
             "Switzerland",
             4,
             2019
            ],
            [
             "Taiwan",
             48,
             2019
            ],
            [
             "Thailand",
             35,
             2019
            ],
            [
             "Turkey",
             55,
             2019
            ],
            [
             "Ukraine",
             2,
             2019
            ],
            [
             "United Arab Emirates",
             6,
             2019
            ],
            [
             "United Kingdom",
             289,
             2019
            ],
            [
             "United States",
             1219,
             2019
            ],
            [
             "Uruguay",
             2,
             2019
            ],
            [
             "Venezuela",
             2,
             2019
            ],
            [
             "Vietnam",
             3,
             2019
            ],
            [
             "West Germany",
             1,
             2019
            ],
            [
             "nan",
             213,
             2019
            ]
           ],
           "geo": "geo",
           "hovertemplate": "<b>%{hovertext}</b><br><br>number_of_titles=%{z}<extra></extra>",
           "hovertext": [
            "",
            " Afghanistan",
            " Albania",
            " Argentina",
            " Armenia",
            " Australia",
            " Austria",
            " Azerbaijan",
            " Bangladesh",
            " Belgium",
            " Bermuda",
            " Brazil",
            " Bulgaria",
            " Cambodia",
            " Canada",
            " Cayman Islands",
            " Chile",
            " China",
            " Colombia",
            " Croatia",
            " Cuba",
            " Czech Republic",
            " Denmark",
            " Dominican Republic",
            " Ecuador",
            " Egypt",
            " Finland",
            " France",
            " Germany",
            " Greece",
            " Hong Kong",
            " Hungary",
            " Iceland",
            " India",
            " Indonesia",
            " Iran",
            " Iraq",
            " Ireland",
            " Israel",
            " Italy",
            " Japan",
            " Jordan",
            " Kazakhstan",
            " Kenya",
            " Kuwait",
            " Latvia",
            " Lebanon",
            " Lithuania",
            " Luxembourg",
            " Malaysia",
            " Mexico",
            " Mongolia",
            " Montenegro",
            " Morocco",
            " Namibia",
            " Nepal",
            " Netherlands",
            " New Zealand",
            " Nicaragua",
            " Norway",
            " Panama",
            " Peru",
            " Philippines",
            " Poland",
            " Portugal",
            " Qatar",
            " Romania",
            " Russia",
            " Samoa",
            " Senegal",
            " Serbia",
            " Singapore",
            " Slovakia",
            " Slovenia",
            " South Africa",
            " South Korea",
            " Soviet Union",
            " Spain",
            " Sri Lanka",
            " Sudan",
            " Sweden",
            " Switzerland",
            " Syria",
            " Taiwan",
            " Thailand",
            " Uganda",
            " Ukraine",
            " United Arab Emirates",
            " United Kingdom",
            " United States",
            " Uruguay",
            " Venezuela",
            " West Germany",
            " Zimbabwe",
            "Argentina",
            "Australia",
            "Austria",
            "Belgium",
            "Brazil",
            "Bulgaria",
            "Cambodia",
            "Canada",
            "Chile",
            "China",
            "Colombia",
            "Croatia",
            "Czech Republic",
            "Denmark",
            "Egypt",
            "Finland",
            "France",
            "Georgia",
            "Germany",
            "Greece",
            "Guatemala",
            "Hong Kong",
            "Hungary",
            "Iceland",
            "India",
            "Indonesia",
            "Ireland",
            "Israel",
            "Italy",
            "Japan",
            "Lebanon",
            "Malaysia",
            "Mexico",
            "Netherlands",
            "New Zealand",
            "Nigeria",
            "Norway",
            "Pakistan",
            "Peru",
            "Philippines",
            "Poland",
            "Portugal",
            "Russia",
            "Saudi Arabia",
            "Serbia",
            "Singapore",
            "Slovenia",
            "Somalia",
            "South Africa",
            "South Korea",
            "Soviet Union",
            "Spain",
            "Sweden",
            "Switzerland",
            "Taiwan",
            "Thailand",
            "Turkey",
            "Ukraine",
            "United Arab Emirates",
            "United Kingdom",
            "United States",
            "Uruguay",
            "Venezuela",
            "Vietnam",
            "West Germany",
            "nan"
           ],
           "locationmode": "country names",
           "locations": [
            "",
            " Afghanistan",
            " Albania",
            " Argentina",
            " Armenia",
            " Australia",
            " Austria",
            " Azerbaijan",
            " Bangladesh",
            " Belgium",
            " Bermuda",
            " Brazil",
            " Bulgaria",
            " Cambodia",
            " Canada",
            " Cayman Islands",
            " Chile",
            " China",
            " Colombia",
            " Croatia",
            " Cuba",
            " Czech Republic",
            " Denmark",
            " Dominican Republic",
            " Ecuador",
            " Egypt",
            " Finland",
            " France",
            " Germany",
            " Greece",
            " Hong Kong",
            " Hungary",
            " Iceland",
            " India",
            " Indonesia",
            " Iran",
            " Iraq",
            " Ireland",
            " Israel",
            " Italy",
            " Japan",
            " Jordan",
            " Kazakhstan",
            " Kenya",
            " Kuwait",
            " Latvia",
            " Lebanon",
            " Lithuania",
            " Luxembourg",
            " Malaysia",
            " Mexico",
            " Mongolia",
            " Montenegro",
            " Morocco",
            " Namibia",
            " Nepal",
            " Netherlands",
            " New Zealand",
            " Nicaragua",
            " Norway",
            " Panama",
            " Peru",
            " Philippines",
            " Poland",
            " Portugal",
            " Qatar",
            " Romania",
            " Russia",
            " Samoa",
            " Senegal",
            " Serbia",
            " Singapore",
            " Slovakia",
            " Slovenia",
            " South Africa",
            " South Korea",
            " Soviet Union",
            " Spain",
            " Sri Lanka",
            " Sudan",
            " Sweden",
            " Switzerland",
            " Syria",
            " Taiwan",
            " Thailand",
            " Uganda",
            " Ukraine",
            " United Arab Emirates",
            " United Kingdom",
            " United States",
            " Uruguay",
            " Venezuela",
            " West Germany",
            " Zimbabwe",
            "Argentina",
            "Australia",
            "Austria",
            "Belgium",
            "Brazil",
            "Bulgaria",
            "Cambodia",
            "Canada",
            "Chile",
            "China",
            "Colombia",
            "Croatia",
            "Czech Republic",
            "Denmark",
            "Egypt",
            "Finland",
            "France",
            "Georgia",
            "Germany",
            "Greece",
            "Guatemala",
            "Hong Kong",
            "Hungary",
            "Iceland",
            "India",
            "Indonesia",
            "Ireland",
            "Israel",
            "Italy",
            "Japan",
            "Lebanon",
            "Malaysia",
            "Mexico",
            "Netherlands",
            "New Zealand",
            "Nigeria",
            "Norway",
            "Pakistan",
            "Peru",
            "Philippines",
            "Poland",
            "Portugal",
            "Russia",
            "Saudi Arabia",
            "Serbia",
            "Singapore",
            "Slovenia",
            "Somalia",
            "South Africa",
            "South Korea",
            "Soviet Union",
            "Spain",
            "Sweden",
            "Switzerland",
            "Taiwan",
            "Thailand",
            "Turkey",
            "Ukraine",
            "United Arab Emirates",
            "United Kingdom",
            "United States",
            "Uruguay",
            "Venezuela",
            "Vietnam",
            "West Germany",
            "nan"
           ],
           "name": "",
           "type": "choropleth",
           "z": [
            2,
            1,
            1,
            9,
            1,
            17,
            2,
            1,
            1,
            33,
            1,
            5,
            2,
            1,
            68,
            1,
            4,
            25,
            4,
            2,
            1,
            4,
            8,
            1,
            1,
            2,
            2,
            73,
            42,
            7,
            14,
            2,
            2,
            21,
            4,
            3,
            1,
            10,
            6,
            12,
            25,
            5,
            1,
            1,
            1,
            1,
            2,
            1,
            3,
            1,
            15,
            1,
            1,
            5,
            1,
            1,
            14,
            7,
            1,
            3,
            1,
            3,
            2,
            5,
            1,
            7,
            1,
            4,
            1,
            1,
            2,
            2,
            1,
            2,
            14,
            7,
            2,
            25,
            1,
            1,
            15,
            6,
            1,
            1,
            1,
            1,
            1,
            5,
            60,
            190,
            4,
            1,
            1,
            2,
            37,
            60,
            2,
            8,
            33,
            4,
            2,
            131,
            15,
            53,
            18,
            1,
            5,
            15,
            2,
            1,
            86,
            2,
            41,
            1,
            1,
            55,
            2,
            2,
            512,
            27,
            17,
            12,
            25,
            100,
            2,
            10,
            64,
            12,
            8,
            4,
            12,
            14,
            4,
            5,
            4,
            2,
            12,
            2,
            2,
            24,
            1,
            1,
            6,
            81,
            1,
            80,
            8,
            4,
            48,
            35,
            55,
            2,
            6,
            289,
            1219,
            2,
            2,
            3,
            1,
            213
           ]
          }
         ],
         "name": "2019"
        },
        {
         "data": [
          {
           "coloraxis": "coloraxis",
           "customdata": [
            [
             "",
             3,
             2020
            ],
            [
             " Afghanistan",
             1,
             2020
            ],
            [
             " Albania",
             1,
             2020
            ],
            [
             " Argentina",
             11,
             2020
            ],
            [
             " Armenia",
             1,
             2020
            ],
            [
             " Australia",
             30,
             2020
            ],
            [
             " Austria",
             3,
             2020
            ],
            [
             " Azerbaijan",
             1,
             2020
            ],
            [
             " Bangladesh",
             1,
             2020
            ],
            [
             " Belgium",
             51,
             2020
            ],
            [
             " Bermuda",
             1,
             2020
            ],
            [
             " Brazil",
             8,
             2020
            ],
            [
             " Bulgaria",
             3,
             2020
            ],
            [
             " Cambodia",
             2,
             2020
            ],
            [
             " Canada",
             101,
             2020
            ],
            [
             " Cayman Islands",
             1,
             2020
            ],
            [
             " Chile",
             4,
             2020
            ],
            [
             " China",
             43,
             2020
            ],
            [
             " Colombia",
             6,
             2020
            ],
            [
             " Croatia",
             2,
             2020
            ],
            [
             " Cuba",
             1,
             2020
            ],
            [
             " Czech Republic",
             10,
             2020
            ],
            [
             " Denmark",
             10,
             2020
            ],
            [
             " Dominican Republic",
             1,
             2020
            ],
            [
             " Ecuador",
             1,
             2020
            ],
            [
             " Egypt",
             2,
             2020
            ],
            [
             " Finland",
             4,
             2020
            ],
            [
             " France",
             109,
             2020
            ],
            [
             " Germany",
             71,
             2020
            ],
            [
             " Greece",
             7,
             2020
            ],
            [
             " Guatemala",
             1,
             2020
            ],
            [
             " Hong Kong",
             22,
             2020
            ],
            [
             " Hungary",
             4,
             2020
            ],
            [
             " Iceland",
             2,
             2020
            ],
            [
             " India",
             27,
             2020
            ],
            [
             " Indonesia",
             4,
             2020
            ],
            [
             " Iran",
             3,
             2020
            ],
            [
             " Iraq",
             2,
             2020
            ],
            [
             " Ireland",
             12,
             2020
            ],
            [
             " Israel",
             6,
             2020
            ],
            [
             " Italy",
             22,
             2020
            ],
            [
             " Japan",
             40,
             2020
            ],
            [
             " Jordan",
             5,
             2020
            ],
            [
             " Kazakhstan",
             1,
             2020
            ],
            [
             " Kenya",
             1,
             2020
            ],
            [
             " Kuwait",
             1,
             2020
            ],
            [
             " Latvia",
             1,
             2020
            ],
            [
             " Lebanon",
             2,
             2020
            ],
            [
             " Liechtenstein",
             1,
             2020
            ],
            [
             " Lithuania",
             1,
             2020
            ],
            [
             " Luxembourg",
             7,
             2020
            ],
            [
             " Malawi",
             1,
             2020
            ],
            [
             " Malaysia",
             2,
             2020
            ],
            [
             " Mexico",
             24,
             2020
            ],
            [
             " Mongolia",
             1,
             2020
            ],
            [
             " Montenegro",
             1,
             2020
            ],
            [
             " Morocco",
             6,
             2020
            ],
            [
             " Namibia",
             1,
             2020
            ],
            [
             " Nepal",
             2,
             2020
            ],
            [
             " Netherlands",
             16,
             2020
            ],
            [
             " New Zealand",
             9,
             2020
            ],
            [
             " Nicaragua",
             1,
             2020
            ],
            [
             " Nigeria",
             2,
             2020
            ],
            [
             " Norway",
             5,
             2020
            ],
            [
             " Pakistan",
             2,
             2020
            ],
            [
             " Panama",
             1,
             2020
            ],
            [
             " Peru",
             4,
             2020
            ],
            [
             " Philippines",
             2,
             2020
            ],
            [
             " Poland",
             10,
             2020
            ],
            [
             " Portugal",
             2,
             2020
            ],
            [
             " Qatar",
             7,
             2020
            ],
            [
             " Romania",
             2,
             2020
            ],
            [
             " Russia",
             5,
             2020
            ],
            [
             " Samoa",
             1,
             2020
            ],
            [
             " Senegal",
             2,
             2020
            ],
            [
             " Serbia",
             3,
             2020
            ],
            [
             " Singapore",
             8,
             2020
            ],
            [
             " Slovakia",
             1,
             2020
            ],
            [
             " Slovenia",
             2,
             2020
            ],
            [
             " South Africa",
             18,
             2020
            ],
            [
             " South Korea",
             10,
             2020
            ],
            [
             " Soviet Union",
             2,
             2020
            ],
            [
             " Spain",
             35,
             2020
            ],
            [
             " Sri Lanka",
             1,
             2020
            ],
            [
             " Sudan",
             1,
             2020
            ],
            [
             " Sweden",
             22,
             2020
            ],
            [
             " Switzerland",
             8,
             2020
            ],
            [
             " Syria",
             1,
             2020
            ],
            [
             " Taiwan",
             3,
             2020
            ],
            [
             " Thailand",
             2,
             2020
            ],
            [
             " Turkey",
             1,
             2020
            ],
            [
             " Uganda",
             1,
             2020
            ],
            [
             " Ukraine",
             1,
             2020
            ],
            [
             " United Arab Emirates",
             10,
             2020
            ],
            [
             " United Kingdom",
             99,
             2020
            ],
            [
             " United States",
             285,
             2020
            ],
            [
             " Uruguay",
             5,
             2020
            ],
            [
             " Vatican City",
             1,
             2020
            ],
            [
             " Venezuela",
             1,
             2020
            ],
            [
             " West Germany",
             3,
             2020
            ],
            [
             " Zimbabwe",
             2,
             2020
            ],
            [
             "Argentina",
             55,
             2020
            ],
            [
             "Australia",
             83,
             2020
            ],
            [
             "Austria",
             5,
             2020
            ],
            [
             "Bangladesh",
             2,
             2020
            ],
            [
             "Belgium",
             10,
             2020
            ],
            [
             "Brazil",
             52,
             2020
            ],
            [
             "Bulgaria",
             5,
             2020
            ],
            [
             "Cambodia",
             2,
             2020
            ],
            [
             "Canada",
             188,
             2020
            ],
            [
             "Chile",
             17,
             2020
            ],
            [
             "China",
             77,
             2020
            ],
            [
             "Colombia",
             29,
             2020
            ],
            [
             "Croatia",
             2,
             2020
            ],
            [
             "Czech Republic",
             5,
             2020
            ],
            [
             "Denmark",
             25,
             2020
            ],
            [
             "Egypt",
             56,
             2020
            ],
            [
             "Finland",
             3,
             2020
            ],
            [
             "France",
             134,
             2020
            ],
            [
             "Georgia",
             2,
             2020
            ],
            [
             "Germany",
             61,
             2020
            ],
            [
             "Ghana",
             2,
             2020
            ],
            [
             "Greece",
             1,
             2020
            ],
            [
             "Guatemala",
             1,
             2020
            ],
            [
             "Hong Kong",
             72,
             2020
            ],
            [
             "Hungary",
             2,
             2020
            ],
            [
             "Iceland",
             3,
             2020
            ],
            [
             "India",
             747,
             2020
            ],
            [
             "Indonesia",
             45,
             2020
            ],
            [
             "Iran",
             1,
             2020
            ],
            [
             "Ireland",
             19,
             2020
            ],
            [
             "Israel",
             18,
             2020
            ],
            [
             "Italy",
             36,
             2020
            ],
            [
             "Japan",
             163,
             2020
            ],
            [
             "Jordan",
             1,
             2020
            ],
            [
             "Kuwait",
             1,
             2020
            ],
            [
             "Lebanon",
             6,
             2020
            ],
            [
             "Malaysia",
             18,
             2020
            ],
            [
             "Mauritius",
             1,
             2020
            ],
            [
             "Mexico",
             96,
             2020
            ],
            [
             "Netherlands",
             18,
             2020
            ],
            [
             "New Zealand",
             11,
             2020
            ],
            [
             "Nigeria",
             32,
             2020
            ],
            [
             "Norway",
             13,
             2020
            ],
            [
             "Pakistan",
             21,
             2020
            ],
            [
             "Paraguay",
             1,
             2020
            ],
            [
             "Peru",
             5,
             2020
            ],
            [
             "Philippines",
             44,
             2020
            ],
            [
             "Poland",
             15,
             2020
            ],
            [
             "Portugal",
             2,
             2020
            ],
            [
             "Romania",
             5,
             2020
            ],
            [
             "Russia",
             15,
             2020
            ],
            [
             "Saudi Arabia",
             2,
             2020
            ],
            [
             "Serbia",
             2,
             2020
            ],
            [
             "Singapore",
             27,
             2020
            ],
            [
             "Slovenia",
             1,
             2020
            ],
            [
             "Somalia",
             1,
             2020
            ],
            [
             "South Africa",
             12,
             2020
            ],
            [
             "South Korea",
             143,
             2020
            ],
            [
             "Soviet Union",
             1,
             2020
            ],
            [
             "Spain",
             129,
             2020
            ],
            [
             "Sweden",
             12,
             2020
            ],
            [
             "Switzerland",
             6,
             2020
            ],
            [
             "Taiwan",
             70,
             2020
            ],
            [
             "Thailand",
             54,
             2020
            ],
            [
             "Turkey",
             77,
             2020
            ],
            [
             "Ukraine",
             2,
             2020
            ],
            [
             "United Arab Emirates",
             9,
             2020
            ],
            [
             "United Kingdom",
             449,
             2020
            ],
            [
             "United States",
             2050,
             2020
            ],
            [
             "Uruguay",
             6,
             2020
            ],
            [
             "Venezuela",
             2,
             2020
            ],
            [
             "Vietnam",
             4,
             2020
            ],
            [
             "West Germany",
             1,
             2020
            ],
            [
             "nan",
             373,
             2020
            ]
           ],
           "geo": "geo",
           "hovertemplate": "<b>%{hovertext}</b><br><br>number_of_titles=%{z}<extra></extra>",
           "hovertext": [
            "",
            " Afghanistan",
            " Albania",
            " Argentina",
            " Armenia",
            " Australia",
            " Austria",
            " Azerbaijan",
            " Bangladesh",
            " Belgium",
            " Bermuda",
            " Brazil",
            " Bulgaria",
            " Cambodia",
            " Canada",
            " Cayman Islands",
            " Chile",
            " China",
            " Colombia",
            " Croatia",
            " Cuba",
            " Czech Republic",
            " Denmark",
            " Dominican Republic",
            " Ecuador",
            " Egypt",
            " Finland",
            " France",
            " Germany",
            " Greece",
            " Guatemala",
            " Hong Kong",
            " Hungary",
            " Iceland",
            " India",
            " Indonesia",
            " Iran",
            " Iraq",
            " Ireland",
            " Israel",
            " Italy",
            " Japan",
            " Jordan",
            " Kazakhstan",
            " Kenya",
            " Kuwait",
            " Latvia",
            " Lebanon",
            " Liechtenstein",
            " Lithuania",
            " Luxembourg",
            " Malawi",
            " Malaysia",
            " Mexico",
            " Mongolia",
            " Montenegro",
            " Morocco",
            " Namibia",
            " Nepal",
            " Netherlands",
            " New Zealand",
            " Nicaragua",
            " Nigeria",
            " Norway",
            " Pakistan",
            " Panama",
            " Peru",
            " Philippines",
            " Poland",
            " Portugal",
            " Qatar",
            " Romania",
            " Russia",
            " Samoa",
            " Senegal",
            " Serbia",
            " Singapore",
            " Slovakia",
            " Slovenia",
            " South Africa",
            " South Korea",
            " Soviet Union",
            " Spain",
            " Sri Lanka",
            " Sudan",
            " Sweden",
            " Switzerland",
            " Syria",
            " Taiwan",
            " Thailand",
            " Turkey",
            " Uganda",
            " Ukraine",
            " United Arab Emirates",
            " United Kingdom",
            " United States",
            " Uruguay",
            " Vatican City",
            " Venezuela",
            " West Germany",
            " Zimbabwe",
            "Argentina",
            "Australia",
            "Austria",
            "Bangladesh",
            "Belgium",
            "Brazil",
            "Bulgaria",
            "Cambodia",
            "Canada",
            "Chile",
            "China",
            "Colombia",
            "Croatia",
            "Czech Republic",
            "Denmark",
            "Egypt",
            "Finland",
            "France",
            "Georgia",
            "Germany",
            "Ghana",
            "Greece",
            "Guatemala",
            "Hong Kong",
            "Hungary",
            "Iceland",
            "India",
            "Indonesia",
            "Iran",
            "Ireland",
            "Israel",
            "Italy",
            "Japan",
            "Jordan",
            "Kuwait",
            "Lebanon",
            "Malaysia",
            "Mauritius",
            "Mexico",
            "Netherlands",
            "New Zealand",
            "Nigeria",
            "Norway",
            "Pakistan",
            "Paraguay",
            "Peru",
            "Philippines",
            "Poland",
            "Portugal",
            "Romania",
            "Russia",
            "Saudi Arabia",
            "Serbia",
            "Singapore",
            "Slovenia",
            "Somalia",
            "South Africa",
            "South Korea",
            "Soviet Union",
            "Spain",
            "Sweden",
            "Switzerland",
            "Taiwan",
            "Thailand",
            "Turkey",
            "Ukraine",
            "United Arab Emirates",
            "United Kingdom",
            "United States",
            "Uruguay",
            "Venezuela",
            "Vietnam",
            "West Germany",
            "nan"
           ],
           "locationmode": "country names",
           "locations": [
            "",
            " Afghanistan",
            " Albania",
            " Argentina",
            " Armenia",
            " Australia",
            " Austria",
            " Azerbaijan",
            " Bangladesh",
            " Belgium",
            " Bermuda",
            " Brazil",
            " Bulgaria",
            " Cambodia",
            " Canada",
            " Cayman Islands",
            " Chile",
            " China",
            " Colombia",
            " Croatia",
            " Cuba",
            " Czech Republic",
            " Denmark",
            " Dominican Republic",
            " Ecuador",
            " Egypt",
            " Finland",
            " France",
            " Germany",
            " Greece",
            " Guatemala",
            " Hong Kong",
            " Hungary",
            " Iceland",
            " India",
            " Indonesia",
            " Iran",
            " Iraq",
            " Ireland",
            " Israel",
            " Italy",
            " Japan",
            " Jordan",
            " Kazakhstan",
            " Kenya",
            " Kuwait",
            " Latvia",
            " Lebanon",
            " Liechtenstein",
            " Lithuania",
            " Luxembourg",
            " Malawi",
            " Malaysia",
            " Mexico",
            " Mongolia",
            " Montenegro",
            " Morocco",
            " Namibia",
            " Nepal",
            " Netherlands",
            " New Zealand",
            " Nicaragua",
            " Nigeria",
            " Norway",
            " Pakistan",
            " Panama",
            " Peru",
            " Philippines",
            " Poland",
            " Portugal",
            " Qatar",
            " Romania",
            " Russia",
            " Samoa",
            " Senegal",
            " Serbia",
            " Singapore",
            " Slovakia",
            " Slovenia",
            " South Africa",
            " South Korea",
            " Soviet Union",
            " Spain",
            " Sri Lanka",
            " Sudan",
            " Sweden",
            " Switzerland",
            " Syria",
            " Taiwan",
            " Thailand",
            " Turkey",
            " Uganda",
            " Ukraine",
            " United Arab Emirates",
            " United Kingdom",
            " United States",
            " Uruguay",
            " Vatican City",
            " Venezuela",
            " West Germany",
            " Zimbabwe",
            "Argentina",
            "Australia",
            "Austria",
            "Bangladesh",
            "Belgium",
            "Brazil",
            "Bulgaria",
            "Cambodia",
            "Canada",
            "Chile",
            "China",
            "Colombia",
            "Croatia",
            "Czech Republic",
            "Denmark",
            "Egypt",
            "Finland",
            "France",
            "Georgia",
            "Germany",
            "Ghana",
            "Greece",
            "Guatemala",
            "Hong Kong",
            "Hungary",
            "Iceland",
            "India",
            "Indonesia",
            "Iran",
            "Ireland",
            "Israel",
            "Italy",
            "Japan",
            "Jordan",
            "Kuwait",
            "Lebanon",
            "Malaysia",
            "Mauritius",
            "Mexico",
            "Netherlands",
            "New Zealand",
            "Nigeria",
            "Norway",
            "Pakistan",
            "Paraguay",
            "Peru",
            "Philippines",
            "Poland",
            "Portugal",
            "Romania",
            "Russia",
            "Saudi Arabia",
            "Serbia",
            "Singapore",
            "Slovenia",
            "Somalia",
            "South Africa",
            "South Korea",
            "Soviet Union",
            "Spain",
            "Sweden",
            "Switzerland",
            "Taiwan",
            "Thailand",
            "Turkey",
            "Ukraine",
            "United Arab Emirates",
            "United Kingdom",
            "United States",
            "Uruguay",
            "Venezuela",
            "Vietnam",
            "West Germany",
            "nan"
           ],
           "name": "",
           "type": "choropleth",
           "z": [
            3,
            1,
            1,
            11,
            1,
            30,
            3,
            1,
            1,
            51,
            1,
            8,
            3,
            2,
            101,
            1,
            4,
            43,
            6,
            2,
            1,
            10,
            10,
            1,
            1,
            2,
            4,
            109,
            71,
            7,
            1,
            22,
            4,
            2,
            27,
            4,
            3,
            2,
            12,
            6,
            22,
            40,
            5,
            1,
            1,
            1,
            1,
            2,
            1,
            1,
            7,
            1,
            2,
            24,
            1,
            1,
            6,
            1,
            2,
            16,
            9,
            1,
            2,
            5,
            2,
            1,
            4,
            2,
            10,
            2,
            7,
            2,
            5,
            1,
            2,
            3,
            8,
            1,
            2,
            18,
            10,
            2,
            35,
            1,
            1,
            22,
            8,
            1,
            3,
            2,
            1,
            1,
            1,
            10,
            99,
            285,
            5,
            1,
            1,
            3,
            2,
            55,
            83,
            5,
            2,
            10,
            52,
            5,
            2,
            188,
            17,
            77,
            29,
            2,
            5,
            25,
            56,
            3,
            134,
            2,
            61,
            2,
            1,
            1,
            72,
            2,
            3,
            747,
            45,
            1,
            19,
            18,
            36,
            163,
            1,
            1,
            6,
            18,
            1,
            96,
            18,
            11,
            32,
            13,
            21,
            1,
            5,
            44,
            15,
            2,
            5,
            15,
            2,
            2,
            27,
            1,
            1,
            12,
            143,
            1,
            129,
            12,
            6,
            70,
            54,
            77,
            2,
            9,
            449,
            2050,
            6,
            2,
            4,
            1,
            373
           ]
          }
         ],
         "name": "2020"
        },
        {
         "data": [
          {
           "coloraxis": "coloraxis",
           "customdata": [
            [
             "",
             4,
             2021
            ],
            [
             " Afghanistan",
             1,
             2021
            ],
            [
             " Albania",
             1,
             2021
            ],
            [
             " Algeria",
             2,
             2021
            ],
            [
             " Angola",
             1,
             2021
            ],
            [
             " Argentina",
             14,
             2021
            ],
            [
             " Armenia",
             1,
             2021
            ],
            [
             " Australia",
             35,
             2021
            ],
            [
             " Austria",
             3,
             2021
            ],
            [
             " Azerbaijan",
             1,
             2021
            ],
            [
             " Bahamas",
             1,
             2021
            ],
            [
             " Bangladesh",
             1,
             2021
            ],
            [
             " Belgium",
             71,
             2021
            ],
            [
             " Bermuda",
             1,
             2021
            ],
            [
             " Botswana",
             1,
             2021
            ],
            [
             " Brazil",
             9,
             2021
            ],
            [
             " Bulgaria",
             4,
             2021
            ],
            [
             " Cambodia",
             3,
             2021
            ],
            [
             " Canada",
             148,
             2021
            ],
            [
             " Cayman Islands",
             1,
             2021
            ],
            [
             " Chile",
             5,
             2021
            ],
            [
             " China",
             61,
             2021
            ],
            [
             " Colombia",
             9,
             2021
            ],
            [
             " Croatia",
             2,
             2021
            ],
            [
             " Cuba",
             1,
             2021
            ],
            [
             " Czech Republic",
             15,
             2021
            ],
            [
             " Denmark",
             14,
             2021
            ],
            [
             " Dominican Republic",
             1,
             2021
            ],
            [
             " East Germany",
             1,
             2021
            ],
            [
             " Ecuador",
             1,
             2021
            ],
            [
             " Egypt",
             5,
             2021
            ],
            [
             " Finland",
             5,
             2021
            ],
            [
             " France",
             149,
             2021
            ],
            [
             " Germany",
             105,
             2021
            ],
            [
             " Greece",
             9,
             2021
            ],
            [
             " Guatemala",
             1,
             2021
            ],
            [
             " Hong Kong",
             24,
             2021
            ],
            [
             " Hungary",
             4,
             2021
            ],
            [
             " Iceland",
             4,
             2021
            ],
            [
             " India",
             34,
             2021
            ],
            [
             " Indonesia",
             4,
             2021
            ],
            [
             " Iran",
             3,
             2021
            ],
            [
             " Iraq",
             2,
             2021
            ],
            [
             " Ireland",
             14,
             2021
            ],
            [
             " Israel",
             7,
             2021
            ],
            [
             " Italy",
             31,
             2021
            ],
            [
             " Japan",
             50,
             2021
            ],
            [
             " Jordan",
             7,
             2021
            ],
            [
             " Kazakhstan",
             1,
             2021
            ],
            [
             " Kenya",
             2,
             2021
            ],
            [
             " Kuwait",
             1,
             2021
            ],
            [
             " Latvia",
             1,
             2021
            ],
            [
             " Lebanon",
             6,
             2021
            ],
            [
             " Liechtenstein",
             1,
             2021
            ],
            [
             " Lithuania",
             1,
             2021
            ],
            [
             " Luxembourg",
             11,
             2021
            ],
            [
             " Malawi",
             1,
             2021
            ],
            [
             " Malaysia",
             3,
             2021
            ],
            [
             " Malta",
             3,
             2021
            ],
            [
             " Mexico",
             31,
             2021
            ],
            [
             " Mongolia",
             1,
             2021
            ],
            [
             " Montenegro",
             1,
             2021
            ],
            [
             " Morocco",
             6,
             2021
            ],
            [
             " Namibia",
             1,
             2021
            ],
            [
             " Nepal",
             2,
             2021
            ],
            [
             " Netherlands",
             20,
             2021
            ],
            [
             " New Zealand",
             13,
             2021
            ],
            [
             " Nicaragua",
             1,
             2021
            ],
            [
             " Nigeria",
             5,
             2021
            ],
            [
             " Norway",
             8,
             2021
            ],
            [
             " Pakistan",
             2,
             2021
            ],
            [
             " Panama",
             1,
             2021
            ],
            [
             " Peru",
             4,
             2021
            ],
            [
             " Philippines",
             3,
             2021
            ],
            [
             " Poland",
             10,
             2021
            ],
            [
             " Portugal",
             2,
             2021
            ],
            [
             " Qatar",
             7,
             2021
            ],
            [
             " Romania",
             2,
             2021
            ],
            [
             " Russia",
             7,
             2021
            ],
            [
             " Samoa",
             1,
             2021
            ],
            [
             " Senegal",
             2,
             2021
            ],
            [
             " Serbia",
             4,
             2021
            ],
            [
             " Singapore",
             11,
             2021
            ],
            [
             " Slovakia",
             1,
             2021
            ],
            [
             " Slovenia",
             2,
             2021
            ],
            [
             " South Africa",
             19,
             2021
            ],
            [
             " South Korea",
             18,
             2021
            ],
            [
             " Soviet Union",
             2,
             2021
            ],
            [
             " Spain",
             45,
             2021
            ],
            [
             " Sri Lanka",
             1,
             2021
            ],
            [
             " Sudan",
             1,
             2021
            ],
            [
             " Sweden",
             22,
             2021
            ],
            [
             " Switzerland",
             10,
             2021
            ],
            [
             " Syria",
             1,
             2021
            ],
            [
             " Taiwan",
             3,
             2021
            ],
            [
             " Thailand",
             3,
             2021
            ],
            [
             " Turkey",
             2,
             2021
            ],
            [
             " Uganda",
             1,
             2021
            ],
            [
             " Ukraine",
             1,
             2021
            ],
            [
             " United Arab Emirates",
             15,
             2021
            ],
            [
             " United Kingdom",
             144,
             2021
            ],
            [
             " United States",
             404,
             2021
            ],
            [
             " Uruguay",
             5,
             2021
            ],
            [
             " Vatican City",
             1,
             2021
            ],
            [
             " Venezuela",
             1,
             2021
            ],
            [
             " West Germany",
             4,
             2021
            ],
            [
             " Zimbabwe",
             2,
             2021
            ],
            [
             "Argentina",
             68,
             2021
            ],
            [
             "Australia",
             108,
             2021
            ],
            [
             "Austria",
             8,
             2021
            ],
            [
             "Bangladesh",
             2,
             2021
            ],
            [
             "Belarus",
             1,
             2021
            ],
            [
             "Belgium",
             14,
             2021
            ],
            [
             "Brazil",
             78,
             2021
            ],
            [
             "Bulgaria",
             5,
             2021
            ],
            [
             "Cambodia",
             2,
             2021
            ],
            [
             "Canada",
             256,
             2021
            ],
            [
             "Chile",
             21,
             2021
            ],
            [
             "China",
             86,
             2021
            ],
            [
             "Colombia",
             36,
             2021
            ],
            [
             "Croatia",
             2,
             2021
            ],
            [
             "Cyprus",
             1,
             2021
            ],
            [
             "Czech Republic",
             5,
             2021
            ],
            [
             "Denmark",
             30,
             2021
            ],
            [
             "Egypt",
             105,
             2021
            ],
            [
             "Finland",
             6,
             2021
            ],
            [
             "France",
             193,
             2021
            ],
            [
             "Georgia",
             2,
             2021
            ],
            [
             "Germany",
             90,
             2021
            ],
            [
             "Ghana",
             4,
             2021
            ],
            [
             "Greece",
             1,
             2021
            ],
            [
             "Guatemala",
             1,
             2021
            ],
            [
             "Hong Kong",
             76,
             2021
            ],
            [
             "Hungary",
             4,
             2021
            ],
            [
             "Iceland",
             5,
             2021
            ],
            [
             "India",
             943,
             2021
            ],
            [
             "Indonesia",
             74,
             2021
            ],
            [
             "Iran",
             1,
             2021
            ],
            [
             "Ireland",
             26,
             2021
            ],
            [
             "Israel",
             19,
             2021
            ],
            [
             "Italy",
             59,
             2021
            ],
            [
             "Jamaica",
             1,
             2021
            ],
            [
             "Japan",
             236,
             2021
            ],
            [
             "Jordan",
             1,
             2021
            ],
            [
             "Kenya",
             3,
             2021
            ],
            [
             "Kuwait",
             6,
             2021
            ],
            [
             "Lebanon",
             20,
             2021
            ],
            [
             "Malaysia",
             23,
             2021
            ],
            [
             "Mauritius",
             1,
             2021
            ],
            [
             "Mexico",
             121,
             2021
            ],
            [
             "Namibia",
             1,
             2021
            ],
            [
             "Netherlands",
             25,
             2021
            ],
            [
             "New Zealand",
             15,
             2021
            ],
            [
             "Nigeria",
             71,
             2021
            ],
            [
             "Norway",
             19,
             2021
            ],
            [
             "Pakistan",
             22,
             2021
            ],
            [
             "Paraguay",
             1,
             2021
            ],
            [
             "Peru",
             6,
             2021
            ],
            [
             "Philippines",
             75,
             2021
            ],
            [
             "Poland",
             26,
             2021
            ],
            [
             "Portugal",
             2,
             2021
            ],
            [
             "Puerto Rico",
             1,
             2021
            ],
            [
             "Romania",
             10,
             2021
            ],
            [
             "Russia",
             20,
             2021
            ],
            [
             "Saudi Arabia",
             10,
             2021
            ],
            [
             "Senegal",
             1,
             2021
            ],
            [
             "Serbia",
             3,
             2021
            ],
            [
             "Singapore",
             28,
             2021
            ],
            [
             "Slovenia",
             1,
             2021
            ],
            [
             "Somalia",
             1,
             2021
            ],
            [
             "South Africa",
             35,
             2021
            ],
            [
             "South Korea",
             193,
             2021
            ],
            [
             "Soviet Union",
             1,
             2021
            ],
            [
             "Spain",
             167,
             2021
            ],
            [
             "Sweden",
             16,
             2021
            ],
            [
             "Switzerland",
             7,
             2021
            ],
            [
             "Taiwan",
             82,
             2021
            ],
            [
             "Thailand",
             61,
             2021
            ],
            [
             "Turkey",
             105,
             2021
            ],
            [
             "Ukraine",
             2,
             2021
            ],
            [
             "United Arab Emirates",
             19,
             2021
            ],
            [
             "United Kingdom",
             571,
             2021
            ],
            [
             "United States",
             2819,
             2021
            ],
            [
             "Uruguay",
             9,
             2021
            ],
            [
             "Venezuela",
             2,
             2021
            ],
            [
             "Vietnam",
             5,
             2021
            ],
            [
             "West Germany",
             1,
             2021
            ],
            [
             "Zimbabwe",
             1,
             2021
            ],
            [
             "nan",
             492,
             2021
            ]
           ],
           "geo": "geo",
           "hovertemplate": "<b>%{hovertext}</b><br><br>number_of_titles=%{z}<extra></extra>",
           "hovertext": [
            "",
            " Afghanistan",
            " Albania",
            " Algeria",
            " Angola",
            " Argentina",
            " Armenia",
            " Australia",
            " Austria",
            " Azerbaijan",
            " Bahamas",
            " Bangladesh",
            " Belgium",
            " Bermuda",
            " Botswana",
            " Brazil",
            " Bulgaria",
            " Cambodia",
            " Canada",
            " Cayman Islands",
            " Chile",
            " China",
            " Colombia",
            " Croatia",
            " Cuba",
            " Czech Republic",
            " Denmark",
            " Dominican Republic",
            " East Germany",
            " Ecuador",
            " Egypt",
            " Finland",
            " France",
            " Germany",
            " Greece",
            " Guatemala",
            " Hong Kong",
            " Hungary",
            " Iceland",
            " India",
            " Indonesia",
            " Iran",
            " Iraq",
            " Ireland",
            " Israel",
            " Italy",
            " Japan",
            " Jordan",
            " Kazakhstan",
            " Kenya",
            " Kuwait",
            " Latvia",
            " Lebanon",
            " Liechtenstein",
            " Lithuania",
            " Luxembourg",
            " Malawi",
            " Malaysia",
            " Malta",
            " Mexico",
            " Mongolia",
            " Montenegro",
            " Morocco",
            " Namibia",
            " Nepal",
            " Netherlands",
            " New Zealand",
            " Nicaragua",
            " Nigeria",
            " Norway",
            " Pakistan",
            " Panama",
            " Peru",
            " Philippines",
            " Poland",
            " Portugal",
            " Qatar",
            " Romania",
            " Russia",
            " Samoa",
            " Senegal",
            " Serbia",
            " Singapore",
            " Slovakia",
            " Slovenia",
            " South Africa",
            " South Korea",
            " Soviet Union",
            " Spain",
            " Sri Lanka",
            " Sudan",
            " Sweden",
            " Switzerland",
            " Syria",
            " Taiwan",
            " Thailand",
            " Turkey",
            " Uganda",
            " Ukraine",
            " United Arab Emirates",
            " United Kingdom",
            " United States",
            " Uruguay",
            " Vatican City",
            " Venezuela",
            " West Germany",
            " Zimbabwe",
            "Argentina",
            "Australia",
            "Austria",
            "Bangladesh",
            "Belarus",
            "Belgium",
            "Brazil",
            "Bulgaria",
            "Cambodia",
            "Canada",
            "Chile",
            "China",
            "Colombia",
            "Croatia",
            "Cyprus",
            "Czech Republic",
            "Denmark",
            "Egypt",
            "Finland",
            "France",
            "Georgia",
            "Germany",
            "Ghana",
            "Greece",
            "Guatemala",
            "Hong Kong",
            "Hungary",
            "Iceland",
            "India",
            "Indonesia",
            "Iran",
            "Ireland",
            "Israel",
            "Italy",
            "Jamaica",
            "Japan",
            "Jordan",
            "Kenya",
            "Kuwait",
            "Lebanon",
            "Malaysia",
            "Mauritius",
            "Mexico",
            "Namibia",
            "Netherlands",
            "New Zealand",
            "Nigeria",
            "Norway",
            "Pakistan",
            "Paraguay",
            "Peru",
            "Philippines",
            "Poland",
            "Portugal",
            "Puerto Rico",
            "Romania",
            "Russia",
            "Saudi Arabia",
            "Senegal",
            "Serbia",
            "Singapore",
            "Slovenia",
            "Somalia",
            "South Africa",
            "South Korea",
            "Soviet Union",
            "Spain",
            "Sweden",
            "Switzerland",
            "Taiwan",
            "Thailand",
            "Turkey",
            "Ukraine",
            "United Arab Emirates",
            "United Kingdom",
            "United States",
            "Uruguay",
            "Venezuela",
            "Vietnam",
            "West Germany",
            "Zimbabwe",
            "nan"
           ],
           "locationmode": "country names",
           "locations": [
            "",
            " Afghanistan",
            " Albania",
            " Algeria",
            " Angola",
            " Argentina",
            " Armenia",
            " Australia",
            " Austria",
            " Azerbaijan",
            " Bahamas",
            " Bangladesh",
            " Belgium",
            " Bermuda",
            " Botswana",
            " Brazil",
            " Bulgaria",
            " Cambodia",
            " Canada",
            " Cayman Islands",
            " Chile",
            " China",
            " Colombia",
            " Croatia",
            " Cuba",
            " Czech Republic",
            " Denmark",
            " Dominican Republic",
            " East Germany",
            " Ecuador",
            " Egypt",
            " Finland",
            " France",
            " Germany",
            " Greece",
            " Guatemala",
            " Hong Kong",
            " Hungary",
            " Iceland",
            " India",
            " Indonesia",
            " Iran",
            " Iraq",
            " Ireland",
            " Israel",
            " Italy",
            " Japan",
            " Jordan",
            " Kazakhstan",
            " Kenya",
            " Kuwait",
            " Latvia",
            " Lebanon",
            " Liechtenstein",
            " Lithuania",
            " Luxembourg",
            " Malawi",
            " Malaysia",
            " Malta",
            " Mexico",
            " Mongolia",
            " Montenegro",
            " Morocco",
            " Namibia",
            " Nepal",
            " Netherlands",
            " New Zealand",
            " Nicaragua",
            " Nigeria",
            " Norway",
            " Pakistan",
            " Panama",
            " Peru",
            " Philippines",
            " Poland",
            " Portugal",
            " Qatar",
            " Romania",
            " Russia",
            " Samoa",
            " Senegal",
            " Serbia",
            " Singapore",
            " Slovakia",
            " Slovenia",
            " South Africa",
            " South Korea",
            " Soviet Union",
            " Spain",
            " Sri Lanka",
            " Sudan",
            " Sweden",
            " Switzerland",
            " Syria",
            " Taiwan",
            " Thailand",
            " Turkey",
            " Uganda",
            " Ukraine",
            " United Arab Emirates",
            " United Kingdom",
            " United States",
            " Uruguay",
            " Vatican City",
            " Venezuela",
            " West Germany",
            " Zimbabwe",
            "Argentina",
            "Australia",
            "Austria",
            "Bangladesh",
            "Belarus",
            "Belgium",
            "Brazil",
            "Bulgaria",
            "Cambodia",
            "Canada",
            "Chile",
            "China",
            "Colombia",
            "Croatia",
            "Cyprus",
            "Czech Republic",
            "Denmark",
            "Egypt",
            "Finland",
            "France",
            "Georgia",
            "Germany",
            "Ghana",
            "Greece",
            "Guatemala",
            "Hong Kong",
            "Hungary",
            "Iceland",
            "India",
            "Indonesia",
            "Iran",
            "Ireland",
            "Israel",
            "Italy",
            "Jamaica",
            "Japan",
            "Jordan",
            "Kenya",
            "Kuwait",
            "Lebanon",
            "Malaysia",
            "Mauritius",
            "Mexico",
            "Namibia",
            "Netherlands",
            "New Zealand",
            "Nigeria",
            "Norway",
            "Pakistan",
            "Paraguay",
            "Peru",
            "Philippines",
            "Poland",
            "Portugal",
            "Puerto Rico",
            "Romania",
            "Russia",
            "Saudi Arabia",
            "Senegal",
            "Serbia",
            "Singapore",
            "Slovenia",
            "Somalia",
            "South Africa",
            "South Korea",
            "Soviet Union",
            "Spain",
            "Sweden",
            "Switzerland",
            "Taiwan",
            "Thailand",
            "Turkey",
            "Ukraine",
            "United Arab Emirates",
            "United Kingdom",
            "United States",
            "Uruguay",
            "Venezuela",
            "Vietnam",
            "West Germany",
            "Zimbabwe",
            "nan"
           ],
           "name": "",
           "type": "choropleth",
           "z": [
            4,
            1,
            1,
            2,
            1,
            14,
            1,
            35,
            3,
            1,
            1,
            1,
            71,
            1,
            1,
            9,
            4,
            3,
            148,
            1,
            5,
            61,
            9,
            2,
            1,
            15,
            14,
            1,
            1,
            1,
            5,
            5,
            149,
            105,
            9,
            1,
            24,
            4,
            4,
            34,
            4,
            3,
            2,
            14,
            7,
            31,
            50,
            7,
            1,
            2,
            1,
            1,
            6,
            1,
            1,
            11,
            1,
            3,
            3,
            31,
            1,
            1,
            6,
            1,
            2,
            20,
            13,
            1,
            5,
            8,
            2,
            1,
            4,
            3,
            10,
            2,
            7,
            2,
            7,
            1,
            2,
            4,
            11,
            1,
            2,
            19,
            18,
            2,
            45,
            1,
            1,
            22,
            10,
            1,
            3,
            3,
            2,
            1,
            1,
            15,
            144,
            404,
            5,
            1,
            1,
            4,
            2,
            68,
            108,
            8,
            2,
            1,
            14,
            78,
            5,
            2,
            256,
            21,
            86,
            36,
            2,
            1,
            5,
            30,
            105,
            6,
            193,
            2,
            90,
            4,
            1,
            1,
            76,
            4,
            5,
            943,
            74,
            1,
            26,
            19,
            59,
            1,
            236,
            1,
            3,
            6,
            20,
            23,
            1,
            121,
            1,
            25,
            15,
            71,
            19,
            22,
            1,
            6,
            75,
            26,
            2,
            1,
            10,
            20,
            10,
            1,
            3,
            28,
            1,
            1,
            35,
            193,
            1,
            167,
            16,
            7,
            82,
            61,
            105,
            2,
            19,
            571,
            2819,
            9,
            2,
            5,
            1,
            1,
            492
           ]
          }
         ],
         "name": "2021"
        }
       ],
       "layout": {
        "coloraxis": {
         "colorbar": {
          "title": {
           "text": "number_of_titles"
          }
         },
         "colorscale": [
          [
           0,
           "rgb(255,245,240)"
          ],
          [
           0.125,
           "rgb(254,224,210)"
          ],
          [
           0.25,
           "rgb(252,187,161)"
          ],
          [
           0.375,
           "rgb(252,146,114)"
          ],
          [
           0.5,
           "rgb(251,106,74)"
          ],
          [
           0.625,
           "rgb(239,59,44)"
          ],
          [
           0.75,
           "rgb(203,24,29)"
          ],
          [
           0.875,
           "rgb(165,15,21)"
          ],
          [
           1,
           "rgb(103,0,13)"
          ]
         ]
        },
        "geo": {
         "center": {},
         "domain": {
          "x": [
           0,
           1
          ],
          "y": [
           0,
           1
          ]
         }
        },
        "height": 600,
        "legend": {
         "tracegroupgap": 0
        },
        "margin": {
         "t": 60
        },
        "sliders": [
         {
          "active": 0,
          "currentvalue": {
           "prefix": "added_year="
          },
          "len": 0.9,
          "pad": {
           "b": 10,
           "t": 60
          },
          "steps": [
           {
            "args": [
             [
              "2008"
             ],
             {
              "frame": {
               "duration": 0,
               "redraw": true
              },
              "fromcurrent": true,
              "mode": "immediate",
              "transition": {
               "duration": 0,
               "easing": "linear"
              }
             }
            ],
            "label": "2008",
            "method": "animate"
           },
           {
            "args": [
             [
              "2009"
             ],
             {
              "frame": {
               "duration": 0,
               "redraw": true
              },
              "fromcurrent": true,
              "mode": "immediate",
              "transition": {
               "duration": 0,
               "easing": "linear"
              }
             }
            ],
            "label": "2009",
            "method": "animate"
           },
           {
            "args": [
             [
              "2010"
             ],
             {
              "frame": {
               "duration": 0,
               "redraw": true
              },
              "fromcurrent": true,
              "mode": "immediate",
              "transition": {
               "duration": 0,
               "easing": "linear"
              }
             }
            ],
            "label": "2010",
            "method": "animate"
           },
           {
            "args": [
             [
              "2011"
             ],
             {
              "frame": {
               "duration": 0,
               "redraw": true
              },
              "fromcurrent": true,
              "mode": "immediate",
              "transition": {
               "duration": 0,
               "easing": "linear"
              }
             }
            ],
            "label": "2011",
            "method": "animate"
           },
           {
            "args": [
             [
              "2012"
             ],
             {
              "frame": {
               "duration": 0,
               "redraw": true
              },
              "fromcurrent": true,
              "mode": "immediate",
              "transition": {
               "duration": 0,
               "easing": "linear"
              }
             }
            ],
            "label": "2012",
            "method": "animate"
           },
           {
            "args": [
             [
              "2013"
             ],
             {
              "frame": {
               "duration": 0,
               "redraw": true
              },
              "fromcurrent": true,
              "mode": "immediate",
              "transition": {
               "duration": 0,
               "easing": "linear"
              }
             }
            ],
            "label": "2013",
            "method": "animate"
           },
           {
            "args": [
             [
              "2014"
             ],
             {
              "frame": {
               "duration": 0,
               "redraw": true
              },
              "fromcurrent": true,
              "mode": "immediate",
              "transition": {
               "duration": 0,
               "easing": "linear"
              }
             }
            ],
            "label": "2014",
            "method": "animate"
           },
           {
            "args": [
             [
              "2015"
             ],
             {
              "frame": {
               "duration": 0,
               "redraw": true
              },
              "fromcurrent": true,
              "mode": "immediate",
              "transition": {
               "duration": 0,
               "easing": "linear"
              }
             }
            ],
            "label": "2015",
            "method": "animate"
           },
           {
            "args": [
             [
              "2016"
             ],
             {
              "frame": {
               "duration": 0,
               "redraw": true
              },
              "fromcurrent": true,
              "mode": "immediate",
              "transition": {
               "duration": 0,
               "easing": "linear"
              }
             }
            ],
            "label": "2016",
            "method": "animate"
           },
           {
            "args": [
             [
              "2017"
             ],
             {
              "frame": {
               "duration": 0,
               "redraw": true
              },
              "fromcurrent": true,
              "mode": "immediate",
              "transition": {
               "duration": 0,
               "easing": "linear"
              }
             }
            ],
            "label": "2017",
            "method": "animate"
           },
           {
            "args": [
             [
              "2018"
             ],
             {
              "frame": {
               "duration": 0,
               "redraw": true
              },
              "fromcurrent": true,
              "mode": "immediate",
              "transition": {
               "duration": 0,
               "easing": "linear"
              }
             }
            ],
            "label": "2018",
            "method": "animate"
           },
           {
            "args": [
             [
              "2019"
             ],
             {
              "frame": {
               "duration": 0,
               "redraw": true
              },
              "fromcurrent": true,
              "mode": "immediate",
              "transition": {
               "duration": 0,
               "easing": "linear"
              }
             }
            ],
            "label": "2019",
            "method": "animate"
           },
           {
            "args": [
             [
              "2020"
             ],
             {
              "frame": {
               "duration": 0,
               "redraw": true
              },
              "fromcurrent": true,
              "mode": "immediate",
              "transition": {
               "duration": 0,
               "easing": "linear"
              }
             }
            ],
            "label": "2020",
            "method": "animate"
           },
           {
            "args": [
             [
              "2021"
             ],
             {
              "frame": {
               "duration": 0,
               "redraw": true
              },
              "fromcurrent": true,
              "mode": "immediate",
              "transition": {
               "duration": 0,
               "easing": "linear"
              }
             }
            ],
            "label": "2021",
            "method": "animate"
           }
          ],
          "x": 0.1,
          "xanchor": "left",
          "y": 0,
          "yanchor": "top"
         }
        ],
        "template": {
         "data": {
          "bar": [
           {
            "error_x": {
             "color": "#2a3f5f"
            },
            "error_y": {
             "color": "#2a3f5f"
            },
            "marker": {
             "line": {
              "color": "#E5ECF6",
              "width": 0.5
             }
            },
            "type": "bar"
           }
          ],
          "barpolar": [
           {
            "marker": {
             "line": {
              "color": "#E5ECF6",
              "width": 0.5
             }
            },
            "type": "barpolar"
           }
          ],
          "carpet": [
           {
            "aaxis": {
             "endlinecolor": "#2a3f5f",
             "gridcolor": "white",
             "linecolor": "white",
             "minorgridcolor": "white",
             "startlinecolor": "#2a3f5f"
            },
            "baxis": {
             "endlinecolor": "#2a3f5f",
             "gridcolor": "white",
             "linecolor": "white",
             "minorgridcolor": "white",
             "startlinecolor": "#2a3f5f"
            },
            "type": "carpet"
           }
          ],
          "choropleth": [
           {
            "colorbar": {
             "outlinewidth": 0,
             "ticks": ""
            },
            "type": "choropleth"
           }
          ],
          "contour": [
           {
            "colorbar": {
             "outlinewidth": 0,
             "ticks": ""
            },
            "colorscale": [
             [
              0,
              "#0d0887"
             ],
             [
              0.1111111111111111,
              "#46039f"
             ],
             [
              0.2222222222222222,
              "#7201a8"
             ],
             [
              0.3333333333333333,
              "#9c179e"
             ],
             [
              0.4444444444444444,
              "#bd3786"
             ],
             [
              0.5555555555555556,
              "#d8576b"
             ],
             [
              0.6666666666666666,
              "#ed7953"
             ],
             [
              0.7777777777777778,
              "#fb9f3a"
             ],
             [
              0.8888888888888888,
              "#fdca26"
             ],
             [
              1,
              "#f0f921"
             ]
            ],
            "type": "contour"
           }
          ],
          "contourcarpet": [
           {
            "colorbar": {
             "outlinewidth": 0,
             "ticks": ""
            },
            "type": "contourcarpet"
           }
          ],
          "heatmap": [
           {
            "colorbar": {
             "outlinewidth": 0,
             "ticks": ""
            },
            "colorscale": [
             [
              0,
              "#0d0887"
             ],
             [
              0.1111111111111111,
              "#46039f"
             ],
             [
              0.2222222222222222,
              "#7201a8"
             ],
             [
              0.3333333333333333,
              "#9c179e"
             ],
             [
              0.4444444444444444,
              "#bd3786"
             ],
             [
              0.5555555555555556,
              "#d8576b"
             ],
             [
              0.6666666666666666,
              "#ed7953"
             ],
             [
              0.7777777777777778,
              "#fb9f3a"
             ],
             [
              0.8888888888888888,
              "#fdca26"
             ],
             [
              1,
              "#f0f921"
             ]
            ],
            "type": "heatmap"
           }
          ],
          "heatmapgl": [
           {
            "colorbar": {
             "outlinewidth": 0,
             "ticks": ""
            },
            "colorscale": [
             [
              0,
              "#0d0887"
             ],
             [
              0.1111111111111111,
              "#46039f"
             ],
             [
              0.2222222222222222,
              "#7201a8"
             ],
             [
              0.3333333333333333,
              "#9c179e"
             ],
             [
              0.4444444444444444,
              "#bd3786"
             ],
             [
              0.5555555555555556,
              "#d8576b"
             ],
             [
              0.6666666666666666,
              "#ed7953"
             ],
             [
              0.7777777777777778,
              "#fb9f3a"
             ],
             [
              0.8888888888888888,
              "#fdca26"
             ],
             [
              1,
              "#f0f921"
             ]
            ],
            "type": "heatmapgl"
           }
          ],
          "histogram": [
           {
            "marker": {
             "colorbar": {
              "outlinewidth": 0,
              "ticks": ""
             }
            },
            "type": "histogram"
           }
          ],
          "histogram2d": [
           {
            "colorbar": {
             "outlinewidth": 0,
             "ticks": ""
            },
            "colorscale": [
             [
              0,
              "#0d0887"
             ],
             [
              0.1111111111111111,
              "#46039f"
             ],
             [
              0.2222222222222222,
              "#7201a8"
             ],
             [
              0.3333333333333333,
              "#9c179e"
             ],
             [
              0.4444444444444444,
              "#bd3786"
             ],
             [
              0.5555555555555556,
              "#d8576b"
             ],
             [
              0.6666666666666666,
              "#ed7953"
             ],
             [
              0.7777777777777778,
              "#fb9f3a"
             ],
             [
              0.8888888888888888,
              "#fdca26"
             ],
             [
              1,
              "#f0f921"
             ]
            ],
            "type": "histogram2d"
           }
          ],
          "histogram2dcontour": [
           {
            "colorbar": {
             "outlinewidth": 0,
             "ticks": ""
            },
            "colorscale": [
             [
              0,
              "#0d0887"
             ],
             [
              0.1111111111111111,
              "#46039f"
             ],
             [
              0.2222222222222222,
              "#7201a8"
             ],
             [
              0.3333333333333333,
              "#9c179e"
             ],
             [
              0.4444444444444444,
              "#bd3786"
             ],
             [
              0.5555555555555556,
              "#d8576b"
             ],
             [
              0.6666666666666666,
              "#ed7953"
             ],
             [
              0.7777777777777778,
              "#fb9f3a"
             ],
             [
              0.8888888888888888,
              "#fdca26"
             ],
             [
              1,
              "#f0f921"
             ]
            ],
            "type": "histogram2dcontour"
           }
          ],
          "mesh3d": [
           {
            "colorbar": {
             "outlinewidth": 0,
             "ticks": ""
            },
            "type": "mesh3d"
           }
          ],
          "parcoords": [
           {
            "line": {
             "colorbar": {
              "outlinewidth": 0,
              "ticks": ""
             }
            },
            "type": "parcoords"
           }
          ],
          "pie": [
           {
            "automargin": true,
            "type": "pie"
           }
          ],
          "scatter": [
           {
            "marker": {
             "colorbar": {
              "outlinewidth": 0,
              "ticks": ""
             }
            },
            "type": "scatter"
           }
          ],
          "scatter3d": [
           {
            "line": {
             "colorbar": {
              "outlinewidth": 0,
              "ticks": ""
             }
            },
            "marker": {
             "colorbar": {
              "outlinewidth": 0,
              "ticks": ""
             }
            },
            "type": "scatter3d"
           }
          ],
          "scattercarpet": [
           {
            "marker": {
             "colorbar": {
              "outlinewidth": 0,
              "ticks": ""
             }
            },
            "type": "scattercarpet"
           }
          ],
          "scattergeo": [
           {
            "marker": {
             "colorbar": {
              "outlinewidth": 0,
              "ticks": ""
             }
            },
            "type": "scattergeo"
           }
          ],
          "scattergl": [
           {
            "marker": {
             "colorbar": {
              "outlinewidth": 0,
              "ticks": ""
             }
            },
            "type": "scattergl"
           }
          ],
          "scattermapbox": [
           {
            "marker": {
             "colorbar": {
              "outlinewidth": 0,
              "ticks": ""
             }
            },
            "type": "scattermapbox"
           }
          ],
          "scatterpolar": [
           {
            "marker": {
             "colorbar": {
              "outlinewidth": 0,
              "ticks": ""
             }
            },
            "type": "scatterpolar"
           }
          ],
          "scatterpolargl": [
           {
            "marker": {
             "colorbar": {
              "outlinewidth": 0,
              "ticks": ""
             }
            },
            "type": "scatterpolargl"
           }
          ],
          "scatterternary": [
           {
            "marker": {
             "colorbar": {
              "outlinewidth": 0,
              "ticks": ""
             }
            },
            "type": "scatterternary"
           }
          ],
          "surface": [
           {
            "colorbar": {
             "outlinewidth": 0,
             "ticks": ""
            },
            "colorscale": [
             [
              0,
              "#0d0887"
             ],
             [
              0.1111111111111111,
              "#46039f"
             ],
             [
              0.2222222222222222,
              "#7201a8"
             ],
             [
              0.3333333333333333,
              "#9c179e"
             ],
             [
              0.4444444444444444,
              "#bd3786"
             ],
             [
              0.5555555555555556,
              "#d8576b"
             ],
             [
              0.6666666666666666,
              "#ed7953"
             ],
             [
              0.7777777777777778,
              "#fb9f3a"
             ],
             [
              0.8888888888888888,
              "#fdca26"
             ],
             [
              1,
              "#f0f921"
             ]
            ],
            "type": "surface"
           }
          ],
          "table": [
           {
            "cells": {
             "fill": {
              "color": "#EBF0F8"
             },
             "line": {
              "color": "white"
             }
            },
            "header": {
             "fill": {
              "color": "#C8D4E3"
             },
             "line": {
              "color": "white"
             }
            },
            "type": "table"
           }
          ]
         },
         "layout": {
          "annotationdefaults": {
           "arrowcolor": "#2a3f5f",
           "arrowhead": 0,
           "arrowwidth": 1
          },
          "autotypenumbers": "strict",
          "coloraxis": {
           "colorbar": {
            "outlinewidth": 0,
            "ticks": ""
           }
          },
          "colorscale": {
           "diverging": [
            [
             0,
             "#8e0152"
            ],
            [
             0.1,
             "#c51b7d"
            ],
            [
             0.2,
             "#de77ae"
            ],
            [
             0.3,
             "#f1b6da"
            ],
            [
             0.4,
             "#fde0ef"
            ],
            [
             0.5,
             "#f7f7f7"
            ],
            [
             0.6,
             "#e6f5d0"
            ],
            [
             0.7,
             "#b8e186"
            ],
            [
             0.8,
             "#7fbc41"
            ],
            [
             0.9,
             "#4d9221"
            ],
            [
             1,
             "#276419"
            ]
           ],
           "sequential": [
            [
             0,
             "#0d0887"
            ],
            [
             0.1111111111111111,
             "#46039f"
            ],
            [
             0.2222222222222222,
             "#7201a8"
            ],
            [
             0.3333333333333333,
             "#9c179e"
            ],
            [
             0.4444444444444444,
             "#bd3786"
            ],
            [
             0.5555555555555556,
             "#d8576b"
            ],
            [
             0.6666666666666666,
             "#ed7953"
            ],
            [
             0.7777777777777778,
             "#fb9f3a"
            ],
            [
             0.8888888888888888,
             "#fdca26"
            ],
            [
             1,
             "#f0f921"
            ]
           ],
           "sequentialminus": [
            [
             0,
             "#0d0887"
            ],
            [
             0.1111111111111111,
             "#46039f"
            ],
            [
             0.2222222222222222,
             "#7201a8"
            ],
            [
             0.3333333333333333,
             "#9c179e"
            ],
            [
             0.4444444444444444,
             "#bd3786"
            ],
            [
             0.5555555555555556,
             "#d8576b"
            ],
            [
             0.6666666666666666,
             "#ed7953"
            ],
            [
             0.7777777777777778,
             "#fb9f3a"
            ],
            [
             0.8888888888888888,
             "#fdca26"
            ],
            [
             1,
             "#f0f921"
            ]
           ]
          },
          "colorway": [
           "#636efa",
           "#EF553B",
           "#00cc96",
           "#ab63fa",
           "#FFA15A",
           "#19d3f3",
           "#FF6692",
           "#B6E880",
           "#FF97FF",
           "#FECB52"
          ],
          "font": {
           "color": "#2a3f5f"
          },
          "geo": {
           "bgcolor": "white",
           "lakecolor": "white",
           "landcolor": "#E5ECF6",
           "showlakes": true,
           "showland": true,
           "subunitcolor": "white"
          },
          "hoverlabel": {
           "align": "left"
          },
          "hovermode": "closest",
          "mapbox": {
           "style": "light"
          },
          "paper_bgcolor": "white",
          "plot_bgcolor": "#E5ECF6",
          "polar": {
           "angularaxis": {
            "gridcolor": "white",
            "linecolor": "white",
            "ticks": ""
           },
           "bgcolor": "#E5ECF6",
           "radialaxis": {
            "gridcolor": "white",
            "linecolor": "white",
            "ticks": ""
           }
          },
          "scene": {
           "xaxis": {
            "backgroundcolor": "#E5ECF6",
            "gridcolor": "white",
            "gridwidth": 2,
            "linecolor": "white",
            "showbackground": true,
            "ticks": "",
            "zerolinecolor": "white"
           },
           "yaxis": {
            "backgroundcolor": "#E5ECF6",
            "gridcolor": "white",
            "gridwidth": 2,
            "linecolor": "white",
            "showbackground": true,
            "ticks": "",
            "zerolinecolor": "white"
           },
           "zaxis": {
            "backgroundcolor": "#E5ECF6",
            "gridcolor": "white",
            "gridwidth": 2,
            "linecolor": "white",
            "showbackground": true,
            "ticks": "",
            "zerolinecolor": "white"
           }
          },
          "shapedefaults": {
           "line": {
            "color": "#2a3f5f"
           }
          },
          "ternary": {
           "aaxis": {
            "gridcolor": "white",
            "linecolor": "white",
            "ticks": ""
           },
           "baxis": {
            "gridcolor": "white",
            "linecolor": "white",
            "ticks": ""
           },
           "bgcolor": "#E5ECF6",
           "caxis": {
            "gridcolor": "white",
            "linecolor": "white",
            "ticks": ""
           }
          },
          "title": {
           "x": 0.05
          },
          "xaxis": {
           "automargin": true,
           "gridcolor": "white",
           "linecolor": "white",
           "ticks": "",
           "title": {
            "standoff": 15
           },
           "zerolinecolor": "white",
           "zerolinewidth": 2
          },
          "yaxis": {
           "automargin": true,
           "gridcolor": "white",
           "linecolor": "white",
           "ticks": "",
           "title": {
            "standoff": 15
           },
           "zerolinecolor": "white",
           "zerolinewidth": 2
          }
         }
        },
        "updatemenus": [
         {
          "buttons": [
           {
            "args": [
             null,
             {
              "frame": {
               "duration": 500,
               "redraw": true
              },
              "fromcurrent": true,
              "mode": "immediate",
              "transition": {
               "duration": 500,
               "easing": "linear"
              }
             }
            ],
            "label": "&#9654;",
            "method": "animate"
           },
           {
            "args": [
             [
              null
             ],
             {
              "frame": {
               "duration": 0,
               "redraw": true
              },
              "fromcurrent": true,
              "mode": "immediate",
              "transition": {
               "duration": 0,
               "easing": "linear"
              }
             }
            ],
            "label": "&#9724;",
            "method": "animate"
           }
          ],
          "direction": "left",
          "pad": {
           "r": 10,
           "t": 70
          },
          "showactive": false,
          "type": "buttons",
          "x": 0.1,
          "xanchor": "right",
          "y": 0,
          "yanchor": "top"
         }
        ]
       }
      },
      "text/html": [
       "<div>                            <div id=\"c6794581-ec4f-4dec-aca8-5c1334eb81d8\" class=\"plotly-graph-div\" style=\"height:600px; width:100%;\"></div>            <script type=\"text/javascript\">                require([\"plotly\"], function(Plotly) {                    window.PLOTLYENV=window.PLOTLYENV || {};                                    if (document.getElementById(\"c6794581-ec4f-4dec-aca8-5c1334eb81d8\")) {                    Plotly.newPlot(                        \"c6794581-ec4f-4dec-aca8-5c1334eb81d8\",                        [{\"coloraxis\": \"coloraxis\", \"customdata\": [[\"Australia\", 1, 2008], [\"Japan\", 1, 2008], [\"United Kingdom\", 1, 2008], [\"United States\", 6, 2008], [\"nan\", 1, 2008]], \"geo\": \"geo\", \"hovertemplate\": \"<b>%{hovertext}</b><br><br>number_of_titles=%{z}<extra></extra>\", \"hovertext\": [\"Australia\", \"Japan\", \"United Kingdom\", \"United States\", \"nan\"], \"locationmode\": \"country names\", \"locations\": [\"Australia\", \"Japan\", \"United Kingdom\", \"United States\", \"nan\"], \"name\": \"\", \"type\": \"choropleth\", \"z\": [1, 1, 1, 6, 1]}],                        {\"coloraxis\": {\"colorbar\": {\"title\": {\"text\": \"number_of_titles\"}}, \"colorscale\": [[0.0, \"rgb(255,245,240)\"], [0.125, \"rgb(254,224,210)\"], [0.25, \"rgb(252,187,161)\"], [0.375, \"rgb(252,146,114)\"], [0.5, \"rgb(251,106,74)\"], [0.625, \"rgb(239,59,44)\"], [0.75, \"rgb(203,24,29)\"], [0.875, \"rgb(165,15,21)\"], [1.0, \"rgb(103,0,13)\"]]}, \"geo\": {\"center\": {}, \"domain\": {\"x\": [0.0, 1.0], \"y\": [0.0, 1.0]}}, \"height\": 600, \"legend\": {\"tracegroupgap\": 0}, \"margin\": {\"t\": 60}, \"sliders\": [{\"active\": 0, \"currentvalue\": {\"prefix\": \"added_year=\"}, \"len\": 0.9, \"pad\": {\"b\": 10, \"t\": 60}, \"steps\": [{\"args\": [[\"2008\"], {\"frame\": {\"duration\": 0, \"redraw\": true}, \"fromcurrent\": true, \"mode\": \"immediate\", \"transition\": {\"duration\": 0, \"easing\": \"linear\"}}], \"label\": \"2008\", \"method\": \"animate\"}, {\"args\": [[\"2009\"], {\"frame\": {\"duration\": 0, \"redraw\": true}, \"fromcurrent\": true, \"mode\": \"immediate\", \"transition\": {\"duration\": 0, \"easing\": \"linear\"}}], \"label\": \"2009\", \"method\": \"animate\"}, {\"args\": [[\"2010\"], {\"frame\": {\"duration\": 0, \"redraw\": true}, \"fromcurrent\": true, \"mode\": \"immediate\", \"transition\": {\"duration\": 0, \"easing\": \"linear\"}}], \"label\": \"2010\", \"method\": \"animate\"}, {\"args\": [[\"2011\"], {\"frame\": {\"duration\": 0, \"redraw\": true}, \"fromcurrent\": true, \"mode\": \"immediate\", \"transition\": {\"duration\": 0, \"easing\": \"linear\"}}], \"label\": \"2011\", \"method\": \"animate\"}, {\"args\": [[\"2012\"], {\"frame\": {\"duration\": 0, \"redraw\": true}, \"fromcurrent\": true, \"mode\": \"immediate\", \"transition\": {\"duration\": 0, \"easing\": \"linear\"}}], \"label\": \"2012\", \"method\": \"animate\"}, {\"args\": [[\"2013\"], {\"frame\": {\"duration\": 0, \"redraw\": true}, \"fromcurrent\": true, \"mode\": \"immediate\", \"transition\": {\"duration\": 0, \"easing\": \"linear\"}}], \"label\": \"2013\", \"method\": \"animate\"}, {\"args\": [[\"2014\"], {\"frame\": {\"duration\": 0, \"redraw\": true}, \"fromcurrent\": true, \"mode\": \"immediate\", \"transition\": {\"duration\": 0, \"easing\": \"linear\"}}], \"label\": \"2014\", \"method\": \"animate\"}, {\"args\": [[\"2015\"], {\"frame\": {\"duration\": 0, \"redraw\": true}, \"fromcurrent\": true, \"mode\": \"immediate\", \"transition\": {\"duration\": 0, \"easing\": \"linear\"}}], \"label\": \"2015\", \"method\": \"animate\"}, {\"args\": [[\"2016\"], {\"frame\": {\"duration\": 0, \"redraw\": true}, \"fromcurrent\": true, \"mode\": \"immediate\", \"transition\": {\"duration\": 0, \"easing\": \"linear\"}}], \"label\": \"2016\", \"method\": \"animate\"}, {\"args\": [[\"2017\"], {\"frame\": {\"duration\": 0, \"redraw\": true}, \"fromcurrent\": true, \"mode\": \"immediate\", \"transition\": {\"duration\": 0, \"easing\": \"linear\"}}], \"label\": \"2017\", \"method\": \"animate\"}, {\"args\": [[\"2018\"], {\"frame\": {\"duration\": 0, \"redraw\": true}, \"fromcurrent\": true, \"mode\": \"immediate\", \"transition\": {\"duration\": 0, \"easing\": \"linear\"}}], \"label\": \"2018\", \"method\": \"animate\"}, {\"args\": [[\"2019\"], {\"frame\": {\"duration\": 0, \"redraw\": true}, \"fromcurrent\": true, \"mode\": \"immediate\", \"transition\": {\"duration\": 0, \"easing\": \"linear\"}}], \"label\": \"2019\", \"method\": \"animate\"}, {\"args\": [[\"2020\"], {\"frame\": {\"duration\": 0, \"redraw\": true}, \"fromcurrent\": true, \"mode\": \"immediate\", \"transition\": {\"duration\": 0, \"easing\": \"linear\"}}], \"label\": \"2020\", \"method\": \"animate\"}, {\"args\": [[\"2021\"], {\"frame\": {\"duration\": 0, \"redraw\": true}, \"fromcurrent\": true, \"mode\": \"immediate\", \"transition\": {\"duration\": 0, \"easing\": \"linear\"}}], \"label\": \"2021\", \"method\": \"animate\"}], \"x\": 0.1, \"xanchor\": \"left\", \"y\": 0, \"yanchor\": \"top\"}], \"template\": {\"data\": {\"bar\": [{\"error_x\": {\"color\": \"#2a3f5f\"}, \"error_y\": {\"color\": \"#2a3f5f\"}, \"marker\": {\"line\": {\"color\": \"#E5ECF6\", \"width\": 0.5}}, \"type\": \"bar\"}], \"barpolar\": [{\"marker\": {\"line\": {\"color\": \"#E5ECF6\", \"width\": 0.5}}, \"type\": \"barpolar\"}], \"carpet\": [{\"aaxis\": {\"endlinecolor\": \"#2a3f5f\", \"gridcolor\": \"white\", \"linecolor\": \"white\", \"minorgridcolor\": \"white\", \"startlinecolor\": \"#2a3f5f\"}, \"baxis\": {\"endlinecolor\": \"#2a3f5f\", \"gridcolor\": \"white\", \"linecolor\": \"white\", \"minorgridcolor\": \"white\", \"startlinecolor\": \"#2a3f5f\"}, \"type\": \"carpet\"}], \"choropleth\": [{\"colorbar\": {\"outlinewidth\": 0, \"ticks\": \"\"}, \"type\": \"choropleth\"}], \"contour\": [{\"colorbar\": {\"outlinewidth\": 0, \"ticks\": \"\"}, \"colorscale\": [[0.0, \"#0d0887\"], [0.1111111111111111, \"#46039f\"], [0.2222222222222222, \"#7201a8\"], [0.3333333333333333, \"#9c179e\"], [0.4444444444444444, \"#bd3786\"], [0.5555555555555556, \"#d8576b\"], [0.6666666666666666, \"#ed7953\"], [0.7777777777777778, \"#fb9f3a\"], [0.8888888888888888, \"#fdca26\"], [1.0, \"#f0f921\"]], \"type\": \"contour\"}], \"contourcarpet\": [{\"colorbar\": {\"outlinewidth\": 0, \"ticks\": \"\"}, \"type\": \"contourcarpet\"}], \"heatmap\": [{\"colorbar\": {\"outlinewidth\": 0, \"ticks\": \"\"}, \"colorscale\": [[0.0, \"#0d0887\"], [0.1111111111111111, \"#46039f\"], [0.2222222222222222, \"#7201a8\"], [0.3333333333333333, \"#9c179e\"], [0.4444444444444444, \"#bd3786\"], [0.5555555555555556, \"#d8576b\"], [0.6666666666666666, \"#ed7953\"], [0.7777777777777778, \"#fb9f3a\"], [0.8888888888888888, \"#fdca26\"], [1.0, \"#f0f921\"]], \"type\": \"heatmap\"}], \"heatmapgl\": [{\"colorbar\": {\"outlinewidth\": 0, \"ticks\": \"\"}, \"colorscale\": [[0.0, \"#0d0887\"], [0.1111111111111111, \"#46039f\"], [0.2222222222222222, \"#7201a8\"], [0.3333333333333333, \"#9c179e\"], [0.4444444444444444, \"#bd3786\"], [0.5555555555555556, \"#d8576b\"], [0.6666666666666666, \"#ed7953\"], [0.7777777777777778, \"#fb9f3a\"], [0.8888888888888888, \"#fdca26\"], [1.0, \"#f0f921\"]], \"type\": \"heatmapgl\"}], \"histogram\": [{\"marker\": {\"colorbar\": {\"outlinewidth\": 0, \"ticks\": \"\"}}, \"type\": \"histogram\"}], \"histogram2d\": [{\"colorbar\": {\"outlinewidth\": 0, \"ticks\": \"\"}, \"colorscale\": [[0.0, \"#0d0887\"], [0.1111111111111111, \"#46039f\"], [0.2222222222222222, \"#7201a8\"], [0.3333333333333333, \"#9c179e\"], [0.4444444444444444, \"#bd3786\"], [0.5555555555555556, \"#d8576b\"], [0.6666666666666666, \"#ed7953\"], [0.7777777777777778, \"#fb9f3a\"], [0.8888888888888888, \"#fdca26\"], [1.0, \"#f0f921\"]], \"type\": \"histogram2d\"}], \"histogram2dcontour\": [{\"colorbar\": {\"outlinewidth\": 0, \"ticks\": \"\"}, \"colorscale\": [[0.0, \"#0d0887\"], [0.1111111111111111, \"#46039f\"], [0.2222222222222222, \"#7201a8\"], [0.3333333333333333, \"#9c179e\"], [0.4444444444444444, \"#bd3786\"], [0.5555555555555556, \"#d8576b\"], [0.6666666666666666, \"#ed7953\"], [0.7777777777777778, \"#fb9f3a\"], [0.8888888888888888, \"#fdca26\"], [1.0, \"#f0f921\"]], \"type\": \"histogram2dcontour\"}], \"mesh3d\": [{\"colorbar\": {\"outlinewidth\": 0, \"ticks\": \"\"}, \"type\": \"mesh3d\"}], \"parcoords\": [{\"line\": {\"colorbar\": {\"outlinewidth\": 0, \"ticks\": \"\"}}, \"type\": \"parcoords\"}], \"pie\": [{\"automargin\": true, \"type\": \"pie\"}], \"scatter\": [{\"marker\": {\"colorbar\": {\"outlinewidth\": 0, \"ticks\": \"\"}}, \"type\": \"scatter\"}], \"scatter3d\": [{\"line\": {\"colorbar\": {\"outlinewidth\": 0, \"ticks\": \"\"}}, \"marker\": {\"colorbar\": {\"outlinewidth\": 0, \"ticks\": \"\"}}, \"type\": \"scatter3d\"}], \"scattercarpet\": [{\"marker\": {\"colorbar\": {\"outlinewidth\": 0, \"ticks\": \"\"}}, \"type\": \"scattercarpet\"}], \"scattergeo\": [{\"marker\": {\"colorbar\": {\"outlinewidth\": 0, \"ticks\": \"\"}}, \"type\": \"scattergeo\"}], \"scattergl\": [{\"marker\": {\"colorbar\": {\"outlinewidth\": 0, \"ticks\": \"\"}}, \"type\": \"scattergl\"}], \"scattermapbox\": [{\"marker\": {\"colorbar\": {\"outlinewidth\": 0, \"ticks\": \"\"}}, \"type\": \"scattermapbox\"}], \"scatterpolar\": [{\"marker\": {\"colorbar\": {\"outlinewidth\": 0, \"ticks\": \"\"}}, \"type\": \"scatterpolar\"}], \"scatterpolargl\": [{\"marker\": {\"colorbar\": {\"outlinewidth\": 0, \"ticks\": \"\"}}, \"type\": \"scatterpolargl\"}], \"scatterternary\": [{\"marker\": {\"colorbar\": {\"outlinewidth\": 0, \"ticks\": \"\"}}, \"type\": \"scatterternary\"}], \"surface\": [{\"colorbar\": {\"outlinewidth\": 0, \"ticks\": \"\"}, \"colorscale\": [[0.0, \"#0d0887\"], [0.1111111111111111, \"#46039f\"], [0.2222222222222222, \"#7201a8\"], [0.3333333333333333, \"#9c179e\"], [0.4444444444444444, \"#bd3786\"], [0.5555555555555556, \"#d8576b\"], [0.6666666666666666, \"#ed7953\"], [0.7777777777777778, \"#fb9f3a\"], [0.8888888888888888, \"#fdca26\"], [1.0, \"#f0f921\"]], \"type\": \"surface\"}], \"table\": [{\"cells\": {\"fill\": {\"color\": \"#EBF0F8\"}, \"line\": {\"color\": \"white\"}}, \"header\": {\"fill\": {\"color\": \"#C8D4E3\"}, \"line\": {\"color\": \"white\"}}, \"type\": \"table\"}]}, \"layout\": {\"annotationdefaults\": {\"arrowcolor\": \"#2a3f5f\", \"arrowhead\": 0, \"arrowwidth\": 1}, \"autotypenumbers\": \"strict\", \"coloraxis\": {\"colorbar\": {\"outlinewidth\": 0, \"ticks\": \"\"}}, \"colorscale\": {\"diverging\": [[0, \"#8e0152\"], [0.1, \"#c51b7d\"], [0.2, \"#de77ae\"], [0.3, \"#f1b6da\"], [0.4, \"#fde0ef\"], [0.5, \"#f7f7f7\"], [0.6, \"#e6f5d0\"], [0.7, \"#b8e186\"], [0.8, \"#7fbc41\"], [0.9, \"#4d9221\"], [1, \"#276419\"]], \"sequential\": [[0.0, \"#0d0887\"], [0.1111111111111111, \"#46039f\"], [0.2222222222222222, \"#7201a8\"], [0.3333333333333333, \"#9c179e\"], [0.4444444444444444, \"#bd3786\"], [0.5555555555555556, \"#d8576b\"], [0.6666666666666666, \"#ed7953\"], [0.7777777777777778, \"#fb9f3a\"], [0.8888888888888888, \"#fdca26\"], [1.0, \"#f0f921\"]], \"sequentialminus\": [[0.0, \"#0d0887\"], [0.1111111111111111, \"#46039f\"], [0.2222222222222222, \"#7201a8\"], [0.3333333333333333, \"#9c179e\"], [0.4444444444444444, \"#bd3786\"], [0.5555555555555556, \"#d8576b\"], [0.6666666666666666, \"#ed7953\"], [0.7777777777777778, \"#fb9f3a\"], [0.8888888888888888, \"#fdca26\"], [1.0, \"#f0f921\"]]}, \"colorway\": [\"#636efa\", \"#EF553B\", \"#00cc96\", \"#ab63fa\", \"#FFA15A\", \"#19d3f3\", \"#FF6692\", \"#B6E880\", \"#FF97FF\", \"#FECB52\"], \"font\": {\"color\": \"#2a3f5f\"}, \"geo\": {\"bgcolor\": \"white\", \"lakecolor\": \"white\", \"landcolor\": \"#E5ECF6\", \"showlakes\": true, \"showland\": true, \"subunitcolor\": \"white\"}, \"hoverlabel\": {\"align\": \"left\"}, \"hovermode\": \"closest\", \"mapbox\": {\"style\": \"light\"}, \"paper_bgcolor\": \"white\", \"plot_bgcolor\": \"#E5ECF6\", \"polar\": {\"angularaxis\": {\"gridcolor\": \"white\", \"linecolor\": \"white\", \"ticks\": \"\"}, \"bgcolor\": \"#E5ECF6\", \"radialaxis\": {\"gridcolor\": \"white\", \"linecolor\": \"white\", \"ticks\": \"\"}}, \"scene\": {\"xaxis\": {\"backgroundcolor\": \"#E5ECF6\", \"gridcolor\": \"white\", \"gridwidth\": 2, \"linecolor\": \"white\", \"showbackground\": true, \"ticks\": \"\", \"zerolinecolor\": \"white\"}, \"yaxis\": {\"backgroundcolor\": \"#E5ECF6\", \"gridcolor\": \"white\", \"gridwidth\": 2, \"linecolor\": \"white\", \"showbackground\": true, \"ticks\": \"\", \"zerolinecolor\": \"white\"}, \"zaxis\": {\"backgroundcolor\": \"#E5ECF6\", \"gridcolor\": \"white\", \"gridwidth\": 2, \"linecolor\": \"white\", \"showbackground\": true, \"ticks\": \"\", \"zerolinecolor\": \"white\"}}, \"shapedefaults\": {\"line\": {\"color\": \"#2a3f5f\"}}, \"ternary\": {\"aaxis\": {\"gridcolor\": \"white\", \"linecolor\": \"white\", \"ticks\": \"\"}, \"baxis\": {\"gridcolor\": \"white\", \"linecolor\": \"white\", \"ticks\": \"\"}, \"bgcolor\": \"#E5ECF6\", \"caxis\": {\"gridcolor\": \"white\", \"linecolor\": \"white\", \"ticks\": \"\"}}, \"title\": {\"x\": 0.05}, \"xaxis\": {\"automargin\": true, \"gridcolor\": \"white\", \"linecolor\": \"white\", \"ticks\": \"\", \"title\": {\"standoff\": 15}, \"zerolinecolor\": \"white\", \"zerolinewidth\": 2}, \"yaxis\": {\"automargin\": true, \"gridcolor\": \"white\", \"linecolor\": \"white\", \"ticks\": \"\", \"title\": {\"standoff\": 15}, \"zerolinecolor\": \"white\", \"zerolinewidth\": 2}}}, \"updatemenus\": [{\"buttons\": [{\"args\": [null, {\"frame\": {\"duration\": 500, \"redraw\": true}, \"fromcurrent\": true, \"mode\": \"immediate\", \"transition\": {\"duration\": 500, \"easing\": \"linear\"}}], \"label\": \"&#9654;\", \"method\": \"animate\"}, {\"args\": [[null], {\"frame\": {\"duration\": 0, \"redraw\": true}, \"fromcurrent\": true, \"mode\": \"immediate\", \"transition\": {\"duration\": 0, \"easing\": \"linear\"}}], \"label\": \"&#9724;\", \"method\": \"animate\"}], \"direction\": \"left\", \"pad\": {\"r\": 10, \"t\": 70}, \"showactive\": false, \"type\": \"buttons\", \"x\": 0.1, \"xanchor\": \"right\", \"y\": 0, \"yanchor\": \"top\"}]},                        {\"responsive\": true}                    ).then(function(){\n",
       "                            Plotly.addFrames('c6794581-ec4f-4dec-aca8-5c1334eb81d8', [{\"data\": [{\"coloraxis\": \"coloraxis\", \"customdata\": [[\"Australia\", 1, 2008], [\"Japan\", 1, 2008], [\"United Kingdom\", 1, 2008], [\"United States\", 6, 2008], [\"nan\", 1, 2008]], \"geo\": \"geo\", \"hovertemplate\": \"<b>%{hovertext}</b><br><br>number_of_titles=%{z}<extra></extra>\", \"hovertext\": [\"Australia\", \"Japan\", \"United Kingdom\", \"United States\", \"nan\"], \"locationmode\": \"country names\", \"locations\": [\"Australia\", \"Japan\", \"United Kingdom\", \"United States\", \"nan\"], \"name\": \"\", \"z\": [1, 1, 1, 6, 1], \"type\": \"choropleth\"}], \"name\": \"2008\"}, {\"data\": [{\"coloraxis\": \"coloraxis\", \"customdata\": [[\"Australia\", 1, 2009], [\"Japan\", 1, 2009], [\"United Kingdom\", 1, 2009], [\"United States\", 8, 2009], [\"nan\", 1, 2009]], \"geo\": \"geo\", \"hovertemplate\": \"<b>%{hovertext}</b><br><br>number_of_titles=%{z}<extra></extra>\", \"hovertext\": [\"Australia\", \"Japan\", \"United Kingdom\", \"United States\", \"nan\"], \"locationmode\": \"country names\", \"locations\": [\"Australia\", \"Japan\", \"United Kingdom\", \"United States\", \"nan\"], \"name\": \"\", \"z\": [1, 1, 1, 8, 1], \"type\": \"choropleth\"}], \"name\": \"2009\"}, {\"data\": [{\"coloraxis\": \"coloraxis\", \"customdata\": [[\"Australia\", 1, 2010], [\"Denmark\", 1, 2010], [\"Japan\", 1, 2010], [\"United Kingdom\", 1, 2010], [\"United States\", 9, 2010], [\"nan\", 1, 2010]], \"geo\": \"geo\", \"hovertemplate\": \"<b>%{hovertext}</b><br><br>number_of_titles=%{z}<extra></extra>\", \"hovertext\": [\"Australia\", \"Denmark\", \"Japan\", \"United Kingdom\", \"United States\", \"nan\"], \"locationmode\": \"country names\", \"locations\": [\"Australia\", \"Denmark\", \"Japan\", \"United Kingdom\", \"United States\", \"nan\"], \"name\": \"\", \"z\": [1, 1, 1, 1, 9, 1], \"type\": \"choropleth\"}], \"name\": \"2010\"}, {\"data\": [{\"coloraxis\": \"coloraxis\", \"customdata\": [[\"Australia\", 1, 2011], [\"Denmark\", 1, 2011], [\"Japan\", 1, 2011], [\"United Kingdom\", 1, 2011], [\"United States\", 10, 2011], [\"nan\", 1, 2011]], \"geo\": \"geo\", \"hovertemplate\": \"<b>%{hovertext}</b><br><br>number_of_titles=%{z}<extra></extra>\", \"hovertext\": [\"Australia\", \"Denmark\", \"Japan\", \"United Kingdom\", \"United States\", \"nan\"], \"locationmode\": \"country names\", \"locations\": [\"Australia\", \"Denmark\", \"Japan\", \"United Kingdom\", \"United States\", \"nan\"], \"name\": \"\", \"z\": [1, 1, 1, 1, 10, 1], \"type\": \"choropleth\"}], \"name\": \"2011\"}, {\"data\": [{\"coloraxis\": \"coloraxis\", \"customdata\": [[\" France\", 1, 2012], [\" Mexico\", 1, 2012], [\"Australia\", 1, 2012], [\"Denmark\", 1, 2012], [\"Japan\", 1, 2012], [\"Spain\", 1, 2012], [\"United Kingdom\", 1, 2012], [\"United States\", 22, 2012], [\"nan\", 1, 2012]], \"geo\": \"geo\", \"hovertemplate\": \"<b>%{hovertext}</b><br><br>number_of_titles=%{z}<extra></extra>\", \"hovertext\": [\" France\", \" Mexico\", \"Australia\", \"Denmark\", \"Japan\", \"Spain\", \"United Kingdom\", \"United States\", \"nan\"], \"locationmode\": \"country names\", \"locations\": [\" France\", \" Mexico\", \"Australia\", \"Denmark\", \"Japan\", \"Spain\", \"United Kingdom\", \"United States\", \"nan\"], \"name\": \"\", \"z\": [1, 1, 1, 1, 1, 1, 1, 22, 1], \"type\": \"choropleth\"}], \"name\": \"2012\"}, {\"data\": [{\"coloraxis\": \"coloraxis\", \"customdata\": [[\" France\", 1, 2013], [\" Mexico\", 2, 2013], [\"Australia\", 1, 2013], [\"Denmark\", 1, 2013], [\"Japan\", 1, 2013], [\"Spain\", 1, 2013], [\"United Kingdom\", 1, 2013], [\"United States\", 25, 2013], [\"nan\", 1, 2013]], \"geo\": \"geo\", \"hovertemplate\": \"<b>%{hovertext}</b><br><br>number_of_titles=%{z}<extra></extra>\", \"hovertext\": [\" France\", \" Mexico\", \"Australia\", \"Denmark\", \"Japan\", \"Spain\", \"United Kingdom\", \"United States\", \"nan\"], \"locationmode\": \"country names\", \"locations\": [\" France\", \" Mexico\", \"Australia\", \"Denmark\", \"Japan\", \"Spain\", \"United Kingdom\", \"United States\", \"nan\"], \"name\": \"\", \"z\": [1, 2, 1, 1, 1, 1, 1, 25, 1], \"type\": \"choropleth\"}], \"name\": \"2013\"}, {\"data\": [{\"coloraxis\": \"coloraxis\", \"customdata\": [[\" France\", 1, 2014], [\" Ireland\", 1, 2014], [\" Mexico\", 2, 2014], [\" United Kingdom\", 1, 2014], [\"Australia\", 1, 2014], [\"Canada\", 1, 2014], [\"Denmark\", 1, 2014], [\"Japan\", 1, 2014], [\"Spain\", 1, 2014], [\"United Kingdom\", 1, 2014], [\"United States\", 35, 2014], [\"nan\", 1, 2014]], \"geo\": \"geo\", \"hovertemplate\": \"<b>%{hovertext}</b><br><br>number_of_titles=%{z}<extra></extra>\", \"hovertext\": [\" France\", \" Ireland\", \" Mexico\", \" United Kingdom\", \"Australia\", \"Canada\", \"Denmark\", \"Japan\", \"Spain\", \"United Kingdom\", \"United States\", \"nan\"], \"locationmode\": \"country names\", \"locations\": [\" France\", \" Ireland\", \" Mexico\", \" United Kingdom\", \"Australia\", \"Canada\", \"Denmark\", \"Japan\", \"Spain\", \"United Kingdom\", \"United States\", \"nan\"], \"name\": \"\", \"z\": [1, 1, 2, 1, 1, 1, 1, 1, 1, 1, 35, 1], \"type\": \"choropleth\"}], \"name\": \"2014\"}, {\"data\": [{\"coloraxis\": \"coloraxis\", \"customdata\": [[\"\", 1, 2015], [\" Bermuda\", 1, 2015], [\" Canada\", 2, 2015], [\" Ecuador\", 1, 2015], [\" Egypt\", 1, 2015], [\" France\", 1, 2015], [\" Hungary\", 1, 2015], [\" Ireland\", 2, 2015], [\" Mexico\", 2, 2015], [\" United Kingdom\", 1, 2015], [\" United States\", 4, 2015], [\"Australia\", 1, 2015], [\"Canada\", 3, 2015], [\"Denmark\", 1, 2015], [\"Japan\", 1, 2015], [\"Norway\", 1, 2015], [\"Spain\", 1, 2015], [\"United Kingdom\", 4, 2015], [\"United States\", 54, 2015], [\"nan\", 1, 2015]], \"geo\": \"geo\", \"hovertemplate\": \"<b>%{hovertext}</b><br><br>number_of_titles=%{z}<extra></extra>\", \"hovertext\": [\"\", \" Bermuda\", \" Canada\", \" Ecuador\", \" Egypt\", \" France\", \" Hungary\", \" Ireland\", \" Mexico\", \" United Kingdom\", \" United States\", \"Australia\", \"Canada\", \"Denmark\", \"Japan\", \"Norway\", \"Spain\", \"United Kingdom\", \"United States\", \"nan\"], \"locationmode\": \"country names\", \"locations\": [\"\", \" Bermuda\", \" Canada\", \" Ecuador\", \" Egypt\", \" France\", \" Hungary\", \" Ireland\", \" Mexico\", \" United Kingdom\", \" United States\", \"Australia\", \"Canada\", \"Denmark\", \"Japan\", \"Norway\", \"Spain\", \"United Kingdom\", \"United States\", \"nan\"], \"name\": \"\", \"z\": [1, 1, 2, 1, 1, 1, 1, 2, 2, 1, 4, 1, 3, 1, 1, 1, 1, 4, 54, 1], \"type\": \"choropleth\"}], \"name\": \"2015\"}, {\"data\": [{\"coloraxis\": \"coloraxis\", \"customdata\": [[\"\", 1, 2016], [\" Australia\", 2, 2016], [\" Belgium\", 2, 2016], [\" Bermuda\", 1, 2016], [\" Canada\", 4, 2016], [\" China\", 1, 2016], [\" Ecuador\", 1, 2016], [\" Egypt\", 1, 2016], [\" France\", 6, 2016], [\" Hungary\", 1, 2016], [\" Ireland\", 4, 2016], [\" Italy\", 2, 2016], [\" Mexico\", 2, 2016], [\" New Zealand\", 1, 2016], [\" Ukraine\", 1, 2016], [\" United Kingdom\", 5, 2016], [\" United States\", 7, 2016], [\"Australia\", 4, 2016], [\"Belgium\", 1, 2016], [\"Canada\", 9, 2016], [\"Denmark\", 1, 2016], [\"France\", 4, 2016], [\"Germany\", 2, 2016], [\"Italy\", 1, 2016], [\"Japan\", 2, 2016], [\"Mexico\", 1, 2016], [\"New Zealand\", 1, 2016], [\"Nigeria\", 1, 2016], [\"Norway\", 2, 2016], [\"Spain\", 1, 2016], [\"United Kingdom\", 8, 2016], [\"United States\", 111, 2016], [\"nan\", 6, 2016]], \"geo\": \"geo\", \"hovertemplate\": \"<b>%{hovertext}</b><br><br>number_of_titles=%{z}<extra></extra>\", \"hovertext\": [\"\", \" Australia\", \" Belgium\", \" Bermuda\", \" Canada\", \" China\", \" Ecuador\", \" Egypt\", \" France\", \" Hungary\", \" Ireland\", \" Italy\", \" Mexico\", \" New Zealand\", \" Ukraine\", \" United Kingdom\", \" United States\", \"Australia\", \"Belgium\", \"Canada\", \"Denmark\", \"France\", \"Germany\", \"Italy\", \"Japan\", \"Mexico\", \"New Zealand\", \"Nigeria\", \"Norway\", \"Spain\", \"United Kingdom\", \"United States\", \"nan\"], \"locationmode\": \"country names\", \"locations\": [\"\", \" Australia\", \" Belgium\", \" Bermuda\", \" Canada\", \" China\", \" Ecuador\", \" Egypt\", \" France\", \" Hungary\", \" Ireland\", \" Italy\", \" Mexico\", \" New Zealand\", \" Ukraine\", \" United Kingdom\", \" United States\", \"Australia\", \"Belgium\", \"Canada\", \"Denmark\", \"France\", \"Germany\", \"Italy\", \"Japan\", \"Mexico\", \"New Zealand\", \"Nigeria\", \"Norway\", \"Spain\", \"United Kingdom\", \"United States\", \"nan\"], \"name\": \"\", \"z\": [1, 2, 2, 1, 4, 1, 1, 1, 6, 1, 4, 2, 2, 1, 1, 5, 7, 4, 1, 9, 1, 4, 2, 1, 2, 1, 1, 1, 2, 1, 8, 111, 6], \"type\": \"choropleth\"}], \"name\": \"2016\"}, {\"data\": [{\"coloraxis\": \"coloraxis\", \"customdata\": [[\"\", 1, 2017], [\" Australia\", 4, 2017], [\" Azerbaijan\", 1, 2017], [\" Belgium\", 5, 2017], [\" Bermuda\", 1, 2017], [\" Canada\", 13, 2017], [\" Chile\", 1, 2017], [\" China\", 4, 2017], [\" Cuba\", 1, 2017], [\" Denmark\", 1, 2017], [\" Ecuador\", 1, 2017], [\" Egypt\", 1, 2017], [\" Finland\", 1, 2017], [\" France\", 19, 2017], [\" Germany\", 9, 2017], [\" Greece\", 5, 2017], [\" Hong Kong\", 1, 2017], [\" Hungary\", 2, 2017], [\" India\", 2, 2017], [\" Indonesia\", 1, 2017], [\" Ireland\", 5, 2017], [\" Israel\", 1, 2017], [\" Italy\", 2, 2017], [\" Japan\", 12, 2017], [\" Jordan\", 1, 2017], [\" Kazakhstan\", 1, 2017], [\" Mexico\", 2, 2017], [\" Montenegro\", 1, 2017], [\" Netherlands\", 4, 2017], [\" New Zealand\", 4, 2017], [\" Norway\", 2, 2017], [\" Peru\", 1, 2017], [\" Qatar\", 1, 2017], [\" Russia\", 1, 2017], [\" Serbia\", 1, 2017], [\" Slovenia\", 1, 2017], [\" South Africa\", 2, 2017], [\" South Korea\", 2, 2017], [\" Spain\", 5, 2017], [\" Sweden\", 1, 2017], [\" Ukraine\", 1, 2017], [\" United Kingdom\", 14, 2017], [\" United States\", 31, 2017], [\" Zimbabwe\", 1, 2017], [\"Argentina\", 3, 2017], [\"Australia\", 11, 2017], [\"Austria\", 1, 2017], [\"Belgium\", 2, 2017], [\"Brazil\", 2, 2017], [\"Canada\", 31, 2017], [\"Chile\", 1, 2017], [\"China\", 6, 2017], [\"Colombia\", 2, 2017], [\"Croatia\", 1, 2017], [\"Denmark\", 7, 2017], [\"France\", 20, 2017], [\"Germany\", 7, 2017], [\"Hong Kong\", 3, 2017], [\"Iceland\", 1, 2017], [\"India\", 12, 2017], [\"Ireland\", 3, 2017], [\"Israel\", 2, 2017], [\"Italy\", 4, 2017], [\"Japan\", 21, 2017], [\"Mexico\", 10, 2017], [\"Netherlands\", 4, 2017], [\"New Zealand\", 2, 2017], [\"Nigeria\", 2, 2017], [\"Norway\", 5, 2017], [\"Pakistan\", 4, 2017], [\"Peru\", 2, 2017], [\"Poland\", 1, 2017], [\"Russia\", 1, 2017], [\"South Korea\", 9, 2017], [\"Spain\", 13, 2017], [\"Sweden\", 1, 2017], [\"Switzerland\", 1, 2017], [\"Taiwan\", 29, 2017], [\"Turkey\", 4, 2017], [\"United Arab Emirates\", 1, 2017], [\"United Kingdom\", 53, 2017], [\"United States\", 291, 2017], [\"nan\", 25, 2017]], \"geo\": \"geo\", \"hovertemplate\": \"<b>%{hovertext}</b><br><br>number_of_titles=%{z}<extra></extra>\", \"hovertext\": [\"\", \" Australia\", \" Azerbaijan\", \" Belgium\", \" Bermuda\", \" Canada\", \" Chile\", \" China\", \" Cuba\", \" Denmark\", \" Ecuador\", \" Egypt\", \" Finland\", \" France\", \" Germany\", \" Greece\", \" Hong Kong\", \" Hungary\", \" India\", \" Indonesia\", \" Ireland\", \" Israel\", \" Italy\", \" Japan\", \" Jordan\", \" Kazakhstan\", \" Mexico\", \" Montenegro\", \" Netherlands\", \" New Zealand\", \" Norway\", \" Peru\", \" Qatar\", \" Russia\", \" Serbia\", \" Slovenia\", \" South Africa\", \" South Korea\", \" Spain\", \" Sweden\", \" Ukraine\", \" United Kingdom\", \" United States\", \" Zimbabwe\", \"Argentina\", \"Australia\", \"Austria\", \"Belgium\", \"Brazil\", \"Canada\", \"Chile\", \"China\", \"Colombia\", \"Croatia\", \"Denmark\", \"France\", \"Germany\", \"Hong Kong\", \"Iceland\", \"India\", \"Ireland\", \"Israel\", \"Italy\", \"Japan\", \"Mexico\", \"Netherlands\", \"New Zealand\", \"Nigeria\", \"Norway\", \"Pakistan\", \"Peru\", \"Poland\", \"Russia\", \"South Korea\", \"Spain\", \"Sweden\", \"Switzerland\", \"Taiwan\", \"Turkey\", \"United Arab Emirates\", \"United Kingdom\", \"United States\", \"nan\"], \"locationmode\": \"country names\", \"locations\": [\"\", \" Australia\", \" Azerbaijan\", \" Belgium\", \" Bermuda\", \" Canada\", \" Chile\", \" China\", \" Cuba\", \" Denmark\", \" Ecuador\", \" Egypt\", \" Finland\", \" France\", \" Germany\", \" Greece\", \" Hong Kong\", \" Hungary\", \" India\", \" Indonesia\", \" Ireland\", \" Israel\", \" Italy\", \" Japan\", \" Jordan\", \" Kazakhstan\", \" Mexico\", \" Montenegro\", \" Netherlands\", \" New Zealand\", \" Norway\", \" Peru\", \" Qatar\", \" Russia\", \" Serbia\", \" Slovenia\", \" South Africa\", \" South Korea\", \" Spain\", \" Sweden\", \" Ukraine\", \" United Kingdom\", \" United States\", \" Zimbabwe\", \"Argentina\", \"Australia\", \"Austria\", \"Belgium\", \"Brazil\", \"Canada\", \"Chile\", \"China\", \"Colombia\", \"Croatia\", \"Denmark\", \"France\", \"Germany\", \"Hong Kong\", \"Iceland\", \"India\", \"Ireland\", \"Israel\", \"Italy\", \"Japan\", \"Mexico\", \"Netherlands\", \"New Zealand\", \"Nigeria\", \"Norway\", \"Pakistan\", \"Peru\", \"Poland\", \"Russia\", \"South Korea\", \"Spain\", \"Sweden\", \"Switzerland\", \"Taiwan\", \"Turkey\", \"United Arab Emirates\", \"United Kingdom\", \"United States\", \"nan\"], \"name\": \"\", \"z\": [1, 4, 1, 5, 1, 13, 1, 4, 1, 1, 1, 1, 1, 19, 9, 5, 1, 2, 2, 1, 5, 1, 2, 12, 1, 1, 2, 1, 4, 4, 2, 1, 1, 1, 1, 1, 2, 2, 5, 1, 1, 14, 31, 1, 3, 11, 1, 2, 2, 31, 1, 6, 2, 1, 7, 20, 7, 3, 1, 12, 3, 2, 4, 21, 10, 4, 2, 2, 5, 4, 2, 1, 1, 9, 13, 1, 1, 29, 4, 1, 53, 291, 25], \"type\": \"choropleth\"}], \"name\": \"2017\"}, {\"data\": [{\"coloraxis\": \"coloraxis\", \"customdata\": [[\"\", 1, 2018], [\" Afghanistan\", 1, 2018], [\" Argentina\", 6, 2018], [\" Armenia\", 1, 2018], [\" Australia\", 9, 2018], [\" Austria\", 1, 2018], [\" Azerbaijan\", 1, 2018], [\" Belgium\", 21, 2018], [\" Bermuda\", 1, 2018], [\" Brazil\", 2, 2018], [\" Bulgaria\", 1, 2018], [\" Cambodia\", 1, 2018], [\" Canada\", 34, 2018], [\" Chile\", 2, 2018], [\" China\", 9, 2018], [\" Colombia\", 2, 2018], [\" Croatia\", 1, 2018], [\" Cuba\", 1, 2018], [\" Czech Republic\", 2, 2018], [\" Denmark\", 4, 2018], [\" Ecuador\", 1, 2018], [\" Egypt\", 1, 2018], [\" Finland\", 1, 2018], [\" France\", 42, 2018], [\" Germany\", 24, 2018], [\" Greece\", 6, 2018], [\" Hong Kong\", 7, 2018], [\" Hungary\", 2, 2018], [\" Iceland\", 1, 2018], [\" India\", 11, 2018], [\" Indonesia\", 1, 2018], [\" Iran\", 1, 2018], [\" Ireland\", 8, 2018], [\" Israel\", 3, 2018], [\" Italy\", 7, 2018], [\" Japan\", 19, 2018], [\" Jordan\", 4, 2018], [\" Kazakhstan\", 1, 2018], [\" Latvia\", 1, 2018], [\" Lebanon\", 1, 2018], [\" Lithuania\", 1, 2018], [\" Malaysia\", 1, 2018], [\" Mexico\", 8, 2018], [\" Mongolia\", 1, 2018], [\" Montenegro\", 1, 2018], [\" Morocco\", 1, 2018], [\" Nepal\", 1, 2018], [\" Netherlands\", 8, 2018], [\" New Zealand\", 5, 2018], [\" Nicaragua\", 1, 2018], [\" Norway\", 3, 2018], [\" Panama\", 1, 2018], [\" Peru\", 2, 2018], [\" Philippines\", 1, 2018], [\" Poland\", 1, 2018], [\" Qatar\", 5, 2018], [\" Romania\", 1, 2018], [\" Russia\", 3, 2018], [\" Samoa\", 1, 2018], [\" Senegal\", 1, 2018], [\" Serbia\", 1, 2018], [\" Singapore\", 1, 2018], [\" Slovakia\", 1, 2018], [\" Slovenia\", 1, 2018], [\" South Africa\", 6, 2018], [\" South Korea\", 3, 2018], [\" Soviet Union\", 2, 2018], [\" Spain\", 16, 2018], [\" Sri Lanka\", 1, 2018], [\" Sweden\", 8, 2018], [\" Switzerland\", 4, 2018], [\" Thailand\", 1, 2018], [\" Ukraine\", 1, 2018], [\" United Arab Emirates\", 2, 2018], [\" United Kingdom\", 29, 2018], [\" United States\", 90, 2018], [\" Uruguay\", 4, 2018], [\" Venezuela\", 1, 2018], [\" Zimbabwe\", 1, 2018], [\"Argentina\", 13, 2018], [\"Australia\", 30, 2018], [\"Austria\", 2, 2018], [\"Belgium\", 6, 2018], [\"Brazil\", 16, 2018], [\"Bulgaria\", 1, 2018], [\"Cambodia\", 1, 2018], [\"Canada\", 81, 2018], [\"Chile\", 8, 2018], [\"China\", 26, 2018], [\"Colombia\", 5, 2018], [\"Croatia\", 1, 2018], [\"Czech Republic\", 2, 2018], [\"Denmark\", 9, 2018], [\"Finland\", 1, 2018], [\"France\", 51, 2018], [\"Georgia\", 1, 2018], [\"Germany\", 25, 2018], [\"Greece\", 1, 2018], [\"Hong Kong\", 5, 2018], [\"Iceland\", 1, 2018], [\"India\", 166, 2018], [\"Indonesia\", 2, 2018], [\"Ireland\", 7, 2018], [\"Israel\", 6, 2018], [\"Italy\", 16, 2018], [\"Japan\", 59, 2018], [\"Lebanon\", 1, 2018], [\"Malaysia\", 7, 2018], [\"Mexico\", 40, 2018], [\"Netherlands\", 8, 2018], [\"New Zealand\", 4, 2018], [\"Nigeria\", 3, 2018], [\"Norway\", 9, 2018], [\"Pakistan\", 9, 2018], [\"Peru\", 2, 2018], [\"Poland\", 1, 2018], [\"Portugal\", 1, 2018], [\"Russia\", 7, 2018], [\"Saudi Arabia\", 1, 2018], [\"Singapore\", 17, 2018], [\"Slovenia\", 1, 2018], [\"South Africa\", 1, 2018], [\"South Korea\", 52, 2018], [\"Spain\", 45, 2018], [\"Sweden\", 5, 2018], [\"Switzerland\", 2, 2018], [\"Taiwan\", 40, 2018], [\"Thailand\", 2, 2018], [\"Turkey\", 49, 2018], [\"Ukraine\", 1, 2018], [\"United Arab Emirates\", 3, 2018], [\"United Kingdom\", 172, 2018], [\"United States\", 703, 2018], [\"Uruguay\", 1, 2018], [\"Venezuela\", 1, 2018], [\"Vietnam\", 1, 2018], [\"West Germany\", 1, 2018], [\"nan\", 91, 2018]], \"geo\": \"geo\", \"hovertemplate\": \"<b>%{hovertext}</b><br><br>number_of_titles=%{z}<extra></extra>\", \"hovertext\": [\"\", \" Afghanistan\", \" Argentina\", \" Armenia\", \" Australia\", \" Austria\", \" Azerbaijan\", \" Belgium\", \" Bermuda\", \" Brazil\", \" Bulgaria\", \" Cambodia\", \" Canada\", \" Chile\", \" China\", \" Colombia\", \" Croatia\", \" Cuba\", \" Czech Republic\", \" Denmark\", \" Ecuador\", \" Egypt\", \" Finland\", \" France\", \" Germany\", \" Greece\", \" Hong Kong\", \" Hungary\", \" Iceland\", \" India\", \" Indonesia\", \" Iran\", \" Ireland\", \" Israel\", \" Italy\", \" Japan\", \" Jordan\", \" Kazakhstan\", \" Latvia\", \" Lebanon\", \" Lithuania\", \" Malaysia\", \" Mexico\", \" Mongolia\", \" Montenegro\", \" Morocco\", \" Nepal\", \" Netherlands\", \" New Zealand\", \" Nicaragua\", \" Norway\", \" Panama\", \" Peru\", \" Philippines\", \" Poland\", \" Qatar\", \" Romania\", \" Russia\", \" Samoa\", \" Senegal\", \" Serbia\", \" Singapore\", \" Slovakia\", \" Slovenia\", \" South Africa\", \" South Korea\", \" Soviet Union\", \" Spain\", \" Sri Lanka\", \" Sweden\", \" Switzerland\", \" Thailand\", \" Ukraine\", \" United Arab Emirates\", \" United Kingdom\", \" United States\", \" Uruguay\", \" Venezuela\", \" Zimbabwe\", \"Argentina\", \"Australia\", \"Austria\", \"Belgium\", \"Brazil\", \"Bulgaria\", \"Cambodia\", \"Canada\", \"Chile\", \"China\", \"Colombia\", \"Croatia\", \"Czech Republic\", \"Denmark\", \"Finland\", \"France\", \"Georgia\", \"Germany\", \"Greece\", \"Hong Kong\", \"Iceland\", \"India\", \"Indonesia\", \"Ireland\", \"Israel\", \"Italy\", \"Japan\", \"Lebanon\", \"Malaysia\", \"Mexico\", \"Netherlands\", \"New Zealand\", \"Nigeria\", \"Norway\", \"Pakistan\", \"Peru\", \"Poland\", \"Portugal\", \"Russia\", \"Saudi Arabia\", \"Singapore\", \"Slovenia\", \"South Africa\", \"South Korea\", \"Spain\", \"Sweden\", \"Switzerland\", \"Taiwan\", \"Thailand\", \"Turkey\", \"Ukraine\", \"United Arab Emirates\", \"United Kingdom\", \"United States\", \"Uruguay\", \"Venezuela\", \"Vietnam\", \"West Germany\", \"nan\"], \"locationmode\": \"country names\", \"locations\": [\"\", \" Afghanistan\", \" Argentina\", \" Armenia\", \" Australia\", \" Austria\", \" Azerbaijan\", \" Belgium\", \" Bermuda\", \" Brazil\", \" Bulgaria\", \" Cambodia\", \" Canada\", \" Chile\", \" China\", \" Colombia\", \" Croatia\", \" Cuba\", \" Czech Republic\", \" Denmark\", \" Ecuador\", \" Egypt\", \" Finland\", \" France\", \" Germany\", \" Greece\", \" Hong Kong\", \" Hungary\", \" Iceland\", \" India\", \" Indonesia\", \" Iran\", \" Ireland\", \" Israel\", \" Italy\", \" Japan\", \" Jordan\", \" Kazakhstan\", \" Latvia\", \" Lebanon\", \" Lithuania\", \" Malaysia\", \" Mexico\", \" Mongolia\", \" Montenegro\", \" Morocco\", \" Nepal\", \" Netherlands\", \" New Zealand\", \" Nicaragua\", \" Norway\", \" Panama\", \" Peru\", \" Philippines\", \" Poland\", \" Qatar\", \" Romania\", \" Russia\", \" Samoa\", \" Senegal\", \" Serbia\", \" Singapore\", \" Slovakia\", \" Slovenia\", \" South Africa\", \" South Korea\", \" Soviet Union\", \" Spain\", \" Sri Lanka\", \" Sweden\", \" Switzerland\", \" Thailand\", \" Ukraine\", \" United Arab Emirates\", \" United Kingdom\", \" United States\", \" Uruguay\", \" Venezuela\", \" Zimbabwe\", \"Argentina\", \"Australia\", \"Austria\", \"Belgium\", \"Brazil\", \"Bulgaria\", \"Cambodia\", \"Canada\", \"Chile\", \"China\", \"Colombia\", \"Croatia\", \"Czech Republic\", \"Denmark\", \"Finland\", \"France\", \"Georgia\", \"Germany\", \"Greece\", \"Hong Kong\", \"Iceland\", \"India\", \"Indonesia\", \"Ireland\", \"Israel\", \"Italy\", \"Japan\", \"Lebanon\", \"Malaysia\", \"Mexico\", \"Netherlands\", \"New Zealand\", \"Nigeria\", \"Norway\", \"Pakistan\", \"Peru\", \"Poland\", \"Portugal\", \"Russia\", \"Saudi Arabia\", \"Singapore\", \"Slovenia\", \"South Africa\", \"South Korea\", \"Spain\", \"Sweden\", \"Switzerland\", \"Taiwan\", \"Thailand\", \"Turkey\", \"Ukraine\", \"United Arab Emirates\", \"United Kingdom\", \"United States\", \"Uruguay\", \"Venezuela\", \"Vietnam\", \"West Germany\", \"nan\"], \"name\": \"\", \"z\": [1, 1, 6, 1, 9, 1, 1, 21, 1, 2, 1, 1, 34, 2, 9, 2, 1, 1, 2, 4, 1, 1, 1, 42, 24, 6, 7, 2, 1, 11, 1, 1, 8, 3, 7, 19, 4, 1, 1, 1, 1, 1, 8, 1, 1, 1, 1, 8, 5, 1, 3, 1, 2, 1, 1, 5, 1, 3, 1, 1, 1, 1, 1, 1, 6, 3, 2, 16, 1, 8, 4, 1, 1, 2, 29, 90, 4, 1, 1, 13, 30, 2, 6, 16, 1, 1, 81, 8, 26, 5, 1, 2, 9, 1, 51, 1, 25, 1, 5, 1, 166, 2, 7, 6, 16, 59, 1, 7, 40, 8, 4, 3, 9, 9, 2, 1, 1, 7, 1, 17, 1, 1, 52, 45, 5, 2, 40, 2, 49, 1, 3, 172, 703, 1, 1, 1, 1, 91], \"type\": \"choropleth\"}], \"name\": \"2018\"}, {\"data\": [{\"coloraxis\": \"coloraxis\", \"customdata\": [[\"\", 2, 2019], [\" Afghanistan\", 1, 2019], [\" Albania\", 1, 2019], [\" Argentina\", 9, 2019], [\" Armenia\", 1, 2019], [\" Australia\", 17, 2019], [\" Austria\", 2, 2019], [\" Azerbaijan\", 1, 2019], [\" Bangladesh\", 1, 2019], [\" Belgium\", 33, 2019], [\" Bermuda\", 1, 2019], [\" Brazil\", 5, 2019], [\" Bulgaria\", 2, 2019], [\" Cambodia\", 1, 2019], [\" Canada\", 68, 2019], [\" Cayman Islands\", 1, 2019], [\" Chile\", 4, 2019], [\" China\", 25, 2019], [\" Colombia\", 4, 2019], [\" Croatia\", 2, 2019], [\" Cuba\", 1, 2019], [\" Czech Republic\", 4, 2019], [\" Denmark\", 8, 2019], [\" Dominican Republic\", 1, 2019], [\" Ecuador\", 1, 2019], [\" Egypt\", 2, 2019], [\" Finland\", 2, 2019], [\" France\", 73, 2019], [\" Germany\", 42, 2019], [\" Greece\", 7, 2019], [\" Hong Kong\", 14, 2019], [\" Hungary\", 2, 2019], [\" Iceland\", 2, 2019], [\" India\", 21, 2019], [\" Indonesia\", 4, 2019], [\" Iran\", 3, 2019], [\" Iraq\", 1, 2019], [\" Ireland\", 10, 2019], [\" Israel\", 6, 2019], [\" Italy\", 12, 2019], [\" Japan\", 25, 2019], [\" Jordan\", 5, 2019], [\" Kazakhstan\", 1, 2019], [\" Kenya\", 1, 2019], [\" Kuwait\", 1, 2019], [\" Latvia\", 1, 2019], [\" Lebanon\", 2, 2019], [\" Lithuania\", 1, 2019], [\" Luxembourg\", 3, 2019], [\" Malaysia\", 1, 2019], [\" Mexico\", 15, 2019], [\" Mongolia\", 1, 2019], [\" Montenegro\", 1, 2019], [\" Morocco\", 5, 2019], [\" Namibia\", 1, 2019], [\" Nepal\", 1, 2019], [\" Netherlands\", 14, 2019], [\" New Zealand\", 7, 2019], [\" Nicaragua\", 1, 2019], [\" Norway\", 3, 2019], [\" Panama\", 1, 2019], [\" Peru\", 3, 2019], [\" Philippines\", 2, 2019], [\" Poland\", 5, 2019], [\" Portugal\", 1, 2019], [\" Qatar\", 7, 2019], [\" Romania\", 1, 2019], [\" Russia\", 4, 2019], [\" Samoa\", 1, 2019], [\" Senegal\", 1, 2019], [\" Serbia\", 2, 2019], [\" Singapore\", 2, 2019], [\" Slovakia\", 1, 2019], [\" Slovenia\", 2, 2019], [\" South Africa\", 14, 2019], [\" South Korea\", 7, 2019], [\" Soviet Union\", 2, 2019], [\" Spain\", 25, 2019], [\" Sri Lanka\", 1, 2019], [\" Sudan\", 1, 2019], [\" Sweden\", 15, 2019], [\" Switzerland\", 6, 2019], [\" Syria\", 1, 2019], [\" Taiwan\", 1, 2019], [\" Thailand\", 1, 2019], [\" Uganda\", 1, 2019], [\" Ukraine\", 1, 2019], [\" United Arab Emirates\", 5, 2019], [\" United Kingdom\", 60, 2019], [\" United States\", 190, 2019], [\" Uruguay\", 4, 2019], [\" Venezuela\", 1, 2019], [\" West Germany\", 1, 2019], [\" Zimbabwe\", 2, 2019], [\"Argentina\", 37, 2019], [\"Australia\", 60, 2019], [\"Austria\", 2, 2019], [\"Belgium\", 8, 2019], [\"Brazil\", 33, 2019], [\"Bulgaria\", 4, 2019], [\"Cambodia\", 2, 2019], [\"Canada\", 131, 2019], [\"Chile\", 15, 2019], [\"China\", 53, 2019], [\"Colombia\", 18, 2019], [\"Croatia\", 1, 2019], [\"Czech Republic\", 5, 2019], [\"Denmark\", 15, 2019], [\"Egypt\", 2, 2019], [\"Finland\", 1, 2019], [\"France\", 86, 2019], [\"Georgia\", 2, 2019], [\"Germany\", 41, 2019], [\"Greece\", 1, 2019], [\"Guatemala\", 1, 2019], [\"Hong Kong\", 55, 2019], [\"Hungary\", 2, 2019], [\"Iceland\", 2, 2019], [\"India\", 512, 2019], [\"Indonesia\", 27, 2019], [\"Ireland\", 17, 2019], [\"Israel\", 12, 2019], [\"Italy\", 25, 2019], [\"Japan\", 100, 2019], [\"Lebanon\", 2, 2019], [\"Malaysia\", 10, 2019], [\"Mexico\", 64, 2019], [\"Netherlands\", 12, 2019], [\"New Zealand\", 8, 2019], [\"Nigeria\", 4, 2019], [\"Norway\", 12, 2019], [\"Pakistan\", 14, 2019], [\"Peru\", 4, 2019], [\"Philippines\", 5, 2019], [\"Poland\", 4, 2019], [\"Portugal\", 2, 2019], [\"Russia\", 12, 2019], [\"Saudi Arabia\", 2, 2019], [\"Serbia\", 2, 2019], [\"Singapore\", 24, 2019], [\"Slovenia\", 1, 2019], [\"Somalia\", 1, 2019], [\"South Africa\", 6, 2019], [\"South Korea\", 81, 2019], [\"Soviet Union\", 1, 2019], [\"Spain\", 80, 2019], [\"Sweden\", 8, 2019], [\"Switzerland\", 4, 2019], [\"Taiwan\", 48, 2019], [\"Thailand\", 35, 2019], [\"Turkey\", 55, 2019], [\"Ukraine\", 2, 2019], [\"United Arab Emirates\", 6, 2019], [\"United Kingdom\", 289, 2019], [\"United States\", 1219, 2019], [\"Uruguay\", 2, 2019], [\"Venezuela\", 2, 2019], [\"Vietnam\", 3, 2019], [\"West Germany\", 1, 2019], [\"nan\", 213, 2019]], \"geo\": \"geo\", \"hovertemplate\": \"<b>%{hovertext}</b><br><br>number_of_titles=%{z}<extra></extra>\", \"hovertext\": [\"\", \" Afghanistan\", \" Albania\", \" Argentina\", \" Armenia\", \" Australia\", \" Austria\", \" Azerbaijan\", \" Bangladesh\", \" Belgium\", \" Bermuda\", \" Brazil\", \" Bulgaria\", \" Cambodia\", \" Canada\", \" Cayman Islands\", \" Chile\", \" China\", \" Colombia\", \" Croatia\", \" Cuba\", \" Czech Republic\", \" Denmark\", \" Dominican Republic\", \" Ecuador\", \" Egypt\", \" Finland\", \" France\", \" Germany\", \" Greece\", \" Hong Kong\", \" Hungary\", \" Iceland\", \" India\", \" Indonesia\", \" Iran\", \" Iraq\", \" Ireland\", \" Israel\", \" Italy\", \" Japan\", \" Jordan\", \" Kazakhstan\", \" Kenya\", \" Kuwait\", \" Latvia\", \" Lebanon\", \" Lithuania\", \" Luxembourg\", \" Malaysia\", \" Mexico\", \" Mongolia\", \" Montenegro\", \" Morocco\", \" Namibia\", \" Nepal\", \" Netherlands\", \" New Zealand\", \" Nicaragua\", \" Norway\", \" Panama\", \" Peru\", \" Philippines\", \" Poland\", \" Portugal\", \" Qatar\", \" Romania\", \" Russia\", \" Samoa\", \" Senegal\", \" Serbia\", \" Singapore\", \" Slovakia\", \" Slovenia\", \" South Africa\", \" South Korea\", \" Soviet Union\", \" Spain\", \" Sri Lanka\", \" Sudan\", \" Sweden\", \" Switzerland\", \" Syria\", \" Taiwan\", \" Thailand\", \" Uganda\", \" Ukraine\", \" United Arab Emirates\", \" United Kingdom\", \" United States\", \" Uruguay\", \" Venezuela\", \" West Germany\", \" Zimbabwe\", \"Argentina\", \"Australia\", \"Austria\", \"Belgium\", \"Brazil\", \"Bulgaria\", \"Cambodia\", \"Canada\", \"Chile\", \"China\", \"Colombia\", \"Croatia\", \"Czech Republic\", \"Denmark\", \"Egypt\", \"Finland\", \"France\", \"Georgia\", \"Germany\", \"Greece\", \"Guatemala\", \"Hong Kong\", \"Hungary\", \"Iceland\", \"India\", \"Indonesia\", \"Ireland\", \"Israel\", \"Italy\", \"Japan\", \"Lebanon\", \"Malaysia\", \"Mexico\", \"Netherlands\", \"New Zealand\", \"Nigeria\", \"Norway\", \"Pakistan\", \"Peru\", \"Philippines\", \"Poland\", \"Portugal\", \"Russia\", \"Saudi Arabia\", \"Serbia\", \"Singapore\", \"Slovenia\", \"Somalia\", \"South Africa\", \"South Korea\", \"Soviet Union\", \"Spain\", \"Sweden\", \"Switzerland\", \"Taiwan\", \"Thailand\", \"Turkey\", \"Ukraine\", \"United Arab Emirates\", \"United Kingdom\", \"United States\", \"Uruguay\", \"Venezuela\", \"Vietnam\", \"West Germany\", \"nan\"], \"locationmode\": \"country names\", \"locations\": [\"\", \" Afghanistan\", \" Albania\", \" Argentina\", \" Armenia\", \" Australia\", \" Austria\", \" Azerbaijan\", \" Bangladesh\", \" Belgium\", \" Bermuda\", \" Brazil\", \" Bulgaria\", \" Cambodia\", \" Canada\", \" Cayman Islands\", \" Chile\", \" China\", \" Colombia\", \" Croatia\", \" Cuba\", \" Czech Republic\", \" Denmark\", \" Dominican Republic\", \" Ecuador\", \" Egypt\", \" Finland\", \" France\", \" Germany\", \" Greece\", \" Hong Kong\", \" Hungary\", \" Iceland\", \" India\", \" Indonesia\", \" Iran\", \" Iraq\", \" Ireland\", \" Israel\", \" Italy\", \" Japan\", \" Jordan\", \" Kazakhstan\", \" Kenya\", \" Kuwait\", \" Latvia\", \" Lebanon\", \" Lithuania\", \" Luxembourg\", \" Malaysia\", \" Mexico\", \" Mongolia\", \" Montenegro\", \" Morocco\", \" Namibia\", \" Nepal\", \" Netherlands\", \" New Zealand\", \" Nicaragua\", \" Norway\", \" Panama\", \" Peru\", \" Philippines\", \" Poland\", \" Portugal\", \" Qatar\", \" Romania\", \" Russia\", \" Samoa\", \" Senegal\", \" Serbia\", \" Singapore\", \" Slovakia\", \" Slovenia\", \" South Africa\", \" South Korea\", \" Soviet Union\", \" Spain\", \" Sri Lanka\", \" Sudan\", \" Sweden\", \" Switzerland\", \" Syria\", \" Taiwan\", \" Thailand\", \" Uganda\", \" Ukraine\", \" United Arab Emirates\", \" United Kingdom\", \" United States\", \" Uruguay\", \" Venezuela\", \" West Germany\", \" Zimbabwe\", \"Argentina\", \"Australia\", \"Austria\", \"Belgium\", \"Brazil\", \"Bulgaria\", \"Cambodia\", \"Canada\", \"Chile\", \"China\", \"Colombia\", \"Croatia\", \"Czech Republic\", \"Denmark\", \"Egypt\", \"Finland\", \"France\", \"Georgia\", \"Germany\", \"Greece\", \"Guatemala\", \"Hong Kong\", \"Hungary\", \"Iceland\", \"India\", \"Indonesia\", \"Ireland\", \"Israel\", \"Italy\", \"Japan\", \"Lebanon\", \"Malaysia\", \"Mexico\", \"Netherlands\", \"New Zealand\", \"Nigeria\", \"Norway\", \"Pakistan\", \"Peru\", \"Philippines\", \"Poland\", \"Portugal\", \"Russia\", \"Saudi Arabia\", \"Serbia\", \"Singapore\", \"Slovenia\", \"Somalia\", \"South Africa\", \"South Korea\", \"Soviet Union\", \"Spain\", \"Sweden\", \"Switzerland\", \"Taiwan\", \"Thailand\", \"Turkey\", \"Ukraine\", \"United Arab Emirates\", \"United Kingdom\", \"United States\", \"Uruguay\", \"Venezuela\", \"Vietnam\", \"West Germany\", \"nan\"], \"name\": \"\", \"z\": [2, 1, 1, 9, 1, 17, 2, 1, 1, 33, 1, 5, 2, 1, 68, 1, 4, 25, 4, 2, 1, 4, 8, 1, 1, 2, 2, 73, 42, 7, 14, 2, 2, 21, 4, 3, 1, 10, 6, 12, 25, 5, 1, 1, 1, 1, 2, 1, 3, 1, 15, 1, 1, 5, 1, 1, 14, 7, 1, 3, 1, 3, 2, 5, 1, 7, 1, 4, 1, 1, 2, 2, 1, 2, 14, 7, 2, 25, 1, 1, 15, 6, 1, 1, 1, 1, 1, 5, 60, 190, 4, 1, 1, 2, 37, 60, 2, 8, 33, 4, 2, 131, 15, 53, 18, 1, 5, 15, 2, 1, 86, 2, 41, 1, 1, 55, 2, 2, 512, 27, 17, 12, 25, 100, 2, 10, 64, 12, 8, 4, 12, 14, 4, 5, 4, 2, 12, 2, 2, 24, 1, 1, 6, 81, 1, 80, 8, 4, 48, 35, 55, 2, 6, 289, 1219, 2, 2, 3, 1, 213], \"type\": \"choropleth\"}], \"name\": \"2019\"}, {\"data\": [{\"coloraxis\": \"coloraxis\", \"customdata\": [[\"\", 3, 2020], [\" Afghanistan\", 1, 2020], [\" Albania\", 1, 2020], [\" Argentina\", 11, 2020], [\" Armenia\", 1, 2020], [\" Australia\", 30, 2020], [\" Austria\", 3, 2020], [\" Azerbaijan\", 1, 2020], [\" Bangladesh\", 1, 2020], [\" Belgium\", 51, 2020], [\" Bermuda\", 1, 2020], [\" Brazil\", 8, 2020], [\" Bulgaria\", 3, 2020], [\" Cambodia\", 2, 2020], [\" Canada\", 101, 2020], [\" Cayman Islands\", 1, 2020], [\" Chile\", 4, 2020], [\" China\", 43, 2020], [\" Colombia\", 6, 2020], [\" Croatia\", 2, 2020], [\" Cuba\", 1, 2020], [\" Czech Republic\", 10, 2020], [\" Denmark\", 10, 2020], [\" Dominican Republic\", 1, 2020], [\" Ecuador\", 1, 2020], [\" Egypt\", 2, 2020], [\" Finland\", 4, 2020], [\" France\", 109, 2020], [\" Germany\", 71, 2020], [\" Greece\", 7, 2020], [\" Guatemala\", 1, 2020], [\" Hong Kong\", 22, 2020], [\" Hungary\", 4, 2020], [\" Iceland\", 2, 2020], [\" India\", 27, 2020], [\" Indonesia\", 4, 2020], [\" Iran\", 3, 2020], [\" Iraq\", 2, 2020], [\" Ireland\", 12, 2020], [\" Israel\", 6, 2020], [\" Italy\", 22, 2020], [\" Japan\", 40, 2020], [\" Jordan\", 5, 2020], [\" Kazakhstan\", 1, 2020], [\" Kenya\", 1, 2020], [\" Kuwait\", 1, 2020], [\" Latvia\", 1, 2020], [\" Lebanon\", 2, 2020], [\" Liechtenstein\", 1, 2020], [\" Lithuania\", 1, 2020], [\" Luxembourg\", 7, 2020], [\" Malawi\", 1, 2020], [\" Malaysia\", 2, 2020], [\" Mexico\", 24, 2020], [\" Mongolia\", 1, 2020], [\" Montenegro\", 1, 2020], [\" Morocco\", 6, 2020], [\" Namibia\", 1, 2020], [\" Nepal\", 2, 2020], [\" Netherlands\", 16, 2020], [\" New Zealand\", 9, 2020], [\" Nicaragua\", 1, 2020], [\" Nigeria\", 2, 2020], [\" Norway\", 5, 2020], [\" Pakistan\", 2, 2020], [\" Panama\", 1, 2020], [\" Peru\", 4, 2020], [\" Philippines\", 2, 2020], [\" Poland\", 10, 2020], [\" Portugal\", 2, 2020], [\" Qatar\", 7, 2020], [\" Romania\", 2, 2020], [\" Russia\", 5, 2020], [\" Samoa\", 1, 2020], [\" Senegal\", 2, 2020], [\" Serbia\", 3, 2020], [\" Singapore\", 8, 2020], [\" Slovakia\", 1, 2020], [\" Slovenia\", 2, 2020], [\" South Africa\", 18, 2020], [\" South Korea\", 10, 2020], [\" Soviet Union\", 2, 2020], [\" Spain\", 35, 2020], [\" Sri Lanka\", 1, 2020], [\" Sudan\", 1, 2020], [\" Sweden\", 22, 2020], [\" Switzerland\", 8, 2020], [\" Syria\", 1, 2020], [\" Taiwan\", 3, 2020], [\" Thailand\", 2, 2020], [\" Turkey\", 1, 2020], [\" Uganda\", 1, 2020], [\" Ukraine\", 1, 2020], [\" United Arab Emirates\", 10, 2020], [\" United Kingdom\", 99, 2020], [\" United States\", 285, 2020], [\" Uruguay\", 5, 2020], [\" Vatican City\", 1, 2020], [\" Venezuela\", 1, 2020], [\" West Germany\", 3, 2020], [\" Zimbabwe\", 2, 2020], [\"Argentina\", 55, 2020], [\"Australia\", 83, 2020], [\"Austria\", 5, 2020], [\"Bangladesh\", 2, 2020], [\"Belgium\", 10, 2020], [\"Brazil\", 52, 2020], [\"Bulgaria\", 5, 2020], [\"Cambodia\", 2, 2020], [\"Canada\", 188, 2020], [\"Chile\", 17, 2020], [\"China\", 77, 2020], [\"Colombia\", 29, 2020], [\"Croatia\", 2, 2020], [\"Czech Republic\", 5, 2020], [\"Denmark\", 25, 2020], [\"Egypt\", 56, 2020], [\"Finland\", 3, 2020], [\"France\", 134, 2020], [\"Georgia\", 2, 2020], [\"Germany\", 61, 2020], [\"Ghana\", 2, 2020], [\"Greece\", 1, 2020], [\"Guatemala\", 1, 2020], [\"Hong Kong\", 72, 2020], [\"Hungary\", 2, 2020], [\"Iceland\", 3, 2020], [\"India\", 747, 2020], [\"Indonesia\", 45, 2020], [\"Iran\", 1, 2020], [\"Ireland\", 19, 2020], [\"Israel\", 18, 2020], [\"Italy\", 36, 2020], [\"Japan\", 163, 2020], [\"Jordan\", 1, 2020], [\"Kuwait\", 1, 2020], [\"Lebanon\", 6, 2020], [\"Malaysia\", 18, 2020], [\"Mauritius\", 1, 2020], [\"Mexico\", 96, 2020], [\"Netherlands\", 18, 2020], [\"New Zealand\", 11, 2020], [\"Nigeria\", 32, 2020], [\"Norway\", 13, 2020], [\"Pakistan\", 21, 2020], [\"Paraguay\", 1, 2020], [\"Peru\", 5, 2020], [\"Philippines\", 44, 2020], [\"Poland\", 15, 2020], [\"Portugal\", 2, 2020], [\"Romania\", 5, 2020], [\"Russia\", 15, 2020], [\"Saudi Arabia\", 2, 2020], [\"Serbia\", 2, 2020], [\"Singapore\", 27, 2020], [\"Slovenia\", 1, 2020], [\"Somalia\", 1, 2020], [\"South Africa\", 12, 2020], [\"South Korea\", 143, 2020], [\"Soviet Union\", 1, 2020], [\"Spain\", 129, 2020], [\"Sweden\", 12, 2020], [\"Switzerland\", 6, 2020], [\"Taiwan\", 70, 2020], [\"Thailand\", 54, 2020], [\"Turkey\", 77, 2020], [\"Ukraine\", 2, 2020], [\"United Arab Emirates\", 9, 2020], [\"United Kingdom\", 449, 2020], [\"United States\", 2050, 2020], [\"Uruguay\", 6, 2020], [\"Venezuela\", 2, 2020], [\"Vietnam\", 4, 2020], [\"West Germany\", 1, 2020], [\"nan\", 373, 2020]], \"geo\": \"geo\", \"hovertemplate\": \"<b>%{hovertext}</b><br><br>number_of_titles=%{z}<extra></extra>\", \"hovertext\": [\"\", \" Afghanistan\", \" Albania\", \" Argentina\", \" Armenia\", \" Australia\", \" Austria\", \" Azerbaijan\", \" Bangladesh\", \" Belgium\", \" Bermuda\", \" Brazil\", \" Bulgaria\", \" Cambodia\", \" Canada\", \" Cayman Islands\", \" Chile\", \" China\", \" Colombia\", \" Croatia\", \" Cuba\", \" Czech Republic\", \" Denmark\", \" Dominican Republic\", \" Ecuador\", \" Egypt\", \" Finland\", \" France\", \" Germany\", \" Greece\", \" Guatemala\", \" Hong Kong\", \" Hungary\", \" Iceland\", \" India\", \" Indonesia\", \" Iran\", \" Iraq\", \" Ireland\", \" Israel\", \" Italy\", \" Japan\", \" Jordan\", \" Kazakhstan\", \" Kenya\", \" Kuwait\", \" Latvia\", \" Lebanon\", \" Liechtenstein\", \" Lithuania\", \" Luxembourg\", \" Malawi\", \" Malaysia\", \" Mexico\", \" Mongolia\", \" Montenegro\", \" Morocco\", \" Namibia\", \" Nepal\", \" Netherlands\", \" New Zealand\", \" Nicaragua\", \" Nigeria\", \" Norway\", \" Pakistan\", \" Panama\", \" Peru\", \" Philippines\", \" Poland\", \" Portugal\", \" Qatar\", \" Romania\", \" Russia\", \" Samoa\", \" Senegal\", \" Serbia\", \" Singapore\", \" Slovakia\", \" Slovenia\", \" South Africa\", \" South Korea\", \" Soviet Union\", \" Spain\", \" Sri Lanka\", \" Sudan\", \" Sweden\", \" Switzerland\", \" Syria\", \" Taiwan\", \" Thailand\", \" Turkey\", \" Uganda\", \" Ukraine\", \" United Arab Emirates\", \" United Kingdom\", \" United States\", \" Uruguay\", \" Vatican City\", \" Venezuela\", \" West Germany\", \" Zimbabwe\", \"Argentina\", \"Australia\", \"Austria\", \"Bangladesh\", \"Belgium\", \"Brazil\", \"Bulgaria\", \"Cambodia\", \"Canada\", \"Chile\", \"China\", \"Colombia\", \"Croatia\", \"Czech Republic\", \"Denmark\", \"Egypt\", \"Finland\", \"France\", \"Georgia\", \"Germany\", \"Ghana\", \"Greece\", \"Guatemala\", \"Hong Kong\", \"Hungary\", \"Iceland\", \"India\", \"Indonesia\", \"Iran\", \"Ireland\", \"Israel\", \"Italy\", \"Japan\", \"Jordan\", \"Kuwait\", \"Lebanon\", \"Malaysia\", \"Mauritius\", \"Mexico\", \"Netherlands\", \"New Zealand\", \"Nigeria\", \"Norway\", \"Pakistan\", \"Paraguay\", \"Peru\", \"Philippines\", \"Poland\", \"Portugal\", \"Romania\", \"Russia\", \"Saudi Arabia\", \"Serbia\", \"Singapore\", \"Slovenia\", \"Somalia\", \"South Africa\", \"South Korea\", \"Soviet Union\", \"Spain\", \"Sweden\", \"Switzerland\", \"Taiwan\", \"Thailand\", \"Turkey\", \"Ukraine\", \"United Arab Emirates\", \"United Kingdom\", \"United States\", \"Uruguay\", \"Venezuela\", \"Vietnam\", \"West Germany\", \"nan\"], \"locationmode\": \"country names\", \"locations\": [\"\", \" Afghanistan\", \" Albania\", \" Argentina\", \" Armenia\", \" Australia\", \" Austria\", \" Azerbaijan\", \" Bangladesh\", \" Belgium\", \" Bermuda\", \" Brazil\", \" Bulgaria\", \" Cambodia\", \" Canada\", \" Cayman Islands\", \" Chile\", \" China\", \" Colombia\", \" Croatia\", \" Cuba\", \" Czech Republic\", \" Denmark\", \" Dominican Republic\", \" Ecuador\", \" Egypt\", \" Finland\", \" France\", \" Germany\", \" Greece\", \" Guatemala\", \" Hong Kong\", \" Hungary\", \" Iceland\", \" India\", \" Indonesia\", \" Iran\", \" Iraq\", \" Ireland\", \" Israel\", \" Italy\", \" Japan\", \" Jordan\", \" Kazakhstan\", \" Kenya\", \" Kuwait\", \" Latvia\", \" Lebanon\", \" Liechtenstein\", \" Lithuania\", \" Luxembourg\", \" Malawi\", \" Malaysia\", \" Mexico\", \" Mongolia\", \" Montenegro\", \" Morocco\", \" Namibia\", \" Nepal\", \" Netherlands\", \" New Zealand\", \" Nicaragua\", \" Nigeria\", \" Norway\", \" Pakistan\", \" Panama\", \" Peru\", \" Philippines\", \" Poland\", \" Portugal\", \" Qatar\", \" Romania\", \" Russia\", \" Samoa\", \" Senegal\", \" Serbia\", \" Singapore\", \" Slovakia\", \" Slovenia\", \" South Africa\", \" South Korea\", \" Soviet Union\", \" Spain\", \" Sri Lanka\", \" Sudan\", \" Sweden\", \" Switzerland\", \" Syria\", \" Taiwan\", \" Thailand\", \" Turkey\", \" Uganda\", \" Ukraine\", \" United Arab Emirates\", \" United Kingdom\", \" United States\", \" Uruguay\", \" Vatican City\", \" Venezuela\", \" West Germany\", \" Zimbabwe\", \"Argentina\", \"Australia\", \"Austria\", \"Bangladesh\", \"Belgium\", \"Brazil\", \"Bulgaria\", \"Cambodia\", \"Canada\", \"Chile\", \"China\", \"Colombia\", \"Croatia\", \"Czech Republic\", \"Denmark\", \"Egypt\", \"Finland\", \"France\", \"Georgia\", \"Germany\", \"Ghana\", \"Greece\", \"Guatemala\", \"Hong Kong\", \"Hungary\", \"Iceland\", \"India\", \"Indonesia\", \"Iran\", \"Ireland\", \"Israel\", \"Italy\", \"Japan\", \"Jordan\", \"Kuwait\", \"Lebanon\", \"Malaysia\", \"Mauritius\", \"Mexico\", \"Netherlands\", \"New Zealand\", \"Nigeria\", \"Norway\", \"Pakistan\", \"Paraguay\", \"Peru\", \"Philippines\", \"Poland\", \"Portugal\", \"Romania\", \"Russia\", \"Saudi Arabia\", \"Serbia\", \"Singapore\", \"Slovenia\", \"Somalia\", \"South Africa\", \"South Korea\", \"Soviet Union\", \"Spain\", \"Sweden\", \"Switzerland\", \"Taiwan\", \"Thailand\", \"Turkey\", \"Ukraine\", \"United Arab Emirates\", \"United Kingdom\", \"United States\", \"Uruguay\", \"Venezuela\", \"Vietnam\", \"West Germany\", \"nan\"], \"name\": \"\", \"z\": [3, 1, 1, 11, 1, 30, 3, 1, 1, 51, 1, 8, 3, 2, 101, 1, 4, 43, 6, 2, 1, 10, 10, 1, 1, 2, 4, 109, 71, 7, 1, 22, 4, 2, 27, 4, 3, 2, 12, 6, 22, 40, 5, 1, 1, 1, 1, 2, 1, 1, 7, 1, 2, 24, 1, 1, 6, 1, 2, 16, 9, 1, 2, 5, 2, 1, 4, 2, 10, 2, 7, 2, 5, 1, 2, 3, 8, 1, 2, 18, 10, 2, 35, 1, 1, 22, 8, 1, 3, 2, 1, 1, 1, 10, 99, 285, 5, 1, 1, 3, 2, 55, 83, 5, 2, 10, 52, 5, 2, 188, 17, 77, 29, 2, 5, 25, 56, 3, 134, 2, 61, 2, 1, 1, 72, 2, 3, 747, 45, 1, 19, 18, 36, 163, 1, 1, 6, 18, 1, 96, 18, 11, 32, 13, 21, 1, 5, 44, 15, 2, 5, 15, 2, 2, 27, 1, 1, 12, 143, 1, 129, 12, 6, 70, 54, 77, 2, 9, 449, 2050, 6, 2, 4, 1, 373], \"type\": \"choropleth\"}], \"name\": \"2020\"}, {\"data\": [{\"coloraxis\": \"coloraxis\", \"customdata\": [[\"\", 4, 2021], [\" Afghanistan\", 1, 2021], [\" Albania\", 1, 2021], [\" Algeria\", 2, 2021], [\" Angola\", 1, 2021], [\" Argentina\", 14, 2021], [\" Armenia\", 1, 2021], [\" Australia\", 35, 2021], [\" Austria\", 3, 2021], [\" Azerbaijan\", 1, 2021], [\" Bahamas\", 1, 2021], [\" Bangladesh\", 1, 2021], [\" Belgium\", 71, 2021], [\" Bermuda\", 1, 2021], [\" Botswana\", 1, 2021], [\" Brazil\", 9, 2021], [\" Bulgaria\", 4, 2021], [\" Cambodia\", 3, 2021], [\" Canada\", 148, 2021], [\" Cayman Islands\", 1, 2021], [\" Chile\", 5, 2021], [\" China\", 61, 2021], [\" Colombia\", 9, 2021], [\" Croatia\", 2, 2021], [\" Cuba\", 1, 2021], [\" Czech Republic\", 15, 2021], [\" Denmark\", 14, 2021], [\" Dominican Republic\", 1, 2021], [\" East Germany\", 1, 2021], [\" Ecuador\", 1, 2021], [\" Egypt\", 5, 2021], [\" Finland\", 5, 2021], [\" France\", 149, 2021], [\" Germany\", 105, 2021], [\" Greece\", 9, 2021], [\" Guatemala\", 1, 2021], [\" Hong Kong\", 24, 2021], [\" Hungary\", 4, 2021], [\" Iceland\", 4, 2021], [\" India\", 34, 2021], [\" Indonesia\", 4, 2021], [\" Iran\", 3, 2021], [\" Iraq\", 2, 2021], [\" Ireland\", 14, 2021], [\" Israel\", 7, 2021], [\" Italy\", 31, 2021], [\" Japan\", 50, 2021], [\" Jordan\", 7, 2021], [\" Kazakhstan\", 1, 2021], [\" Kenya\", 2, 2021], [\" Kuwait\", 1, 2021], [\" Latvia\", 1, 2021], [\" Lebanon\", 6, 2021], [\" Liechtenstein\", 1, 2021], [\" Lithuania\", 1, 2021], [\" Luxembourg\", 11, 2021], [\" Malawi\", 1, 2021], [\" Malaysia\", 3, 2021], [\" Malta\", 3, 2021], [\" Mexico\", 31, 2021], [\" Mongolia\", 1, 2021], [\" Montenegro\", 1, 2021], [\" Morocco\", 6, 2021], [\" Namibia\", 1, 2021], [\" Nepal\", 2, 2021], [\" Netherlands\", 20, 2021], [\" New Zealand\", 13, 2021], [\" Nicaragua\", 1, 2021], [\" Nigeria\", 5, 2021], [\" Norway\", 8, 2021], [\" Pakistan\", 2, 2021], [\" Panama\", 1, 2021], [\" Peru\", 4, 2021], [\" Philippines\", 3, 2021], [\" Poland\", 10, 2021], [\" Portugal\", 2, 2021], [\" Qatar\", 7, 2021], [\" Romania\", 2, 2021], [\" Russia\", 7, 2021], [\" Samoa\", 1, 2021], [\" Senegal\", 2, 2021], [\" Serbia\", 4, 2021], [\" Singapore\", 11, 2021], [\" Slovakia\", 1, 2021], [\" Slovenia\", 2, 2021], [\" South Africa\", 19, 2021], [\" South Korea\", 18, 2021], [\" Soviet Union\", 2, 2021], [\" Spain\", 45, 2021], [\" Sri Lanka\", 1, 2021], [\" Sudan\", 1, 2021], [\" Sweden\", 22, 2021], [\" Switzerland\", 10, 2021], [\" Syria\", 1, 2021], [\" Taiwan\", 3, 2021], [\" Thailand\", 3, 2021], [\" Turkey\", 2, 2021], [\" Uganda\", 1, 2021], [\" Ukraine\", 1, 2021], [\" United Arab Emirates\", 15, 2021], [\" United Kingdom\", 144, 2021], [\" United States\", 404, 2021], [\" Uruguay\", 5, 2021], [\" Vatican City\", 1, 2021], [\" Venezuela\", 1, 2021], [\" West Germany\", 4, 2021], [\" Zimbabwe\", 2, 2021], [\"Argentina\", 68, 2021], [\"Australia\", 108, 2021], [\"Austria\", 8, 2021], [\"Bangladesh\", 2, 2021], [\"Belarus\", 1, 2021], [\"Belgium\", 14, 2021], [\"Brazil\", 78, 2021], [\"Bulgaria\", 5, 2021], [\"Cambodia\", 2, 2021], [\"Canada\", 256, 2021], [\"Chile\", 21, 2021], [\"China\", 86, 2021], [\"Colombia\", 36, 2021], [\"Croatia\", 2, 2021], [\"Cyprus\", 1, 2021], [\"Czech Republic\", 5, 2021], [\"Denmark\", 30, 2021], [\"Egypt\", 105, 2021], [\"Finland\", 6, 2021], [\"France\", 193, 2021], [\"Georgia\", 2, 2021], [\"Germany\", 90, 2021], [\"Ghana\", 4, 2021], [\"Greece\", 1, 2021], [\"Guatemala\", 1, 2021], [\"Hong Kong\", 76, 2021], [\"Hungary\", 4, 2021], [\"Iceland\", 5, 2021], [\"India\", 943, 2021], [\"Indonesia\", 74, 2021], [\"Iran\", 1, 2021], [\"Ireland\", 26, 2021], [\"Israel\", 19, 2021], [\"Italy\", 59, 2021], [\"Jamaica\", 1, 2021], [\"Japan\", 236, 2021], [\"Jordan\", 1, 2021], [\"Kenya\", 3, 2021], [\"Kuwait\", 6, 2021], [\"Lebanon\", 20, 2021], [\"Malaysia\", 23, 2021], [\"Mauritius\", 1, 2021], [\"Mexico\", 121, 2021], [\"Namibia\", 1, 2021], [\"Netherlands\", 25, 2021], [\"New Zealand\", 15, 2021], [\"Nigeria\", 71, 2021], [\"Norway\", 19, 2021], [\"Pakistan\", 22, 2021], [\"Paraguay\", 1, 2021], [\"Peru\", 6, 2021], [\"Philippines\", 75, 2021], [\"Poland\", 26, 2021], [\"Portugal\", 2, 2021], [\"Puerto Rico\", 1, 2021], [\"Romania\", 10, 2021], [\"Russia\", 20, 2021], [\"Saudi Arabia\", 10, 2021], [\"Senegal\", 1, 2021], [\"Serbia\", 3, 2021], [\"Singapore\", 28, 2021], [\"Slovenia\", 1, 2021], [\"Somalia\", 1, 2021], [\"South Africa\", 35, 2021], [\"South Korea\", 193, 2021], [\"Soviet Union\", 1, 2021], [\"Spain\", 167, 2021], [\"Sweden\", 16, 2021], [\"Switzerland\", 7, 2021], [\"Taiwan\", 82, 2021], [\"Thailand\", 61, 2021], [\"Turkey\", 105, 2021], [\"Ukraine\", 2, 2021], [\"United Arab Emirates\", 19, 2021], [\"United Kingdom\", 571, 2021], [\"United States\", 2819, 2021], [\"Uruguay\", 9, 2021], [\"Venezuela\", 2, 2021], [\"Vietnam\", 5, 2021], [\"West Germany\", 1, 2021], [\"Zimbabwe\", 1, 2021], [\"nan\", 492, 2021]], \"geo\": \"geo\", \"hovertemplate\": \"<b>%{hovertext}</b><br><br>number_of_titles=%{z}<extra></extra>\", \"hovertext\": [\"\", \" Afghanistan\", \" Albania\", \" Algeria\", \" Angola\", \" Argentina\", \" Armenia\", \" Australia\", \" Austria\", \" Azerbaijan\", \" Bahamas\", \" Bangladesh\", \" Belgium\", \" Bermuda\", \" Botswana\", \" Brazil\", \" Bulgaria\", \" Cambodia\", \" Canada\", \" Cayman Islands\", \" Chile\", \" China\", \" Colombia\", \" Croatia\", \" Cuba\", \" Czech Republic\", \" Denmark\", \" Dominican Republic\", \" East Germany\", \" Ecuador\", \" Egypt\", \" Finland\", \" France\", \" Germany\", \" Greece\", \" Guatemala\", \" Hong Kong\", \" Hungary\", \" Iceland\", \" India\", \" Indonesia\", \" Iran\", \" Iraq\", \" Ireland\", \" Israel\", \" Italy\", \" Japan\", \" Jordan\", \" Kazakhstan\", \" Kenya\", \" Kuwait\", \" Latvia\", \" Lebanon\", \" Liechtenstein\", \" Lithuania\", \" Luxembourg\", \" Malawi\", \" Malaysia\", \" Malta\", \" Mexico\", \" Mongolia\", \" Montenegro\", \" Morocco\", \" Namibia\", \" Nepal\", \" Netherlands\", \" New Zealand\", \" Nicaragua\", \" Nigeria\", \" Norway\", \" Pakistan\", \" Panama\", \" Peru\", \" Philippines\", \" Poland\", \" Portugal\", \" Qatar\", \" Romania\", \" Russia\", \" Samoa\", \" Senegal\", \" Serbia\", \" Singapore\", \" Slovakia\", \" Slovenia\", \" South Africa\", \" South Korea\", \" Soviet Union\", \" Spain\", \" Sri Lanka\", \" Sudan\", \" Sweden\", \" Switzerland\", \" Syria\", \" Taiwan\", \" Thailand\", \" Turkey\", \" Uganda\", \" Ukraine\", \" United Arab Emirates\", \" United Kingdom\", \" United States\", \" Uruguay\", \" Vatican City\", \" Venezuela\", \" West Germany\", \" Zimbabwe\", \"Argentina\", \"Australia\", \"Austria\", \"Bangladesh\", \"Belarus\", \"Belgium\", \"Brazil\", \"Bulgaria\", \"Cambodia\", \"Canada\", \"Chile\", \"China\", \"Colombia\", \"Croatia\", \"Cyprus\", \"Czech Republic\", \"Denmark\", \"Egypt\", \"Finland\", \"France\", \"Georgia\", \"Germany\", \"Ghana\", \"Greece\", \"Guatemala\", \"Hong Kong\", \"Hungary\", \"Iceland\", \"India\", \"Indonesia\", \"Iran\", \"Ireland\", \"Israel\", \"Italy\", \"Jamaica\", \"Japan\", \"Jordan\", \"Kenya\", \"Kuwait\", \"Lebanon\", \"Malaysia\", \"Mauritius\", \"Mexico\", \"Namibia\", \"Netherlands\", \"New Zealand\", \"Nigeria\", \"Norway\", \"Pakistan\", \"Paraguay\", \"Peru\", \"Philippines\", \"Poland\", \"Portugal\", \"Puerto Rico\", \"Romania\", \"Russia\", \"Saudi Arabia\", \"Senegal\", \"Serbia\", \"Singapore\", \"Slovenia\", \"Somalia\", \"South Africa\", \"South Korea\", \"Soviet Union\", \"Spain\", \"Sweden\", \"Switzerland\", \"Taiwan\", \"Thailand\", \"Turkey\", \"Ukraine\", \"United Arab Emirates\", \"United Kingdom\", \"United States\", \"Uruguay\", \"Venezuela\", \"Vietnam\", \"West Germany\", \"Zimbabwe\", \"nan\"], \"locationmode\": \"country names\", \"locations\": [\"\", \" Afghanistan\", \" Albania\", \" Algeria\", \" Angola\", \" Argentina\", \" Armenia\", \" Australia\", \" Austria\", \" Azerbaijan\", \" Bahamas\", \" Bangladesh\", \" Belgium\", \" Bermuda\", \" Botswana\", \" Brazil\", \" Bulgaria\", \" Cambodia\", \" Canada\", \" Cayman Islands\", \" Chile\", \" China\", \" Colombia\", \" Croatia\", \" Cuba\", \" Czech Republic\", \" Denmark\", \" Dominican Republic\", \" East Germany\", \" Ecuador\", \" Egypt\", \" Finland\", \" France\", \" Germany\", \" Greece\", \" Guatemala\", \" Hong Kong\", \" Hungary\", \" Iceland\", \" India\", \" Indonesia\", \" Iran\", \" Iraq\", \" Ireland\", \" Israel\", \" Italy\", \" Japan\", \" Jordan\", \" Kazakhstan\", \" Kenya\", \" Kuwait\", \" Latvia\", \" Lebanon\", \" Liechtenstein\", \" Lithuania\", \" Luxembourg\", \" Malawi\", \" Malaysia\", \" Malta\", \" Mexico\", \" Mongolia\", \" Montenegro\", \" Morocco\", \" Namibia\", \" Nepal\", \" Netherlands\", \" New Zealand\", \" Nicaragua\", \" Nigeria\", \" Norway\", \" Pakistan\", \" Panama\", \" Peru\", \" Philippines\", \" Poland\", \" Portugal\", \" Qatar\", \" Romania\", \" Russia\", \" Samoa\", \" Senegal\", \" Serbia\", \" Singapore\", \" Slovakia\", \" Slovenia\", \" South Africa\", \" South Korea\", \" Soviet Union\", \" Spain\", \" Sri Lanka\", \" Sudan\", \" Sweden\", \" Switzerland\", \" Syria\", \" Taiwan\", \" Thailand\", \" Turkey\", \" Uganda\", \" Ukraine\", \" United Arab Emirates\", \" United Kingdom\", \" United States\", \" Uruguay\", \" Vatican City\", \" Venezuela\", \" West Germany\", \" Zimbabwe\", \"Argentina\", \"Australia\", \"Austria\", \"Bangladesh\", \"Belarus\", \"Belgium\", \"Brazil\", \"Bulgaria\", \"Cambodia\", \"Canada\", \"Chile\", \"China\", \"Colombia\", \"Croatia\", \"Cyprus\", \"Czech Republic\", \"Denmark\", \"Egypt\", \"Finland\", \"France\", \"Georgia\", \"Germany\", \"Ghana\", \"Greece\", \"Guatemala\", \"Hong Kong\", \"Hungary\", \"Iceland\", \"India\", \"Indonesia\", \"Iran\", \"Ireland\", \"Israel\", \"Italy\", \"Jamaica\", \"Japan\", \"Jordan\", \"Kenya\", \"Kuwait\", \"Lebanon\", \"Malaysia\", \"Mauritius\", \"Mexico\", \"Namibia\", \"Netherlands\", \"New Zealand\", \"Nigeria\", \"Norway\", \"Pakistan\", \"Paraguay\", \"Peru\", \"Philippines\", \"Poland\", \"Portugal\", \"Puerto Rico\", \"Romania\", \"Russia\", \"Saudi Arabia\", \"Senegal\", \"Serbia\", \"Singapore\", \"Slovenia\", \"Somalia\", \"South Africa\", \"South Korea\", \"Soviet Union\", \"Spain\", \"Sweden\", \"Switzerland\", \"Taiwan\", \"Thailand\", \"Turkey\", \"Ukraine\", \"United Arab Emirates\", \"United Kingdom\", \"United States\", \"Uruguay\", \"Venezuela\", \"Vietnam\", \"West Germany\", \"Zimbabwe\", \"nan\"], \"name\": \"\", \"z\": [4, 1, 1, 2, 1, 14, 1, 35, 3, 1, 1, 1, 71, 1, 1, 9, 4, 3, 148, 1, 5, 61, 9, 2, 1, 15, 14, 1, 1, 1, 5, 5, 149, 105, 9, 1, 24, 4, 4, 34, 4, 3, 2, 14, 7, 31, 50, 7, 1, 2, 1, 1, 6, 1, 1, 11, 1, 3, 3, 31, 1, 1, 6, 1, 2, 20, 13, 1, 5, 8, 2, 1, 4, 3, 10, 2, 7, 2, 7, 1, 2, 4, 11, 1, 2, 19, 18, 2, 45, 1, 1, 22, 10, 1, 3, 3, 2, 1, 1, 15, 144, 404, 5, 1, 1, 4, 2, 68, 108, 8, 2, 1, 14, 78, 5, 2, 256, 21, 86, 36, 2, 1, 5, 30, 105, 6, 193, 2, 90, 4, 1, 1, 76, 4, 5, 943, 74, 1, 26, 19, 59, 1, 236, 1, 3, 6, 20, 23, 1, 121, 1, 25, 15, 71, 19, 22, 1, 6, 75, 26, 2, 1, 10, 20, 10, 1, 3, 28, 1, 1, 35, 193, 1, 167, 16, 7, 82, 61, 105, 2, 19, 571, 2819, 9, 2, 5, 1, 1, 492], \"type\": \"choropleth\"}], \"name\": \"2021\"}]);\n",
       "                        }).then(function(){\n",
       "                            \n",
       "var gd = document.getElementById('c6794581-ec4f-4dec-aca8-5c1334eb81d8');\n",
       "var x = new MutationObserver(function (mutations, observer) {{\n",
       "        var display = window.getComputedStyle(gd).display;\n",
       "        if (!display || display === 'none') {{\n",
       "            console.log([gd, 'removed!']);\n",
       "            Plotly.purge(gd);\n",
       "            observer.disconnect();\n",
       "        }}\n",
       "}});\n",
       "\n",
       "// Listen for the removal of the full notebook cells\n",
       "var notebookContainer = gd.closest('#notebook-container');\n",
       "if (notebookContainer) {{\n",
       "    x.observe(notebookContainer, {childList: true});\n",
       "}}\n",
       "\n",
       "// Listen for the clearing of the current output cell\n",
       "var outputEl = gd.closest('.output');\n",
       "if (outputEl) {{\n",
       "    x.observe(outputEl, {childList: true});\n",
       "}}\n",
       "\n",
       "                        })                };                });            </script>        </div>"
      ]
     },
     "metadata": {},
     "output_type": "display_data"
    }
   ],
   "source": [
    "px.choropleth(counts_by_year_and_country,\n",
    "              locations=\"country\",\n",
    "              color=\"number_of_titles\",\n",
    "              hover_name=\"country\",\n",
    "              hover_data={\n",
    "                  \"country\": False,\n",
    "                  \"number_of_titles\": True,\n",
    "                  \"added_year\": False,\n",
    "              },\n",
    "              locationmode='country names',\n",
    "              animation_frame=\"added_year\",\n",
    "              color_continuous_scale='reds',\n",
    "              height=600)"
   ]
  },
  {
   "cell_type": "markdown",
   "metadata": {},
   "source": [
    "### 2. Percentage of TV shows vs movies produced each year"
   ]
  },
  {
   "cell_type": "code",
   "execution_count": 5,
   "metadata": {},
   "outputs": [
    {
     "data": {
      "text/html": [
       "<div>\n",
       "<style scoped>\n",
       "    .dataframe tbody tr th:only-of-type {\n",
       "        vertical-align: middle;\n",
       "    }\n",
       "\n",
       "    .dataframe tbody tr th {\n",
       "        vertical-align: top;\n",
       "    }\n",
       "\n",
       "    .dataframe thead th {\n",
       "        text-align: right;\n",
       "    }\n",
       "</style>\n",
       "<table border=\"1\" class=\"dataframe\">\n",
       "  <thead>\n",
       "    <tr style=\"text-align: right;\">\n",
       "      <th></th>\n",
       "      <th>show_id</th>\n",
       "      <th>type</th>\n",
       "      <th>title</th>\n",
       "      <th>director</th>\n",
       "      <th>cast</th>\n",
       "      <th>country</th>\n",
       "      <th>date_added</th>\n",
       "      <th>release_year</th>\n",
       "      <th>rating</th>\n",
       "      <th>duration</th>\n",
       "      <th>listed_in</th>\n",
       "      <th>description</th>\n",
       "      <th>added_year</th>\n",
       "    </tr>\n",
       "  </thead>\n",
       "  <tbody>\n",
       "    <tr>\n",
       "      <th>0</th>\n",
       "      <td>s1</td>\n",
       "      <td>TV Show</td>\n",
       "      <td>3%</td>\n",
       "      <td>NaN</td>\n",
       "      <td>João Miguel, Bianca Comparato, Michel Gomes, R...</td>\n",
       "      <td>Brazil</td>\n",
       "      <td>August 14, 2020</td>\n",
       "      <td>2020</td>\n",
       "      <td>TV-MA</td>\n",
       "      <td>4 Seasons</td>\n",
       "      <td>International TV Shows, TV Dramas, TV Sci-Fi &amp;...</td>\n",
       "      <td>In a future where the elite inhabit an island ...</td>\n",
       "      <td>2020</td>\n",
       "    </tr>\n",
       "    <tr>\n",
       "      <th>1</th>\n",
       "      <td>s2</td>\n",
       "      <td>Movie</td>\n",
       "      <td>7:19</td>\n",
       "      <td>Jorge Michel Grau</td>\n",
       "      <td>Demián Bichir, Héctor Bonilla, Oscar Serrano, ...</td>\n",
       "      <td>Mexico</td>\n",
       "      <td>December 23, 2016</td>\n",
       "      <td>2016</td>\n",
       "      <td>TV-MA</td>\n",
       "      <td>93 min</td>\n",
       "      <td>Dramas, International Movies</td>\n",
       "      <td>After a devastating earthquake hits Mexico Cit...</td>\n",
       "      <td>2016</td>\n",
       "    </tr>\n",
       "    <tr>\n",
       "      <th>2</th>\n",
       "      <td>s3</td>\n",
       "      <td>Movie</td>\n",
       "      <td>23:59</td>\n",
       "      <td>Gilbert Chan</td>\n",
       "      <td>Tedd Chan, Stella Chung, Henley Hii, Lawrence ...</td>\n",
       "      <td>Singapore</td>\n",
       "      <td>December 20, 2018</td>\n",
       "      <td>2011</td>\n",
       "      <td>R</td>\n",
       "      <td>78 min</td>\n",
       "      <td>Horror Movies, International Movies</td>\n",
       "      <td>When an army recruit is found dead, his fellow...</td>\n",
       "      <td>2018</td>\n",
       "    </tr>\n",
       "    <tr>\n",
       "      <th>3</th>\n",
       "      <td>s4</td>\n",
       "      <td>Movie</td>\n",
       "      <td>9</td>\n",
       "      <td>Shane Acker</td>\n",
       "      <td>Elijah Wood, John C. Reilly, Jennifer Connelly...</td>\n",
       "      <td>United States</td>\n",
       "      <td>November 16, 2017</td>\n",
       "      <td>2009</td>\n",
       "      <td>PG-13</td>\n",
       "      <td>80 min</td>\n",
       "      <td>Action &amp; Adventure, Independent Movies, Sci-Fi...</td>\n",
       "      <td>In a postapocalyptic world, rag-doll robots hi...</td>\n",
       "      <td>2017</td>\n",
       "    </tr>\n",
       "    <tr>\n",
       "      <th>4</th>\n",
       "      <td>s5</td>\n",
       "      <td>Movie</td>\n",
       "      <td>21</td>\n",
       "      <td>Robert Luketic</td>\n",
       "      <td>Jim Sturgess, Kevin Spacey, Kate Bosworth, Aar...</td>\n",
       "      <td>United States</td>\n",
       "      <td>January 1, 2020</td>\n",
       "      <td>2008</td>\n",
       "      <td>PG-13</td>\n",
       "      <td>123 min</td>\n",
       "      <td>Dramas</td>\n",
       "      <td>A brilliant group of students become card-coun...</td>\n",
       "      <td>2020</td>\n",
       "    </tr>\n",
       "    <tr>\n",
       "      <th>...</th>\n",
       "      <td>...</td>\n",
       "      <td>...</td>\n",
       "      <td>...</td>\n",
       "      <td>...</td>\n",
       "      <td>...</td>\n",
       "      <td>...</td>\n",
       "      <td>...</td>\n",
       "      <td>...</td>\n",
       "      <td>...</td>\n",
       "      <td>...</td>\n",
       "      <td>...</td>\n",
       "      <td>...</td>\n",
       "      <td>...</td>\n",
       "    </tr>\n",
       "    <tr>\n",
       "      <th>7782</th>\n",
       "      <td>s7783</td>\n",
       "      <td>Movie</td>\n",
       "      <td>Zozo</td>\n",
       "      <td>Josef Fares</td>\n",
       "      <td>Imad Creidi, Antoinette Turk, Elias Gergi, Car...</td>\n",
       "      <td>Sweden, Czech Republic, United Kingdom, Denmar...</td>\n",
       "      <td>October 19, 2020</td>\n",
       "      <td>2005</td>\n",
       "      <td>TV-MA</td>\n",
       "      <td>99 min</td>\n",
       "      <td>Dramas, International Movies</td>\n",
       "      <td>When Lebanon's Civil War deprives Zozo of his ...</td>\n",
       "      <td>2020</td>\n",
       "    </tr>\n",
       "    <tr>\n",
       "      <th>7783</th>\n",
       "      <td>s7784</td>\n",
       "      <td>Movie</td>\n",
       "      <td>Zubaan</td>\n",
       "      <td>Mozez Singh</td>\n",
       "      <td>Vicky Kaushal, Sarah-Jane Dias, Raaghav Chanan...</td>\n",
       "      <td>India</td>\n",
       "      <td>March 2, 2019</td>\n",
       "      <td>2015</td>\n",
       "      <td>TV-14</td>\n",
       "      <td>111 min</td>\n",
       "      <td>Dramas, International Movies, Music &amp; Musicals</td>\n",
       "      <td>A scrappy but poor boy worms his way into a ty...</td>\n",
       "      <td>2019</td>\n",
       "    </tr>\n",
       "    <tr>\n",
       "      <th>7784</th>\n",
       "      <td>s7785</td>\n",
       "      <td>Movie</td>\n",
       "      <td>Zulu Man in Japan</td>\n",
       "      <td>NaN</td>\n",
       "      <td>Nasty C</td>\n",
       "      <td>NaN</td>\n",
       "      <td>September 25, 2020</td>\n",
       "      <td>2019</td>\n",
       "      <td>TV-MA</td>\n",
       "      <td>44 min</td>\n",
       "      <td>Documentaries, International Movies, Music &amp; M...</td>\n",
       "      <td>In this documentary, South African rapper Nast...</td>\n",
       "      <td>2020</td>\n",
       "    </tr>\n",
       "    <tr>\n",
       "      <th>7785</th>\n",
       "      <td>s7786</td>\n",
       "      <td>TV Show</td>\n",
       "      <td>Zumbo's Just Desserts</td>\n",
       "      <td>NaN</td>\n",
       "      <td>Adriano Zumbo, Rachel Khoo</td>\n",
       "      <td>Australia</td>\n",
       "      <td>October 31, 2020</td>\n",
       "      <td>2019</td>\n",
       "      <td>TV-PG</td>\n",
       "      <td>1 Season</td>\n",
       "      <td>International TV Shows, Reality TV</td>\n",
       "      <td>Dessert wizard Adriano Zumbo looks for the nex...</td>\n",
       "      <td>2020</td>\n",
       "    </tr>\n",
       "    <tr>\n",
       "      <th>7786</th>\n",
       "      <td>s7787</td>\n",
       "      <td>Movie</td>\n",
       "      <td>ZZ TOP: THAT LITTLE OL' BAND FROM TEXAS</td>\n",
       "      <td>Sam Dunn</td>\n",
       "      <td>NaN</td>\n",
       "      <td>United Kingdom, Canada, United States</td>\n",
       "      <td>March 1, 2020</td>\n",
       "      <td>2019</td>\n",
       "      <td>TV-MA</td>\n",
       "      <td>90 min</td>\n",
       "      <td>Documentaries, Music &amp; Musicals</td>\n",
       "      <td>This documentary delves into the mystique behi...</td>\n",
       "      <td>2020</td>\n",
       "    </tr>\n",
       "  </tbody>\n",
       "</table>\n",
       "<p>7787 rows × 13 columns</p>\n",
       "</div>"
      ],
      "text/plain": [
       "     show_id     type                                    title  \\\n",
       "0         s1  TV Show                                       3%   \n",
       "1         s2    Movie                                     7:19   \n",
       "2         s3    Movie                                    23:59   \n",
       "3         s4    Movie                                        9   \n",
       "4         s5    Movie                                       21   \n",
       "...      ...      ...                                      ...   \n",
       "7782   s7783    Movie                                     Zozo   \n",
       "7783   s7784    Movie                                   Zubaan   \n",
       "7784   s7785    Movie                        Zulu Man in Japan   \n",
       "7785   s7786  TV Show                    Zumbo's Just Desserts   \n",
       "7786   s7787    Movie  ZZ TOP: THAT LITTLE OL' BAND FROM TEXAS   \n",
       "\n",
       "               director                                               cast  \\\n",
       "0                   NaN  João Miguel, Bianca Comparato, Michel Gomes, R...   \n",
       "1     Jorge Michel Grau  Demián Bichir, Héctor Bonilla, Oscar Serrano, ...   \n",
       "2          Gilbert Chan  Tedd Chan, Stella Chung, Henley Hii, Lawrence ...   \n",
       "3           Shane Acker  Elijah Wood, John C. Reilly, Jennifer Connelly...   \n",
       "4        Robert Luketic  Jim Sturgess, Kevin Spacey, Kate Bosworth, Aar...   \n",
       "...                 ...                                                ...   \n",
       "7782        Josef Fares  Imad Creidi, Antoinette Turk, Elias Gergi, Car...   \n",
       "7783        Mozez Singh  Vicky Kaushal, Sarah-Jane Dias, Raaghav Chanan...   \n",
       "7784                NaN                                            Nasty C   \n",
       "7785                NaN                         Adriano Zumbo, Rachel Khoo   \n",
       "7786           Sam Dunn                                                NaN   \n",
       "\n",
       "                                                country          date_added  \\\n",
       "0                                                Brazil     August 14, 2020   \n",
       "1                                                Mexico   December 23, 2016   \n",
       "2                                             Singapore   December 20, 2018   \n",
       "3                                         United States   November 16, 2017   \n",
       "4                                         United States     January 1, 2020   \n",
       "...                                                 ...                 ...   \n",
       "7782  Sweden, Czech Republic, United Kingdom, Denmar...    October 19, 2020   \n",
       "7783                                              India       March 2, 2019   \n",
       "7784                                                NaN  September 25, 2020   \n",
       "7785                                          Australia    October 31, 2020   \n",
       "7786              United Kingdom, Canada, United States       March 1, 2020   \n",
       "\n",
       "      release_year rating   duration  \\\n",
       "0             2020  TV-MA  4 Seasons   \n",
       "1             2016  TV-MA     93 min   \n",
       "2             2011      R     78 min   \n",
       "3             2009  PG-13     80 min   \n",
       "4             2008  PG-13    123 min   \n",
       "...            ...    ...        ...   \n",
       "7782          2005  TV-MA     99 min   \n",
       "7783          2015  TV-14    111 min   \n",
       "7784          2019  TV-MA     44 min   \n",
       "7785          2019  TV-PG   1 Season   \n",
       "7786          2019  TV-MA     90 min   \n",
       "\n",
       "                                              listed_in  \\\n",
       "0     International TV Shows, TV Dramas, TV Sci-Fi &...   \n",
       "1                          Dramas, International Movies   \n",
       "2                   Horror Movies, International Movies   \n",
       "3     Action & Adventure, Independent Movies, Sci-Fi...   \n",
       "4                                                Dramas   \n",
       "...                                                 ...   \n",
       "7782                       Dramas, International Movies   \n",
       "7783     Dramas, International Movies, Music & Musicals   \n",
       "7784  Documentaries, International Movies, Music & M...   \n",
       "7785                 International TV Shows, Reality TV   \n",
       "7786                    Documentaries, Music & Musicals   \n",
       "\n",
       "                                            description  added_year  \n",
       "0     In a future where the elite inhabit an island ...        2020  \n",
       "1     After a devastating earthquake hits Mexico Cit...        2016  \n",
       "2     When an army recruit is found dead, his fellow...        2018  \n",
       "3     In a postapocalyptic world, rag-doll robots hi...        2017  \n",
       "4     A brilliant group of students become card-coun...        2020  \n",
       "...                                                 ...         ...  \n",
       "7782  When Lebanon's Civil War deprives Zozo of his ...        2020  \n",
       "7783  A scrappy but poor boy worms his way into a ty...        2019  \n",
       "7784  In this documentary, South African rapper Nast...        2020  \n",
       "7785  Dessert wizard Adriano Zumbo looks for the nex...        2020  \n",
       "7786  This documentary delves into the mystique behi...        2020  \n",
       "\n",
       "[7787 rows x 13 columns]"
      ]
     },
     "execution_count": 5,
     "metadata": {},
     "output_type": "execute_result"
    }
   ],
   "source": [
    "percentages = dataframe.copy()\n",
    "\n",
    "percentages['added_year'] = percentages['date_added'].apply(\n",
    "    parse_time)\n",
    "percentages"
   ]
  },
  {
   "cell_type": "code",
   "execution_count": 6,
   "metadata": {},
   "outputs": [],
   "source": [
    "years = sorted(percentages['added_year'].unique())"
   ]
  },
  {
   "cell_type": "code",
   "execution_count": 58,
   "metadata": {},
   "outputs": [],
   "source": [
    "counts_by_year_percentage = {\"Year\": [], \"TV Shows %\": [], \"Movies %\": []}\n",
    "\n",
    "for year in years:\n",
    "\n",
    "    for_year = percentages[percentages['added_year'] <= year]\n",
    "\n",
    "    shows_count = for_year[for_year['type'] == 'TV Show'].shape[0]\n",
    "    movies_count = for_year[for_year['type'] == 'Movie'].shape[0]\n",
    "    shows_percentage = round(shows_count * 100 / for_year.shape[0], 2)\n",
    "    movies_percentage = round(movies_count * 100 / for_year.shape[0], 2)\n",
    "    \n",
    "    counts_by_year_percentage['Year'].append(year)\n",
    "    counts_by_year_percentage['TV Shows %'].append(shows_percentage)\n",
    "    counts_by_year_percentage['Movies %'].append(movies_percentage)\n",
    "    \n",
    "\n",
    "counts_by_year_percentage= pd.DataFrame(counts_by_year_percentage)\n",
    "counts_by_year_percentage = counts_by_year_percentage[counts_by_year_percentage['Year'] != 0]"
   ]
  },
  {
   "cell_type": "code",
   "execution_count": 55,
   "metadata": {},
   "outputs": [
    {
     "data": {
      "text/html": [
       "<div>\n",
       "<style scoped>\n",
       "    .dataframe tbody tr th:only-of-type {\n",
       "        vertical-align: middle;\n",
       "    }\n",
       "\n",
       "    .dataframe tbody tr th {\n",
       "        vertical-align: top;\n",
       "    }\n",
       "\n",
       "    .dataframe thead th {\n",
       "        text-align: right;\n",
       "    }\n",
       "</style>\n",
       "<table border=\"1\" class=\"dataframe\">\n",
       "  <thead>\n",
       "    <tr style=\"text-align: right;\">\n",
       "      <th></th>\n",
       "      <th>Year</th>\n",
       "      <th>TV Shows %</th>\n",
       "      <th>Movies %</th>\n",
       "    </tr>\n",
       "  </thead>\n",
       "  <tbody>\n",
       "    <tr>\n",
       "      <th>1</th>\n",
       "      <td>2008</td>\n",
       "      <td>50.00</td>\n",
       "      <td>50.00</td>\n",
       "    </tr>\n",
       "    <tr>\n",
       "      <th>2</th>\n",
       "      <td>2009</td>\n",
       "      <td>0.00</td>\n",
       "      <td>100.00</td>\n",
       "    </tr>\n",
       "    <tr>\n",
       "      <th>3</th>\n",
       "      <td>2010</td>\n",
       "      <td>0.00</td>\n",
       "      <td>100.00</td>\n",
       "    </tr>\n",
       "    <tr>\n",
       "      <th>4</th>\n",
       "      <td>2011</td>\n",
       "      <td>0.00</td>\n",
       "      <td>100.00</td>\n",
       "    </tr>\n",
       "    <tr>\n",
       "      <th>5</th>\n",
       "      <td>2012</td>\n",
       "      <td>0.00</td>\n",
       "      <td>100.00</td>\n",
       "    </tr>\n",
       "    <tr>\n",
       "      <th>6</th>\n",
       "      <td>2013</td>\n",
       "      <td>45.45</td>\n",
       "      <td>54.55</td>\n",
       "    </tr>\n",
       "    <tr>\n",
       "      <th>7</th>\n",
       "      <td>2014</td>\n",
       "      <td>24.00</td>\n",
       "      <td>76.00</td>\n",
       "    </tr>\n",
       "    <tr>\n",
       "      <th>8</th>\n",
       "      <td>2015</td>\n",
       "      <td>34.09</td>\n",
       "      <td>65.91</td>\n",
       "    </tr>\n",
       "    <tr>\n",
       "      <th>9</th>\n",
       "      <td>2016</td>\n",
       "      <td>41.76</td>\n",
       "      <td>58.24</td>\n",
       "    </tr>\n",
       "    <tr>\n",
       "      <th>10</th>\n",
       "      <td>2017</td>\n",
       "      <td>29.47</td>\n",
       "      <td>70.53</td>\n",
       "    </tr>\n",
       "    <tr>\n",
       "      <th>11</th>\n",
       "      <td>2018</td>\n",
       "      <td>25.52</td>\n",
       "      <td>74.48</td>\n",
       "    </tr>\n",
       "    <tr>\n",
       "      <th>12</th>\n",
       "      <td>2019</td>\n",
       "      <td>30.47</td>\n",
       "      <td>69.53</td>\n",
       "    </tr>\n",
       "    <tr>\n",
       "      <th>13</th>\n",
       "      <td>2020</td>\n",
       "      <td>34.69</td>\n",
       "      <td>65.31</td>\n",
       "    </tr>\n",
       "    <tr>\n",
       "      <th>14</th>\n",
       "      <td>2021</td>\n",
       "      <td>24.79</td>\n",
       "      <td>75.21</td>\n",
       "    </tr>\n",
       "  </tbody>\n",
       "</table>\n",
       "</div>"
      ],
      "text/plain": [
       "    Year  TV Shows %  Movies %\n",
       "1   2008       50.00     50.00\n",
       "2   2009        0.00    100.00\n",
       "3   2010        0.00    100.00\n",
       "4   2011        0.00    100.00\n",
       "5   2012        0.00    100.00\n",
       "6   2013       45.45     54.55\n",
       "7   2014       24.00     76.00\n",
       "8   2015       34.09     65.91\n",
       "9   2016       41.76     58.24\n",
       "10  2017       29.47     70.53\n",
       "11  2018       25.52     74.48\n",
       "12  2019       30.47     69.53\n",
       "13  2020       34.69     65.31\n",
       "14  2021       24.79     75.21"
      ]
     },
     "execution_count": 55,
     "metadata": {},
     "output_type": "execute_result"
    }
   ],
   "source": [
    "counts_by_year_percentage"
   ]
  },
  {
   "cell_type": "code",
   "execution_count": 88,
   "metadata": {},
   "outputs": [
    {
     "data": {
      "application/vnd.plotly.v1+json": {
       "config": {
        "plotlyServerURL": "https://plot.ly"
       },
       "data": [
        {
         "marker": {
          "color": "rgba(128,128,64, 0.6)"
         },
         "name": "TV Shows %",
         "type": "bar",
         "x": [
          2008,
          2009,
          2010,
          2011,
          2012,
          2013,
          2014,
          2015,
          2016,
          2017,
          2018,
          2019,
          2020,
          2021
         ],
         "y": [
          91.67,
          78.57,
          73.33,
          39.29,
          35.48,
          38.1,
          32.84,
          33.55,
          39.63,
          32.8,
          29.3,
          29.75,
          31.04,
          30.95
         ]
        },
        {
         "marker": {
          "color": "rgba(255,0,0, 0.6)"
         },
         "name": "Movies %",
         "type": "bar",
         "x": [
          2008,
          2009,
          2010,
          2011,
          2012,
          2013,
          2014,
          2015,
          2016,
          2017,
          2018,
          2019,
          2020,
          2021
         ],
         "y": [
          8.33,
          21.43,
          26.67,
          60.71,
          64.52,
          61.9,
          67.16,
          66.45,
          60.37,
          67.2,
          70.7,
          70.25,
          68.96,
          69.05
         ]
        }
       ],
       "layout": {
        "autosize": false,
        "barmode": "stack",
        "paper_bgcolor": "rgba(0,0,0,0)",
        "plot_bgcolor": "rgba(0,0,0,0)",
        "template": {
         "data": {
          "bar": [
           {
            "error_x": {
             "color": "#2a3f5f"
            },
            "error_y": {
             "color": "#2a3f5f"
            },
            "marker": {
             "line": {
              "color": "#E5ECF6",
              "width": 0.5
             }
            },
            "type": "bar"
           }
          ],
          "barpolar": [
           {
            "marker": {
             "line": {
              "color": "#E5ECF6",
              "width": 0.5
             }
            },
            "type": "barpolar"
           }
          ],
          "carpet": [
           {
            "aaxis": {
             "endlinecolor": "#2a3f5f",
             "gridcolor": "white",
             "linecolor": "white",
             "minorgridcolor": "white",
             "startlinecolor": "#2a3f5f"
            },
            "baxis": {
             "endlinecolor": "#2a3f5f",
             "gridcolor": "white",
             "linecolor": "white",
             "minorgridcolor": "white",
             "startlinecolor": "#2a3f5f"
            },
            "type": "carpet"
           }
          ],
          "choropleth": [
           {
            "colorbar": {
             "outlinewidth": 0,
             "ticks": ""
            },
            "type": "choropleth"
           }
          ],
          "contour": [
           {
            "colorbar": {
             "outlinewidth": 0,
             "ticks": ""
            },
            "colorscale": [
             [
              0,
              "#0d0887"
             ],
             [
              0.1111111111111111,
              "#46039f"
             ],
             [
              0.2222222222222222,
              "#7201a8"
             ],
             [
              0.3333333333333333,
              "#9c179e"
             ],
             [
              0.4444444444444444,
              "#bd3786"
             ],
             [
              0.5555555555555556,
              "#d8576b"
             ],
             [
              0.6666666666666666,
              "#ed7953"
             ],
             [
              0.7777777777777778,
              "#fb9f3a"
             ],
             [
              0.8888888888888888,
              "#fdca26"
             ],
             [
              1,
              "#f0f921"
             ]
            ],
            "type": "contour"
           }
          ],
          "contourcarpet": [
           {
            "colorbar": {
             "outlinewidth": 0,
             "ticks": ""
            },
            "type": "contourcarpet"
           }
          ],
          "heatmap": [
           {
            "colorbar": {
             "outlinewidth": 0,
             "ticks": ""
            },
            "colorscale": [
             [
              0,
              "#0d0887"
             ],
             [
              0.1111111111111111,
              "#46039f"
             ],
             [
              0.2222222222222222,
              "#7201a8"
             ],
             [
              0.3333333333333333,
              "#9c179e"
             ],
             [
              0.4444444444444444,
              "#bd3786"
             ],
             [
              0.5555555555555556,
              "#d8576b"
             ],
             [
              0.6666666666666666,
              "#ed7953"
             ],
             [
              0.7777777777777778,
              "#fb9f3a"
             ],
             [
              0.8888888888888888,
              "#fdca26"
             ],
             [
              1,
              "#f0f921"
             ]
            ],
            "type": "heatmap"
           }
          ],
          "heatmapgl": [
           {
            "colorbar": {
             "outlinewidth": 0,
             "ticks": ""
            },
            "colorscale": [
             [
              0,
              "#0d0887"
             ],
             [
              0.1111111111111111,
              "#46039f"
             ],
             [
              0.2222222222222222,
              "#7201a8"
             ],
             [
              0.3333333333333333,
              "#9c179e"
             ],
             [
              0.4444444444444444,
              "#bd3786"
             ],
             [
              0.5555555555555556,
              "#d8576b"
             ],
             [
              0.6666666666666666,
              "#ed7953"
             ],
             [
              0.7777777777777778,
              "#fb9f3a"
             ],
             [
              0.8888888888888888,
              "#fdca26"
             ],
             [
              1,
              "#f0f921"
             ]
            ],
            "type": "heatmapgl"
           }
          ],
          "histogram": [
           {
            "marker": {
             "colorbar": {
              "outlinewidth": 0,
              "ticks": ""
             }
            },
            "type": "histogram"
           }
          ],
          "histogram2d": [
           {
            "colorbar": {
             "outlinewidth": 0,
             "ticks": ""
            },
            "colorscale": [
             [
              0,
              "#0d0887"
             ],
             [
              0.1111111111111111,
              "#46039f"
             ],
             [
              0.2222222222222222,
              "#7201a8"
             ],
             [
              0.3333333333333333,
              "#9c179e"
             ],
             [
              0.4444444444444444,
              "#bd3786"
             ],
             [
              0.5555555555555556,
              "#d8576b"
             ],
             [
              0.6666666666666666,
              "#ed7953"
             ],
             [
              0.7777777777777778,
              "#fb9f3a"
             ],
             [
              0.8888888888888888,
              "#fdca26"
             ],
             [
              1,
              "#f0f921"
             ]
            ],
            "type": "histogram2d"
           }
          ],
          "histogram2dcontour": [
           {
            "colorbar": {
             "outlinewidth": 0,
             "ticks": ""
            },
            "colorscale": [
             [
              0,
              "#0d0887"
             ],
             [
              0.1111111111111111,
              "#46039f"
             ],
             [
              0.2222222222222222,
              "#7201a8"
             ],
             [
              0.3333333333333333,
              "#9c179e"
             ],
             [
              0.4444444444444444,
              "#bd3786"
             ],
             [
              0.5555555555555556,
              "#d8576b"
             ],
             [
              0.6666666666666666,
              "#ed7953"
             ],
             [
              0.7777777777777778,
              "#fb9f3a"
             ],
             [
              0.8888888888888888,
              "#fdca26"
             ],
             [
              1,
              "#f0f921"
             ]
            ],
            "type": "histogram2dcontour"
           }
          ],
          "mesh3d": [
           {
            "colorbar": {
             "outlinewidth": 0,
             "ticks": ""
            },
            "type": "mesh3d"
           }
          ],
          "parcoords": [
           {
            "line": {
             "colorbar": {
              "outlinewidth": 0,
              "ticks": ""
             }
            },
            "type": "parcoords"
           }
          ],
          "pie": [
           {
            "automargin": true,
            "type": "pie"
           }
          ],
          "scatter": [
           {
            "marker": {
             "colorbar": {
              "outlinewidth": 0,
              "ticks": ""
             }
            },
            "type": "scatter"
           }
          ],
          "scatter3d": [
           {
            "line": {
             "colorbar": {
              "outlinewidth": 0,
              "ticks": ""
             }
            },
            "marker": {
             "colorbar": {
              "outlinewidth": 0,
              "ticks": ""
             }
            },
            "type": "scatter3d"
           }
          ],
          "scattercarpet": [
           {
            "marker": {
             "colorbar": {
              "outlinewidth": 0,
              "ticks": ""
             }
            },
            "type": "scattercarpet"
           }
          ],
          "scattergeo": [
           {
            "marker": {
             "colorbar": {
              "outlinewidth": 0,
              "ticks": ""
             }
            },
            "type": "scattergeo"
           }
          ],
          "scattergl": [
           {
            "marker": {
             "colorbar": {
              "outlinewidth": 0,
              "ticks": ""
             }
            },
            "type": "scattergl"
           }
          ],
          "scattermapbox": [
           {
            "marker": {
             "colorbar": {
              "outlinewidth": 0,
              "ticks": ""
             }
            },
            "type": "scattermapbox"
           }
          ],
          "scatterpolar": [
           {
            "marker": {
             "colorbar": {
              "outlinewidth": 0,
              "ticks": ""
             }
            },
            "type": "scatterpolar"
           }
          ],
          "scatterpolargl": [
           {
            "marker": {
             "colorbar": {
              "outlinewidth": 0,
              "ticks": ""
             }
            },
            "type": "scatterpolargl"
           }
          ],
          "scatterternary": [
           {
            "marker": {
             "colorbar": {
              "outlinewidth": 0,
              "ticks": ""
             }
            },
            "type": "scatterternary"
           }
          ],
          "surface": [
           {
            "colorbar": {
             "outlinewidth": 0,
             "ticks": ""
            },
            "colorscale": [
             [
              0,
              "#0d0887"
             ],
             [
              0.1111111111111111,
              "#46039f"
             ],
             [
              0.2222222222222222,
              "#7201a8"
             ],
             [
              0.3333333333333333,
              "#9c179e"
             ],
             [
              0.4444444444444444,
              "#bd3786"
             ],
             [
              0.5555555555555556,
              "#d8576b"
             ],
             [
              0.6666666666666666,
              "#ed7953"
             ],
             [
              0.7777777777777778,
              "#fb9f3a"
             ],
             [
              0.8888888888888888,
              "#fdca26"
             ],
             [
              1,
              "#f0f921"
             ]
            ],
            "type": "surface"
           }
          ],
          "table": [
           {
            "cells": {
             "fill": {
              "color": "#EBF0F8"
             },
             "line": {
              "color": "white"
             }
            },
            "header": {
             "fill": {
              "color": "#C8D4E3"
             },
             "line": {
              "color": "white"
             }
            },
            "type": "table"
           }
          ]
         },
         "layout": {
          "annotationdefaults": {
           "arrowcolor": "#2a3f5f",
           "arrowhead": 0,
           "arrowwidth": 1
          },
          "autotypenumbers": "strict",
          "coloraxis": {
           "colorbar": {
            "outlinewidth": 0,
            "ticks": ""
           }
          },
          "colorscale": {
           "diverging": [
            [
             0,
             "#8e0152"
            ],
            [
             0.1,
             "#c51b7d"
            ],
            [
             0.2,
             "#de77ae"
            ],
            [
             0.3,
             "#f1b6da"
            ],
            [
             0.4,
             "#fde0ef"
            ],
            [
             0.5,
             "#f7f7f7"
            ],
            [
             0.6,
             "#e6f5d0"
            ],
            [
             0.7,
             "#b8e186"
            ],
            [
             0.8,
             "#7fbc41"
            ],
            [
             0.9,
             "#4d9221"
            ],
            [
             1,
             "#276419"
            ]
           ],
           "sequential": [
            [
             0,
             "#0d0887"
            ],
            [
             0.1111111111111111,
             "#46039f"
            ],
            [
             0.2222222222222222,
             "#7201a8"
            ],
            [
             0.3333333333333333,
             "#9c179e"
            ],
            [
             0.4444444444444444,
             "#bd3786"
            ],
            [
             0.5555555555555556,
             "#d8576b"
            ],
            [
             0.6666666666666666,
             "#ed7953"
            ],
            [
             0.7777777777777778,
             "#fb9f3a"
            ],
            [
             0.8888888888888888,
             "#fdca26"
            ],
            [
             1,
             "#f0f921"
            ]
           ],
           "sequentialminus": [
            [
             0,
             "#0d0887"
            ],
            [
             0.1111111111111111,
             "#46039f"
            ],
            [
             0.2222222222222222,
             "#7201a8"
            ],
            [
             0.3333333333333333,
             "#9c179e"
            ],
            [
             0.4444444444444444,
             "#bd3786"
            ],
            [
             0.5555555555555556,
             "#d8576b"
            ],
            [
             0.6666666666666666,
             "#ed7953"
            ],
            [
             0.7777777777777778,
             "#fb9f3a"
            ],
            [
             0.8888888888888888,
             "#fdca26"
            ],
            [
             1,
             "#f0f921"
            ]
           ]
          },
          "colorway": [
           "#636efa",
           "#EF553B",
           "#00cc96",
           "#ab63fa",
           "#FFA15A",
           "#19d3f3",
           "#FF6692",
           "#B6E880",
           "#FF97FF",
           "#FECB52"
          ],
          "font": {
           "color": "#2a3f5f"
          },
          "geo": {
           "bgcolor": "white",
           "lakecolor": "white",
           "landcolor": "#E5ECF6",
           "showlakes": true,
           "showland": true,
           "subunitcolor": "white"
          },
          "hoverlabel": {
           "align": "left"
          },
          "hovermode": "closest",
          "mapbox": {
           "style": "light"
          },
          "paper_bgcolor": "white",
          "plot_bgcolor": "#E5ECF6",
          "polar": {
           "angularaxis": {
            "gridcolor": "white",
            "linecolor": "white",
            "ticks": ""
           },
           "bgcolor": "#E5ECF6",
           "radialaxis": {
            "gridcolor": "white",
            "linecolor": "white",
            "ticks": ""
           }
          },
          "scene": {
           "xaxis": {
            "backgroundcolor": "#E5ECF6",
            "gridcolor": "white",
            "gridwidth": 2,
            "linecolor": "white",
            "showbackground": true,
            "ticks": "",
            "zerolinecolor": "white"
           },
           "yaxis": {
            "backgroundcolor": "#E5ECF6",
            "gridcolor": "white",
            "gridwidth": 2,
            "linecolor": "white",
            "showbackground": true,
            "ticks": "",
            "zerolinecolor": "white"
           },
           "zaxis": {
            "backgroundcolor": "#E5ECF6",
            "gridcolor": "white",
            "gridwidth": 2,
            "linecolor": "white",
            "showbackground": true,
            "ticks": "",
            "zerolinecolor": "white"
           }
          },
          "shapedefaults": {
           "line": {
            "color": "#2a3f5f"
           }
          },
          "ternary": {
           "aaxis": {
            "gridcolor": "white",
            "linecolor": "white",
            "ticks": ""
           },
           "baxis": {
            "gridcolor": "white",
            "linecolor": "white",
            "ticks": ""
           },
           "bgcolor": "#E5ECF6",
           "caxis": {
            "gridcolor": "white",
            "linecolor": "white",
            "ticks": ""
           }
          },
          "title": {
           "x": 0.05
          },
          "xaxis": {
           "automargin": true,
           "gridcolor": "white",
           "linecolor": "white",
           "ticks": "",
           "title": {
            "standoff": 15
           },
           "zerolinecolor": "white",
           "zerolinewidth": 2
          },
          "yaxis": {
           "automargin": true,
           "gridcolor": "white",
           "linecolor": "white",
           "ticks": "",
           "title": {
            "standoff": 15
           },
           "zerolinecolor": "white",
           "zerolinewidth": 2
          }
         }
        },
        "title": {
         "text": "Total Netflix productions %",
         "x": 0.5,
         "xanchor": "center",
         "y": 0.85,
         "yanchor": "top"
        },
        "yaxis": {
         "tickmode": "array",
         "ticktext": [
          "0%",
          "20%",
          "40%",
          "60%",
          "80%",
          "100%"
         ],
         "tickvals": [
          0,
          20,
          40,
          60,
          80,
          100
         ],
         "title": {
          "font": {
           "size": 16
          },
          "text": "Productions added %"
         }
        }
       }
      },
      "text/html": [
       "<div>                            <div id=\"83eaa6c9-e842-499a-925c-529a2b40a768\" class=\"plotly-graph-div\" style=\"height:525px; width:100%;\"></div>            <script type=\"text/javascript\">                require([\"plotly\"], function(Plotly) {                    window.PLOTLYENV=window.PLOTLYENV || {};                                    if (document.getElementById(\"83eaa6c9-e842-499a-925c-529a2b40a768\")) {                    Plotly.newPlot(                        \"83eaa6c9-e842-499a-925c-529a2b40a768\",                        [{\"marker\": {\"color\": \"rgba(128,128,64, 0.6)\"}, \"name\": \"TV Shows %\", \"type\": \"bar\", \"x\": [2008, 2009, 2010, 2011, 2012, 2013, 2014, 2015, 2016, 2017, 2018, 2019, 2020, 2021], \"y\": [91.67, 78.57, 73.33, 39.29, 35.48, 38.1, 32.84, 33.55, 39.63, 32.8, 29.3, 29.75, 31.04, 30.95]}, {\"marker\": {\"color\": \"rgba(255,0,0, 0.6)\"}, \"name\": \"Movies %\", \"type\": \"bar\", \"x\": [2008, 2009, 2010, 2011, 2012, 2013, 2014, 2015, 2016, 2017, 2018, 2019, 2020, 2021], \"y\": [8.33, 21.43, 26.67, 60.71, 64.52, 61.9, 67.16, 66.45, 60.37, 67.2, 70.7, 70.25, 68.96, 69.05]}],                        {\"autosize\": false, \"barmode\": \"stack\", \"paper_bgcolor\": \"rgba(0,0,0,0)\", \"plot_bgcolor\": \"rgba(0,0,0,0)\", \"template\": {\"data\": {\"bar\": [{\"error_x\": {\"color\": \"#2a3f5f\"}, \"error_y\": {\"color\": \"#2a3f5f\"}, \"marker\": {\"line\": {\"color\": \"#E5ECF6\", \"width\": 0.5}}, \"type\": \"bar\"}], \"barpolar\": [{\"marker\": {\"line\": {\"color\": \"#E5ECF6\", \"width\": 0.5}}, \"type\": \"barpolar\"}], \"carpet\": [{\"aaxis\": {\"endlinecolor\": \"#2a3f5f\", \"gridcolor\": \"white\", \"linecolor\": \"white\", \"minorgridcolor\": \"white\", \"startlinecolor\": \"#2a3f5f\"}, \"baxis\": {\"endlinecolor\": \"#2a3f5f\", \"gridcolor\": \"white\", \"linecolor\": \"white\", \"minorgridcolor\": \"white\", \"startlinecolor\": \"#2a3f5f\"}, \"type\": \"carpet\"}], \"choropleth\": [{\"colorbar\": {\"outlinewidth\": 0, \"ticks\": \"\"}, \"type\": \"choropleth\"}], \"contour\": [{\"colorbar\": {\"outlinewidth\": 0, \"ticks\": \"\"}, \"colorscale\": [[0.0, \"#0d0887\"], [0.1111111111111111, \"#46039f\"], [0.2222222222222222, \"#7201a8\"], [0.3333333333333333, \"#9c179e\"], [0.4444444444444444, \"#bd3786\"], [0.5555555555555556, \"#d8576b\"], [0.6666666666666666, \"#ed7953\"], [0.7777777777777778, \"#fb9f3a\"], [0.8888888888888888, \"#fdca26\"], [1.0, \"#f0f921\"]], \"type\": \"contour\"}], \"contourcarpet\": [{\"colorbar\": {\"outlinewidth\": 0, \"ticks\": \"\"}, \"type\": \"contourcarpet\"}], \"heatmap\": [{\"colorbar\": {\"outlinewidth\": 0, \"ticks\": \"\"}, \"colorscale\": [[0.0, \"#0d0887\"], [0.1111111111111111, \"#46039f\"], [0.2222222222222222, \"#7201a8\"], [0.3333333333333333, \"#9c179e\"], [0.4444444444444444, \"#bd3786\"], [0.5555555555555556, \"#d8576b\"], [0.6666666666666666, \"#ed7953\"], [0.7777777777777778, \"#fb9f3a\"], [0.8888888888888888, \"#fdca26\"], [1.0, \"#f0f921\"]], \"type\": \"heatmap\"}], \"heatmapgl\": [{\"colorbar\": {\"outlinewidth\": 0, \"ticks\": \"\"}, \"colorscale\": [[0.0, \"#0d0887\"], [0.1111111111111111, \"#46039f\"], [0.2222222222222222, \"#7201a8\"], [0.3333333333333333, \"#9c179e\"], [0.4444444444444444, \"#bd3786\"], [0.5555555555555556, \"#d8576b\"], [0.6666666666666666, \"#ed7953\"], [0.7777777777777778, \"#fb9f3a\"], [0.8888888888888888, \"#fdca26\"], [1.0, \"#f0f921\"]], \"type\": \"heatmapgl\"}], \"histogram\": [{\"marker\": {\"colorbar\": {\"outlinewidth\": 0, \"ticks\": \"\"}}, \"type\": \"histogram\"}], \"histogram2d\": [{\"colorbar\": {\"outlinewidth\": 0, \"ticks\": \"\"}, \"colorscale\": [[0.0, \"#0d0887\"], [0.1111111111111111, \"#46039f\"], [0.2222222222222222, \"#7201a8\"], [0.3333333333333333, \"#9c179e\"], [0.4444444444444444, \"#bd3786\"], [0.5555555555555556, \"#d8576b\"], [0.6666666666666666, \"#ed7953\"], [0.7777777777777778, \"#fb9f3a\"], [0.8888888888888888, \"#fdca26\"], [1.0, \"#f0f921\"]], \"type\": \"histogram2d\"}], \"histogram2dcontour\": [{\"colorbar\": {\"outlinewidth\": 0, \"ticks\": \"\"}, \"colorscale\": [[0.0, \"#0d0887\"], [0.1111111111111111, \"#46039f\"], [0.2222222222222222, \"#7201a8\"], [0.3333333333333333, \"#9c179e\"], [0.4444444444444444, \"#bd3786\"], [0.5555555555555556, \"#d8576b\"], [0.6666666666666666, \"#ed7953\"], [0.7777777777777778, \"#fb9f3a\"], [0.8888888888888888, \"#fdca26\"], [1.0, \"#f0f921\"]], \"type\": \"histogram2dcontour\"}], \"mesh3d\": [{\"colorbar\": {\"outlinewidth\": 0, \"ticks\": \"\"}, \"type\": \"mesh3d\"}], \"parcoords\": [{\"line\": {\"colorbar\": {\"outlinewidth\": 0, \"ticks\": \"\"}}, \"type\": \"parcoords\"}], \"pie\": [{\"automargin\": true, \"type\": \"pie\"}], \"scatter\": [{\"marker\": {\"colorbar\": {\"outlinewidth\": 0, \"ticks\": \"\"}}, \"type\": \"scatter\"}], \"scatter3d\": [{\"line\": {\"colorbar\": {\"outlinewidth\": 0, \"ticks\": \"\"}}, \"marker\": {\"colorbar\": {\"outlinewidth\": 0, \"ticks\": \"\"}}, \"type\": \"scatter3d\"}], \"scattercarpet\": [{\"marker\": {\"colorbar\": {\"outlinewidth\": 0, \"ticks\": \"\"}}, \"type\": \"scattercarpet\"}], \"scattergeo\": [{\"marker\": {\"colorbar\": {\"outlinewidth\": 0, \"ticks\": \"\"}}, \"type\": \"scattergeo\"}], \"scattergl\": [{\"marker\": {\"colorbar\": {\"outlinewidth\": 0, \"ticks\": \"\"}}, \"type\": \"scattergl\"}], \"scattermapbox\": [{\"marker\": {\"colorbar\": {\"outlinewidth\": 0, \"ticks\": \"\"}}, \"type\": \"scattermapbox\"}], \"scatterpolar\": [{\"marker\": {\"colorbar\": {\"outlinewidth\": 0, \"ticks\": \"\"}}, \"type\": \"scatterpolar\"}], \"scatterpolargl\": [{\"marker\": {\"colorbar\": {\"outlinewidth\": 0, \"ticks\": \"\"}}, \"type\": \"scatterpolargl\"}], \"scatterternary\": [{\"marker\": {\"colorbar\": {\"outlinewidth\": 0, \"ticks\": \"\"}}, \"type\": \"scatterternary\"}], \"surface\": [{\"colorbar\": {\"outlinewidth\": 0, \"ticks\": \"\"}, \"colorscale\": [[0.0, \"#0d0887\"], [0.1111111111111111, \"#46039f\"], [0.2222222222222222, \"#7201a8\"], [0.3333333333333333, \"#9c179e\"], [0.4444444444444444, \"#bd3786\"], [0.5555555555555556, \"#d8576b\"], [0.6666666666666666, \"#ed7953\"], [0.7777777777777778, \"#fb9f3a\"], [0.8888888888888888, \"#fdca26\"], [1.0, \"#f0f921\"]], \"type\": \"surface\"}], \"table\": [{\"cells\": {\"fill\": {\"color\": \"#EBF0F8\"}, \"line\": {\"color\": \"white\"}}, \"header\": {\"fill\": {\"color\": \"#C8D4E3\"}, \"line\": {\"color\": \"white\"}}, \"type\": \"table\"}]}, \"layout\": {\"annotationdefaults\": {\"arrowcolor\": \"#2a3f5f\", \"arrowhead\": 0, \"arrowwidth\": 1}, \"autotypenumbers\": \"strict\", \"coloraxis\": {\"colorbar\": {\"outlinewidth\": 0, \"ticks\": \"\"}}, \"colorscale\": {\"diverging\": [[0, \"#8e0152\"], [0.1, \"#c51b7d\"], [0.2, \"#de77ae\"], [0.3, \"#f1b6da\"], [0.4, \"#fde0ef\"], [0.5, \"#f7f7f7\"], [0.6, \"#e6f5d0\"], [0.7, \"#b8e186\"], [0.8, \"#7fbc41\"], [0.9, \"#4d9221\"], [1, \"#276419\"]], \"sequential\": [[0.0, \"#0d0887\"], [0.1111111111111111, \"#46039f\"], [0.2222222222222222, \"#7201a8\"], [0.3333333333333333, \"#9c179e\"], [0.4444444444444444, \"#bd3786\"], [0.5555555555555556, \"#d8576b\"], [0.6666666666666666, \"#ed7953\"], [0.7777777777777778, \"#fb9f3a\"], [0.8888888888888888, \"#fdca26\"], [1.0, \"#f0f921\"]], \"sequentialminus\": [[0.0, \"#0d0887\"], [0.1111111111111111, \"#46039f\"], [0.2222222222222222, \"#7201a8\"], [0.3333333333333333, \"#9c179e\"], [0.4444444444444444, \"#bd3786\"], [0.5555555555555556, \"#d8576b\"], [0.6666666666666666, \"#ed7953\"], [0.7777777777777778, \"#fb9f3a\"], [0.8888888888888888, \"#fdca26\"], [1.0, \"#f0f921\"]]}, \"colorway\": [\"#636efa\", \"#EF553B\", \"#00cc96\", \"#ab63fa\", \"#FFA15A\", \"#19d3f3\", \"#FF6692\", \"#B6E880\", \"#FF97FF\", \"#FECB52\"], \"font\": {\"color\": \"#2a3f5f\"}, \"geo\": {\"bgcolor\": \"white\", \"lakecolor\": \"white\", \"landcolor\": \"#E5ECF6\", \"showlakes\": true, \"showland\": true, \"subunitcolor\": \"white\"}, \"hoverlabel\": {\"align\": \"left\"}, \"hovermode\": \"closest\", \"mapbox\": {\"style\": \"light\"}, \"paper_bgcolor\": \"white\", \"plot_bgcolor\": \"#E5ECF6\", \"polar\": {\"angularaxis\": {\"gridcolor\": \"white\", \"linecolor\": \"white\", \"ticks\": \"\"}, \"bgcolor\": \"#E5ECF6\", \"radialaxis\": {\"gridcolor\": \"white\", \"linecolor\": \"white\", \"ticks\": \"\"}}, \"scene\": {\"xaxis\": {\"backgroundcolor\": \"#E5ECF6\", \"gridcolor\": \"white\", \"gridwidth\": 2, \"linecolor\": \"white\", \"showbackground\": true, \"ticks\": \"\", \"zerolinecolor\": \"white\"}, \"yaxis\": {\"backgroundcolor\": \"#E5ECF6\", \"gridcolor\": \"white\", \"gridwidth\": 2, \"linecolor\": \"white\", \"showbackground\": true, \"ticks\": \"\", \"zerolinecolor\": \"white\"}, \"zaxis\": {\"backgroundcolor\": \"#E5ECF6\", \"gridcolor\": \"white\", \"gridwidth\": 2, \"linecolor\": \"white\", \"showbackground\": true, \"ticks\": \"\", \"zerolinecolor\": \"white\"}}, \"shapedefaults\": {\"line\": {\"color\": \"#2a3f5f\"}}, \"ternary\": {\"aaxis\": {\"gridcolor\": \"white\", \"linecolor\": \"white\", \"ticks\": \"\"}, \"baxis\": {\"gridcolor\": \"white\", \"linecolor\": \"white\", \"ticks\": \"\"}, \"bgcolor\": \"#E5ECF6\", \"caxis\": {\"gridcolor\": \"white\", \"linecolor\": \"white\", \"ticks\": \"\"}}, \"title\": {\"x\": 0.05}, \"xaxis\": {\"automargin\": true, \"gridcolor\": \"white\", \"linecolor\": \"white\", \"ticks\": \"\", \"title\": {\"standoff\": 15}, \"zerolinecolor\": \"white\", \"zerolinewidth\": 2}, \"yaxis\": {\"automargin\": true, \"gridcolor\": \"white\", \"linecolor\": \"white\", \"ticks\": \"\", \"title\": {\"standoff\": 15}, \"zerolinecolor\": \"white\", \"zerolinewidth\": 2}}}, \"title\": {\"text\": \"Total Netflix productions %\", \"x\": 0.5, \"xanchor\": \"center\", \"y\": 0.85, \"yanchor\": \"top\"}, \"yaxis\": {\"tickmode\": \"array\", \"ticktext\": [\"0%\", \"20%\", \"40%\", \"60%\", \"80%\", \"100%\"], \"tickvals\": [0, 20, 40, 60, 80, 100], \"title\": {\"font\": {\"size\": 16}, \"text\": \"Productions added %\"}}},                        {\"responsive\": true}                    ).then(function(){\n",
       "                            \n",
       "var gd = document.getElementById('83eaa6c9-e842-499a-925c-529a2b40a768');\n",
       "var x = new MutationObserver(function (mutations, observer) {{\n",
       "        var display = window.getComputedStyle(gd).display;\n",
       "        if (!display || display === 'none') {{\n",
       "            console.log([gd, 'removed!']);\n",
       "            Plotly.purge(gd);\n",
       "            observer.disconnect();\n",
       "        }}\n",
       "}});\n",
       "\n",
       "// Listen for the removal of the full notebook cells\n",
       "var notebookContainer = gd.closest('#notebook-container');\n",
       "if (notebookContainer) {{\n",
       "    x.observe(notebookContainer, {childList: true});\n",
       "}}\n",
       "\n",
       "// Listen for the clearing of the current output cell\n",
       "var outputEl = gd.closest('.output');\n",
       "if (outputEl) {{\n",
       "    x.observe(outputEl, {childList: true});\n",
       "}}\n",
       "\n",
       "                        })                };                });            </script>        </div>"
      ]
     },
     "metadata": {},
     "output_type": "display_data"
    }
   ],
   "source": [
    "fig = go.Figure()\n",
    "fig.add_trace(\n",
    "    go.Bar(y=counts_by_year_percentage[\"TV Shows %\"],\n",
    "           x=counts_by_year_percentage.Year,\n",
    "           name=\"TV Shows %\",\n",
    "           marker={\"color\": 'rgba(128,128,64, 0.6)'}))\n",
    "fig.add_trace(\n",
    "    go.Bar(y=counts_by_year_percentage[\"Movies %\"],\n",
    "           x=counts_by_year_percentage.Year,\n",
    "           name=\"Movies %\",\n",
    "           marker={\"color\": 'rgba(255,0,0, 0.6)'}))\n",
    "\n",
    "fig.update_layout(yaxis={\n",
    "    \"title_text\": \"Productions added %\",\n",
    "    \"ticktext\": [\"0%\", \"20%\", \"40%\", \"60%\", \"80%\", \"100%\"],\n",
    "    \"tickvals\": [0, 20, 40, 60, 80, 100],\n",
    "    \"tickmode\": \"array\",\n",
    "    \"titlefont\": {\n",
    "        \"size\": 16\n",
    "    },\n",
    "},\n",
    "                  autosize=False,\n",
    "                  paper_bgcolor='rgba(0,0,0,0)',\n",
    "                  plot_bgcolor='rgba(0,0,0,0)',\n",
    "                  title={\n",
    "                      'text': \"Total Netflix productions %\",\n",
    "                      'y': 0.85,\n",
    "                      'x': 0.5,\n",
    "                      'xanchor': 'center',\n",
    "                      'yanchor': 'top'\n",
    "                  },\n",
    "                  barmode='stack')\n",
    "fig.show()"
   ]
  }
 ],
 "metadata": {
  "kernelspec": {
   "display_name": "Python 3",
   "language": "python",
   "name": "python3"
  },
  "language_info": {
   "codemirror_mode": {
    "name": "ipython",
    "version": 3
   },
   "file_extension": ".py",
   "mimetype": "text/x-python",
   "name": "python",
   "nbconvert_exporter": "python",
   "pygments_lexer": "ipython3",
   "version": "3.7.9"
  }
 },
 "nbformat": 4,
 "nbformat_minor": 4
}
