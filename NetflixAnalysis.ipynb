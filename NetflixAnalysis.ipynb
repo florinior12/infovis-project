{
 "cells": [
  {
   "cell_type": "code",
   "execution_count": 1,
   "metadata": {},
   "outputs": [],
   "source": [
    "import pandas as pd\n",
    "import matplotlib.pyplot as plt\n",
    "import plotly.express as px\n",
    "import plotly.graph_objs as go\n",
    "import datetime\n",
    "import numpy as np"
   ]
  },
  {
   "cell_type": "markdown",
   "metadata": {},
   "source": [
    "Load data from CSV"
   ]
  },
  {
   "cell_type": "code",
   "execution_count": 2,
   "metadata": {
    "scrolled": false
   },
   "outputs": [
    {
     "data": {
      "text/html": [
       "<div>\n",
       "<style scoped>\n",
       "    .dataframe tbody tr th:only-of-type {\n",
       "        vertical-align: middle;\n",
       "    }\n",
       "\n",
       "    .dataframe tbody tr th {\n",
       "        vertical-align: top;\n",
       "    }\n",
       "\n",
       "    .dataframe thead th {\n",
       "        text-align: right;\n",
       "    }\n",
       "</style>\n",
       "<table border=\"1\" class=\"dataframe\">\n",
       "  <thead>\n",
       "    <tr style=\"text-align: right;\">\n",
       "      <th></th>\n",
       "      <th>show_id</th>\n",
       "      <th>type</th>\n",
       "      <th>title</th>\n",
       "      <th>director</th>\n",
       "      <th>cast</th>\n",
       "      <th>country</th>\n",
       "      <th>date_added</th>\n",
       "      <th>release_year</th>\n",
       "      <th>rating</th>\n",
       "      <th>duration</th>\n",
       "      <th>listed_in</th>\n",
       "      <th>description</th>\n",
       "    </tr>\n",
       "  </thead>\n",
       "  <tbody>\n",
       "    <tr>\n",
       "      <th>0</th>\n",
       "      <td>s1</td>\n",
       "      <td>TV Show</td>\n",
       "      <td>3%</td>\n",
       "      <td>NaN</td>\n",
       "      <td>João Miguel, Bianca Comparato, Michel Gomes, R...</td>\n",
       "      <td>Brazil</td>\n",
       "      <td>August 14, 2020</td>\n",
       "      <td>2020</td>\n",
       "      <td>TV-MA</td>\n",
       "      <td>4 Seasons</td>\n",
       "      <td>International TV Shows, TV Dramas, TV Sci-Fi &amp;...</td>\n",
       "      <td>In a future where the elite inhabit an island ...</td>\n",
       "    </tr>\n",
       "    <tr>\n",
       "      <th>1</th>\n",
       "      <td>s2</td>\n",
       "      <td>Movie</td>\n",
       "      <td>7:19</td>\n",
       "      <td>Jorge Michel Grau</td>\n",
       "      <td>Demián Bichir, Héctor Bonilla, Oscar Serrano, ...</td>\n",
       "      <td>Mexico</td>\n",
       "      <td>December 23, 2016</td>\n",
       "      <td>2016</td>\n",
       "      <td>TV-MA</td>\n",
       "      <td>93 min</td>\n",
       "      <td>Dramas, International Movies</td>\n",
       "      <td>After a devastating earthquake hits Mexico Cit...</td>\n",
       "    </tr>\n",
       "    <tr>\n",
       "      <th>2</th>\n",
       "      <td>s3</td>\n",
       "      <td>Movie</td>\n",
       "      <td>23:59</td>\n",
       "      <td>Gilbert Chan</td>\n",
       "      <td>Tedd Chan, Stella Chung, Henley Hii, Lawrence ...</td>\n",
       "      <td>Singapore</td>\n",
       "      <td>December 20, 2018</td>\n",
       "      <td>2011</td>\n",
       "      <td>R</td>\n",
       "      <td>78 min</td>\n",
       "      <td>Horror Movies, International Movies</td>\n",
       "      <td>When an army recruit is found dead, his fellow...</td>\n",
       "    </tr>\n",
       "    <tr>\n",
       "      <th>3</th>\n",
       "      <td>s4</td>\n",
       "      <td>Movie</td>\n",
       "      <td>9</td>\n",
       "      <td>Shane Acker</td>\n",
       "      <td>Elijah Wood, John C. Reilly, Jennifer Connelly...</td>\n",
       "      <td>United States</td>\n",
       "      <td>November 16, 2017</td>\n",
       "      <td>2009</td>\n",
       "      <td>PG-13</td>\n",
       "      <td>80 min</td>\n",
       "      <td>Action &amp; Adventure, Independent Movies, Sci-Fi...</td>\n",
       "      <td>In a postapocalyptic world, rag-doll robots hi...</td>\n",
       "    </tr>\n",
       "    <tr>\n",
       "      <th>4</th>\n",
       "      <td>s5</td>\n",
       "      <td>Movie</td>\n",
       "      <td>21</td>\n",
       "      <td>Robert Luketic</td>\n",
       "      <td>Jim Sturgess, Kevin Spacey, Kate Bosworth, Aar...</td>\n",
       "      <td>United States</td>\n",
       "      <td>January 1, 2020</td>\n",
       "      <td>2008</td>\n",
       "      <td>PG-13</td>\n",
       "      <td>123 min</td>\n",
       "      <td>Dramas</td>\n",
       "      <td>A brilliant group of students become card-coun...</td>\n",
       "    </tr>\n",
       "    <tr>\n",
       "      <th>...</th>\n",
       "      <td>...</td>\n",
       "      <td>...</td>\n",
       "      <td>...</td>\n",
       "      <td>...</td>\n",
       "      <td>...</td>\n",
       "      <td>...</td>\n",
       "      <td>...</td>\n",
       "      <td>...</td>\n",
       "      <td>...</td>\n",
       "      <td>...</td>\n",
       "      <td>...</td>\n",
       "      <td>...</td>\n",
       "    </tr>\n",
       "    <tr>\n",
       "      <th>7782</th>\n",
       "      <td>s7783</td>\n",
       "      <td>Movie</td>\n",
       "      <td>Zozo</td>\n",
       "      <td>Josef Fares</td>\n",
       "      <td>Imad Creidi, Antoinette Turk, Elias Gergi, Car...</td>\n",
       "      <td>Sweden, Czech Republic, United Kingdom, Denmar...</td>\n",
       "      <td>October 19, 2020</td>\n",
       "      <td>2005</td>\n",
       "      <td>TV-MA</td>\n",
       "      <td>99 min</td>\n",
       "      <td>Dramas, International Movies</td>\n",
       "      <td>When Lebanon's Civil War deprives Zozo of his ...</td>\n",
       "    </tr>\n",
       "    <tr>\n",
       "      <th>7783</th>\n",
       "      <td>s7784</td>\n",
       "      <td>Movie</td>\n",
       "      <td>Zubaan</td>\n",
       "      <td>Mozez Singh</td>\n",
       "      <td>Vicky Kaushal, Sarah-Jane Dias, Raaghav Chanan...</td>\n",
       "      <td>India</td>\n",
       "      <td>March 2, 2019</td>\n",
       "      <td>2015</td>\n",
       "      <td>TV-14</td>\n",
       "      <td>111 min</td>\n",
       "      <td>Dramas, International Movies, Music &amp; Musicals</td>\n",
       "      <td>A scrappy but poor boy worms his way into a ty...</td>\n",
       "    </tr>\n",
       "    <tr>\n",
       "      <th>7784</th>\n",
       "      <td>s7785</td>\n",
       "      <td>Movie</td>\n",
       "      <td>Zulu Man in Japan</td>\n",
       "      <td>NaN</td>\n",
       "      <td>Nasty C</td>\n",
       "      <td>NaN</td>\n",
       "      <td>September 25, 2020</td>\n",
       "      <td>2019</td>\n",
       "      <td>TV-MA</td>\n",
       "      <td>44 min</td>\n",
       "      <td>Documentaries, International Movies, Music &amp; M...</td>\n",
       "      <td>In this documentary, South African rapper Nast...</td>\n",
       "    </tr>\n",
       "    <tr>\n",
       "      <th>7785</th>\n",
       "      <td>s7786</td>\n",
       "      <td>TV Show</td>\n",
       "      <td>Zumbo's Just Desserts</td>\n",
       "      <td>NaN</td>\n",
       "      <td>Adriano Zumbo, Rachel Khoo</td>\n",
       "      <td>Australia</td>\n",
       "      <td>October 31, 2020</td>\n",
       "      <td>2019</td>\n",
       "      <td>TV-PG</td>\n",
       "      <td>1 Season</td>\n",
       "      <td>International TV Shows, Reality TV</td>\n",
       "      <td>Dessert wizard Adriano Zumbo looks for the nex...</td>\n",
       "    </tr>\n",
       "    <tr>\n",
       "      <th>7786</th>\n",
       "      <td>s7787</td>\n",
       "      <td>Movie</td>\n",
       "      <td>ZZ TOP: THAT LITTLE OL' BAND FROM TEXAS</td>\n",
       "      <td>Sam Dunn</td>\n",
       "      <td>NaN</td>\n",
       "      <td>United Kingdom, Canada, United States</td>\n",
       "      <td>March 1, 2020</td>\n",
       "      <td>2019</td>\n",
       "      <td>TV-MA</td>\n",
       "      <td>90 min</td>\n",
       "      <td>Documentaries, Music &amp; Musicals</td>\n",
       "      <td>This documentary delves into the mystique behi...</td>\n",
       "    </tr>\n",
       "  </tbody>\n",
       "</table>\n",
       "<p>7787 rows × 12 columns</p>\n",
       "</div>"
      ],
      "text/plain": [
       "     show_id     type                                    title  \\\n",
       "0         s1  TV Show                                       3%   \n",
       "1         s2    Movie                                     7:19   \n",
       "2         s3    Movie                                    23:59   \n",
       "3         s4    Movie                                        9   \n",
       "4         s5    Movie                                       21   \n",
       "...      ...      ...                                      ...   \n",
       "7782   s7783    Movie                                     Zozo   \n",
       "7783   s7784    Movie                                   Zubaan   \n",
       "7784   s7785    Movie                        Zulu Man in Japan   \n",
       "7785   s7786  TV Show                    Zumbo's Just Desserts   \n",
       "7786   s7787    Movie  ZZ TOP: THAT LITTLE OL' BAND FROM TEXAS   \n",
       "\n",
       "               director                                               cast  \\\n",
       "0                   NaN  João Miguel, Bianca Comparato, Michel Gomes, R...   \n",
       "1     Jorge Michel Grau  Demián Bichir, Héctor Bonilla, Oscar Serrano, ...   \n",
       "2          Gilbert Chan  Tedd Chan, Stella Chung, Henley Hii, Lawrence ...   \n",
       "3           Shane Acker  Elijah Wood, John C. Reilly, Jennifer Connelly...   \n",
       "4        Robert Luketic  Jim Sturgess, Kevin Spacey, Kate Bosworth, Aar...   \n",
       "...                 ...                                                ...   \n",
       "7782        Josef Fares  Imad Creidi, Antoinette Turk, Elias Gergi, Car...   \n",
       "7783        Mozez Singh  Vicky Kaushal, Sarah-Jane Dias, Raaghav Chanan...   \n",
       "7784                NaN                                            Nasty C   \n",
       "7785                NaN                         Adriano Zumbo, Rachel Khoo   \n",
       "7786           Sam Dunn                                                NaN   \n",
       "\n",
       "                                                country          date_added  \\\n",
       "0                                                Brazil     August 14, 2020   \n",
       "1                                                Mexico   December 23, 2016   \n",
       "2                                             Singapore   December 20, 2018   \n",
       "3                                         United States   November 16, 2017   \n",
       "4                                         United States     January 1, 2020   \n",
       "...                                                 ...                 ...   \n",
       "7782  Sweden, Czech Republic, United Kingdom, Denmar...    October 19, 2020   \n",
       "7783                                              India       March 2, 2019   \n",
       "7784                                                NaN  September 25, 2020   \n",
       "7785                                          Australia    October 31, 2020   \n",
       "7786              United Kingdom, Canada, United States       March 1, 2020   \n",
       "\n",
       "      release_year rating   duration  \\\n",
       "0             2020  TV-MA  4 Seasons   \n",
       "1             2016  TV-MA     93 min   \n",
       "2             2011      R     78 min   \n",
       "3             2009  PG-13     80 min   \n",
       "4             2008  PG-13    123 min   \n",
       "...            ...    ...        ...   \n",
       "7782          2005  TV-MA     99 min   \n",
       "7783          2015  TV-14    111 min   \n",
       "7784          2019  TV-MA     44 min   \n",
       "7785          2019  TV-PG   1 Season   \n",
       "7786          2019  TV-MA     90 min   \n",
       "\n",
       "                                              listed_in  \\\n",
       "0     International TV Shows, TV Dramas, TV Sci-Fi &...   \n",
       "1                          Dramas, International Movies   \n",
       "2                   Horror Movies, International Movies   \n",
       "3     Action & Adventure, Independent Movies, Sci-Fi...   \n",
       "4                                                Dramas   \n",
       "...                                                 ...   \n",
       "7782                       Dramas, International Movies   \n",
       "7783     Dramas, International Movies, Music & Musicals   \n",
       "7784  Documentaries, International Movies, Music & M...   \n",
       "7785                 International TV Shows, Reality TV   \n",
       "7786                    Documentaries, Music & Musicals   \n",
       "\n",
       "                                            description  \n",
       "0     In a future where the elite inhabit an island ...  \n",
       "1     After a devastating earthquake hits Mexico Cit...  \n",
       "2     When an army recruit is found dead, his fellow...  \n",
       "3     In a postapocalyptic world, rag-doll robots hi...  \n",
       "4     A brilliant group of students become card-coun...  \n",
       "...                                                 ...  \n",
       "7782  When Lebanon's Civil War deprives Zozo of his ...  \n",
       "7783  A scrappy but poor boy worms his way into a ty...  \n",
       "7784  In this documentary, South African rapper Nast...  \n",
       "7785  Dessert wizard Adriano Zumbo looks for the nex...  \n",
       "7786  This documentary delves into the mystique behi...  \n",
       "\n",
       "[7787 rows x 12 columns]"
      ]
     },
     "execution_count": 2,
     "metadata": {},
     "output_type": "execute_result"
    }
   ],
   "source": [
    "dataframe = pd.read_csv('data.csv')\n",
    "dataframe"
   ]
  },
  {
   "cell_type": "markdown",
   "metadata": {},
   "source": [
    "### 1. Number of titles produced by each country added yearly on Netflix"
   ]
  },
  {
   "cell_type": "markdown",
   "metadata": {},
   "source": [
    "We observe that some shows have multiple countries separated by `,`"
   ]
  },
  {
   "cell_type": "code",
   "execution_count": 3,
   "metadata": {
    "scrolled": true
   },
   "outputs": [
    {
     "data": {
      "text/html": [
       "<div>\n",
       "<style scoped>\n",
       "    .dataframe tbody tr th:only-of-type {\n",
       "        vertical-align: middle;\n",
       "    }\n",
       "\n",
       "    .dataframe tbody tr th {\n",
       "        vertical-align: top;\n",
       "    }\n",
       "\n",
       "    .dataframe thead th {\n",
       "        text-align: right;\n",
       "    }\n",
       "</style>\n",
       "<table border=\"1\" class=\"dataframe\">\n",
       "  <thead>\n",
       "    <tr style=\"text-align: right;\">\n",
       "      <th></th>\n",
       "      <th>show_id</th>\n",
       "      <th>type</th>\n",
       "      <th>title</th>\n",
       "      <th>director</th>\n",
       "      <th>cast</th>\n",
       "      <th>country</th>\n",
       "      <th>date_added</th>\n",
       "      <th>release_year</th>\n",
       "      <th>rating</th>\n",
       "      <th>duration</th>\n",
       "      <th>listed_in</th>\n",
       "      <th>description</th>\n",
       "    </tr>\n",
       "  </thead>\n",
       "  <tbody>\n",
       "    <tr>\n",
       "      <th>11</th>\n",
       "      <td>s12</td>\n",
       "      <td>TV Show</td>\n",
       "      <td>1983</td>\n",
       "      <td>NaN</td>\n",
       "      <td>Robert Więckiewicz, Maciej Musiał, Michalina O...</td>\n",
       "      <td>Poland, United States</td>\n",
       "      <td>November 30, 2018</td>\n",
       "      <td>2018</td>\n",
       "      <td>TV-MA</td>\n",
       "      <td>1 Season</td>\n",
       "      <td>Crime TV Shows, International TV Shows, TV Dramas</td>\n",
       "      <td>In this dark alt-history thriller, a naïve law...</td>\n",
       "    </tr>\n",
       "    <tr>\n",
       "      <th>17</th>\n",
       "      <td>s18</td>\n",
       "      <td>Movie</td>\n",
       "      <td>22-Jul</td>\n",
       "      <td>Paul Greengrass</td>\n",
       "      <td>Anders Danielsen Lie, Jon Øigarden, Jonas Stra...</td>\n",
       "      <td>Norway, Iceland, United States</td>\n",
       "      <td>October 10, 2018</td>\n",
       "      <td>2018</td>\n",
       "      <td>R</td>\n",
       "      <td>144 min</td>\n",
       "      <td>Dramas, Thrillers</td>\n",
       "      <td>After devastating terror attacks in Norway, a ...</td>\n",
       "    </tr>\n",
       "    <tr>\n",
       "      <th>48</th>\n",
       "      <td>s49</td>\n",
       "      <td>Movie</td>\n",
       "      <td>10 Days in Sun City</td>\n",
       "      <td>Adze Ugah</td>\n",
       "      <td>Ayo Makun, Adesua Etomi, Richard Mofe-Damijo, ...</td>\n",
       "      <td>South Africa, Nigeria</td>\n",
       "      <td>October 18, 2019</td>\n",
       "      <td>2017</td>\n",
       "      <td>TV-14</td>\n",
       "      <td>87 min</td>\n",
       "      <td>Comedies, International Movies, Romantic Movies</td>\n",
       "      <td>After his girlfriend wins the Miss Nigeria pag...</td>\n",
       "    </tr>\n",
       "    <tr>\n",
       "      <th>50</th>\n",
       "      <td>s51</td>\n",
       "      <td>Movie</td>\n",
       "      <td>10,000 B.C.</td>\n",
       "      <td>Roland Emmerich</td>\n",
       "      <td>Steven Strait, Camilla Belle, Cliff Curtis, Jo...</td>\n",
       "      <td>United States, South Africa</td>\n",
       "      <td>June 1, 2019</td>\n",
       "      <td>2008</td>\n",
       "      <td>PG-13</td>\n",
       "      <td>109 min</td>\n",
       "      <td>Action &amp; Adventure</td>\n",
       "      <td>Fierce mammoth hunter D'Leh sets out on an imp...</td>\n",
       "    </tr>\n",
       "    <tr>\n",
       "      <th>54</th>\n",
       "      <td>s55</td>\n",
       "      <td>Movie</td>\n",
       "      <td>100 Meters</td>\n",
       "      <td>Marcel Barrena</td>\n",
       "      <td>Dani Rovira, Karra Elejalde, Alexandra Jiménez...</td>\n",
       "      <td>Portugal, Spain</td>\n",
       "      <td>March 10, 2017</td>\n",
       "      <td>2016</td>\n",
       "      <td>TV-MA</td>\n",
       "      <td>109 min</td>\n",
       "      <td>Dramas, International Movies, Sports Movies</td>\n",
       "      <td>A man who is diagnosed with multiple sclerosis...</td>\n",
       "    </tr>\n",
       "    <tr>\n",
       "      <th>...</th>\n",
       "      <td>...</td>\n",
       "      <td>...</td>\n",
       "      <td>...</td>\n",
       "      <td>...</td>\n",
       "      <td>...</td>\n",
       "      <td>...</td>\n",
       "      <td>...</td>\n",
       "      <td>...</td>\n",
       "      <td>...</td>\n",
       "      <td>...</td>\n",
       "      <td>...</td>\n",
       "      <td>...</td>\n",
       "    </tr>\n",
       "    <tr>\n",
       "      <th>7759</th>\n",
       "      <td>s7760</td>\n",
       "      <td>TV Show</td>\n",
       "      <td>Zak Storm</td>\n",
       "      <td>NaN</td>\n",
       "      <td>Michael Johnston, Jessica Gee-George, Christin...</td>\n",
       "      <td>United States, France, South Korea, Indonesia</td>\n",
       "      <td>September 13, 2018</td>\n",
       "      <td>2016</td>\n",
       "      <td>TV-Y7</td>\n",
       "      <td>3 Seasons</td>\n",
       "      <td>Kids' TV</td>\n",
       "      <td>Teen surfer Zak Storm is mysteriously transpor...</td>\n",
       "    </tr>\n",
       "    <tr>\n",
       "      <th>7761</th>\n",
       "      <td>s7762</td>\n",
       "      <td>Movie</td>\n",
       "      <td>Zapped</td>\n",
       "      <td>Peter DeLuise</td>\n",
       "      <td>Zendaya, Chanelle Peloso, Spencer Boldman, Emi...</td>\n",
       "      <td>Canada, United States</td>\n",
       "      <td>February 1, 2017</td>\n",
       "      <td>2014</td>\n",
       "      <td>TV-Y</td>\n",
       "      <td>92 min</td>\n",
       "      <td>Children &amp; Family Movies, Comedies</td>\n",
       "      <td>A girl discovers a dog-training app that can g...</td>\n",
       "    </tr>\n",
       "    <tr>\n",
       "      <th>7770</th>\n",
       "      <td>s7771</td>\n",
       "      <td>Movie</td>\n",
       "      <td>Zinzana</td>\n",
       "      <td>Majid Al Ansari</td>\n",
       "      <td>Ali Suliman, Saleh Bakri, Yasa, Ali Al-Jabri, ...</td>\n",
       "      <td>United Arab Emirates, Jordan</td>\n",
       "      <td>March 9, 2016</td>\n",
       "      <td>2015</td>\n",
       "      <td>TV-MA</td>\n",
       "      <td>96 min</td>\n",
       "      <td>Dramas, International Movies, Thrillers</td>\n",
       "      <td>Recovering alcoholic Talal wakes up inside a s...</td>\n",
       "    </tr>\n",
       "    <tr>\n",
       "      <th>7782</th>\n",
       "      <td>s7783</td>\n",
       "      <td>Movie</td>\n",
       "      <td>Zozo</td>\n",
       "      <td>Josef Fares</td>\n",
       "      <td>Imad Creidi, Antoinette Turk, Elias Gergi, Car...</td>\n",
       "      <td>Sweden, Czech Republic, United Kingdom, Denmar...</td>\n",
       "      <td>October 19, 2020</td>\n",
       "      <td>2005</td>\n",
       "      <td>TV-MA</td>\n",
       "      <td>99 min</td>\n",
       "      <td>Dramas, International Movies</td>\n",
       "      <td>When Lebanon's Civil War deprives Zozo of his ...</td>\n",
       "    </tr>\n",
       "    <tr>\n",
       "      <th>7786</th>\n",
       "      <td>s7787</td>\n",
       "      <td>Movie</td>\n",
       "      <td>ZZ TOP: THAT LITTLE OL' BAND FROM TEXAS</td>\n",
       "      <td>Sam Dunn</td>\n",
       "      <td>NaN</td>\n",
       "      <td>United Kingdom, Canada, United States</td>\n",
       "      <td>March 1, 2020</td>\n",
       "      <td>2019</td>\n",
       "      <td>TV-MA</td>\n",
       "      <td>90 min</td>\n",
       "      <td>Documentaries, Music &amp; Musicals</td>\n",
       "      <td>This documentary delves into the mystique behi...</td>\n",
       "    </tr>\n",
       "  </tbody>\n",
       "</table>\n",
       "<p>1153 rows × 12 columns</p>\n",
       "</div>"
      ],
      "text/plain": [
       "     show_id     type                                    title  \\\n",
       "11       s12  TV Show                                     1983   \n",
       "17       s18    Movie                                   22-Jul   \n",
       "48       s49    Movie                      10 Days in Sun City   \n",
       "50       s51    Movie                              10,000 B.C.   \n",
       "54       s55    Movie                               100 Meters   \n",
       "...      ...      ...                                      ...   \n",
       "7759   s7760  TV Show                                Zak Storm   \n",
       "7761   s7762    Movie                                   Zapped   \n",
       "7770   s7771    Movie                                  Zinzana   \n",
       "7782   s7783    Movie                                     Zozo   \n",
       "7786   s7787    Movie  ZZ TOP: THAT LITTLE OL' BAND FROM TEXAS   \n",
       "\n",
       "             director                                               cast  \\\n",
       "11                NaN  Robert Więckiewicz, Maciej Musiał, Michalina O...   \n",
       "17    Paul Greengrass  Anders Danielsen Lie, Jon Øigarden, Jonas Stra...   \n",
       "48          Adze Ugah  Ayo Makun, Adesua Etomi, Richard Mofe-Damijo, ...   \n",
       "50    Roland Emmerich  Steven Strait, Camilla Belle, Cliff Curtis, Jo...   \n",
       "54     Marcel Barrena  Dani Rovira, Karra Elejalde, Alexandra Jiménez...   \n",
       "...               ...                                                ...   \n",
       "7759              NaN  Michael Johnston, Jessica Gee-George, Christin...   \n",
       "7761    Peter DeLuise  Zendaya, Chanelle Peloso, Spencer Boldman, Emi...   \n",
       "7770  Majid Al Ansari  Ali Suliman, Saleh Bakri, Yasa, Ali Al-Jabri, ...   \n",
       "7782      Josef Fares  Imad Creidi, Antoinette Turk, Elias Gergi, Car...   \n",
       "7786         Sam Dunn                                                NaN   \n",
       "\n",
       "                                                country          date_added  \\\n",
       "11                                Poland, United States   November 30, 2018   \n",
       "17                       Norway, Iceland, United States    October 10, 2018   \n",
       "48                                South Africa, Nigeria    October 18, 2019   \n",
       "50                          United States, South Africa        June 1, 2019   \n",
       "54                                      Portugal, Spain      March 10, 2017   \n",
       "...                                                 ...                 ...   \n",
       "7759      United States, France, South Korea, Indonesia  September 13, 2018   \n",
       "7761                              Canada, United States    February 1, 2017   \n",
       "7770                       United Arab Emirates, Jordan       March 9, 2016   \n",
       "7782  Sweden, Czech Republic, United Kingdom, Denmar...    October 19, 2020   \n",
       "7786              United Kingdom, Canada, United States       March 1, 2020   \n",
       "\n",
       "      release_year rating   duration  \\\n",
       "11            2018  TV-MA   1 Season   \n",
       "17            2018      R    144 min   \n",
       "48            2017  TV-14     87 min   \n",
       "50            2008  PG-13    109 min   \n",
       "54            2016  TV-MA    109 min   \n",
       "...            ...    ...        ...   \n",
       "7759          2016  TV-Y7  3 Seasons   \n",
       "7761          2014   TV-Y     92 min   \n",
       "7770          2015  TV-MA     96 min   \n",
       "7782          2005  TV-MA     99 min   \n",
       "7786          2019  TV-MA     90 min   \n",
       "\n",
       "                                              listed_in  \\\n",
       "11    Crime TV Shows, International TV Shows, TV Dramas   \n",
       "17                                    Dramas, Thrillers   \n",
       "48      Comedies, International Movies, Romantic Movies   \n",
       "50                                   Action & Adventure   \n",
       "54          Dramas, International Movies, Sports Movies   \n",
       "...                                                 ...   \n",
       "7759                                           Kids' TV   \n",
       "7761                 Children & Family Movies, Comedies   \n",
       "7770            Dramas, International Movies, Thrillers   \n",
       "7782                       Dramas, International Movies   \n",
       "7786                    Documentaries, Music & Musicals   \n",
       "\n",
       "                                            description  \n",
       "11    In this dark alt-history thriller, a naïve law...  \n",
       "17    After devastating terror attacks in Norway, a ...  \n",
       "48    After his girlfriend wins the Miss Nigeria pag...  \n",
       "50    Fierce mammoth hunter D'Leh sets out on an imp...  \n",
       "54    A man who is diagnosed with multiple sclerosis...  \n",
       "...                                                 ...  \n",
       "7759  Teen surfer Zak Storm is mysteriously transpor...  \n",
       "7761  A girl discovers a dog-training app that can g...  \n",
       "7770  Recovering alcoholic Talal wakes up inside a s...  \n",
       "7782  When Lebanon's Civil War deprives Zozo of his ...  \n",
       "7786  This documentary delves into the mystique behi...  \n",
       "\n",
       "[1153 rows x 12 columns]"
      ]
     },
     "execution_count": 3,
     "metadata": {},
     "output_type": "execute_result"
    }
   ],
   "source": [
    "dataframe[dataframe['country'].str.contains(\",\",na=False)]"
   ]
  },
  {
   "cell_type": "markdown",
   "metadata": {},
   "source": [
    "Let's try to create arrays from the comma separated country values."
   ]
  },
  {
   "cell_type": "code",
   "execution_count": 4,
   "metadata": {},
   "outputs": [
    {
     "data": {
      "text/html": [
       "<div>\n",
       "<style scoped>\n",
       "    .dataframe tbody tr th:only-of-type {\n",
       "        vertical-align: middle;\n",
       "    }\n",
       "\n",
       "    .dataframe tbody tr th {\n",
       "        vertical-align: top;\n",
       "    }\n",
       "\n",
       "    .dataframe thead th {\n",
       "        text-align: right;\n",
       "    }\n",
       "</style>\n",
       "<table border=\"1\" class=\"dataframe\">\n",
       "  <thead>\n",
       "    <tr style=\"text-align: right;\">\n",
       "      <th></th>\n",
       "      <th>title</th>\n",
       "      <th>country</th>\n",
       "      <th>date_added</th>\n",
       "      <th>release_year</th>\n",
       "    </tr>\n",
       "  </thead>\n",
       "  <tbody>\n",
       "    <tr>\n",
       "      <th>0</th>\n",
       "      <td>3%</td>\n",
       "      <td>[Brazil]</td>\n",
       "      <td>August 14, 2020</td>\n",
       "      <td>2020</td>\n",
       "    </tr>\n",
       "    <tr>\n",
       "      <th>1</th>\n",
       "      <td>7:19</td>\n",
       "      <td>[Mexico]</td>\n",
       "      <td>December 23, 2016</td>\n",
       "      <td>2016</td>\n",
       "    </tr>\n",
       "    <tr>\n",
       "      <th>2</th>\n",
       "      <td>23:59</td>\n",
       "      <td>[Singapore]</td>\n",
       "      <td>December 20, 2018</td>\n",
       "      <td>2011</td>\n",
       "    </tr>\n",
       "    <tr>\n",
       "      <th>3</th>\n",
       "      <td>9</td>\n",
       "      <td>[United States]</td>\n",
       "      <td>November 16, 2017</td>\n",
       "      <td>2009</td>\n",
       "    </tr>\n",
       "    <tr>\n",
       "      <th>4</th>\n",
       "      <td>21</td>\n",
       "      <td>[United States]</td>\n",
       "      <td>January 1, 2020</td>\n",
       "      <td>2008</td>\n",
       "    </tr>\n",
       "    <tr>\n",
       "      <th>...</th>\n",
       "      <td>...</td>\n",
       "      <td>...</td>\n",
       "      <td>...</td>\n",
       "      <td>...</td>\n",
       "    </tr>\n",
       "    <tr>\n",
       "      <th>7782</th>\n",
       "      <td>Zozo</td>\n",
       "      <td>[Sweden, Czech Republic, United Kingdom, Denma...</td>\n",
       "      <td>October 19, 2020</td>\n",
       "      <td>2005</td>\n",
       "    </tr>\n",
       "    <tr>\n",
       "      <th>7783</th>\n",
       "      <td>Zubaan</td>\n",
       "      <td>[India]</td>\n",
       "      <td>March 2, 2019</td>\n",
       "      <td>2015</td>\n",
       "    </tr>\n",
       "    <tr>\n",
       "      <th>7784</th>\n",
       "      <td>Zulu Man in Japan</td>\n",
       "      <td>[nan]</td>\n",
       "      <td>September 25, 2020</td>\n",
       "      <td>2019</td>\n",
       "    </tr>\n",
       "    <tr>\n",
       "      <th>7785</th>\n",
       "      <td>Zumbo's Just Desserts</td>\n",
       "      <td>[Australia]</td>\n",
       "      <td>October 31, 2020</td>\n",
       "      <td>2019</td>\n",
       "    </tr>\n",
       "    <tr>\n",
       "      <th>7786</th>\n",
       "      <td>ZZ TOP: THAT LITTLE OL' BAND FROM TEXAS</td>\n",
       "      <td>[United Kingdom, Canada, United States]</td>\n",
       "      <td>March 1, 2020</td>\n",
       "      <td>2019</td>\n",
       "    </tr>\n",
       "  </tbody>\n",
       "</table>\n",
       "<p>7787 rows × 4 columns</p>\n",
       "</div>"
      ],
      "text/plain": [
       "                                        title  \\\n",
       "0                                          3%   \n",
       "1                                        7:19   \n",
       "2                                       23:59   \n",
       "3                                           9   \n",
       "4                                          21   \n",
       "...                                       ...   \n",
       "7782                                     Zozo   \n",
       "7783                                   Zubaan   \n",
       "7784                        Zulu Man in Japan   \n",
       "7785                    Zumbo's Just Desserts   \n",
       "7786  ZZ TOP: THAT LITTLE OL' BAND FROM TEXAS   \n",
       "\n",
       "                                                country          date_added  \\\n",
       "0                                              [Brazil]     August 14, 2020   \n",
       "1                                              [Mexico]   December 23, 2016   \n",
       "2                                           [Singapore]   December 20, 2018   \n",
       "3                                       [United States]   November 16, 2017   \n",
       "4                                       [United States]     January 1, 2020   \n",
       "...                                                 ...                 ...   \n",
       "7782  [Sweden, Czech Republic, United Kingdom, Denma...    October 19, 2020   \n",
       "7783                                            [India]       March 2, 2019   \n",
       "7784                                              [nan]  September 25, 2020   \n",
       "7785                                        [Australia]    October 31, 2020   \n",
       "7786            [United Kingdom, Canada, United States]       March 1, 2020   \n",
       "\n",
       "      release_year  \n",
       "0             2020  \n",
       "1             2016  \n",
       "2             2011  \n",
       "3             2009  \n",
       "4             2008  \n",
       "...            ...  \n",
       "7782          2005  \n",
       "7783          2015  \n",
       "7784          2019  \n",
       "7785          2019  \n",
       "7786          2019  \n",
       "\n",
       "[7787 rows x 4 columns]"
      ]
     },
     "execution_count": 4,
     "metadata": {},
     "output_type": "execute_result"
    }
   ],
   "source": [
    "by_country = dataframe[['title', 'country', 'date_added',\n",
    "                        'release_year']].copy()\n",
    "by_country['country'] = by_country['country'].apply(lambda row_value: list(\n",
    "    map(lambda country_name: country_name.strip(), str(row_value).split(\",\"))))\n",
    "by_country"
   ]
  },
  {
   "cell_type": "markdown",
   "metadata": {},
   "source": [
    "Now we can use the `explode` method to expand the records which have multiple countries. "
   ]
  },
  {
   "cell_type": "code",
   "execution_count": 5,
   "metadata": {},
   "outputs": [
    {
     "data": {
      "text/html": [
       "<div>\n",
       "<style scoped>\n",
       "    .dataframe tbody tr th:only-of-type {\n",
       "        vertical-align: middle;\n",
       "    }\n",
       "\n",
       "    .dataframe tbody tr th {\n",
       "        vertical-align: top;\n",
       "    }\n",
       "\n",
       "    .dataframe thead th {\n",
       "        text-align: right;\n",
       "    }\n",
       "</style>\n",
       "<table border=\"1\" class=\"dataframe\">\n",
       "  <thead>\n",
       "    <tr style=\"text-align: right;\">\n",
       "      <th></th>\n",
       "      <th>title</th>\n",
       "      <th>country</th>\n",
       "      <th>date_added</th>\n",
       "      <th>release_year</th>\n",
       "    </tr>\n",
       "  </thead>\n",
       "  <tbody>\n",
       "    <tr>\n",
       "      <th>0</th>\n",
       "      <td>3%</td>\n",
       "      <td>Brazil</td>\n",
       "      <td>August 14, 2020</td>\n",
       "      <td>2020</td>\n",
       "    </tr>\n",
       "    <tr>\n",
       "      <th>1</th>\n",
       "      <td>7:19</td>\n",
       "      <td>Mexico</td>\n",
       "      <td>December 23, 2016</td>\n",
       "      <td>2016</td>\n",
       "    </tr>\n",
       "    <tr>\n",
       "      <th>2</th>\n",
       "      <td>23:59</td>\n",
       "      <td>Singapore</td>\n",
       "      <td>December 20, 2018</td>\n",
       "      <td>2011</td>\n",
       "    </tr>\n",
       "    <tr>\n",
       "      <th>3</th>\n",
       "      <td>9</td>\n",
       "      <td>United States</td>\n",
       "      <td>November 16, 2017</td>\n",
       "      <td>2009</td>\n",
       "    </tr>\n",
       "    <tr>\n",
       "      <th>4</th>\n",
       "      <td>21</td>\n",
       "      <td>United States</td>\n",
       "      <td>January 1, 2020</td>\n",
       "      <td>2008</td>\n",
       "    </tr>\n",
       "    <tr>\n",
       "      <th>...</th>\n",
       "      <td>...</td>\n",
       "      <td>...</td>\n",
       "      <td>...</td>\n",
       "      <td>...</td>\n",
       "    </tr>\n",
       "    <tr>\n",
       "      <th>7784</th>\n",
       "      <td>Zulu Man in Japan</td>\n",
       "      <td>nan</td>\n",
       "      <td>September 25, 2020</td>\n",
       "      <td>2019</td>\n",
       "    </tr>\n",
       "    <tr>\n",
       "      <th>7785</th>\n",
       "      <td>Zumbo's Just Desserts</td>\n",
       "      <td>Australia</td>\n",
       "      <td>October 31, 2020</td>\n",
       "      <td>2019</td>\n",
       "    </tr>\n",
       "    <tr>\n",
       "      <th>7786</th>\n",
       "      <td>ZZ TOP: THAT LITTLE OL' BAND FROM TEXAS</td>\n",
       "      <td>United Kingdom</td>\n",
       "      <td>March 1, 2020</td>\n",
       "      <td>2019</td>\n",
       "    </tr>\n",
       "    <tr>\n",
       "      <th>7786</th>\n",
       "      <td>ZZ TOP: THAT LITTLE OL' BAND FROM TEXAS</td>\n",
       "      <td>Canada</td>\n",
       "      <td>March 1, 2020</td>\n",
       "      <td>2019</td>\n",
       "    </tr>\n",
       "    <tr>\n",
       "      <th>7786</th>\n",
       "      <td>ZZ TOP: THAT LITTLE OL' BAND FROM TEXAS</td>\n",
       "      <td>United States</td>\n",
       "      <td>March 1, 2020</td>\n",
       "      <td>2019</td>\n",
       "    </tr>\n",
       "  </tbody>\n",
       "</table>\n",
       "<p>9574 rows × 4 columns</p>\n",
       "</div>"
      ],
      "text/plain": [
       "                                        title         country  \\\n",
       "0                                          3%          Brazil   \n",
       "1                                        7:19          Mexico   \n",
       "2                                       23:59       Singapore   \n",
       "3                                           9   United States   \n",
       "4                                          21   United States   \n",
       "...                                       ...             ...   \n",
       "7784                        Zulu Man in Japan             nan   \n",
       "7785                    Zumbo's Just Desserts       Australia   \n",
       "7786  ZZ TOP: THAT LITTLE OL' BAND FROM TEXAS  United Kingdom   \n",
       "7786  ZZ TOP: THAT LITTLE OL' BAND FROM TEXAS          Canada   \n",
       "7786  ZZ TOP: THAT LITTLE OL' BAND FROM TEXAS   United States   \n",
       "\n",
       "              date_added  release_year  \n",
       "0        August 14, 2020          2020  \n",
       "1      December 23, 2016          2016  \n",
       "2      December 20, 2018          2011  \n",
       "3      November 16, 2017          2009  \n",
       "4        January 1, 2020          2008  \n",
       "...                  ...           ...  \n",
       "7784  September 25, 2020          2019  \n",
       "7785    October 31, 2020          2019  \n",
       "7786       March 1, 2020          2019  \n",
       "7786       March 1, 2020          2019  \n",
       "7786       March 1, 2020          2019  \n",
       "\n",
       "[9574 rows x 4 columns]"
      ]
     },
     "execution_count": 5,
     "metadata": {},
     "output_type": "execute_result"
    }
   ],
   "source": [
    "expanded_countries = by_country.explode('country')\n",
    "\n",
    "expanded_countries"
   ]
  },
  {
   "cell_type": "markdown",
   "metadata": {},
   "source": [
    "We need to extract the year in which each tv show/movie was added to Netflix from the `date_added` column"
   ]
  },
  {
   "cell_type": "code",
   "execution_count": 6,
   "metadata": {},
   "outputs": [],
   "source": [
    "def parse_time(string_time):\n",
    "    try:\n",
    "        clean = string_time.strip()\n",
    "        parsed = datetime.datetime.strptime(clean, '%B %d, %Y')\n",
    "        return int(parsed.year)\n",
    "\n",
    "    except Exception as e:\n",
    "        return 0"
   ]
  },
  {
   "cell_type": "code",
   "execution_count": 7,
   "metadata": {},
   "outputs": [
    {
     "data": {
      "text/html": [
       "<div>\n",
       "<style scoped>\n",
       "    .dataframe tbody tr th:only-of-type {\n",
       "        vertical-align: middle;\n",
       "    }\n",
       "\n",
       "    .dataframe tbody tr th {\n",
       "        vertical-align: top;\n",
       "    }\n",
       "\n",
       "    .dataframe thead th {\n",
       "        text-align: right;\n",
       "    }\n",
       "</style>\n",
       "<table border=\"1\" class=\"dataframe\">\n",
       "  <thead>\n",
       "    <tr style=\"text-align: right;\">\n",
       "      <th></th>\n",
       "      <th>title</th>\n",
       "      <th>country</th>\n",
       "      <th>date_added</th>\n",
       "      <th>release_year</th>\n",
       "      <th>added_year</th>\n",
       "    </tr>\n",
       "  </thead>\n",
       "  <tbody>\n",
       "    <tr>\n",
       "      <th>0</th>\n",
       "      <td>3%</td>\n",
       "      <td>Brazil</td>\n",
       "      <td>August 14, 2020</td>\n",
       "      <td>2020</td>\n",
       "      <td>2020</td>\n",
       "    </tr>\n",
       "    <tr>\n",
       "      <th>1</th>\n",
       "      <td>7:19</td>\n",
       "      <td>Mexico</td>\n",
       "      <td>December 23, 2016</td>\n",
       "      <td>2016</td>\n",
       "      <td>2016</td>\n",
       "    </tr>\n",
       "    <tr>\n",
       "      <th>2</th>\n",
       "      <td>23:59</td>\n",
       "      <td>Singapore</td>\n",
       "      <td>December 20, 2018</td>\n",
       "      <td>2011</td>\n",
       "      <td>2018</td>\n",
       "    </tr>\n",
       "    <tr>\n",
       "      <th>3</th>\n",
       "      <td>9</td>\n",
       "      <td>United States</td>\n",
       "      <td>November 16, 2017</td>\n",
       "      <td>2009</td>\n",
       "      <td>2017</td>\n",
       "    </tr>\n",
       "    <tr>\n",
       "      <th>4</th>\n",
       "      <td>21</td>\n",
       "      <td>United States</td>\n",
       "      <td>January 1, 2020</td>\n",
       "      <td>2008</td>\n",
       "      <td>2020</td>\n",
       "    </tr>\n",
       "    <tr>\n",
       "      <th>...</th>\n",
       "      <td>...</td>\n",
       "      <td>...</td>\n",
       "      <td>...</td>\n",
       "      <td>...</td>\n",
       "      <td>...</td>\n",
       "    </tr>\n",
       "    <tr>\n",
       "      <th>7784</th>\n",
       "      <td>Zulu Man in Japan</td>\n",
       "      <td>nan</td>\n",
       "      <td>September 25, 2020</td>\n",
       "      <td>2019</td>\n",
       "      <td>2020</td>\n",
       "    </tr>\n",
       "    <tr>\n",
       "      <th>7785</th>\n",
       "      <td>Zumbo's Just Desserts</td>\n",
       "      <td>Australia</td>\n",
       "      <td>October 31, 2020</td>\n",
       "      <td>2019</td>\n",
       "      <td>2020</td>\n",
       "    </tr>\n",
       "    <tr>\n",
       "      <th>7786</th>\n",
       "      <td>ZZ TOP: THAT LITTLE OL' BAND FROM TEXAS</td>\n",
       "      <td>United Kingdom</td>\n",
       "      <td>March 1, 2020</td>\n",
       "      <td>2019</td>\n",
       "      <td>2020</td>\n",
       "    </tr>\n",
       "    <tr>\n",
       "      <th>7786</th>\n",
       "      <td>ZZ TOP: THAT LITTLE OL' BAND FROM TEXAS</td>\n",
       "      <td>Canada</td>\n",
       "      <td>March 1, 2020</td>\n",
       "      <td>2019</td>\n",
       "      <td>2020</td>\n",
       "    </tr>\n",
       "    <tr>\n",
       "      <th>7786</th>\n",
       "      <td>ZZ TOP: THAT LITTLE OL' BAND FROM TEXAS</td>\n",
       "      <td>United States</td>\n",
       "      <td>March 1, 2020</td>\n",
       "      <td>2019</td>\n",
       "      <td>2020</td>\n",
       "    </tr>\n",
       "  </tbody>\n",
       "</table>\n",
       "<p>9564 rows × 5 columns</p>\n",
       "</div>"
      ],
      "text/plain": [
       "                                        title         country  \\\n",
       "0                                          3%          Brazil   \n",
       "1                                        7:19          Mexico   \n",
       "2                                       23:59       Singapore   \n",
       "3                                           9   United States   \n",
       "4                                          21   United States   \n",
       "...                                       ...             ...   \n",
       "7784                        Zulu Man in Japan             nan   \n",
       "7785                    Zumbo's Just Desserts       Australia   \n",
       "7786  ZZ TOP: THAT LITTLE OL' BAND FROM TEXAS  United Kingdom   \n",
       "7786  ZZ TOP: THAT LITTLE OL' BAND FROM TEXAS          Canada   \n",
       "7786  ZZ TOP: THAT LITTLE OL' BAND FROM TEXAS   United States   \n",
       "\n",
       "              date_added  release_year  added_year  \n",
       "0        August 14, 2020          2020        2020  \n",
       "1      December 23, 2016          2016        2016  \n",
       "2      December 20, 2018          2011        2018  \n",
       "3      November 16, 2017          2009        2017  \n",
       "4        January 1, 2020          2008        2020  \n",
       "...                  ...           ...         ...  \n",
       "7784  September 25, 2020          2019        2020  \n",
       "7785    October 31, 2020          2019        2020  \n",
       "7786       March 1, 2020          2019        2020  \n",
       "7786       March 1, 2020          2019        2020  \n",
       "7786       March 1, 2020          2019        2020  \n",
       "\n",
       "[9564 rows x 5 columns]"
      ]
     },
     "execution_count": 7,
     "metadata": {},
     "output_type": "execute_result"
    }
   ],
   "source": [
    "expanded_countries['added_year'] = expanded_countries['date_added'].apply(\n",
    "    parse_time)\n",
    "with_year = expanded_countries[expanded_countries['added_year'] != 0]\n",
    "\n",
    "with_year"
   ]
  },
  {
   "cell_type": "markdown",
   "metadata": {},
   "source": [
    "We get all the added_year values available in our dataframe."
   ]
  },
  {
   "cell_type": "code",
   "execution_count": 8,
   "metadata": {},
   "outputs": [],
   "source": [
    "years = sorted(expanded_countries['added_year'].unique())"
   ]
  },
  {
   "cell_type": "markdown",
   "metadata": {},
   "source": [
    "For each year, we count how many shows/movies are produced by each country and create one larger dataframe containing all aggregate data."
   ]
  },
  {
   "cell_type": "code",
   "execution_count": 9,
   "metadata": {},
   "outputs": [
    {
     "data": {
      "text/html": [
       "<div>\n",
       "<style scoped>\n",
       "    .dataframe tbody tr th:only-of-type {\n",
       "        vertical-align: middle;\n",
       "    }\n",
       "\n",
       "    .dataframe tbody tr th {\n",
       "        vertical-align: top;\n",
       "    }\n",
       "\n",
       "    .dataframe thead th {\n",
       "        text-align: right;\n",
       "    }\n",
       "</style>\n",
       "<table border=\"1\" class=\"dataframe\">\n",
       "  <thead>\n",
       "    <tr style=\"text-align: right;\">\n",
       "      <th></th>\n",
       "      <th>number_of_titles</th>\n",
       "      <th>added_year</th>\n",
       "    </tr>\n",
       "  </thead>\n",
       "  <tbody>\n",
       "    <tr>\n",
       "      <th>0</th>\n",
       "      <td>Australia</td>\n",
       "      <td>2008</td>\n",
       "    </tr>\n",
       "    <tr>\n",
       "      <th>1</th>\n",
       "      <td>Japan</td>\n",
       "      <td>2008</td>\n",
       "    </tr>\n",
       "    <tr>\n",
       "      <th>2</th>\n",
       "      <td>United Kingdom</td>\n",
       "      <td>2008</td>\n",
       "    </tr>\n",
       "    <tr>\n",
       "      <th>3</th>\n",
       "      <td>United States</td>\n",
       "      <td>2008</td>\n",
       "    </tr>\n",
       "    <tr>\n",
       "      <th>4</th>\n",
       "      <td>nan</td>\n",
       "      <td>2008</td>\n",
       "    </tr>\n",
       "    <tr>\n",
       "      <th>...</th>\n",
       "      <td>...</td>\n",
       "      <td>...</td>\n",
       "    </tr>\n",
       "    <tr>\n",
       "      <th>114</th>\n",
       "      <td>Venezuela</td>\n",
       "      <td>2021</td>\n",
       "    </tr>\n",
       "    <tr>\n",
       "      <th>115</th>\n",
       "      <td>Vietnam</td>\n",
       "      <td>2021</td>\n",
       "    </tr>\n",
       "    <tr>\n",
       "      <th>116</th>\n",
       "      <td>West Germany</td>\n",
       "      <td>2021</td>\n",
       "    </tr>\n",
       "    <tr>\n",
       "      <th>117</th>\n",
       "      <td>Zimbabwe</td>\n",
       "      <td>2021</td>\n",
       "    </tr>\n",
       "    <tr>\n",
       "      <th>118</th>\n",
       "      <td>nan</td>\n",
       "      <td>2021</td>\n",
       "    </tr>\n",
       "  </tbody>\n",
       "</table>\n",
       "<p>570 rows × 2 columns</p>\n",
       "</div>"
      ],
      "text/plain": [
       "    number_of_titles  added_year\n",
       "0          Australia        2008\n",
       "1              Japan        2008\n",
       "2     United Kingdom        2008\n",
       "3      United States        2008\n",
       "4                nan        2008\n",
       "..               ...         ...\n",
       "114        Venezuela        2021\n",
       "115          Vietnam        2021\n",
       "116     West Germany        2021\n",
       "117         Zimbabwe        2021\n",
       "118              nan        2021\n",
       "\n",
       "[570 rows x 2 columns]"
      ]
     },
     "execution_count": 9,
     "metadata": {},
     "output_type": "execute_result"
    }
   ],
   "source": [
    "counts_by_year_and_country = pd.DataFrame()\n",
    "\n",
    "for year in years:\n",
    "\n",
    "    for_year = expanded_countries[\n",
    "        expanded_countries['added_year'] < year].copy()\n",
    "\n",
    "    for_year = for_year[['country', 'title']]\n",
    "\n",
    "    counts_by_country = for_year.groupby(\n",
    "        by='country', as_index=False).agg(number_of_titles=('title', 'count'))\n",
    "    counts_by_country['added_year'] = year\n",
    "    counts_by_year_and_country = pd.concat(\n",
    "        [counts_by_year_and_country, counts_by_country])\n",
    "\n",
    "counts_by_year_and_country"
   ]
  },
  {
   "cell_type": "code",
   "execution_count": 10,
   "metadata": {},
   "outputs": [
    {
     "ename": "KeyError",
     "evalue": "'country'",
     "output_type": "error",
     "traceback": [
      "\u001b[0;31m---------------------------------------------------------------------------\u001b[0m",
      "\u001b[0;31mKeyError\u001b[0m                                  Traceback (most recent call last)",
      "\u001b[0;32m/opt/anaconda3/lib/python3.8/site-packages/pandas/core/indexes/base.py\u001b[0m in \u001b[0;36mget_loc\u001b[0;34m(self, key, method, tolerance)\u001b[0m\n\u001b[1;32m   2645\u001b[0m             \u001b[0;32mtry\u001b[0m\u001b[0;34m:\u001b[0m\u001b[0;34m\u001b[0m\u001b[0;34m\u001b[0m\u001b[0m\n\u001b[0;32m-> 2646\u001b[0;31m                 \u001b[0;32mreturn\u001b[0m \u001b[0mself\u001b[0m\u001b[0;34m.\u001b[0m\u001b[0m_engine\u001b[0m\u001b[0;34m.\u001b[0m\u001b[0mget_loc\u001b[0m\u001b[0;34m(\u001b[0m\u001b[0mkey\u001b[0m\u001b[0;34m)\u001b[0m\u001b[0;34m\u001b[0m\u001b[0;34m\u001b[0m\u001b[0m\n\u001b[0m\u001b[1;32m   2647\u001b[0m             \u001b[0;32mexcept\u001b[0m \u001b[0mKeyError\u001b[0m\u001b[0;34m:\u001b[0m\u001b[0;34m\u001b[0m\u001b[0;34m\u001b[0m\u001b[0m\n",
      "\u001b[0;32mpandas/_libs/index.pyx\u001b[0m in \u001b[0;36mpandas._libs.index.IndexEngine.get_loc\u001b[0;34m()\u001b[0m\n",
      "\u001b[0;32mpandas/_libs/index.pyx\u001b[0m in \u001b[0;36mpandas._libs.index.IndexEngine.get_loc\u001b[0;34m()\u001b[0m\n",
      "\u001b[0;32mpandas/_libs/hashtable_class_helper.pxi\u001b[0m in \u001b[0;36mpandas._libs.hashtable.PyObjectHashTable.get_item\u001b[0;34m()\u001b[0m\n",
      "\u001b[0;32mpandas/_libs/hashtable_class_helper.pxi\u001b[0m in \u001b[0;36mpandas._libs.hashtable.PyObjectHashTable.get_item\u001b[0;34m()\u001b[0m\n",
      "\u001b[0;31mKeyError\u001b[0m: 'country'",
      "\nDuring handling of the above exception, another exception occurred:\n",
      "\u001b[0;31mKeyError\u001b[0m                                  Traceback (most recent call last)",
      "\u001b[0;32m<ipython-input-10-e4423b9c2e2a>\u001b[0m in \u001b[0;36m<module>\u001b[0;34m\u001b[0m\n\u001b[0;32m----> 1\u001b[0;31m \u001b[0mus_movies\u001b[0m \u001b[0;34m=\u001b[0m \u001b[0mcounts_by_year_and_country\u001b[0m\u001b[0;34m[\u001b[0m\u001b[0mcounts_by_year_and_country\u001b[0m\u001b[0;34m[\u001b[0m\u001b[0;34m'country'\u001b[0m\u001b[0;34m]\u001b[0m \u001b[0;34m==\u001b[0m \u001b[0;34m\"United States\"\u001b[0m\u001b[0;34m]\u001b[0m\u001b[0;34m\u001b[0m\u001b[0;34m\u001b[0m\u001b[0m\n\u001b[0m\u001b[1;32m      2\u001b[0m \u001b[0mus_movies\u001b[0m\u001b[0;34m\u001b[0m\u001b[0;34m\u001b[0m\u001b[0m\n",
      "\u001b[0;32m/opt/anaconda3/lib/python3.8/site-packages/pandas/core/frame.py\u001b[0m in \u001b[0;36m__getitem__\u001b[0;34m(self, key)\u001b[0m\n\u001b[1;32m   2798\u001b[0m             \u001b[0;32mif\u001b[0m \u001b[0mself\u001b[0m\u001b[0;34m.\u001b[0m\u001b[0mcolumns\u001b[0m\u001b[0;34m.\u001b[0m\u001b[0mnlevels\u001b[0m \u001b[0;34m>\u001b[0m \u001b[0;36m1\u001b[0m\u001b[0;34m:\u001b[0m\u001b[0;34m\u001b[0m\u001b[0;34m\u001b[0m\u001b[0m\n\u001b[1;32m   2799\u001b[0m                 \u001b[0;32mreturn\u001b[0m \u001b[0mself\u001b[0m\u001b[0;34m.\u001b[0m\u001b[0m_getitem_multilevel\u001b[0m\u001b[0;34m(\u001b[0m\u001b[0mkey\u001b[0m\u001b[0;34m)\u001b[0m\u001b[0;34m\u001b[0m\u001b[0;34m\u001b[0m\u001b[0m\n\u001b[0;32m-> 2800\u001b[0;31m             \u001b[0mindexer\u001b[0m \u001b[0;34m=\u001b[0m \u001b[0mself\u001b[0m\u001b[0;34m.\u001b[0m\u001b[0mcolumns\u001b[0m\u001b[0;34m.\u001b[0m\u001b[0mget_loc\u001b[0m\u001b[0;34m(\u001b[0m\u001b[0mkey\u001b[0m\u001b[0;34m)\u001b[0m\u001b[0;34m\u001b[0m\u001b[0;34m\u001b[0m\u001b[0m\n\u001b[0m\u001b[1;32m   2801\u001b[0m             \u001b[0;32mif\u001b[0m \u001b[0mis_integer\u001b[0m\u001b[0;34m(\u001b[0m\u001b[0mindexer\u001b[0m\u001b[0;34m)\u001b[0m\u001b[0;34m:\u001b[0m\u001b[0;34m\u001b[0m\u001b[0;34m\u001b[0m\u001b[0m\n\u001b[1;32m   2802\u001b[0m                 \u001b[0mindexer\u001b[0m \u001b[0;34m=\u001b[0m \u001b[0;34m[\u001b[0m\u001b[0mindexer\u001b[0m\u001b[0;34m]\u001b[0m\u001b[0;34m\u001b[0m\u001b[0;34m\u001b[0m\u001b[0m\n",
      "\u001b[0;32m/opt/anaconda3/lib/python3.8/site-packages/pandas/core/indexes/base.py\u001b[0m in \u001b[0;36mget_loc\u001b[0;34m(self, key, method, tolerance)\u001b[0m\n\u001b[1;32m   2646\u001b[0m                 \u001b[0;32mreturn\u001b[0m \u001b[0mself\u001b[0m\u001b[0;34m.\u001b[0m\u001b[0m_engine\u001b[0m\u001b[0;34m.\u001b[0m\u001b[0mget_loc\u001b[0m\u001b[0;34m(\u001b[0m\u001b[0mkey\u001b[0m\u001b[0;34m)\u001b[0m\u001b[0;34m\u001b[0m\u001b[0;34m\u001b[0m\u001b[0m\n\u001b[1;32m   2647\u001b[0m             \u001b[0;32mexcept\u001b[0m \u001b[0mKeyError\u001b[0m\u001b[0;34m:\u001b[0m\u001b[0;34m\u001b[0m\u001b[0;34m\u001b[0m\u001b[0m\n\u001b[0;32m-> 2648\u001b[0;31m                 \u001b[0;32mreturn\u001b[0m \u001b[0mself\u001b[0m\u001b[0;34m.\u001b[0m\u001b[0m_engine\u001b[0m\u001b[0;34m.\u001b[0m\u001b[0mget_loc\u001b[0m\u001b[0;34m(\u001b[0m\u001b[0mself\u001b[0m\u001b[0;34m.\u001b[0m\u001b[0m_maybe_cast_indexer\u001b[0m\u001b[0;34m(\u001b[0m\u001b[0mkey\u001b[0m\u001b[0;34m)\u001b[0m\u001b[0;34m)\u001b[0m\u001b[0;34m\u001b[0m\u001b[0;34m\u001b[0m\u001b[0m\n\u001b[0m\u001b[1;32m   2649\u001b[0m         \u001b[0mindexer\u001b[0m \u001b[0;34m=\u001b[0m \u001b[0mself\u001b[0m\u001b[0;34m.\u001b[0m\u001b[0mget_indexer\u001b[0m\u001b[0;34m(\u001b[0m\u001b[0;34m[\u001b[0m\u001b[0mkey\u001b[0m\u001b[0;34m]\u001b[0m\u001b[0;34m,\u001b[0m \u001b[0mmethod\u001b[0m\u001b[0;34m=\u001b[0m\u001b[0mmethod\u001b[0m\u001b[0;34m,\u001b[0m \u001b[0mtolerance\u001b[0m\u001b[0;34m=\u001b[0m\u001b[0mtolerance\u001b[0m\u001b[0;34m)\u001b[0m\u001b[0;34m\u001b[0m\u001b[0;34m\u001b[0m\u001b[0m\n\u001b[1;32m   2650\u001b[0m         \u001b[0;32mif\u001b[0m \u001b[0mindexer\u001b[0m\u001b[0;34m.\u001b[0m\u001b[0mndim\u001b[0m \u001b[0;34m>\u001b[0m \u001b[0;36m1\u001b[0m \u001b[0;32mor\u001b[0m \u001b[0mindexer\u001b[0m\u001b[0;34m.\u001b[0m\u001b[0msize\u001b[0m \u001b[0;34m>\u001b[0m \u001b[0;36m1\u001b[0m\u001b[0;34m:\u001b[0m\u001b[0;34m\u001b[0m\u001b[0;34m\u001b[0m\u001b[0m\n",
      "\u001b[0;32mpandas/_libs/index.pyx\u001b[0m in \u001b[0;36mpandas._libs.index.IndexEngine.get_loc\u001b[0;34m()\u001b[0m\n",
      "\u001b[0;32mpandas/_libs/index.pyx\u001b[0m in \u001b[0;36mpandas._libs.index.IndexEngine.get_loc\u001b[0;34m()\u001b[0m\n",
      "\u001b[0;32mpandas/_libs/hashtable_class_helper.pxi\u001b[0m in \u001b[0;36mpandas._libs.hashtable.PyObjectHashTable.get_item\u001b[0;34m()\u001b[0m\n",
      "\u001b[0;32mpandas/_libs/hashtable_class_helper.pxi\u001b[0m in \u001b[0;36mpandas._libs.hashtable.PyObjectHashTable.get_item\u001b[0;34m()\u001b[0m\n",
      "\u001b[0;31mKeyError\u001b[0m: 'country'"
     ]
    }
   ],
   "source": [
    "us_movies = counts_by_year_and_country[counts_by_year_and_country['country'] == \"United States\"]\n",
    "us_movies"
   ]
  },
  {
   "cell_type": "code",
   "execution_count": 28,
   "metadata": {},
   "outputs": [
    {
     "data": {
      "application/vnd.plotly.v1+json": {
       "config": {
        "plotlyServerURL": "https://plot.ly"
       },
       "data": [
        {
         "alignmentgroup": "True",
         "hovertemplate": "added_year=%{x}<br>number_of_titles=%{y}<extra></extra>",
         "legendgroup": "",
         "marker": {
          "color": "#636efa"
         },
         "name": "",
         "offsetgroup": "",
         "orientation": "v",
         "showlegend": false,
         "textposition": "auto",
         "type": "bar",
         "x": [
          2008,
          2009,
          2010,
          2011,
          2012,
          2013,
          2014,
          2015,
          2016,
          2017,
          2018,
          2019,
          2020,
          2021
         ],
         "xaxis": "x",
         "y": [
          6,
          8,
          9,
          10,
          22,
          25,
          35,
          58,
          118,
          322,
          793,
          1409,
          2335,
          3223
         ],
         "yaxis": "y"
        }
       ],
       "layout": {
        "barmode": "relative",
        "legend": {
         "tracegroupgap": 0
        },
        "margin": {
         "t": 60
        },
        "template": {
         "data": {
          "bar": [
           {
            "error_x": {
             "color": "#2a3f5f"
            },
            "error_y": {
             "color": "#2a3f5f"
            },
            "marker": {
             "line": {
              "color": "#E5ECF6",
              "width": 0.5
             }
            },
            "type": "bar"
           }
          ],
          "barpolar": [
           {
            "marker": {
             "line": {
              "color": "#E5ECF6",
              "width": 0.5
             }
            },
            "type": "barpolar"
           }
          ],
          "carpet": [
           {
            "aaxis": {
             "endlinecolor": "#2a3f5f",
             "gridcolor": "white",
             "linecolor": "white",
             "minorgridcolor": "white",
             "startlinecolor": "#2a3f5f"
            },
            "baxis": {
             "endlinecolor": "#2a3f5f",
             "gridcolor": "white",
             "linecolor": "white",
             "minorgridcolor": "white",
             "startlinecolor": "#2a3f5f"
            },
            "type": "carpet"
           }
          ],
          "choropleth": [
           {
            "colorbar": {
             "outlinewidth": 0,
             "ticks": ""
            },
            "type": "choropleth"
           }
          ],
          "contour": [
           {
            "colorbar": {
             "outlinewidth": 0,
             "ticks": ""
            },
            "colorscale": [
             [
              0,
              "#0d0887"
             ],
             [
              0.1111111111111111,
              "#46039f"
             ],
             [
              0.2222222222222222,
              "#7201a8"
             ],
             [
              0.3333333333333333,
              "#9c179e"
             ],
             [
              0.4444444444444444,
              "#bd3786"
             ],
             [
              0.5555555555555556,
              "#d8576b"
             ],
             [
              0.6666666666666666,
              "#ed7953"
             ],
             [
              0.7777777777777778,
              "#fb9f3a"
             ],
             [
              0.8888888888888888,
              "#fdca26"
             ],
             [
              1,
              "#f0f921"
             ]
            ],
            "type": "contour"
           }
          ],
          "contourcarpet": [
           {
            "colorbar": {
             "outlinewidth": 0,
             "ticks": ""
            },
            "type": "contourcarpet"
           }
          ],
          "heatmap": [
           {
            "colorbar": {
             "outlinewidth": 0,
             "ticks": ""
            },
            "colorscale": [
             [
              0,
              "#0d0887"
             ],
             [
              0.1111111111111111,
              "#46039f"
             ],
             [
              0.2222222222222222,
              "#7201a8"
             ],
             [
              0.3333333333333333,
              "#9c179e"
             ],
             [
              0.4444444444444444,
              "#bd3786"
             ],
             [
              0.5555555555555556,
              "#d8576b"
             ],
             [
              0.6666666666666666,
              "#ed7953"
             ],
             [
              0.7777777777777778,
              "#fb9f3a"
             ],
             [
              0.8888888888888888,
              "#fdca26"
             ],
             [
              1,
              "#f0f921"
             ]
            ],
            "type": "heatmap"
           }
          ],
          "heatmapgl": [
           {
            "colorbar": {
             "outlinewidth": 0,
             "ticks": ""
            },
            "colorscale": [
             [
              0,
              "#0d0887"
             ],
             [
              0.1111111111111111,
              "#46039f"
             ],
             [
              0.2222222222222222,
              "#7201a8"
             ],
             [
              0.3333333333333333,
              "#9c179e"
             ],
             [
              0.4444444444444444,
              "#bd3786"
             ],
             [
              0.5555555555555556,
              "#d8576b"
             ],
             [
              0.6666666666666666,
              "#ed7953"
             ],
             [
              0.7777777777777778,
              "#fb9f3a"
             ],
             [
              0.8888888888888888,
              "#fdca26"
             ],
             [
              1,
              "#f0f921"
             ]
            ],
            "type": "heatmapgl"
           }
          ],
          "histogram": [
           {
            "marker": {
             "colorbar": {
              "outlinewidth": 0,
              "ticks": ""
             }
            },
            "type": "histogram"
           }
          ],
          "histogram2d": [
           {
            "colorbar": {
             "outlinewidth": 0,
             "ticks": ""
            },
            "colorscale": [
             [
              0,
              "#0d0887"
             ],
             [
              0.1111111111111111,
              "#46039f"
             ],
             [
              0.2222222222222222,
              "#7201a8"
             ],
             [
              0.3333333333333333,
              "#9c179e"
             ],
             [
              0.4444444444444444,
              "#bd3786"
             ],
             [
              0.5555555555555556,
              "#d8576b"
             ],
             [
              0.6666666666666666,
              "#ed7953"
             ],
             [
              0.7777777777777778,
              "#fb9f3a"
             ],
             [
              0.8888888888888888,
              "#fdca26"
             ],
             [
              1,
              "#f0f921"
             ]
            ],
            "type": "histogram2d"
           }
          ],
          "histogram2dcontour": [
           {
            "colorbar": {
             "outlinewidth": 0,
             "ticks": ""
            },
            "colorscale": [
             [
              0,
              "#0d0887"
             ],
             [
              0.1111111111111111,
              "#46039f"
             ],
             [
              0.2222222222222222,
              "#7201a8"
             ],
             [
              0.3333333333333333,
              "#9c179e"
             ],
             [
              0.4444444444444444,
              "#bd3786"
             ],
             [
              0.5555555555555556,
              "#d8576b"
             ],
             [
              0.6666666666666666,
              "#ed7953"
             ],
             [
              0.7777777777777778,
              "#fb9f3a"
             ],
             [
              0.8888888888888888,
              "#fdca26"
             ],
             [
              1,
              "#f0f921"
             ]
            ],
            "type": "histogram2dcontour"
           }
          ],
          "mesh3d": [
           {
            "colorbar": {
             "outlinewidth": 0,
             "ticks": ""
            },
            "type": "mesh3d"
           }
          ],
          "parcoords": [
           {
            "line": {
             "colorbar": {
              "outlinewidth": 0,
              "ticks": ""
             }
            },
            "type": "parcoords"
           }
          ],
          "pie": [
           {
            "automargin": true,
            "type": "pie"
           }
          ],
          "scatter": [
           {
            "marker": {
             "colorbar": {
              "outlinewidth": 0,
              "ticks": ""
             }
            },
            "type": "scatter"
           }
          ],
          "scatter3d": [
           {
            "line": {
             "colorbar": {
              "outlinewidth": 0,
              "ticks": ""
             }
            },
            "marker": {
             "colorbar": {
              "outlinewidth": 0,
              "ticks": ""
             }
            },
            "type": "scatter3d"
           }
          ],
          "scattercarpet": [
           {
            "marker": {
             "colorbar": {
              "outlinewidth": 0,
              "ticks": ""
             }
            },
            "type": "scattercarpet"
           }
          ],
          "scattergeo": [
           {
            "marker": {
             "colorbar": {
              "outlinewidth": 0,
              "ticks": ""
             }
            },
            "type": "scattergeo"
           }
          ],
          "scattergl": [
           {
            "marker": {
             "colorbar": {
              "outlinewidth": 0,
              "ticks": ""
             }
            },
            "type": "scattergl"
           }
          ],
          "scattermapbox": [
           {
            "marker": {
             "colorbar": {
              "outlinewidth": 0,
              "ticks": ""
             }
            },
            "type": "scattermapbox"
           }
          ],
          "scatterpolar": [
           {
            "marker": {
             "colorbar": {
              "outlinewidth": 0,
              "ticks": ""
             }
            },
            "type": "scatterpolar"
           }
          ],
          "scatterpolargl": [
           {
            "marker": {
             "colorbar": {
              "outlinewidth": 0,
              "ticks": ""
             }
            },
            "type": "scatterpolargl"
           }
          ],
          "scatterternary": [
           {
            "marker": {
             "colorbar": {
              "outlinewidth": 0,
              "ticks": ""
             }
            },
            "type": "scatterternary"
           }
          ],
          "surface": [
           {
            "colorbar": {
             "outlinewidth": 0,
             "ticks": ""
            },
            "colorscale": [
             [
              0,
              "#0d0887"
             ],
             [
              0.1111111111111111,
              "#46039f"
             ],
             [
              0.2222222222222222,
              "#7201a8"
             ],
             [
              0.3333333333333333,
              "#9c179e"
             ],
             [
              0.4444444444444444,
              "#bd3786"
             ],
             [
              0.5555555555555556,
              "#d8576b"
             ],
             [
              0.6666666666666666,
              "#ed7953"
             ],
             [
              0.7777777777777778,
              "#fb9f3a"
             ],
             [
              0.8888888888888888,
              "#fdca26"
             ],
             [
              1,
              "#f0f921"
             ]
            ],
            "type": "surface"
           }
          ],
          "table": [
           {
            "cells": {
             "fill": {
              "color": "#EBF0F8"
             },
             "line": {
              "color": "white"
             }
            },
            "header": {
             "fill": {
              "color": "#C8D4E3"
             },
             "line": {
              "color": "white"
             }
            },
            "type": "table"
           }
          ]
         },
         "layout": {
          "annotationdefaults": {
           "arrowcolor": "#2a3f5f",
           "arrowhead": 0,
           "arrowwidth": 1
          },
          "autotypenumbers": "strict",
          "coloraxis": {
           "colorbar": {
            "outlinewidth": 0,
            "ticks": ""
           }
          },
          "colorscale": {
           "diverging": [
            [
             0,
             "#8e0152"
            ],
            [
             0.1,
             "#c51b7d"
            ],
            [
             0.2,
             "#de77ae"
            ],
            [
             0.3,
             "#f1b6da"
            ],
            [
             0.4,
             "#fde0ef"
            ],
            [
             0.5,
             "#f7f7f7"
            ],
            [
             0.6,
             "#e6f5d0"
            ],
            [
             0.7,
             "#b8e186"
            ],
            [
             0.8,
             "#7fbc41"
            ],
            [
             0.9,
             "#4d9221"
            ],
            [
             1,
             "#276419"
            ]
           ],
           "sequential": [
            [
             0,
             "#0d0887"
            ],
            [
             0.1111111111111111,
             "#46039f"
            ],
            [
             0.2222222222222222,
             "#7201a8"
            ],
            [
             0.3333333333333333,
             "#9c179e"
            ],
            [
             0.4444444444444444,
             "#bd3786"
            ],
            [
             0.5555555555555556,
             "#d8576b"
            ],
            [
             0.6666666666666666,
             "#ed7953"
            ],
            [
             0.7777777777777778,
             "#fb9f3a"
            ],
            [
             0.8888888888888888,
             "#fdca26"
            ],
            [
             1,
             "#f0f921"
            ]
           ],
           "sequentialminus": [
            [
             0,
             "#0d0887"
            ],
            [
             0.1111111111111111,
             "#46039f"
            ],
            [
             0.2222222222222222,
             "#7201a8"
            ],
            [
             0.3333333333333333,
             "#9c179e"
            ],
            [
             0.4444444444444444,
             "#bd3786"
            ],
            [
             0.5555555555555556,
             "#d8576b"
            ],
            [
             0.6666666666666666,
             "#ed7953"
            ],
            [
             0.7777777777777778,
             "#fb9f3a"
            ],
            [
             0.8888888888888888,
             "#fdca26"
            ],
            [
             1,
             "#f0f921"
            ]
           ]
          },
          "colorway": [
           "#636efa",
           "#EF553B",
           "#00cc96",
           "#ab63fa",
           "#FFA15A",
           "#19d3f3",
           "#FF6692",
           "#B6E880",
           "#FF97FF",
           "#FECB52"
          ],
          "font": {
           "color": "#2a3f5f"
          },
          "geo": {
           "bgcolor": "white",
           "lakecolor": "white",
           "landcolor": "#E5ECF6",
           "showlakes": true,
           "showland": true,
           "subunitcolor": "white"
          },
          "hoverlabel": {
           "align": "left"
          },
          "hovermode": "closest",
          "mapbox": {
           "style": "light"
          },
          "paper_bgcolor": "white",
          "plot_bgcolor": "#E5ECF6",
          "polar": {
           "angularaxis": {
            "gridcolor": "white",
            "linecolor": "white",
            "ticks": ""
           },
           "bgcolor": "#E5ECF6",
           "radialaxis": {
            "gridcolor": "white",
            "linecolor": "white",
            "ticks": ""
           }
          },
          "scene": {
           "xaxis": {
            "backgroundcolor": "#E5ECF6",
            "gridcolor": "white",
            "gridwidth": 2,
            "linecolor": "white",
            "showbackground": true,
            "ticks": "",
            "zerolinecolor": "white"
           },
           "yaxis": {
            "backgroundcolor": "#E5ECF6",
            "gridcolor": "white",
            "gridwidth": 2,
            "linecolor": "white",
            "showbackground": true,
            "ticks": "",
            "zerolinecolor": "white"
           },
           "zaxis": {
            "backgroundcolor": "#E5ECF6",
            "gridcolor": "white",
            "gridwidth": 2,
            "linecolor": "white",
            "showbackground": true,
            "ticks": "",
            "zerolinecolor": "white"
           }
          },
          "shapedefaults": {
           "line": {
            "color": "#2a3f5f"
           }
          },
          "ternary": {
           "aaxis": {
            "gridcolor": "white",
            "linecolor": "white",
            "ticks": ""
           },
           "baxis": {
            "gridcolor": "white",
            "linecolor": "white",
            "ticks": ""
           },
           "bgcolor": "#E5ECF6",
           "caxis": {
            "gridcolor": "white",
            "linecolor": "white",
            "ticks": ""
           }
          },
          "title": {
           "x": 0.05
          },
          "xaxis": {
           "automargin": true,
           "gridcolor": "white",
           "linecolor": "white",
           "ticks": "",
           "title": {
            "standoff": 15
           },
           "zerolinecolor": "white",
           "zerolinewidth": 2
          },
          "yaxis": {
           "automargin": true,
           "gridcolor": "white",
           "linecolor": "white",
           "ticks": "",
           "title": {
            "standoff": 15
           },
           "zerolinecolor": "white",
           "zerolinewidth": 2
          }
         }
        },
        "xaxis": {
         "anchor": "y",
         "domain": [
          0,
          1
         ],
         "title": {
          "text": "added_year"
         }
        },
        "yaxis": {
         "anchor": "x",
         "domain": [
          0,
          1
         ],
         "title": {
          "text": "number_of_titles"
         }
        }
       }
      },
      "text/html": [
       "<div>                            <div id=\"04f51a8c-4a66-43fe-8e96-60f1aed0374e\" class=\"plotly-graph-div\" style=\"height:525px; width:100%;\"></div>            <script type=\"text/javascript\">                require([\"plotly\"], function(Plotly) {                    window.PLOTLYENV=window.PLOTLYENV || {};                                    if (document.getElementById(\"04f51a8c-4a66-43fe-8e96-60f1aed0374e\")) {                    Plotly.newPlot(                        \"04f51a8c-4a66-43fe-8e96-60f1aed0374e\",                        [{\"alignmentgroup\": \"True\", \"hovertemplate\": \"added_year=%{x}<br>number_of_titles=%{y}<extra></extra>\", \"legendgroup\": \"\", \"marker\": {\"color\": \"#636efa\"}, \"name\": \"\", \"offsetgroup\": \"\", \"orientation\": \"v\", \"showlegend\": false, \"textposition\": \"auto\", \"type\": \"bar\", \"x\": [2008, 2009, 2010, 2011, 2012, 2013, 2014, 2015, 2016, 2017, 2018, 2019, 2020, 2021], \"xaxis\": \"x\", \"y\": [6, 8, 9, 10, 22, 25, 35, 58, 118, 322, 793, 1409, 2335, 3223], \"yaxis\": \"y\"}],                        {\"barmode\": \"relative\", \"legend\": {\"tracegroupgap\": 0}, \"margin\": {\"t\": 60}, \"template\": {\"data\": {\"bar\": [{\"error_x\": {\"color\": \"#2a3f5f\"}, \"error_y\": {\"color\": \"#2a3f5f\"}, \"marker\": {\"line\": {\"color\": \"#E5ECF6\", \"width\": 0.5}}, \"type\": \"bar\"}], \"barpolar\": [{\"marker\": {\"line\": {\"color\": \"#E5ECF6\", \"width\": 0.5}}, \"type\": \"barpolar\"}], \"carpet\": [{\"aaxis\": {\"endlinecolor\": \"#2a3f5f\", \"gridcolor\": \"white\", \"linecolor\": \"white\", \"minorgridcolor\": \"white\", \"startlinecolor\": \"#2a3f5f\"}, \"baxis\": {\"endlinecolor\": \"#2a3f5f\", \"gridcolor\": \"white\", \"linecolor\": \"white\", \"minorgridcolor\": \"white\", \"startlinecolor\": \"#2a3f5f\"}, \"type\": \"carpet\"}], \"choropleth\": [{\"colorbar\": {\"outlinewidth\": 0, \"ticks\": \"\"}, \"type\": \"choropleth\"}], \"contour\": [{\"colorbar\": {\"outlinewidth\": 0, \"ticks\": \"\"}, \"colorscale\": [[0.0, \"#0d0887\"], [0.1111111111111111, \"#46039f\"], [0.2222222222222222, \"#7201a8\"], [0.3333333333333333, \"#9c179e\"], [0.4444444444444444, \"#bd3786\"], [0.5555555555555556, \"#d8576b\"], [0.6666666666666666, \"#ed7953\"], [0.7777777777777778, \"#fb9f3a\"], [0.8888888888888888, \"#fdca26\"], [1.0, \"#f0f921\"]], \"type\": \"contour\"}], \"contourcarpet\": [{\"colorbar\": {\"outlinewidth\": 0, \"ticks\": \"\"}, \"type\": \"contourcarpet\"}], \"heatmap\": [{\"colorbar\": {\"outlinewidth\": 0, \"ticks\": \"\"}, \"colorscale\": [[0.0, \"#0d0887\"], [0.1111111111111111, \"#46039f\"], [0.2222222222222222, \"#7201a8\"], [0.3333333333333333, \"#9c179e\"], [0.4444444444444444, \"#bd3786\"], [0.5555555555555556, \"#d8576b\"], [0.6666666666666666, \"#ed7953\"], [0.7777777777777778, \"#fb9f3a\"], [0.8888888888888888, \"#fdca26\"], [1.0, \"#f0f921\"]], \"type\": \"heatmap\"}], \"heatmapgl\": [{\"colorbar\": {\"outlinewidth\": 0, \"ticks\": \"\"}, \"colorscale\": [[0.0, \"#0d0887\"], [0.1111111111111111, \"#46039f\"], [0.2222222222222222, \"#7201a8\"], [0.3333333333333333, \"#9c179e\"], [0.4444444444444444, \"#bd3786\"], [0.5555555555555556, \"#d8576b\"], [0.6666666666666666, \"#ed7953\"], [0.7777777777777778, \"#fb9f3a\"], [0.8888888888888888, \"#fdca26\"], [1.0, \"#f0f921\"]], \"type\": \"heatmapgl\"}], \"histogram\": [{\"marker\": {\"colorbar\": {\"outlinewidth\": 0, \"ticks\": \"\"}}, \"type\": \"histogram\"}], \"histogram2d\": [{\"colorbar\": {\"outlinewidth\": 0, \"ticks\": \"\"}, \"colorscale\": [[0.0, \"#0d0887\"], [0.1111111111111111, \"#46039f\"], [0.2222222222222222, \"#7201a8\"], [0.3333333333333333, \"#9c179e\"], [0.4444444444444444, \"#bd3786\"], [0.5555555555555556, \"#d8576b\"], [0.6666666666666666, \"#ed7953\"], [0.7777777777777778, \"#fb9f3a\"], [0.8888888888888888, \"#fdca26\"], [1.0, \"#f0f921\"]], \"type\": \"histogram2d\"}], \"histogram2dcontour\": [{\"colorbar\": {\"outlinewidth\": 0, \"ticks\": \"\"}, \"colorscale\": [[0.0, \"#0d0887\"], [0.1111111111111111, \"#46039f\"], [0.2222222222222222, \"#7201a8\"], [0.3333333333333333, \"#9c179e\"], [0.4444444444444444, \"#bd3786\"], [0.5555555555555556, \"#d8576b\"], [0.6666666666666666, \"#ed7953\"], [0.7777777777777778, \"#fb9f3a\"], [0.8888888888888888, \"#fdca26\"], [1.0, \"#f0f921\"]], \"type\": \"histogram2dcontour\"}], \"mesh3d\": [{\"colorbar\": {\"outlinewidth\": 0, \"ticks\": \"\"}, \"type\": \"mesh3d\"}], \"parcoords\": [{\"line\": {\"colorbar\": {\"outlinewidth\": 0, \"ticks\": \"\"}}, \"type\": \"parcoords\"}], \"pie\": [{\"automargin\": true, \"type\": \"pie\"}], \"scatter\": [{\"marker\": {\"colorbar\": {\"outlinewidth\": 0, \"ticks\": \"\"}}, \"type\": \"scatter\"}], \"scatter3d\": [{\"line\": {\"colorbar\": {\"outlinewidth\": 0, \"ticks\": \"\"}}, \"marker\": {\"colorbar\": {\"outlinewidth\": 0, \"ticks\": \"\"}}, \"type\": \"scatter3d\"}], \"scattercarpet\": [{\"marker\": {\"colorbar\": {\"outlinewidth\": 0, \"ticks\": \"\"}}, \"type\": \"scattercarpet\"}], \"scattergeo\": [{\"marker\": {\"colorbar\": {\"outlinewidth\": 0, \"ticks\": \"\"}}, \"type\": \"scattergeo\"}], \"scattergl\": [{\"marker\": {\"colorbar\": {\"outlinewidth\": 0, \"ticks\": \"\"}}, \"type\": \"scattergl\"}], \"scattermapbox\": [{\"marker\": {\"colorbar\": {\"outlinewidth\": 0, \"ticks\": \"\"}}, \"type\": \"scattermapbox\"}], \"scatterpolar\": [{\"marker\": {\"colorbar\": {\"outlinewidth\": 0, \"ticks\": \"\"}}, \"type\": \"scatterpolar\"}], \"scatterpolargl\": [{\"marker\": {\"colorbar\": {\"outlinewidth\": 0, \"ticks\": \"\"}}, \"type\": \"scatterpolargl\"}], \"scatterternary\": [{\"marker\": {\"colorbar\": {\"outlinewidth\": 0, \"ticks\": \"\"}}, \"type\": \"scatterternary\"}], \"surface\": [{\"colorbar\": {\"outlinewidth\": 0, \"ticks\": \"\"}, \"colorscale\": [[0.0, \"#0d0887\"], [0.1111111111111111, \"#46039f\"], [0.2222222222222222, \"#7201a8\"], [0.3333333333333333, \"#9c179e\"], [0.4444444444444444, \"#bd3786\"], [0.5555555555555556, \"#d8576b\"], [0.6666666666666666, \"#ed7953\"], [0.7777777777777778, \"#fb9f3a\"], [0.8888888888888888, \"#fdca26\"], [1.0, \"#f0f921\"]], \"type\": \"surface\"}], \"table\": [{\"cells\": {\"fill\": {\"color\": \"#EBF0F8\"}, \"line\": {\"color\": \"white\"}}, \"header\": {\"fill\": {\"color\": \"#C8D4E3\"}, \"line\": {\"color\": \"white\"}}, \"type\": \"table\"}]}, \"layout\": {\"annotationdefaults\": {\"arrowcolor\": \"#2a3f5f\", \"arrowhead\": 0, \"arrowwidth\": 1}, \"autotypenumbers\": \"strict\", \"coloraxis\": {\"colorbar\": {\"outlinewidth\": 0, \"ticks\": \"\"}}, \"colorscale\": {\"diverging\": [[0, \"#8e0152\"], [0.1, \"#c51b7d\"], [0.2, \"#de77ae\"], [0.3, \"#f1b6da\"], [0.4, \"#fde0ef\"], [0.5, \"#f7f7f7\"], [0.6, \"#e6f5d0\"], [0.7, \"#b8e186\"], [0.8, \"#7fbc41\"], [0.9, \"#4d9221\"], [1, \"#276419\"]], \"sequential\": [[0.0, \"#0d0887\"], [0.1111111111111111, \"#46039f\"], [0.2222222222222222, \"#7201a8\"], [0.3333333333333333, \"#9c179e\"], [0.4444444444444444, \"#bd3786\"], [0.5555555555555556, \"#d8576b\"], [0.6666666666666666, \"#ed7953\"], [0.7777777777777778, \"#fb9f3a\"], [0.8888888888888888, \"#fdca26\"], [1.0, \"#f0f921\"]], \"sequentialminus\": [[0.0, \"#0d0887\"], [0.1111111111111111, \"#46039f\"], [0.2222222222222222, \"#7201a8\"], [0.3333333333333333, \"#9c179e\"], [0.4444444444444444, \"#bd3786\"], [0.5555555555555556, \"#d8576b\"], [0.6666666666666666, \"#ed7953\"], [0.7777777777777778, \"#fb9f3a\"], [0.8888888888888888, \"#fdca26\"], [1.0, \"#f0f921\"]]}, \"colorway\": [\"#636efa\", \"#EF553B\", \"#00cc96\", \"#ab63fa\", \"#FFA15A\", \"#19d3f3\", \"#FF6692\", \"#B6E880\", \"#FF97FF\", \"#FECB52\"], \"font\": {\"color\": \"#2a3f5f\"}, \"geo\": {\"bgcolor\": \"white\", \"lakecolor\": \"white\", \"landcolor\": \"#E5ECF6\", \"showlakes\": true, \"showland\": true, \"subunitcolor\": \"white\"}, \"hoverlabel\": {\"align\": \"left\"}, \"hovermode\": \"closest\", \"mapbox\": {\"style\": \"light\"}, \"paper_bgcolor\": \"white\", \"plot_bgcolor\": \"#E5ECF6\", \"polar\": {\"angularaxis\": {\"gridcolor\": \"white\", \"linecolor\": \"white\", \"ticks\": \"\"}, \"bgcolor\": \"#E5ECF6\", \"radialaxis\": {\"gridcolor\": \"white\", \"linecolor\": \"white\", \"ticks\": \"\"}}, \"scene\": {\"xaxis\": {\"backgroundcolor\": \"#E5ECF6\", \"gridcolor\": \"white\", \"gridwidth\": 2, \"linecolor\": \"white\", \"showbackground\": true, \"ticks\": \"\", \"zerolinecolor\": \"white\"}, \"yaxis\": {\"backgroundcolor\": \"#E5ECF6\", \"gridcolor\": \"white\", \"gridwidth\": 2, \"linecolor\": \"white\", \"showbackground\": true, \"ticks\": \"\", \"zerolinecolor\": \"white\"}, \"zaxis\": {\"backgroundcolor\": \"#E5ECF6\", \"gridcolor\": \"white\", \"gridwidth\": 2, \"linecolor\": \"white\", \"showbackground\": true, \"ticks\": \"\", \"zerolinecolor\": \"white\"}}, \"shapedefaults\": {\"line\": {\"color\": \"#2a3f5f\"}}, \"ternary\": {\"aaxis\": {\"gridcolor\": \"white\", \"linecolor\": \"white\", \"ticks\": \"\"}, \"baxis\": {\"gridcolor\": \"white\", \"linecolor\": \"white\", \"ticks\": \"\"}, \"bgcolor\": \"#E5ECF6\", \"caxis\": {\"gridcolor\": \"white\", \"linecolor\": \"white\", \"ticks\": \"\"}}, \"title\": {\"x\": 0.05}, \"xaxis\": {\"automargin\": true, \"gridcolor\": \"white\", \"linecolor\": \"white\", \"ticks\": \"\", \"title\": {\"standoff\": 15}, \"zerolinecolor\": \"white\", \"zerolinewidth\": 2}, \"yaxis\": {\"automargin\": true, \"gridcolor\": \"white\", \"linecolor\": \"white\", \"ticks\": \"\", \"title\": {\"standoff\": 15}, \"zerolinecolor\": \"white\", \"zerolinewidth\": 2}}}, \"xaxis\": {\"anchor\": \"y\", \"domain\": [0.0, 1.0], \"title\": {\"text\": \"added_year\"}}, \"yaxis\": {\"anchor\": \"x\", \"domain\": [0.0, 1.0], \"title\": {\"text\": \"number_of_titles\"}}},                        {\"responsive\": true}                    ).then(function(){\n",
       "                            \n",
       "var gd = document.getElementById('04f51a8c-4a66-43fe-8e96-60f1aed0374e');\n",
       "var x = new MutationObserver(function (mutations, observer) {{\n",
       "        var display = window.getComputedStyle(gd).display;\n",
       "        if (!display || display === 'none') {{\n",
       "            console.log([gd, 'removed!']);\n",
       "            Plotly.purge(gd);\n",
       "            observer.disconnect();\n",
       "        }}\n",
       "}});\n",
       "\n",
       "// Listen for the removal of the full notebook cells\n",
       "var notebookContainer = gd.closest('#notebook-container');\n",
       "if (notebookContainer) {{\n",
       "    x.observe(notebookContainer, {childList: true});\n",
       "}}\n",
       "\n",
       "// Listen for the clearing of the current output cell\n",
       "var outputEl = gd.closest('.output');\n",
       "if (outputEl) {{\n",
       "    x.observe(outputEl, {childList: true});\n",
       "}}\n",
       "\n",
       "                        })                };                });            </script>        </div>"
      ]
     },
     "metadata": {},
     "output_type": "display_data"
    }
   ],
   "source": [
    "fig = px.bar(us_movies, x='added_year', y='number_of_titles')\n",
    "fig.show()"
   ]
  },
  {
   "cell_type": "code",
   "execution_count": 29,
   "metadata": {},
   "outputs": [
    {
     "data": {
      "text/html": [
       "<div>\n",
       "<style scoped>\n",
       "    .dataframe tbody tr th:only-of-type {\n",
       "        vertical-align: middle;\n",
       "    }\n",
       "\n",
       "    .dataframe tbody tr th {\n",
       "        vertical-align: top;\n",
       "    }\n",
       "\n",
       "    .dataframe thead th {\n",
       "        text-align: right;\n",
       "    }\n",
       "</style>\n",
       "<table border=\"1\" class=\"dataframe\">\n",
       "  <thead>\n",
       "    <tr style=\"text-align: right;\">\n",
       "      <th></th>\n",
       "      <th>country</th>\n",
       "      <th>number_of_titles</th>\n",
       "      <th>added_year</th>\n",
       "    </tr>\n",
       "  </thead>\n",
       "  <tbody>\n",
       "    <tr>\n",
       "      <th>0</th>\n",
       "      <td></td>\n",
       "      <td>4</td>\n",
       "      <td>2021</td>\n",
       "    </tr>\n",
       "    <tr>\n",
       "      <th>1</th>\n",
       "      <td>Afghanistan</td>\n",
       "      <td>1</td>\n",
       "      <td>2021</td>\n",
       "    </tr>\n",
       "    <tr>\n",
       "      <th>2</th>\n",
       "      <td>Albania</td>\n",
       "      <td>1</td>\n",
       "      <td>2021</td>\n",
       "    </tr>\n",
       "    <tr>\n",
       "      <th>3</th>\n",
       "      <td>Algeria</td>\n",
       "      <td>2</td>\n",
       "      <td>2021</td>\n",
       "    </tr>\n",
       "    <tr>\n",
       "      <th>4</th>\n",
       "      <td>Angola</td>\n",
       "      <td>1</td>\n",
       "      <td>2021</td>\n",
       "    </tr>\n",
       "    <tr>\n",
       "      <th>...</th>\n",
       "      <td>...</td>\n",
       "      <td>...</td>\n",
       "      <td>...</td>\n",
       "    </tr>\n",
       "    <tr>\n",
       "      <th>114</th>\n",
       "      <td>Venezuela</td>\n",
       "      <td>3</td>\n",
       "      <td>2021</td>\n",
       "    </tr>\n",
       "    <tr>\n",
       "      <th>115</th>\n",
       "      <td>Vietnam</td>\n",
       "      <td>5</td>\n",
       "      <td>2021</td>\n",
       "    </tr>\n",
       "    <tr>\n",
       "      <th>116</th>\n",
       "      <td>West Germany</td>\n",
       "      <td>5</td>\n",
       "      <td>2021</td>\n",
       "    </tr>\n",
       "    <tr>\n",
       "      <th>117</th>\n",
       "      <td>Zimbabwe</td>\n",
       "      <td>3</td>\n",
       "      <td>2021</td>\n",
       "    </tr>\n",
       "    <tr>\n",
       "      <th>118</th>\n",
       "      <td>nan</td>\n",
       "      <td>492</td>\n",
       "      <td>2021</td>\n",
       "    </tr>\n",
       "  </tbody>\n",
       "</table>\n",
       "<p>119 rows × 3 columns</p>\n",
       "</div>"
      ],
      "text/plain": [
       "          country  number_of_titles  added_year\n",
       "0                                 4        2021\n",
       "1     Afghanistan                 1        2021\n",
       "2         Albania                 1        2021\n",
       "3         Algeria                 2        2021\n",
       "4          Angola                 1        2021\n",
       "..            ...               ...         ...\n",
       "114     Venezuela                 3        2021\n",
       "115       Vietnam                 5        2021\n",
       "116  West Germany                 5        2021\n",
       "117      Zimbabwe                 3        2021\n",
       "118           nan               492        2021\n",
       "\n",
       "[119 rows x 3 columns]"
      ]
     },
     "execution_count": 29,
     "metadata": {},
     "output_type": "execute_result"
    }
   ],
   "source": [
    "last_year_counts = counts_by_year_and_country[counts_by_year_and_country['added_year'] == 2021]\n",
    "last_year_counts"
   ]
  },
  {
   "cell_type": "code",
   "execution_count": 30,
   "metadata": {},
   "outputs": [
    {
     "data": {
      "application/vnd.plotly.v1+json": {
       "config": {
        "plotlyServerURL": "https://plot.ly"
       },
       "data": [
        {
         "coloraxis": "coloraxis",
         "customdata": [
          [
           "",
           4,
           2021
          ],
          [
           "Afghanistan",
           1,
           2021
          ],
          [
           "Albania",
           1,
           2021
          ],
          [
           "Algeria",
           2,
           2021
          ],
          [
           "Angola",
           1,
           2021
          ],
          [
           "Argentina",
           82,
           2021
          ],
          [
           "Armenia",
           1,
           2021
          ],
          [
           "Australia",
           143,
           2021
          ],
          [
           "Austria",
           11,
           2021
          ],
          [
           "Azerbaijan",
           1,
           2021
          ],
          [
           "Bahamas",
           1,
           2021
          ],
          [
           "Bangladesh",
           3,
           2021
          ],
          [
           "Belarus",
           1,
           2021
          ],
          [
           "Belgium",
           85,
           2021
          ],
          [
           "Bermuda",
           1,
           2021
          ],
          [
           "Botswana",
           1,
           2021
          ],
          [
           "Brazil",
           87,
           2021
          ],
          [
           "Bulgaria",
           9,
           2021
          ],
          [
           "Cambodia",
           5,
           2021
          ],
          [
           "Canada",
           404,
           2021
          ],
          [
           "Cayman Islands",
           1,
           2021
          ],
          [
           "Chile",
           26,
           2021
          ],
          [
           "China",
           147,
           2021
          ],
          [
           "Colombia",
           45,
           2021
          ],
          [
           "Croatia",
           4,
           2021
          ],
          [
           "Cuba",
           1,
           2021
          ],
          [
           "Cyprus",
           1,
           2021
          ],
          [
           "Czech Republic",
           20,
           2021
          ],
          [
           "Denmark",
           44,
           2021
          ],
          [
           "Dominican Republic",
           1,
           2021
          ],
          [
           "East Germany",
           1,
           2021
          ],
          [
           "Ecuador",
           1,
           2021
          ],
          [
           "Egypt",
           110,
           2021
          ],
          [
           "Finland",
           11,
           2021
          ],
          [
           "France",
           342,
           2021
          ],
          [
           "Georgia",
           2,
           2021
          ],
          [
           "Germany",
           195,
           2021
          ],
          [
           "Ghana",
           4,
           2021
          ],
          [
           "Greece",
           10,
           2021
          ],
          [
           "Guatemala",
           2,
           2021
          ],
          [
           "Hong Kong",
           100,
           2021
          ],
          [
           "Hungary",
           8,
           2021
          ],
          [
           "Iceland",
           9,
           2021
          ],
          [
           "India",
           977,
           2021
          ],
          [
           "Indonesia",
           78,
           2021
          ],
          [
           "Iran",
           4,
           2021
          ],
          [
           "Iraq",
           2,
           2021
          ],
          [
           "Ireland",
           40,
           2021
          ],
          [
           "Israel",
           26,
           2021
          ],
          [
           "Italy",
           90,
           2021
          ],
          [
           "Jamaica",
           1,
           2021
          ],
          [
           "Japan",
           286,
           2021
          ],
          [
           "Jordan",
           8,
           2021
          ],
          [
           "Kazakhstan",
           1,
           2021
          ],
          [
           "Kenya",
           5,
           2021
          ],
          [
           "Kuwait",
           7,
           2021
          ],
          [
           "Latvia",
           1,
           2021
          ],
          [
           "Lebanon",
           26,
           2021
          ],
          [
           "Liechtenstein",
           1,
           2021
          ],
          [
           "Lithuania",
           1,
           2021
          ],
          [
           "Luxembourg",
           11,
           2021
          ],
          [
           "Malawi",
           1,
           2021
          ],
          [
           "Malaysia",
           26,
           2021
          ],
          [
           "Malta",
           3,
           2021
          ],
          [
           "Mauritius",
           1,
           2021
          ],
          [
           "Mexico",
           152,
           2021
          ],
          [
           "Mongolia",
           1,
           2021
          ],
          [
           "Montenegro",
           1,
           2021
          ],
          [
           "Morocco",
           6,
           2021
          ],
          [
           "Namibia",
           2,
           2021
          ],
          [
           "Nepal",
           2,
           2021
          ],
          [
           "Netherlands",
           45,
           2021
          ],
          [
           "New Zealand",
           28,
           2021
          ],
          [
           "Nicaragua",
           1,
           2021
          ],
          [
           "Nigeria",
           76,
           2021
          ],
          [
           "Norway",
           27,
           2021
          ],
          [
           "Pakistan",
           24,
           2021
          ],
          [
           "Panama",
           1,
           2021
          ],
          [
           "Paraguay",
           1,
           2021
          ],
          [
           "Peru",
           10,
           2021
          ],
          [
           "Philippines",
           78,
           2021
          ],
          [
           "Poland",
           36,
           2021
          ],
          [
           "Portugal",
           4,
           2021
          ],
          [
           "Puerto Rico",
           1,
           2021
          ],
          [
           "Qatar",
           7,
           2021
          ],
          [
           "Romania",
           12,
           2021
          ],
          [
           "Russia",
           27,
           2021
          ],
          [
           "Samoa",
           1,
           2021
          ],
          [
           "Saudi Arabia",
           10,
           2021
          ],
          [
           "Senegal",
           3,
           2021
          ],
          [
           "Serbia",
           7,
           2021
          ],
          [
           "Singapore",
           39,
           2021
          ],
          [
           "Slovakia",
           1,
           2021
          ],
          [
           "Slovenia",
           3,
           2021
          ],
          [
           "Somalia",
           1,
           2021
          ],
          [
           "South Africa",
           54,
           2021
          ],
          [
           "South Korea",
           211,
           2021
          ],
          [
           "Soviet Union",
           3,
           2021
          ],
          [
           "Spain",
           212,
           2021
          ],
          [
           "Sri Lanka",
           1,
           2021
          ],
          [
           "Sudan",
           1,
           2021
          ],
          [
           "Sweden",
           38,
           2021
          ],
          [
           "Switzerland",
           17,
           2021
          ],
          [
           "Syria",
           1,
           2021
          ],
          [
           "Taiwan",
           85,
           2021
          ],
          [
           "Thailand",
           64,
           2021
          ],
          [
           "Turkey",
           107,
           2021
          ],
          [
           "Uganda",
           1,
           2021
          ],
          [
           "Ukraine",
           3,
           2021
          ],
          [
           "United Arab Emirates",
           34,
           2021
          ],
          [
           "United Kingdom",
           715,
           2021
          ],
          [
           "United States",
           3223,
           2021
          ],
          [
           "Uruguay",
           14,
           2021
          ],
          [
           "Vatican City",
           1,
           2021
          ],
          [
           "Venezuela",
           3,
           2021
          ],
          [
           "Vietnam",
           5,
           2021
          ],
          [
           "West Germany",
           5,
           2021
          ],
          [
           "Zimbabwe",
           3,
           2021
          ],
          [
           "nan",
           492,
           2021
          ]
         ],
         "geo": "geo",
         "hovertemplate": "<b>%{hovertext}</b><br><br>number_of_titles=%{z}<extra></extra>",
         "hovertext": [
          "",
          "Afghanistan",
          "Albania",
          "Algeria",
          "Angola",
          "Argentina",
          "Armenia",
          "Australia",
          "Austria",
          "Azerbaijan",
          "Bahamas",
          "Bangladesh",
          "Belarus",
          "Belgium",
          "Bermuda",
          "Botswana",
          "Brazil",
          "Bulgaria",
          "Cambodia",
          "Canada",
          "Cayman Islands",
          "Chile",
          "China",
          "Colombia",
          "Croatia",
          "Cuba",
          "Cyprus",
          "Czech Republic",
          "Denmark",
          "Dominican Republic",
          "East Germany",
          "Ecuador",
          "Egypt",
          "Finland",
          "France",
          "Georgia",
          "Germany",
          "Ghana",
          "Greece",
          "Guatemala",
          "Hong Kong",
          "Hungary",
          "Iceland",
          "India",
          "Indonesia",
          "Iran",
          "Iraq",
          "Ireland",
          "Israel",
          "Italy",
          "Jamaica",
          "Japan",
          "Jordan",
          "Kazakhstan",
          "Kenya",
          "Kuwait",
          "Latvia",
          "Lebanon",
          "Liechtenstein",
          "Lithuania",
          "Luxembourg",
          "Malawi",
          "Malaysia",
          "Malta",
          "Mauritius",
          "Mexico",
          "Mongolia",
          "Montenegro",
          "Morocco",
          "Namibia",
          "Nepal",
          "Netherlands",
          "New Zealand",
          "Nicaragua",
          "Nigeria",
          "Norway",
          "Pakistan",
          "Panama",
          "Paraguay",
          "Peru",
          "Philippines",
          "Poland",
          "Portugal",
          "Puerto Rico",
          "Qatar",
          "Romania",
          "Russia",
          "Samoa",
          "Saudi Arabia",
          "Senegal",
          "Serbia",
          "Singapore",
          "Slovakia",
          "Slovenia",
          "Somalia",
          "South Africa",
          "South Korea",
          "Soviet Union",
          "Spain",
          "Sri Lanka",
          "Sudan",
          "Sweden",
          "Switzerland",
          "Syria",
          "Taiwan",
          "Thailand",
          "Turkey",
          "Uganda",
          "Ukraine",
          "United Arab Emirates",
          "United Kingdom",
          "United States",
          "Uruguay",
          "Vatican City",
          "Venezuela",
          "Vietnam",
          "West Germany",
          "Zimbabwe",
          "nan"
         ],
         "locationmode": "country names",
         "locations": [
          "",
          "Afghanistan",
          "Albania",
          "Algeria",
          "Angola",
          "Argentina",
          "Armenia",
          "Australia",
          "Austria",
          "Azerbaijan",
          "Bahamas",
          "Bangladesh",
          "Belarus",
          "Belgium",
          "Bermuda",
          "Botswana",
          "Brazil",
          "Bulgaria",
          "Cambodia",
          "Canada",
          "Cayman Islands",
          "Chile",
          "China",
          "Colombia",
          "Croatia",
          "Cuba",
          "Cyprus",
          "Czech Republic",
          "Denmark",
          "Dominican Republic",
          "East Germany",
          "Ecuador",
          "Egypt",
          "Finland",
          "France",
          "Georgia",
          "Germany",
          "Ghana",
          "Greece",
          "Guatemala",
          "Hong Kong",
          "Hungary",
          "Iceland",
          "India",
          "Indonesia",
          "Iran",
          "Iraq",
          "Ireland",
          "Israel",
          "Italy",
          "Jamaica",
          "Japan",
          "Jordan",
          "Kazakhstan",
          "Kenya",
          "Kuwait",
          "Latvia",
          "Lebanon",
          "Liechtenstein",
          "Lithuania",
          "Luxembourg",
          "Malawi",
          "Malaysia",
          "Malta",
          "Mauritius",
          "Mexico",
          "Mongolia",
          "Montenegro",
          "Morocco",
          "Namibia",
          "Nepal",
          "Netherlands",
          "New Zealand",
          "Nicaragua",
          "Nigeria",
          "Norway",
          "Pakistan",
          "Panama",
          "Paraguay",
          "Peru",
          "Philippines",
          "Poland",
          "Portugal",
          "Puerto Rico",
          "Qatar",
          "Romania",
          "Russia",
          "Samoa",
          "Saudi Arabia",
          "Senegal",
          "Serbia",
          "Singapore",
          "Slovakia",
          "Slovenia",
          "Somalia",
          "South Africa",
          "South Korea",
          "Soviet Union",
          "Spain",
          "Sri Lanka",
          "Sudan",
          "Sweden",
          "Switzerland",
          "Syria",
          "Taiwan",
          "Thailand",
          "Turkey",
          "Uganda",
          "Ukraine",
          "United Arab Emirates",
          "United Kingdom",
          "United States",
          "Uruguay",
          "Vatican City",
          "Venezuela",
          "Vietnam",
          "West Germany",
          "Zimbabwe",
          "nan"
         ],
         "name": "",
         "type": "choropleth",
         "z": [
          4,
          1,
          1,
          2,
          1,
          82,
          1,
          143,
          11,
          1,
          1,
          3,
          1,
          85,
          1,
          1,
          87,
          9,
          5,
          404,
          1,
          26,
          147,
          45,
          4,
          1,
          1,
          20,
          44,
          1,
          1,
          1,
          110,
          11,
          342,
          2,
          195,
          4,
          10,
          2,
          100,
          8,
          9,
          977,
          78,
          4,
          2,
          40,
          26,
          90,
          1,
          286,
          8,
          1,
          5,
          7,
          1,
          26,
          1,
          1,
          11,
          1,
          26,
          3,
          1,
          152,
          1,
          1,
          6,
          2,
          2,
          45,
          28,
          1,
          76,
          27,
          24,
          1,
          1,
          10,
          78,
          36,
          4,
          1,
          7,
          12,
          27,
          1,
          10,
          3,
          7,
          39,
          1,
          3,
          1,
          54,
          211,
          3,
          212,
          1,
          1,
          38,
          17,
          1,
          85,
          64,
          107,
          1,
          3,
          34,
          715,
          3223,
          14,
          1,
          3,
          5,
          5,
          3,
          492
         ]
        }
       ],
       "layout": {
        "coloraxis": {
         "colorbar": {
          "title": {
           "text": "number_of_titles"
          }
         },
         "colorscale": [
          [
           0,
           "rgb(255,245,240)"
          ],
          [
           0.125,
           "rgb(254,224,210)"
          ],
          [
           0.25,
           "rgb(252,187,161)"
          ],
          [
           0.375,
           "rgb(252,146,114)"
          ],
          [
           0.5,
           "rgb(251,106,74)"
          ],
          [
           0.625,
           "rgb(239,59,44)"
          ],
          [
           0.75,
           "rgb(203,24,29)"
          ],
          [
           0.875,
           "rgb(165,15,21)"
          ],
          [
           1,
           "rgb(103,0,13)"
          ]
         ]
        },
        "geo": {
         "center": {},
         "domain": {
          "x": [
           0,
           1
          ],
          "y": [
           0,
           1
          ]
         }
        },
        "height": 600,
        "legend": {
         "tracegroupgap": 0
        },
        "margin": {
         "t": 60
        },
        "template": {
         "data": {
          "bar": [
           {
            "error_x": {
             "color": "#2a3f5f"
            },
            "error_y": {
             "color": "#2a3f5f"
            },
            "marker": {
             "line": {
              "color": "#E5ECF6",
              "width": 0.5
             }
            },
            "type": "bar"
           }
          ],
          "barpolar": [
           {
            "marker": {
             "line": {
              "color": "#E5ECF6",
              "width": 0.5
             }
            },
            "type": "barpolar"
           }
          ],
          "carpet": [
           {
            "aaxis": {
             "endlinecolor": "#2a3f5f",
             "gridcolor": "white",
             "linecolor": "white",
             "minorgridcolor": "white",
             "startlinecolor": "#2a3f5f"
            },
            "baxis": {
             "endlinecolor": "#2a3f5f",
             "gridcolor": "white",
             "linecolor": "white",
             "minorgridcolor": "white",
             "startlinecolor": "#2a3f5f"
            },
            "type": "carpet"
           }
          ],
          "choropleth": [
           {
            "colorbar": {
             "outlinewidth": 0,
             "ticks": ""
            },
            "type": "choropleth"
           }
          ],
          "contour": [
           {
            "colorbar": {
             "outlinewidth": 0,
             "ticks": ""
            },
            "colorscale": [
             [
              0,
              "#0d0887"
             ],
             [
              0.1111111111111111,
              "#46039f"
             ],
             [
              0.2222222222222222,
              "#7201a8"
             ],
             [
              0.3333333333333333,
              "#9c179e"
             ],
             [
              0.4444444444444444,
              "#bd3786"
             ],
             [
              0.5555555555555556,
              "#d8576b"
             ],
             [
              0.6666666666666666,
              "#ed7953"
             ],
             [
              0.7777777777777778,
              "#fb9f3a"
             ],
             [
              0.8888888888888888,
              "#fdca26"
             ],
             [
              1,
              "#f0f921"
             ]
            ],
            "type": "contour"
           }
          ],
          "contourcarpet": [
           {
            "colorbar": {
             "outlinewidth": 0,
             "ticks": ""
            },
            "type": "contourcarpet"
           }
          ],
          "heatmap": [
           {
            "colorbar": {
             "outlinewidth": 0,
             "ticks": ""
            },
            "colorscale": [
             [
              0,
              "#0d0887"
             ],
             [
              0.1111111111111111,
              "#46039f"
             ],
             [
              0.2222222222222222,
              "#7201a8"
             ],
             [
              0.3333333333333333,
              "#9c179e"
             ],
             [
              0.4444444444444444,
              "#bd3786"
             ],
             [
              0.5555555555555556,
              "#d8576b"
             ],
             [
              0.6666666666666666,
              "#ed7953"
             ],
             [
              0.7777777777777778,
              "#fb9f3a"
             ],
             [
              0.8888888888888888,
              "#fdca26"
             ],
             [
              1,
              "#f0f921"
             ]
            ],
            "type": "heatmap"
           }
          ],
          "heatmapgl": [
           {
            "colorbar": {
             "outlinewidth": 0,
             "ticks": ""
            },
            "colorscale": [
             [
              0,
              "#0d0887"
             ],
             [
              0.1111111111111111,
              "#46039f"
             ],
             [
              0.2222222222222222,
              "#7201a8"
             ],
             [
              0.3333333333333333,
              "#9c179e"
             ],
             [
              0.4444444444444444,
              "#bd3786"
             ],
             [
              0.5555555555555556,
              "#d8576b"
             ],
             [
              0.6666666666666666,
              "#ed7953"
             ],
             [
              0.7777777777777778,
              "#fb9f3a"
             ],
             [
              0.8888888888888888,
              "#fdca26"
             ],
             [
              1,
              "#f0f921"
             ]
            ],
            "type": "heatmapgl"
           }
          ],
          "histogram": [
           {
            "marker": {
             "colorbar": {
              "outlinewidth": 0,
              "ticks": ""
             }
            },
            "type": "histogram"
           }
          ],
          "histogram2d": [
           {
            "colorbar": {
             "outlinewidth": 0,
             "ticks": ""
            },
            "colorscale": [
             [
              0,
              "#0d0887"
             ],
             [
              0.1111111111111111,
              "#46039f"
             ],
             [
              0.2222222222222222,
              "#7201a8"
             ],
             [
              0.3333333333333333,
              "#9c179e"
             ],
             [
              0.4444444444444444,
              "#bd3786"
             ],
             [
              0.5555555555555556,
              "#d8576b"
             ],
             [
              0.6666666666666666,
              "#ed7953"
             ],
             [
              0.7777777777777778,
              "#fb9f3a"
             ],
             [
              0.8888888888888888,
              "#fdca26"
             ],
             [
              1,
              "#f0f921"
             ]
            ],
            "type": "histogram2d"
           }
          ],
          "histogram2dcontour": [
           {
            "colorbar": {
             "outlinewidth": 0,
             "ticks": ""
            },
            "colorscale": [
             [
              0,
              "#0d0887"
             ],
             [
              0.1111111111111111,
              "#46039f"
             ],
             [
              0.2222222222222222,
              "#7201a8"
             ],
             [
              0.3333333333333333,
              "#9c179e"
             ],
             [
              0.4444444444444444,
              "#bd3786"
             ],
             [
              0.5555555555555556,
              "#d8576b"
             ],
             [
              0.6666666666666666,
              "#ed7953"
             ],
             [
              0.7777777777777778,
              "#fb9f3a"
             ],
             [
              0.8888888888888888,
              "#fdca26"
             ],
             [
              1,
              "#f0f921"
             ]
            ],
            "type": "histogram2dcontour"
           }
          ],
          "mesh3d": [
           {
            "colorbar": {
             "outlinewidth": 0,
             "ticks": ""
            },
            "type": "mesh3d"
           }
          ],
          "parcoords": [
           {
            "line": {
             "colorbar": {
              "outlinewidth": 0,
              "ticks": ""
             }
            },
            "type": "parcoords"
           }
          ],
          "pie": [
           {
            "automargin": true,
            "type": "pie"
           }
          ],
          "scatter": [
           {
            "marker": {
             "colorbar": {
              "outlinewidth": 0,
              "ticks": ""
             }
            },
            "type": "scatter"
           }
          ],
          "scatter3d": [
           {
            "line": {
             "colorbar": {
              "outlinewidth": 0,
              "ticks": ""
             }
            },
            "marker": {
             "colorbar": {
              "outlinewidth": 0,
              "ticks": ""
             }
            },
            "type": "scatter3d"
           }
          ],
          "scattercarpet": [
           {
            "marker": {
             "colorbar": {
              "outlinewidth": 0,
              "ticks": ""
             }
            },
            "type": "scattercarpet"
           }
          ],
          "scattergeo": [
           {
            "marker": {
             "colorbar": {
              "outlinewidth": 0,
              "ticks": ""
             }
            },
            "type": "scattergeo"
           }
          ],
          "scattergl": [
           {
            "marker": {
             "colorbar": {
              "outlinewidth": 0,
              "ticks": ""
             }
            },
            "type": "scattergl"
           }
          ],
          "scattermapbox": [
           {
            "marker": {
             "colorbar": {
              "outlinewidth": 0,
              "ticks": ""
             }
            },
            "type": "scattermapbox"
           }
          ],
          "scatterpolar": [
           {
            "marker": {
             "colorbar": {
              "outlinewidth": 0,
              "ticks": ""
             }
            },
            "type": "scatterpolar"
           }
          ],
          "scatterpolargl": [
           {
            "marker": {
             "colorbar": {
              "outlinewidth": 0,
              "ticks": ""
             }
            },
            "type": "scatterpolargl"
           }
          ],
          "scatterternary": [
           {
            "marker": {
             "colorbar": {
              "outlinewidth": 0,
              "ticks": ""
             }
            },
            "type": "scatterternary"
           }
          ],
          "surface": [
           {
            "colorbar": {
             "outlinewidth": 0,
             "ticks": ""
            },
            "colorscale": [
             [
              0,
              "#0d0887"
             ],
             [
              0.1111111111111111,
              "#46039f"
             ],
             [
              0.2222222222222222,
              "#7201a8"
             ],
             [
              0.3333333333333333,
              "#9c179e"
             ],
             [
              0.4444444444444444,
              "#bd3786"
             ],
             [
              0.5555555555555556,
              "#d8576b"
             ],
             [
              0.6666666666666666,
              "#ed7953"
             ],
             [
              0.7777777777777778,
              "#fb9f3a"
             ],
             [
              0.8888888888888888,
              "#fdca26"
             ],
             [
              1,
              "#f0f921"
             ]
            ],
            "type": "surface"
           }
          ],
          "table": [
           {
            "cells": {
             "fill": {
              "color": "#EBF0F8"
             },
             "line": {
              "color": "white"
             }
            },
            "header": {
             "fill": {
              "color": "#C8D4E3"
             },
             "line": {
              "color": "white"
             }
            },
            "type": "table"
           }
          ]
         },
         "layout": {
          "annotationdefaults": {
           "arrowcolor": "#2a3f5f",
           "arrowhead": 0,
           "arrowwidth": 1
          },
          "autotypenumbers": "strict",
          "coloraxis": {
           "colorbar": {
            "outlinewidth": 0,
            "ticks": ""
           }
          },
          "colorscale": {
           "diverging": [
            [
             0,
             "#8e0152"
            ],
            [
             0.1,
             "#c51b7d"
            ],
            [
             0.2,
             "#de77ae"
            ],
            [
             0.3,
             "#f1b6da"
            ],
            [
             0.4,
             "#fde0ef"
            ],
            [
             0.5,
             "#f7f7f7"
            ],
            [
             0.6,
             "#e6f5d0"
            ],
            [
             0.7,
             "#b8e186"
            ],
            [
             0.8,
             "#7fbc41"
            ],
            [
             0.9,
             "#4d9221"
            ],
            [
             1,
             "#276419"
            ]
           ],
           "sequential": [
            [
             0,
             "#0d0887"
            ],
            [
             0.1111111111111111,
             "#46039f"
            ],
            [
             0.2222222222222222,
             "#7201a8"
            ],
            [
             0.3333333333333333,
             "#9c179e"
            ],
            [
             0.4444444444444444,
             "#bd3786"
            ],
            [
             0.5555555555555556,
             "#d8576b"
            ],
            [
             0.6666666666666666,
             "#ed7953"
            ],
            [
             0.7777777777777778,
             "#fb9f3a"
            ],
            [
             0.8888888888888888,
             "#fdca26"
            ],
            [
             1,
             "#f0f921"
            ]
           ],
           "sequentialminus": [
            [
             0,
             "#0d0887"
            ],
            [
             0.1111111111111111,
             "#46039f"
            ],
            [
             0.2222222222222222,
             "#7201a8"
            ],
            [
             0.3333333333333333,
             "#9c179e"
            ],
            [
             0.4444444444444444,
             "#bd3786"
            ],
            [
             0.5555555555555556,
             "#d8576b"
            ],
            [
             0.6666666666666666,
             "#ed7953"
            ],
            [
             0.7777777777777778,
             "#fb9f3a"
            ],
            [
             0.8888888888888888,
             "#fdca26"
            ],
            [
             1,
             "#f0f921"
            ]
           ]
          },
          "colorway": [
           "#636efa",
           "#EF553B",
           "#00cc96",
           "#ab63fa",
           "#FFA15A",
           "#19d3f3",
           "#FF6692",
           "#B6E880",
           "#FF97FF",
           "#FECB52"
          ],
          "font": {
           "color": "#2a3f5f"
          },
          "geo": {
           "bgcolor": "white",
           "lakecolor": "white",
           "landcolor": "#E5ECF6",
           "showlakes": true,
           "showland": true,
           "subunitcolor": "white"
          },
          "hoverlabel": {
           "align": "left"
          },
          "hovermode": "closest",
          "mapbox": {
           "style": "light"
          },
          "paper_bgcolor": "white",
          "plot_bgcolor": "#E5ECF6",
          "polar": {
           "angularaxis": {
            "gridcolor": "white",
            "linecolor": "white",
            "ticks": ""
           },
           "bgcolor": "#E5ECF6",
           "radialaxis": {
            "gridcolor": "white",
            "linecolor": "white",
            "ticks": ""
           }
          },
          "scene": {
           "xaxis": {
            "backgroundcolor": "#E5ECF6",
            "gridcolor": "white",
            "gridwidth": 2,
            "linecolor": "white",
            "showbackground": true,
            "ticks": "",
            "zerolinecolor": "white"
           },
           "yaxis": {
            "backgroundcolor": "#E5ECF6",
            "gridcolor": "white",
            "gridwidth": 2,
            "linecolor": "white",
            "showbackground": true,
            "ticks": "",
            "zerolinecolor": "white"
           },
           "zaxis": {
            "backgroundcolor": "#E5ECF6",
            "gridcolor": "white",
            "gridwidth": 2,
            "linecolor": "white",
            "showbackground": true,
            "ticks": "",
            "zerolinecolor": "white"
           }
          },
          "shapedefaults": {
           "line": {
            "color": "#2a3f5f"
           }
          },
          "ternary": {
           "aaxis": {
            "gridcolor": "white",
            "linecolor": "white",
            "ticks": ""
           },
           "baxis": {
            "gridcolor": "white",
            "linecolor": "white",
            "ticks": ""
           },
           "bgcolor": "#E5ECF6",
           "caxis": {
            "gridcolor": "white",
            "linecolor": "white",
            "ticks": ""
           }
          },
          "title": {
           "x": 0.05
          },
          "xaxis": {
           "automargin": true,
           "gridcolor": "white",
           "linecolor": "white",
           "ticks": "",
           "title": {
            "standoff": 15
           },
           "zerolinecolor": "white",
           "zerolinewidth": 2
          },
          "yaxis": {
           "automargin": true,
           "gridcolor": "white",
           "linecolor": "white",
           "ticks": "",
           "title": {
            "standoff": 15
           },
           "zerolinecolor": "white",
           "zerolinewidth": 2
          }
         }
        }
       }
      },
      "text/html": [
       "<div>                            <div id=\"83861b07-9e95-428d-8d9e-b00b9b0e0709\" class=\"plotly-graph-div\" style=\"height:600px; width:100%;\"></div>            <script type=\"text/javascript\">                require([\"plotly\"], function(Plotly) {                    window.PLOTLYENV=window.PLOTLYENV || {};                                    if (document.getElementById(\"83861b07-9e95-428d-8d9e-b00b9b0e0709\")) {                    Plotly.newPlot(                        \"83861b07-9e95-428d-8d9e-b00b9b0e0709\",                        [{\"coloraxis\": \"coloraxis\", \"customdata\": [[\"\", 4, 2021], [\"Afghanistan\", 1, 2021], [\"Albania\", 1, 2021], [\"Algeria\", 2, 2021], [\"Angola\", 1, 2021], [\"Argentina\", 82, 2021], [\"Armenia\", 1, 2021], [\"Australia\", 143, 2021], [\"Austria\", 11, 2021], [\"Azerbaijan\", 1, 2021], [\"Bahamas\", 1, 2021], [\"Bangladesh\", 3, 2021], [\"Belarus\", 1, 2021], [\"Belgium\", 85, 2021], [\"Bermuda\", 1, 2021], [\"Botswana\", 1, 2021], [\"Brazil\", 87, 2021], [\"Bulgaria\", 9, 2021], [\"Cambodia\", 5, 2021], [\"Canada\", 404, 2021], [\"Cayman Islands\", 1, 2021], [\"Chile\", 26, 2021], [\"China\", 147, 2021], [\"Colombia\", 45, 2021], [\"Croatia\", 4, 2021], [\"Cuba\", 1, 2021], [\"Cyprus\", 1, 2021], [\"Czech Republic\", 20, 2021], [\"Denmark\", 44, 2021], [\"Dominican Republic\", 1, 2021], [\"East Germany\", 1, 2021], [\"Ecuador\", 1, 2021], [\"Egypt\", 110, 2021], [\"Finland\", 11, 2021], [\"France\", 342, 2021], [\"Georgia\", 2, 2021], [\"Germany\", 195, 2021], [\"Ghana\", 4, 2021], [\"Greece\", 10, 2021], [\"Guatemala\", 2, 2021], [\"Hong Kong\", 100, 2021], [\"Hungary\", 8, 2021], [\"Iceland\", 9, 2021], [\"India\", 977, 2021], [\"Indonesia\", 78, 2021], [\"Iran\", 4, 2021], [\"Iraq\", 2, 2021], [\"Ireland\", 40, 2021], [\"Israel\", 26, 2021], [\"Italy\", 90, 2021], [\"Jamaica\", 1, 2021], [\"Japan\", 286, 2021], [\"Jordan\", 8, 2021], [\"Kazakhstan\", 1, 2021], [\"Kenya\", 5, 2021], [\"Kuwait\", 7, 2021], [\"Latvia\", 1, 2021], [\"Lebanon\", 26, 2021], [\"Liechtenstein\", 1, 2021], [\"Lithuania\", 1, 2021], [\"Luxembourg\", 11, 2021], [\"Malawi\", 1, 2021], [\"Malaysia\", 26, 2021], [\"Malta\", 3, 2021], [\"Mauritius\", 1, 2021], [\"Mexico\", 152, 2021], [\"Mongolia\", 1, 2021], [\"Montenegro\", 1, 2021], [\"Morocco\", 6, 2021], [\"Namibia\", 2, 2021], [\"Nepal\", 2, 2021], [\"Netherlands\", 45, 2021], [\"New Zealand\", 28, 2021], [\"Nicaragua\", 1, 2021], [\"Nigeria\", 76, 2021], [\"Norway\", 27, 2021], [\"Pakistan\", 24, 2021], [\"Panama\", 1, 2021], [\"Paraguay\", 1, 2021], [\"Peru\", 10, 2021], [\"Philippines\", 78, 2021], [\"Poland\", 36, 2021], [\"Portugal\", 4, 2021], [\"Puerto Rico\", 1, 2021], [\"Qatar\", 7, 2021], [\"Romania\", 12, 2021], [\"Russia\", 27, 2021], [\"Samoa\", 1, 2021], [\"Saudi Arabia\", 10, 2021], [\"Senegal\", 3, 2021], [\"Serbia\", 7, 2021], [\"Singapore\", 39, 2021], [\"Slovakia\", 1, 2021], [\"Slovenia\", 3, 2021], [\"Somalia\", 1, 2021], [\"South Africa\", 54, 2021], [\"South Korea\", 211, 2021], [\"Soviet Union\", 3, 2021], [\"Spain\", 212, 2021], [\"Sri Lanka\", 1, 2021], [\"Sudan\", 1, 2021], [\"Sweden\", 38, 2021], [\"Switzerland\", 17, 2021], [\"Syria\", 1, 2021], [\"Taiwan\", 85, 2021], [\"Thailand\", 64, 2021], [\"Turkey\", 107, 2021], [\"Uganda\", 1, 2021], [\"Ukraine\", 3, 2021], [\"United Arab Emirates\", 34, 2021], [\"United Kingdom\", 715, 2021], [\"United States\", 3223, 2021], [\"Uruguay\", 14, 2021], [\"Vatican City\", 1, 2021], [\"Venezuela\", 3, 2021], [\"Vietnam\", 5, 2021], [\"West Germany\", 5, 2021], [\"Zimbabwe\", 3, 2021], [\"nan\", 492, 2021]], \"geo\": \"geo\", \"hovertemplate\": \"<b>%{hovertext}</b><br><br>number_of_titles=%{z}<extra></extra>\", \"hovertext\": [\"\", \"Afghanistan\", \"Albania\", \"Algeria\", \"Angola\", \"Argentina\", \"Armenia\", \"Australia\", \"Austria\", \"Azerbaijan\", \"Bahamas\", \"Bangladesh\", \"Belarus\", \"Belgium\", \"Bermuda\", \"Botswana\", \"Brazil\", \"Bulgaria\", \"Cambodia\", \"Canada\", \"Cayman Islands\", \"Chile\", \"China\", \"Colombia\", \"Croatia\", \"Cuba\", \"Cyprus\", \"Czech Republic\", \"Denmark\", \"Dominican Republic\", \"East Germany\", \"Ecuador\", \"Egypt\", \"Finland\", \"France\", \"Georgia\", \"Germany\", \"Ghana\", \"Greece\", \"Guatemala\", \"Hong Kong\", \"Hungary\", \"Iceland\", \"India\", \"Indonesia\", \"Iran\", \"Iraq\", \"Ireland\", \"Israel\", \"Italy\", \"Jamaica\", \"Japan\", \"Jordan\", \"Kazakhstan\", \"Kenya\", \"Kuwait\", \"Latvia\", \"Lebanon\", \"Liechtenstein\", \"Lithuania\", \"Luxembourg\", \"Malawi\", \"Malaysia\", \"Malta\", \"Mauritius\", \"Mexico\", \"Mongolia\", \"Montenegro\", \"Morocco\", \"Namibia\", \"Nepal\", \"Netherlands\", \"New Zealand\", \"Nicaragua\", \"Nigeria\", \"Norway\", \"Pakistan\", \"Panama\", \"Paraguay\", \"Peru\", \"Philippines\", \"Poland\", \"Portugal\", \"Puerto Rico\", \"Qatar\", \"Romania\", \"Russia\", \"Samoa\", \"Saudi Arabia\", \"Senegal\", \"Serbia\", \"Singapore\", \"Slovakia\", \"Slovenia\", \"Somalia\", \"South Africa\", \"South Korea\", \"Soviet Union\", \"Spain\", \"Sri Lanka\", \"Sudan\", \"Sweden\", \"Switzerland\", \"Syria\", \"Taiwan\", \"Thailand\", \"Turkey\", \"Uganda\", \"Ukraine\", \"United Arab Emirates\", \"United Kingdom\", \"United States\", \"Uruguay\", \"Vatican City\", \"Venezuela\", \"Vietnam\", \"West Germany\", \"Zimbabwe\", \"nan\"], \"locationmode\": \"country names\", \"locations\": [\"\", \"Afghanistan\", \"Albania\", \"Algeria\", \"Angola\", \"Argentina\", \"Armenia\", \"Australia\", \"Austria\", \"Azerbaijan\", \"Bahamas\", \"Bangladesh\", \"Belarus\", \"Belgium\", \"Bermuda\", \"Botswana\", \"Brazil\", \"Bulgaria\", \"Cambodia\", \"Canada\", \"Cayman Islands\", \"Chile\", \"China\", \"Colombia\", \"Croatia\", \"Cuba\", \"Cyprus\", \"Czech Republic\", \"Denmark\", \"Dominican Republic\", \"East Germany\", \"Ecuador\", \"Egypt\", \"Finland\", \"France\", \"Georgia\", \"Germany\", \"Ghana\", \"Greece\", \"Guatemala\", \"Hong Kong\", \"Hungary\", \"Iceland\", \"India\", \"Indonesia\", \"Iran\", \"Iraq\", \"Ireland\", \"Israel\", \"Italy\", \"Jamaica\", \"Japan\", \"Jordan\", \"Kazakhstan\", \"Kenya\", \"Kuwait\", \"Latvia\", \"Lebanon\", \"Liechtenstein\", \"Lithuania\", \"Luxembourg\", \"Malawi\", \"Malaysia\", \"Malta\", \"Mauritius\", \"Mexico\", \"Mongolia\", \"Montenegro\", \"Morocco\", \"Namibia\", \"Nepal\", \"Netherlands\", \"New Zealand\", \"Nicaragua\", \"Nigeria\", \"Norway\", \"Pakistan\", \"Panama\", \"Paraguay\", \"Peru\", \"Philippines\", \"Poland\", \"Portugal\", \"Puerto Rico\", \"Qatar\", \"Romania\", \"Russia\", \"Samoa\", \"Saudi Arabia\", \"Senegal\", \"Serbia\", \"Singapore\", \"Slovakia\", \"Slovenia\", \"Somalia\", \"South Africa\", \"South Korea\", \"Soviet Union\", \"Spain\", \"Sri Lanka\", \"Sudan\", \"Sweden\", \"Switzerland\", \"Syria\", \"Taiwan\", \"Thailand\", \"Turkey\", \"Uganda\", \"Ukraine\", \"United Arab Emirates\", \"United Kingdom\", \"United States\", \"Uruguay\", \"Vatican City\", \"Venezuela\", \"Vietnam\", \"West Germany\", \"Zimbabwe\", \"nan\"], \"name\": \"\", \"type\": \"choropleth\", \"z\": [4, 1, 1, 2, 1, 82, 1, 143, 11, 1, 1, 3, 1, 85, 1, 1, 87, 9, 5, 404, 1, 26, 147, 45, 4, 1, 1, 20, 44, 1, 1, 1, 110, 11, 342, 2, 195, 4, 10, 2, 100, 8, 9, 977, 78, 4, 2, 40, 26, 90, 1, 286, 8, 1, 5, 7, 1, 26, 1, 1, 11, 1, 26, 3, 1, 152, 1, 1, 6, 2, 2, 45, 28, 1, 76, 27, 24, 1, 1, 10, 78, 36, 4, 1, 7, 12, 27, 1, 10, 3, 7, 39, 1, 3, 1, 54, 211, 3, 212, 1, 1, 38, 17, 1, 85, 64, 107, 1, 3, 34, 715, 3223, 14, 1, 3, 5, 5, 3, 492]}],                        {\"coloraxis\": {\"colorbar\": {\"title\": {\"text\": \"number_of_titles\"}}, \"colorscale\": [[0.0, \"rgb(255,245,240)\"], [0.125, \"rgb(254,224,210)\"], [0.25, \"rgb(252,187,161)\"], [0.375, \"rgb(252,146,114)\"], [0.5, \"rgb(251,106,74)\"], [0.625, \"rgb(239,59,44)\"], [0.75, \"rgb(203,24,29)\"], [0.875, \"rgb(165,15,21)\"], [1.0, \"rgb(103,0,13)\"]]}, \"geo\": {\"center\": {}, \"domain\": {\"x\": [0.0, 1.0], \"y\": [0.0, 1.0]}}, \"height\": 600, \"legend\": {\"tracegroupgap\": 0}, \"margin\": {\"t\": 60}, \"template\": {\"data\": {\"bar\": [{\"error_x\": {\"color\": \"#2a3f5f\"}, \"error_y\": {\"color\": \"#2a3f5f\"}, \"marker\": {\"line\": {\"color\": \"#E5ECF6\", \"width\": 0.5}}, \"type\": \"bar\"}], \"barpolar\": [{\"marker\": {\"line\": {\"color\": \"#E5ECF6\", \"width\": 0.5}}, \"type\": \"barpolar\"}], \"carpet\": [{\"aaxis\": {\"endlinecolor\": \"#2a3f5f\", \"gridcolor\": \"white\", \"linecolor\": \"white\", \"minorgridcolor\": \"white\", \"startlinecolor\": \"#2a3f5f\"}, \"baxis\": {\"endlinecolor\": \"#2a3f5f\", \"gridcolor\": \"white\", \"linecolor\": \"white\", \"minorgridcolor\": \"white\", \"startlinecolor\": \"#2a3f5f\"}, \"type\": \"carpet\"}], \"choropleth\": [{\"colorbar\": {\"outlinewidth\": 0, \"ticks\": \"\"}, \"type\": \"choropleth\"}], \"contour\": [{\"colorbar\": {\"outlinewidth\": 0, \"ticks\": \"\"}, \"colorscale\": [[0.0, \"#0d0887\"], [0.1111111111111111, \"#46039f\"], [0.2222222222222222, \"#7201a8\"], [0.3333333333333333, \"#9c179e\"], [0.4444444444444444, \"#bd3786\"], [0.5555555555555556, \"#d8576b\"], [0.6666666666666666, \"#ed7953\"], [0.7777777777777778, \"#fb9f3a\"], [0.8888888888888888, \"#fdca26\"], [1.0, \"#f0f921\"]], \"type\": \"contour\"}], \"contourcarpet\": [{\"colorbar\": {\"outlinewidth\": 0, \"ticks\": \"\"}, \"type\": \"contourcarpet\"}], \"heatmap\": [{\"colorbar\": {\"outlinewidth\": 0, \"ticks\": \"\"}, \"colorscale\": [[0.0, \"#0d0887\"], [0.1111111111111111, \"#46039f\"], [0.2222222222222222, \"#7201a8\"], [0.3333333333333333, \"#9c179e\"], [0.4444444444444444, \"#bd3786\"], [0.5555555555555556, \"#d8576b\"], [0.6666666666666666, \"#ed7953\"], [0.7777777777777778, \"#fb9f3a\"], [0.8888888888888888, \"#fdca26\"], [1.0, \"#f0f921\"]], \"type\": \"heatmap\"}], \"heatmapgl\": [{\"colorbar\": {\"outlinewidth\": 0, \"ticks\": \"\"}, \"colorscale\": [[0.0, \"#0d0887\"], [0.1111111111111111, \"#46039f\"], [0.2222222222222222, \"#7201a8\"], [0.3333333333333333, \"#9c179e\"], [0.4444444444444444, \"#bd3786\"], [0.5555555555555556, \"#d8576b\"], [0.6666666666666666, \"#ed7953\"], [0.7777777777777778, \"#fb9f3a\"], [0.8888888888888888, \"#fdca26\"], [1.0, \"#f0f921\"]], \"type\": \"heatmapgl\"}], \"histogram\": [{\"marker\": {\"colorbar\": {\"outlinewidth\": 0, \"ticks\": \"\"}}, \"type\": \"histogram\"}], \"histogram2d\": [{\"colorbar\": {\"outlinewidth\": 0, \"ticks\": \"\"}, \"colorscale\": [[0.0, \"#0d0887\"], [0.1111111111111111, \"#46039f\"], [0.2222222222222222, \"#7201a8\"], [0.3333333333333333, \"#9c179e\"], [0.4444444444444444, \"#bd3786\"], [0.5555555555555556, \"#d8576b\"], [0.6666666666666666, \"#ed7953\"], [0.7777777777777778, \"#fb9f3a\"], [0.8888888888888888, \"#fdca26\"], [1.0, \"#f0f921\"]], \"type\": \"histogram2d\"}], \"histogram2dcontour\": [{\"colorbar\": {\"outlinewidth\": 0, \"ticks\": \"\"}, \"colorscale\": [[0.0, \"#0d0887\"], [0.1111111111111111, \"#46039f\"], [0.2222222222222222, \"#7201a8\"], [0.3333333333333333, \"#9c179e\"], [0.4444444444444444, \"#bd3786\"], [0.5555555555555556, \"#d8576b\"], [0.6666666666666666, \"#ed7953\"], [0.7777777777777778, \"#fb9f3a\"], [0.8888888888888888, \"#fdca26\"], [1.0, \"#f0f921\"]], \"type\": \"histogram2dcontour\"}], \"mesh3d\": [{\"colorbar\": {\"outlinewidth\": 0, \"ticks\": \"\"}, \"type\": \"mesh3d\"}], \"parcoords\": [{\"line\": {\"colorbar\": {\"outlinewidth\": 0, \"ticks\": \"\"}}, \"type\": \"parcoords\"}], \"pie\": [{\"automargin\": true, \"type\": \"pie\"}], \"scatter\": [{\"marker\": {\"colorbar\": {\"outlinewidth\": 0, \"ticks\": \"\"}}, \"type\": \"scatter\"}], \"scatter3d\": [{\"line\": {\"colorbar\": {\"outlinewidth\": 0, \"ticks\": \"\"}}, \"marker\": {\"colorbar\": {\"outlinewidth\": 0, \"ticks\": \"\"}}, \"type\": \"scatter3d\"}], \"scattercarpet\": [{\"marker\": {\"colorbar\": {\"outlinewidth\": 0, \"ticks\": \"\"}}, \"type\": \"scattercarpet\"}], \"scattergeo\": [{\"marker\": {\"colorbar\": {\"outlinewidth\": 0, \"ticks\": \"\"}}, \"type\": \"scattergeo\"}], \"scattergl\": [{\"marker\": {\"colorbar\": {\"outlinewidth\": 0, \"ticks\": \"\"}}, \"type\": \"scattergl\"}], \"scattermapbox\": [{\"marker\": {\"colorbar\": {\"outlinewidth\": 0, \"ticks\": \"\"}}, \"type\": \"scattermapbox\"}], \"scatterpolar\": [{\"marker\": {\"colorbar\": {\"outlinewidth\": 0, \"ticks\": \"\"}}, \"type\": \"scatterpolar\"}], \"scatterpolargl\": [{\"marker\": {\"colorbar\": {\"outlinewidth\": 0, \"ticks\": \"\"}}, \"type\": \"scatterpolargl\"}], \"scatterternary\": [{\"marker\": {\"colorbar\": {\"outlinewidth\": 0, \"ticks\": \"\"}}, \"type\": \"scatterternary\"}], \"surface\": [{\"colorbar\": {\"outlinewidth\": 0, \"ticks\": \"\"}, \"colorscale\": [[0.0, \"#0d0887\"], [0.1111111111111111, \"#46039f\"], [0.2222222222222222, \"#7201a8\"], [0.3333333333333333, \"#9c179e\"], [0.4444444444444444, \"#bd3786\"], [0.5555555555555556, \"#d8576b\"], [0.6666666666666666, \"#ed7953\"], [0.7777777777777778, \"#fb9f3a\"], [0.8888888888888888, \"#fdca26\"], [1.0, \"#f0f921\"]], \"type\": \"surface\"}], \"table\": [{\"cells\": {\"fill\": {\"color\": \"#EBF0F8\"}, \"line\": {\"color\": \"white\"}}, \"header\": {\"fill\": {\"color\": \"#C8D4E3\"}, \"line\": {\"color\": \"white\"}}, \"type\": \"table\"}]}, \"layout\": {\"annotationdefaults\": {\"arrowcolor\": \"#2a3f5f\", \"arrowhead\": 0, \"arrowwidth\": 1}, \"autotypenumbers\": \"strict\", \"coloraxis\": {\"colorbar\": {\"outlinewidth\": 0, \"ticks\": \"\"}}, \"colorscale\": {\"diverging\": [[0, \"#8e0152\"], [0.1, \"#c51b7d\"], [0.2, \"#de77ae\"], [0.3, \"#f1b6da\"], [0.4, \"#fde0ef\"], [0.5, \"#f7f7f7\"], [0.6, \"#e6f5d0\"], [0.7, \"#b8e186\"], [0.8, \"#7fbc41\"], [0.9, \"#4d9221\"], [1, \"#276419\"]], \"sequential\": [[0.0, \"#0d0887\"], [0.1111111111111111, \"#46039f\"], [0.2222222222222222, \"#7201a8\"], [0.3333333333333333, \"#9c179e\"], [0.4444444444444444, \"#bd3786\"], [0.5555555555555556, \"#d8576b\"], [0.6666666666666666, \"#ed7953\"], [0.7777777777777778, \"#fb9f3a\"], [0.8888888888888888, \"#fdca26\"], [1.0, \"#f0f921\"]], \"sequentialminus\": [[0.0, \"#0d0887\"], [0.1111111111111111, \"#46039f\"], [0.2222222222222222, \"#7201a8\"], [0.3333333333333333, \"#9c179e\"], [0.4444444444444444, \"#bd3786\"], [0.5555555555555556, \"#d8576b\"], [0.6666666666666666, \"#ed7953\"], [0.7777777777777778, \"#fb9f3a\"], [0.8888888888888888, \"#fdca26\"], [1.0, \"#f0f921\"]]}, \"colorway\": [\"#636efa\", \"#EF553B\", \"#00cc96\", \"#ab63fa\", \"#FFA15A\", \"#19d3f3\", \"#FF6692\", \"#B6E880\", \"#FF97FF\", \"#FECB52\"], \"font\": {\"color\": \"#2a3f5f\"}, \"geo\": {\"bgcolor\": \"white\", \"lakecolor\": \"white\", \"landcolor\": \"#E5ECF6\", \"showlakes\": true, \"showland\": true, \"subunitcolor\": \"white\"}, \"hoverlabel\": {\"align\": \"left\"}, \"hovermode\": \"closest\", \"mapbox\": {\"style\": \"light\"}, \"paper_bgcolor\": \"white\", \"plot_bgcolor\": \"#E5ECF6\", \"polar\": {\"angularaxis\": {\"gridcolor\": \"white\", \"linecolor\": \"white\", \"ticks\": \"\"}, \"bgcolor\": \"#E5ECF6\", \"radialaxis\": {\"gridcolor\": \"white\", \"linecolor\": \"white\", \"ticks\": \"\"}}, \"scene\": {\"xaxis\": {\"backgroundcolor\": \"#E5ECF6\", \"gridcolor\": \"white\", \"gridwidth\": 2, \"linecolor\": \"white\", \"showbackground\": true, \"ticks\": \"\", \"zerolinecolor\": \"white\"}, \"yaxis\": {\"backgroundcolor\": \"#E5ECF6\", \"gridcolor\": \"white\", \"gridwidth\": 2, \"linecolor\": \"white\", \"showbackground\": true, \"ticks\": \"\", \"zerolinecolor\": \"white\"}, \"zaxis\": {\"backgroundcolor\": \"#E5ECF6\", \"gridcolor\": \"white\", \"gridwidth\": 2, \"linecolor\": \"white\", \"showbackground\": true, \"ticks\": \"\", \"zerolinecolor\": \"white\"}}, \"shapedefaults\": {\"line\": {\"color\": \"#2a3f5f\"}}, \"ternary\": {\"aaxis\": {\"gridcolor\": \"white\", \"linecolor\": \"white\", \"ticks\": \"\"}, \"baxis\": {\"gridcolor\": \"white\", \"linecolor\": \"white\", \"ticks\": \"\"}, \"bgcolor\": \"#E5ECF6\", \"caxis\": {\"gridcolor\": \"white\", \"linecolor\": \"white\", \"ticks\": \"\"}}, \"title\": {\"x\": 0.05}, \"xaxis\": {\"automargin\": true, \"gridcolor\": \"white\", \"linecolor\": \"white\", \"ticks\": \"\", \"title\": {\"standoff\": 15}, \"zerolinecolor\": \"white\", \"zerolinewidth\": 2}, \"yaxis\": {\"automargin\": true, \"gridcolor\": \"white\", \"linecolor\": \"white\", \"ticks\": \"\", \"title\": {\"standoff\": 15}, \"zerolinecolor\": \"white\", \"zerolinewidth\": 2}}}},                        {\"responsive\": true}                    ).then(function(){\n",
       "                            \n",
       "var gd = document.getElementById('83861b07-9e95-428d-8d9e-b00b9b0e0709');\n",
       "var x = new MutationObserver(function (mutations, observer) {{\n",
       "        var display = window.getComputedStyle(gd).display;\n",
       "        if (!display || display === 'none') {{\n",
       "            console.log([gd, 'removed!']);\n",
       "            Plotly.purge(gd);\n",
       "            observer.disconnect();\n",
       "        }}\n",
       "}});\n",
       "\n",
       "// Listen for the removal of the full notebook cells\n",
       "var notebookContainer = gd.closest('#notebook-container');\n",
       "if (notebookContainer) {{\n",
       "    x.observe(notebookContainer, {childList: true});\n",
       "}}\n",
       "\n",
       "// Listen for the clearing of the current output cell\n",
       "var outputEl = gd.closest('.output');\n",
       "if (outputEl) {{\n",
       "    x.observe(outputEl, {childList: true});\n",
       "}}\n",
       "\n",
       "                        })                };                });            </script>        </div>"
      ]
     },
     "metadata": {},
     "output_type": "display_data"
    }
   ],
   "source": [
    "px.choropleth(last_year_counts,\n",
    "              locations=\"country\",\n",
    "              color=\"number_of_titles\",\n",
    "              hover_name=\"country\",\n",
    "              hover_data={\n",
    "                  \"country\": False,\n",
    "                  \"number_of_titles\": True,\n",
    "                  \"added_year\": False,\n",
    "              },\n",
    "              locationmode='country names',\n",
    "              color_continuous_scale='reds',\n",
    "              height=600)"
   ]
  },
  {
   "cell_type": "markdown",
   "metadata": {},
   "source": [
    "Now we can plot this data on a map and also use the `animation_frame` property to have it variable year."
   ]
  },
  {
   "cell_type": "code",
   "execution_count": 31,
   "metadata": {},
   "outputs": [
    {
     "data": {
      "application/vnd.plotly.v1+json": {
       "config": {
        "plotlyServerURL": "https://plot.ly"
       },
       "data": [
        {
         "coloraxis": "coloraxis",
         "customdata": [
          [
           "Australia",
           1,
           2008
          ],
          [
           "Japan",
           1,
           2008
          ],
          [
           "United Kingdom",
           1,
           2008
          ],
          [
           "United States",
           6,
           2008
          ],
          [
           "nan",
           1,
           2008
          ]
         ],
         "geo": "geo",
         "hovertemplate": "<b>%{hovertext}</b><br><br>number_of_titles=%{z}<extra></extra>",
         "hovertext": [
          "Australia",
          "Japan",
          "United Kingdom",
          "United States",
          "nan"
         ],
         "locationmode": "country names",
         "locations": [
          "Australia",
          "Japan",
          "United Kingdom",
          "United States",
          "nan"
         ],
         "name": "",
         "type": "choropleth",
         "z": [
          1,
          1,
          1,
          6,
          1
         ]
        }
       ],
       "frames": [
        {
         "data": [
          {
           "coloraxis": "coloraxis",
           "customdata": [
            [
             "Australia",
             1,
             2008
            ],
            [
             "Japan",
             1,
             2008
            ],
            [
             "United Kingdom",
             1,
             2008
            ],
            [
             "United States",
             6,
             2008
            ],
            [
             "nan",
             1,
             2008
            ]
           ],
           "geo": "geo",
           "hovertemplate": "<b>%{hovertext}</b><br><br>number_of_titles=%{z}<extra></extra>",
           "hovertext": [
            "Australia",
            "Japan",
            "United Kingdom",
            "United States",
            "nan"
           ],
           "locationmode": "country names",
           "locations": [
            "Australia",
            "Japan",
            "United Kingdom",
            "United States",
            "nan"
           ],
           "name": "",
           "type": "choropleth",
           "z": [
            1,
            1,
            1,
            6,
            1
           ]
          }
         ],
         "name": "2008"
        },
        {
         "data": [
          {
           "coloraxis": "coloraxis",
           "customdata": [
            [
             "Australia",
             1,
             2009
            ],
            [
             "Japan",
             1,
             2009
            ],
            [
             "United Kingdom",
             1,
             2009
            ],
            [
             "United States",
             8,
             2009
            ],
            [
             "nan",
             1,
             2009
            ]
           ],
           "geo": "geo",
           "hovertemplate": "<b>%{hovertext}</b><br><br>number_of_titles=%{z}<extra></extra>",
           "hovertext": [
            "Australia",
            "Japan",
            "United Kingdom",
            "United States",
            "nan"
           ],
           "locationmode": "country names",
           "locations": [
            "Australia",
            "Japan",
            "United Kingdom",
            "United States",
            "nan"
           ],
           "name": "",
           "type": "choropleth",
           "z": [
            1,
            1,
            1,
            8,
            1
           ]
          }
         ],
         "name": "2009"
        },
        {
         "data": [
          {
           "coloraxis": "coloraxis",
           "customdata": [
            [
             "Australia",
             1,
             2010
            ],
            [
             "Denmark",
             1,
             2010
            ],
            [
             "Japan",
             1,
             2010
            ],
            [
             "United Kingdom",
             1,
             2010
            ],
            [
             "United States",
             9,
             2010
            ],
            [
             "nan",
             1,
             2010
            ]
           ],
           "geo": "geo",
           "hovertemplate": "<b>%{hovertext}</b><br><br>number_of_titles=%{z}<extra></extra>",
           "hovertext": [
            "Australia",
            "Denmark",
            "Japan",
            "United Kingdom",
            "United States",
            "nan"
           ],
           "locationmode": "country names",
           "locations": [
            "Australia",
            "Denmark",
            "Japan",
            "United Kingdom",
            "United States",
            "nan"
           ],
           "name": "",
           "type": "choropleth",
           "z": [
            1,
            1,
            1,
            1,
            9,
            1
           ]
          }
         ],
         "name": "2010"
        },
        {
         "data": [
          {
           "coloraxis": "coloraxis",
           "customdata": [
            [
             "Australia",
             1,
             2011
            ],
            [
             "Denmark",
             1,
             2011
            ],
            [
             "Japan",
             1,
             2011
            ],
            [
             "United Kingdom",
             1,
             2011
            ],
            [
             "United States",
             10,
             2011
            ],
            [
             "nan",
             1,
             2011
            ]
           ],
           "geo": "geo",
           "hovertemplate": "<b>%{hovertext}</b><br><br>number_of_titles=%{z}<extra></extra>",
           "hovertext": [
            "Australia",
            "Denmark",
            "Japan",
            "United Kingdom",
            "United States",
            "nan"
           ],
           "locationmode": "country names",
           "locations": [
            "Australia",
            "Denmark",
            "Japan",
            "United Kingdom",
            "United States",
            "nan"
           ],
           "name": "",
           "type": "choropleth",
           "z": [
            1,
            1,
            1,
            1,
            10,
            1
           ]
          }
         ],
         "name": "2011"
        },
        {
         "data": [
          {
           "coloraxis": "coloraxis",
           "customdata": [
            [
             "Australia",
             1,
             2012
            ],
            [
             "Denmark",
             1,
             2012
            ],
            [
             "France",
             1,
             2012
            ],
            [
             "Japan",
             1,
             2012
            ],
            [
             "Mexico",
             1,
             2012
            ],
            [
             "Spain",
             1,
             2012
            ],
            [
             "United Kingdom",
             1,
             2012
            ],
            [
             "United States",
             22,
             2012
            ],
            [
             "nan",
             1,
             2012
            ]
           ],
           "geo": "geo",
           "hovertemplate": "<b>%{hovertext}</b><br><br>number_of_titles=%{z}<extra></extra>",
           "hovertext": [
            "Australia",
            "Denmark",
            "France",
            "Japan",
            "Mexico",
            "Spain",
            "United Kingdom",
            "United States",
            "nan"
           ],
           "locationmode": "country names",
           "locations": [
            "Australia",
            "Denmark",
            "France",
            "Japan",
            "Mexico",
            "Spain",
            "United Kingdom",
            "United States",
            "nan"
           ],
           "name": "",
           "type": "choropleth",
           "z": [
            1,
            1,
            1,
            1,
            1,
            1,
            1,
            22,
            1
           ]
          }
         ],
         "name": "2012"
        },
        {
         "data": [
          {
           "coloraxis": "coloraxis",
           "customdata": [
            [
             "Australia",
             1,
             2013
            ],
            [
             "Denmark",
             1,
             2013
            ],
            [
             "France",
             1,
             2013
            ],
            [
             "Japan",
             1,
             2013
            ],
            [
             "Mexico",
             2,
             2013
            ],
            [
             "Spain",
             1,
             2013
            ],
            [
             "United Kingdom",
             1,
             2013
            ],
            [
             "United States",
             25,
             2013
            ],
            [
             "nan",
             1,
             2013
            ]
           ],
           "geo": "geo",
           "hovertemplate": "<b>%{hovertext}</b><br><br>number_of_titles=%{z}<extra></extra>",
           "hovertext": [
            "Australia",
            "Denmark",
            "France",
            "Japan",
            "Mexico",
            "Spain",
            "United Kingdom",
            "United States",
            "nan"
           ],
           "locationmode": "country names",
           "locations": [
            "Australia",
            "Denmark",
            "France",
            "Japan",
            "Mexico",
            "Spain",
            "United Kingdom",
            "United States",
            "nan"
           ],
           "name": "",
           "type": "choropleth",
           "z": [
            1,
            1,
            1,
            1,
            2,
            1,
            1,
            25,
            1
           ]
          }
         ],
         "name": "2013"
        },
        {
         "data": [
          {
           "coloraxis": "coloraxis",
           "customdata": [
            [
             "Australia",
             1,
             2014
            ],
            [
             "Canada",
             1,
             2014
            ],
            [
             "Denmark",
             1,
             2014
            ],
            [
             "France",
             1,
             2014
            ],
            [
             "Ireland",
             1,
             2014
            ],
            [
             "Japan",
             1,
             2014
            ],
            [
             "Mexico",
             2,
             2014
            ],
            [
             "Spain",
             1,
             2014
            ],
            [
             "United Kingdom",
             2,
             2014
            ],
            [
             "United States",
             35,
             2014
            ],
            [
             "nan",
             1,
             2014
            ]
           ],
           "geo": "geo",
           "hovertemplate": "<b>%{hovertext}</b><br><br>number_of_titles=%{z}<extra></extra>",
           "hovertext": [
            "Australia",
            "Canada",
            "Denmark",
            "France",
            "Ireland",
            "Japan",
            "Mexico",
            "Spain",
            "United Kingdom",
            "United States",
            "nan"
           ],
           "locationmode": "country names",
           "locations": [
            "Australia",
            "Canada",
            "Denmark",
            "France",
            "Ireland",
            "Japan",
            "Mexico",
            "Spain",
            "United Kingdom",
            "United States",
            "nan"
           ],
           "name": "",
           "type": "choropleth",
           "z": [
            1,
            1,
            1,
            1,
            1,
            1,
            2,
            1,
            2,
            35,
            1
           ]
          }
         ],
         "name": "2014"
        },
        {
         "data": [
          {
           "coloraxis": "coloraxis",
           "customdata": [
            [
             "",
             1,
             2015
            ],
            [
             "Australia",
             1,
             2015
            ],
            [
             "Bermuda",
             1,
             2015
            ],
            [
             "Canada",
             5,
             2015
            ],
            [
             "Denmark",
             1,
             2015
            ],
            [
             "Ecuador",
             1,
             2015
            ],
            [
             "Egypt",
             1,
             2015
            ],
            [
             "France",
             1,
             2015
            ],
            [
             "Hungary",
             1,
             2015
            ],
            [
             "Ireland",
             2,
             2015
            ],
            [
             "Japan",
             1,
             2015
            ],
            [
             "Mexico",
             2,
             2015
            ],
            [
             "Norway",
             1,
             2015
            ],
            [
             "Spain",
             1,
             2015
            ],
            [
             "United Kingdom",
             5,
             2015
            ],
            [
             "United States",
             58,
             2015
            ],
            [
             "nan",
             1,
             2015
            ]
           ],
           "geo": "geo",
           "hovertemplate": "<b>%{hovertext}</b><br><br>number_of_titles=%{z}<extra></extra>",
           "hovertext": [
            "",
            "Australia",
            "Bermuda",
            "Canada",
            "Denmark",
            "Ecuador",
            "Egypt",
            "France",
            "Hungary",
            "Ireland",
            "Japan",
            "Mexico",
            "Norway",
            "Spain",
            "United Kingdom",
            "United States",
            "nan"
           ],
           "locationmode": "country names",
           "locations": [
            "",
            "Australia",
            "Bermuda",
            "Canada",
            "Denmark",
            "Ecuador",
            "Egypt",
            "France",
            "Hungary",
            "Ireland",
            "Japan",
            "Mexico",
            "Norway",
            "Spain",
            "United Kingdom",
            "United States",
            "nan"
           ],
           "name": "",
           "type": "choropleth",
           "z": [
            1,
            1,
            1,
            5,
            1,
            1,
            1,
            1,
            1,
            2,
            1,
            2,
            1,
            1,
            5,
            58,
            1
           ]
          }
         ],
         "name": "2015"
        },
        {
         "data": [
          {
           "coloraxis": "coloraxis",
           "customdata": [
            [
             "",
             1,
             2016
            ],
            [
             "Australia",
             6,
             2016
            ],
            [
             "Belgium",
             3,
             2016
            ],
            [
             "Bermuda",
             1,
             2016
            ],
            [
             "Canada",
             13,
             2016
            ],
            [
             "China",
             1,
             2016
            ],
            [
             "Denmark",
             1,
             2016
            ],
            [
             "Ecuador",
             1,
             2016
            ],
            [
             "Egypt",
             1,
             2016
            ],
            [
             "France",
             10,
             2016
            ],
            [
             "Germany",
             2,
             2016
            ],
            [
             "Hungary",
             1,
             2016
            ],
            [
             "Ireland",
             4,
             2016
            ],
            [
             "Italy",
             3,
             2016
            ],
            [
             "Japan",
             2,
             2016
            ],
            [
             "Mexico",
             3,
             2016
            ],
            [
             "New Zealand",
             2,
             2016
            ],
            [
             "Nigeria",
             1,
             2016
            ],
            [
             "Norway",
             2,
             2016
            ],
            [
             "Spain",
             1,
             2016
            ],
            [
             "Ukraine",
             1,
             2016
            ],
            [
             "United Kingdom",
             13,
             2016
            ],
            [
             "United States",
             118,
             2016
            ],
            [
             "nan",
             6,
             2016
            ]
           ],
           "geo": "geo",
           "hovertemplate": "<b>%{hovertext}</b><br><br>number_of_titles=%{z}<extra></extra>",
           "hovertext": [
            "",
            "Australia",
            "Belgium",
            "Bermuda",
            "Canada",
            "China",
            "Denmark",
            "Ecuador",
            "Egypt",
            "France",
            "Germany",
            "Hungary",
            "Ireland",
            "Italy",
            "Japan",
            "Mexico",
            "New Zealand",
            "Nigeria",
            "Norway",
            "Spain",
            "Ukraine",
            "United Kingdom",
            "United States",
            "nan"
           ],
           "locationmode": "country names",
           "locations": [
            "",
            "Australia",
            "Belgium",
            "Bermuda",
            "Canada",
            "China",
            "Denmark",
            "Ecuador",
            "Egypt",
            "France",
            "Germany",
            "Hungary",
            "Ireland",
            "Italy",
            "Japan",
            "Mexico",
            "New Zealand",
            "Nigeria",
            "Norway",
            "Spain",
            "Ukraine",
            "United Kingdom",
            "United States",
            "nan"
           ],
           "name": "",
           "type": "choropleth",
           "z": [
            1,
            6,
            3,
            1,
            13,
            1,
            1,
            1,
            1,
            10,
            2,
            1,
            4,
            3,
            2,
            3,
            2,
            1,
            2,
            1,
            1,
            13,
            118,
            6
           ]
          }
         ],
         "name": "2016"
        },
        {
         "data": [
          {
           "coloraxis": "coloraxis",
           "customdata": [
            [
             "",
             1,
             2017
            ],
            [
             "Argentina",
             3,
             2017
            ],
            [
             "Australia",
             15,
             2017
            ],
            [
             "Austria",
             1,
             2017
            ],
            [
             "Azerbaijan",
             1,
             2017
            ],
            [
             "Belgium",
             7,
             2017
            ],
            [
             "Bermuda",
             1,
             2017
            ],
            [
             "Brazil",
             2,
             2017
            ],
            [
             "Canada",
             44,
             2017
            ],
            [
             "Chile",
             2,
             2017
            ],
            [
             "China",
             10,
             2017
            ],
            [
             "Colombia",
             2,
             2017
            ],
            [
             "Croatia",
             1,
             2017
            ],
            [
             "Cuba",
             1,
             2017
            ],
            [
             "Denmark",
             8,
             2017
            ],
            [
             "Ecuador",
             1,
             2017
            ],
            [
             "Egypt",
             1,
             2017
            ],
            [
             "Finland",
             1,
             2017
            ],
            [
             "France",
             39,
             2017
            ],
            [
             "Germany",
             16,
             2017
            ],
            [
             "Greece",
             5,
             2017
            ],
            [
             "Hong Kong",
             4,
             2017
            ],
            [
             "Hungary",
             2,
             2017
            ],
            [
             "Iceland",
             1,
             2017
            ],
            [
             "India",
             14,
             2017
            ],
            [
             "Indonesia",
             1,
             2017
            ],
            [
             "Ireland",
             8,
             2017
            ],
            [
             "Israel",
             3,
             2017
            ],
            [
             "Italy",
             6,
             2017
            ],
            [
             "Japan",
             33,
             2017
            ],
            [
             "Jordan",
             1,
             2017
            ],
            [
             "Kazakhstan",
             1,
             2017
            ],
            [
             "Mexico",
             12,
             2017
            ],
            [
             "Montenegro",
             1,
             2017
            ],
            [
             "Netherlands",
             8,
             2017
            ],
            [
             "New Zealand",
             6,
             2017
            ],
            [
             "Nigeria",
             2,
             2017
            ],
            [
             "Norway",
             7,
             2017
            ],
            [
             "Pakistan",
             4,
             2017
            ],
            [
             "Peru",
             3,
             2017
            ],
            [
             "Poland",
             1,
             2017
            ],
            [
             "Qatar",
             1,
             2017
            ],
            [
             "Russia",
             2,
             2017
            ],
            [
             "Serbia",
             1,
             2017
            ],
            [
             "Slovenia",
             1,
             2017
            ],
            [
             "South Africa",
             2,
             2017
            ],
            [
             "South Korea",
             11,
             2017
            ],
            [
             "Spain",
             18,
             2017
            ],
            [
             "Sweden",
             2,
             2017
            ],
            [
             "Switzerland",
             1,
             2017
            ],
            [
             "Taiwan",
             29,
             2017
            ],
            [
             "Turkey",
             4,
             2017
            ],
            [
             "Ukraine",
             1,
             2017
            ],
            [
             "United Arab Emirates",
             1,
             2017
            ],
            [
             "United Kingdom",
             67,
             2017
            ],
            [
             "United States",
             322,
             2017
            ],
            [
             "Zimbabwe",
             1,
             2017
            ],
            [
             "nan",
             25,
             2017
            ]
           ],
           "geo": "geo",
           "hovertemplate": "<b>%{hovertext}</b><br><br>number_of_titles=%{z}<extra></extra>",
           "hovertext": [
            "",
            "Argentina",
            "Australia",
            "Austria",
            "Azerbaijan",
            "Belgium",
            "Bermuda",
            "Brazil",
            "Canada",
            "Chile",
            "China",
            "Colombia",
            "Croatia",
            "Cuba",
            "Denmark",
            "Ecuador",
            "Egypt",
            "Finland",
            "France",
            "Germany",
            "Greece",
            "Hong Kong",
            "Hungary",
            "Iceland",
            "India",
            "Indonesia",
            "Ireland",
            "Israel",
            "Italy",
            "Japan",
            "Jordan",
            "Kazakhstan",
            "Mexico",
            "Montenegro",
            "Netherlands",
            "New Zealand",
            "Nigeria",
            "Norway",
            "Pakistan",
            "Peru",
            "Poland",
            "Qatar",
            "Russia",
            "Serbia",
            "Slovenia",
            "South Africa",
            "South Korea",
            "Spain",
            "Sweden",
            "Switzerland",
            "Taiwan",
            "Turkey",
            "Ukraine",
            "United Arab Emirates",
            "United Kingdom",
            "United States",
            "Zimbabwe",
            "nan"
           ],
           "locationmode": "country names",
           "locations": [
            "",
            "Argentina",
            "Australia",
            "Austria",
            "Azerbaijan",
            "Belgium",
            "Bermuda",
            "Brazil",
            "Canada",
            "Chile",
            "China",
            "Colombia",
            "Croatia",
            "Cuba",
            "Denmark",
            "Ecuador",
            "Egypt",
            "Finland",
            "France",
            "Germany",
            "Greece",
            "Hong Kong",
            "Hungary",
            "Iceland",
            "India",
            "Indonesia",
            "Ireland",
            "Israel",
            "Italy",
            "Japan",
            "Jordan",
            "Kazakhstan",
            "Mexico",
            "Montenegro",
            "Netherlands",
            "New Zealand",
            "Nigeria",
            "Norway",
            "Pakistan",
            "Peru",
            "Poland",
            "Qatar",
            "Russia",
            "Serbia",
            "Slovenia",
            "South Africa",
            "South Korea",
            "Spain",
            "Sweden",
            "Switzerland",
            "Taiwan",
            "Turkey",
            "Ukraine",
            "United Arab Emirates",
            "United Kingdom",
            "United States",
            "Zimbabwe",
            "nan"
           ],
           "name": "",
           "type": "choropleth",
           "z": [
            1,
            3,
            15,
            1,
            1,
            7,
            1,
            2,
            44,
            2,
            10,
            2,
            1,
            1,
            8,
            1,
            1,
            1,
            39,
            16,
            5,
            4,
            2,
            1,
            14,
            1,
            8,
            3,
            6,
            33,
            1,
            1,
            12,
            1,
            8,
            6,
            2,
            7,
            4,
            3,
            1,
            1,
            2,
            1,
            1,
            2,
            11,
            18,
            2,
            1,
            29,
            4,
            1,
            1,
            67,
            322,
            1,
            25
           ]
          }
         ],
         "name": "2017"
        },
        {
         "data": [
          {
           "coloraxis": "coloraxis",
           "customdata": [
            [
             "",
             1,
             2018
            ],
            [
             "Afghanistan",
             1,
             2018
            ],
            [
             "Argentina",
             19,
             2018
            ],
            [
             "Armenia",
             1,
             2018
            ],
            [
             "Australia",
             39,
             2018
            ],
            [
             "Austria",
             3,
             2018
            ],
            [
             "Azerbaijan",
             1,
             2018
            ],
            [
             "Belgium",
             27,
             2018
            ],
            [
             "Bermuda",
             1,
             2018
            ],
            [
             "Brazil",
             18,
             2018
            ],
            [
             "Bulgaria",
             2,
             2018
            ],
            [
             "Cambodia",
             2,
             2018
            ],
            [
             "Canada",
             115,
             2018
            ],
            [
             "Chile",
             10,
             2018
            ],
            [
             "China",
             35,
             2018
            ],
            [
             "Colombia",
             7,
             2018
            ],
            [
             "Croatia",
             2,
             2018
            ],
            [
             "Cuba",
             1,
             2018
            ],
            [
             "Czech Republic",
             4,
             2018
            ],
            [
             "Denmark",
             13,
             2018
            ],
            [
             "Ecuador",
             1,
             2018
            ],
            [
             "Egypt",
             1,
             2018
            ],
            [
             "Finland",
             2,
             2018
            ],
            [
             "France",
             93,
             2018
            ],
            [
             "Georgia",
             1,
             2018
            ],
            [
             "Germany",
             49,
             2018
            ],
            [
             "Greece",
             7,
             2018
            ],
            [
             "Hong Kong",
             12,
             2018
            ],
            [
             "Hungary",
             2,
             2018
            ],
            [
             "Iceland",
             2,
             2018
            ],
            [
             "India",
             177,
             2018
            ],
            [
             "Indonesia",
             3,
             2018
            ],
            [
             "Iran",
             1,
             2018
            ],
            [
             "Ireland",
             15,
             2018
            ],
            [
             "Israel",
             9,
             2018
            ],
            [
             "Italy",
             23,
             2018
            ],
            [
             "Japan",
             78,
             2018
            ],
            [
             "Jordan",
             4,
             2018
            ],
            [
             "Kazakhstan",
             1,
             2018
            ],
            [
             "Latvia",
             1,
             2018
            ],
            [
             "Lebanon",
             2,
             2018
            ],
            [
             "Lithuania",
             1,
             2018
            ],
            [
             "Malaysia",
             8,
             2018
            ],
            [
             "Mexico",
             48,
             2018
            ],
            [
             "Mongolia",
             1,
             2018
            ],
            [
             "Montenegro",
             1,
             2018
            ],
            [
             "Morocco",
             1,
             2018
            ],
            [
             "Nepal",
             1,
             2018
            ],
            [
             "Netherlands",
             16,
             2018
            ],
            [
             "New Zealand",
             9,
             2018
            ],
            [
             "Nicaragua",
             1,
             2018
            ],
            [
             "Nigeria",
             3,
             2018
            ],
            [
             "Norway",
             12,
             2018
            ],
            [
             "Pakistan",
             9,
             2018
            ],
            [
             "Panama",
             1,
             2018
            ],
            [
             "Peru",
             4,
             2018
            ],
            [
             "Philippines",
             1,
             2018
            ],
            [
             "Poland",
             2,
             2018
            ],
            [
             "Portugal",
             1,
             2018
            ],
            [
             "Qatar",
             5,
             2018
            ],
            [
             "Romania",
             1,
             2018
            ],
            [
             "Russia",
             10,
             2018
            ],
            [
             "Samoa",
             1,
             2018
            ],
            [
             "Saudi Arabia",
             1,
             2018
            ],
            [
             "Senegal",
             1,
             2018
            ],
            [
             "Serbia",
             1,
             2018
            ],
            [
             "Singapore",
             18,
             2018
            ],
            [
             "Slovakia",
             1,
             2018
            ],
            [
             "Slovenia",
             2,
             2018
            ],
            [
             "South Africa",
             7,
             2018
            ],
            [
             "South Korea",
             55,
             2018
            ],
            [
             "Soviet Union",
             2,
             2018
            ],
            [
             "Spain",
             61,
             2018
            ],
            [
             "Sri Lanka",
             1,
             2018
            ],
            [
             "Sweden",
             13,
             2018
            ],
            [
             "Switzerland",
             6,
             2018
            ],
            [
             "Taiwan",
             40,
             2018
            ],
            [
             "Thailand",
             3,
             2018
            ],
            [
             "Turkey",
             49,
             2018
            ],
            [
             "Ukraine",
             2,
             2018
            ],
            [
             "United Arab Emirates",
             5,
             2018
            ],
            [
             "United Kingdom",
             201,
             2018
            ],
            [
             "United States",
             793,
             2018
            ],
            [
             "Uruguay",
             5,
             2018
            ],
            [
             "Venezuela",
             2,
             2018
            ],
            [
             "Vietnam",
             1,
             2018
            ],
            [
             "West Germany",
             1,
             2018
            ],
            [
             "Zimbabwe",
             1,
             2018
            ],
            [
             "nan",
             91,
             2018
            ]
           ],
           "geo": "geo",
           "hovertemplate": "<b>%{hovertext}</b><br><br>number_of_titles=%{z}<extra></extra>",
           "hovertext": [
            "",
            "Afghanistan",
            "Argentina",
            "Armenia",
            "Australia",
            "Austria",
            "Azerbaijan",
            "Belgium",
            "Bermuda",
            "Brazil",
            "Bulgaria",
            "Cambodia",
            "Canada",
            "Chile",
            "China",
            "Colombia",
            "Croatia",
            "Cuba",
            "Czech Republic",
            "Denmark",
            "Ecuador",
            "Egypt",
            "Finland",
            "France",
            "Georgia",
            "Germany",
            "Greece",
            "Hong Kong",
            "Hungary",
            "Iceland",
            "India",
            "Indonesia",
            "Iran",
            "Ireland",
            "Israel",
            "Italy",
            "Japan",
            "Jordan",
            "Kazakhstan",
            "Latvia",
            "Lebanon",
            "Lithuania",
            "Malaysia",
            "Mexico",
            "Mongolia",
            "Montenegro",
            "Morocco",
            "Nepal",
            "Netherlands",
            "New Zealand",
            "Nicaragua",
            "Nigeria",
            "Norway",
            "Pakistan",
            "Panama",
            "Peru",
            "Philippines",
            "Poland",
            "Portugal",
            "Qatar",
            "Romania",
            "Russia",
            "Samoa",
            "Saudi Arabia",
            "Senegal",
            "Serbia",
            "Singapore",
            "Slovakia",
            "Slovenia",
            "South Africa",
            "South Korea",
            "Soviet Union",
            "Spain",
            "Sri Lanka",
            "Sweden",
            "Switzerland",
            "Taiwan",
            "Thailand",
            "Turkey",
            "Ukraine",
            "United Arab Emirates",
            "United Kingdom",
            "United States",
            "Uruguay",
            "Venezuela",
            "Vietnam",
            "West Germany",
            "Zimbabwe",
            "nan"
           ],
           "locationmode": "country names",
           "locations": [
            "",
            "Afghanistan",
            "Argentina",
            "Armenia",
            "Australia",
            "Austria",
            "Azerbaijan",
            "Belgium",
            "Bermuda",
            "Brazil",
            "Bulgaria",
            "Cambodia",
            "Canada",
            "Chile",
            "China",
            "Colombia",
            "Croatia",
            "Cuba",
            "Czech Republic",
            "Denmark",
            "Ecuador",
            "Egypt",
            "Finland",
            "France",
            "Georgia",
            "Germany",
            "Greece",
            "Hong Kong",
            "Hungary",
            "Iceland",
            "India",
            "Indonesia",
            "Iran",
            "Ireland",
            "Israel",
            "Italy",
            "Japan",
            "Jordan",
            "Kazakhstan",
            "Latvia",
            "Lebanon",
            "Lithuania",
            "Malaysia",
            "Mexico",
            "Mongolia",
            "Montenegro",
            "Morocco",
            "Nepal",
            "Netherlands",
            "New Zealand",
            "Nicaragua",
            "Nigeria",
            "Norway",
            "Pakistan",
            "Panama",
            "Peru",
            "Philippines",
            "Poland",
            "Portugal",
            "Qatar",
            "Romania",
            "Russia",
            "Samoa",
            "Saudi Arabia",
            "Senegal",
            "Serbia",
            "Singapore",
            "Slovakia",
            "Slovenia",
            "South Africa",
            "South Korea",
            "Soviet Union",
            "Spain",
            "Sri Lanka",
            "Sweden",
            "Switzerland",
            "Taiwan",
            "Thailand",
            "Turkey",
            "Ukraine",
            "United Arab Emirates",
            "United Kingdom",
            "United States",
            "Uruguay",
            "Venezuela",
            "Vietnam",
            "West Germany",
            "Zimbabwe",
            "nan"
           ],
           "name": "",
           "type": "choropleth",
           "z": [
            1,
            1,
            19,
            1,
            39,
            3,
            1,
            27,
            1,
            18,
            2,
            2,
            115,
            10,
            35,
            7,
            2,
            1,
            4,
            13,
            1,
            1,
            2,
            93,
            1,
            49,
            7,
            12,
            2,
            2,
            177,
            3,
            1,
            15,
            9,
            23,
            78,
            4,
            1,
            1,
            2,
            1,
            8,
            48,
            1,
            1,
            1,
            1,
            16,
            9,
            1,
            3,
            12,
            9,
            1,
            4,
            1,
            2,
            1,
            5,
            1,
            10,
            1,
            1,
            1,
            1,
            18,
            1,
            2,
            7,
            55,
            2,
            61,
            1,
            13,
            6,
            40,
            3,
            49,
            2,
            5,
            201,
            793,
            5,
            2,
            1,
            1,
            1,
            91
           ]
          }
         ],
         "name": "2018"
        },
        {
         "data": [
          {
           "coloraxis": "coloraxis",
           "customdata": [
            [
             "",
             2,
             2019
            ],
            [
             "Afghanistan",
             1,
             2019
            ],
            [
             "Albania",
             1,
             2019
            ],
            [
             "Argentina",
             46,
             2019
            ],
            [
             "Armenia",
             1,
             2019
            ],
            [
             "Australia",
             77,
             2019
            ],
            [
             "Austria",
             4,
             2019
            ],
            [
             "Azerbaijan",
             1,
             2019
            ],
            [
             "Bangladesh",
             1,
             2019
            ],
            [
             "Belgium",
             41,
             2019
            ],
            [
             "Bermuda",
             1,
             2019
            ],
            [
             "Brazil",
             38,
             2019
            ],
            [
             "Bulgaria",
             6,
             2019
            ],
            [
             "Cambodia",
             3,
             2019
            ],
            [
             "Canada",
             199,
             2019
            ],
            [
             "Cayman Islands",
             1,
             2019
            ],
            [
             "Chile",
             19,
             2019
            ],
            [
             "China",
             78,
             2019
            ],
            [
             "Colombia",
             22,
             2019
            ],
            [
             "Croatia",
             3,
             2019
            ],
            [
             "Cuba",
             1,
             2019
            ],
            [
             "Czech Republic",
             9,
             2019
            ],
            [
             "Denmark",
             23,
             2019
            ],
            [
             "Dominican Republic",
             1,
             2019
            ],
            [
             "Ecuador",
             1,
             2019
            ],
            [
             "Egypt",
             4,
             2019
            ],
            [
             "Finland",
             3,
             2019
            ],
            [
             "France",
             159,
             2019
            ],
            [
             "Georgia",
             2,
             2019
            ],
            [
             "Germany",
             83,
             2019
            ],
            [
             "Greece",
             8,
             2019
            ],
            [
             "Guatemala",
             1,
             2019
            ],
            [
             "Hong Kong",
             69,
             2019
            ],
            [
             "Hungary",
             4,
             2019
            ],
            [
             "Iceland",
             4,
             2019
            ],
            [
             "India",
             533,
             2019
            ],
            [
             "Indonesia",
             31,
             2019
            ],
            [
             "Iran",
             3,
             2019
            ],
            [
             "Iraq",
             1,
             2019
            ],
            [
             "Ireland",
             27,
             2019
            ],
            [
             "Israel",
             18,
             2019
            ],
            [
             "Italy",
             37,
             2019
            ],
            [
             "Japan",
             125,
             2019
            ],
            [
             "Jordan",
             5,
             2019
            ],
            [
             "Kazakhstan",
             1,
             2019
            ],
            [
             "Kenya",
             1,
             2019
            ],
            [
             "Kuwait",
             1,
             2019
            ],
            [
             "Latvia",
             1,
             2019
            ],
            [
             "Lebanon",
             4,
             2019
            ],
            [
             "Lithuania",
             1,
             2019
            ],
            [
             "Luxembourg",
             3,
             2019
            ],
            [
             "Malaysia",
             11,
             2019
            ],
            [
             "Mexico",
             79,
             2019
            ],
            [
             "Mongolia",
             1,
             2019
            ],
            [
             "Montenegro",
             1,
             2019
            ],
            [
             "Morocco",
             5,
             2019
            ],
            [
             "Namibia",
             1,
             2019
            ],
            [
             "Nepal",
             1,
             2019
            ],
            [
             "Netherlands",
             26,
             2019
            ],
            [
             "New Zealand",
             15,
             2019
            ],
            [
             "Nicaragua",
             1,
             2019
            ],
            [
             "Nigeria",
             4,
             2019
            ],
            [
             "Norway",
             15,
             2019
            ],
            [
             "Pakistan",
             14,
             2019
            ],
            [
             "Panama",
             1,
             2019
            ],
            [
             "Peru",
             7,
             2019
            ],
            [
             "Philippines",
             7,
             2019
            ],
            [
             "Poland",
             9,
             2019
            ],
            [
             "Portugal",
             3,
             2019
            ],
            [
             "Qatar",
             7,
             2019
            ],
            [
             "Romania",
             1,
             2019
            ],
            [
             "Russia",
             16,
             2019
            ],
            [
             "Samoa",
             1,
             2019
            ],
            [
             "Saudi Arabia",
             2,
             2019
            ],
            [
             "Senegal",
             1,
             2019
            ],
            [
             "Serbia",
             4,
             2019
            ],
            [
             "Singapore",
             26,
             2019
            ],
            [
             "Slovakia",
             1,
             2019
            ],
            [
             "Slovenia",
             3,
             2019
            ],
            [
             "Somalia",
             1,
             2019
            ],
            [
             "South Africa",
             20,
             2019
            ],
            [
             "South Korea",
             88,
             2019
            ],
            [
             "Soviet Union",
             3,
             2019
            ],
            [
             "Spain",
             105,
             2019
            ],
            [
             "Sri Lanka",
             1,
             2019
            ],
            [
             "Sudan",
             1,
             2019
            ],
            [
             "Sweden",
             23,
             2019
            ],
            [
             "Switzerland",
             10,
             2019
            ],
            [
             "Syria",
             1,
             2019
            ],
            [
             "Taiwan",
             49,
             2019
            ],
            [
             "Thailand",
             36,
             2019
            ],
            [
             "Turkey",
             55,
             2019
            ],
            [
             "Uganda",
             1,
             2019
            ],
            [
             "Ukraine",
             3,
             2019
            ],
            [
             "United Arab Emirates",
             11,
             2019
            ],
            [
             "United Kingdom",
             349,
             2019
            ],
            [
             "United States",
             1409,
             2019
            ],
            [
             "Uruguay",
             6,
             2019
            ],
            [
             "Venezuela",
             3,
             2019
            ],
            [
             "Vietnam",
             3,
             2019
            ],
            [
             "West Germany",
             2,
             2019
            ],
            [
             "Zimbabwe",
             2,
             2019
            ],
            [
             "nan",
             213,
             2019
            ]
           ],
           "geo": "geo",
           "hovertemplate": "<b>%{hovertext}</b><br><br>number_of_titles=%{z}<extra></extra>",
           "hovertext": [
            "",
            "Afghanistan",
            "Albania",
            "Argentina",
            "Armenia",
            "Australia",
            "Austria",
            "Azerbaijan",
            "Bangladesh",
            "Belgium",
            "Bermuda",
            "Brazil",
            "Bulgaria",
            "Cambodia",
            "Canada",
            "Cayman Islands",
            "Chile",
            "China",
            "Colombia",
            "Croatia",
            "Cuba",
            "Czech Republic",
            "Denmark",
            "Dominican Republic",
            "Ecuador",
            "Egypt",
            "Finland",
            "France",
            "Georgia",
            "Germany",
            "Greece",
            "Guatemala",
            "Hong Kong",
            "Hungary",
            "Iceland",
            "India",
            "Indonesia",
            "Iran",
            "Iraq",
            "Ireland",
            "Israel",
            "Italy",
            "Japan",
            "Jordan",
            "Kazakhstan",
            "Kenya",
            "Kuwait",
            "Latvia",
            "Lebanon",
            "Lithuania",
            "Luxembourg",
            "Malaysia",
            "Mexico",
            "Mongolia",
            "Montenegro",
            "Morocco",
            "Namibia",
            "Nepal",
            "Netherlands",
            "New Zealand",
            "Nicaragua",
            "Nigeria",
            "Norway",
            "Pakistan",
            "Panama",
            "Peru",
            "Philippines",
            "Poland",
            "Portugal",
            "Qatar",
            "Romania",
            "Russia",
            "Samoa",
            "Saudi Arabia",
            "Senegal",
            "Serbia",
            "Singapore",
            "Slovakia",
            "Slovenia",
            "Somalia",
            "South Africa",
            "South Korea",
            "Soviet Union",
            "Spain",
            "Sri Lanka",
            "Sudan",
            "Sweden",
            "Switzerland",
            "Syria",
            "Taiwan",
            "Thailand",
            "Turkey",
            "Uganda",
            "Ukraine",
            "United Arab Emirates",
            "United Kingdom",
            "United States",
            "Uruguay",
            "Venezuela",
            "Vietnam",
            "West Germany",
            "Zimbabwe",
            "nan"
           ],
           "locationmode": "country names",
           "locations": [
            "",
            "Afghanistan",
            "Albania",
            "Argentina",
            "Armenia",
            "Australia",
            "Austria",
            "Azerbaijan",
            "Bangladesh",
            "Belgium",
            "Bermuda",
            "Brazil",
            "Bulgaria",
            "Cambodia",
            "Canada",
            "Cayman Islands",
            "Chile",
            "China",
            "Colombia",
            "Croatia",
            "Cuba",
            "Czech Republic",
            "Denmark",
            "Dominican Republic",
            "Ecuador",
            "Egypt",
            "Finland",
            "France",
            "Georgia",
            "Germany",
            "Greece",
            "Guatemala",
            "Hong Kong",
            "Hungary",
            "Iceland",
            "India",
            "Indonesia",
            "Iran",
            "Iraq",
            "Ireland",
            "Israel",
            "Italy",
            "Japan",
            "Jordan",
            "Kazakhstan",
            "Kenya",
            "Kuwait",
            "Latvia",
            "Lebanon",
            "Lithuania",
            "Luxembourg",
            "Malaysia",
            "Mexico",
            "Mongolia",
            "Montenegro",
            "Morocco",
            "Namibia",
            "Nepal",
            "Netherlands",
            "New Zealand",
            "Nicaragua",
            "Nigeria",
            "Norway",
            "Pakistan",
            "Panama",
            "Peru",
            "Philippines",
            "Poland",
            "Portugal",
            "Qatar",
            "Romania",
            "Russia",
            "Samoa",
            "Saudi Arabia",
            "Senegal",
            "Serbia",
            "Singapore",
            "Slovakia",
            "Slovenia",
            "Somalia",
            "South Africa",
            "South Korea",
            "Soviet Union",
            "Spain",
            "Sri Lanka",
            "Sudan",
            "Sweden",
            "Switzerland",
            "Syria",
            "Taiwan",
            "Thailand",
            "Turkey",
            "Uganda",
            "Ukraine",
            "United Arab Emirates",
            "United Kingdom",
            "United States",
            "Uruguay",
            "Venezuela",
            "Vietnam",
            "West Germany",
            "Zimbabwe",
            "nan"
           ],
           "name": "",
           "type": "choropleth",
           "z": [
            2,
            1,
            1,
            46,
            1,
            77,
            4,
            1,
            1,
            41,
            1,
            38,
            6,
            3,
            199,
            1,
            19,
            78,
            22,
            3,
            1,
            9,
            23,
            1,
            1,
            4,
            3,
            159,
            2,
            83,
            8,
            1,
            69,
            4,
            4,
            533,
            31,
            3,
            1,
            27,
            18,
            37,
            125,
            5,
            1,
            1,
            1,
            1,
            4,
            1,
            3,
            11,
            79,
            1,
            1,
            5,
            1,
            1,
            26,
            15,
            1,
            4,
            15,
            14,
            1,
            7,
            7,
            9,
            3,
            7,
            1,
            16,
            1,
            2,
            1,
            4,
            26,
            1,
            3,
            1,
            20,
            88,
            3,
            105,
            1,
            1,
            23,
            10,
            1,
            49,
            36,
            55,
            1,
            3,
            11,
            349,
            1409,
            6,
            3,
            3,
            2,
            2,
            213
           ]
          }
         ],
         "name": "2019"
        },
        {
         "data": [
          {
           "coloraxis": "coloraxis",
           "customdata": [
            [
             "",
             3,
             2020
            ],
            [
             "Afghanistan",
             1,
             2020
            ],
            [
             "Albania",
             1,
             2020
            ],
            [
             "Argentina",
             66,
             2020
            ],
            [
             "Armenia",
             1,
             2020
            ],
            [
             "Australia",
             113,
             2020
            ],
            [
             "Austria",
             8,
             2020
            ],
            [
             "Azerbaijan",
             1,
             2020
            ],
            [
             "Bangladesh",
             3,
             2020
            ],
            [
             "Belgium",
             61,
             2020
            ],
            [
             "Bermuda",
             1,
             2020
            ],
            [
             "Brazil",
             60,
             2020
            ],
            [
             "Bulgaria",
             8,
             2020
            ],
            [
             "Cambodia",
             4,
             2020
            ],
            [
             "Canada",
             289,
             2020
            ],
            [
             "Cayman Islands",
             1,
             2020
            ],
            [
             "Chile",
             21,
             2020
            ],
            [
             "China",
             120,
             2020
            ],
            [
             "Colombia",
             35,
             2020
            ],
            [
             "Croatia",
             4,
             2020
            ],
            [
             "Cuba",
             1,
             2020
            ],
            [
             "Czech Republic",
             15,
             2020
            ],
            [
             "Denmark",
             35,
             2020
            ],
            [
             "Dominican Republic",
             1,
             2020
            ],
            [
             "Ecuador",
             1,
             2020
            ],
            [
             "Egypt",
             58,
             2020
            ],
            [
             "Finland",
             7,
             2020
            ],
            [
             "France",
             243,
             2020
            ],
            [
             "Georgia",
             2,
             2020
            ],
            [
             "Germany",
             132,
             2020
            ],
            [
             "Ghana",
             2,
             2020
            ],
            [
             "Greece",
             8,
             2020
            ],
            [
             "Guatemala",
             2,
             2020
            ],
            [
             "Hong Kong",
             94,
             2020
            ],
            [
             "Hungary",
             6,
             2020
            ],
            [
             "Iceland",
             5,
             2020
            ],
            [
             "India",
             774,
             2020
            ],
            [
             "Indonesia",
             49,
             2020
            ],
            [
             "Iran",
             4,
             2020
            ],
            [
             "Iraq",
             2,
             2020
            ],
            [
             "Ireland",
             31,
             2020
            ],
            [
             "Israel",
             24,
             2020
            ],
            [
             "Italy",
             58,
             2020
            ],
            [
             "Japan",
             203,
             2020
            ],
            [
             "Jordan",
             6,
             2020
            ],
            [
             "Kazakhstan",
             1,
             2020
            ],
            [
             "Kenya",
             1,
             2020
            ],
            [
             "Kuwait",
             2,
             2020
            ],
            [
             "Latvia",
             1,
             2020
            ],
            [
             "Lebanon",
             8,
             2020
            ],
            [
             "Liechtenstein",
             1,
             2020
            ],
            [
             "Lithuania",
             1,
             2020
            ],
            [
             "Luxembourg",
             7,
             2020
            ],
            [
             "Malawi",
             1,
             2020
            ],
            [
             "Malaysia",
             20,
             2020
            ],
            [
             "Mauritius",
             1,
             2020
            ],
            [
             "Mexico",
             120,
             2020
            ],
            [
             "Mongolia",
             1,
             2020
            ],
            [
             "Montenegro",
             1,
             2020
            ],
            [
             "Morocco",
             6,
             2020
            ],
            [
             "Namibia",
             1,
             2020
            ],
            [
             "Nepal",
             2,
             2020
            ],
            [
             "Netherlands",
             34,
             2020
            ],
            [
             "New Zealand",
             20,
             2020
            ],
            [
             "Nicaragua",
             1,
             2020
            ],
            [
             "Nigeria",
             34,
             2020
            ],
            [
             "Norway",
             18,
             2020
            ],
            [
             "Pakistan",
             23,
             2020
            ],
            [
             "Panama",
             1,
             2020
            ],
            [
             "Paraguay",
             1,
             2020
            ],
            [
             "Peru",
             9,
             2020
            ],
            [
             "Philippines",
             46,
             2020
            ],
            [
             "Poland",
             25,
             2020
            ],
            [
             "Portugal",
             4,
             2020
            ],
            [
             "Qatar",
             7,
             2020
            ],
            [
             "Romania",
             7,
             2020
            ],
            [
             "Russia",
             20,
             2020
            ],
            [
             "Samoa",
             1,
             2020
            ],
            [
             "Saudi Arabia",
             2,
             2020
            ],
            [
             "Senegal",
             2,
             2020
            ],
            [
             "Serbia",
             5,
             2020
            ],
            [
             "Singapore",
             35,
             2020
            ],
            [
             "Slovakia",
             1,
             2020
            ],
            [
             "Slovenia",
             3,
             2020
            ],
            [
             "Somalia",
             1,
             2020
            ],
            [
             "South Africa",
             30,
             2020
            ],
            [
             "South Korea",
             153,
             2020
            ],
            [
             "Soviet Union",
             3,
             2020
            ],
            [
             "Spain",
             164,
             2020
            ],
            [
             "Sri Lanka",
             1,
             2020
            ],
            [
             "Sudan",
             1,
             2020
            ],
            [
             "Sweden",
             34,
             2020
            ],
            [
             "Switzerland",
             14,
             2020
            ],
            [
             "Syria",
             1,
             2020
            ],
            [
             "Taiwan",
             73,
             2020
            ],
            [
             "Thailand",
             56,
             2020
            ],
            [
             "Turkey",
             78,
             2020
            ],
            [
             "Uganda",
             1,
             2020
            ],
            [
             "Ukraine",
             3,
             2020
            ],
            [
             "United Arab Emirates",
             19,
             2020
            ],
            [
             "United Kingdom",
             548,
             2020
            ],
            [
             "United States",
             2335,
             2020
            ],
            [
             "Uruguay",
             11,
             2020
            ],
            [
             "Vatican City",
             1,
             2020
            ],
            [
             "Venezuela",
             3,
             2020
            ],
            [
             "Vietnam",
             4,
             2020
            ],
            [
             "West Germany",
             4,
             2020
            ],
            [
             "Zimbabwe",
             2,
             2020
            ],
            [
             "nan",
             373,
             2020
            ]
           ],
           "geo": "geo",
           "hovertemplate": "<b>%{hovertext}</b><br><br>number_of_titles=%{z}<extra></extra>",
           "hovertext": [
            "",
            "Afghanistan",
            "Albania",
            "Argentina",
            "Armenia",
            "Australia",
            "Austria",
            "Azerbaijan",
            "Bangladesh",
            "Belgium",
            "Bermuda",
            "Brazil",
            "Bulgaria",
            "Cambodia",
            "Canada",
            "Cayman Islands",
            "Chile",
            "China",
            "Colombia",
            "Croatia",
            "Cuba",
            "Czech Republic",
            "Denmark",
            "Dominican Republic",
            "Ecuador",
            "Egypt",
            "Finland",
            "France",
            "Georgia",
            "Germany",
            "Ghana",
            "Greece",
            "Guatemala",
            "Hong Kong",
            "Hungary",
            "Iceland",
            "India",
            "Indonesia",
            "Iran",
            "Iraq",
            "Ireland",
            "Israel",
            "Italy",
            "Japan",
            "Jordan",
            "Kazakhstan",
            "Kenya",
            "Kuwait",
            "Latvia",
            "Lebanon",
            "Liechtenstein",
            "Lithuania",
            "Luxembourg",
            "Malawi",
            "Malaysia",
            "Mauritius",
            "Mexico",
            "Mongolia",
            "Montenegro",
            "Morocco",
            "Namibia",
            "Nepal",
            "Netherlands",
            "New Zealand",
            "Nicaragua",
            "Nigeria",
            "Norway",
            "Pakistan",
            "Panama",
            "Paraguay",
            "Peru",
            "Philippines",
            "Poland",
            "Portugal",
            "Qatar",
            "Romania",
            "Russia",
            "Samoa",
            "Saudi Arabia",
            "Senegal",
            "Serbia",
            "Singapore",
            "Slovakia",
            "Slovenia",
            "Somalia",
            "South Africa",
            "South Korea",
            "Soviet Union",
            "Spain",
            "Sri Lanka",
            "Sudan",
            "Sweden",
            "Switzerland",
            "Syria",
            "Taiwan",
            "Thailand",
            "Turkey",
            "Uganda",
            "Ukraine",
            "United Arab Emirates",
            "United Kingdom",
            "United States",
            "Uruguay",
            "Vatican City",
            "Venezuela",
            "Vietnam",
            "West Germany",
            "Zimbabwe",
            "nan"
           ],
           "locationmode": "country names",
           "locations": [
            "",
            "Afghanistan",
            "Albania",
            "Argentina",
            "Armenia",
            "Australia",
            "Austria",
            "Azerbaijan",
            "Bangladesh",
            "Belgium",
            "Bermuda",
            "Brazil",
            "Bulgaria",
            "Cambodia",
            "Canada",
            "Cayman Islands",
            "Chile",
            "China",
            "Colombia",
            "Croatia",
            "Cuba",
            "Czech Republic",
            "Denmark",
            "Dominican Republic",
            "Ecuador",
            "Egypt",
            "Finland",
            "France",
            "Georgia",
            "Germany",
            "Ghana",
            "Greece",
            "Guatemala",
            "Hong Kong",
            "Hungary",
            "Iceland",
            "India",
            "Indonesia",
            "Iran",
            "Iraq",
            "Ireland",
            "Israel",
            "Italy",
            "Japan",
            "Jordan",
            "Kazakhstan",
            "Kenya",
            "Kuwait",
            "Latvia",
            "Lebanon",
            "Liechtenstein",
            "Lithuania",
            "Luxembourg",
            "Malawi",
            "Malaysia",
            "Mauritius",
            "Mexico",
            "Mongolia",
            "Montenegro",
            "Morocco",
            "Namibia",
            "Nepal",
            "Netherlands",
            "New Zealand",
            "Nicaragua",
            "Nigeria",
            "Norway",
            "Pakistan",
            "Panama",
            "Paraguay",
            "Peru",
            "Philippines",
            "Poland",
            "Portugal",
            "Qatar",
            "Romania",
            "Russia",
            "Samoa",
            "Saudi Arabia",
            "Senegal",
            "Serbia",
            "Singapore",
            "Slovakia",
            "Slovenia",
            "Somalia",
            "South Africa",
            "South Korea",
            "Soviet Union",
            "Spain",
            "Sri Lanka",
            "Sudan",
            "Sweden",
            "Switzerland",
            "Syria",
            "Taiwan",
            "Thailand",
            "Turkey",
            "Uganda",
            "Ukraine",
            "United Arab Emirates",
            "United Kingdom",
            "United States",
            "Uruguay",
            "Vatican City",
            "Venezuela",
            "Vietnam",
            "West Germany",
            "Zimbabwe",
            "nan"
           ],
           "name": "",
           "type": "choropleth",
           "z": [
            3,
            1,
            1,
            66,
            1,
            113,
            8,
            1,
            3,
            61,
            1,
            60,
            8,
            4,
            289,
            1,
            21,
            120,
            35,
            4,
            1,
            15,
            35,
            1,
            1,
            58,
            7,
            243,
            2,
            132,
            2,
            8,
            2,
            94,
            6,
            5,
            774,
            49,
            4,
            2,
            31,
            24,
            58,
            203,
            6,
            1,
            1,
            2,
            1,
            8,
            1,
            1,
            7,
            1,
            20,
            1,
            120,
            1,
            1,
            6,
            1,
            2,
            34,
            20,
            1,
            34,
            18,
            23,
            1,
            1,
            9,
            46,
            25,
            4,
            7,
            7,
            20,
            1,
            2,
            2,
            5,
            35,
            1,
            3,
            1,
            30,
            153,
            3,
            164,
            1,
            1,
            34,
            14,
            1,
            73,
            56,
            78,
            1,
            3,
            19,
            548,
            2335,
            11,
            1,
            3,
            4,
            4,
            2,
            373
           ]
          }
         ],
         "name": "2020"
        },
        {
         "data": [
          {
           "coloraxis": "coloraxis",
           "customdata": [
            [
             "",
             4,
             2021
            ],
            [
             "Afghanistan",
             1,
             2021
            ],
            [
             "Albania",
             1,
             2021
            ],
            [
             "Algeria",
             2,
             2021
            ],
            [
             "Angola",
             1,
             2021
            ],
            [
             "Argentina",
             82,
             2021
            ],
            [
             "Armenia",
             1,
             2021
            ],
            [
             "Australia",
             143,
             2021
            ],
            [
             "Austria",
             11,
             2021
            ],
            [
             "Azerbaijan",
             1,
             2021
            ],
            [
             "Bahamas",
             1,
             2021
            ],
            [
             "Bangladesh",
             3,
             2021
            ],
            [
             "Belarus",
             1,
             2021
            ],
            [
             "Belgium",
             85,
             2021
            ],
            [
             "Bermuda",
             1,
             2021
            ],
            [
             "Botswana",
             1,
             2021
            ],
            [
             "Brazil",
             87,
             2021
            ],
            [
             "Bulgaria",
             9,
             2021
            ],
            [
             "Cambodia",
             5,
             2021
            ],
            [
             "Canada",
             404,
             2021
            ],
            [
             "Cayman Islands",
             1,
             2021
            ],
            [
             "Chile",
             26,
             2021
            ],
            [
             "China",
             147,
             2021
            ],
            [
             "Colombia",
             45,
             2021
            ],
            [
             "Croatia",
             4,
             2021
            ],
            [
             "Cuba",
             1,
             2021
            ],
            [
             "Cyprus",
             1,
             2021
            ],
            [
             "Czech Republic",
             20,
             2021
            ],
            [
             "Denmark",
             44,
             2021
            ],
            [
             "Dominican Republic",
             1,
             2021
            ],
            [
             "East Germany",
             1,
             2021
            ],
            [
             "Ecuador",
             1,
             2021
            ],
            [
             "Egypt",
             110,
             2021
            ],
            [
             "Finland",
             11,
             2021
            ],
            [
             "France",
             342,
             2021
            ],
            [
             "Georgia",
             2,
             2021
            ],
            [
             "Germany",
             195,
             2021
            ],
            [
             "Ghana",
             4,
             2021
            ],
            [
             "Greece",
             10,
             2021
            ],
            [
             "Guatemala",
             2,
             2021
            ],
            [
             "Hong Kong",
             100,
             2021
            ],
            [
             "Hungary",
             8,
             2021
            ],
            [
             "Iceland",
             9,
             2021
            ],
            [
             "India",
             977,
             2021
            ],
            [
             "Indonesia",
             78,
             2021
            ],
            [
             "Iran",
             4,
             2021
            ],
            [
             "Iraq",
             2,
             2021
            ],
            [
             "Ireland",
             40,
             2021
            ],
            [
             "Israel",
             26,
             2021
            ],
            [
             "Italy",
             90,
             2021
            ],
            [
             "Jamaica",
             1,
             2021
            ],
            [
             "Japan",
             286,
             2021
            ],
            [
             "Jordan",
             8,
             2021
            ],
            [
             "Kazakhstan",
             1,
             2021
            ],
            [
             "Kenya",
             5,
             2021
            ],
            [
             "Kuwait",
             7,
             2021
            ],
            [
             "Latvia",
             1,
             2021
            ],
            [
             "Lebanon",
             26,
             2021
            ],
            [
             "Liechtenstein",
             1,
             2021
            ],
            [
             "Lithuania",
             1,
             2021
            ],
            [
             "Luxembourg",
             11,
             2021
            ],
            [
             "Malawi",
             1,
             2021
            ],
            [
             "Malaysia",
             26,
             2021
            ],
            [
             "Malta",
             3,
             2021
            ],
            [
             "Mauritius",
             1,
             2021
            ],
            [
             "Mexico",
             152,
             2021
            ],
            [
             "Mongolia",
             1,
             2021
            ],
            [
             "Montenegro",
             1,
             2021
            ],
            [
             "Morocco",
             6,
             2021
            ],
            [
             "Namibia",
             2,
             2021
            ],
            [
             "Nepal",
             2,
             2021
            ],
            [
             "Netherlands",
             45,
             2021
            ],
            [
             "New Zealand",
             28,
             2021
            ],
            [
             "Nicaragua",
             1,
             2021
            ],
            [
             "Nigeria",
             76,
             2021
            ],
            [
             "Norway",
             27,
             2021
            ],
            [
             "Pakistan",
             24,
             2021
            ],
            [
             "Panama",
             1,
             2021
            ],
            [
             "Paraguay",
             1,
             2021
            ],
            [
             "Peru",
             10,
             2021
            ],
            [
             "Philippines",
             78,
             2021
            ],
            [
             "Poland",
             36,
             2021
            ],
            [
             "Portugal",
             4,
             2021
            ],
            [
             "Puerto Rico",
             1,
             2021
            ],
            [
             "Qatar",
             7,
             2021
            ],
            [
             "Romania",
             12,
             2021
            ],
            [
             "Russia",
             27,
             2021
            ],
            [
             "Samoa",
             1,
             2021
            ],
            [
             "Saudi Arabia",
             10,
             2021
            ],
            [
             "Senegal",
             3,
             2021
            ],
            [
             "Serbia",
             7,
             2021
            ],
            [
             "Singapore",
             39,
             2021
            ],
            [
             "Slovakia",
             1,
             2021
            ],
            [
             "Slovenia",
             3,
             2021
            ],
            [
             "Somalia",
             1,
             2021
            ],
            [
             "South Africa",
             54,
             2021
            ],
            [
             "South Korea",
             211,
             2021
            ],
            [
             "Soviet Union",
             3,
             2021
            ],
            [
             "Spain",
             212,
             2021
            ],
            [
             "Sri Lanka",
             1,
             2021
            ],
            [
             "Sudan",
             1,
             2021
            ],
            [
             "Sweden",
             38,
             2021
            ],
            [
             "Switzerland",
             17,
             2021
            ],
            [
             "Syria",
             1,
             2021
            ],
            [
             "Taiwan",
             85,
             2021
            ],
            [
             "Thailand",
             64,
             2021
            ],
            [
             "Turkey",
             107,
             2021
            ],
            [
             "Uganda",
             1,
             2021
            ],
            [
             "Ukraine",
             3,
             2021
            ],
            [
             "United Arab Emirates",
             34,
             2021
            ],
            [
             "United Kingdom",
             715,
             2021
            ],
            [
             "United States",
             3223,
             2021
            ],
            [
             "Uruguay",
             14,
             2021
            ],
            [
             "Vatican City",
             1,
             2021
            ],
            [
             "Venezuela",
             3,
             2021
            ],
            [
             "Vietnam",
             5,
             2021
            ],
            [
             "West Germany",
             5,
             2021
            ],
            [
             "Zimbabwe",
             3,
             2021
            ],
            [
             "nan",
             492,
             2021
            ]
           ],
           "geo": "geo",
           "hovertemplate": "<b>%{hovertext}</b><br><br>number_of_titles=%{z}<extra></extra>",
           "hovertext": [
            "",
            "Afghanistan",
            "Albania",
            "Algeria",
            "Angola",
            "Argentina",
            "Armenia",
            "Australia",
            "Austria",
            "Azerbaijan",
            "Bahamas",
            "Bangladesh",
            "Belarus",
            "Belgium",
            "Bermuda",
            "Botswana",
            "Brazil",
            "Bulgaria",
            "Cambodia",
            "Canada",
            "Cayman Islands",
            "Chile",
            "China",
            "Colombia",
            "Croatia",
            "Cuba",
            "Cyprus",
            "Czech Republic",
            "Denmark",
            "Dominican Republic",
            "East Germany",
            "Ecuador",
            "Egypt",
            "Finland",
            "France",
            "Georgia",
            "Germany",
            "Ghana",
            "Greece",
            "Guatemala",
            "Hong Kong",
            "Hungary",
            "Iceland",
            "India",
            "Indonesia",
            "Iran",
            "Iraq",
            "Ireland",
            "Israel",
            "Italy",
            "Jamaica",
            "Japan",
            "Jordan",
            "Kazakhstan",
            "Kenya",
            "Kuwait",
            "Latvia",
            "Lebanon",
            "Liechtenstein",
            "Lithuania",
            "Luxembourg",
            "Malawi",
            "Malaysia",
            "Malta",
            "Mauritius",
            "Mexico",
            "Mongolia",
            "Montenegro",
            "Morocco",
            "Namibia",
            "Nepal",
            "Netherlands",
            "New Zealand",
            "Nicaragua",
            "Nigeria",
            "Norway",
            "Pakistan",
            "Panama",
            "Paraguay",
            "Peru",
            "Philippines",
            "Poland",
            "Portugal",
            "Puerto Rico",
            "Qatar",
            "Romania",
            "Russia",
            "Samoa",
            "Saudi Arabia",
            "Senegal",
            "Serbia",
            "Singapore",
            "Slovakia",
            "Slovenia",
            "Somalia",
            "South Africa",
            "South Korea",
            "Soviet Union",
            "Spain",
            "Sri Lanka",
            "Sudan",
            "Sweden",
            "Switzerland",
            "Syria",
            "Taiwan",
            "Thailand",
            "Turkey",
            "Uganda",
            "Ukraine",
            "United Arab Emirates",
            "United Kingdom",
            "United States",
            "Uruguay",
            "Vatican City",
            "Venezuela",
            "Vietnam",
            "West Germany",
            "Zimbabwe",
            "nan"
           ],
           "locationmode": "country names",
           "locations": [
            "",
            "Afghanistan",
            "Albania",
            "Algeria",
            "Angola",
            "Argentina",
            "Armenia",
            "Australia",
            "Austria",
            "Azerbaijan",
            "Bahamas",
            "Bangladesh",
            "Belarus",
            "Belgium",
            "Bermuda",
            "Botswana",
            "Brazil",
            "Bulgaria",
            "Cambodia",
            "Canada",
            "Cayman Islands",
            "Chile",
            "China",
            "Colombia",
            "Croatia",
            "Cuba",
            "Cyprus",
            "Czech Republic",
            "Denmark",
            "Dominican Republic",
            "East Germany",
            "Ecuador",
            "Egypt",
            "Finland",
            "France",
            "Georgia",
            "Germany",
            "Ghana",
            "Greece",
            "Guatemala",
            "Hong Kong",
            "Hungary",
            "Iceland",
            "India",
            "Indonesia",
            "Iran",
            "Iraq",
            "Ireland",
            "Israel",
            "Italy",
            "Jamaica",
            "Japan",
            "Jordan",
            "Kazakhstan",
            "Kenya",
            "Kuwait",
            "Latvia",
            "Lebanon",
            "Liechtenstein",
            "Lithuania",
            "Luxembourg",
            "Malawi",
            "Malaysia",
            "Malta",
            "Mauritius",
            "Mexico",
            "Mongolia",
            "Montenegro",
            "Morocco",
            "Namibia",
            "Nepal",
            "Netherlands",
            "New Zealand",
            "Nicaragua",
            "Nigeria",
            "Norway",
            "Pakistan",
            "Panama",
            "Paraguay",
            "Peru",
            "Philippines",
            "Poland",
            "Portugal",
            "Puerto Rico",
            "Qatar",
            "Romania",
            "Russia",
            "Samoa",
            "Saudi Arabia",
            "Senegal",
            "Serbia",
            "Singapore",
            "Slovakia",
            "Slovenia",
            "Somalia",
            "South Africa",
            "South Korea",
            "Soviet Union",
            "Spain",
            "Sri Lanka",
            "Sudan",
            "Sweden",
            "Switzerland",
            "Syria",
            "Taiwan",
            "Thailand",
            "Turkey",
            "Uganda",
            "Ukraine",
            "United Arab Emirates",
            "United Kingdom",
            "United States",
            "Uruguay",
            "Vatican City",
            "Venezuela",
            "Vietnam",
            "West Germany",
            "Zimbabwe",
            "nan"
           ],
           "name": "",
           "type": "choropleth",
           "z": [
            4,
            1,
            1,
            2,
            1,
            82,
            1,
            143,
            11,
            1,
            1,
            3,
            1,
            85,
            1,
            1,
            87,
            9,
            5,
            404,
            1,
            26,
            147,
            45,
            4,
            1,
            1,
            20,
            44,
            1,
            1,
            1,
            110,
            11,
            342,
            2,
            195,
            4,
            10,
            2,
            100,
            8,
            9,
            977,
            78,
            4,
            2,
            40,
            26,
            90,
            1,
            286,
            8,
            1,
            5,
            7,
            1,
            26,
            1,
            1,
            11,
            1,
            26,
            3,
            1,
            152,
            1,
            1,
            6,
            2,
            2,
            45,
            28,
            1,
            76,
            27,
            24,
            1,
            1,
            10,
            78,
            36,
            4,
            1,
            7,
            12,
            27,
            1,
            10,
            3,
            7,
            39,
            1,
            3,
            1,
            54,
            211,
            3,
            212,
            1,
            1,
            38,
            17,
            1,
            85,
            64,
            107,
            1,
            3,
            34,
            715,
            3223,
            14,
            1,
            3,
            5,
            5,
            3,
            492
           ]
          }
         ],
         "name": "2021"
        }
       ],
       "layout": {
        "coloraxis": {
         "colorbar": {
          "title": {
           "text": "number_of_titles"
          }
         },
         "colorscale": [
          [
           0,
           "rgb(255,245,240)"
          ],
          [
           0.125,
           "rgb(254,224,210)"
          ],
          [
           0.25,
           "rgb(252,187,161)"
          ],
          [
           0.375,
           "rgb(252,146,114)"
          ],
          [
           0.5,
           "rgb(251,106,74)"
          ],
          [
           0.625,
           "rgb(239,59,44)"
          ],
          [
           0.75,
           "rgb(203,24,29)"
          ],
          [
           0.875,
           "rgb(165,15,21)"
          ],
          [
           1,
           "rgb(103,0,13)"
          ]
         ]
        },
        "geo": {
         "center": {},
         "domain": {
          "x": [
           0,
           1
          ],
          "y": [
           0,
           1
          ]
         }
        },
        "height": 600,
        "legend": {
         "tracegroupgap": 0
        },
        "margin": {
         "t": 60
        },
        "sliders": [
         {
          "active": 0,
          "currentvalue": {
           "prefix": "added_year="
          },
          "len": 0.9,
          "pad": {
           "b": 10,
           "t": 60
          },
          "steps": [
           {
            "args": [
             [
              "2008"
             ],
             {
              "frame": {
               "duration": 0,
               "redraw": true
              },
              "fromcurrent": true,
              "mode": "immediate",
              "transition": {
               "duration": 0,
               "easing": "linear"
              }
             }
            ],
            "label": "2008",
            "method": "animate"
           },
           {
            "args": [
             [
              "2009"
             ],
             {
              "frame": {
               "duration": 0,
               "redraw": true
              },
              "fromcurrent": true,
              "mode": "immediate",
              "transition": {
               "duration": 0,
               "easing": "linear"
              }
             }
            ],
            "label": "2009",
            "method": "animate"
           },
           {
            "args": [
             [
              "2010"
             ],
             {
              "frame": {
               "duration": 0,
               "redraw": true
              },
              "fromcurrent": true,
              "mode": "immediate",
              "transition": {
               "duration": 0,
               "easing": "linear"
              }
             }
            ],
            "label": "2010",
            "method": "animate"
           },
           {
            "args": [
             [
              "2011"
             ],
             {
              "frame": {
               "duration": 0,
               "redraw": true
              },
              "fromcurrent": true,
              "mode": "immediate",
              "transition": {
               "duration": 0,
               "easing": "linear"
              }
             }
            ],
            "label": "2011",
            "method": "animate"
           },
           {
            "args": [
             [
              "2012"
             ],
             {
              "frame": {
               "duration": 0,
               "redraw": true
              },
              "fromcurrent": true,
              "mode": "immediate",
              "transition": {
               "duration": 0,
               "easing": "linear"
              }
             }
            ],
            "label": "2012",
            "method": "animate"
           },
           {
            "args": [
             [
              "2013"
             ],
             {
              "frame": {
               "duration": 0,
               "redraw": true
              },
              "fromcurrent": true,
              "mode": "immediate",
              "transition": {
               "duration": 0,
               "easing": "linear"
              }
             }
            ],
            "label": "2013",
            "method": "animate"
           },
           {
            "args": [
             [
              "2014"
             ],
             {
              "frame": {
               "duration": 0,
               "redraw": true
              },
              "fromcurrent": true,
              "mode": "immediate",
              "transition": {
               "duration": 0,
               "easing": "linear"
              }
             }
            ],
            "label": "2014",
            "method": "animate"
           },
           {
            "args": [
             [
              "2015"
             ],
             {
              "frame": {
               "duration": 0,
               "redraw": true
              },
              "fromcurrent": true,
              "mode": "immediate",
              "transition": {
               "duration": 0,
               "easing": "linear"
              }
             }
            ],
            "label": "2015",
            "method": "animate"
           },
           {
            "args": [
             [
              "2016"
             ],
             {
              "frame": {
               "duration": 0,
               "redraw": true
              },
              "fromcurrent": true,
              "mode": "immediate",
              "transition": {
               "duration": 0,
               "easing": "linear"
              }
             }
            ],
            "label": "2016",
            "method": "animate"
           },
           {
            "args": [
             [
              "2017"
             ],
             {
              "frame": {
               "duration": 0,
               "redraw": true
              },
              "fromcurrent": true,
              "mode": "immediate",
              "transition": {
               "duration": 0,
               "easing": "linear"
              }
             }
            ],
            "label": "2017",
            "method": "animate"
           },
           {
            "args": [
             [
              "2018"
             ],
             {
              "frame": {
               "duration": 0,
               "redraw": true
              },
              "fromcurrent": true,
              "mode": "immediate",
              "transition": {
               "duration": 0,
               "easing": "linear"
              }
             }
            ],
            "label": "2018",
            "method": "animate"
           },
           {
            "args": [
             [
              "2019"
             ],
             {
              "frame": {
               "duration": 0,
               "redraw": true
              },
              "fromcurrent": true,
              "mode": "immediate",
              "transition": {
               "duration": 0,
               "easing": "linear"
              }
             }
            ],
            "label": "2019",
            "method": "animate"
           },
           {
            "args": [
             [
              "2020"
             ],
             {
              "frame": {
               "duration": 0,
               "redraw": true
              },
              "fromcurrent": true,
              "mode": "immediate",
              "transition": {
               "duration": 0,
               "easing": "linear"
              }
             }
            ],
            "label": "2020",
            "method": "animate"
           },
           {
            "args": [
             [
              "2021"
             ],
             {
              "frame": {
               "duration": 0,
               "redraw": true
              },
              "fromcurrent": true,
              "mode": "immediate",
              "transition": {
               "duration": 0,
               "easing": "linear"
              }
             }
            ],
            "label": "2021",
            "method": "animate"
           }
          ],
          "x": 0.1,
          "xanchor": "left",
          "y": 0,
          "yanchor": "top"
         }
        ],
        "template": {
         "data": {
          "bar": [
           {
            "error_x": {
             "color": "#2a3f5f"
            },
            "error_y": {
             "color": "#2a3f5f"
            },
            "marker": {
             "line": {
              "color": "#E5ECF6",
              "width": 0.5
             }
            },
            "type": "bar"
           }
          ],
          "barpolar": [
           {
            "marker": {
             "line": {
              "color": "#E5ECF6",
              "width": 0.5
             }
            },
            "type": "barpolar"
           }
          ],
          "carpet": [
           {
            "aaxis": {
             "endlinecolor": "#2a3f5f",
             "gridcolor": "white",
             "linecolor": "white",
             "minorgridcolor": "white",
             "startlinecolor": "#2a3f5f"
            },
            "baxis": {
             "endlinecolor": "#2a3f5f",
             "gridcolor": "white",
             "linecolor": "white",
             "minorgridcolor": "white",
             "startlinecolor": "#2a3f5f"
            },
            "type": "carpet"
           }
          ],
          "choropleth": [
           {
            "colorbar": {
             "outlinewidth": 0,
             "ticks": ""
            },
            "type": "choropleth"
           }
          ],
          "contour": [
           {
            "colorbar": {
             "outlinewidth": 0,
             "ticks": ""
            },
            "colorscale": [
             [
              0,
              "#0d0887"
             ],
             [
              0.1111111111111111,
              "#46039f"
             ],
             [
              0.2222222222222222,
              "#7201a8"
             ],
             [
              0.3333333333333333,
              "#9c179e"
             ],
             [
              0.4444444444444444,
              "#bd3786"
             ],
             [
              0.5555555555555556,
              "#d8576b"
             ],
             [
              0.6666666666666666,
              "#ed7953"
             ],
             [
              0.7777777777777778,
              "#fb9f3a"
             ],
             [
              0.8888888888888888,
              "#fdca26"
             ],
             [
              1,
              "#f0f921"
             ]
            ],
            "type": "contour"
           }
          ],
          "contourcarpet": [
           {
            "colorbar": {
             "outlinewidth": 0,
             "ticks": ""
            },
            "type": "contourcarpet"
           }
          ],
          "heatmap": [
           {
            "colorbar": {
             "outlinewidth": 0,
             "ticks": ""
            },
            "colorscale": [
             [
              0,
              "#0d0887"
             ],
             [
              0.1111111111111111,
              "#46039f"
             ],
             [
              0.2222222222222222,
              "#7201a8"
             ],
             [
              0.3333333333333333,
              "#9c179e"
             ],
             [
              0.4444444444444444,
              "#bd3786"
             ],
             [
              0.5555555555555556,
              "#d8576b"
             ],
             [
              0.6666666666666666,
              "#ed7953"
             ],
             [
              0.7777777777777778,
              "#fb9f3a"
             ],
             [
              0.8888888888888888,
              "#fdca26"
             ],
             [
              1,
              "#f0f921"
             ]
            ],
            "type": "heatmap"
           }
          ],
          "heatmapgl": [
           {
            "colorbar": {
             "outlinewidth": 0,
             "ticks": ""
            },
            "colorscale": [
             [
              0,
              "#0d0887"
             ],
             [
              0.1111111111111111,
              "#46039f"
             ],
             [
              0.2222222222222222,
              "#7201a8"
             ],
             [
              0.3333333333333333,
              "#9c179e"
             ],
             [
              0.4444444444444444,
              "#bd3786"
             ],
             [
              0.5555555555555556,
              "#d8576b"
             ],
             [
              0.6666666666666666,
              "#ed7953"
             ],
             [
              0.7777777777777778,
              "#fb9f3a"
             ],
             [
              0.8888888888888888,
              "#fdca26"
             ],
             [
              1,
              "#f0f921"
             ]
            ],
            "type": "heatmapgl"
           }
          ],
          "histogram": [
           {
            "marker": {
             "colorbar": {
              "outlinewidth": 0,
              "ticks": ""
             }
            },
            "type": "histogram"
           }
          ],
          "histogram2d": [
           {
            "colorbar": {
             "outlinewidth": 0,
             "ticks": ""
            },
            "colorscale": [
             [
              0,
              "#0d0887"
             ],
             [
              0.1111111111111111,
              "#46039f"
             ],
             [
              0.2222222222222222,
              "#7201a8"
             ],
             [
              0.3333333333333333,
              "#9c179e"
             ],
             [
              0.4444444444444444,
              "#bd3786"
             ],
             [
              0.5555555555555556,
              "#d8576b"
             ],
             [
              0.6666666666666666,
              "#ed7953"
             ],
             [
              0.7777777777777778,
              "#fb9f3a"
             ],
             [
              0.8888888888888888,
              "#fdca26"
             ],
             [
              1,
              "#f0f921"
             ]
            ],
            "type": "histogram2d"
           }
          ],
          "histogram2dcontour": [
           {
            "colorbar": {
             "outlinewidth": 0,
             "ticks": ""
            },
            "colorscale": [
             [
              0,
              "#0d0887"
             ],
             [
              0.1111111111111111,
              "#46039f"
             ],
             [
              0.2222222222222222,
              "#7201a8"
             ],
             [
              0.3333333333333333,
              "#9c179e"
             ],
             [
              0.4444444444444444,
              "#bd3786"
             ],
             [
              0.5555555555555556,
              "#d8576b"
             ],
             [
              0.6666666666666666,
              "#ed7953"
             ],
             [
              0.7777777777777778,
              "#fb9f3a"
             ],
             [
              0.8888888888888888,
              "#fdca26"
             ],
             [
              1,
              "#f0f921"
             ]
            ],
            "type": "histogram2dcontour"
           }
          ],
          "mesh3d": [
           {
            "colorbar": {
             "outlinewidth": 0,
             "ticks": ""
            },
            "type": "mesh3d"
           }
          ],
          "parcoords": [
           {
            "line": {
             "colorbar": {
              "outlinewidth": 0,
              "ticks": ""
             }
            },
            "type": "parcoords"
           }
          ],
          "pie": [
           {
            "automargin": true,
            "type": "pie"
           }
          ],
          "scatter": [
           {
            "marker": {
             "colorbar": {
              "outlinewidth": 0,
              "ticks": ""
             }
            },
            "type": "scatter"
           }
          ],
          "scatter3d": [
           {
            "line": {
             "colorbar": {
              "outlinewidth": 0,
              "ticks": ""
             }
            },
            "marker": {
             "colorbar": {
              "outlinewidth": 0,
              "ticks": ""
             }
            },
            "type": "scatter3d"
           }
          ],
          "scattercarpet": [
           {
            "marker": {
             "colorbar": {
              "outlinewidth": 0,
              "ticks": ""
             }
            },
            "type": "scattercarpet"
           }
          ],
          "scattergeo": [
           {
            "marker": {
             "colorbar": {
              "outlinewidth": 0,
              "ticks": ""
             }
            },
            "type": "scattergeo"
           }
          ],
          "scattergl": [
           {
            "marker": {
             "colorbar": {
              "outlinewidth": 0,
              "ticks": ""
             }
            },
            "type": "scattergl"
           }
          ],
          "scattermapbox": [
           {
            "marker": {
             "colorbar": {
              "outlinewidth": 0,
              "ticks": ""
             }
            },
            "type": "scattermapbox"
           }
          ],
          "scatterpolar": [
           {
            "marker": {
             "colorbar": {
              "outlinewidth": 0,
              "ticks": ""
             }
            },
            "type": "scatterpolar"
           }
          ],
          "scatterpolargl": [
           {
            "marker": {
             "colorbar": {
              "outlinewidth": 0,
              "ticks": ""
             }
            },
            "type": "scatterpolargl"
           }
          ],
          "scatterternary": [
           {
            "marker": {
             "colorbar": {
              "outlinewidth": 0,
              "ticks": ""
             }
            },
            "type": "scatterternary"
           }
          ],
          "surface": [
           {
            "colorbar": {
             "outlinewidth": 0,
             "ticks": ""
            },
            "colorscale": [
             [
              0,
              "#0d0887"
             ],
             [
              0.1111111111111111,
              "#46039f"
             ],
             [
              0.2222222222222222,
              "#7201a8"
             ],
             [
              0.3333333333333333,
              "#9c179e"
             ],
             [
              0.4444444444444444,
              "#bd3786"
             ],
             [
              0.5555555555555556,
              "#d8576b"
             ],
             [
              0.6666666666666666,
              "#ed7953"
             ],
             [
              0.7777777777777778,
              "#fb9f3a"
             ],
             [
              0.8888888888888888,
              "#fdca26"
             ],
             [
              1,
              "#f0f921"
             ]
            ],
            "type": "surface"
           }
          ],
          "table": [
           {
            "cells": {
             "fill": {
              "color": "#EBF0F8"
             },
             "line": {
              "color": "white"
             }
            },
            "header": {
             "fill": {
              "color": "#C8D4E3"
             },
             "line": {
              "color": "white"
             }
            },
            "type": "table"
           }
          ]
         },
         "layout": {
          "annotationdefaults": {
           "arrowcolor": "#2a3f5f",
           "arrowhead": 0,
           "arrowwidth": 1
          },
          "autotypenumbers": "strict",
          "coloraxis": {
           "colorbar": {
            "outlinewidth": 0,
            "ticks": ""
           }
          },
          "colorscale": {
           "diverging": [
            [
             0,
             "#8e0152"
            ],
            [
             0.1,
             "#c51b7d"
            ],
            [
             0.2,
             "#de77ae"
            ],
            [
             0.3,
             "#f1b6da"
            ],
            [
             0.4,
             "#fde0ef"
            ],
            [
             0.5,
             "#f7f7f7"
            ],
            [
             0.6,
             "#e6f5d0"
            ],
            [
             0.7,
             "#b8e186"
            ],
            [
             0.8,
             "#7fbc41"
            ],
            [
             0.9,
             "#4d9221"
            ],
            [
             1,
             "#276419"
            ]
           ],
           "sequential": [
            [
             0,
             "#0d0887"
            ],
            [
             0.1111111111111111,
             "#46039f"
            ],
            [
             0.2222222222222222,
             "#7201a8"
            ],
            [
             0.3333333333333333,
             "#9c179e"
            ],
            [
             0.4444444444444444,
             "#bd3786"
            ],
            [
             0.5555555555555556,
             "#d8576b"
            ],
            [
             0.6666666666666666,
             "#ed7953"
            ],
            [
             0.7777777777777778,
             "#fb9f3a"
            ],
            [
             0.8888888888888888,
             "#fdca26"
            ],
            [
             1,
             "#f0f921"
            ]
           ],
           "sequentialminus": [
            [
             0,
             "#0d0887"
            ],
            [
             0.1111111111111111,
             "#46039f"
            ],
            [
             0.2222222222222222,
             "#7201a8"
            ],
            [
             0.3333333333333333,
             "#9c179e"
            ],
            [
             0.4444444444444444,
             "#bd3786"
            ],
            [
             0.5555555555555556,
             "#d8576b"
            ],
            [
             0.6666666666666666,
             "#ed7953"
            ],
            [
             0.7777777777777778,
             "#fb9f3a"
            ],
            [
             0.8888888888888888,
             "#fdca26"
            ],
            [
             1,
             "#f0f921"
            ]
           ]
          },
          "colorway": [
           "#636efa",
           "#EF553B",
           "#00cc96",
           "#ab63fa",
           "#FFA15A",
           "#19d3f3",
           "#FF6692",
           "#B6E880",
           "#FF97FF",
           "#FECB52"
          ],
          "font": {
           "color": "#2a3f5f"
          },
          "geo": {
           "bgcolor": "white",
           "lakecolor": "white",
           "landcolor": "#E5ECF6",
           "showlakes": true,
           "showland": true,
           "subunitcolor": "white"
          },
          "hoverlabel": {
           "align": "left"
          },
          "hovermode": "closest",
          "mapbox": {
           "style": "light"
          },
          "paper_bgcolor": "white",
          "plot_bgcolor": "#E5ECF6",
          "polar": {
           "angularaxis": {
            "gridcolor": "white",
            "linecolor": "white",
            "ticks": ""
           },
           "bgcolor": "#E5ECF6",
           "radialaxis": {
            "gridcolor": "white",
            "linecolor": "white",
            "ticks": ""
           }
          },
          "scene": {
           "xaxis": {
            "backgroundcolor": "#E5ECF6",
            "gridcolor": "white",
            "gridwidth": 2,
            "linecolor": "white",
            "showbackground": true,
            "ticks": "",
            "zerolinecolor": "white"
           },
           "yaxis": {
            "backgroundcolor": "#E5ECF6",
            "gridcolor": "white",
            "gridwidth": 2,
            "linecolor": "white",
            "showbackground": true,
            "ticks": "",
            "zerolinecolor": "white"
           },
           "zaxis": {
            "backgroundcolor": "#E5ECF6",
            "gridcolor": "white",
            "gridwidth": 2,
            "linecolor": "white",
            "showbackground": true,
            "ticks": "",
            "zerolinecolor": "white"
           }
          },
          "shapedefaults": {
           "line": {
            "color": "#2a3f5f"
           }
          },
          "ternary": {
           "aaxis": {
            "gridcolor": "white",
            "linecolor": "white",
            "ticks": ""
           },
           "baxis": {
            "gridcolor": "white",
            "linecolor": "white",
            "ticks": ""
           },
           "bgcolor": "#E5ECF6",
           "caxis": {
            "gridcolor": "white",
            "linecolor": "white",
            "ticks": ""
           }
          },
          "title": {
           "x": 0.05
          },
          "xaxis": {
           "automargin": true,
           "gridcolor": "white",
           "linecolor": "white",
           "ticks": "",
           "title": {
            "standoff": 15
           },
           "zerolinecolor": "white",
           "zerolinewidth": 2
          },
          "yaxis": {
           "automargin": true,
           "gridcolor": "white",
           "linecolor": "white",
           "ticks": "",
           "title": {
            "standoff": 15
           },
           "zerolinecolor": "white",
           "zerolinewidth": 2
          }
         }
        },
        "updatemenus": [
         {
          "buttons": [
           {
            "args": [
             null,
             {
              "frame": {
               "duration": 500,
               "redraw": true
              },
              "fromcurrent": true,
              "mode": "immediate",
              "transition": {
               "duration": 500,
               "easing": "linear"
              }
             }
            ],
            "label": "&#9654;",
            "method": "animate"
           },
           {
            "args": [
             [
              null
             ],
             {
              "frame": {
               "duration": 0,
               "redraw": true
              },
              "fromcurrent": true,
              "mode": "immediate",
              "transition": {
               "duration": 0,
               "easing": "linear"
              }
             }
            ],
            "label": "&#9724;",
            "method": "animate"
           }
          ],
          "direction": "left",
          "pad": {
           "r": 10,
           "t": 70
          },
          "showactive": false,
          "type": "buttons",
          "x": 0.1,
          "xanchor": "right",
          "y": 0,
          "yanchor": "top"
         }
        ]
       }
      },
      "text/html": [
       "<div>                            <div id=\"f22a75f1-a924-4db5-9f5a-cf5a85866790\" class=\"plotly-graph-div\" style=\"height:600px; width:100%;\"></div>            <script type=\"text/javascript\">                require([\"plotly\"], function(Plotly) {                    window.PLOTLYENV=window.PLOTLYENV || {};                                    if (document.getElementById(\"f22a75f1-a924-4db5-9f5a-cf5a85866790\")) {                    Plotly.newPlot(                        \"f22a75f1-a924-4db5-9f5a-cf5a85866790\",                        [{\"coloraxis\": \"coloraxis\", \"customdata\": [[\"Australia\", 1, 2008], [\"Japan\", 1, 2008], [\"United Kingdom\", 1, 2008], [\"United States\", 6, 2008], [\"nan\", 1, 2008]], \"geo\": \"geo\", \"hovertemplate\": \"<b>%{hovertext}</b><br><br>number_of_titles=%{z}<extra></extra>\", \"hovertext\": [\"Australia\", \"Japan\", \"United Kingdom\", \"United States\", \"nan\"], \"locationmode\": \"country names\", \"locations\": [\"Australia\", \"Japan\", \"United Kingdom\", \"United States\", \"nan\"], \"name\": \"\", \"type\": \"choropleth\", \"z\": [1, 1, 1, 6, 1]}],                        {\"coloraxis\": {\"colorbar\": {\"title\": {\"text\": \"number_of_titles\"}}, \"colorscale\": [[0.0, \"rgb(255,245,240)\"], [0.125, \"rgb(254,224,210)\"], [0.25, \"rgb(252,187,161)\"], [0.375, \"rgb(252,146,114)\"], [0.5, \"rgb(251,106,74)\"], [0.625, \"rgb(239,59,44)\"], [0.75, \"rgb(203,24,29)\"], [0.875, \"rgb(165,15,21)\"], [1.0, \"rgb(103,0,13)\"]]}, \"geo\": {\"center\": {}, \"domain\": {\"x\": [0.0, 1.0], \"y\": [0.0, 1.0]}}, \"height\": 600, \"legend\": {\"tracegroupgap\": 0}, \"margin\": {\"t\": 60}, \"sliders\": [{\"active\": 0, \"currentvalue\": {\"prefix\": \"added_year=\"}, \"len\": 0.9, \"pad\": {\"b\": 10, \"t\": 60}, \"steps\": [{\"args\": [[\"2008\"], {\"frame\": {\"duration\": 0, \"redraw\": true}, \"fromcurrent\": true, \"mode\": \"immediate\", \"transition\": {\"duration\": 0, \"easing\": \"linear\"}}], \"label\": \"2008\", \"method\": \"animate\"}, {\"args\": [[\"2009\"], {\"frame\": {\"duration\": 0, \"redraw\": true}, \"fromcurrent\": true, \"mode\": \"immediate\", \"transition\": {\"duration\": 0, \"easing\": \"linear\"}}], \"label\": \"2009\", \"method\": \"animate\"}, {\"args\": [[\"2010\"], {\"frame\": {\"duration\": 0, \"redraw\": true}, \"fromcurrent\": true, \"mode\": \"immediate\", \"transition\": {\"duration\": 0, \"easing\": \"linear\"}}], \"label\": \"2010\", \"method\": \"animate\"}, {\"args\": [[\"2011\"], {\"frame\": {\"duration\": 0, \"redraw\": true}, \"fromcurrent\": true, \"mode\": \"immediate\", \"transition\": {\"duration\": 0, \"easing\": \"linear\"}}], \"label\": \"2011\", \"method\": \"animate\"}, {\"args\": [[\"2012\"], {\"frame\": {\"duration\": 0, \"redraw\": true}, \"fromcurrent\": true, \"mode\": \"immediate\", \"transition\": {\"duration\": 0, \"easing\": \"linear\"}}], \"label\": \"2012\", \"method\": \"animate\"}, {\"args\": [[\"2013\"], {\"frame\": {\"duration\": 0, \"redraw\": true}, \"fromcurrent\": true, \"mode\": \"immediate\", \"transition\": {\"duration\": 0, \"easing\": \"linear\"}}], \"label\": \"2013\", \"method\": \"animate\"}, {\"args\": [[\"2014\"], {\"frame\": {\"duration\": 0, \"redraw\": true}, \"fromcurrent\": true, \"mode\": \"immediate\", \"transition\": {\"duration\": 0, \"easing\": \"linear\"}}], \"label\": \"2014\", \"method\": \"animate\"}, {\"args\": [[\"2015\"], {\"frame\": {\"duration\": 0, \"redraw\": true}, \"fromcurrent\": true, \"mode\": \"immediate\", \"transition\": {\"duration\": 0, \"easing\": \"linear\"}}], \"label\": \"2015\", \"method\": \"animate\"}, {\"args\": [[\"2016\"], {\"frame\": {\"duration\": 0, \"redraw\": true}, \"fromcurrent\": true, \"mode\": \"immediate\", \"transition\": {\"duration\": 0, \"easing\": \"linear\"}}], \"label\": \"2016\", \"method\": \"animate\"}, {\"args\": [[\"2017\"], {\"frame\": {\"duration\": 0, \"redraw\": true}, \"fromcurrent\": true, \"mode\": \"immediate\", \"transition\": {\"duration\": 0, \"easing\": \"linear\"}}], \"label\": \"2017\", \"method\": \"animate\"}, {\"args\": [[\"2018\"], {\"frame\": {\"duration\": 0, \"redraw\": true}, \"fromcurrent\": true, \"mode\": \"immediate\", \"transition\": {\"duration\": 0, \"easing\": \"linear\"}}], \"label\": \"2018\", \"method\": \"animate\"}, {\"args\": [[\"2019\"], {\"frame\": {\"duration\": 0, \"redraw\": true}, \"fromcurrent\": true, \"mode\": \"immediate\", \"transition\": {\"duration\": 0, \"easing\": \"linear\"}}], \"label\": \"2019\", \"method\": \"animate\"}, {\"args\": [[\"2020\"], {\"frame\": {\"duration\": 0, \"redraw\": true}, \"fromcurrent\": true, \"mode\": \"immediate\", \"transition\": {\"duration\": 0, \"easing\": \"linear\"}}], \"label\": \"2020\", \"method\": \"animate\"}, {\"args\": [[\"2021\"], {\"frame\": {\"duration\": 0, \"redraw\": true}, \"fromcurrent\": true, \"mode\": \"immediate\", \"transition\": {\"duration\": 0, \"easing\": \"linear\"}}], \"label\": \"2021\", \"method\": \"animate\"}], \"x\": 0.1, \"xanchor\": \"left\", \"y\": 0, \"yanchor\": \"top\"}], \"template\": {\"data\": {\"bar\": [{\"error_x\": {\"color\": \"#2a3f5f\"}, \"error_y\": {\"color\": \"#2a3f5f\"}, \"marker\": {\"line\": {\"color\": \"#E5ECF6\", \"width\": 0.5}}, \"type\": \"bar\"}], \"barpolar\": [{\"marker\": {\"line\": {\"color\": \"#E5ECF6\", \"width\": 0.5}}, \"type\": \"barpolar\"}], \"carpet\": [{\"aaxis\": {\"endlinecolor\": \"#2a3f5f\", \"gridcolor\": \"white\", \"linecolor\": \"white\", \"minorgridcolor\": \"white\", \"startlinecolor\": \"#2a3f5f\"}, \"baxis\": {\"endlinecolor\": \"#2a3f5f\", \"gridcolor\": \"white\", \"linecolor\": \"white\", \"minorgridcolor\": \"white\", \"startlinecolor\": \"#2a3f5f\"}, \"type\": \"carpet\"}], \"choropleth\": [{\"colorbar\": {\"outlinewidth\": 0, \"ticks\": \"\"}, \"type\": \"choropleth\"}], \"contour\": [{\"colorbar\": {\"outlinewidth\": 0, \"ticks\": \"\"}, \"colorscale\": [[0.0, \"#0d0887\"], [0.1111111111111111, \"#46039f\"], [0.2222222222222222, \"#7201a8\"], [0.3333333333333333, \"#9c179e\"], [0.4444444444444444, \"#bd3786\"], [0.5555555555555556, \"#d8576b\"], [0.6666666666666666, \"#ed7953\"], [0.7777777777777778, \"#fb9f3a\"], [0.8888888888888888, \"#fdca26\"], [1.0, \"#f0f921\"]], \"type\": \"contour\"}], \"contourcarpet\": [{\"colorbar\": {\"outlinewidth\": 0, \"ticks\": \"\"}, \"type\": \"contourcarpet\"}], \"heatmap\": [{\"colorbar\": {\"outlinewidth\": 0, \"ticks\": \"\"}, \"colorscale\": [[0.0, \"#0d0887\"], [0.1111111111111111, \"#46039f\"], [0.2222222222222222, \"#7201a8\"], [0.3333333333333333, \"#9c179e\"], [0.4444444444444444, \"#bd3786\"], [0.5555555555555556, \"#d8576b\"], [0.6666666666666666, \"#ed7953\"], [0.7777777777777778, \"#fb9f3a\"], [0.8888888888888888, \"#fdca26\"], [1.0, \"#f0f921\"]], \"type\": \"heatmap\"}], \"heatmapgl\": [{\"colorbar\": {\"outlinewidth\": 0, \"ticks\": \"\"}, \"colorscale\": [[0.0, \"#0d0887\"], [0.1111111111111111, \"#46039f\"], [0.2222222222222222, \"#7201a8\"], [0.3333333333333333, \"#9c179e\"], [0.4444444444444444, \"#bd3786\"], [0.5555555555555556, \"#d8576b\"], [0.6666666666666666, \"#ed7953\"], [0.7777777777777778, \"#fb9f3a\"], [0.8888888888888888, \"#fdca26\"], [1.0, \"#f0f921\"]], \"type\": \"heatmapgl\"}], \"histogram\": [{\"marker\": {\"colorbar\": {\"outlinewidth\": 0, \"ticks\": \"\"}}, \"type\": \"histogram\"}], \"histogram2d\": [{\"colorbar\": {\"outlinewidth\": 0, \"ticks\": \"\"}, \"colorscale\": [[0.0, \"#0d0887\"], [0.1111111111111111, \"#46039f\"], [0.2222222222222222, \"#7201a8\"], [0.3333333333333333, \"#9c179e\"], [0.4444444444444444, \"#bd3786\"], [0.5555555555555556, \"#d8576b\"], [0.6666666666666666, \"#ed7953\"], [0.7777777777777778, \"#fb9f3a\"], [0.8888888888888888, \"#fdca26\"], [1.0, \"#f0f921\"]], \"type\": \"histogram2d\"}], \"histogram2dcontour\": [{\"colorbar\": {\"outlinewidth\": 0, \"ticks\": \"\"}, \"colorscale\": [[0.0, \"#0d0887\"], [0.1111111111111111, \"#46039f\"], [0.2222222222222222, \"#7201a8\"], [0.3333333333333333, \"#9c179e\"], [0.4444444444444444, \"#bd3786\"], [0.5555555555555556, \"#d8576b\"], [0.6666666666666666, \"#ed7953\"], [0.7777777777777778, \"#fb9f3a\"], [0.8888888888888888, \"#fdca26\"], [1.0, \"#f0f921\"]], \"type\": \"histogram2dcontour\"}], \"mesh3d\": [{\"colorbar\": {\"outlinewidth\": 0, \"ticks\": \"\"}, \"type\": \"mesh3d\"}], \"parcoords\": [{\"line\": {\"colorbar\": {\"outlinewidth\": 0, \"ticks\": \"\"}}, \"type\": \"parcoords\"}], \"pie\": [{\"automargin\": true, \"type\": \"pie\"}], \"scatter\": [{\"marker\": {\"colorbar\": {\"outlinewidth\": 0, \"ticks\": \"\"}}, \"type\": \"scatter\"}], \"scatter3d\": [{\"line\": {\"colorbar\": {\"outlinewidth\": 0, \"ticks\": \"\"}}, \"marker\": {\"colorbar\": {\"outlinewidth\": 0, \"ticks\": \"\"}}, \"type\": \"scatter3d\"}], \"scattercarpet\": [{\"marker\": {\"colorbar\": {\"outlinewidth\": 0, \"ticks\": \"\"}}, \"type\": \"scattercarpet\"}], \"scattergeo\": [{\"marker\": {\"colorbar\": {\"outlinewidth\": 0, \"ticks\": \"\"}}, \"type\": \"scattergeo\"}], \"scattergl\": [{\"marker\": {\"colorbar\": {\"outlinewidth\": 0, \"ticks\": \"\"}}, \"type\": \"scattergl\"}], \"scattermapbox\": [{\"marker\": {\"colorbar\": {\"outlinewidth\": 0, \"ticks\": \"\"}}, \"type\": \"scattermapbox\"}], \"scatterpolar\": [{\"marker\": {\"colorbar\": {\"outlinewidth\": 0, \"ticks\": \"\"}}, \"type\": \"scatterpolar\"}], \"scatterpolargl\": [{\"marker\": {\"colorbar\": {\"outlinewidth\": 0, \"ticks\": \"\"}}, \"type\": \"scatterpolargl\"}], \"scatterternary\": [{\"marker\": {\"colorbar\": {\"outlinewidth\": 0, \"ticks\": \"\"}}, \"type\": \"scatterternary\"}], \"surface\": [{\"colorbar\": {\"outlinewidth\": 0, \"ticks\": \"\"}, \"colorscale\": [[0.0, \"#0d0887\"], [0.1111111111111111, \"#46039f\"], [0.2222222222222222, \"#7201a8\"], [0.3333333333333333, \"#9c179e\"], [0.4444444444444444, \"#bd3786\"], [0.5555555555555556, \"#d8576b\"], [0.6666666666666666, \"#ed7953\"], [0.7777777777777778, \"#fb9f3a\"], [0.8888888888888888, \"#fdca26\"], [1.0, \"#f0f921\"]], \"type\": \"surface\"}], \"table\": [{\"cells\": {\"fill\": {\"color\": \"#EBF0F8\"}, \"line\": {\"color\": \"white\"}}, \"header\": {\"fill\": {\"color\": \"#C8D4E3\"}, \"line\": {\"color\": \"white\"}}, \"type\": \"table\"}]}, \"layout\": {\"annotationdefaults\": {\"arrowcolor\": \"#2a3f5f\", \"arrowhead\": 0, \"arrowwidth\": 1}, \"autotypenumbers\": \"strict\", \"coloraxis\": {\"colorbar\": {\"outlinewidth\": 0, \"ticks\": \"\"}}, \"colorscale\": {\"diverging\": [[0, \"#8e0152\"], [0.1, \"#c51b7d\"], [0.2, \"#de77ae\"], [0.3, \"#f1b6da\"], [0.4, \"#fde0ef\"], [0.5, \"#f7f7f7\"], [0.6, \"#e6f5d0\"], [0.7, \"#b8e186\"], [0.8, \"#7fbc41\"], [0.9, \"#4d9221\"], [1, \"#276419\"]], \"sequential\": [[0.0, \"#0d0887\"], [0.1111111111111111, \"#46039f\"], [0.2222222222222222, \"#7201a8\"], [0.3333333333333333, \"#9c179e\"], [0.4444444444444444, \"#bd3786\"], [0.5555555555555556, \"#d8576b\"], [0.6666666666666666, \"#ed7953\"], [0.7777777777777778, \"#fb9f3a\"], [0.8888888888888888, \"#fdca26\"], [1.0, \"#f0f921\"]], \"sequentialminus\": [[0.0, \"#0d0887\"], [0.1111111111111111, \"#46039f\"], [0.2222222222222222, \"#7201a8\"], [0.3333333333333333, \"#9c179e\"], [0.4444444444444444, \"#bd3786\"], [0.5555555555555556, \"#d8576b\"], [0.6666666666666666, \"#ed7953\"], [0.7777777777777778, \"#fb9f3a\"], [0.8888888888888888, \"#fdca26\"], [1.0, \"#f0f921\"]]}, \"colorway\": [\"#636efa\", \"#EF553B\", \"#00cc96\", \"#ab63fa\", \"#FFA15A\", \"#19d3f3\", \"#FF6692\", \"#B6E880\", \"#FF97FF\", \"#FECB52\"], \"font\": {\"color\": \"#2a3f5f\"}, \"geo\": {\"bgcolor\": \"white\", \"lakecolor\": \"white\", \"landcolor\": \"#E5ECF6\", \"showlakes\": true, \"showland\": true, \"subunitcolor\": \"white\"}, \"hoverlabel\": {\"align\": \"left\"}, \"hovermode\": \"closest\", \"mapbox\": {\"style\": \"light\"}, \"paper_bgcolor\": \"white\", \"plot_bgcolor\": \"#E5ECF6\", \"polar\": {\"angularaxis\": {\"gridcolor\": \"white\", \"linecolor\": \"white\", \"ticks\": \"\"}, \"bgcolor\": \"#E5ECF6\", \"radialaxis\": {\"gridcolor\": \"white\", \"linecolor\": \"white\", \"ticks\": \"\"}}, \"scene\": {\"xaxis\": {\"backgroundcolor\": \"#E5ECF6\", \"gridcolor\": \"white\", \"gridwidth\": 2, \"linecolor\": \"white\", \"showbackground\": true, \"ticks\": \"\", \"zerolinecolor\": \"white\"}, \"yaxis\": {\"backgroundcolor\": \"#E5ECF6\", \"gridcolor\": \"white\", \"gridwidth\": 2, \"linecolor\": \"white\", \"showbackground\": true, \"ticks\": \"\", \"zerolinecolor\": \"white\"}, \"zaxis\": {\"backgroundcolor\": \"#E5ECF6\", \"gridcolor\": \"white\", \"gridwidth\": 2, \"linecolor\": \"white\", \"showbackground\": true, \"ticks\": \"\", \"zerolinecolor\": \"white\"}}, \"shapedefaults\": {\"line\": {\"color\": \"#2a3f5f\"}}, \"ternary\": {\"aaxis\": {\"gridcolor\": \"white\", \"linecolor\": \"white\", \"ticks\": \"\"}, \"baxis\": {\"gridcolor\": \"white\", \"linecolor\": \"white\", \"ticks\": \"\"}, \"bgcolor\": \"#E5ECF6\", \"caxis\": {\"gridcolor\": \"white\", \"linecolor\": \"white\", \"ticks\": \"\"}}, \"title\": {\"x\": 0.05}, \"xaxis\": {\"automargin\": true, \"gridcolor\": \"white\", \"linecolor\": \"white\", \"ticks\": \"\", \"title\": {\"standoff\": 15}, \"zerolinecolor\": \"white\", \"zerolinewidth\": 2}, \"yaxis\": {\"automargin\": true, \"gridcolor\": \"white\", \"linecolor\": \"white\", \"ticks\": \"\", \"title\": {\"standoff\": 15}, \"zerolinecolor\": \"white\", \"zerolinewidth\": 2}}}, \"updatemenus\": [{\"buttons\": [{\"args\": [null, {\"frame\": {\"duration\": 500, \"redraw\": true}, \"fromcurrent\": true, \"mode\": \"immediate\", \"transition\": {\"duration\": 500, \"easing\": \"linear\"}}], \"label\": \"&#9654;\", \"method\": \"animate\"}, {\"args\": [[null], {\"frame\": {\"duration\": 0, \"redraw\": true}, \"fromcurrent\": true, \"mode\": \"immediate\", \"transition\": {\"duration\": 0, \"easing\": \"linear\"}}], \"label\": \"&#9724;\", \"method\": \"animate\"}], \"direction\": \"left\", \"pad\": {\"r\": 10, \"t\": 70}, \"showactive\": false, \"type\": \"buttons\", \"x\": 0.1, \"xanchor\": \"right\", \"y\": 0, \"yanchor\": \"top\"}]},                        {\"responsive\": true}                    ).then(function(){\n",
       "                            Plotly.addFrames('f22a75f1-a924-4db5-9f5a-cf5a85866790', [{\"data\": [{\"coloraxis\": \"coloraxis\", \"customdata\": [[\"Australia\", 1, 2008], [\"Japan\", 1, 2008], [\"United Kingdom\", 1, 2008], [\"United States\", 6, 2008], [\"nan\", 1, 2008]], \"geo\": \"geo\", \"hovertemplate\": \"<b>%{hovertext}</b><br><br>number_of_titles=%{z}<extra></extra>\", \"hovertext\": [\"Australia\", \"Japan\", \"United Kingdom\", \"United States\", \"nan\"], \"locationmode\": \"country names\", \"locations\": [\"Australia\", \"Japan\", \"United Kingdom\", \"United States\", \"nan\"], \"name\": \"\", \"z\": [1, 1, 1, 6, 1], \"type\": \"choropleth\"}], \"name\": \"2008\"}, {\"data\": [{\"coloraxis\": \"coloraxis\", \"customdata\": [[\"Australia\", 1, 2009], [\"Japan\", 1, 2009], [\"United Kingdom\", 1, 2009], [\"United States\", 8, 2009], [\"nan\", 1, 2009]], \"geo\": \"geo\", \"hovertemplate\": \"<b>%{hovertext}</b><br><br>number_of_titles=%{z}<extra></extra>\", \"hovertext\": [\"Australia\", \"Japan\", \"United Kingdom\", \"United States\", \"nan\"], \"locationmode\": \"country names\", \"locations\": [\"Australia\", \"Japan\", \"United Kingdom\", \"United States\", \"nan\"], \"name\": \"\", \"z\": [1, 1, 1, 8, 1], \"type\": \"choropleth\"}], \"name\": \"2009\"}, {\"data\": [{\"coloraxis\": \"coloraxis\", \"customdata\": [[\"Australia\", 1, 2010], [\"Denmark\", 1, 2010], [\"Japan\", 1, 2010], [\"United Kingdom\", 1, 2010], [\"United States\", 9, 2010], [\"nan\", 1, 2010]], \"geo\": \"geo\", \"hovertemplate\": \"<b>%{hovertext}</b><br><br>number_of_titles=%{z}<extra></extra>\", \"hovertext\": [\"Australia\", \"Denmark\", \"Japan\", \"United Kingdom\", \"United States\", \"nan\"], \"locationmode\": \"country names\", \"locations\": [\"Australia\", \"Denmark\", \"Japan\", \"United Kingdom\", \"United States\", \"nan\"], \"name\": \"\", \"z\": [1, 1, 1, 1, 9, 1], \"type\": \"choropleth\"}], \"name\": \"2010\"}, {\"data\": [{\"coloraxis\": \"coloraxis\", \"customdata\": [[\"Australia\", 1, 2011], [\"Denmark\", 1, 2011], [\"Japan\", 1, 2011], [\"United Kingdom\", 1, 2011], [\"United States\", 10, 2011], [\"nan\", 1, 2011]], \"geo\": \"geo\", \"hovertemplate\": \"<b>%{hovertext}</b><br><br>number_of_titles=%{z}<extra></extra>\", \"hovertext\": [\"Australia\", \"Denmark\", \"Japan\", \"United Kingdom\", \"United States\", \"nan\"], \"locationmode\": \"country names\", \"locations\": [\"Australia\", \"Denmark\", \"Japan\", \"United Kingdom\", \"United States\", \"nan\"], \"name\": \"\", \"z\": [1, 1, 1, 1, 10, 1], \"type\": \"choropleth\"}], \"name\": \"2011\"}, {\"data\": [{\"coloraxis\": \"coloraxis\", \"customdata\": [[\"Australia\", 1, 2012], [\"Denmark\", 1, 2012], [\"France\", 1, 2012], [\"Japan\", 1, 2012], [\"Mexico\", 1, 2012], [\"Spain\", 1, 2012], [\"United Kingdom\", 1, 2012], [\"United States\", 22, 2012], [\"nan\", 1, 2012]], \"geo\": \"geo\", \"hovertemplate\": \"<b>%{hovertext}</b><br><br>number_of_titles=%{z}<extra></extra>\", \"hovertext\": [\"Australia\", \"Denmark\", \"France\", \"Japan\", \"Mexico\", \"Spain\", \"United Kingdom\", \"United States\", \"nan\"], \"locationmode\": \"country names\", \"locations\": [\"Australia\", \"Denmark\", \"France\", \"Japan\", \"Mexico\", \"Spain\", \"United Kingdom\", \"United States\", \"nan\"], \"name\": \"\", \"z\": [1, 1, 1, 1, 1, 1, 1, 22, 1], \"type\": \"choropleth\"}], \"name\": \"2012\"}, {\"data\": [{\"coloraxis\": \"coloraxis\", \"customdata\": [[\"Australia\", 1, 2013], [\"Denmark\", 1, 2013], [\"France\", 1, 2013], [\"Japan\", 1, 2013], [\"Mexico\", 2, 2013], [\"Spain\", 1, 2013], [\"United Kingdom\", 1, 2013], [\"United States\", 25, 2013], [\"nan\", 1, 2013]], \"geo\": \"geo\", \"hovertemplate\": \"<b>%{hovertext}</b><br><br>number_of_titles=%{z}<extra></extra>\", \"hovertext\": [\"Australia\", \"Denmark\", \"France\", \"Japan\", \"Mexico\", \"Spain\", \"United Kingdom\", \"United States\", \"nan\"], \"locationmode\": \"country names\", \"locations\": [\"Australia\", \"Denmark\", \"France\", \"Japan\", \"Mexico\", \"Spain\", \"United Kingdom\", \"United States\", \"nan\"], \"name\": \"\", \"z\": [1, 1, 1, 1, 2, 1, 1, 25, 1], \"type\": \"choropleth\"}], \"name\": \"2013\"}, {\"data\": [{\"coloraxis\": \"coloraxis\", \"customdata\": [[\"Australia\", 1, 2014], [\"Canada\", 1, 2014], [\"Denmark\", 1, 2014], [\"France\", 1, 2014], [\"Ireland\", 1, 2014], [\"Japan\", 1, 2014], [\"Mexico\", 2, 2014], [\"Spain\", 1, 2014], [\"United Kingdom\", 2, 2014], [\"United States\", 35, 2014], [\"nan\", 1, 2014]], \"geo\": \"geo\", \"hovertemplate\": \"<b>%{hovertext}</b><br><br>number_of_titles=%{z}<extra></extra>\", \"hovertext\": [\"Australia\", \"Canada\", \"Denmark\", \"France\", \"Ireland\", \"Japan\", \"Mexico\", \"Spain\", \"United Kingdom\", \"United States\", \"nan\"], \"locationmode\": \"country names\", \"locations\": [\"Australia\", \"Canada\", \"Denmark\", \"France\", \"Ireland\", \"Japan\", \"Mexico\", \"Spain\", \"United Kingdom\", \"United States\", \"nan\"], \"name\": \"\", \"z\": [1, 1, 1, 1, 1, 1, 2, 1, 2, 35, 1], \"type\": \"choropleth\"}], \"name\": \"2014\"}, {\"data\": [{\"coloraxis\": \"coloraxis\", \"customdata\": [[\"\", 1, 2015], [\"Australia\", 1, 2015], [\"Bermuda\", 1, 2015], [\"Canada\", 5, 2015], [\"Denmark\", 1, 2015], [\"Ecuador\", 1, 2015], [\"Egypt\", 1, 2015], [\"France\", 1, 2015], [\"Hungary\", 1, 2015], [\"Ireland\", 2, 2015], [\"Japan\", 1, 2015], [\"Mexico\", 2, 2015], [\"Norway\", 1, 2015], [\"Spain\", 1, 2015], [\"United Kingdom\", 5, 2015], [\"United States\", 58, 2015], [\"nan\", 1, 2015]], \"geo\": \"geo\", \"hovertemplate\": \"<b>%{hovertext}</b><br><br>number_of_titles=%{z}<extra></extra>\", \"hovertext\": [\"\", \"Australia\", \"Bermuda\", \"Canada\", \"Denmark\", \"Ecuador\", \"Egypt\", \"France\", \"Hungary\", \"Ireland\", \"Japan\", \"Mexico\", \"Norway\", \"Spain\", \"United Kingdom\", \"United States\", \"nan\"], \"locationmode\": \"country names\", \"locations\": [\"\", \"Australia\", \"Bermuda\", \"Canada\", \"Denmark\", \"Ecuador\", \"Egypt\", \"France\", \"Hungary\", \"Ireland\", \"Japan\", \"Mexico\", \"Norway\", \"Spain\", \"United Kingdom\", \"United States\", \"nan\"], \"name\": \"\", \"z\": [1, 1, 1, 5, 1, 1, 1, 1, 1, 2, 1, 2, 1, 1, 5, 58, 1], \"type\": \"choropleth\"}], \"name\": \"2015\"}, {\"data\": [{\"coloraxis\": \"coloraxis\", \"customdata\": [[\"\", 1, 2016], [\"Australia\", 6, 2016], [\"Belgium\", 3, 2016], [\"Bermuda\", 1, 2016], [\"Canada\", 13, 2016], [\"China\", 1, 2016], [\"Denmark\", 1, 2016], [\"Ecuador\", 1, 2016], [\"Egypt\", 1, 2016], [\"France\", 10, 2016], [\"Germany\", 2, 2016], [\"Hungary\", 1, 2016], [\"Ireland\", 4, 2016], [\"Italy\", 3, 2016], [\"Japan\", 2, 2016], [\"Mexico\", 3, 2016], [\"New Zealand\", 2, 2016], [\"Nigeria\", 1, 2016], [\"Norway\", 2, 2016], [\"Spain\", 1, 2016], [\"Ukraine\", 1, 2016], [\"United Kingdom\", 13, 2016], [\"United States\", 118, 2016], [\"nan\", 6, 2016]], \"geo\": \"geo\", \"hovertemplate\": \"<b>%{hovertext}</b><br><br>number_of_titles=%{z}<extra></extra>\", \"hovertext\": [\"\", \"Australia\", \"Belgium\", \"Bermuda\", \"Canada\", \"China\", \"Denmark\", \"Ecuador\", \"Egypt\", \"France\", \"Germany\", \"Hungary\", \"Ireland\", \"Italy\", \"Japan\", \"Mexico\", \"New Zealand\", \"Nigeria\", \"Norway\", \"Spain\", \"Ukraine\", \"United Kingdom\", \"United States\", \"nan\"], \"locationmode\": \"country names\", \"locations\": [\"\", \"Australia\", \"Belgium\", \"Bermuda\", \"Canada\", \"China\", \"Denmark\", \"Ecuador\", \"Egypt\", \"France\", \"Germany\", \"Hungary\", \"Ireland\", \"Italy\", \"Japan\", \"Mexico\", \"New Zealand\", \"Nigeria\", \"Norway\", \"Spain\", \"Ukraine\", \"United Kingdom\", \"United States\", \"nan\"], \"name\": \"\", \"z\": [1, 6, 3, 1, 13, 1, 1, 1, 1, 10, 2, 1, 4, 3, 2, 3, 2, 1, 2, 1, 1, 13, 118, 6], \"type\": \"choropleth\"}], \"name\": \"2016\"}, {\"data\": [{\"coloraxis\": \"coloraxis\", \"customdata\": [[\"\", 1, 2017], [\"Argentina\", 3, 2017], [\"Australia\", 15, 2017], [\"Austria\", 1, 2017], [\"Azerbaijan\", 1, 2017], [\"Belgium\", 7, 2017], [\"Bermuda\", 1, 2017], [\"Brazil\", 2, 2017], [\"Canada\", 44, 2017], [\"Chile\", 2, 2017], [\"China\", 10, 2017], [\"Colombia\", 2, 2017], [\"Croatia\", 1, 2017], [\"Cuba\", 1, 2017], [\"Denmark\", 8, 2017], [\"Ecuador\", 1, 2017], [\"Egypt\", 1, 2017], [\"Finland\", 1, 2017], [\"France\", 39, 2017], [\"Germany\", 16, 2017], [\"Greece\", 5, 2017], [\"Hong Kong\", 4, 2017], [\"Hungary\", 2, 2017], [\"Iceland\", 1, 2017], [\"India\", 14, 2017], [\"Indonesia\", 1, 2017], [\"Ireland\", 8, 2017], [\"Israel\", 3, 2017], [\"Italy\", 6, 2017], [\"Japan\", 33, 2017], [\"Jordan\", 1, 2017], [\"Kazakhstan\", 1, 2017], [\"Mexico\", 12, 2017], [\"Montenegro\", 1, 2017], [\"Netherlands\", 8, 2017], [\"New Zealand\", 6, 2017], [\"Nigeria\", 2, 2017], [\"Norway\", 7, 2017], [\"Pakistan\", 4, 2017], [\"Peru\", 3, 2017], [\"Poland\", 1, 2017], [\"Qatar\", 1, 2017], [\"Russia\", 2, 2017], [\"Serbia\", 1, 2017], [\"Slovenia\", 1, 2017], [\"South Africa\", 2, 2017], [\"South Korea\", 11, 2017], [\"Spain\", 18, 2017], [\"Sweden\", 2, 2017], [\"Switzerland\", 1, 2017], [\"Taiwan\", 29, 2017], [\"Turkey\", 4, 2017], [\"Ukraine\", 1, 2017], [\"United Arab Emirates\", 1, 2017], [\"United Kingdom\", 67, 2017], [\"United States\", 322, 2017], [\"Zimbabwe\", 1, 2017], [\"nan\", 25, 2017]], \"geo\": \"geo\", \"hovertemplate\": \"<b>%{hovertext}</b><br><br>number_of_titles=%{z}<extra></extra>\", \"hovertext\": [\"\", \"Argentina\", \"Australia\", \"Austria\", \"Azerbaijan\", \"Belgium\", \"Bermuda\", \"Brazil\", \"Canada\", \"Chile\", \"China\", \"Colombia\", \"Croatia\", \"Cuba\", \"Denmark\", \"Ecuador\", \"Egypt\", \"Finland\", \"France\", \"Germany\", \"Greece\", \"Hong Kong\", \"Hungary\", \"Iceland\", \"India\", \"Indonesia\", \"Ireland\", \"Israel\", \"Italy\", \"Japan\", \"Jordan\", \"Kazakhstan\", \"Mexico\", \"Montenegro\", \"Netherlands\", \"New Zealand\", \"Nigeria\", \"Norway\", \"Pakistan\", \"Peru\", \"Poland\", \"Qatar\", \"Russia\", \"Serbia\", \"Slovenia\", \"South Africa\", \"South Korea\", \"Spain\", \"Sweden\", \"Switzerland\", \"Taiwan\", \"Turkey\", \"Ukraine\", \"United Arab Emirates\", \"United Kingdom\", \"United States\", \"Zimbabwe\", \"nan\"], \"locationmode\": \"country names\", \"locations\": [\"\", \"Argentina\", \"Australia\", \"Austria\", \"Azerbaijan\", \"Belgium\", \"Bermuda\", \"Brazil\", \"Canada\", \"Chile\", \"China\", \"Colombia\", \"Croatia\", \"Cuba\", \"Denmark\", \"Ecuador\", \"Egypt\", \"Finland\", \"France\", \"Germany\", \"Greece\", \"Hong Kong\", \"Hungary\", \"Iceland\", \"India\", \"Indonesia\", \"Ireland\", \"Israel\", \"Italy\", \"Japan\", \"Jordan\", \"Kazakhstan\", \"Mexico\", \"Montenegro\", \"Netherlands\", \"New Zealand\", \"Nigeria\", \"Norway\", \"Pakistan\", \"Peru\", \"Poland\", \"Qatar\", \"Russia\", \"Serbia\", \"Slovenia\", \"South Africa\", \"South Korea\", \"Spain\", \"Sweden\", \"Switzerland\", \"Taiwan\", \"Turkey\", \"Ukraine\", \"United Arab Emirates\", \"United Kingdom\", \"United States\", \"Zimbabwe\", \"nan\"], \"name\": \"\", \"z\": [1, 3, 15, 1, 1, 7, 1, 2, 44, 2, 10, 2, 1, 1, 8, 1, 1, 1, 39, 16, 5, 4, 2, 1, 14, 1, 8, 3, 6, 33, 1, 1, 12, 1, 8, 6, 2, 7, 4, 3, 1, 1, 2, 1, 1, 2, 11, 18, 2, 1, 29, 4, 1, 1, 67, 322, 1, 25], \"type\": \"choropleth\"}], \"name\": \"2017\"}, {\"data\": [{\"coloraxis\": \"coloraxis\", \"customdata\": [[\"\", 1, 2018], [\"Afghanistan\", 1, 2018], [\"Argentina\", 19, 2018], [\"Armenia\", 1, 2018], [\"Australia\", 39, 2018], [\"Austria\", 3, 2018], [\"Azerbaijan\", 1, 2018], [\"Belgium\", 27, 2018], [\"Bermuda\", 1, 2018], [\"Brazil\", 18, 2018], [\"Bulgaria\", 2, 2018], [\"Cambodia\", 2, 2018], [\"Canada\", 115, 2018], [\"Chile\", 10, 2018], [\"China\", 35, 2018], [\"Colombia\", 7, 2018], [\"Croatia\", 2, 2018], [\"Cuba\", 1, 2018], [\"Czech Republic\", 4, 2018], [\"Denmark\", 13, 2018], [\"Ecuador\", 1, 2018], [\"Egypt\", 1, 2018], [\"Finland\", 2, 2018], [\"France\", 93, 2018], [\"Georgia\", 1, 2018], [\"Germany\", 49, 2018], [\"Greece\", 7, 2018], [\"Hong Kong\", 12, 2018], [\"Hungary\", 2, 2018], [\"Iceland\", 2, 2018], [\"India\", 177, 2018], [\"Indonesia\", 3, 2018], [\"Iran\", 1, 2018], [\"Ireland\", 15, 2018], [\"Israel\", 9, 2018], [\"Italy\", 23, 2018], [\"Japan\", 78, 2018], [\"Jordan\", 4, 2018], [\"Kazakhstan\", 1, 2018], [\"Latvia\", 1, 2018], [\"Lebanon\", 2, 2018], [\"Lithuania\", 1, 2018], [\"Malaysia\", 8, 2018], [\"Mexico\", 48, 2018], [\"Mongolia\", 1, 2018], [\"Montenegro\", 1, 2018], [\"Morocco\", 1, 2018], [\"Nepal\", 1, 2018], [\"Netherlands\", 16, 2018], [\"New Zealand\", 9, 2018], [\"Nicaragua\", 1, 2018], [\"Nigeria\", 3, 2018], [\"Norway\", 12, 2018], [\"Pakistan\", 9, 2018], [\"Panama\", 1, 2018], [\"Peru\", 4, 2018], [\"Philippines\", 1, 2018], [\"Poland\", 2, 2018], [\"Portugal\", 1, 2018], [\"Qatar\", 5, 2018], [\"Romania\", 1, 2018], [\"Russia\", 10, 2018], [\"Samoa\", 1, 2018], [\"Saudi Arabia\", 1, 2018], [\"Senegal\", 1, 2018], [\"Serbia\", 1, 2018], [\"Singapore\", 18, 2018], [\"Slovakia\", 1, 2018], [\"Slovenia\", 2, 2018], [\"South Africa\", 7, 2018], [\"South Korea\", 55, 2018], [\"Soviet Union\", 2, 2018], [\"Spain\", 61, 2018], [\"Sri Lanka\", 1, 2018], [\"Sweden\", 13, 2018], [\"Switzerland\", 6, 2018], [\"Taiwan\", 40, 2018], [\"Thailand\", 3, 2018], [\"Turkey\", 49, 2018], [\"Ukraine\", 2, 2018], [\"United Arab Emirates\", 5, 2018], [\"United Kingdom\", 201, 2018], [\"United States\", 793, 2018], [\"Uruguay\", 5, 2018], [\"Venezuela\", 2, 2018], [\"Vietnam\", 1, 2018], [\"West Germany\", 1, 2018], [\"Zimbabwe\", 1, 2018], [\"nan\", 91, 2018]], \"geo\": \"geo\", \"hovertemplate\": \"<b>%{hovertext}</b><br><br>number_of_titles=%{z}<extra></extra>\", \"hovertext\": [\"\", \"Afghanistan\", \"Argentina\", \"Armenia\", \"Australia\", \"Austria\", \"Azerbaijan\", \"Belgium\", \"Bermuda\", \"Brazil\", \"Bulgaria\", \"Cambodia\", \"Canada\", \"Chile\", \"China\", \"Colombia\", \"Croatia\", \"Cuba\", \"Czech Republic\", \"Denmark\", \"Ecuador\", \"Egypt\", \"Finland\", \"France\", \"Georgia\", \"Germany\", \"Greece\", \"Hong Kong\", \"Hungary\", \"Iceland\", \"India\", \"Indonesia\", \"Iran\", \"Ireland\", \"Israel\", \"Italy\", \"Japan\", \"Jordan\", \"Kazakhstan\", \"Latvia\", \"Lebanon\", \"Lithuania\", \"Malaysia\", \"Mexico\", \"Mongolia\", \"Montenegro\", \"Morocco\", \"Nepal\", \"Netherlands\", \"New Zealand\", \"Nicaragua\", \"Nigeria\", \"Norway\", \"Pakistan\", \"Panama\", \"Peru\", \"Philippines\", \"Poland\", \"Portugal\", \"Qatar\", \"Romania\", \"Russia\", \"Samoa\", \"Saudi Arabia\", \"Senegal\", \"Serbia\", \"Singapore\", \"Slovakia\", \"Slovenia\", \"South Africa\", \"South Korea\", \"Soviet Union\", \"Spain\", \"Sri Lanka\", \"Sweden\", \"Switzerland\", \"Taiwan\", \"Thailand\", \"Turkey\", \"Ukraine\", \"United Arab Emirates\", \"United Kingdom\", \"United States\", \"Uruguay\", \"Venezuela\", \"Vietnam\", \"West Germany\", \"Zimbabwe\", \"nan\"], \"locationmode\": \"country names\", \"locations\": [\"\", \"Afghanistan\", \"Argentina\", \"Armenia\", \"Australia\", \"Austria\", \"Azerbaijan\", \"Belgium\", \"Bermuda\", \"Brazil\", \"Bulgaria\", \"Cambodia\", \"Canada\", \"Chile\", \"China\", \"Colombia\", \"Croatia\", \"Cuba\", \"Czech Republic\", \"Denmark\", \"Ecuador\", \"Egypt\", \"Finland\", \"France\", \"Georgia\", \"Germany\", \"Greece\", \"Hong Kong\", \"Hungary\", \"Iceland\", \"India\", \"Indonesia\", \"Iran\", \"Ireland\", \"Israel\", \"Italy\", \"Japan\", \"Jordan\", \"Kazakhstan\", \"Latvia\", \"Lebanon\", \"Lithuania\", \"Malaysia\", \"Mexico\", \"Mongolia\", \"Montenegro\", \"Morocco\", \"Nepal\", \"Netherlands\", \"New Zealand\", \"Nicaragua\", \"Nigeria\", \"Norway\", \"Pakistan\", \"Panama\", \"Peru\", \"Philippines\", \"Poland\", \"Portugal\", \"Qatar\", \"Romania\", \"Russia\", \"Samoa\", \"Saudi Arabia\", \"Senegal\", \"Serbia\", \"Singapore\", \"Slovakia\", \"Slovenia\", \"South Africa\", \"South Korea\", \"Soviet Union\", \"Spain\", \"Sri Lanka\", \"Sweden\", \"Switzerland\", \"Taiwan\", \"Thailand\", \"Turkey\", \"Ukraine\", \"United Arab Emirates\", \"United Kingdom\", \"United States\", \"Uruguay\", \"Venezuela\", \"Vietnam\", \"West Germany\", \"Zimbabwe\", \"nan\"], \"name\": \"\", \"z\": [1, 1, 19, 1, 39, 3, 1, 27, 1, 18, 2, 2, 115, 10, 35, 7, 2, 1, 4, 13, 1, 1, 2, 93, 1, 49, 7, 12, 2, 2, 177, 3, 1, 15, 9, 23, 78, 4, 1, 1, 2, 1, 8, 48, 1, 1, 1, 1, 16, 9, 1, 3, 12, 9, 1, 4, 1, 2, 1, 5, 1, 10, 1, 1, 1, 1, 18, 1, 2, 7, 55, 2, 61, 1, 13, 6, 40, 3, 49, 2, 5, 201, 793, 5, 2, 1, 1, 1, 91], \"type\": \"choropleth\"}], \"name\": \"2018\"}, {\"data\": [{\"coloraxis\": \"coloraxis\", \"customdata\": [[\"\", 2, 2019], [\"Afghanistan\", 1, 2019], [\"Albania\", 1, 2019], [\"Argentina\", 46, 2019], [\"Armenia\", 1, 2019], [\"Australia\", 77, 2019], [\"Austria\", 4, 2019], [\"Azerbaijan\", 1, 2019], [\"Bangladesh\", 1, 2019], [\"Belgium\", 41, 2019], [\"Bermuda\", 1, 2019], [\"Brazil\", 38, 2019], [\"Bulgaria\", 6, 2019], [\"Cambodia\", 3, 2019], [\"Canada\", 199, 2019], [\"Cayman Islands\", 1, 2019], [\"Chile\", 19, 2019], [\"China\", 78, 2019], [\"Colombia\", 22, 2019], [\"Croatia\", 3, 2019], [\"Cuba\", 1, 2019], [\"Czech Republic\", 9, 2019], [\"Denmark\", 23, 2019], [\"Dominican Republic\", 1, 2019], [\"Ecuador\", 1, 2019], [\"Egypt\", 4, 2019], [\"Finland\", 3, 2019], [\"France\", 159, 2019], [\"Georgia\", 2, 2019], [\"Germany\", 83, 2019], [\"Greece\", 8, 2019], [\"Guatemala\", 1, 2019], [\"Hong Kong\", 69, 2019], [\"Hungary\", 4, 2019], [\"Iceland\", 4, 2019], [\"India\", 533, 2019], [\"Indonesia\", 31, 2019], [\"Iran\", 3, 2019], [\"Iraq\", 1, 2019], [\"Ireland\", 27, 2019], [\"Israel\", 18, 2019], [\"Italy\", 37, 2019], [\"Japan\", 125, 2019], [\"Jordan\", 5, 2019], [\"Kazakhstan\", 1, 2019], [\"Kenya\", 1, 2019], [\"Kuwait\", 1, 2019], [\"Latvia\", 1, 2019], [\"Lebanon\", 4, 2019], [\"Lithuania\", 1, 2019], [\"Luxembourg\", 3, 2019], [\"Malaysia\", 11, 2019], [\"Mexico\", 79, 2019], [\"Mongolia\", 1, 2019], [\"Montenegro\", 1, 2019], [\"Morocco\", 5, 2019], [\"Namibia\", 1, 2019], [\"Nepal\", 1, 2019], [\"Netherlands\", 26, 2019], [\"New Zealand\", 15, 2019], [\"Nicaragua\", 1, 2019], [\"Nigeria\", 4, 2019], [\"Norway\", 15, 2019], [\"Pakistan\", 14, 2019], [\"Panama\", 1, 2019], [\"Peru\", 7, 2019], [\"Philippines\", 7, 2019], [\"Poland\", 9, 2019], [\"Portugal\", 3, 2019], [\"Qatar\", 7, 2019], [\"Romania\", 1, 2019], [\"Russia\", 16, 2019], [\"Samoa\", 1, 2019], [\"Saudi Arabia\", 2, 2019], [\"Senegal\", 1, 2019], [\"Serbia\", 4, 2019], [\"Singapore\", 26, 2019], [\"Slovakia\", 1, 2019], [\"Slovenia\", 3, 2019], [\"Somalia\", 1, 2019], [\"South Africa\", 20, 2019], [\"South Korea\", 88, 2019], [\"Soviet Union\", 3, 2019], [\"Spain\", 105, 2019], [\"Sri Lanka\", 1, 2019], [\"Sudan\", 1, 2019], [\"Sweden\", 23, 2019], [\"Switzerland\", 10, 2019], [\"Syria\", 1, 2019], [\"Taiwan\", 49, 2019], [\"Thailand\", 36, 2019], [\"Turkey\", 55, 2019], [\"Uganda\", 1, 2019], [\"Ukraine\", 3, 2019], [\"United Arab Emirates\", 11, 2019], [\"United Kingdom\", 349, 2019], [\"United States\", 1409, 2019], [\"Uruguay\", 6, 2019], [\"Venezuela\", 3, 2019], [\"Vietnam\", 3, 2019], [\"West Germany\", 2, 2019], [\"Zimbabwe\", 2, 2019], [\"nan\", 213, 2019]], \"geo\": \"geo\", \"hovertemplate\": \"<b>%{hovertext}</b><br><br>number_of_titles=%{z}<extra></extra>\", \"hovertext\": [\"\", \"Afghanistan\", \"Albania\", \"Argentina\", \"Armenia\", \"Australia\", \"Austria\", \"Azerbaijan\", \"Bangladesh\", \"Belgium\", \"Bermuda\", \"Brazil\", \"Bulgaria\", \"Cambodia\", \"Canada\", \"Cayman Islands\", \"Chile\", \"China\", \"Colombia\", \"Croatia\", \"Cuba\", \"Czech Republic\", \"Denmark\", \"Dominican Republic\", \"Ecuador\", \"Egypt\", \"Finland\", \"France\", \"Georgia\", \"Germany\", \"Greece\", \"Guatemala\", \"Hong Kong\", \"Hungary\", \"Iceland\", \"India\", \"Indonesia\", \"Iran\", \"Iraq\", \"Ireland\", \"Israel\", \"Italy\", \"Japan\", \"Jordan\", \"Kazakhstan\", \"Kenya\", \"Kuwait\", \"Latvia\", \"Lebanon\", \"Lithuania\", \"Luxembourg\", \"Malaysia\", \"Mexico\", \"Mongolia\", \"Montenegro\", \"Morocco\", \"Namibia\", \"Nepal\", \"Netherlands\", \"New Zealand\", \"Nicaragua\", \"Nigeria\", \"Norway\", \"Pakistan\", \"Panama\", \"Peru\", \"Philippines\", \"Poland\", \"Portugal\", \"Qatar\", \"Romania\", \"Russia\", \"Samoa\", \"Saudi Arabia\", \"Senegal\", \"Serbia\", \"Singapore\", \"Slovakia\", \"Slovenia\", \"Somalia\", \"South Africa\", \"South Korea\", \"Soviet Union\", \"Spain\", \"Sri Lanka\", \"Sudan\", \"Sweden\", \"Switzerland\", \"Syria\", \"Taiwan\", \"Thailand\", \"Turkey\", \"Uganda\", \"Ukraine\", \"United Arab Emirates\", \"United Kingdom\", \"United States\", \"Uruguay\", \"Venezuela\", \"Vietnam\", \"West Germany\", \"Zimbabwe\", \"nan\"], \"locationmode\": \"country names\", \"locations\": [\"\", \"Afghanistan\", \"Albania\", \"Argentina\", \"Armenia\", \"Australia\", \"Austria\", \"Azerbaijan\", \"Bangladesh\", \"Belgium\", \"Bermuda\", \"Brazil\", \"Bulgaria\", \"Cambodia\", \"Canada\", \"Cayman Islands\", \"Chile\", \"China\", \"Colombia\", \"Croatia\", \"Cuba\", \"Czech Republic\", \"Denmark\", \"Dominican Republic\", \"Ecuador\", \"Egypt\", \"Finland\", \"France\", \"Georgia\", \"Germany\", \"Greece\", \"Guatemala\", \"Hong Kong\", \"Hungary\", \"Iceland\", \"India\", \"Indonesia\", \"Iran\", \"Iraq\", \"Ireland\", \"Israel\", \"Italy\", \"Japan\", \"Jordan\", \"Kazakhstan\", \"Kenya\", \"Kuwait\", \"Latvia\", \"Lebanon\", \"Lithuania\", \"Luxembourg\", \"Malaysia\", \"Mexico\", \"Mongolia\", \"Montenegro\", \"Morocco\", \"Namibia\", \"Nepal\", \"Netherlands\", \"New Zealand\", \"Nicaragua\", \"Nigeria\", \"Norway\", \"Pakistan\", \"Panama\", \"Peru\", \"Philippines\", \"Poland\", \"Portugal\", \"Qatar\", \"Romania\", \"Russia\", \"Samoa\", \"Saudi Arabia\", \"Senegal\", \"Serbia\", \"Singapore\", \"Slovakia\", \"Slovenia\", \"Somalia\", \"South Africa\", \"South Korea\", \"Soviet Union\", \"Spain\", \"Sri Lanka\", \"Sudan\", \"Sweden\", \"Switzerland\", \"Syria\", \"Taiwan\", \"Thailand\", \"Turkey\", \"Uganda\", \"Ukraine\", \"United Arab Emirates\", \"United Kingdom\", \"United States\", \"Uruguay\", \"Venezuela\", \"Vietnam\", \"West Germany\", \"Zimbabwe\", \"nan\"], \"name\": \"\", \"z\": [2, 1, 1, 46, 1, 77, 4, 1, 1, 41, 1, 38, 6, 3, 199, 1, 19, 78, 22, 3, 1, 9, 23, 1, 1, 4, 3, 159, 2, 83, 8, 1, 69, 4, 4, 533, 31, 3, 1, 27, 18, 37, 125, 5, 1, 1, 1, 1, 4, 1, 3, 11, 79, 1, 1, 5, 1, 1, 26, 15, 1, 4, 15, 14, 1, 7, 7, 9, 3, 7, 1, 16, 1, 2, 1, 4, 26, 1, 3, 1, 20, 88, 3, 105, 1, 1, 23, 10, 1, 49, 36, 55, 1, 3, 11, 349, 1409, 6, 3, 3, 2, 2, 213], \"type\": \"choropleth\"}], \"name\": \"2019\"}, {\"data\": [{\"coloraxis\": \"coloraxis\", \"customdata\": [[\"\", 3, 2020], [\"Afghanistan\", 1, 2020], [\"Albania\", 1, 2020], [\"Argentina\", 66, 2020], [\"Armenia\", 1, 2020], [\"Australia\", 113, 2020], [\"Austria\", 8, 2020], [\"Azerbaijan\", 1, 2020], [\"Bangladesh\", 3, 2020], [\"Belgium\", 61, 2020], [\"Bermuda\", 1, 2020], [\"Brazil\", 60, 2020], [\"Bulgaria\", 8, 2020], [\"Cambodia\", 4, 2020], [\"Canada\", 289, 2020], [\"Cayman Islands\", 1, 2020], [\"Chile\", 21, 2020], [\"China\", 120, 2020], [\"Colombia\", 35, 2020], [\"Croatia\", 4, 2020], [\"Cuba\", 1, 2020], [\"Czech Republic\", 15, 2020], [\"Denmark\", 35, 2020], [\"Dominican Republic\", 1, 2020], [\"Ecuador\", 1, 2020], [\"Egypt\", 58, 2020], [\"Finland\", 7, 2020], [\"France\", 243, 2020], [\"Georgia\", 2, 2020], [\"Germany\", 132, 2020], [\"Ghana\", 2, 2020], [\"Greece\", 8, 2020], [\"Guatemala\", 2, 2020], [\"Hong Kong\", 94, 2020], [\"Hungary\", 6, 2020], [\"Iceland\", 5, 2020], [\"India\", 774, 2020], [\"Indonesia\", 49, 2020], [\"Iran\", 4, 2020], [\"Iraq\", 2, 2020], [\"Ireland\", 31, 2020], [\"Israel\", 24, 2020], [\"Italy\", 58, 2020], [\"Japan\", 203, 2020], [\"Jordan\", 6, 2020], [\"Kazakhstan\", 1, 2020], [\"Kenya\", 1, 2020], [\"Kuwait\", 2, 2020], [\"Latvia\", 1, 2020], [\"Lebanon\", 8, 2020], [\"Liechtenstein\", 1, 2020], [\"Lithuania\", 1, 2020], [\"Luxembourg\", 7, 2020], [\"Malawi\", 1, 2020], [\"Malaysia\", 20, 2020], [\"Mauritius\", 1, 2020], [\"Mexico\", 120, 2020], [\"Mongolia\", 1, 2020], [\"Montenegro\", 1, 2020], [\"Morocco\", 6, 2020], [\"Namibia\", 1, 2020], [\"Nepal\", 2, 2020], [\"Netherlands\", 34, 2020], [\"New Zealand\", 20, 2020], [\"Nicaragua\", 1, 2020], [\"Nigeria\", 34, 2020], [\"Norway\", 18, 2020], [\"Pakistan\", 23, 2020], [\"Panama\", 1, 2020], [\"Paraguay\", 1, 2020], [\"Peru\", 9, 2020], [\"Philippines\", 46, 2020], [\"Poland\", 25, 2020], [\"Portugal\", 4, 2020], [\"Qatar\", 7, 2020], [\"Romania\", 7, 2020], [\"Russia\", 20, 2020], [\"Samoa\", 1, 2020], [\"Saudi Arabia\", 2, 2020], [\"Senegal\", 2, 2020], [\"Serbia\", 5, 2020], [\"Singapore\", 35, 2020], [\"Slovakia\", 1, 2020], [\"Slovenia\", 3, 2020], [\"Somalia\", 1, 2020], [\"South Africa\", 30, 2020], [\"South Korea\", 153, 2020], [\"Soviet Union\", 3, 2020], [\"Spain\", 164, 2020], [\"Sri Lanka\", 1, 2020], [\"Sudan\", 1, 2020], [\"Sweden\", 34, 2020], [\"Switzerland\", 14, 2020], [\"Syria\", 1, 2020], [\"Taiwan\", 73, 2020], [\"Thailand\", 56, 2020], [\"Turkey\", 78, 2020], [\"Uganda\", 1, 2020], [\"Ukraine\", 3, 2020], [\"United Arab Emirates\", 19, 2020], [\"United Kingdom\", 548, 2020], [\"United States\", 2335, 2020], [\"Uruguay\", 11, 2020], [\"Vatican City\", 1, 2020], [\"Venezuela\", 3, 2020], [\"Vietnam\", 4, 2020], [\"West Germany\", 4, 2020], [\"Zimbabwe\", 2, 2020], [\"nan\", 373, 2020]], \"geo\": \"geo\", \"hovertemplate\": \"<b>%{hovertext}</b><br><br>number_of_titles=%{z}<extra></extra>\", \"hovertext\": [\"\", \"Afghanistan\", \"Albania\", \"Argentina\", \"Armenia\", \"Australia\", \"Austria\", \"Azerbaijan\", \"Bangladesh\", \"Belgium\", \"Bermuda\", \"Brazil\", \"Bulgaria\", \"Cambodia\", \"Canada\", \"Cayman Islands\", \"Chile\", \"China\", \"Colombia\", \"Croatia\", \"Cuba\", \"Czech Republic\", \"Denmark\", \"Dominican Republic\", \"Ecuador\", \"Egypt\", \"Finland\", \"France\", \"Georgia\", \"Germany\", \"Ghana\", \"Greece\", \"Guatemala\", \"Hong Kong\", \"Hungary\", \"Iceland\", \"India\", \"Indonesia\", \"Iran\", \"Iraq\", \"Ireland\", \"Israel\", \"Italy\", \"Japan\", \"Jordan\", \"Kazakhstan\", \"Kenya\", \"Kuwait\", \"Latvia\", \"Lebanon\", \"Liechtenstein\", \"Lithuania\", \"Luxembourg\", \"Malawi\", \"Malaysia\", \"Mauritius\", \"Mexico\", \"Mongolia\", \"Montenegro\", \"Morocco\", \"Namibia\", \"Nepal\", \"Netherlands\", \"New Zealand\", \"Nicaragua\", \"Nigeria\", \"Norway\", \"Pakistan\", \"Panama\", \"Paraguay\", \"Peru\", \"Philippines\", \"Poland\", \"Portugal\", \"Qatar\", \"Romania\", \"Russia\", \"Samoa\", \"Saudi Arabia\", \"Senegal\", \"Serbia\", \"Singapore\", \"Slovakia\", \"Slovenia\", \"Somalia\", \"South Africa\", \"South Korea\", \"Soviet Union\", \"Spain\", \"Sri Lanka\", \"Sudan\", \"Sweden\", \"Switzerland\", \"Syria\", \"Taiwan\", \"Thailand\", \"Turkey\", \"Uganda\", \"Ukraine\", \"United Arab Emirates\", \"United Kingdom\", \"United States\", \"Uruguay\", \"Vatican City\", \"Venezuela\", \"Vietnam\", \"West Germany\", \"Zimbabwe\", \"nan\"], \"locationmode\": \"country names\", \"locations\": [\"\", \"Afghanistan\", \"Albania\", \"Argentina\", \"Armenia\", \"Australia\", \"Austria\", \"Azerbaijan\", \"Bangladesh\", \"Belgium\", \"Bermuda\", \"Brazil\", \"Bulgaria\", \"Cambodia\", \"Canada\", \"Cayman Islands\", \"Chile\", \"China\", \"Colombia\", \"Croatia\", \"Cuba\", \"Czech Republic\", \"Denmark\", \"Dominican Republic\", \"Ecuador\", \"Egypt\", \"Finland\", \"France\", \"Georgia\", \"Germany\", \"Ghana\", \"Greece\", \"Guatemala\", \"Hong Kong\", \"Hungary\", \"Iceland\", \"India\", \"Indonesia\", \"Iran\", \"Iraq\", \"Ireland\", \"Israel\", \"Italy\", \"Japan\", \"Jordan\", \"Kazakhstan\", \"Kenya\", \"Kuwait\", \"Latvia\", \"Lebanon\", \"Liechtenstein\", \"Lithuania\", \"Luxembourg\", \"Malawi\", \"Malaysia\", \"Mauritius\", \"Mexico\", \"Mongolia\", \"Montenegro\", \"Morocco\", \"Namibia\", \"Nepal\", \"Netherlands\", \"New Zealand\", \"Nicaragua\", \"Nigeria\", \"Norway\", \"Pakistan\", \"Panama\", \"Paraguay\", \"Peru\", \"Philippines\", \"Poland\", \"Portugal\", \"Qatar\", \"Romania\", \"Russia\", \"Samoa\", \"Saudi Arabia\", \"Senegal\", \"Serbia\", \"Singapore\", \"Slovakia\", \"Slovenia\", \"Somalia\", \"South Africa\", \"South Korea\", \"Soviet Union\", \"Spain\", \"Sri Lanka\", \"Sudan\", \"Sweden\", \"Switzerland\", \"Syria\", \"Taiwan\", \"Thailand\", \"Turkey\", \"Uganda\", \"Ukraine\", \"United Arab Emirates\", \"United Kingdom\", \"United States\", \"Uruguay\", \"Vatican City\", \"Venezuela\", \"Vietnam\", \"West Germany\", \"Zimbabwe\", \"nan\"], \"name\": \"\", \"z\": [3, 1, 1, 66, 1, 113, 8, 1, 3, 61, 1, 60, 8, 4, 289, 1, 21, 120, 35, 4, 1, 15, 35, 1, 1, 58, 7, 243, 2, 132, 2, 8, 2, 94, 6, 5, 774, 49, 4, 2, 31, 24, 58, 203, 6, 1, 1, 2, 1, 8, 1, 1, 7, 1, 20, 1, 120, 1, 1, 6, 1, 2, 34, 20, 1, 34, 18, 23, 1, 1, 9, 46, 25, 4, 7, 7, 20, 1, 2, 2, 5, 35, 1, 3, 1, 30, 153, 3, 164, 1, 1, 34, 14, 1, 73, 56, 78, 1, 3, 19, 548, 2335, 11, 1, 3, 4, 4, 2, 373], \"type\": \"choropleth\"}], \"name\": \"2020\"}, {\"data\": [{\"coloraxis\": \"coloraxis\", \"customdata\": [[\"\", 4, 2021], [\"Afghanistan\", 1, 2021], [\"Albania\", 1, 2021], [\"Algeria\", 2, 2021], [\"Angola\", 1, 2021], [\"Argentina\", 82, 2021], [\"Armenia\", 1, 2021], [\"Australia\", 143, 2021], [\"Austria\", 11, 2021], [\"Azerbaijan\", 1, 2021], [\"Bahamas\", 1, 2021], [\"Bangladesh\", 3, 2021], [\"Belarus\", 1, 2021], [\"Belgium\", 85, 2021], [\"Bermuda\", 1, 2021], [\"Botswana\", 1, 2021], [\"Brazil\", 87, 2021], [\"Bulgaria\", 9, 2021], [\"Cambodia\", 5, 2021], [\"Canada\", 404, 2021], [\"Cayman Islands\", 1, 2021], [\"Chile\", 26, 2021], [\"China\", 147, 2021], [\"Colombia\", 45, 2021], [\"Croatia\", 4, 2021], [\"Cuba\", 1, 2021], [\"Cyprus\", 1, 2021], [\"Czech Republic\", 20, 2021], [\"Denmark\", 44, 2021], [\"Dominican Republic\", 1, 2021], [\"East Germany\", 1, 2021], [\"Ecuador\", 1, 2021], [\"Egypt\", 110, 2021], [\"Finland\", 11, 2021], [\"France\", 342, 2021], [\"Georgia\", 2, 2021], [\"Germany\", 195, 2021], [\"Ghana\", 4, 2021], [\"Greece\", 10, 2021], [\"Guatemala\", 2, 2021], [\"Hong Kong\", 100, 2021], [\"Hungary\", 8, 2021], [\"Iceland\", 9, 2021], [\"India\", 977, 2021], [\"Indonesia\", 78, 2021], [\"Iran\", 4, 2021], [\"Iraq\", 2, 2021], [\"Ireland\", 40, 2021], [\"Israel\", 26, 2021], [\"Italy\", 90, 2021], [\"Jamaica\", 1, 2021], [\"Japan\", 286, 2021], [\"Jordan\", 8, 2021], [\"Kazakhstan\", 1, 2021], [\"Kenya\", 5, 2021], [\"Kuwait\", 7, 2021], [\"Latvia\", 1, 2021], [\"Lebanon\", 26, 2021], [\"Liechtenstein\", 1, 2021], [\"Lithuania\", 1, 2021], [\"Luxembourg\", 11, 2021], [\"Malawi\", 1, 2021], [\"Malaysia\", 26, 2021], [\"Malta\", 3, 2021], [\"Mauritius\", 1, 2021], [\"Mexico\", 152, 2021], [\"Mongolia\", 1, 2021], [\"Montenegro\", 1, 2021], [\"Morocco\", 6, 2021], [\"Namibia\", 2, 2021], [\"Nepal\", 2, 2021], [\"Netherlands\", 45, 2021], [\"New Zealand\", 28, 2021], [\"Nicaragua\", 1, 2021], [\"Nigeria\", 76, 2021], [\"Norway\", 27, 2021], [\"Pakistan\", 24, 2021], [\"Panama\", 1, 2021], [\"Paraguay\", 1, 2021], [\"Peru\", 10, 2021], [\"Philippines\", 78, 2021], [\"Poland\", 36, 2021], [\"Portugal\", 4, 2021], [\"Puerto Rico\", 1, 2021], [\"Qatar\", 7, 2021], [\"Romania\", 12, 2021], [\"Russia\", 27, 2021], [\"Samoa\", 1, 2021], [\"Saudi Arabia\", 10, 2021], [\"Senegal\", 3, 2021], [\"Serbia\", 7, 2021], [\"Singapore\", 39, 2021], [\"Slovakia\", 1, 2021], [\"Slovenia\", 3, 2021], [\"Somalia\", 1, 2021], [\"South Africa\", 54, 2021], [\"South Korea\", 211, 2021], [\"Soviet Union\", 3, 2021], [\"Spain\", 212, 2021], [\"Sri Lanka\", 1, 2021], [\"Sudan\", 1, 2021], [\"Sweden\", 38, 2021], [\"Switzerland\", 17, 2021], [\"Syria\", 1, 2021], [\"Taiwan\", 85, 2021], [\"Thailand\", 64, 2021], [\"Turkey\", 107, 2021], [\"Uganda\", 1, 2021], [\"Ukraine\", 3, 2021], [\"United Arab Emirates\", 34, 2021], [\"United Kingdom\", 715, 2021], [\"United States\", 3223, 2021], [\"Uruguay\", 14, 2021], [\"Vatican City\", 1, 2021], [\"Venezuela\", 3, 2021], [\"Vietnam\", 5, 2021], [\"West Germany\", 5, 2021], [\"Zimbabwe\", 3, 2021], [\"nan\", 492, 2021]], \"geo\": \"geo\", \"hovertemplate\": \"<b>%{hovertext}</b><br><br>number_of_titles=%{z}<extra></extra>\", \"hovertext\": [\"\", \"Afghanistan\", \"Albania\", \"Algeria\", \"Angola\", \"Argentina\", \"Armenia\", \"Australia\", \"Austria\", \"Azerbaijan\", \"Bahamas\", \"Bangladesh\", \"Belarus\", \"Belgium\", \"Bermuda\", \"Botswana\", \"Brazil\", \"Bulgaria\", \"Cambodia\", \"Canada\", \"Cayman Islands\", \"Chile\", \"China\", \"Colombia\", \"Croatia\", \"Cuba\", \"Cyprus\", \"Czech Republic\", \"Denmark\", \"Dominican Republic\", \"East Germany\", \"Ecuador\", \"Egypt\", \"Finland\", \"France\", \"Georgia\", \"Germany\", \"Ghana\", \"Greece\", \"Guatemala\", \"Hong Kong\", \"Hungary\", \"Iceland\", \"India\", \"Indonesia\", \"Iran\", \"Iraq\", \"Ireland\", \"Israel\", \"Italy\", \"Jamaica\", \"Japan\", \"Jordan\", \"Kazakhstan\", \"Kenya\", \"Kuwait\", \"Latvia\", \"Lebanon\", \"Liechtenstein\", \"Lithuania\", \"Luxembourg\", \"Malawi\", \"Malaysia\", \"Malta\", \"Mauritius\", \"Mexico\", \"Mongolia\", \"Montenegro\", \"Morocco\", \"Namibia\", \"Nepal\", \"Netherlands\", \"New Zealand\", \"Nicaragua\", \"Nigeria\", \"Norway\", \"Pakistan\", \"Panama\", \"Paraguay\", \"Peru\", \"Philippines\", \"Poland\", \"Portugal\", \"Puerto Rico\", \"Qatar\", \"Romania\", \"Russia\", \"Samoa\", \"Saudi Arabia\", \"Senegal\", \"Serbia\", \"Singapore\", \"Slovakia\", \"Slovenia\", \"Somalia\", \"South Africa\", \"South Korea\", \"Soviet Union\", \"Spain\", \"Sri Lanka\", \"Sudan\", \"Sweden\", \"Switzerland\", \"Syria\", \"Taiwan\", \"Thailand\", \"Turkey\", \"Uganda\", \"Ukraine\", \"United Arab Emirates\", \"United Kingdom\", \"United States\", \"Uruguay\", \"Vatican City\", \"Venezuela\", \"Vietnam\", \"West Germany\", \"Zimbabwe\", \"nan\"], \"locationmode\": \"country names\", \"locations\": [\"\", \"Afghanistan\", \"Albania\", \"Algeria\", \"Angola\", \"Argentina\", \"Armenia\", \"Australia\", \"Austria\", \"Azerbaijan\", \"Bahamas\", \"Bangladesh\", \"Belarus\", \"Belgium\", \"Bermuda\", \"Botswana\", \"Brazil\", \"Bulgaria\", \"Cambodia\", \"Canada\", \"Cayman Islands\", \"Chile\", \"China\", \"Colombia\", \"Croatia\", \"Cuba\", \"Cyprus\", \"Czech Republic\", \"Denmark\", \"Dominican Republic\", \"East Germany\", \"Ecuador\", \"Egypt\", \"Finland\", \"France\", \"Georgia\", \"Germany\", \"Ghana\", \"Greece\", \"Guatemala\", \"Hong Kong\", \"Hungary\", \"Iceland\", \"India\", \"Indonesia\", \"Iran\", \"Iraq\", \"Ireland\", \"Israel\", \"Italy\", \"Jamaica\", \"Japan\", \"Jordan\", \"Kazakhstan\", \"Kenya\", \"Kuwait\", \"Latvia\", \"Lebanon\", \"Liechtenstein\", \"Lithuania\", \"Luxembourg\", \"Malawi\", \"Malaysia\", \"Malta\", \"Mauritius\", \"Mexico\", \"Mongolia\", \"Montenegro\", \"Morocco\", \"Namibia\", \"Nepal\", \"Netherlands\", \"New Zealand\", \"Nicaragua\", \"Nigeria\", \"Norway\", \"Pakistan\", \"Panama\", \"Paraguay\", \"Peru\", \"Philippines\", \"Poland\", \"Portugal\", \"Puerto Rico\", \"Qatar\", \"Romania\", \"Russia\", \"Samoa\", \"Saudi Arabia\", \"Senegal\", \"Serbia\", \"Singapore\", \"Slovakia\", \"Slovenia\", \"Somalia\", \"South Africa\", \"South Korea\", \"Soviet Union\", \"Spain\", \"Sri Lanka\", \"Sudan\", \"Sweden\", \"Switzerland\", \"Syria\", \"Taiwan\", \"Thailand\", \"Turkey\", \"Uganda\", \"Ukraine\", \"United Arab Emirates\", \"United Kingdom\", \"United States\", \"Uruguay\", \"Vatican City\", \"Venezuela\", \"Vietnam\", \"West Germany\", \"Zimbabwe\", \"nan\"], \"name\": \"\", \"z\": [4, 1, 1, 2, 1, 82, 1, 143, 11, 1, 1, 3, 1, 85, 1, 1, 87, 9, 5, 404, 1, 26, 147, 45, 4, 1, 1, 20, 44, 1, 1, 1, 110, 11, 342, 2, 195, 4, 10, 2, 100, 8, 9, 977, 78, 4, 2, 40, 26, 90, 1, 286, 8, 1, 5, 7, 1, 26, 1, 1, 11, 1, 26, 3, 1, 152, 1, 1, 6, 2, 2, 45, 28, 1, 76, 27, 24, 1, 1, 10, 78, 36, 4, 1, 7, 12, 27, 1, 10, 3, 7, 39, 1, 3, 1, 54, 211, 3, 212, 1, 1, 38, 17, 1, 85, 64, 107, 1, 3, 34, 715, 3223, 14, 1, 3, 5, 5, 3, 492], \"type\": \"choropleth\"}], \"name\": \"2021\"}]);\n",
       "                        }).then(function(){\n",
       "                            \n",
       "var gd = document.getElementById('f22a75f1-a924-4db5-9f5a-cf5a85866790');\n",
       "var x = new MutationObserver(function (mutations, observer) {{\n",
       "        var display = window.getComputedStyle(gd).display;\n",
       "        if (!display || display === 'none') {{\n",
       "            console.log([gd, 'removed!']);\n",
       "            Plotly.purge(gd);\n",
       "            observer.disconnect();\n",
       "        }}\n",
       "}});\n",
       "\n",
       "// Listen for the removal of the full notebook cells\n",
       "var notebookContainer = gd.closest('#notebook-container');\n",
       "if (notebookContainer) {{\n",
       "    x.observe(notebookContainer, {childList: true});\n",
       "}}\n",
       "\n",
       "// Listen for the clearing of the current output cell\n",
       "var outputEl = gd.closest('.output');\n",
       "if (outputEl) {{\n",
       "    x.observe(outputEl, {childList: true});\n",
       "}}\n",
       "\n",
       "                        })                };                });            </script>        </div>"
      ]
     },
     "metadata": {},
     "output_type": "display_data"
    }
   ],
   "source": [
    "px.choropleth(counts_by_year_and_country,\n",
    "              locations=\"country\",\n",
    "              color=\"number_of_titles\",\n",
    "              hover_name=\"country\",\n",
    "              hover_data={\n",
    "                  \"country\": False,\n",
    "                  \"number_of_titles\": True,\n",
    "                  \"added_year\": False,\n",
    "              },\n",
    "              locationmode='country names',\n",
    "              animation_frame=\"added_year\",\n",
    "              color_continuous_scale='reds',\n",
    "              height=600)"
   ]
  },
  {
   "cell_type": "code",
   "execution_count": 32,
   "metadata": {},
   "outputs": [
    {
     "data": {
      "text/plain": [
       "array(['Australia', 'Japan', 'United Kingdom', 'nan', 'Australia',\n",
       "       'Japan', 'United Kingdom', 'nan', 'Australia', 'Denmark', 'Japan',\n",
       "       'United Kingdom', 'nan', 'Australia', 'Denmark', 'Japan',\n",
       "       'United Kingdom', 'nan', 'Australia', 'Denmark', 'France', 'Japan',\n",
       "       'Mexico', 'Spain', 'United Kingdom', 'nan', 'Australia', 'Denmark',\n",
       "       'France', 'Japan', 'Mexico', 'Spain', 'United Kingdom', 'nan',\n",
       "       'Australia', 'Canada', 'Denmark', 'France', 'Ireland', 'Japan',\n",
       "       'Mexico', 'Spain', 'United Kingdom', 'nan', '', 'Australia',\n",
       "       'Bermuda', 'Canada', 'Denmark', 'Ecuador', 'Egypt', 'France',\n",
       "       'Hungary', 'Ireland', 'Japan', 'Mexico', 'Norway', 'Spain',\n",
       "       'United Kingdom', 'nan', '', 'Australia', 'Belgium', 'Bermuda',\n",
       "       'Canada', 'China', 'Denmark', 'Ecuador', 'Egypt', 'France',\n",
       "       'Germany', 'Hungary', 'Ireland', 'Italy', 'Japan', 'Mexico',\n",
       "       'New Zealand', 'Nigeria', 'Norway', 'Spain', 'Ukraine',\n",
       "       'United Kingdom', 'nan', '', 'Argentina', 'Australia', 'Austria',\n",
       "       'Azerbaijan', 'Belgium', 'Bermuda', 'Brazil', 'Canada', 'Chile',\n",
       "       'China', 'Colombia', 'Croatia', 'Cuba', 'Denmark', 'Ecuador',\n",
       "       'Egypt', 'Finland', 'France', 'Germany', 'Greece', 'Hong Kong',\n",
       "       'Hungary', 'Iceland', 'India', 'Indonesia', 'Ireland', 'Israel',\n",
       "       'Italy', 'Japan', 'Jordan', 'Kazakhstan', 'Mexico', 'Montenegro',\n",
       "       'Netherlands', 'New Zealand', 'Nigeria', 'Norway', 'Pakistan',\n",
       "       'Peru', 'Poland', 'Qatar', 'Russia', 'Serbia', 'Slovenia',\n",
       "       'South Africa', 'South Korea', 'Spain', 'Sweden', 'Switzerland',\n",
       "       'Taiwan', 'Turkey', 'Ukraine', 'United Arab Emirates',\n",
       "       'United Kingdom', 'Zimbabwe', 'nan', '', 'Afghanistan',\n",
       "       'Argentina', 'Armenia', 'Australia', 'Austria', 'Azerbaijan',\n",
       "       'Belgium', 'Bermuda', 'Brazil', 'Bulgaria', 'Cambodia', 'Canada',\n",
       "       'Chile', 'China', 'Colombia', 'Croatia', 'Cuba', 'Czech Republic',\n",
       "       'Denmark', 'Ecuador', 'Egypt', 'Finland', 'France', 'Georgia',\n",
       "       'Germany', 'Greece', 'Hong Kong', 'Hungary', 'Iceland', 'India',\n",
       "       'Indonesia', 'Iran', 'Ireland', 'Israel', 'Italy', 'Japan',\n",
       "       'Jordan', 'Kazakhstan', 'Latvia', 'Lebanon', 'Lithuania',\n",
       "       'Malaysia', 'Mexico', 'Mongolia', 'Montenegro', 'Morocco', 'Nepal',\n",
       "       'Netherlands', 'New Zealand', 'Nicaragua', 'Nigeria', 'Norway',\n",
       "       'Pakistan', 'Panama', 'Peru', 'Philippines', 'Poland', 'Portugal',\n",
       "       'Qatar', 'Romania', 'Russia', 'Samoa', 'Saudi Arabia', 'Senegal',\n",
       "       'Serbia', 'Singapore', 'Slovakia', 'Slovenia', 'South Africa',\n",
       "       'South Korea', 'Soviet Union', 'Spain', 'Sri Lanka', 'Sweden',\n",
       "       'Switzerland', 'Taiwan', 'Thailand', 'Turkey', 'Ukraine',\n",
       "       'United Arab Emirates', 'United Kingdom', 'Uruguay', 'Venezuela',\n",
       "       'Vietnam', 'West Germany', 'Zimbabwe', 'nan', '', 'Afghanistan',\n",
       "       'Albania', 'Argentina', 'Armenia', 'Australia', 'Austria',\n",
       "       'Azerbaijan', 'Bangladesh', 'Belgium', 'Bermuda', 'Brazil',\n",
       "       'Bulgaria', 'Cambodia', 'Canada', 'Cayman Islands', 'Chile',\n",
       "       'China', 'Colombia', 'Croatia', 'Cuba', 'Czech Republic',\n",
       "       'Denmark', 'Dominican Republic', 'Ecuador', 'Egypt', 'Finland',\n",
       "       'France', 'Georgia', 'Germany', 'Greece', 'Guatemala', 'Hong Kong',\n",
       "       'Hungary', 'Iceland', 'India', 'Indonesia', 'Iran', 'Iraq',\n",
       "       'Ireland', 'Israel', 'Italy', 'Japan', 'Jordan', 'Kazakhstan',\n",
       "       'Kenya', 'Kuwait', 'Latvia', 'Lebanon', 'Lithuania', 'Luxembourg',\n",
       "       'Malaysia', 'Mexico', 'Mongolia', 'Montenegro', 'Morocco',\n",
       "       'Namibia', 'Nepal', 'Netherlands', 'New Zealand', 'Nicaragua',\n",
       "       'Nigeria', 'Norway', 'Pakistan', 'Panama', 'Peru', 'Philippines',\n",
       "       'Poland', 'Portugal', 'Qatar', 'Romania', 'Russia', 'Samoa',\n",
       "       'Saudi Arabia', 'Senegal', 'Serbia', 'Singapore', 'Slovakia',\n",
       "       'Slovenia', 'Somalia', 'South Africa', 'South Korea',\n",
       "       'Soviet Union', 'Spain', 'Sri Lanka', 'Sudan', 'Sweden',\n",
       "       'Switzerland', 'Syria', 'Taiwan', 'Thailand', 'Turkey', 'Uganda',\n",
       "       'Ukraine', 'United Arab Emirates', 'United Kingdom', 'Uruguay',\n",
       "       'Venezuela', 'Vietnam', 'West Germany', 'Zimbabwe', 'nan', '',\n",
       "       'Afghanistan', 'Albania', 'Argentina', 'Armenia', 'Australia',\n",
       "       'Austria', 'Azerbaijan', 'Bangladesh', 'Belgium', 'Bermuda',\n",
       "       'Brazil', 'Bulgaria', 'Cambodia', 'Canada', 'Cayman Islands',\n",
       "       'Chile', 'China', 'Colombia', 'Croatia', 'Cuba', 'Czech Republic',\n",
       "       'Denmark', 'Dominican Republic', 'Ecuador', 'Egypt', 'Finland',\n",
       "       'France', 'Georgia', 'Germany', 'Ghana', 'Greece', 'Guatemala',\n",
       "       'Hong Kong', 'Hungary', 'Iceland', 'India', 'Indonesia', 'Iran',\n",
       "       'Iraq', 'Ireland', 'Israel', 'Italy', 'Japan', 'Jordan',\n",
       "       'Kazakhstan', 'Kenya', 'Kuwait', 'Latvia', 'Lebanon',\n",
       "       'Liechtenstein', 'Lithuania', 'Luxembourg', 'Malawi', 'Malaysia',\n",
       "       'Mauritius', 'Mexico', 'Mongolia', 'Montenegro', 'Morocco',\n",
       "       'Namibia', 'Nepal', 'Netherlands', 'New Zealand', 'Nicaragua',\n",
       "       'Nigeria', 'Norway', 'Pakistan', 'Panama', 'Paraguay', 'Peru',\n",
       "       'Philippines', 'Poland', 'Portugal', 'Qatar', 'Romania', 'Russia',\n",
       "       'Samoa', 'Saudi Arabia', 'Senegal', 'Serbia', 'Singapore',\n",
       "       'Slovakia', 'Slovenia', 'Somalia', 'South Africa', 'South Korea',\n",
       "       'Soviet Union', 'Spain', 'Sri Lanka', 'Sudan', 'Sweden',\n",
       "       'Switzerland', 'Syria', 'Taiwan', 'Thailand', 'Turkey', 'Uganda',\n",
       "       'Ukraine', 'United Arab Emirates', 'United Kingdom', 'Uruguay',\n",
       "       'Vatican City', 'Venezuela', 'Vietnam', 'West Germany', 'Zimbabwe',\n",
       "       'nan', '', 'Afghanistan', 'Albania', 'Algeria', 'Angola',\n",
       "       'Argentina', 'Armenia', 'Australia', 'Austria', 'Azerbaijan',\n",
       "       'Bahamas', 'Bangladesh', 'Belarus', 'Belgium', 'Bermuda',\n",
       "       'Botswana', 'Brazil', 'Bulgaria', 'Cambodia', 'Canada',\n",
       "       'Cayman Islands', 'Chile', 'China', 'Colombia', 'Croatia', 'Cuba',\n",
       "       'Cyprus', 'Czech Republic', 'Denmark', 'Dominican Republic',\n",
       "       'East Germany', 'Ecuador', 'Egypt', 'Finland', 'France', 'Georgia',\n",
       "       'Germany', 'Ghana', 'Greece', 'Guatemala', 'Hong Kong', 'Hungary',\n",
       "       'Iceland', 'India', 'Indonesia', 'Iran', 'Iraq', 'Ireland',\n",
       "       'Israel', 'Italy', 'Jamaica', 'Japan', 'Jordan', 'Kazakhstan',\n",
       "       'Kenya', 'Kuwait', 'Latvia', 'Lebanon', 'Liechtenstein',\n",
       "       'Lithuania', 'Luxembourg', 'Malawi', 'Malaysia', 'Malta',\n",
       "       'Mauritius', 'Mexico', 'Mongolia', 'Montenegro', 'Morocco',\n",
       "       'Namibia', 'Nepal', 'Netherlands', 'New Zealand', 'Nicaragua',\n",
       "       'Nigeria', 'Norway', 'Pakistan', 'Panama', 'Paraguay', 'Peru',\n",
       "       'Philippines', 'Poland', 'Portugal', 'Puerto Rico', 'Qatar',\n",
       "       'Romania', 'Russia', 'Samoa', 'Saudi Arabia', 'Senegal', 'Serbia',\n",
       "       'Singapore', 'Slovakia', 'Slovenia', 'Somalia', 'South Africa',\n",
       "       'South Korea', 'Soviet Union', 'Spain', 'Sri Lanka', 'Sudan',\n",
       "       'Sweden', 'Switzerland', 'Syria', 'Taiwan', 'Thailand', 'Turkey',\n",
       "       'Uganda', 'Ukraine', 'United Arab Emirates', 'United Kingdom',\n",
       "       'Uruguay', 'Vatican City', 'Venezuela', 'Vietnam', 'West Germany',\n",
       "       'Zimbabwe', 'nan'], dtype=object)"
      ]
     },
     "execution_count": 32,
     "metadata": {},
     "output_type": "execute_result"
    }
   ],
   "source": [
    "counts_by_year_and_country[counts_by_year_and_country['country'] != \"United States\"].country.values"
   ]
  },
  {
   "cell_type": "code",
   "execution_count": 33,
   "metadata": {},
   "outputs": [
    {
     "data": {
      "application/vnd.plotly.v1+json": {
       "config": {
        "plotlyServerURL": "https://plot.ly"
       },
       "data": [
        {
         "coloraxis": "coloraxis",
         "customdata": [
          [
           "Australia",
           1,
           2008
          ],
          [
           "Japan",
           1,
           2008
          ],
          [
           "United Kingdom",
           1,
           2008
          ],
          [
           "nan",
           1,
           2008
          ]
         ],
         "geo": "geo",
         "hovertemplate": "<b>%{hovertext}</b><br><br>number_of_titles=%{z}<extra></extra>",
         "hovertext": [
          "Australia",
          "Japan",
          "United Kingdom",
          "nan"
         ],
         "locationmode": "country names",
         "locations": [
          "Australia",
          "Japan",
          "United Kingdom",
          "nan"
         ],
         "name": "",
         "type": "choropleth",
         "z": [
          1,
          1,
          1,
          1
         ]
        }
       ],
       "frames": [
        {
         "data": [
          {
           "coloraxis": "coloraxis",
           "customdata": [
            [
             "Australia",
             1,
             2008
            ],
            [
             "Japan",
             1,
             2008
            ],
            [
             "United Kingdom",
             1,
             2008
            ],
            [
             "nan",
             1,
             2008
            ]
           ],
           "geo": "geo",
           "hovertemplate": "<b>%{hovertext}</b><br><br>number_of_titles=%{z}<extra></extra>",
           "hovertext": [
            "Australia",
            "Japan",
            "United Kingdom",
            "nan"
           ],
           "locationmode": "country names",
           "locations": [
            "Australia",
            "Japan",
            "United Kingdom",
            "nan"
           ],
           "name": "",
           "type": "choropleth",
           "z": [
            1,
            1,
            1,
            1
           ]
          }
         ],
         "name": "2008"
        },
        {
         "data": [
          {
           "coloraxis": "coloraxis",
           "customdata": [
            [
             "Australia",
             1,
             2009
            ],
            [
             "Japan",
             1,
             2009
            ],
            [
             "United Kingdom",
             1,
             2009
            ],
            [
             "nan",
             1,
             2009
            ]
           ],
           "geo": "geo",
           "hovertemplate": "<b>%{hovertext}</b><br><br>number_of_titles=%{z}<extra></extra>",
           "hovertext": [
            "Australia",
            "Japan",
            "United Kingdom",
            "nan"
           ],
           "locationmode": "country names",
           "locations": [
            "Australia",
            "Japan",
            "United Kingdom",
            "nan"
           ],
           "name": "",
           "type": "choropleth",
           "z": [
            1,
            1,
            1,
            1
           ]
          }
         ],
         "name": "2009"
        },
        {
         "data": [
          {
           "coloraxis": "coloraxis",
           "customdata": [
            [
             "Australia",
             1,
             2010
            ],
            [
             "Denmark",
             1,
             2010
            ],
            [
             "Japan",
             1,
             2010
            ],
            [
             "United Kingdom",
             1,
             2010
            ],
            [
             "nan",
             1,
             2010
            ]
           ],
           "geo": "geo",
           "hovertemplate": "<b>%{hovertext}</b><br><br>number_of_titles=%{z}<extra></extra>",
           "hovertext": [
            "Australia",
            "Denmark",
            "Japan",
            "United Kingdom",
            "nan"
           ],
           "locationmode": "country names",
           "locations": [
            "Australia",
            "Denmark",
            "Japan",
            "United Kingdom",
            "nan"
           ],
           "name": "",
           "type": "choropleth",
           "z": [
            1,
            1,
            1,
            1,
            1
           ]
          }
         ],
         "name": "2010"
        },
        {
         "data": [
          {
           "coloraxis": "coloraxis",
           "customdata": [
            [
             "Australia",
             1,
             2011
            ],
            [
             "Denmark",
             1,
             2011
            ],
            [
             "Japan",
             1,
             2011
            ],
            [
             "United Kingdom",
             1,
             2011
            ],
            [
             "nan",
             1,
             2011
            ]
           ],
           "geo": "geo",
           "hovertemplate": "<b>%{hovertext}</b><br><br>number_of_titles=%{z}<extra></extra>",
           "hovertext": [
            "Australia",
            "Denmark",
            "Japan",
            "United Kingdom",
            "nan"
           ],
           "locationmode": "country names",
           "locations": [
            "Australia",
            "Denmark",
            "Japan",
            "United Kingdom",
            "nan"
           ],
           "name": "",
           "type": "choropleth",
           "z": [
            1,
            1,
            1,
            1,
            1
           ]
          }
         ],
         "name": "2011"
        },
        {
         "data": [
          {
           "coloraxis": "coloraxis",
           "customdata": [
            [
             "Australia",
             1,
             2012
            ],
            [
             "Denmark",
             1,
             2012
            ],
            [
             "France",
             1,
             2012
            ],
            [
             "Japan",
             1,
             2012
            ],
            [
             "Mexico",
             1,
             2012
            ],
            [
             "Spain",
             1,
             2012
            ],
            [
             "United Kingdom",
             1,
             2012
            ],
            [
             "nan",
             1,
             2012
            ]
           ],
           "geo": "geo",
           "hovertemplate": "<b>%{hovertext}</b><br><br>number_of_titles=%{z}<extra></extra>",
           "hovertext": [
            "Australia",
            "Denmark",
            "France",
            "Japan",
            "Mexico",
            "Spain",
            "United Kingdom",
            "nan"
           ],
           "locationmode": "country names",
           "locations": [
            "Australia",
            "Denmark",
            "France",
            "Japan",
            "Mexico",
            "Spain",
            "United Kingdom",
            "nan"
           ],
           "name": "",
           "type": "choropleth",
           "z": [
            1,
            1,
            1,
            1,
            1,
            1,
            1,
            1
           ]
          }
         ],
         "name": "2012"
        },
        {
         "data": [
          {
           "coloraxis": "coloraxis",
           "customdata": [
            [
             "Australia",
             1,
             2013
            ],
            [
             "Denmark",
             1,
             2013
            ],
            [
             "France",
             1,
             2013
            ],
            [
             "Japan",
             1,
             2013
            ],
            [
             "Mexico",
             2,
             2013
            ],
            [
             "Spain",
             1,
             2013
            ],
            [
             "United Kingdom",
             1,
             2013
            ],
            [
             "nan",
             1,
             2013
            ]
           ],
           "geo": "geo",
           "hovertemplate": "<b>%{hovertext}</b><br><br>number_of_titles=%{z}<extra></extra>",
           "hovertext": [
            "Australia",
            "Denmark",
            "France",
            "Japan",
            "Mexico",
            "Spain",
            "United Kingdom",
            "nan"
           ],
           "locationmode": "country names",
           "locations": [
            "Australia",
            "Denmark",
            "France",
            "Japan",
            "Mexico",
            "Spain",
            "United Kingdom",
            "nan"
           ],
           "name": "",
           "type": "choropleth",
           "z": [
            1,
            1,
            1,
            1,
            2,
            1,
            1,
            1
           ]
          }
         ],
         "name": "2013"
        },
        {
         "data": [
          {
           "coloraxis": "coloraxis",
           "customdata": [
            [
             "Australia",
             1,
             2014
            ],
            [
             "Canada",
             1,
             2014
            ],
            [
             "Denmark",
             1,
             2014
            ],
            [
             "France",
             1,
             2014
            ],
            [
             "Ireland",
             1,
             2014
            ],
            [
             "Japan",
             1,
             2014
            ],
            [
             "Mexico",
             2,
             2014
            ],
            [
             "Spain",
             1,
             2014
            ],
            [
             "United Kingdom",
             2,
             2014
            ],
            [
             "nan",
             1,
             2014
            ]
           ],
           "geo": "geo",
           "hovertemplate": "<b>%{hovertext}</b><br><br>number_of_titles=%{z}<extra></extra>",
           "hovertext": [
            "Australia",
            "Canada",
            "Denmark",
            "France",
            "Ireland",
            "Japan",
            "Mexico",
            "Spain",
            "United Kingdom",
            "nan"
           ],
           "locationmode": "country names",
           "locations": [
            "Australia",
            "Canada",
            "Denmark",
            "France",
            "Ireland",
            "Japan",
            "Mexico",
            "Spain",
            "United Kingdom",
            "nan"
           ],
           "name": "",
           "type": "choropleth",
           "z": [
            1,
            1,
            1,
            1,
            1,
            1,
            2,
            1,
            2,
            1
           ]
          }
         ],
         "name": "2014"
        },
        {
         "data": [
          {
           "coloraxis": "coloraxis",
           "customdata": [
            [
             "",
             1,
             2015
            ],
            [
             "Australia",
             1,
             2015
            ],
            [
             "Bermuda",
             1,
             2015
            ],
            [
             "Canada",
             5,
             2015
            ],
            [
             "Denmark",
             1,
             2015
            ],
            [
             "Ecuador",
             1,
             2015
            ],
            [
             "Egypt",
             1,
             2015
            ],
            [
             "France",
             1,
             2015
            ],
            [
             "Hungary",
             1,
             2015
            ],
            [
             "Ireland",
             2,
             2015
            ],
            [
             "Japan",
             1,
             2015
            ],
            [
             "Mexico",
             2,
             2015
            ],
            [
             "Norway",
             1,
             2015
            ],
            [
             "Spain",
             1,
             2015
            ],
            [
             "United Kingdom",
             5,
             2015
            ],
            [
             "nan",
             1,
             2015
            ]
           ],
           "geo": "geo",
           "hovertemplate": "<b>%{hovertext}</b><br><br>number_of_titles=%{z}<extra></extra>",
           "hovertext": [
            "",
            "Australia",
            "Bermuda",
            "Canada",
            "Denmark",
            "Ecuador",
            "Egypt",
            "France",
            "Hungary",
            "Ireland",
            "Japan",
            "Mexico",
            "Norway",
            "Spain",
            "United Kingdom",
            "nan"
           ],
           "locationmode": "country names",
           "locations": [
            "",
            "Australia",
            "Bermuda",
            "Canada",
            "Denmark",
            "Ecuador",
            "Egypt",
            "France",
            "Hungary",
            "Ireland",
            "Japan",
            "Mexico",
            "Norway",
            "Spain",
            "United Kingdom",
            "nan"
           ],
           "name": "",
           "type": "choropleth",
           "z": [
            1,
            1,
            1,
            5,
            1,
            1,
            1,
            1,
            1,
            2,
            1,
            2,
            1,
            1,
            5,
            1
           ]
          }
         ],
         "name": "2015"
        },
        {
         "data": [
          {
           "coloraxis": "coloraxis",
           "customdata": [
            [
             "",
             1,
             2016
            ],
            [
             "Australia",
             6,
             2016
            ],
            [
             "Belgium",
             3,
             2016
            ],
            [
             "Bermuda",
             1,
             2016
            ],
            [
             "Canada",
             13,
             2016
            ],
            [
             "China",
             1,
             2016
            ],
            [
             "Denmark",
             1,
             2016
            ],
            [
             "Ecuador",
             1,
             2016
            ],
            [
             "Egypt",
             1,
             2016
            ],
            [
             "France",
             10,
             2016
            ],
            [
             "Germany",
             2,
             2016
            ],
            [
             "Hungary",
             1,
             2016
            ],
            [
             "Ireland",
             4,
             2016
            ],
            [
             "Italy",
             3,
             2016
            ],
            [
             "Japan",
             2,
             2016
            ],
            [
             "Mexico",
             3,
             2016
            ],
            [
             "New Zealand",
             2,
             2016
            ],
            [
             "Nigeria",
             1,
             2016
            ],
            [
             "Norway",
             2,
             2016
            ],
            [
             "Spain",
             1,
             2016
            ],
            [
             "Ukraine",
             1,
             2016
            ],
            [
             "United Kingdom",
             13,
             2016
            ],
            [
             "nan",
             6,
             2016
            ]
           ],
           "geo": "geo",
           "hovertemplate": "<b>%{hovertext}</b><br><br>number_of_titles=%{z}<extra></extra>",
           "hovertext": [
            "",
            "Australia",
            "Belgium",
            "Bermuda",
            "Canada",
            "China",
            "Denmark",
            "Ecuador",
            "Egypt",
            "France",
            "Germany",
            "Hungary",
            "Ireland",
            "Italy",
            "Japan",
            "Mexico",
            "New Zealand",
            "Nigeria",
            "Norway",
            "Spain",
            "Ukraine",
            "United Kingdom",
            "nan"
           ],
           "locationmode": "country names",
           "locations": [
            "",
            "Australia",
            "Belgium",
            "Bermuda",
            "Canada",
            "China",
            "Denmark",
            "Ecuador",
            "Egypt",
            "France",
            "Germany",
            "Hungary",
            "Ireland",
            "Italy",
            "Japan",
            "Mexico",
            "New Zealand",
            "Nigeria",
            "Norway",
            "Spain",
            "Ukraine",
            "United Kingdom",
            "nan"
           ],
           "name": "",
           "type": "choropleth",
           "z": [
            1,
            6,
            3,
            1,
            13,
            1,
            1,
            1,
            1,
            10,
            2,
            1,
            4,
            3,
            2,
            3,
            2,
            1,
            2,
            1,
            1,
            13,
            6
           ]
          }
         ],
         "name": "2016"
        },
        {
         "data": [
          {
           "coloraxis": "coloraxis",
           "customdata": [
            [
             "",
             1,
             2017
            ],
            [
             "Argentina",
             3,
             2017
            ],
            [
             "Australia",
             15,
             2017
            ],
            [
             "Austria",
             1,
             2017
            ],
            [
             "Azerbaijan",
             1,
             2017
            ],
            [
             "Belgium",
             7,
             2017
            ],
            [
             "Bermuda",
             1,
             2017
            ],
            [
             "Brazil",
             2,
             2017
            ],
            [
             "Canada",
             44,
             2017
            ],
            [
             "Chile",
             2,
             2017
            ],
            [
             "China",
             10,
             2017
            ],
            [
             "Colombia",
             2,
             2017
            ],
            [
             "Croatia",
             1,
             2017
            ],
            [
             "Cuba",
             1,
             2017
            ],
            [
             "Denmark",
             8,
             2017
            ],
            [
             "Ecuador",
             1,
             2017
            ],
            [
             "Egypt",
             1,
             2017
            ],
            [
             "Finland",
             1,
             2017
            ],
            [
             "France",
             39,
             2017
            ],
            [
             "Germany",
             16,
             2017
            ],
            [
             "Greece",
             5,
             2017
            ],
            [
             "Hong Kong",
             4,
             2017
            ],
            [
             "Hungary",
             2,
             2017
            ],
            [
             "Iceland",
             1,
             2017
            ],
            [
             "India",
             14,
             2017
            ],
            [
             "Indonesia",
             1,
             2017
            ],
            [
             "Ireland",
             8,
             2017
            ],
            [
             "Israel",
             3,
             2017
            ],
            [
             "Italy",
             6,
             2017
            ],
            [
             "Japan",
             33,
             2017
            ],
            [
             "Jordan",
             1,
             2017
            ],
            [
             "Kazakhstan",
             1,
             2017
            ],
            [
             "Mexico",
             12,
             2017
            ],
            [
             "Montenegro",
             1,
             2017
            ],
            [
             "Netherlands",
             8,
             2017
            ],
            [
             "New Zealand",
             6,
             2017
            ],
            [
             "Nigeria",
             2,
             2017
            ],
            [
             "Norway",
             7,
             2017
            ],
            [
             "Pakistan",
             4,
             2017
            ],
            [
             "Peru",
             3,
             2017
            ],
            [
             "Poland",
             1,
             2017
            ],
            [
             "Qatar",
             1,
             2017
            ],
            [
             "Russia",
             2,
             2017
            ],
            [
             "Serbia",
             1,
             2017
            ],
            [
             "Slovenia",
             1,
             2017
            ],
            [
             "South Africa",
             2,
             2017
            ],
            [
             "South Korea",
             11,
             2017
            ],
            [
             "Spain",
             18,
             2017
            ],
            [
             "Sweden",
             2,
             2017
            ],
            [
             "Switzerland",
             1,
             2017
            ],
            [
             "Taiwan",
             29,
             2017
            ],
            [
             "Turkey",
             4,
             2017
            ],
            [
             "Ukraine",
             1,
             2017
            ],
            [
             "United Arab Emirates",
             1,
             2017
            ],
            [
             "United Kingdom",
             67,
             2017
            ],
            [
             "Zimbabwe",
             1,
             2017
            ],
            [
             "nan",
             25,
             2017
            ]
           ],
           "geo": "geo",
           "hovertemplate": "<b>%{hovertext}</b><br><br>number_of_titles=%{z}<extra></extra>",
           "hovertext": [
            "",
            "Argentina",
            "Australia",
            "Austria",
            "Azerbaijan",
            "Belgium",
            "Bermuda",
            "Brazil",
            "Canada",
            "Chile",
            "China",
            "Colombia",
            "Croatia",
            "Cuba",
            "Denmark",
            "Ecuador",
            "Egypt",
            "Finland",
            "France",
            "Germany",
            "Greece",
            "Hong Kong",
            "Hungary",
            "Iceland",
            "India",
            "Indonesia",
            "Ireland",
            "Israel",
            "Italy",
            "Japan",
            "Jordan",
            "Kazakhstan",
            "Mexico",
            "Montenegro",
            "Netherlands",
            "New Zealand",
            "Nigeria",
            "Norway",
            "Pakistan",
            "Peru",
            "Poland",
            "Qatar",
            "Russia",
            "Serbia",
            "Slovenia",
            "South Africa",
            "South Korea",
            "Spain",
            "Sweden",
            "Switzerland",
            "Taiwan",
            "Turkey",
            "Ukraine",
            "United Arab Emirates",
            "United Kingdom",
            "Zimbabwe",
            "nan"
           ],
           "locationmode": "country names",
           "locations": [
            "",
            "Argentina",
            "Australia",
            "Austria",
            "Azerbaijan",
            "Belgium",
            "Bermuda",
            "Brazil",
            "Canada",
            "Chile",
            "China",
            "Colombia",
            "Croatia",
            "Cuba",
            "Denmark",
            "Ecuador",
            "Egypt",
            "Finland",
            "France",
            "Germany",
            "Greece",
            "Hong Kong",
            "Hungary",
            "Iceland",
            "India",
            "Indonesia",
            "Ireland",
            "Israel",
            "Italy",
            "Japan",
            "Jordan",
            "Kazakhstan",
            "Mexico",
            "Montenegro",
            "Netherlands",
            "New Zealand",
            "Nigeria",
            "Norway",
            "Pakistan",
            "Peru",
            "Poland",
            "Qatar",
            "Russia",
            "Serbia",
            "Slovenia",
            "South Africa",
            "South Korea",
            "Spain",
            "Sweden",
            "Switzerland",
            "Taiwan",
            "Turkey",
            "Ukraine",
            "United Arab Emirates",
            "United Kingdom",
            "Zimbabwe",
            "nan"
           ],
           "name": "",
           "type": "choropleth",
           "z": [
            1,
            3,
            15,
            1,
            1,
            7,
            1,
            2,
            44,
            2,
            10,
            2,
            1,
            1,
            8,
            1,
            1,
            1,
            39,
            16,
            5,
            4,
            2,
            1,
            14,
            1,
            8,
            3,
            6,
            33,
            1,
            1,
            12,
            1,
            8,
            6,
            2,
            7,
            4,
            3,
            1,
            1,
            2,
            1,
            1,
            2,
            11,
            18,
            2,
            1,
            29,
            4,
            1,
            1,
            67,
            1,
            25
           ]
          }
         ],
         "name": "2017"
        },
        {
         "data": [
          {
           "coloraxis": "coloraxis",
           "customdata": [
            [
             "",
             1,
             2018
            ],
            [
             "Afghanistan",
             1,
             2018
            ],
            [
             "Argentina",
             19,
             2018
            ],
            [
             "Armenia",
             1,
             2018
            ],
            [
             "Australia",
             39,
             2018
            ],
            [
             "Austria",
             3,
             2018
            ],
            [
             "Azerbaijan",
             1,
             2018
            ],
            [
             "Belgium",
             27,
             2018
            ],
            [
             "Bermuda",
             1,
             2018
            ],
            [
             "Brazil",
             18,
             2018
            ],
            [
             "Bulgaria",
             2,
             2018
            ],
            [
             "Cambodia",
             2,
             2018
            ],
            [
             "Canada",
             115,
             2018
            ],
            [
             "Chile",
             10,
             2018
            ],
            [
             "China",
             35,
             2018
            ],
            [
             "Colombia",
             7,
             2018
            ],
            [
             "Croatia",
             2,
             2018
            ],
            [
             "Cuba",
             1,
             2018
            ],
            [
             "Czech Republic",
             4,
             2018
            ],
            [
             "Denmark",
             13,
             2018
            ],
            [
             "Ecuador",
             1,
             2018
            ],
            [
             "Egypt",
             1,
             2018
            ],
            [
             "Finland",
             2,
             2018
            ],
            [
             "France",
             93,
             2018
            ],
            [
             "Georgia",
             1,
             2018
            ],
            [
             "Germany",
             49,
             2018
            ],
            [
             "Greece",
             7,
             2018
            ],
            [
             "Hong Kong",
             12,
             2018
            ],
            [
             "Hungary",
             2,
             2018
            ],
            [
             "Iceland",
             2,
             2018
            ],
            [
             "India",
             177,
             2018
            ],
            [
             "Indonesia",
             3,
             2018
            ],
            [
             "Iran",
             1,
             2018
            ],
            [
             "Ireland",
             15,
             2018
            ],
            [
             "Israel",
             9,
             2018
            ],
            [
             "Italy",
             23,
             2018
            ],
            [
             "Japan",
             78,
             2018
            ],
            [
             "Jordan",
             4,
             2018
            ],
            [
             "Kazakhstan",
             1,
             2018
            ],
            [
             "Latvia",
             1,
             2018
            ],
            [
             "Lebanon",
             2,
             2018
            ],
            [
             "Lithuania",
             1,
             2018
            ],
            [
             "Malaysia",
             8,
             2018
            ],
            [
             "Mexico",
             48,
             2018
            ],
            [
             "Mongolia",
             1,
             2018
            ],
            [
             "Montenegro",
             1,
             2018
            ],
            [
             "Morocco",
             1,
             2018
            ],
            [
             "Nepal",
             1,
             2018
            ],
            [
             "Netherlands",
             16,
             2018
            ],
            [
             "New Zealand",
             9,
             2018
            ],
            [
             "Nicaragua",
             1,
             2018
            ],
            [
             "Nigeria",
             3,
             2018
            ],
            [
             "Norway",
             12,
             2018
            ],
            [
             "Pakistan",
             9,
             2018
            ],
            [
             "Panama",
             1,
             2018
            ],
            [
             "Peru",
             4,
             2018
            ],
            [
             "Philippines",
             1,
             2018
            ],
            [
             "Poland",
             2,
             2018
            ],
            [
             "Portugal",
             1,
             2018
            ],
            [
             "Qatar",
             5,
             2018
            ],
            [
             "Romania",
             1,
             2018
            ],
            [
             "Russia",
             10,
             2018
            ],
            [
             "Samoa",
             1,
             2018
            ],
            [
             "Saudi Arabia",
             1,
             2018
            ],
            [
             "Senegal",
             1,
             2018
            ],
            [
             "Serbia",
             1,
             2018
            ],
            [
             "Singapore",
             18,
             2018
            ],
            [
             "Slovakia",
             1,
             2018
            ],
            [
             "Slovenia",
             2,
             2018
            ],
            [
             "South Africa",
             7,
             2018
            ],
            [
             "South Korea",
             55,
             2018
            ],
            [
             "Soviet Union",
             2,
             2018
            ],
            [
             "Spain",
             61,
             2018
            ],
            [
             "Sri Lanka",
             1,
             2018
            ],
            [
             "Sweden",
             13,
             2018
            ],
            [
             "Switzerland",
             6,
             2018
            ],
            [
             "Taiwan",
             40,
             2018
            ],
            [
             "Thailand",
             3,
             2018
            ],
            [
             "Turkey",
             49,
             2018
            ],
            [
             "Ukraine",
             2,
             2018
            ],
            [
             "United Arab Emirates",
             5,
             2018
            ],
            [
             "United Kingdom",
             201,
             2018
            ],
            [
             "Uruguay",
             5,
             2018
            ],
            [
             "Venezuela",
             2,
             2018
            ],
            [
             "Vietnam",
             1,
             2018
            ],
            [
             "West Germany",
             1,
             2018
            ],
            [
             "Zimbabwe",
             1,
             2018
            ],
            [
             "nan",
             91,
             2018
            ]
           ],
           "geo": "geo",
           "hovertemplate": "<b>%{hovertext}</b><br><br>number_of_titles=%{z}<extra></extra>",
           "hovertext": [
            "",
            "Afghanistan",
            "Argentina",
            "Armenia",
            "Australia",
            "Austria",
            "Azerbaijan",
            "Belgium",
            "Bermuda",
            "Brazil",
            "Bulgaria",
            "Cambodia",
            "Canada",
            "Chile",
            "China",
            "Colombia",
            "Croatia",
            "Cuba",
            "Czech Republic",
            "Denmark",
            "Ecuador",
            "Egypt",
            "Finland",
            "France",
            "Georgia",
            "Germany",
            "Greece",
            "Hong Kong",
            "Hungary",
            "Iceland",
            "India",
            "Indonesia",
            "Iran",
            "Ireland",
            "Israel",
            "Italy",
            "Japan",
            "Jordan",
            "Kazakhstan",
            "Latvia",
            "Lebanon",
            "Lithuania",
            "Malaysia",
            "Mexico",
            "Mongolia",
            "Montenegro",
            "Morocco",
            "Nepal",
            "Netherlands",
            "New Zealand",
            "Nicaragua",
            "Nigeria",
            "Norway",
            "Pakistan",
            "Panama",
            "Peru",
            "Philippines",
            "Poland",
            "Portugal",
            "Qatar",
            "Romania",
            "Russia",
            "Samoa",
            "Saudi Arabia",
            "Senegal",
            "Serbia",
            "Singapore",
            "Slovakia",
            "Slovenia",
            "South Africa",
            "South Korea",
            "Soviet Union",
            "Spain",
            "Sri Lanka",
            "Sweden",
            "Switzerland",
            "Taiwan",
            "Thailand",
            "Turkey",
            "Ukraine",
            "United Arab Emirates",
            "United Kingdom",
            "Uruguay",
            "Venezuela",
            "Vietnam",
            "West Germany",
            "Zimbabwe",
            "nan"
           ],
           "locationmode": "country names",
           "locations": [
            "",
            "Afghanistan",
            "Argentina",
            "Armenia",
            "Australia",
            "Austria",
            "Azerbaijan",
            "Belgium",
            "Bermuda",
            "Brazil",
            "Bulgaria",
            "Cambodia",
            "Canada",
            "Chile",
            "China",
            "Colombia",
            "Croatia",
            "Cuba",
            "Czech Republic",
            "Denmark",
            "Ecuador",
            "Egypt",
            "Finland",
            "France",
            "Georgia",
            "Germany",
            "Greece",
            "Hong Kong",
            "Hungary",
            "Iceland",
            "India",
            "Indonesia",
            "Iran",
            "Ireland",
            "Israel",
            "Italy",
            "Japan",
            "Jordan",
            "Kazakhstan",
            "Latvia",
            "Lebanon",
            "Lithuania",
            "Malaysia",
            "Mexico",
            "Mongolia",
            "Montenegro",
            "Morocco",
            "Nepal",
            "Netherlands",
            "New Zealand",
            "Nicaragua",
            "Nigeria",
            "Norway",
            "Pakistan",
            "Panama",
            "Peru",
            "Philippines",
            "Poland",
            "Portugal",
            "Qatar",
            "Romania",
            "Russia",
            "Samoa",
            "Saudi Arabia",
            "Senegal",
            "Serbia",
            "Singapore",
            "Slovakia",
            "Slovenia",
            "South Africa",
            "South Korea",
            "Soviet Union",
            "Spain",
            "Sri Lanka",
            "Sweden",
            "Switzerland",
            "Taiwan",
            "Thailand",
            "Turkey",
            "Ukraine",
            "United Arab Emirates",
            "United Kingdom",
            "Uruguay",
            "Venezuela",
            "Vietnam",
            "West Germany",
            "Zimbabwe",
            "nan"
           ],
           "name": "",
           "type": "choropleth",
           "z": [
            1,
            1,
            19,
            1,
            39,
            3,
            1,
            27,
            1,
            18,
            2,
            2,
            115,
            10,
            35,
            7,
            2,
            1,
            4,
            13,
            1,
            1,
            2,
            93,
            1,
            49,
            7,
            12,
            2,
            2,
            177,
            3,
            1,
            15,
            9,
            23,
            78,
            4,
            1,
            1,
            2,
            1,
            8,
            48,
            1,
            1,
            1,
            1,
            16,
            9,
            1,
            3,
            12,
            9,
            1,
            4,
            1,
            2,
            1,
            5,
            1,
            10,
            1,
            1,
            1,
            1,
            18,
            1,
            2,
            7,
            55,
            2,
            61,
            1,
            13,
            6,
            40,
            3,
            49,
            2,
            5,
            201,
            5,
            2,
            1,
            1,
            1,
            91
           ]
          }
         ],
         "name": "2018"
        },
        {
         "data": [
          {
           "coloraxis": "coloraxis",
           "customdata": [
            [
             "",
             2,
             2019
            ],
            [
             "Afghanistan",
             1,
             2019
            ],
            [
             "Albania",
             1,
             2019
            ],
            [
             "Argentina",
             46,
             2019
            ],
            [
             "Armenia",
             1,
             2019
            ],
            [
             "Australia",
             77,
             2019
            ],
            [
             "Austria",
             4,
             2019
            ],
            [
             "Azerbaijan",
             1,
             2019
            ],
            [
             "Bangladesh",
             1,
             2019
            ],
            [
             "Belgium",
             41,
             2019
            ],
            [
             "Bermuda",
             1,
             2019
            ],
            [
             "Brazil",
             38,
             2019
            ],
            [
             "Bulgaria",
             6,
             2019
            ],
            [
             "Cambodia",
             3,
             2019
            ],
            [
             "Canada",
             199,
             2019
            ],
            [
             "Cayman Islands",
             1,
             2019
            ],
            [
             "Chile",
             19,
             2019
            ],
            [
             "China",
             78,
             2019
            ],
            [
             "Colombia",
             22,
             2019
            ],
            [
             "Croatia",
             3,
             2019
            ],
            [
             "Cuba",
             1,
             2019
            ],
            [
             "Czech Republic",
             9,
             2019
            ],
            [
             "Denmark",
             23,
             2019
            ],
            [
             "Dominican Republic",
             1,
             2019
            ],
            [
             "Ecuador",
             1,
             2019
            ],
            [
             "Egypt",
             4,
             2019
            ],
            [
             "Finland",
             3,
             2019
            ],
            [
             "France",
             159,
             2019
            ],
            [
             "Georgia",
             2,
             2019
            ],
            [
             "Germany",
             83,
             2019
            ],
            [
             "Greece",
             8,
             2019
            ],
            [
             "Guatemala",
             1,
             2019
            ],
            [
             "Hong Kong",
             69,
             2019
            ],
            [
             "Hungary",
             4,
             2019
            ],
            [
             "Iceland",
             4,
             2019
            ],
            [
             "India",
             533,
             2019
            ],
            [
             "Indonesia",
             31,
             2019
            ],
            [
             "Iran",
             3,
             2019
            ],
            [
             "Iraq",
             1,
             2019
            ],
            [
             "Ireland",
             27,
             2019
            ],
            [
             "Israel",
             18,
             2019
            ],
            [
             "Italy",
             37,
             2019
            ],
            [
             "Japan",
             125,
             2019
            ],
            [
             "Jordan",
             5,
             2019
            ],
            [
             "Kazakhstan",
             1,
             2019
            ],
            [
             "Kenya",
             1,
             2019
            ],
            [
             "Kuwait",
             1,
             2019
            ],
            [
             "Latvia",
             1,
             2019
            ],
            [
             "Lebanon",
             4,
             2019
            ],
            [
             "Lithuania",
             1,
             2019
            ],
            [
             "Luxembourg",
             3,
             2019
            ],
            [
             "Malaysia",
             11,
             2019
            ],
            [
             "Mexico",
             79,
             2019
            ],
            [
             "Mongolia",
             1,
             2019
            ],
            [
             "Montenegro",
             1,
             2019
            ],
            [
             "Morocco",
             5,
             2019
            ],
            [
             "Namibia",
             1,
             2019
            ],
            [
             "Nepal",
             1,
             2019
            ],
            [
             "Netherlands",
             26,
             2019
            ],
            [
             "New Zealand",
             15,
             2019
            ],
            [
             "Nicaragua",
             1,
             2019
            ],
            [
             "Nigeria",
             4,
             2019
            ],
            [
             "Norway",
             15,
             2019
            ],
            [
             "Pakistan",
             14,
             2019
            ],
            [
             "Panama",
             1,
             2019
            ],
            [
             "Peru",
             7,
             2019
            ],
            [
             "Philippines",
             7,
             2019
            ],
            [
             "Poland",
             9,
             2019
            ],
            [
             "Portugal",
             3,
             2019
            ],
            [
             "Qatar",
             7,
             2019
            ],
            [
             "Romania",
             1,
             2019
            ],
            [
             "Russia",
             16,
             2019
            ],
            [
             "Samoa",
             1,
             2019
            ],
            [
             "Saudi Arabia",
             2,
             2019
            ],
            [
             "Senegal",
             1,
             2019
            ],
            [
             "Serbia",
             4,
             2019
            ],
            [
             "Singapore",
             26,
             2019
            ],
            [
             "Slovakia",
             1,
             2019
            ],
            [
             "Slovenia",
             3,
             2019
            ],
            [
             "Somalia",
             1,
             2019
            ],
            [
             "South Africa",
             20,
             2019
            ],
            [
             "South Korea",
             88,
             2019
            ],
            [
             "Soviet Union",
             3,
             2019
            ],
            [
             "Spain",
             105,
             2019
            ],
            [
             "Sri Lanka",
             1,
             2019
            ],
            [
             "Sudan",
             1,
             2019
            ],
            [
             "Sweden",
             23,
             2019
            ],
            [
             "Switzerland",
             10,
             2019
            ],
            [
             "Syria",
             1,
             2019
            ],
            [
             "Taiwan",
             49,
             2019
            ],
            [
             "Thailand",
             36,
             2019
            ],
            [
             "Turkey",
             55,
             2019
            ],
            [
             "Uganda",
             1,
             2019
            ],
            [
             "Ukraine",
             3,
             2019
            ],
            [
             "United Arab Emirates",
             11,
             2019
            ],
            [
             "United Kingdom",
             349,
             2019
            ],
            [
             "Uruguay",
             6,
             2019
            ],
            [
             "Venezuela",
             3,
             2019
            ],
            [
             "Vietnam",
             3,
             2019
            ],
            [
             "West Germany",
             2,
             2019
            ],
            [
             "Zimbabwe",
             2,
             2019
            ],
            [
             "nan",
             213,
             2019
            ]
           ],
           "geo": "geo",
           "hovertemplate": "<b>%{hovertext}</b><br><br>number_of_titles=%{z}<extra></extra>",
           "hovertext": [
            "",
            "Afghanistan",
            "Albania",
            "Argentina",
            "Armenia",
            "Australia",
            "Austria",
            "Azerbaijan",
            "Bangladesh",
            "Belgium",
            "Bermuda",
            "Brazil",
            "Bulgaria",
            "Cambodia",
            "Canada",
            "Cayman Islands",
            "Chile",
            "China",
            "Colombia",
            "Croatia",
            "Cuba",
            "Czech Republic",
            "Denmark",
            "Dominican Republic",
            "Ecuador",
            "Egypt",
            "Finland",
            "France",
            "Georgia",
            "Germany",
            "Greece",
            "Guatemala",
            "Hong Kong",
            "Hungary",
            "Iceland",
            "India",
            "Indonesia",
            "Iran",
            "Iraq",
            "Ireland",
            "Israel",
            "Italy",
            "Japan",
            "Jordan",
            "Kazakhstan",
            "Kenya",
            "Kuwait",
            "Latvia",
            "Lebanon",
            "Lithuania",
            "Luxembourg",
            "Malaysia",
            "Mexico",
            "Mongolia",
            "Montenegro",
            "Morocco",
            "Namibia",
            "Nepal",
            "Netherlands",
            "New Zealand",
            "Nicaragua",
            "Nigeria",
            "Norway",
            "Pakistan",
            "Panama",
            "Peru",
            "Philippines",
            "Poland",
            "Portugal",
            "Qatar",
            "Romania",
            "Russia",
            "Samoa",
            "Saudi Arabia",
            "Senegal",
            "Serbia",
            "Singapore",
            "Slovakia",
            "Slovenia",
            "Somalia",
            "South Africa",
            "South Korea",
            "Soviet Union",
            "Spain",
            "Sri Lanka",
            "Sudan",
            "Sweden",
            "Switzerland",
            "Syria",
            "Taiwan",
            "Thailand",
            "Turkey",
            "Uganda",
            "Ukraine",
            "United Arab Emirates",
            "United Kingdom",
            "Uruguay",
            "Venezuela",
            "Vietnam",
            "West Germany",
            "Zimbabwe",
            "nan"
           ],
           "locationmode": "country names",
           "locations": [
            "",
            "Afghanistan",
            "Albania",
            "Argentina",
            "Armenia",
            "Australia",
            "Austria",
            "Azerbaijan",
            "Bangladesh",
            "Belgium",
            "Bermuda",
            "Brazil",
            "Bulgaria",
            "Cambodia",
            "Canada",
            "Cayman Islands",
            "Chile",
            "China",
            "Colombia",
            "Croatia",
            "Cuba",
            "Czech Republic",
            "Denmark",
            "Dominican Republic",
            "Ecuador",
            "Egypt",
            "Finland",
            "France",
            "Georgia",
            "Germany",
            "Greece",
            "Guatemala",
            "Hong Kong",
            "Hungary",
            "Iceland",
            "India",
            "Indonesia",
            "Iran",
            "Iraq",
            "Ireland",
            "Israel",
            "Italy",
            "Japan",
            "Jordan",
            "Kazakhstan",
            "Kenya",
            "Kuwait",
            "Latvia",
            "Lebanon",
            "Lithuania",
            "Luxembourg",
            "Malaysia",
            "Mexico",
            "Mongolia",
            "Montenegro",
            "Morocco",
            "Namibia",
            "Nepal",
            "Netherlands",
            "New Zealand",
            "Nicaragua",
            "Nigeria",
            "Norway",
            "Pakistan",
            "Panama",
            "Peru",
            "Philippines",
            "Poland",
            "Portugal",
            "Qatar",
            "Romania",
            "Russia",
            "Samoa",
            "Saudi Arabia",
            "Senegal",
            "Serbia",
            "Singapore",
            "Slovakia",
            "Slovenia",
            "Somalia",
            "South Africa",
            "South Korea",
            "Soviet Union",
            "Spain",
            "Sri Lanka",
            "Sudan",
            "Sweden",
            "Switzerland",
            "Syria",
            "Taiwan",
            "Thailand",
            "Turkey",
            "Uganda",
            "Ukraine",
            "United Arab Emirates",
            "United Kingdom",
            "Uruguay",
            "Venezuela",
            "Vietnam",
            "West Germany",
            "Zimbabwe",
            "nan"
           ],
           "name": "",
           "type": "choropleth",
           "z": [
            2,
            1,
            1,
            46,
            1,
            77,
            4,
            1,
            1,
            41,
            1,
            38,
            6,
            3,
            199,
            1,
            19,
            78,
            22,
            3,
            1,
            9,
            23,
            1,
            1,
            4,
            3,
            159,
            2,
            83,
            8,
            1,
            69,
            4,
            4,
            533,
            31,
            3,
            1,
            27,
            18,
            37,
            125,
            5,
            1,
            1,
            1,
            1,
            4,
            1,
            3,
            11,
            79,
            1,
            1,
            5,
            1,
            1,
            26,
            15,
            1,
            4,
            15,
            14,
            1,
            7,
            7,
            9,
            3,
            7,
            1,
            16,
            1,
            2,
            1,
            4,
            26,
            1,
            3,
            1,
            20,
            88,
            3,
            105,
            1,
            1,
            23,
            10,
            1,
            49,
            36,
            55,
            1,
            3,
            11,
            349,
            6,
            3,
            3,
            2,
            2,
            213
           ]
          }
         ],
         "name": "2019"
        },
        {
         "data": [
          {
           "coloraxis": "coloraxis",
           "customdata": [
            [
             "",
             3,
             2020
            ],
            [
             "Afghanistan",
             1,
             2020
            ],
            [
             "Albania",
             1,
             2020
            ],
            [
             "Argentina",
             66,
             2020
            ],
            [
             "Armenia",
             1,
             2020
            ],
            [
             "Australia",
             113,
             2020
            ],
            [
             "Austria",
             8,
             2020
            ],
            [
             "Azerbaijan",
             1,
             2020
            ],
            [
             "Bangladesh",
             3,
             2020
            ],
            [
             "Belgium",
             61,
             2020
            ],
            [
             "Bermuda",
             1,
             2020
            ],
            [
             "Brazil",
             60,
             2020
            ],
            [
             "Bulgaria",
             8,
             2020
            ],
            [
             "Cambodia",
             4,
             2020
            ],
            [
             "Canada",
             289,
             2020
            ],
            [
             "Cayman Islands",
             1,
             2020
            ],
            [
             "Chile",
             21,
             2020
            ],
            [
             "China",
             120,
             2020
            ],
            [
             "Colombia",
             35,
             2020
            ],
            [
             "Croatia",
             4,
             2020
            ],
            [
             "Cuba",
             1,
             2020
            ],
            [
             "Czech Republic",
             15,
             2020
            ],
            [
             "Denmark",
             35,
             2020
            ],
            [
             "Dominican Republic",
             1,
             2020
            ],
            [
             "Ecuador",
             1,
             2020
            ],
            [
             "Egypt",
             58,
             2020
            ],
            [
             "Finland",
             7,
             2020
            ],
            [
             "France",
             243,
             2020
            ],
            [
             "Georgia",
             2,
             2020
            ],
            [
             "Germany",
             132,
             2020
            ],
            [
             "Ghana",
             2,
             2020
            ],
            [
             "Greece",
             8,
             2020
            ],
            [
             "Guatemala",
             2,
             2020
            ],
            [
             "Hong Kong",
             94,
             2020
            ],
            [
             "Hungary",
             6,
             2020
            ],
            [
             "Iceland",
             5,
             2020
            ],
            [
             "India",
             774,
             2020
            ],
            [
             "Indonesia",
             49,
             2020
            ],
            [
             "Iran",
             4,
             2020
            ],
            [
             "Iraq",
             2,
             2020
            ],
            [
             "Ireland",
             31,
             2020
            ],
            [
             "Israel",
             24,
             2020
            ],
            [
             "Italy",
             58,
             2020
            ],
            [
             "Japan",
             203,
             2020
            ],
            [
             "Jordan",
             6,
             2020
            ],
            [
             "Kazakhstan",
             1,
             2020
            ],
            [
             "Kenya",
             1,
             2020
            ],
            [
             "Kuwait",
             2,
             2020
            ],
            [
             "Latvia",
             1,
             2020
            ],
            [
             "Lebanon",
             8,
             2020
            ],
            [
             "Liechtenstein",
             1,
             2020
            ],
            [
             "Lithuania",
             1,
             2020
            ],
            [
             "Luxembourg",
             7,
             2020
            ],
            [
             "Malawi",
             1,
             2020
            ],
            [
             "Malaysia",
             20,
             2020
            ],
            [
             "Mauritius",
             1,
             2020
            ],
            [
             "Mexico",
             120,
             2020
            ],
            [
             "Mongolia",
             1,
             2020
            ],
            [
             "Montenegro",
             1,
             2020
            ],
            [
             "Morocco",
             6,
             2020
            ],
            [
             "Namibia",
             1,
             2020
            ],
            [
             "Nepal",
             2,
             2020
            ],
            [
             "Netherlands",
             34,
             2020
            ],
            [
             "New Zealand",
             20,
             2020
            ],
            [
             "Nicaragua",
             1,
             2020
            ],
            [
             "Nigeria",
             34,
             2020
            ],
            [
             "Norway",
             18,
             2020
            ],
            [
             "Pakistan",
             23,
             2020
            ],
            [
             "Panama",
             1,
             2020
            ],
            [
             "Paraguay",
             1,
             2020
            ],
            [
             "Peru",
             9,
             2020
            ],
            [
             "Philippines",
             46,
             2020
            ],
            [
             "Poland",
             25,
             2020
            ],
            [
             "Portugal",
             4,
             2020
            ],
            [
             "Qatar",
             7,
             2020
            ],
            [
             "Romania",
             7,
             2020
            ],
            [
             "Russia",
             20,
             2020
            ],
            [
             "Samoa",
             1,
             2020
            ],
            [
             "Saudi Arabia",
             2,
             2020
            ],
            [
             "Senegal",
             2,
             2020
            ],
            [
             "Serbia",
             5,
             2020
            ],
            [
             "Singapore",
             35,
             2020
            ],
            [
             "Slovakia",
             1,
             2020
            ],
            [
             "Slovenia",
             3,
             2020
            ],
            [
             "Somalia",
             1,
             2020
            ],
            [
             "South Africa",
             30,
             2020
            ],
            [
             "South Korea",
             153,
             2020
            ],
            [
             "Soviet Union",
             3,
             2020
            ],
            [
             "Spain",
             164,
             2020
            ],
            [
             "Sri Lanka",
             1,
             2020
            ],
            [
             "Sudan",
             1,
             2020
            ],
            [
             "Sweden",
             34,
             2020
            ],
            [
             "Switzerland",
             14,
             2020
            ],
            [
             "Syria",
             1,
             2020
            ],
            [
             "Taiwan",
             73,
             2020
            ],
            [
             "Thailand",
             56,
             2020
            ],
            [
             "Turkey",
             78,
             2020
            ],
            [
             "Uganda",
             1,
             2020
            ],
            [
             "Ukraine",
             3,
             2020
            ],
            [
             "United Arab Emirates",
             19,
             2020
            ],
            [
             "United Kingdom",
             548,
             2020
            ],
            [
             "Uruguay",
             11,
             2020
            ],
            [
             "Vatican City",
             1,
             2020
            ],
            [
             "Venezuela",
             3,
             2020
            ],
            [
             "Vietnam",
             4,
             2020
            ],
            [
             "West Germany",
             4,
             2020
            ],
            [
             "Zimbabwe",
             2,
             2020
            ],
            [
             "nan",
             373,
             2020
            ]
           ],
           "geo": "geo",
           "hovertemplate": "<b>%{hovertext}</b><br><br>number_of_titles=%{z}<extra></extra>",
           "hovertext": [
            "",
            "Afghanistan",
            "Albania",
            "Argentina",
            "Armenia",
            "Australia",
            "Austria",
            "Azerbaijan",
            "Bangladesh",
            "Belgium",
            "Bermuda",
            "Brazil",
            "Bulgaria",
            "Cambodia",
            "Canada",
            "Cayman Islands",
            "Chile",
            "China",
            "Colombia",
            "Croatia",
            "Cuba",
            "Czech Republic",
            "Denmark",
            "Dominican Republic",
            "Ecuador",
            "Egypt",
            "Finland",
            "France",
            "Georgia",
            "Germany",
            "Ghana",
            "Greece",
            "Guatemala",
            "Hong Kong",
            "Hungary",
            "Iceland",
            "India",
            "Indonesia",
            "Iran",
            "Iraq",
            "Ireland",
            "Israel",
            "Italy",
            "Japan",
            "Jordan",
            "Kazakhstan",
            "Kenya",
            "Kuwait",
            "Latvia",
            "Lebanon",
            "Liechtenstein",
            "Lithuania",
            "Luxembourg",
            "Malawi",
            "Malaysia",
            "Mauritius",
            "Mexico",
            "Mongolia",
            "Montenegro",
            "Morocco",
            "Namibia",
            "Nepal",
            "Netherlands",
            "New Zealand",
            "Nicaragua",
            "Nigeria",
            "Norway",
            "Pakistan",
            "Panama",
            "Paraguay",
            "Peru",
            "Philippines",
            "Poland",
            "Portugal",
            "Qatar",
            "Romania",
            "Russia",
            "Samoa",
            "Saudi Arabia",
            "Senegal",
            "Serbia",
            "Singapore",
            "Slovakia",
            "Slovenia",
            "Somalia",
            "South Africa",
            "South Korea",
            "Soviet Union",
            "Spain",
            "Sri Lanka",
            "Sudan",
            "Sweden",
            "Switzerland",
            "Syria",
            "Taiwan",
            "Thailand",
            "Turkey",
            "Uganda",
            "Ukraine",
            "United Arab Emirates",
            "United Kingdom",
            "Uruguay",
            "Vatican City",
            "Venezuela",
            "Vietnam",
            "West Germany",
            "Zimbabwe",
            "nan"
           ],
           "locationmode": "country names",
           "locations": [
            "",
            "Afghanistan",
            "Albania",
            "Argentina",
            "Armenia",
            "Australia",
            "Austria",
            "Azerbaijan",
            "Bangladesh",
            "Belgium",
            "Bermuda",
            "Brazil",
            "Bulgaria",
            "Cambodia",
            "Canada",
            "Cayman Islands",
            "Chile",
            "China",
            "Colombia",
            "Croatia",
            "Cuba",
            "Czech Republic",
            "Denmark",
            "Dominican Republic",
            "Ecuador",
            "Egypt",
            "Finland",
            "France",
            "Georgia",
            "Germany",
            "Ghana",
            "Greece",
            "Guatemala",
            "Hong Kong",
            "Hungary",
            "Iceland",
            "India",
            "Indonesia",
            "Iran",
            "Iraq",
            "Ireland",
            "Israel",
            "Italy",
            "Japan",
            "Jordan",
            "Kazakhstan",
            "Kenya",
            "Kuwait",
            "Latvia",
            "Lebanon",
            "Liechtenstein",
            "Lithuania",
            "Luxembourg",
            "Malawi",
            "Malaysia",
            "Mauritius",
            "Mexico",
            "Mongolia",
            "Montenegro",
            "Morocco",
            "Namibia",
            "Nepal",
            "Netherlands",
            "New Zealand",
            "Nicaragua",
            "Nigeria",
            "Norway",
            "Pakistan",
            "Panama",
            "Paraguay",
            "Peru",
            "Philippines",
            "Poland",
            "Portugal",
            "Qatar",
            "Romania",
            "Russia",
            "Samoa",
            "Saudi Arabia",
            "Senegal",
            "Serbia",
            "Singapore",
            "Slovakia",
            "Slovenia",
            "Somalia",
            "South Africa",
            "South Korea",
            "Soviet Union",
            "Spain",
            "Sri Lanka",
            "Sudan",
            "Sweden",
            "Switzerland",
            "Syria",
            "Taiwan",
            "Thailand",
            "Turkey",
            "Uganda",
            "Ukraine",
            "United Arab Emirates",
            "United Kingdom",
            "Uruguay",
            "Vatican City",
            "Venezuela",
            "Vietnam",
            "West Germany",
            "Zimbabwe",
            "nan"
           ],
           "name": "",
           "type": "choropleth",
           "z": [
            3,
            1,
            1,
            66,
            1,
            113,
            8,
            1,
            3,
            61,
            1,
            60,
            8,
            4,
            289,
            1,
            21,
            120,
            35,
            4,
            1,
            15,
            35,
            1,
            1,
            58,
            7,
            243,
            2,
            132,
            2,
            8,
            2,
            94,
            6,
            5,
            774,
            49,
            4,
            2,
            31,
            24,
            58,
            203,
            6,
            1,
            1,
            2,
            1,
            8,
            1,
            1,
            7,
            1,
            20,
            1,
            120,
            1,
            1,
            6,
            1,
            2,
            34,
            20,
            1,
            34,
            18,
            23,
            1,
            1,
            9,
            46,
            25,
            4,
            7,
            7,
            20,
            1,
            2,
            2,
            5,
            35,
            1,
            3,
            1,
            30,
            153,
            3,
            164,
            1,
            1,
            34,
            14,
            1,
            73,
            56,
            78,
            1,
            3,
            19,
            548,
            11,
            1,
            3,
            4,
            4,
            2,
            373
           ]
          }
         ],
         "name": "2020"
        },
        {
         "data": [
          {
           "coloraxis": "coloraxis",
           "customdata": [
            [
             "",
             4,
             2021
            ],
            [
             "Afghanistan",
             1,
             2021
            ],
            [
             "Albania",
             1,
             2021
            ],
            [
             "Algeria",
             2,
             2021
            ],
            [
             "Angola",
             1,
             2021
            ],
            [
             "Argentina",
             82,
             2021
            ],
            [
             "Armenia",
             1,
             2021
            ],
            [
             "Australia",
             143,
             2021
            ],
            [
             "Austria",
             11,
             2021
            ],
            [
             "Azerbaijan",
             1,
             2021
            ],
            [
             "Bahamas",
             1,
             2021
            ],
            [
             "Bangladesh",
             3,
             2021
            ],
            [
             "Belarus",
             1,
             2021
            ],
            [
             "Belgium",
             85,
             2021
            ],
            [
             "Bermuda",
             1,
             2021
            ],
            [
             "Botswana",
             1,
             2021
            ],
            [
             "Brazil",
             87,
             2021
            ],
            [
             "Bulgaria",
             9,
             2021
            ],
            [
             "Cambodia",
             5,
             2021
            ],
            [
             "Canada",
             404,
             2021
            ],
            [
             "Cayman Islands",
             1,
             2021
            ],
            [
             "Chile",
             26,
             2021
            ],
            [
             "China",
             147,
             2021
            ],
            [
             "Colombia",
             45,
             2021
            ],
            [
             "Croatia",
             4,
             2021
            ],
            [
             "Cuba",
             1,
             2021
            ],
            [
             "Cyprus",
             1,
             2021
            ],
            [
             "Czech Republic",
             20,
             2021
            ],
            [
             "Denmark",
             44,
             2021
            ],
            [
             "Dominican Republic",
             1,
             2021
            ],
            [
             "East Germany",
             1,
             2021
            ],
            [
             "Ecuador",
             1,
             2021
            ],
            [
             "Egypt",
             110,
             2021
            ],
            [
             "Finland",
             11,
             2021
            ],
            [
             "France",
             342,
             2021
            ],
            [
             "Georgia",
             2,
             2021
            ],
            [
             "Germany",
             195,
             2021
            ],
            [
             "Ghana",
             4,
             2021
            ],
            [
             "Greece",
             10,
             2021
            ],
            [
             "Guatemala",
             2,
             2021
            ],
            [
             "Hong Kong",
             100,
             2021
            ],
            [
             "Hungary",
             8,
             2021
            ],
            [
             "Iceland",
             9,
             2021
            ],
            [
             "India",
             977,
             2021
            ],
            [
             "Indonesia",
             78,
             2021
            ],
            [
             "Iran",
             4,
             2021
            ],
            [
             "Iraq",
             2,
             2021
            ],
            [
             "Ireland",
             40,
             2021
            ],
            [
             "Israel",
             26,
             2021
            ],
            [
             "Italy",
             90,
             2021
            ],
            [
             "Jamaica",
             1,
             2021
            ],
            [
             "Japan",
             286,
             2021
            ],
            [
             "Jordan",
             8,
             2021
            ],
            [
             "Kazakhstan",
             1,
             2021
            ],
            [
             "Kenya",
             5,
             2021
            ],
            [
             "Kuwait",
             7,
             2021
            ],
            [
             "Latvia",
             1,
             2021
            ],
            [
             "Lebanon",
             26,
             2021
            ],
            [
             "Liechtenstein",
             1,
             2021
            ],
            [
             "Lithuania",
             1,
             2021
            ],
            [
             "Luxembourg",
             11,
             2021
            ],
            [
             "Malawi",
             1,
             2021
            ],
            [
             "Malaysia",
             26,
             2021
            ],
            [
             "Malta",
             3,
             2021
            ],
            [
             "Mauritius",
             1,
             2021
            ],
            [
             "Mexico",
             152,
             2021
            ],
            [
             "Mongolia",
             1,
             2021
            ],
            [
             "Montenegro",
             1,
             2021
            ],
            [
             "Morocco",
             6,
             2021
            ],
            [
             "Namibia",
             2,
             2021
            ],
            [
             "Nepal",
             2,
             2021
            ],
            [
             "Netherlands",
             45,
             2021
            ],
            [
             "New Zealand",
             28,
             2021
            ],
            [
             "Nicaragua",
             1,
             2021
            ],
            [
             "Nigeria",
             76,
             2021
            ],
            [
             "Norway",
             27,
             2021
            ],
            [
             "Pakistan",
             24,
             2021
            ],
            [
             "Panama",
             1,
             2021
            ],
            [
             "Paraguay",
             1,
             2021
            ],
            [
             "Peru",
             10,
             2021
            ],
            [
             "Philippines",
             78,
             2021
            ],
            [
             "Poland",
             36,
             2021
            ],
            [
             "Portugal",
             4,
             2021
            ],
            [
             "Puerto Rico",
             1,
             2021
            ],
            [
             "Qatar",
             7,
             2021
            ],
            [
             "Romania",
             12,
             2021
            ],
            [
             "Russia",
             27,
             2021
            ],
            [
             "Samoa",
             1,
             2021
            ],
            [
             "Saudi Arabia",
             10,
             2021
            ],
            [
             "Senegal",
             3,
             2021
            ],
            [
             "Serbia",
             7,
             2021
            ],
            [
             "Singapore",
             39,
             2021
            ],
            [
             "Slovakia",
             1,
             2021
            ],
            [
             "Slovenia",
             3,
             2021
            ],
            [
             "Somalia",
             1,
             2021
            ],
            [
             "South Africa",
             54,
             2021
            ],
            [
             "South Korea",
             211,
             2021
            ],
            [
             "Soviet Union",
             3,
             2021
            ],
            [
             "Spain",
             212,
             2021
            ],
            [
             "Sri Lanka",
             1,
             2021
            ],
            [
             "Sudan",
             1,
             2021
            ],
            [
             "Sweden",
             38,
             2021
            ],
            [
             "Switzerland",
             17,
             2021
            ],
            [
             "Syria",
             1,
             2021
            ],
            [
             "Taiwan",
             85,
             2021
            ],
            [
             "Thailand",
             64,
             2021
            ],
            [
             "Turkey",
             107,
             2021
            ],
            [
             "Uganda",
             1,
             2021
            ],
            [
             "Ukraine",
             3,
             2021
            ],
            [
             "United Arab Emirates",
             34,
             2021
            ],
            [
             "United Kingdom",
             715,
             2021
            ],
            [
             "Uruguay",
             14,
             2021
            ],
            [
             "Vatican City",
             1,
             2021
            ],
            [
             "Venezuela",
             3,
             2021
            ],
            [
             "Vietnam",
             5,
             2021
            ],
            [
             "West Germany",
             5,
             2021
            ],
            [
             "Zimbabwe",
             3,
             2021
            ],
            [
             "nan",
             492,
             2021
            ]
           ],
           "geo": "geo",
           "hovertemplate": "<b>%{hovertext}</b><br><br>number_of_titles=%{z}<extra></extra>",
           "hovertext": [
            "",
            "Afghanistan",
            "Albania",
            "Algeria",
            "Angola",
            "Argentina",
            "Armenia",
            "Australia",
            "Austria",
            "Azerbaijan",
            "Bahamas",
            "Bangladesh",
            "Belarus",
            "Belgium",
            "Bermuda",
            "Botswana",
            "Brazil",
            "Bulgaria",
            "Cambodia",
            "Canada",
            "Cayman Islands",
            "Chile",
            "China",
            "Colombia",
            "Croatia",
            "Cuba",
            "Cyprus",
            "Czech Republic",
            "Denmark",
            "Dominican Republic",
            "East Germany",
            "Ecuador",
            "Egypt",
            "Finland",
            "France",
            "Georgia",
            "Germany",
            "Ghana",
            "Greece",
            "Guatemala",
            "Hong Kong",
            "Hungary",
            "Iceland",
            "India",
            "Indonesia",
            "Iran",
            "Iraq",
            "Ireland",
            "Israel",
            "Italy",
            "Jamaica",
            "Japan",
            "Jordan",
            "Kazakhstan",
            "Kenya",
            "Kuwait",
            "Latvia",
            "Lebanon",
            "Liechtenstein",
            "Lithuania",
            "Luxembourg",
            "Malawi",
            "Malaysia",
            "Malta",
            "Mauritius",
            "Mexico",
            "Mongolia",
            "Montenegro",
            "Morocco",
            "Namibia",
            "Nepal",
            "Netherlands",
            "New Zealand",
            "Nicaragua",
            "Nigeria",
            "Norway",
            "Pakistan",
            "Panama",
            "Paraguay",
            "Peru",
            "Philippines",
            "Poland",
            "Portugal",
            "Puerto Rico",
            "Qatar",
            "Romania",
            "Russia",
            "Samoa",
            "Saudi Arabia",
            "Senegal",
            "Serbia",
            "Singapore",
            "Slovakia",
            "Slovenia",
            "Somalia",
            "South Africa",
            "South Korea",
            "Soviet Union",
            "Spain",
            "Sri Lanka",
            "Sudan",
            "Sweden",
            "Switzerland",
            "Syria",
            "Taiwan",
            "Thailand",
            "Turkey",
            "Uganda",
            "Ukraine",
            "United Arab Emirates",
            "United Kingdom",
            "Uruguay",
            "Vatican City",
            "Venezuela",
            "Vietnam",
            "West Germany",
            "Zimbabwe",
            "nan"
           ],
           "locationmode": "country names",
           "locations": [
            "",
            "Afghanistan",
            "Albania",
            "Algeria",
            "Angola",
            "Argentina",
            "Armenia",
            "Australia",
            "Austria",
            "Azerbaijan",
            "Bahamas",
            "Bangladesh",
            "Belarus",
            "Belgium",
            "Bermuda",
            "Botswana",
            "Brazil",
            "Bulgaria",
            "Cambodia",
            "Canada",
            "Cayman Islands",
            "Chile",
            "China",
            "Colombia",
            "Croatia",
            "Cuba",
            "Cyprus",
            "Czech Republic",
            "Denmark",
            "Dominican Republic",
            "East Germany",
            "Ecuador",
            "Egypt",
            "Finland",
            "France",
            "Georgia",
            "Germany",
            "Ghana",
            "Greece",
            "Guatemala",
            "Hong Kong",
            "Hungary",
            "Iceland",
            "India",
            "Indonesia",
            "Iran",
            "Iraq",
            "Ireland",
            "Israel",
            "Italy",
            "Jamaica",
            "Japan",
            "Jordan",
            "Kazakhstan",
            "Kenya",
            "Kuwait",
            "Latvia",
            "Lebanon",
            "Liechtenstein",
            "Lithuania",
            "Luxembourg",
            "Malawi",
            "Malaysia",
            "Malta",
            "Mauritius",
            "Mexico",
            "Mongolia",
            "Montenegro",
            "Morocco",
            "Namibia",
            "Nepal",
            "Netherlands",
            "New Zealand",
            "Nicaragua",
            "Nigeria",
            "Norway",
            "Pakistan",
            "Panama",
            "Paraguay",
            "Peru",
            "Philippines",
            "Poland",
            "Portugal",
            "Puerto Rico",
            "Qatar",
            "Romania",
            "Russia",
            "Samoa",
            "Saudi Arabia",
            "Senegal",
            "Serbia",
            "Singapore",
            "Slovakia",
            "Slovenia",
            "Somalia",
            "South Africa",
            "South Korea",
            "Soviet Union",
            "Spain",
            "Sri Lanka",
            "Sudan",
            "Sweden",
            "Switzerland",
            "Syria",
            "Taiwan",
            "Thailand",
            "Turkey",
            "Uganda",
            "Ukraine",
            "United Arab Emirates",
            "United Kingdom",
            "Uruguay",
            "Vatican City",
            "Venezuela",
            "Vietnam",
            "West Germany",
            "Zimbabwe",
            "nan"
           ],
           "name": "",
           "type": "choropleth",
           "z": [
            4,
            1,
            1,
            2,
            1,
            82,
            1,
            143,
            11,
            1,
            1,
            3,
            1,
            85,
            1,
            1,
            87,
            9,
            5,
            404,
            1,
            26,
            147,
            45,
            4,
            1,
            1,
            20,
            44,
            1,
            1,
            1,
            110,
            11,
            342,
            2,
            195,
            4,
            10,
            2,
            100,
            8,
            9,
            977,
            78,
            4,
            2,
            40,
            26,
            90,
            1,
            286,
            8,
            1,
            5,
            7,
            1,
            26,
            1,
            1,
            11,
            1,
            26,
            3,
            1,
            152,
            1,
            1,
            6,
            2,
            2,
            45,
            28,
            1,
            76,
            27,
            24,
            1,
            1,
            10,
            78,
            36,
            4,
            1,
            7,
            12,
            27,
            1,
            10,
            3,
            7,
            39,
            1,
            3,
            1,
            54,
            211,
            3,
            212,
            1,
            1,
            38,
            17,
            1,
            85,
            64,
            107,
            1,
            3,
            34,
            715,
            14,
            1,
            3,
            5,
            5,
            3,
            492
           ]
          }
         ],
         "name": "2021"
        }
       ],
       "layout": {
        "coloraxis": {
         "colorbar": {
          "title": {
           "text": "number_of_titles"
          }
         },
         "colorscale": [
          [
           0,
           "rgb(255,245,240)"
          ],
          [
           0.125,
           "rgb(254,224,210)"
          ],
          [
           0.25,
           "rgb(252,187,161)"
          ],
          [
           0.375,
           "rgb(252,146,114)"
          ],
          [
           0.5,
           "rgb(251,106,74)"
          ],
          [
           0.625,
           "rgb(239,59,44)"
          ],
          [
           0.75,
           "rgb(203,24,29)"
          ],
          [
           0.875,
           "rgb(165,15,21)"
          ],
          [
           1,
           "rgb(103,0,13)"
          ]
         ]
        },
        "geo": {
         "center": {},
         "domain": {
          "x": [
           0,
           1
          ],
          "y": [
           0,
           1
          ]
         }
        },
        "height": 600,
        "legend": {
         "tracegroupgap": 0
        },
        "margin": {
         "t": 60
        },
        "sliders": [
         {
          "active": 0,
          "currentvalue": {
           "prefix": "added_year="
          },
          "len": 0.9,
          "pad": {
           "b": 10,
           "t": 60
          },
          "steps": [
           {
            "args": [
             [
              "2008"
             ],
             {
              "frame": {
               "duration": 0,
               "redraw": true
              },
              "fromcurrent": true,
              "mode": "immediate",
              "transition": {
               "duration": 0,
               "easing": "linear"
              }
             }
            ],
            "label": "2008",
            "method": "animate"
           },
           {
            "args": [
             [
              "2009"
             ],
             {
              "frame": {
               "duration": 0,
               "redraw": true
              },
              "fromcurrent": true,
              "mode": "immediate",
              "transition": {
               "duration": 0,
               "easing": "linear"
              }
             }
            ],
            "label": "2009",
            "method": "animate"
           },
           {
            "args": [
             [
              "2010"
             ],
             {
              "frame": {
               "duration": 0,
               "redraw": true
              },
              "fromcurrent": true,
              "mode": "immediate",
              "transition": {
               "duration": 0,
               "easing": "linear"
              }
             }
            ],
            "label": "2010",
            "method": "animate"
           },
           {
            "args": [
             [
              "2011"
             ],
             {
              "frame": {
               "duration": 0,
               "redraw": true
              },
              "fromcurrent": true,
              "mode": "immediate",
              "transition": {
               "duration": 0,
               "easing": "linear"
              }
             }
            ],
            "label": "2011",
            "method": "animate"
           },
           {
            "args": [
             [
              "2012"
             ],
             {
              "frame": {
               "duration": 0,
               "redraw": true
              },
              "fromcurrent": true,
              "mode": "immediate",
              "transition": {
               "duration": 0,
               "easing": "linear"
              }
             }
            ],
            "label": "2012",
            "method": "animate"
           },
           {
            "args": [
             [
              "2013"
             ],
             {
              "frame": {
               "duration": 0,
               "redraw": true
              },
              "fromcurrent": true,
              "mode": "immediate",
              "transition": {
               "duration": 0,
               "easing": "linear"
              }
             }
            ],
            "label": "2013",
            "method": "animate"
           },
           {
            "args": [
             [
              "2014"
             ],
             {
              "frame": {
               "duration": 0,
               "redraw": true
              },
              "fromcurrent": true,
              "mode": "immediate",
              "transition": {
               "duration": 0,
               "easing": "linear"
              }
             }
            ],
            "label": "2014",
            "method": "animate"
           },
           {
            "args": [
             [
              "2015"
             ],
             {
              "frame": {
               "duration": 0,
               "redraw": true
              },
              "fromcurrent": true,
              "mode": "immediate",
              "transition": {
               "duration": 0,
               "easing": "linear"
              }
             }
            ],
            "label": "2015",
            "method": "animate"
           },
           {
            "args": [
             [
              "2016"
             ],
             {
              "frame": {
               "duration": 0,
               "redraw": true
              },
              "fromcurrent": true,
              "mode": "immediate",
              "transition": {
               "duration": 0,
               "easing": "linear"
              }
             }
            ],
            "label": "2016",
            "method": "animate"
           },
           {
            "args": [
             [
              "2017"
             ],
             {
              "frame": {
               "duration": 0,
               "redraw": true
              },
              "fromcurrent": true,
              "mode": "immediate",
              "transition": {
               "duration": 0,
               "easing": "linear"
              }
             }
            ],
            "label": "2017",
            "method": "animate"
           },
           {
            "args": [
             [
              "2018"
             ],
             {
              "frame": {
               "duration": 0,
               "redraw": true
              },
              "fromcurrent": true,
              "mode": "immediate",
              "transition": {
               "duration": 0,
               "easing": "linear"
              }
             }
            ],
            "label": "2018",
            "method": "animate"
           },
           {
            "args": [
             [
              "2019"
             ],
             {
              "frame": {
               "duration": 0,
               "redraw": true
              },
              "fromcurrent": true,
              "mode": "immediate",
              "transition": {
               "duration": 0,
               "easing": "linear"
              }
             }
            ],
            "label": "2019",
            "method": "animate"
           },
           {
            "args": [
             [
              "2020"
             ],
             {
              "frame": {
               "duration": 0,
               "redraw": true
              },
              "fromcurrent": true,
              "mode": "immediate",
              "transition": {
               "duration": 0,
               "easing": "linear"
              }
             }
            ],
            "label": "2020",
            "method": "animate"
           },
           {
            "args": [
             [
              "2021"
             ],
             {
              "frame": {
               "duration": 0,
               "redraw": true
              },
              "fromcurrent": true,
              "mode": "immediate",
              "transition": {
               "duration": 0,
               "easing": "linear"
              }
             }
            ],
            "label": "2021",
            "method": "animate"
           }
          ],
          "x": 0.1,
          "xanchor": "left",
          "y": 0,
          "yanchor": "top"
         }
        ],
        "template": {
         "data": {
          "bar": [
           {
            "error_x": {
             "color": "#2a3f5f"
            },
            "error_y": {
             "color": "#2a3f5f"
            },
            "marker": {
             "line": {
              "color": "#E5ECF6",
              "width": 0.5
             }
            },
            "type": "bar"
           }
          ],
          "barpolar": [
           {
            "marker": {
             "line": {
              "color": "#E5ECF6",
              "width": 0.5
             }
            },
            "type": "barpolar"
           }
          ],
          "carpet": [
           {
            "aaxis": {
             "endlinecolor": "#2a3f5f",
             "gridcolor": "white",
             "linecolor": "white",
             "minorgridcolor": "white",
             "startlinecolor": "#2a3f5f"
            },
            "baxis": {
             "endlinecolor": "#2a3f5f",
             "gridcolor": "white",
             "linecolor": "white",
             "minorgridcolor": "white",
             "startlinecolor": "#2a3f5f"
            },
            "type": "carpet"
           }
          ],
          "choropleth": [
           {
            "colorbar": {
             "outlinewidth": 0,
             "ticks": ""
            },
            "type": "choropleth"
           }
          ],
          "contour": [
           {
            "colorbar": {
             "outlinewidth": 0,
             "ticks": ""
            },
            "colorscale": [
             [
              0,
              "#0d0887"
             ],
             [
              0.1111111111111111,
              "#46039f"
             ],
             [
              0.2222222222222222,
              "#7201a8"
             ],
             [
              0.3333333333333333,
              "#9c179e"
             ],
             [
              0.4444444444444444,
              "#bd3786"
             ],
             [
              0.5555555555555556,
              "#d8576b"
             ],
             [
              0.6666666666666666,
              "#ed7953"
             ],
             [
              0.7777777777777778,
              "#fb9f3a"
             ],
             [
              0.8888888888888888,
              "#fdca26"
             ],
             [
              1,
              "#f0f921"
             ]
            ],
            "type": "contour"
           }
          ],
          "contourcarpet": [
           {
            "colorbar": {
             "outlinewidth": 0,
             "ticks": ""
            },
            "type": "contourcarpet"
           }
          ],
          "heatmap": [
           {
            "colorbar": {
             "outlinewidth": 0,
             "ticks": ""
            },
            "colorscale": [
             [
              0,
              "#0d0887"
             ],
             [
              0.1111111111111111,
              "#46039f"
             ],
             [
              0.2222222222222222,
              "#7201a8"
             ],
             [
              0.3333333333333333,
              "#9c179e"
             ],
             [
              0.4444444444444444,
              "#bd3786"
             ],
             [
              0.5555555555555556,
              "#d8576b"
             ],
             [
              0.6666666666666666,
              "#ed7953"
             ],
             [
              0.7777777777777778,
              "#fb9f3a"
             ],
             [
              0.8888888888888888,
              "#fdca26"
             ],
             [
              1,
              "#f0f921"
             ]
            ],
            "type": "heatmap"
           }
          ],
          "heatmapgl": [
           {
            "colorbar": {
             "outlinewidth": 0,
             "ticks": ""
            },
            "colorscale": [
             [
              0,
              "#0d0887"
             ],
             [
              0.1111111111111111,
              "#46039f"
             ],
             [
              0.2222222222222222,
              "#7201a8"
             ],
             [
              0.3333333333333333,
              "#9c179e"
             ],
             [
              0.4444444444444444,
              "#bd3786"
             ],
             [
              0.5555555555555556,
              "#d8576b"
             ],
             [
              0.6666666666666666,
              "#ed7953"
             ],
             [
              0.7777777777777778,
              "#fb9f3a"
             ],
             [
              0.8888888888888888,
              "#fdca26"
             ],
             [
              1,
              "#f0f921"
             ]
            ],
            "type": "heatmapgl"
           }
          ],
          "histogram": [
           {
            "marker": {
             "colorbar": {
              "outlinewidth": 0,
              "ticks": ""
             }
            },
            "type": "histogram"
           }
          ],
          "histogram2d": [
           {
            "colorbar": {
             "outlinewidth": 0,
             "ticks": ""
            },
            "colorscale": [
             [
              0,
              "#0d0887"
             ],
             [
              0.1111111111111111,
              "#46039f"
             ],
             [
              0.2222222222222222,
              "#7201a8"
             ],
             [
              0.3333333333333333,
              "#9c179e"
             ],
             [
              0.4444444444444444,
              "#bd3786"
             ],
             [
              0.5555555555555556,
              "#d8576b"
             ],
             [
              0.6666666666666666,
              "#ed7953"
             ],
             [
              0.7777777777777778,
              "#fb9f3a"
             ],
             [
              0.8888888888888888,
              "#fdca26"
             ],
             [
              1,
              "#f0f921"
             ]
            ],
            "type": "histogram2d"
           }
          ],
          "histogram2dcontour": [
           {
            "colorbar": {
             "outlinewidth": 0,
             "ticks": ""
            },
            "colorscale": [
             [
              0,
              "#0d0887"
             ],
             [
              0.1111111111111111,
              "#46039f"
             ],
             [
              0.2222222222222222,
              "#7201a8"
             ],
             [
              0.3333333333333333,
              "#9c179e"
             ],
             [
              0.4444444444444444,
              "#bd3786"
             ],
             [
              0.5555555555555556,
              "#d8576b"
             ],
             [
              0.6666666666666666,
              "#ed7953"
             ],
             [
              0.7777777777777778,
              "#fb9f3a"
             ],
             [
              0.8888888888888888,
              "#fdca26"
             ],
             [
              1,
              "#f0f921"
             ]
            ],
            "type": "histogram2dcontour"
           }
          ],
          "mesh3d": [
           {
            "colorbar": {
             "outlinewidth": 0,
             "ticks": ""
            },
            "type": "mesh3d"
           }
          ],
          "parcoords": [
           {
            "line": {
             "colorbar": {
              "outlinewidth": 0,
              "ticks": ""
             }
            },
            "type": "parcoords"
           }
          ],
          "pie": [
           {
            "automargin": true,
            "type": "pie"
           }
          ],
          "scatter": [
           {
            "marker": {
             "colorbar": {
              "outlinewidth": 0,
              "ticks": ""
             }
            },
            "type": "scatter"
           }
          ],
          "scatter3d": [
           {
            "line": {
             "colorbar": {
              "outlinewidth": 0,
              "ticks": ""
             }
            },
            "marker": {
             "colorbar": {
              "outlinewidth": 0,
              "ticks": ""
             }
            },
            "type": "scatter3d"
           }
          ],
          "scattercarpet": [
           {
            "marker": {
             "colorbar": {
              "outlinewidth": 0,
              "ticks": ""
             }
            },
            "type": "scattercarpet"
           }
          ],
          "scattergeo": [
           {
            "marker": {
             "colorbar": {
              "outlinewidth": 0,
              "ticks": ""
             }
            },
            "type": "scattergeo"
           }
          ],
          "scattergl": [
           {
            "marker": {
             "colorbar": {
              "outlinewidth": 0,
              "ticks": ""
             }
            },
            "type": "scattergl"
           }
          ],
          "scattermapbox": [
           {
            "marker": {
             "colorbar": {
              "outlinewidth": 0,
              "ticks": ""
             }
            },
            "type": "scattermapbox"
           }
          ],
          "scatterpolar": [
           {
            "marker": {
             "colorbar": {
              "outlinewidth": 0,
              "ticks": ""
             }
            },
            "type": "scatterpolar"
           }
          ],
          "scatterpolargl": [
           {
            "marker": {
             "colorbar": {
              "outlinewidth": 0,
              "ticks": ""
             }
            },
            "type": "scatterpolargl"
           }
          ],
          "scatterternary": [
           {
            "marker": {
             "colorbar": {
              "outlinewidth": 0,
              "ticks": ""
             }
            },
            "type": "scatterternary"
           }
          ],
          "surface": [
           {
            "colorbar": {
             "outlinewidth": 0,
             "ticks": ""
            },
            "colorscale": [
             [
              0,
              "#0d0887"
             ],
             [
              0.1111111111111111,
              "#46039f"
             ],
             [
              0.2222222222222222,
              "#7201a8"
             ],
             [
              0.3333333333333333,
              "#9c179e"
             ],
             [
              0.4444444444444444,
              "#bd3786"
             ],
             [
              0.5555555555555556,
              "#d8576b"
             ],
             [
              0.6666666666666666,
              "#ed7953"
             ],
             [
              0.7777777777777778,
              "#fb9f3a"
             ],
             [
              0.8888888888888888,
              "#fdca26"
             ],
             [
              1,
              "#f0f921"
             ]
            ],
            "type": "surface"
           }
          ],
          "table": [
           {
            "cells": {
             "fill": {
              "color": "#EBF0F8"
             },
             "line": {
              "color": "white"
             }
            },
            "header": {
             "fill": {
              "color": "#C8D4E3"
             },
             "line": {
              "color": "white"
             }
            },
            "type": "table"
           }
          ]
         },
         "layout": {
          "annotationdefaults": {
           "arrowcolor": "#2a3f5f",
           "arrowhead": 0,
           "arrowwidth": 1
          },
          "autotypenumbers": "strict",
          "coloraxis": {
           "colorbar": {
            "outlinewidth": 0,
            "ticks": ""
           }
          },
          "colorscale": {
           "diverging": [
            [
             0,
             "#8e0152"
            ],
            [
             0.1,
             "#c51b7d"
            ],
            [
             0.2,
             "#de77ae"
            ],
            [
             0.3,
             "#f1b6da"
            ],
            [
             0.4,
             "#fde0ef"
            ],
            [
             0.5,
             "#f7f7f7"
            ],
            [
             0.6,
             "#e6f5d0"
            ],
            [
             0.7,
             "#b8e186"
            ],
            [
             0.8,
             "#7fbc41"
            ],
            [
             0.9,
             "#4d9221"
            ],
            [
             1,
             "#276419"
            ]
           ],
           "sequential": [
            [
             0,
             "#0d0887"
            ],
            [
             0.1111111111111111,
             "#46039f"
            ],
            [
             0.2222222222222222,
             "#7201a8"
            ],
            [
             0.3333333333333333,
             "#9c179e"
            ],
            [
             0.4444444444444444,
             "#bd3786"
            ],
            [
             0.5555555555555556,
             "#d8576b"
            ],
            [
             0.6666666666666666,
             "#ed7953"
            ],
            [
             0.7777777777777778,
             "#fb9f3a"
            ],
            [
             0.8888888888888888,
             "#fdca26"
            ],
            [
             1,
             "#f0f921"
            ]
           ],
           "sequentialminus": [
            [
             0,
             "#0d0887"
            ],
            [
             0.1111111111111111,
             "#46039f"
            ],
            [
             0.2222222222222222,
             "#7201a8"
            ],
            [
             0.3333333333333333,
             "#9c179e"
            ],
            [
             0.4444444444444444,
             "#bd3786"
            ],
            [
             0.5555555555555556,
             "#d8576b"
            ],
            [
             0.6666666666666666,
             "#ed7953"
            ],
            [
             0.7777777777777778,
             "#fb9f3a"
            ],
            [
             0.8888888888888888,
             "#fdca26"
            ],
            [
             1,
             "#f0f921"
            ]
           ]
          },
          "colorway": [
           "#636efa",
           "#EF553B",
           "#00cc96",
           "#ab63fa",
           "#FFA15A",
           "#19d3f3",
           "#FF6692",
           "#B6E880",
           "#FF97FF",
           "#FECB52"
          ],
          "font": {
           "color": "#2a3f5f"
          },
          "geo": {
           "bgcolor": "white",
           "lakecolor": "white",
           "landcolor": "#E5ECF6",
           "showlakes": true,
           "showland": true,
           "subunitcolor": "white"
          },
          "hoverlabel": {
           "align": "left"
          },
          "hovermode": "closest",
          "mapbox": {
           "style": "light"
          },
          "paper_bgcolor": "white",
          "plot_bgcolor": "#E5ECF6",
          "polar": {
           "angularaxis": {
            "gridcolor": "white",
            "linecolor": "white",
            "ticks": ""
           },
           "bgcolor": "#E5ECF6",
           "radialaxis": {
            "gridcolor": "white",
            "linecolor": "white",
            "ticks": ""
           }
          },
          "scene": {
           "xaxis": {
            "backgroundcolor": "#E5ECF6",
            "gridcolor": "white",
            "gridwidth": 2,
            "linecolor": "white",
            "showbackground": true,
            "ticks": "",
            "zerolinecolor": "white"
           },
           "yaxis": {
            "backgroundcolor": "#E5ECF6",
            "gridcolor": "white",
            "gridwidth": 2,
            "linecolor": "white",
            "showbackground": true,
            "ticks": "",
            "zerolinecolor": "white"
           },
           "zaxis": {
            "backgroundcolor": "#E5ECF6",
            "gridcolor": "white",
            "gridwidth": 2,
            "linecolor": "white",
            "showbackground": true,
            "ticks": "",
            "zerolinecolor": "white"
           }
          },
          "shapedefaults": {
           "line": {
            "color": "#2a3f5f"
           }
          },
          "ternary": {
           "aaxis": {
            "gridcolor": "white",
            "linecolor": "white",
            "ticks": ""
           },
           "baxis": {
            "gridcolor": "white",
            "linecolor": "white",
            "ticks": ""
           },
           "bgcolor": "#E5ECF6",
           "caxis": {
            "gridcolor": "white",
            "linecolor": "white",
            "ticks": ""
           }
          },
          "title": {
           "x": 0.05
          },
          "xaxis": {
           "automargin": true,
           "gridcolor": "white",
           "linecolor": "white",
           "ticks": "",
           "title": {
            "standoff": 15
           },
           "zerolinecolor": "white",
           "zerolinewidth": 2
          },
          "yaxis": {
           "automargin": true,
           "gridcolor": "white",
           "linecolor": "white",
           "ticks": "",
           "title": {
            "standoff": 15
           },
           "zerolinecolor": "white",
           "zerolinewidth": 2
          }
         }
        },
        "updatemenus": [
         {
          "buttons": [
           {
            "args": [
             null,
             {
              "frame": {
               "duration": 500,
               "redraw": true
              },
              "fromcurrent": true,
              "mode": "immediate",
              "transition": {
               "duration": 500,
               "easing": "linear"
              }
             }
            ],
            "label": "&#9654;",
            "method": "animate"
           },
           {
            "args": [
             [
              null
             ],
             {
              "frame": {
               "duration": 0,
               "redraw": true
              },
              "fromcurrent": true,
              "mode": "immediate",
              "transition": {
               "duration": 0,
               "easing": "linear"
              }
             }
            ],
            "label": "&#9724;",
            "method": "animate"
           }
          ],
          "direction": "left",
          "pad": {
           "r": 10,
           "t": 70
          },
          "showactive": false,
          "type": "buttons",
          "x": 0.1,
          "xanchor": "right",
          "y": 0,
          "yanchor": "top"
         }
        ]
       }
      },
      "text/html": [
       "<div>                            <div id=\"bff1b93c-822e-42c5-b385-5b8fd9e82026\" class=\"plotly-graph-div\" style=\"height:600px; width:100%;\"></div>            <script type=\"text/javascript\">                require([\"plotly\"], function(Plotly) {                    window.PLOTLYENV=window.PLOTLYENV || {};                                    if (document.getElementById(\"bff1b93c-822e-42c5-b385-5b8fd9e82026\")) {                    Plotly.newPlot(                        \"bff1b93c-822e-42c5-b385-5b8fd9e82026\",                        [{\"coloraxis\": \"coloraxis\", \"customdata\": [[\"Australia\", 1, 2008], [\"Japan\", 1, 2008], [\"United Kingdom\", 1, 2008], [\"nan\", 1, 2008]], \"geo\": \"geo\", \"hovertemplate\": \"<b>%{hovertext}</b><br><br>number_of_titles=%{z}<extra></extra>\", \"hovertext\": [\"Australia\", \"Japan\", \"United Kingdom\", \"nan\"], \"locationmode\": \"country names\", \"locations\": [\"Australia\", \"Japan\", \"United Kingdom\", \"nan\"], \"name\": \"\", \"type\": \"choropleth\", \"z\": [1, 1, 1, 1]}],                        {\"coloraxis\": {\"colorbar\": {\"title\": {\"text\": \"number_of_titles\"}}, \"colorscale\": [[0.0, \"rgb(255,245,240)\"], [0.125, \"rgb(254,224,210)\"], [0.25, \"rgb(252,187,161)\"], [0.375, \"rgb(252,146,114)\"], [0.5, \"rgb(251,106,74)\"], [0.625, \"rgb(239,59,44)\"], [0.75, \"rgb(203,24,29)\"], [0.875, \"rgb(165,15,21)\"], [1.0, \"rgb(103,0,13)\"]]}, \"geo\": {\"center\": {}, \"domain\": {\"x\": [0.0, 1.0], \"y\": [0.0, 1.0]}}, \"height\": 600, \"legend\": {\"tracegroupgap\": 0}, \"margin\": {\"t\": 60}, \"sliders\": [{\"active\": 0, \"currentvalue\": {\"prefix\": \"added_year=\"}, \"len\": 0.9, \"pad\": {\"b\": 10, \"t\": 60}, \"steps\": [{\"args\": [[\"2008\"], {\"frame\": {\"duration\": 0, \"redraw\": true}, \"fromcurrent\": true, \"mode\": \"immediate\", \"transition\": {\"duration\": 0, \"easing\": \"linear\"}}], \"label\": \"2008\", \"method\": \"animate\"}, {\"args\": [[\"2009\"], {\"frame\": {\"duration\": 0, \"redraw\": true}, \"fromcurrent\": true, \"mode\": \"immediate\", \"transition\": {\"duration\": 0, \"easing\": \"linear\"}}], \"label\": \"2009\", \"method\": \"animate\"}, {\"args\": [[\"2010\"], {\"frame\": {\"duration\": 0, \"redraw\": true}, \"fromcurrent\": true, \"mode\": \"immediate\", \"transition\": {\"duration\": 0, \"easing\": \"linear\"}}], \"label\": \"2010\", \"method\": \"animate\"}, {\"args\": [[\"2011\"], {\"frame\": {\"duration\": 0, \"redraw\": true}, \"fromcurrent\": true, \"mode\": \"immediate\", \"transition\": {\"duration\": 0, \"easing\": \"linear\"}}], \"label\": \"2011\", \"method\": \"animate\"}, {\"args\": [[\"2012\"], {\"frame\": {\"duration\": 0, \"redraw\": true}, \"fromcurrent\": true, \"mode\": \"immediate\", \"transition\": {\"duration\": 0, \"easing\": \"linear\"}}], \"label\": \"2012\", \"method\": \"animate\"}, {\"args\": [[\"2013\"], {\"frame\": {\"duration\": 0, \"redraw\": true}, \"fromcurrent\": true, \"mode\": \"immediate\", \"transition\": {\"duration\": 0, \"easing\": \"linear\"}}], \"label\": \"2013\", \"method\": \"animate\"}, {\"args\": [[\"2014\"], {\"frame\": {\"duration\": 0, \"redraw\": true}, \"fromcurrent\": true, \"mode\": \"immediate\", \"transition\": {\"duration\": 0, \"easing\": \"linear\"}}], \"label\": \"2014\", \"method\": \"animate\"}, {\"args\": [[\"2015\"], {\"frame\": {\"duration\": 0, \"redraw\": true}, \"fromcurrent\": true, \"mode\": \"immediate\", \"transition\": {\"duration\": 0, \"easing\": \"linear\"}}], \"label\": \"2015\", \"method\": \"animate\"}, {\"args\": [[\"2016\"], {\"frame\": {\"duration\": 0, \"redraw\": true}, \"fromcurrent\": true, \"mode\": \"immediate\", \"transition\": {\"duration\": 0, \"easing\": \"linear\"}}], \"label\": \"2016\", \"method\": \"animate\"}, {\"args\": [[\"2017\"], {\"frame\": {\"duration\": 0, \"redraw\": true}, \"fromcurrent\": true, \"mode\": \"immediate\", \"transition\": {\"duration\": 0, \"easing\": \"linear\"}}], \"label\": \"2017\", \"method\": \"animate\"}, {\"args\": [[\"2018\"], {\"frame\": {\"duration\": 0, \"redraw\": true}, \"fromcurrent\": true, \"mode\": \"immediate\", \"transition\": {\"duration\": 0, \"easing\": \"linear\"}}], \"label\": \"2018\", \"method\": \"animate\"}, {\"args\": [[\"2019\"], {\"frame\": {\"duration\": 0, \"redraw\": true}, \"fromcurrent\": true, \"mode\": \"immediate\", \"transition\": {\"duration\": 0, \"easing\": \"linear\"}}], \"label\": \"2019\", \"method\": \"animate\"}, {\"args\": [[\"2020\"], {\"frame\": {\"duration\": 0, \"redraw\": true}, \"fromcurrent\": true, \"mode\": \"immediate\", \"transition\": {\"duration\": 0, \"easing\": \"linear\"}}], \"label\": \"2020\", \"method\": \"animate\"}, {\"args\": [[\"2021\"], {\"frame\": {\"duration\": 0, \"redraw\": true}, \"fromcurrent\": true, \"mode\": \"immediate\", \"transition\": {\"duration\": 0, \"easing\": \"linear\"}}], \"label\": \"2021\", \"method\": \"animate\"}], \"x\": 0.1, \"xanchor\": \"left\", \"y\": 0, \"yanchor\": \"top\"}], \"template\": {\"data\": {\"bar\": [{\"error_x\": {\"color\": \"#2a3f5f\"}, \"error_y\": {\"color\": \"#2a3f5f\"}, \"marker\": {\"line\": {\"color\": \"#E5ECF6\", \"width\": 0.5}}, \"type\": \"bar\"}], \"barpolar\": [{\"marker\": {\"line\": {\"color\": \"#E5ECF6\", \"width\": 0.5}}, \"type\": \"barpolar\"}], \"carpet\": [{\"aaxis\": {\"endlinecolor\": \"#2a3f5f\", \"gridcolor\": \"white\", \"linecolor\": \"white\", \"minorgridcolor\": \"white\", \"startlinecolor\": \"#2a3f5f\"}, \"baxis\": {\"endlinecolor\": \"#2a3f5f\", \"gridcolor\": \"white\", \"linecolor\": \"white\", \"minorgridcolor\": \"white\", \"startlinecolor\": \"#2a3f5f\"}, \"type\": \"carpet\"}], \"choropleth\": [{\"colorbar\": {\"outlinewidth\": 0, \"ticks\": \"\"}, \"type\": \"choropleth\"}], \"contour\": [{\"colorbar\": {\"outlinewidth\": 0, \"ticks\": \"\"}, \"colorscale\": [[0.0, \"#0d0887\"], [0.1111111111111111, \"#46039f\"], [0.2222222222222222, \"#7201a8\"], [0.3333333333333333, \"#9c179e\"], [0.4444444444444444, \"#bd3786\"], [0.5555555555555556, \"#d8576b\"], [0.6666666666666666, \"#ed7953\"], [0.7777777777777778, \"#fb9f3a\"], [0.8888888888888888, \"#fdca26\"], [1.0, \"#f0f921\"]], \"type\": \"contour\"}], \"contourcarpet\": [{\"colorbar\": {\"outlinewidth\": 0, \"ticks\": \"\"}, \"type\": \"contourcarpet\"}], \"heatmap\": [{\"colorbar\": {\"outlinewidth\": 0, \"ticks\": \"\"}, \"colorscale\": [[0.0, \"#0d0887\"], [0.1111111111111111, \"#46039f\"], [0.2222222222222222, \"#7201a8\"], [0.3333333333333333, \"#9c179e\"], [0.4444444444444444, \"#bd3786\"], [0.5555555555555556, \"#d8576b\"], [0.6666666666666666, \"#ed7953\"], [0.7777777777777778, \"#fb9f3a\"], [0.8888888888888888, \"#fdca26\"], [1.0, \"#f0f921\"]], \"type\": \"heatmap\"}], \"heatmapgl\": [{\"colorbar\": {\"outlinewidth\": 0, \"ticks\": \"\"}, \"colorscale\": [[0.0, \"#0d0887\"], [0.1111111111111111, \"#46039f\"], [0.2222222222222222, \"#7201a8\"], [0.3333333333333333, \"#9c179e\"], [0.4444444444444444, \"#bd3786\"], [0.5555555555555556, \"#d8576b\"], [0.6666666666666666, \"#ed7953\"], [0.7777777777777778, \"#fb9f3a\"], [0.8888888888888888, \"#fdca26\"], [1.0, \"#f0f921\"]], \"type\": \"heatmapgl\"}], \"histogram\": [{\"marker\": {\"colorbar\": {\"outlinewidth\": 0, \"ticks\": \"\"}}, \"type\": \"histogram\"}], \"histogram2d\": [{\"colorbar\": {\"outlinewidth\": 0, \"ticks\": \"\"}, \"colorscale\": [[0.0, \"#0d0887\"], [0.1111111111111111, \"#46039f\"], [0.2222222222222222, \"#7201a8\"], [0.3333333333333333, \"#9c179e\"], [0.4444444444444444, \"#bd3786\"], [0.5555555555555556, \"#d8576b\"], [0.6666666666666666, \"#ed7953\"], [0.7777777777777778, \"#fb9f3a\"], [0.8888888888888888, \"#fdca26\"], [1.0, \"#f0f921\"]], \"type\": \"histogram2d\"}], \"histogram2dcontour\": [{\"colorbar\": {\"outlinewidth\": 0, \"ticks\": \"\"}, \"colorscale\": [[0.0, \"#0d0887\"], [0.1111111111111111, \"#46039f\"], [0.2222222222222222, \"#7201a8\"], [0.3333333333333333, \"#9c179e\"], [0.4444444444444444, \"#bd3786\"], [0.5555555555555556, \"#d8576b\"], [0.6666666666666666, \"#ed7953\"], [0.7777777777777778, \"#fb9f3a\"], [0.8888888888888888, \"#fdca26\"], [1.0, \"#f0f921\"]], \"type\": \"histogram2dcontour\"}], \"mesh3d\": [{\"colorbar\": {\"outlinewidth\": 0, \"ticks\": \"\"}, \"type\": \"mesh3d\"}], \"parcoords\": [{\"line\": {\"colorbar\": {\"outlinewidth\": 0, \"ticks\": \"\"}}, \"type\": \"parcoords\"}], \"pie\": [{\"automargin\": true, \"type\": \"pie\"}], \"scatter\": [{\"marker\": {\"colorbar\": {\"outlinewidth\": 0, \"ticks\": \"\"}}, \"type\": \"scatter\"}], \"scatter3d\": [{\"line\": {\"colorbar\": {\"outlinewidth\": 0, \"ticks\": \"\"}}, \"marker\": {\"colorbar\": {\"outlinewidth\": 0, \"ticks\": \"\"}}, \"type\": \"scatter3d\"}], \"scattercarpet\": [{\"marker\": {\"colorbar\": {\"outlinewidth\": 0, \"ticks\": \"\"}}, \"type\": \"scattercarpet\"}], \"scattergeo\": [{\"marker\": {\"colorbar\": {\"outlinewidth\": 0, \"ticks\": \"\"}}, \"type\": \"scattergeo\"}], \"scattergl\": [{\"marker\": {\"colorbar\": {\"outlinewidth\": 0, \"ticks\": \"\"}}, \"type\": \"scattergl\"}], \"scattermapbox\": [{\"marker\": {\"colorbar\": {\"outlinewidth\": 0, \"ticks\": \"\"}}, \"type\": \"scattermapbox\"}], \"scatterpolar\": [{\"marker\": {\"colorbar\": {\"outlinewidth\": 0, \"ticks\": \"\"}}, \"type\": \"scatterpolar\"}], \"scatterpolargl\": [{\"marker\": {\"colorbar\": {\"outlinewidth\": 0, \"ticks\": \"\"}}, \"type\": \"scatterpolargl\"}], \"scatterternary\": [{\"marker\": {\"colorbar\": {\"outlinewidth\": 0, \"ticks\": \"\"}}, \"type\": \"scatterternary\"}], \"surface\": [{\"colorbar\": {\"outlinewidth\": 0, \"ticks\": \"\"}, \"colorscale\": [[0.0, \"#0d0887\"], [0.1111111111111111, \"#46039f\"], [0.2222222222222222, \"#7201a8\"], [0.3333333333333333, \"#9c179e\"], [0.4444444444444444, \"#bd3786\"], [0.5555555555555556, \"#d8576b\"], [0.6666666666666666, \"#ed7953\"], [0.7777777777777778, \"#fb9f3a\"], [0.8888888888888888, \"#fdca26\"], [1.0, \"#f0f921\"]], \"type\": \"surface\"}], \"table\": [{\"cells\": {\"fill\": {\"color\": \"#EBF0F8\"}, \"line\": {\"color\": \"white\"}}, \"header\": {\"fill\": {\"color\": \"#C8D4E3\"}, \"line\": {\"color\": \"white\"}}, \"type\": \"table\"}]}, \"layout\": {\"annotationdefaults\": {\"arrowcolor\": \"#2a3f5f\", \"arrowhead\": 0, \"arrowwidth\": 1}, \"autotypenumbers\": \"strict\", \"coloraxis\": {\"colorbar\": {\"outlinewidth\": 0, \"ticks\": \"\"}}, \"colorscale\": {\"diverging\": [[0, \"#8e0152\"], [0.1, \"#c51b7d\"], [0.2, \"#de77ae\"], [0.3, \"#f1b6da\"], [0.4, \"#fde0ef\"], [0.5, \"#f7f7f7\"], [0.6, \"#e6f5d0\"], [0.7, \"#b8e186\"], [0.8, \"#7fbc41\"], [0.9, \"#4d9221\"], [1, \"#276419\"]], \"sequential\": [[0.0, \"#0d0887\"], [0.1111111111111111, \"#46039f\"], [0.2222222222222222, \"#7201a8\"], [0.3333333333333333, \"#9c179e\"], [0.4444444444444444, \"#bd3786\"], [0.5555555555555556, \"#d8576b\"], [0.6666666666666666, \"#ed7953\"], [0.7777777777777778, \"#fb9f3a\"], [0.8888888888888888, \"#fdca26\"], [1.0, \"#f0f921\"]], \"sequentialminus\": [[0.0, \"#0d0887\"], [0.1111111111111111, \"#46039f\"], [0.2222222222222222, \"#7201a8\"], [0.3333333333333333, \"#9c179e\"], [0.4444444444444444, \"#bd3786\"], [0.5555555555555556, \"#d8576b\"], [0.6666666666666666, \"#ed7953\"], [0.7777777777777778, \"#fb9f3a\"], [0.8888888888888888, \"#fdca26\"], [1.0, \"#f0f921\"]]}, \"colorway\": [\"#636efa\", \"#EF553B\", \"#00cc96\", \"#ab63fa\", \"#FFA15A\", \"#19d3f3\", \"#FF6692\", \"#B6E880\", \"#FF97FF\", \"#FECB52\"], \"font\": {\"color\": \"#2a3f5f\"}, \"geo\": {\"bgcolor\": \"white\", \"lakecolor\": \"white\", \"landcolor\": \"#E5ECF6\", \"showlakes\": true, \"showland\": true, \"subunitcolor\": \"white\"}, \"hoverlabel\": {\"align\": \"left\"}, \"hovermode\": \"closest\", \"mapbox\": {\"style\": \"light\"}, \"paper_bgcolor\": \"white\", \"plot_bgcolor\": \"#E5ECF6\", \"polar\": {\"angularaxis\": {\"gridcolor\": \"white\", \"linecolor\": \"white\", \"ticks\": \"\"}, \"bgcolor\": \"#E5ECF6\", \"radialaxis\": {\"gridcolor\": \"white\", \"linecolor\": \"white\", \"ticks\": \"\"}}, \"scene\": {\"xaxis\": {\"backgroundcolor\": \"#E5ECF6\", \"gridcolor\": \"white\", \"gridwidth\": 2, \"linecolor\": \"white\", \"showbackground\": true, \"ticks\": \"\", \"zerolinecolor\": \"white\"}, \"yaxis\": {\"backgroundcolor\": \"#E5ECF6\", \"gridcolor\": \"white\", \"gridwidth\": 2, \"linecolor\": \"white\", \"showbackground\": true, \"ticks\": \"\", \"zerolinecolor\": \"white\"}, \"zaxis\": {\"backgroundcolor\": \"#E5ECF6\", \"gridcolor\": \"white\", \"gridwidth\": 2, \"linecolor\": \"white\", \"showbackground\": true, \"ticks\": \"\", \"zerolinecolor\": \"white\"}}, \"shapedefaults\": {\"line\": {\"color\": \"#2a3f5f\"}}, \"ternary\": {\"aaxis\": {\"gridcolor\": \"white\", \"linecolor\": \"white\", \"ticks\": \"\"}, \"baxis\": {\"gridcolor\": \"white\", \"linecolor\": \"white\", \"ticks\": \"\"}, \"bgcolor\": \"#E5ECF6\", \"caxis\": {\"gridcolor\": \"white\", \"linecolor\": \"white\", \"ticks\": \"\"}}, \"title\": {\"x\": 0.05}, \"xaxis\": {\"automargin\": true, \"gridcolor\": \"white\", \"linecolor\": \"white\", \"ticks\": \"\", \"title\": {\"standoff\": 15}, \"zerolinecolor\": \"white\", \"zerolinewidth\": 2}, \"yaxis\": {\"automargin\": true, \"gridcolor\": \"white\", \"linecolor\": \"white\", \"ticks\": \"\", \"title\": {\"standoff\": 15}, \"zerolinecolor\": \"white\", \"zerolinewidth\": 2}}}, \"updatemenus\": [{\"buttons\": [{\"args\": [null, {\"frame\": {\"duration\": 500, \"redraw\": true}, \"fromcurrent\": true, \"mode\": \"immediate\", \"transition\": {\"duration\": 500, \"easing\": \"linear\"}}], \"label\": \"&#9654;\", \"method\": \"animate\"}, {\"args\": [[null], {\"frame\": {\"duration\": 0, \"redraw\": true}, \"fromcurrent\": true, \"mode\": \"immediate\", \"transition\": {\"duration\": 0, \"easing\": \"linear\"}}], \"label\": \"&#9724;\", \"method\": \"animate\"}], \"direction\": \"left\", \"pad\": {\"r\": 10, \"t\": 70}, \"showactive\": false, \"type\": \"buttons\", \"x\": 0.1, \"xanchor\": \"right\", \"y\": 0, \"yanchor\": \"top\"}]},                        {\"responsive\": true}                    ).then(function(){\n",
       "                            Plotly.addFrames('bff1b93c-822e-42c5-b385-5b8fd9e82026', [{\"data\": [{\"coloraxis\": \"coloraxis\", \"customdata\": [[\"Australia\", 1, 2008], [\"Japan\", 1, 2008], [\"United Kingdom\", 1, 2008], [\"nan\", 1, 2008]], \"geo\": \"geo\", \"hovertemplate\": \"<b>%{hovertext}</b><br><br>number_of_titles=%{z}<extra></extra>\", \"hovertext\": [\"Australia\", \"Japan\", \"United Kingdom\", \"nan\"], \"locationmode\": \"country names\", \"locations\": [\"Australia\", \"Japan\", \"United Kingdom\", \"nan\"], \"name\": \"\", \"z\": [1, 1, 1, 1], \"type\": \"choropleth\"}], \"name\": \"2008\"}, {\"data\": [{\"coloraxis\": \"coloraxis\", \"customdata\": [[\"Australia\", 1, 2009], [\"Japan\", 1, 2009], [\"United Kingdom\", 1, 2009], [\"nan\", 1, 2009]], \"geo\": \"geo\", \"hovertemplate\": \"<b>%{hovertext}</b><br><br>number_of_titles=%{z}<extra></extra>\", \"hovertext\": [\"Australia\", \"Japan\", \"United Kingdom\", \"nan\"], \"locationmode\": \"country names\", \"locations\": [\"Australia\", \"Japan\", \"United Kingdom\", \"nan\"], \"name\": \"\", \"z\": [1, 1, 1, 1], \"type\": \"choropleth\"}], \"name\": \"2009\"}, {\"data\": [{\"coloraxis\": \"coloraxis\", \"customdata\": [[\"Australia\", 1, 2010], [\"Denmark\", 1, 2010], [\"Japan\", 1, 2010], [\"United Kingdom\", 1, 2010], [\"nan\", 1, 2010]], \"geo\": \"geo\", \"hovertemplate\": \"<b>%{hovertext}</b><br><br>number_of_titles=%{z}<extra></extra>\", \"hovertext\": [\"Australia\", \"Denmark\", \"Japan\", \"United Kingdom\", \"nan\"], \"locationmode\": \"country names\", \"locations\": [\"Australia\", \"Denmark\", \"Japan\", \"United Kingdom\", \"nan\"], \"name\": \"\", \"z\": [1, 1, 1, 1, 1], \"type\": \"choropleth\"}], \"name\": \"2010\"}, {\"data\": [{\"coloraxis\": \"coloraxis\", \"customdata\": [[\"Australia\", 1, 2011], [\"Denmark\", 1, 2011], [\"Japan\", 1, 2011], [\"United Kingdom\", 1, 2011], [\"nan\", 1, 2011]], \"geo\": \"geo\", \"hovertemplate\": \"<b>%{hovertext}</b><br><br>number_of_titles=%{z}<extra></extra>\", \"hovertext\": [\"Australia\", \"Denmark\", \"Japan\", \"United Kingdom\", \"nan\"], \"locationmode\": \"country names\", \"locations\": [\"Australia\", \"Denmark\", \"Japan\", \"United Kingdom\", \"nan\"], \"name\": \"\", \"z\": [1, 1, 1, 1, 1], \"type\": \"choropleth\"}], \"name\": \"2011\"}, {\"data\": [{\"coloraxis\": \"coloraxis\", \"customdata\": [[\"Australia\", 1, 2012], [\"Denmark\", 1, 2012], [\"France\", 1, 2012], [\"Japan\", 1, 2012], [\"Mexico\", 1, 2012], [\"Spain\", 1, 2012], [\"United Kingdom\", 1, 2012], [\"nan\", 1, 2012]], \"geo\": \"geo\", \"hovertemplate\": \"<b>%{hovertext}</b><br><br>number_of_titles=%{z}<extra></extra>\", \"hovertext\": [\"Australia\", \"Denmark\", \"France\", \"Japan\", \"Mexico\", \"Spain\", \"United Kingdom\", \"nan\"], \"locationmode\": \"country names\", \"locations\": [\"Australia\", \"Denmark\", \"France\", \"Japan\", \"Mexico\", \"Spain\", \"United Kingdom\", \"nan\"], \"name\": \"\", \"z\": [1, 1, 1, 1, 1, 1, 1, 1], \"type\": \"choropleth\"}], \"name\": \"2012\"}, {\"data\": [{\"coloraxis\": \"coloraxis\", \"customdata\": [[\"Australia\", 1, 2013], [\"Denmark\", 1, 2013], [\"France\", 1, 2013], [\"Japan\", 1, 2013], [\"Mexico\", 2, 2013], [\"Spain\", 1, 2013], [\"United Kingdom\", 1, 2013], [\"nan\", 1, 2013]], \"geo\": \"geo\", \"hovertemplate\": \"<b>%{hovertext}</b><br><br>number_of_titles=%{z}<extra></extra>\", \"hovertext\": [\"Australia\", \"Denmark\", \"France\", \"Japan\", \"Mexico\", \"Spain\", \"United Kingdom\", \"nan\"], \"locationmode\": \"country names\", \"locations\": [\"Australia\", \"Denmark\", \"France\", \"Japan\", \"Mexico\", \"Spain\", \"United Kingdom\", \"nan\"], \"name\": \"\", \"z\": [1, 1, 1, 1, 2, 1, 1, 1], \"type\": \"choropleth\"}], \"name\": \"2013\"}, {\"data\": [{\"coloraxis\": \"coloraxis\", \"customdata\": [[\"Australia\", 1, 2014], [\"Canada\", 1, 2014], [\"Denmark\", 1, 2014], [\"France\", 1, 2014], [\"Ireland\", 1, 2014], [\"Japan\", 1, 2014], [\"Mexico\", 2, 2014], [\"Spain\", 1, 2014], [\"United Kingdom\", 2, 2014], [\"nan\", 1, 2014]], \"geo\": \"geo\", \"hovertemplate\": \"<b>%{hovertext}</b><br><br>number_of_titles=%{z}<extra></extra>\", \"hovertext\": [\"Australia\", \"Canada\", \"Denmark\", \"France\", \"Ireland\", \"Japan\", \"Mexico\", \"Spain\", \"United Kingdom\", \"nan\"], \"locationmode\": \"country names\", \"locations\": [\"Australia\", \"Canada\", \"Denmark\", \"France\", \"Ireland\", \"Japan\", \"Mexico\", \"Spain\", \"United Kingdom\", \"nan\"], \"name\": \"\", \"z\": [1, 1, 1, 1, 1, 1, 2, 1, 2, 1], \"type\": \"choropleth\"}], \"name\": \"2014\"}, {\"data\": [{\"coloraxis\": \"coloraxis\", \"customdata\": [[\"\", 1, 2015], [\"Australia\", 1, 2015], [\"Bermuda\", 1, 2015], [\"Canada\", 5, 2015], [\"Denmark\", 1, 2015], [\"Ecuador\", 1, 2015], [\"Egypt\", 1, 2015], [\"France\", 1, 2015], [\"Hungary\", 1, 2015], [\"Ireland\", 2, 2015], [\"Japan\", 1, 2015], [\"Mexico\", 2, 2015], [\"Norway\", 1, 2015], [\"Spain\", 1, 2015], [\"United Kingdom\", 5, 2015], [\"nan\", 1, 2015]], \"geo\": \"geo\", \"hovertemplate\": \"<b>%{hovertext}</b><br><br>number_of_titles=%{z}<extra></extra>\", \"hovertext\": [\"\", \"Australia\", \"Bermuda\", \"Canada\", \"Denmark\", \"Ecuador\", \"Egypt\", \"France\", \"Hungary\", \"Ireland\", \"Japan\", \"Mexico\", \"Norway\", \"Spain\", \"United Kingdom\", \"nan\"], \"locationmode\": \"country names\", \"locations\": [\"\", \"Australia\", \"Bermuda\", \"Canada\", \"Denmark\", \"Ecuador\", \"Egypt\", \"France\", \"Hungary\", \"Ireland\", \"Japan\", \"Mexico\", \"Norway\", \"Spain\", \"United Kingdom\", \"nan\"], \"name\": \"\", \"z\": [1, 1, 1, 5, 1, 1, 1, 1, 1, 2, 1, 2, 1, 1, 5, 1], \"type\": \"choropleth\"}], \"name\": \"2015\"}, {\"data\": [{\"coloraxis\": \"coloraxis\", \"customdata\": [[\"\", 1, 2016], [\"Australia\", 6, 2016], [\"Belgium\", 3, 2016], [\"Bermuda\", 1, 2016], [\"Canada\", 13, 2016], [\"China\", 1, 2016], [\"Denmark\", 1, 2016], [\"Ecuador\", 1, 2016], [\"Egypt\", 1, 2016], [\"France\", 10, 2016], [\"Germany\", 2, 2016], [\"Hungary\", 1, 2016], [\"Ireland\", 4, 2016], [\"Italy\", 3, 2016], [\"Japan\", 2, 2016], [\"Mexico\", 3, 2016], [\"New Zealand\", 2, 2016], [\"Nigeria\", 1, 2016], [\"Norway\", 2, 2016], [\"Spain\", 1, 2016], [\"Ukraine\", 1, 2016], [\"United Kingdom\", 13, 2016], [\"nan\", 6, 2016]], \"geo\": \"geo\", \"hovertemplate\": \"<b>%{hovertext}</b><br><br>number_of_titles=%{z}<extra></extra>\", \"hovertext\": [\"\", \"Australia\", \"Belgium\", \"Bermuda\", \"Canada\", \"China\", \"Denmark\", \"Ecuador\", \"Egypt\", \"France\", \"Germany\", \"Hungary\", \"Ireland\", \"Italy\", \"Japan\", \"Mexico\", \"New Zealand\", \"Nigeria\", \"Norway\", \"Spain\", \"Ukraine\", \"United Kingdom\", \"nan\"], \"locationmode\": \"country names\", \"locations\": [\"\", \"Australia\", \"Belgium\", \"Bermuda\", \"Canada\", \"China\", \"Denmark\", \"Ecuador\", \"Egypt\", \"France\", \"Germany\", \"Hungary\", \"Ireland\", \"Italy\", \"Japan\", \"Mexico\", \"New Zealand\", \"Nigeria\", \"Norway\", \"Spain\", \"Ukraine\", \"United Kingdom\", \"nan\"], \"name\": \"\", \"z\": [1, 6, 3, 1, 13, 1, 1, 1, 1, 10, 2, 1, 4, 3, 2, 3, 2, 1, 2, 1, 1, 13, 6], \"type\": \"choropleth\"}], \"name\": \"2016\"}, {\"data\": [{\"coloraxis\": \"coloraxis\", \"customdata\": [[\"\", 1, 2017], [\"Argentina\", 3, 2017], [\"Australia\", 15, 2017], [\"Austria\", 1, 2017], [\"Azerbaijan\", 1, 2017], [\"Belgium\", 7, 2017], [\"Bermuda\", 1, 2017], [\"Brazil\", 2, 2017], [\"Canada\", 44, 2017], [\"Chile\", 2, 2017], [\"China\", 10, 2017], [\"Colombia\", 2, 2017], [\"Croatia\", 1, 2017], [\"Cuba\", 1, 2017], [\"Denmark\", 8, 2017], [\"Ecuador\", 1, 2017], [\"Egypt\", 1, 2017], [\"Finland\", 1, 2017], [\"France\", 39, 2017], [\"Germany\", 16, 2017], [\"Greece\", 5, 2017], [\"Hong Kong\", 4, 2017], [\"Hungary\", 2, 2017], [\"Iceland\", 1, 2017], [\"India\", 14, 2017], [\"Indonesia\", 1, 2017], [\"Ireland\", 8, 2017], [\"Israel\", 3, 2017], [\"Italy\", 6, 2017], [\"Japan\", 33, 2017], [\"Jordan\", 1, 2017], [\"Kazakhstan\", 1, 2017], [\"Mexico\", 12, 2017], [\"Montenegro\", 1, 2017], [\"Netherlands\", 8, 2017], [\"New Zealand\", 6, 2017], [\"Nigeria\", 2, 2017], [\"Norway\", 7, 2017], [\"Pakistan\", 4, 2017], [\"Peru\", 3, 2017], [\"Poland\", 1, 2017], [\"Qatar\", 1, 2017], [\"Russia\", 2, 2017], [\"Serbia\", 1, 2017], [\"Slovenia\", 1, 2017], [\"South Africa\", 2, 2017], [\"South Korea\", 11, 2017], [\"Spain\", 18, 2017], [\"Sweden\", 2, 2017], [\"Switzerland\", 1, 2017], [\"Taiwan\", 29, 2017], [\"Turkey\", 4, 2017], [\"Ukraine\", 1, 2017], [\"United Arab Emirates\", 1, 2017], [\"United Kingdom\", 67, 2017], [\"Zimbabwe\", 1, 2017], [\"nan\", 25, 2017]], \"geo\": \"geo\", \"hovertemplate\": \"<b>%{hovertext}</b><br><br>number_of_titles=%{z}<extra></extra>\", \"hovertext\": [\"\", \"Argentina\", \"Australia\", \"Austria\", \"Azerbaijan\", \"Belgium\", \"Bermuda\", \"Brazil\", \"Canada\", \"Chile\", \"China\", \"Colombia\", \"Croatia\", \"Cuba\", \"Denmark\", \"Ecuador\", \"Egypt\", \"Finland\", \"France\", \"Germany\", \"Greece\", \"Hong Kong\", \"Hungary\", \"Iceland\", \"India\", \"Indonesia\", \"Ireland\", \"Israel\", \"Italy\", \"Japan\", \"Jordan\", \"Kazakhstan\", \"Mexico\", \"Montenegro\", \"Netherlands\", \"New Zealand\", \"Nigeria\", \"Norway\", \"Pakistan\", \"Peru\", \"Poland\", \"Qatar\", \"Russia\", \"Serbia\", \"Slovenia\", \"South Africa\", \"South Korea\", \"Spain\", \"Sweden\", \"Switzerland\", \"Taiwan\", \"Turkey\", \"Ukraine\", \"United Arab Emirates\", \"United Kingdom\", \"Zimbabwe\", \"nan\"], \"locationmode\": \"country names\", \"locations\": [\"\", \"Argentina\", \"Australia\", \"Austria\", \"Azerbaijan\", \"Belgium\", \"Bermuda\", \"Brazil\", \"Canada\", \"Chile\", \"China\", \"Colombia\", \"Croatia\", \"Cuba\", \"Denmark\", \"Ecuador\", \"Egypt\", \"Finland\", \"France\", \"Germany\", \"Greece\", \"Hong Kong\", \"Hungary\", \"Iceland\", \"India\", \"Indonesia\", \"Ireland\", \"Israel\", \"Italy\", \"Japan\", \"Jordan\", \"Kazakhstan\", \"Mexico\", \"Montenegro\", \"Netherlands\", \"New Zealand\", \"Nigeria\", \"Norway\", \"Pakistan\", \"Peru\", \"Poland\", \"Qatar\", \"Russia\", \"Serbia\", \"Slovenia\", \"South Africa\", \"South Korea\", \"Spain\", \"Sweden\", \"Switzerland\", \"Taiwan\", \"Turkey\", \"Ukraine\", \"United Arab Emirates\", \"United Kingdom\", \"Zimbabwe\", \"nan\"], \"name\": \"\", \"z\": [1, 3, 15, 1, 1, 7, 1, 2, 44, 2, 10, 2, 1, 1, 8, 1, 1, 1, 39, 16, 5, 4, 2, 1, 14, 1, 8, 3, 6, 33, 1, 1, 12, 1, 8, 6, 2, 7, 4, 3, 1, 1, 2, 1, 1, 2, 11, 18, 2, 1, 29, 4, 1, 1, 67, 1, 25], \"type\": \"choropleth\"}], \"name\": \"2017\"}, {\"data\": [{\"coloraxis\": \"coloraxis\", \"customdata\": [[\"\", 1, 2018], [\"Afghanistan\", 1, 2018], [\"Argentina\", 19, 2018], [\"Armenia\", 1, 2018], [\"Australia\", 39, 2018], [\"Austria\", 3, 2018], [\"Azerbaijan\", 1, 2018], [\"Belgium\", 27, 2018], [\"Bermuda\", 1, 2018], [\"Brazil\", 18, 2018], [\"Bulgaria\", 2, 2018], [\"Cambodia\", 2, 2018], [\"Canada\", 115, 2018], [\"Chile\", 10, 2018], [\"China\", 35, 2018], [\"Colombia\", 7, 2018], [\"Croatia\", 2, 2018], [\"Cuba\", 1, 2018], [\"Czech Republic\", 4, 2018], [\"Denmark\", 13, 2018], [\"Ecuador\", 1, 2018], [\"Egypt\", 1, 2018], [\"Finland\", 2, 2018], [\"France\", 93, 2018], [\"Georgia\", 1, 2018], [\"Germany\", 49, 2018], [\"Greece\", 7, 2018], [\"Hong Kong\", 12, 2018], [\"Hungary\", 2, 2018], [\"Iceland\", 2, 2018], [\"India\", 177, 2018], [\"Indonesia\", 3, 2018], [\"Iran\", 1, 2018], [\"Ireland\", 15, 2018], [\"Israel\", 9, 2018], [\"Italy\", 23, 2018], [\"Japan\", 78, 2018], [\"Jordan\", 4, 2018], [\"Kazakhstan\", 1, 2018], [\"Latvia\", 1, 2018], [\"Lebanon\", 2, 2018], [\"Lithuania\", 1, 2018], [\"Malaysia\", 8, 2018], [\"Mexico\", 48, 2018], [\"Mongolia\", 1, 2018], [\"Montenegro\", 1, 2018], [\"Morocco\", 1, 2018], [\"Nepal\", 1, 2018], [\"Netherlands\", 16, 2018], [\"New Zealand\", 9, 2018], [\"Nicaragua\", 1, 2018], [\"Nigeria\", 3, 2018], [\"Norway\", 12, 2018], [\"Pakistan\", 9, 2018], [\"Panama\", 1, 2018], [\"Peru\", 4, 2018], [\"Philippines\", 1, 2018], [\"Poland\", 2, 2018], [\"Portugal\", 1, 2018], [\"Qatar\", 5, 2018], [\"Romania\", 1, 2018], [\"Russia\", 10, 2018], [\"Samoa\", 1, 2018], [\"Saudi Arabia\", 1, 2018], [\"Senegal\", 1, 2018], [\"Serbia\", 1, 2018], [\"Singapore\", 18, 2018], [\"Slovakia\", 1, 2018], [\"Slovenia\", 2, 2018], [\"South Africa\", 7, 2018], [\"South Korea\", 55, 2018], [\"Soviet Union\", 2, 2018], [\"Spain\", 61, 2018], [\"Sri Lanka\", 1, 2018], [\"Sweden\", 13, 2018], [\"Switzerland\", 6, 2018], [\"Taiwan\", 40, 2018], [\"Thailand\", 3, 2018], [\"Turkey\", 49, 2018], [\"Ukraine\", 2, 2018], [\"United Arab Emirates\", 5, 2018], [\"United Kingdom\", 201, 2018], [\"Uruguay\", 5, 2018], [\"Venezuela\", 2, 2018], [\"Vietnam\", 1, 2018], [\"West Germany\", 1, 2018], [\"Zimbabwe\", 1, 2018], [\"nan\", 91, 2018]], \"geo\": \"geo\", \"hovertemplate\": \"<b>%{hovertext}</b><br><br>number_of_titles=%{z}<extra></extra>\", \"hovertext\": [\"\", \"Afghanistan\", \"Argentina\", \"Armenia\", \"Australia\", \"Austria\", \"Azerbaijan\", \"Belgium\", \"Bermuda\", \"Brazil\", \"Bulgaria\", \"Cambodia\", \"Canada\", \"Chile\", \"China\", \"Colombia\", \"Croatia\", \"Cuba\", \"Czech Republic\", \"Denmark\", \"Ecuador\", \"Egypt\", \"Finland\", \"France\", \"Georgia\", \"Germany\", \"Greece\", \"Hong Kong\", \"Hungary\", \"Iceland\", \"India\", \"Indonesia\", \"Iran\", \"Ireland\", \"Israel\", \"Italy\", \"Japan\", \"Jordan\", \"Kazakhstan\", \"Latvia\", \"Lebanon\", \"Lithuania\", \"Malaysia\", \"Mexico\", \"Mongolia\", \"Montenegro\", \"Morocco\", \"Nepal\", \"Netherlands\", \"New Zealand\", \"Nicaragua\", \"Nigeria\", \"Norway\", \"Pakistan\", \"Panama\", \"Peru\", \"Philippines\", \"Poland\", \"Portugal\", \"Qatar\", \"Romania\", \"Russia\", \"Samoa\", \"Saudi Arabia\", \"Senegal\", \"Serbia\", \"Singapore\", \"Slovakia\", \"Slovenia\", \"South Africa\", \"South Korea\", \"Soviet Union\", \"Spain\", \"Sri Lanka\", \"Sweden\", \"Switzerland\", \"Taiwan\", \"Thailand\", \"Turkey\", \"Ukraine\", \"United Arab Emirates\", \"United Kingdom\", \"Uruguay\", \"Venezuela\", \"Vietnam\", \"West Germany\", \"Zimbabwe\", \"nan\"], \"locationmode\": \"country names\", \"locations\": [\"\", \"Afghanistan\", \"Argentina\", \"Armenia\", \"Australia\", \"Austria\", \"Azerbaijan\", \"Belgium\", \"Bermuda\", \"Brazil\", \"Bulgaria\", \"Cambodia\", \"Canada\", \"Chile\", \"China\", \"Colombia\", \"Croatia\", \"Cuba\", \"Czech Republic\", \"Denmark\", \"Ecuador\", \"Egypt\", \"Finland\", \"France\", \"Georgia\", \"Germany\", \"Greece\", \"Hong Kong\", \"Hungary\", \"Iceland\", \"India\", \"Indonesia\", \"Iran\", \"Ireland\", \"Israel\", \"Italy\", \"Japan\", \"Jordan\", \"Kazakhstan\", \"Latvia\", \"Lebanon\", \"Lithuania\", \"Malaysia\", \"Mexico\", \"Mongolia\", \"Montenegro\", \"Morocco\", \"Nepal\", \"Netherlands\", \"New Zealand\", \"Nicaragua\", \"Nigeria\", \"Norway\", \"Pakistan\", \"Panama\", \"Peru\", \"Philippines\", \"Poland\", \"Portugal\", \"Qatar\", \"Romania\", \"Russia\", \"Samoa\", \"Saudi Arabia\", \"Senegal\", \"Serbia\", \"Singapore\", \"Slovakia\", \"Slovenia\", \"South Africa\", \"South Korea\", \"Soviet Union\", \"Spain\", \"Sri Lanka\", \"Sweden\", \"Switzerland\", \"Taiwan\", \"Thailand\", \"Turkey\", \"Ukraine\", \"United Arab Emirates\", \"United Kingdom\", \"Uruguay\", \"Venezuela\", \"Vietnam\", \"West Germany\", \"Zimbabwe\", \"nan\"], \"name\": \"\", \"z\": [1, 1, 19, 1, 39, 3, 1, 27, 1, 18, 2, 2, 115, 10, 35, 7, 2, 1, 4, 13, 1, 1, 2, 93, 1, 49, 7, 12, 2, 2, 177, 3, 1, 15, 9, 23, 78, 4, 1, 1, 2, 1, 8, 48, 1, 1, 1, 1, 16, 9, 1, 3, 12, 9, 1, 4, 1, 2, 1, 5, 1, 10, 1, 1, 1, 1, 18, 1, 2, 7, 55, 2, 61, 1, 13, 6, 40, 3, 49, 2, 5, 201, 5, 2, 1, 1, 1, 91], \"type\": \"choropleth\"}], \"name\": \"2018\"}, {\"data\": [{\"coloraxis\": \"coloraxis\", \"customdata\": [[\"\", 2, 2019], [\"Afghanistan\", 1, 2019], [\"Albania\", 1, 2019], [\"Argentina\", 46, 2019], [\"Armenia\", 1, 2019], [\"Australia\", 77, 2019], [\"Austria\", 4, 2019], [\"Azerbaijan\", 1, 2019], [\"Bangladesh\", 1, 2019], [\"Belgium\", 41, 2019], [\"Bermuda\", 1, 2019], [\"Brazil\", 38, 2019], [\"Bulgaria\", 6, 2019], [\"Cambodia\", 3, 2019], [\"Canada\", 199, 2019], [\"Cayman Islands\", 1, 2019], [\"Chile\", 19, 2019], [\"China\", 78, 2019], [\"Colombia\", 22, 2019], [\"Croatia\", 3, 2019], [\"Cuba\", 1, 2019], [\"Czech Republic\", 9, 2019], [\"Denmark\", 23, 2019], [\"Dominican Republic\", 1, 2019], [\"Ecuador\", 1, 2019], [\"Egypt\", 4, 2019], [\"Finland\", 3, 2019], [\"France\", 159, 2019], [\"Georgia\", 2, 2019], [\"Germany\", 83, 2019], [\"Greece\", 8, 2019], [\"Guatemala\", 1, 2019], [\"Hong Kong\", 69, 2019], [\"Hungary\", 4, 2019], [\"Iceland\", 4, 2019], [\"India\", 533, 2019], [\"Indonesia\", 31, 2019], [\"Iran\", 3, 2019], [\"Iraq\", 1, 2019], [\"Ireland\", 27, 2019], [\"Israel\", 18, 2019], [\"Italy\", 37, 2019], [\"Japan\", 125, 2019], [\"Jordan\", 5, 2019], [\"Kazakhstan\", 1, 2019], [\"Kenya\", 1, 2019], [\"Kuwait\", 1, 2019], [\"Latvia\", 1, 2019], [\"Lebanon\", 4, 2019], [\"Lithuania\", 1, 2019], [\"Luxembourg\", 3, 2019], [\"Malaysia\", 11, 2019], [\"Mexico\", 79, 2019], [\"Mongolia\", 1, 2019], [\"Montenegro\", 1, 2019], [\"Morocco\", 5, 2019], [\"Namibia\", 1, 2019], [\"Nepal\", 1, 2019], [\"Netherlands\", 26, 2019], [\"New Zealand\", 15, 2019], [\"Nicaragua\", 1, 2019], [\"Nigeria\", 4, 2019], [\"Norway\", 15, 2019], [\"Pakistan\", 14, 2019], [\"Panama\", 1, 2019], [\"Peru\", 7, 2019], [\"Philippines\", 7, 2019], [\"Poland\", 9, 2019], [\"Portugal\", 3, 2019], [\"Qatar\", 7, 2019], [\"Romania\", 1, 2019], [\"Russia\", 16, 2019], [\"Samoa\", 1, 2019], [\"Saudi Arabia\", 2, 2019], [\"Senegal\", 1, 2019], [\"Serbia\", 4, 2019], [\"Singapore\", 26, 2019], [\"Slovakia\", 1, 2019], [\"Slovenia\", 3, 2019], [\"Somalia\", 1, 2019], [\"South Africa\", 20, 2019], [\"South Korea\", 88, 2019], [\"Soviet Union\", 3, 2019], [\"Spain\", 105, 2019], [\"Sri Lanka\", 1, 2019], [\"Sudan\", 1, 2019], [\"Sweden\", 23, 2019], [\"Switzerland\", 10, 2019], [\"Syria\", 1, 2019], [\"Taiwan\", 49, 2019], [\"Thailand\", 36, 2019], [\"Turkey\", 55, 2019], [\"Uganda\", 1, 2019], [\"Ukraine\", 3, 2019], [\"United Arab Emirates\", 11, 2019], [\"United Kingdom\", 349, 2019], [\"Uruguay\", 6, 2019], [\"Venezuela\", 3, 2019], [\"Vietnam\", 3, 2019], [\"West Germany\", 2, 2019], [\"Zimbabwe\", 2, 2019], [\"nan\", 213, 2019]], \"geo\": \"geo\", \"hovertemplate\": \"<b>%{hovertext}</b><br><br>number_of_titles=%{z}<extra></extra>\", \"hovertext\": [\"\", \"Afghanistan\", \"Albania\", \"Argentina\", \"Armenia\", \"Australia\", \"Austria\", \"Azerbaijan\", \"Bangladesh\", \"Belgium\", \"Bermuda\", \"Brazil\", \"Bulgaria\", \"Cambodia\", \"Canada\", \"Cayman Islands\", \"Chile\", \"China\", \"Colombia\", \"Croatia\", \"Cuba\", \"Czech Republic\", \"Denmark\", \"Dominican Republic\", \"Ecuador\", \"Egypt\", \"Finland\", \"France\", \"Georgia\", \"Germany\", \"Greece\", \"Guatemala\", \"Hong Kong\", \"Hungary\", \"Iceland\", \"India\", \"Indonesia\", \"Iran\", \"Iraq\", \"Ireland\", \"Israel\", \"Italy\", \"Japan\", \"Jordan\", \"Kazakhstan\", \"Kenya\", \"Kuwait\", \"Latvia\", \"Lebanon\", \"Lithuania\", \"Luxembourg\", \"Malaysia\", \"Mexico\", \"Mongolia\", \"Montenegro\", \"Morocco\", \"Namibia\", \"Nepal\", \"Netherlands\", \"New Zealand\", \"Nicaragua\", \"Nigeria\", \"Norway\", \"Pakistan\", \"Panama\", \"Peru\", \"Philippines\", \"Poland\", \"Portugal\", \"Qatar\", \"Romania\", \"Russia\", \"Samoa\", \"Saudi Arabia\", \"Senegal\", \"Serbia\", \"Singapore\", \"Slovakia\", \"Slovenia\", \"Somalia\", \"South Africa\", \"South Korea\", \"Soviet Union\", \"Spain\", \"Sri Lanka\", \"Sudan\", \"Sweden\", \"Switzerland\", \"Syria\", \"Taiwan\", \"Thailand\", \"Turkey\", \"Uganda\", \"Ukraine\", \"United Arab Emirates\", \"United Kingdom\", \"Uruguay\", \"Venezuela\", \"Vietnam\", \"West Germany\", \"Zimbabwe\", \"nan\"], \"locationmode\": \"country names\", \"locations\": [\"\", \"Afghanistan\", \"Albania\", \"Argentina\", \"Armenia\", \"Australia\", \"Austria\", \"Azerbaijan\", \"Bangladesh\", \"Belgium\", \"Bermuda\", \"Brazil\", \"Bulgaria\", \"Cambodia\", \"Canada\", \"Cayman Islands\", \"Chile\", \"China\", \"Colombia\", \"Croatia\", \"Cuba\", \"Czech Republic\", \"Denmark\", \"Dominican Republic\", \"Ecuador\", \"Egypt\", \"Finland\", \"France\", \"Georgia\", \"Germany\", \"Greece\", \"Guatemala\", \"Hong Kong\", \"Hungary\", \"Iceland\", \"India\", \"Indonesia\", \"Iran\", \"Iraq\", \"Ireland\", \"Israel\", \"Italy\", \"Japan\", \"Jordan\", \"Kazakhstan\", \"Kenya\", \"Kuwait\", \"Latvia\", \"Lebanon\", \"Lithuania\", \"Luxembourg\", \"Malaysia\", \"Mexico\", \"Mongolia\", \"Montenegro\", \"Morocco\", \"Namibia\", \"Nepal\", \"Netherlands\", \"New Zealand\", \"Nicaragua\", \"Nigeria\", \"Norway\", \"Pakistan\", \"Panama\", \"Peru\", \"Philippines\", \"Poland\", \"Portugal\", \"Qatar\", \"Romania\", \"Russia\", \"Samoa\", \"Saudi Arabia\", \"Senegal\", \"Serbia\", \"Singapore\", \"Slovakia\", \"Slovenia\", \"Somalia\", \"South Africa\", \"South Korea\", \"Soviet Union\", \"Spain\", \"Sri Lanka\", \"Sudan\", \"Sweden\", \"Switzerland\", \"Syria\", \"Taiwan\", \"Thailand\", \"Turkey\", \"Uganda\", \"Ukraine\", \"United Arab Emirates\", \"United Kingdom\", \"Uruguay\", \"Venezuela\", \"Vietnam\", \"West Germany\", \"Zimbabwe\", \"nan\"], \"name\": \"\", \"z\": [2, 1, 1, 46, 1, 77, 4, 1, 1, 41, 1, 38, 6, 3, 199, 1, 19, 78, 22, 3, 1, 9, 23, 1, 1, 4, 3, 159, 2, 83, 8, 1, 69, 4, 4, 533, 31, 3, 1, 27, 18, 37, 125, 5, 1, 1, 1, 1, 4, 1, 3, 11, 79, 1, 1, 5, 1, 1, 26, 15, 1, 4, 15, 14, 1, 7, 7, 9, 3, 7, 1, 16, 1, 2, 1, 4, 26, 1, 3, 1, 20, 88, 3, 105, 1, 1, 23, 10, 1, 49, 36, 55, 1, 3, 11, 349, 6, 3, 3, 2, 2, 213], \"type\": \"choropleth\"}], \"name\": \"2019\"}, {\"data\": [{\"coloraxis\": \"coloraxis\", \"customdata\": [[\"\", 3, 2020], [\"Afghanistan\", 1, 2020], [\"Albania\", 1, 2020], [\"Argentina\", 66, 2020], [\"Armenia\", 1, 2020], [\"Australia\", 113, 2020], [\"Austria\", 8, 2020], [\"Azerbaijan\", 1, 2020], [\"Bangladesh\", 3, 2020], [\"Belgium\", 61, 2020], [\"Bermuda\", 1, 2020], [\"Brazil\", 60, 2020], [\"Bulgaria\", 8, 2020], [\"Cambodia\", 4, 2020], [\"Canada\", 289, 2020], [\"Cayman Islands\", 1, 2020], [\"Chile\", 21, 2020], [\"China\", 120, 2020], [\"Colombia\", 35, 2020], [\"Croatia\", 4, 2020], [\"Cuba\", 1, 2020], [\"Czech Republic\", 15, 2020], [\"Denmark\", 35, 2020], [\"Dominican Republic\", 1, 2020], [\"Ecuador\", 1, 2020], [\"Egypt\", 58, 2020], [\"Finland\", 7, 2020], [\"France\", 243, 2020], [\"Georgia\", 2, 2020], [\"Germany\", 132, 2020], [\"Ghana\", 2, 2020], [\"Greece\", 8, 2020], [\"Guatemala\", 2, 2020], [\"Hong Kong\", 94, 2020], [\"Hungary\", 6, 2020], [\"Iceland\", 5, 2020], [\"India\", 774, 2020], [\"Indonesia\", 49, 2020], [\"Iran\", 4, 2020], [\"Iraq\", 2, 2020], [\"Ireland\", 31, 2020], [\"Israel\", 24, 2020], [\"Italy\", 58, 2020], [\"Japan\", 203, 2020], [\"Jordan\", 6, 2020], [\"Kazakhstan\", 1, 2020], [\"Kenya\", 1, 2020], [\"Kuwait\", 2, 2020], [\"Latvia\", 1, 2020], [\"Lebanon\", 8, 2020], [\"Liechtenstein\", 1, 2020], [\"Lithuania\", 1, 2020], [\"Luxembourg\", 7, 2020], [\"Malawi\", 1, 2020], [\"Malaysia\", 20, 2020], [\"Mauritius\", 1, 2020], [\"Mexico\", 120, 2020], [\"Mongolia\", 1, 2020], [\"Montenegro\", 1, 2020], [\"Morocco\", 6, 2020], [\"Namibia\", 1, 2020], [\"Nepal\", 2, 2020], [\"Netherlands\", 34, 2020], [\"New Zealand\", 20, 2020], [\"Nicaragua\", 1, 2020], [\"Nigeria\", 34, 2020], [\"Norway\", 18, 2020], [\"Pakistan\", 23, 2020], [\"Panama\", 1, 2020], [\"Paraguay\", 1, 2020], [\"Peru\", 9, 2020], [\"Philippines\", 46, 2020], [\"Poland\", 25, 2020], [\"Portugal\", 4, 2020], [\"Qatar\", 7, 2020], [\"Romania\", 7, 2020], [\"Russia\", 20, 2020], [\"Samoa\", 1, 2020], [\"Saudi Arabia\", 2, 2020], [\"Senegal\", 2, 2020], [\"Serbia\", 5, 2020], [\"Singapore\", 35, 2020], [\"Slovakia\", 1, 2020], [\"Slovenia\", 3, 2020], [\"Somalia\", 1, 2020], [\"South Africa\", 30, 2020], [\"South Korea\", 153, 2020], [\"Soviet Union\", 3, 2020], [\"Spain\", 164, 2020], [\"Sri Lanka\", 1, 2020], [\"Sudan\", 1, 2020], [\"Sweden\", 34, 2020], [\"Switzerland\", 14, 2020], [\"Syria\", 1, 2020], [\"Taiwan\", 73, 2020], [\"Thailand\", 56, 2020], [\"Turkey\", 78, 2020], [\"Uganda\", 1, 2020], [\"Ukraine\", 3, 2020], [\"United Arab Emirates\", 19, 2020], [\"United Kingdom\", 548, 2020], [\"Uruguay\", 11, 2020], [\"Vatican City\", 1, 2020], [\"Venezuela\", 3, 2020], [\"Vietnam\", 4, 2020], [\"West Germany\", 4, 2020], [\"Zimbabwe\", 2, 2020], [\"nan\", 373, 2020]], \"geo\": \"geo\", \"hovertemplate\": \"<b>%{hovertext}</b><br><br>number_of_titles=%{z}<extra></extra>\", \"hovertext\": [\"\", \"Afghanistan\", \"Albania\", \"Argentina\", \"Armenia\", \"Australia\", \"Austria\", \"Azerbaijan\", \"Bangladesh\", \"Belgium\", \"Bermuda\", \"Brazil\", \"Bulgaria\", \"Cambodia\", \"Canada\", \"Cayman Islands\", \"Chile\", \"China\", \"Colombia\", \"Croatia\", \"Cuba\", \"Czech Republic\", \"Denmark\", \"Dominican Republic\", \"Ecuador\", \"Egypt\", \"Finland\", \"France\", \"Georgia\", \"Germany\", \"Ghana\", \"Greece\", \"Guatemala\", \"Hong Kong\", \"Hungary\", \"Iceland\", \"India\", \"Indonesia\", \"Iran\", \"Iraq\", \"Ireland\", \"Israel\", \"Italy\", \"Japan\", \"Jordan\", \"Kazakhstan\", \"Kenya\", \"Kuwait\", \"Latvia\", \"Lebanon\", \"Liechtenstein\", \"Lithuania\", \"Luxembourg\", \"Malawi\", \"Malaysia\", \"Mauritius\", \"Mexico\", \"Mongolia\", \"Montenegro\", \"Morocco\", \"Namibia\", \"Nepal\", \"Netherlands\", \"New Zealand\", \"Nicaragua\", \"Nigeria\", \"Norway\", \"Pakistan\", \"Panama\", \"Paraguay\", \"Peru\", \"Philippines\", \"Poland\", \"Portugal\", \"Qatar\", \"Romania\", \"Russia\", \"Samoa\", \"Saudi Arabia\", \"Senegal\", \"Serbia\", \"Singapore\", \"Slovakia\", \"Slovenia\", \"Somalia\", \"South Africa\", \"South Korea\", \"Soviet Union\", \"Spain\", \"Sri Lanka\", \"Sudan\", \"Sweden\", \"Switzerland\", \"Syria\", \"Taiwan\", \"Thailand\", \"Turkey\", \"Uganda\", \"Ukraine\", \"United Arab Emirates\", \"United Kingdom\", \"Uruguay\", \"Vatican City\", \"Venezuela\", \"Vietnam\", \"West Germany\", \"Zimbabwe\", \"nan\"], \"locationmode\": \"country names\", \"locations\": [\"\", \"Afghanistan\", \"Albania\", \"Argentina\", \"Armenia\", \"Australia\", \"Austria\", \"Azerbaijan\", \"Bangladesh\", \"Belgium\", \"Bermuda\", \"Brazil\", \"Bulgaria\", \"Cambodia\", \"Canada\", \"Cayman Islands\", \"Chile\", \"China\", \"Colombia\", \"Croatia\", \"Cuba\", \"Czech Republic\", \"Denmark\", \"Dominican Republic\", \"Ecuador\", \"Egypt\", \"Finland\", \"France\", \"Georgia\", \"Germany\", \"Ghana\", \"Greece\", \"Guatemala\", \"Hong Kong\", \"Hungary\", \"Iceland\", \"India\", \"Indonesia\", \"Iran\", \"Iraq\", \"Ireland\", \"Israel\", \"Italy\", \"Japan\", \"Jordan\", \"Kazakhstan\", \"Kenya\", \"Kuwait\", \"Latvia\", \"Lebanon\", \"Liechtenstein\", \"Lithuania\", \"Luxembourg\", \"Malawi\", \"Malaysia\", \"Mauritius\", \"Mexico\", \"Mongolia\", \"Montenegro\", \"Morocco\", \"Namibia\", \"Nepal\", \"Netherlands\", \"New Zealand\", \"Nicaragua\", \"Nigeria\", \"Norway\", \"Pakistan\", \"Panama\", \"Paraguay\", \"Peru\", \"Philippines\", \"Poland\", \"Portugal\", \"Qatar\", \"Romania\", \"Russia\", \"Samoa\", \"Saudi Arabia\", \"Senegal\", \"Serbia\", \"Singapore\", \"Slovakia\", \"Slovenia\", \"Somalia\", \"South Africa\", \"South Korea\", \"Soviet Union\", \"Spain\", \"Sri Lanka\", \"Sudan\", \"Sweden\", \"Switzerland\", \"Syria\", \"Taiwan\", \"Thailand\", \"Turkey\", \"Uganda\", \"Ukraine\", \"United Arab Emirates\", \"United Kingdom\", \"Uruguay\", \"Vatican City\", \"Venezuela\", \"Vietnam\", \"West Germany\", \"Zimbabwe\", \"nan\"], \"name\": \"\", \"z\": [3, 1, 1, 66, 1, 113, 8, 1, 3, 61, 1, 60, 8, 4, 289, 1, 21, 120, 35, 4, 1, 15, 35, 1, 1, 58, 7, 243, 2, 132, 2, 8, 2, 94, 6, 5, 774, 49, 4, 2, 31, 24, 58, 203, 6, 1, 1, 2, 1, 8, 1, 1, 7, 1, 20, 1, 120, 1, 1, 6, 1, 2, 34, 20, 1, 34, 18, 23, 1, 1, 9, 46, 25, 4, 7, 7, 20, 1, 2, 2, 5, 35, 1, 3, 1, 30, 153, 3, 164, 1, 1, 34, 14, 1, 73, 56, 78, 1, 3, 19, 548, 11, 1, 3, 4, 4, 2, 373], \"type\": \"choropleth\"}], \"name\": \"2020\"}, {\"data\": [{\"coloraxis\": \"coloraxis\", \"customdata\": [[\"\", 4, 2021], [\"Afghanistan\", 1, 2021], [\"Albania\", 1, 2021], [\"Algeria\", 2, 2021], [\"Angola\", 1, 2021], [\"Argentina\", 82, 2021], [\"Armenia\", 1, 2021], [\"Australia\", 143, 2021], [\"Austria\", 11, 2021], [\"Azerbaijan\", 1, 2021], [\"Bahamas\", 1, 2021], [\"Bangladesh\", 3, 2021], [\"Belarus\", 1, 2021], [\"Belgium\", 85, 2021], [\"Bermuda\", 1, 2021], [\"Botswana\", 1, 2021], [\"Brazil\", 87, 2021], [\"Bulgaria\", 9, 2021], [\"Cambodia\", 5, 2021], [\"Canada\", 404, 2021], [\"Cayman Islands\", 1, 2021], [\"Chile\", 26, 2021], [\"China\", 147, 2021], [\"Colombia\", 45, 2021], [\"Croatia\", 4, 2021], [\"Cuba\", 1, 2021], [\"Cyprus\", 1, 2021], [\"Czech Republic\", 20, 2021], [\"Denmark\", 44, 2021], [\"Dominican Republic\", 1, 2021], [\"East Germany\", 1, 2021], [\"Ecuador\", 1, 2021], [\"Egypt\", 110, 2021], [\"Finland\", 11, 2021], [\"France\", 342, 2021], [\"Georgia\", 2, 2021], [\"Germany\", 195, 2021], [\"Ghana\", 4, 2021], [\"Greece\", 10, 2021], [\"Guatemala\", 2, 2021], [\"Hong Kong\", 100, 2021], [\"Hungary\", 8, 2021], [\"Iceland\", 9, 2021], [\"India\", 977, 2021], [\"Indonesia\", 78, 2021], [\"Iran\", 4, 2021], [\"Iraq\", 2, 2021], [\"Ireland\", 40, 2021], [\"Israel\", 26, 2021], [\"Italy\", 90, 2021], [\"Jamaica\", 1, 2021], [\"Japan\", 286, 2021], [\"Jordan\", 8, 2021], [\"Kazakhstan\", 1, 2021], [\"Kenya\", 5, 2021], [\"Kuwait\", 7, 2021], [\"Latvia\", 1, 2021], [\"Lebanon\", 26, 2021], [\"Liechtenstein\", 1, 2021], [\"Lithuania\", 1, 2021], [\"Luxembourg\", 11, 2021], [\"Malawi\", 1, 2021], [\"Malaysia\", 26, 2021], [\"Malta\", 3, 2021], [\"Mauritius\", 1, 2021], [\"Mexico\", 152, 2021], [\"Mongolia\", 1, 2021], [\"Montenegro\", 1, 2021], [\"Morocco\", 6, 2021], [\"Namibia\", 2, 2021], [\"Nepal\", 2, 2021], [\"Netherlands\", 45, 2021], [\"New Zealand\", 28, 2021], [\"Nicaragua\", 1, 2021], [\"Nigeria\", 76, 2021], [\"Norway\", 27, 2021], [\"Pakistan\", 24, 2021], [\"Panama\", 1, 2021], [\"Paraguay\", 1, 2021], [\"Peru\", 10, 2021], [\"Philippines\", 78, 2021], [\"Poland\", 36, 2021], [\"Portugal\", 4, 2021], [\"Puerto Rico\", 1, 2021], [\"Qatar\", 7, 2021], [\"Romania\", 12, 2021], [\"Russia\", 27, 2021], [\"Samoa\", 1, 2021], [\"Saudi Arabia\", 10, 2021], [\"Senegal\", 3, 2021], [\"Serbia\", 7, 2021], [\"Singapore\", 39, 2021], [\"Slovakia\", 1, 2021], [\"Slovenia\", 3, 2021], [\"Somalia\", 1, 2021], [\"South Africa\", 54, 2021], [\"South Korea\", 211, 2021], [\"Soviet Union\", 3, 2021], [\"Spain\", 212, 2021], [\"Sri Lanka\", 1, 2021], [\"Sudan\", 1, 2021], [\"Sweden\", 38, 2021], [\"Switzerland\", 17, 2021], [\"Syria\", 1, 2021], [\"Taiwan\", 85, 2021], [\"Thailand\", 64, 2021], [\"Turkey\", 107, 2021], [\"Uganda\", 1, 2021], [\"Ukraine\", 3, 2021], [\"United Arab Emirates\", 34, 2021], [\"United Kingdom\", 715, 2021], [\"Uruguay\", 14, 2021], [\"Vatican City\", 1, 2021], [\"Venezuela\", 3, 2021], [\"Vietnam\", 5, 2021], [\"West Germany\", 5, 2021], [\"Zimbabwe\", 3, 2021], [\"nan\", 492, 2021]], \"geo\": \"geo\", \"hovertemplate\": \"<b>%{hovertext}</b><br><br>number_of_titles=%{z}<extra></extra>\", \"hovertext\": [\"\", \"Afghanistan\", \"Albania\", \"Algeria\", \"Angola\", \"Argentina\", \"Armenia\", \"Australia\", \"Austria\", \"Azerbaijan\", \"Bahamas\", \"Bangladesh\", \"Belarus\", \"Belgium\", \"Bermuda\", \"Botswana\", \"Brazil\", \"Bulgaria\", \"Cambodia\", \"Canada\", \"Cayman Islands\", \"Chile\", \"China\", \"Colombia\", \"Croatia\", \"Cuba\", \"Cyprus\", \"Czech Republic\", \"Denmark\", \"Dominican Republic\", \"East Germany\", \"Ecuador\", \"Egypt\", \"Finland\", \"France\", \"Georgia\", \"Germany\", \"Ghana\", \"Greece\", \"Guatemala\", \"Hong Kong\", \"Hungary\", \"Iceland\", \"India\", \"Indonesia\", \"Iran\", \"Iraq\", \"Ireland\", \"Israel\", \"Italy\", \"Jamaica\", \"Japan\", \"Jordan\", \"Kazakhstan\", \"Kenya\", \"Kuwait\", \"Latvia\", \"Lebanon\", \"Liechtenstein\", \"Lithuania\", \"Luxembourg\", \"Malawi\", \"Malaysia\", \"Malta\", \"Mauritius\", \"Mexico\", \"Mongolia\", \"Montenegro\", \"Morocco\", \"Namibia\", \"Nepal\", \"Netherlands\", \"New Zealand\", \"Nicaragua\", \"Nigeria\", \"Norway\", \"Pakistan\", \"Panama\", \"Paraguay\", \"Peru\", \"Philippines\", \"Poland\", \"Portugal\", \"Puerto Rico\", \"Qatar\", \"Romania\", \"Russia\", \"Samoa\", \"Saudi Arabia\", \"Senegal\", \"Serbia\", \"Singapore\", \"Slovakia\", \"Slovenia\", \"Somalia\", \"South Africa\", \"South Korea\", \"Soviet Union\", \"Spain\", \"Sri Lanka\", \"Sudan\", \"Sweden\", \"Switzerland\", \"Syria\", \"Taiwan\", \"Thailand\", \"Turkey\", \"Uganda\", \"Ukraine\", \"United Arab Emirates\", \"United Kingdom\", \"Uruguay\", \"Vatican City\", \"Venezuela\", \"Vietnam\", \"West Germany\", \"Zimbabwe\", \"nan\"], \"locationmode\": \"country names\", \"locations\": [\"\", \"Afghanistan\", \"Albania\", \"Algeria\", \"Angola\", \"Argentina\", \"Armenia\", \"Australia\", \"Austria\", \"Azerbaijan\", \"Bahamas\", \"Bangladesh\", \"Belarus\", \"Belgium\", \"Bermuda\", \"Botswana\", \"Brazil\", \"Bulgaria\", \"Cambodia\", \"Canada\", \"Cayman Islands\", \"Chile\", \"China\", \"Colombia\", \"Croatia\", \"Cuba\", \"Cyprus\", \"Czech Republic\", \"Denmark\", \"Dominican Republic\", \"East Germany\", \"Ecuador\", \"Egypt\", \"Finland\", \"France\", \"Georgia\", \"Germany\", \"Ghana\", \"Greece\", \"Guatemala\", \"Hong Kong\", \"Hungary\", \"Iceland\", \"India\", \"Indonesia\", \"Iran\", \"Iraq\", \"Ireland\", \"Israel\", \"Italy\", \"Jamaica\", \"Japan\", \"Jordan\", \"Kazakhstan\", \"Kenya\", \"Kuwait\", \"Latvia\", \"Lebanon\", \"Liechtenstein\", \"Lithuania\", \"Luxembourg\", \"Malawi\", \"Malaysia\", \"Malta\", \"Mauritius\", \"Mexico\", \"Mongolia\", \"Montenegro\", \"Morocco\", \"Namibia\", \"Nepal\", \"Netherlands\", \"New Zealand\", \"Nicaragua\", \"Nigeria\", \"Norway\", \"Pakistan\", \"Panama\", \"Paraguay\", \"Peru\", \"Philippines\", \"Poland\", \"Portugal\", \"Puerto Rico\", \"Qatar\", \"Romania\", \"Russia\", \"Samoa\", \"Saudi Arabia\", \"Senegal\", \"Serbia\", \"Singapore\", \"Slovakia\", \"Slovenia\", \"Somalia\", \"South Africa\", \"South Korea\", \"Soviet Union\", \"Spain\", \"Sri Lanka\", \"Sudan\", \"Sweden\", \"Switzerland\", \"Syria\", \"Taiwan\", \"Thailand\", \"Turkey\", \"Uganda\", \"Ukraine\", \"United Arab Emirates\", \"United Kingdom\", \"Uruguay\", \"Vatican City\", \"Venezuela\", \"Vietnam\", \"West Germany\", \"Zimbabwe\", \"nan\"], \"name\": \"\", \"z\": [4, 1, 1, 2, 1, 82, 1, 143, 11, 1, 1, 3, 1, 85, 1, 1, 87, 9, 5, 404, 1, 26, 147, 45, 4, 1, 1, 20, 44, 1, 1, 1, 110, 11, 342, 2, 195, 4, 10, 2, 100, 8, 9, 977, 78, 4, 2, 40, 26, 90, 1, 286, 8, 1, 5, 7, 1, 26, 1, 1, 11, 1, 26, 3, 1, 152, 1, 1, 6, 2, 2, 45, 28, 1, 76, 27, 24, 1, 1, 10, 78, 36, 4, 1, 7, 12, 27, 1, 10, 3, 7, 39, 1, 3, 1, 54, 211, 3, 212, 1, 1, 38, 17, 1, 85, 64, 107, 1, 3, 34, 715, 14, 1, 3, 5, 5, 3, 492], \"type\": \"choropleth\"}], \"name\": \"2021\"}]);\n",
       "                        }).then(function(){\n",
       "                            \n",
       "var gd = document.getElementById('bff1b93c-822e-42c5-b385-5b8fd9e82026');\n",
       "var x = new MutationObserver(function (mutations, observer) {{\n",
       "        var display = window.getComputedStyle(gd).display;\n",
       "        if (!display || display === 'none') {{\n",
       "            console.log([gd, 'removed!']);\n",
       "            Plotly.purge(gd);\n",
       "            observer.disconnect();\n",
       "        }}\n",
       "}});\n",
       "\n",
       "// Listen for the removal of the full notebook cells\n",
       "var notebookContainer = gd.closest('#notebook-container');\n",
       "if (notebookContainer) {{\n",
       "    x.observe(notebookContainer, {childList: true});\n",
       "}}\n",
       "\n",
       "// Listen for the clearing of the current output cell\n",
       "var outputEl = gd.closest('.output');\n",
       "if (outputEl) {{\n",
       "    x.observe(outputEl, {childList: true});\n",
       "}}\n",
       "\n",
       "                        })                };                });            </script>        </div>"
      ]
     },
     "metadata": {},
     "output_type": "display_data"
    }
   ],
   "source": [
    "px.choropleth(counts_by_year_and_country[counts_by_year_and_country['country'] != \"United States\"],\n",
    "              locations=\"country\",\n",
    "              color=\"number_of_titles\",\n",
    "              hover_name=\"country\",\n",
    "              hover_data={\n",
    "                  \"country\": False,\n",
    "                  \"number_of_titles\": True,\n",
    "                  \"added_year\": False,\n",
    "              },\n",
    "              locationmode='country names',\n",
    "              animation_frame=\"added_year\",\n",
    "              color_continuous_scale='reds',\n",
    "              height=600)"
   ]
  },
  {
   "cell_type": "markdown",
   "metadata": {},
   "source": [
    "### 2. Percentage of TV shows vs movies produced each year"
   ]
  },
  {
   "cell_type": "code",
   "execution_count": 13,
   "metadata": {},
   "outputs": [
    {
     "data": {
      "text/html": [
       "<div>\n",
       "<style scoped>\n",
       "    .dataframe tbody tr th:only-of-type {\n",
       "        vertical-align: middle;\n",
       "    }\n",
       "\n",
       "    .dataframe tbody tr th {\n",
       "        vertical-align: top;\n",
       "    }\n",
       "\n",
       "    .dataframe thead th {\n",
       "        text-align: right;\n",
       "    }\n",
       "</style>\n",
       "<table border=\"1\" class=\"dataframe\">\n",
       "  <thead>\n",
       "    <tr style=\"text-align: right;\">\n",
       "      <th></th>\n",
       "      <th>show_id</th>\n",
       "      <th>type</th>\n",
       "      <th>title</th>\n",
       "      <th>director</th>\n",
       "      <th>cast</th>\n",
       "      <th>country</th>\n",
       "      <th>date_added</th>\n",
       "      <th>release_year</th>\n",
       "      <th>rating</th>\n",
       "      <th>duration</th>\n",
       "      <th>listed_in</th>\n",
       "      <th>description</th>\n",
       "      <th>added_year</th>\n",
       "    </tr>\n",
       "  </thead>\n",
       "  <tbody>\n",
       "    <tr>\n",
       "      <th>0</th>\n",
       "      <td>s1</td>\n",
       "      <td>TV Show</td>\n",
       "      <td>3%</td>\n",
       "      <td>NaN</td>\n",
       "      <td>João Miguel, Bianca Comparato, Michel Gomes, R...</td>\n",
       "      <td>Brazil</td>\n",
       "      <td>August 14, 2020</td>\n",
       "      <td>2020</td>\n",
       "      <td>TV-MA</td>\n",
       "      <td>4 Seasons</td>\n",
       "      <td>International TV Shows, TV Dramas, TV Sci-Fi &amp;...</td>\n",
       "      <td>In a future where the elite inhabit an island ...</td>\n",
       "      <td>2020</td>\n",
       "    </tr>\n",
       "    <tr>\n",
       "      <th>1</th>\n",
       "      <td>s2</td>\n",
       "      <td>Movie</td>\n",
       "      <td>7:19</td>\n",
       "      <td>Jorge Michel Grau</td>\n",
       "      <td>Demián Bichir, Héctor Bonilla, Oscar Serrano, ...</td>\n",
       "      <td>Mexico</td>\n",
       "      <td>December 23, 2016</td>\n",
       "      <td>2016</td>\n",
       "      <td>TV-MA</td>\n",
       "      <td>93 min</td>\n",
       "      <td>Dramas, International Movies</td>\n",
       "      <td>After a devastating earthquake hits Mexico Cit...</td>\n",
       "      <td>2016</td>\n",
       "    </tr>\n",
       "    <tr>\n",
       "      <th>2</th>\n",
       "      <td>s3</td>\n",
       "      <td>Movie</td>\n",
       "      <td>23:59</td>\n",
       "      <td>Gilbert Chan</td>\n",
       "      <td>Tedd Chan, Stella Chung, Henley Hii, Lawrence ...</td>\n",
       "      <td>Singapore</td>\n",
       "      <td>December 20, 2018</td>\n",
       "      <td>2011</td>\n",
       "      <td>R</td>\n",
       "      <td>78 min</td>\n",
       "      <td>Horror Movies, International Movies</td>\n",
       "      <td>When an army recruit is found dead, his fellow...</td>\n",
       "      <td>2018</td>\n",
       "    </tr>\n",
       "    <tr>\n",
       "      <th>3</th>\n",
       "      <td>s4</td>\n",
       "      <td>Movie</td>\n",
       "      <td>9</td>\n",
       "      <td>Shane Acker</td>\n",
       "      <td>Elijah Wood, John C. Reilly, Jennifer Connelly...</td>\n",
       "      <td>United States</td>\n",
       "      <td>November 16, 2017</td>\n",
       "      <td>2009</td>\n",
       "      <td>PG-13</td>\n",
       "      <td>80 min</td>\n",
       "      <td>Action &amp; Adventure, Independent Movies, Sci-Fi...</td>\n",
       "      <td>In a postapocalyptic world, rag-doll robots hi...</td>\n",
       "      <td>2017</td>\n",
       "    </tr>\n",
       "    <tr>\n",
       "      <th>4</th>\n",
       "      <td>s5</td>\n",
       "      <td>Movie</td>\n",
       "      <td>21</td>\n",
       "      <td>Robert Luketic</td>\n",
       "      <td>Jim Sturgess, Kevin Spacey, Kate Bosworth, Aar...</td>\n",
       "      <td>United States</td>\n",
       "      <td>January 1, 2020</td>\n",
       "      <td>2008</td>\n",
       "      <td>PG-13</td>\n",
       "      <td>123 min</td>\n",
       "      <td>Dramas</td>\n",
       "      <td>A brilliant group of students become card-coun...</td>\n",
       "      <td>2020</td>\n",
       "    </tr>\n",
       "    <tr>\n",
       "      <th>...</th>\n",
       "      <td>...</td>\n",
       "      <td>...</td>\n",
       "      <td>...</td>\n",
       "      <td>...</td>\n",
       "      <td>...</td>\n",
       "      <td>...</td>\n",
       "      <td>...</td>\n",
       "      <td>...</td>\n",
       "      <td>...</td>\n",
       "      <td>...</td>\n",
       "      <td>...</td>\n",
       "      <td>...</td>\n",
       "      <td>...</td>\n",
       "    </tr>\n",
       "    <tr>\n",
       "      <th>7782</th>\n",
       "      <td>s7783</td>\n",
       "      <td>Movie</td>\n",
       "      <td>Zozo</td>\n",
       "      <td>Josef Fares</td>\n",
       "      <td>Imad Creidi, Antoinette Turk, Elias Gergi, Car...</td>\n",
       "      <td>Sweden, Czech Republic, United Kingdom, Denmar...</td>\n",
       "      <td>October 19, 2020</td>\n",
       "      <td>2005</td>\n",
       "      <td>TV-MA</td>\n",
       "      <td>99 min</td>\n",
       "      <td>Dramas, International Movies</td>\n",
       "      <td>When Lebanon's Civil War deprives Zozo of his ...</td>\n",
       "      <td>2020</td>\n",
       "    </tr>\n",
       "    <tr>\n",
       "      <th>7783</th>\n",
       "      <td>s7784</td>\n",
       "      <td>Movie</td>\n",
       "      <td>Zubaan</td>\n",
       "      <td>Mozez Singh</td>\n",
       "      <td>Vicky Kaushal, Sarah-Jane Dias, Raaghav Chanan...</td>\n",
       "      <td>India</td>\n",
       "      <td>March 2, 2019</td>\n",
       "      <td>2015</td>\n",
       "      <td>TV-14</td>\n",
       "      <td>111 min</td>\n",
       "      <td>Dramas, International Movies, Music &amp; Musicals</td>\n",
       "      <td>A scrappy but poor boy worms his way into a ty...</td>\n",
       "      <td>2019</td>\n",
       "    </tr>\n",
       "    <tr>\n",
       "      <th>7784</th>\n",
       "      <td>s7785</td>\n",
       "      <td>Movie</td>\n",
       "      <td>Zulu Man in Japan</td>\n",
       "      <td>NaN</td>\n",
       "      <td>Nasty C</td>\n",
       "      <td>NaN</td>\n",
       "      <td>September 25, 2020</td>\n",
       "      <td>2019</td>\n",
       "      <td>TV-MA</td>\n",
       "      <td>44 min</td>\n",
       "      <td>Documentaries, International Movies, Music &amp; M...</td>\n",
       "      <td>In this documentary, South African rapper Nast...</td>\n",
       "      <td>2020</td>\n",
       "    </tr>\n",
       "    <tr>\n",
       "      <th>7785</th>\n",
       "      <td>s7786</td>\n",
       "      <td>TV Show</td>\n",
       "      <td>Zumbo's Just Desserts</td>\n",
       "      <td>NaN</td>\n",
       "      <td>Adriano Zumbo, Rachel Khoo</td>\n",
       "      <td>Australia</td>\n",
       "      <td>October 31, 2020</td>\n",
       "      <td>2019</td>\n",
       "      <td>TV-PG</td>\n",
       "      <td>1 Season</td>\n",
       "      <td>International TV Shows, Reality TV</td>\n",
       "      <td>Dessert wizard Adriano Zumbo looks for the nex...</td>\n",
       "      <td>2020</td>\n",
       "    </tr>\n",
       "    <tr>\n",
       "      <th>7786</th>\n",
       "      <td>s7787</td>\n",
       "      <td>Movie</td>\n",
       "      <td>ZZ TOP: THAT LITTLE OL' BAND FROM TEXAS</td>\n",
       "      <td>Sam Dunn</td>\n",
       "      <td>NaN</td>\n",
       "      <td>United Kingdom, Canada, United States</td>\n",
       "      <td>March 1, 2020</td>\n",
       "      <td>2019</td>\n",
       "      <td>TV-MA</td>\n",
       "      <td>90 min</td>\n",
       "      <td>Documentaries, Music &amp; Musicals</td>\n",
       "      <td>This documentary delves into the mystique behi...</td>\n",
       "      <td>2020</td>\n",
       "    </tr>\n",
       "  </tbody>\n",
       "</table>\n",
       "<p>7787 rows × 13 columns</p>\n",
       "</div>"
      ],
      "text/plain": [
       "     show_id     type                                    title  \\\n",
       "0         s1  TV Show                                       3%   \n",
       "1         s2    Movie                                     7:19   \n",
       "2         s3    Movie                                    23:59   \n",
       "3         s4    Movie                                        9   \n",
       "4         s5    Movie                                       21   \n",
       "...      ...      ...                                      ...   \n",
       "7782   s7783    Movie                                     Zozo   \n",
       "7783   s7784    Movie                                   Zubaan   \n",
       "7784   s7785    Movie                        Zulu Man in Japan   \n",
       "7785   s7786  TV Show                    Zumbo's Just Desserts   \n",
       "7786   s7787    Movie  ZZ TOP: THAT LITTLE OL' BAND FROM TEXAS   \n",
       "\n",
       "               director                                               cast  \\\n",
       "0                   NaN  João Miguel, Bianca Comparato, Michel Gomes, R...   \n",
       "1     Jorge Michel Grau  Demián Bichir, Héctor Bonilla, Oscar Serrano, ...   \n",
       "2          Gilbert Chan  Tedd Chan, Stella Chung, Henley Hii, Lawrence ...   \n",
       "3           Shane Acker  Elijah Wood, John C. Reilly, Jennifer Connelly...   \n",
       "4        Robert Luketic  Jim Sturgess, Kevin Spacey, Kate Bosworth, Aar...   \n",
       "...                 ...                                                ...   \n",
       "7782        Josef Fares  Imad Creidi, Antoinette Turk, Elias Gergi, Car...   \n",
       "7783        Mozez Singh  Vicky Kaushal, Sarah-Jane Dias, Raaghav Chanan...   \n",
       "7784                NaN                                            Nasty C   \n",
       "7785                NaN                         Adriano Zumbo, Rachel Khoo   \n",
       "7786           Sam Dunn                                                NaN   \n",
       "\n",
       "                                                country          date_added  \\\n",
       "0                                                Brazil     August 14, 2020   \n",
       "1                                                Mexico   December 23, 2016   \n",
       "2                                             Singapore   December 20, 2018   \n",
       "3                                         United States   November 16, 2017   \n",
       "4                                         United States     January 1, 2020   \n",
       "...                                                 ...                 ...   \n",
       "7782  Sweden, Czech Republic, United Kingdom, Denmar...    October 19, 2020   \n",
       "7783                                              India       March 2, 2019   \n",
       "7784                                                NaN  September 25, 2020   \n",
       "7785                                          Australia    October 31, 2020   \n",
       "7786              United Kingdom, Canada, United States       March 1, 2020   \n",
       "\n",
       "      release_year rating   duration  \\\n",
       "0             2020  TV-MA  4 Seasons   \n",
       "1             2016  TV-MA     93 min   \n",
       "2             2011      R     78 min   \n",
       "3             2009  PG-13     80 min   \n",
       "4             2008  PG-13    123 min   \n",
       "...            ...    ...        ...   \n",
       "7782          2005  TV-MA     99 min   \n",
       "7783          2015  TV-14    111 min   \n",
       "7784          2019  TV-MA     44 min   \n",
       "7785          2019  TV-PG   1 Season   \n",
       "7786          2019  TV-MA     90 min   \n",
       "\n",
       "                                              listed_in  \\\n",
       "0     International TV Shows, TV Dramas, TV Sci-Fi &...   \n",
       "1                          Dramas, International Movies   \n",
       "2                   Horror Movies, International Movies   \n",
       "3     Action & Adventure, Independent Movies, Sci-Fi...   \n",
       "4                                                Dramas   \n",
       "...                                                 ...   \n",
       "7782                       Dramas, International Movies   \n",
       "7783     Dramas, International Movies, Music & Musicals   \n",
       "7784  Documentaries, International Movies, Music & M...   \n",
       "7785                 International TV Shows, Reality TV   \n",
       "7786                    Documentaries, Music & Musicals   \n",
       "\n",
       "                                            description  added_year  \n",
       "0     In a future where the elite inhabit an island ...        2020  \n",
       "1     After a devastating earthquake hits Mexico Cit...        2016  \n",
       "2     When an army recruit is found dead, his fellow...        2018  \n",
       "3     In a postapocalyptic world, rag-doll robots hi...        2017  \n",
       "4     A brilliant group of students become card-coun...        2020  \n",
       "...                                                 ...         ...  \n",
       "7782  When Lebanon's Civil War deprives Zozo of his ...        2020  \n",
       "7783  A scrappy but poor boy worms his way into a ty...        2019  \n",
       "7784  In this documentary, South African rapper Nast...        2020  \n",
       "7785  Dessert wizard Adriano Zumbo looks for the nex...        2020  \n",
       "7786  This documentary delves into the mystique behi...        2020  \n",
       "\n",
       "[7787 rows x 13 columns]"
      ]
     },
     "execution_count": 13,
     "metadata": {},
     "output_type": "execute_result"
    }
   ],
   "source": [
    "percentages = dataframe.copy()\n",
    "\n",
    "percentages['added_year'] = percentages['date_added'].apply(\n",
    "    parse_time)\n",
    "percentages"
   ]
  },
  {
   "cell_type": "code",
   "execution_count": 14,
   "metadata": {},
   "outputs": [],
   "source": [
    "years = sorted(percentages['added_year'].unique())"
   ]
  },
  {
   "cell_type": "code",
   "execution_count": 33,
   "metadata": {},
   "outputs": [],
   "source": [
    "counts_by_year_percentage = {\"Year\": [], \"TV Shows %\": [], \"Movies %\": []}\n",
    "\n",
    "for year in years:\n",
    "\n",
    "    for_year = percentages[percentages['added_year'] == year]\n",
    "\n",
    "    shows_count = for_year[for_year['type'] == 'TV Show'].shape[0]\n",
    "    movies_count = for_year[for_year['type'] == 'Movie'].shape[0]\n",
    "    shows_percentage = round(shows_count * 100 / for_year.shape[0], 2)\n",
    "    movies_percentage = round(movies_count * 100 / for_year.shape[0], 2)\n",
    "    \n",
    "    counts_by_year_percentage['Year'].append(year)\n",
    "    counts_by_year_percentage['TV Shows %'].append(shows_percentage)\n",
    "    counts_by_year_percentage['Movies %'].append(movies_percentage)\n",
    "    \n",
    "\n",
    "counts_by_year_percentage= pd.DataFrame(counts_by_year_percentage)\n",
    "counts_by_year_percentage = counts_by_year_percentage[counts_by_year_percentage['Year'] != 0]"
   ]
  },
  {
   "cell_type": "code",
   "execution_count": 34,
   "metadata": {},
   "outputs": [
    {
     "data": {
      "text/html": [
       "<div>\n",
       "<style scoped>\n",
       "    .dataframe tbody tr th:only-of-type {\n",
       "        vertical-align: middle;\n",
       "    }\n",
       "\n",
       "    .dataframe tbody tr th {\n",
       "        vertical-align: top;\n",
       "    }\n",
       "\n",
       "    .dataframe thead th {\n",
       "        text-align: right;\n",
       "    }\n",
       "</style>\n",
       "<table border=\"1\" class=\"dataframe\">\n",
       "  <thead>\n",
       "    <tr style=\"text-align: right;\">\n",
       "      <th></th>\n",
       "      <th>Year</th>\n",
       "      <th>TV Shows %</th>\n",
       "      <th>Movies %</th>\n",
       "    </tr>\n",
       "  </thead>\n",
       "  <tbody>\n",
       "    <tr>\n",
       "      <th>1</th>\n",
       "      <td>2008</td>\n",
       "      <td>50.00</td>\n",
       "      <td>50.00</td>\n",
       "    </tr>\n",
       "    <tr>\n",
       "      <th>2</th>\n",
       "      <td>2009</td>\n",
       "      <td>0.00</td>\n",
       "      <td>100.00</td>\n",
       "    </tr>\n",
       "    <tr>\n",
       "      <th>3</th>\n",
       "      <td>2010</td>\n",
       "      <td>0.00</td>\n",
       "      <td>100.00</td>\n",
       "    </tr>\n",
       "    <tr>\n",
       "      <th>4</th>\n",
       "      <td>2011</td>\n",
       "      <td>0.00</td>\n",
       "      <td>100.00</td>\n",
       "    </tr>\n",
       "    <tr>\n",
       "      <th>5</th>\n",
       "      <td>2012</td>\n",
       "      <td>0.00</td>\n",
       "      <td>100.00</td>\n",
       "    </tr>\n",
       "    <tr>\n",
       "      <th>6</th>\n",
       "      <td>2013</td>\n",
       "      <td>45.45</td>\n",
       "      <td>54.55</td>\n",
       "    </tr>\n",
       "    <tr>\n",
       "      <th>7</th>\n",
       "      <td>2014</td>\n",
       "      <td>24.00</td>\n",
       "      <td>76.00</td>\n",
       "    </tr>\n",
       "    <tr>\n",
       "      <th>8</th>\n",
       "      <td>2015</td>\n",
       "      <td>34.09</td>\n",
       "      <td>65.91</td>\n",
       "    </tr>\n",
       "    <tr>\n",
       "      <th>9</th>\n",
       "      <td>2016</td>\n",
       "      <td>41.76</td>\n",
       "      <td>58.24</td>\n",
       "    </tr>\n",
       "    <tr>\n",
       "      <th>10</th>\n",
       "      <td>2017</td>\n",
       "      <td>29.47</td>\n",
       "      <td>70.53</td>\n",
       "    </tr>\n",
       "    <tr>\n",
       "      <th>11</th>\n",
       "      <td>2018</td>\n",
       "      <td>25.52</td>\n",
       "      <td>74.48</td>\n",
       "    </tr>\n",
       "    <tr>\n",
       "      <th>12</th>\n",
       "      <td>2019</td>\n",
       "      <td>30.47</td>\n",
       "      <td>69.53</td>\n",
       "    </tr>\n",
       "    <tr>\n",
       "      <th>13</th>\n",
       "      <td>2020</td>\n",
       "      <td>34.69</td>\n",
       "      <td>65.31</td>\n",
       "    </tr>\n",
       "    <tr>\n",
       "      <th>14</th>\n",
       "      <td>2021</td>\n",
       "      <td>24.79</td>\n",
       "      <td>75.21</td>\n",
       "    </tr>\n",
       "  </tbody>\n",
       "</table>\n",
       "</div>"
      ],
      "text/plain": [
       "    Year  TV Shows %  Movies %\n",
       "1   2008       50.00     50.00\n",
       "2   2009        0.00    100.00\n",
       "3   2010        0.00    100.00\n",
       "4   2011        0.00    100.00\n",
       "5   2012        0.00    100.00\n",
       "6   2013       45.45     54.55\n",
       "7   2014       24.00     76.00\n",
       "8   2015       34.09     65.91\n",
       "9   2016       41.76     58.24\n",
       "10  2017       29.47     70.53\n",
       "11  2018       25.52     74.48\n",
       "12  2019       30.47     69.53\n",
       "13  2020       34.69     65.31\n",
       "14  2021       24.79     75.21"
      ]
     },
     "execution_count": 34,
     "metadata": {},
     "output_type": "execute_result"
    }
   ],
   "source": [
    "counts_by_year_percentage"
   ]
  },
  {
   "cell_type": "code",
   "execution_count": 35,
   "metadata": {},
   "outputs": [
    {
     "data": {
      "application/vnd.plotly.v1+json": {
       "config": {
        "plotlyServerURL": "https://plot.ly"
       },
       "data": [
        {
         "marker": {
          "color": "rgba(128,128,64, 0.6)"
         },
         "name": "TV Shows %",
         "type": "bar",
         "x": [
          2008,
          2009,
          2010,
          2011,
          2012,
          2013,
          2014,
          2015,
          2016,
          2017,
          2018,
          2019,
          2020,
          2021
         ],
         "y": [
          50,
          0,
          0,
          0,
          0,
          45.45,
          24,
          34.09,
          41.76,
          29.47,
          25.52,
          30.47,
          34.69,
          24.79
         ]
        },
        {
         "marker": {
          "color": "rgba(255,0,0, 0.6)"
         },
         "name": "Movies %",
         "type": "bar",
         "x": [
          2008,
          2009,
          2010,
          2011,
          2012,
          2013,
          2014,
          2015,
          2016,
          2017,
          2018,
          2019,
          2020,
          2021
         ],
         "y": [
          50,
          100,
          100,
          100,
          100,
          54.55,
          76,
          65.91,
          58.24,
          70.53,
          74.48,
          69.53,
          65.31,
          75.21
         ]
        }
       ],
       "layout": {
        "autosize": false,
        "barmode": "stack",
        "paper_bgcolor": "rgba(0,0,0,0)",
        "plot_bgcolor": "rgba(0,0,0,0)",
        "template": {
         "data": {
          "bar": [
           {
            "error_x": {
             "color": "#2a3f5f"
            },
            "error_y": {
             "color": "#2a3f5f"
            },
            "marker": {
             "line": {
              "color": "#E5ECF6",
              "width": 0.5
             }
            },
            "type": "bar"
           }
          ],
          "barpolar": [
           {
            "marker": {
             "line": {
              "color": "#E5ECF6",
              "width": 0.5
             }
            },
            "type": "barpolar"
           }
          ],
          "carpet": [
           {
            "aaxis": {
             "endlinecolor": "#2a3f5f",
             "gridcolor": "white",
             "linecolor": "white",
             "minorgridcolor": "white",
             "startlinecolor": "#2a3f5f"
            },
            "baxis": {
             "endlinecolor": "#2a3f5f",
             "gridcolor": "white",
             "linecolor": "white",
             "minorgridcolor": "white",
             "startlinecolor": "#2a3f5f"
            },
            "type": "carpet"
           }
          ],
          "choropleth": [
           {
            "colorbar": {
             "outlinewidth": 0,
             "ticks": ""
            },
            "type": "choropleth"
           }
          ],
          "contour": [
           {
            "colorbar": {
             "outlinewidth": 0,
             "ticks": ""
            },
            "colorscale": [
             [
              0,
              "#0d0887"
             ],
             [
              0.1111111111111111,
              "#46039f"
             ],
             [
              0.2222222222222222,
              "#7201a8"
             ],
             [
              0.3333333333333333,
              "#9c179e"
             ],
             [
              0.4444444444444444,
              "#bd3786"
             ],
             [
              0.5555555555555556,
              "#d8576b"
             ],
             [
              0.6666666666666666,
              "#ed7953"
             ],
             [
              0.7777777777777778,
              "#fb9f3a"
             ],
             [
              0.8888888888888888,
              "#fdca26"
             ],
             [
              1,
              "#f0f921"
             ]
            ],
            "type": "contour"
           }
          ],
          "contourcarpet": [
           {
            "colorbar": {
             "outlinewidth": 0,
             "ticks": ""
            },
            "type": "contourcarpet"
           }
          ],
          "heatmap": [
           {
            "colorbar": {
             "outlinewidth": 0,
             "ticks": ""
            },
            "colorscale": [
             [
              0,
              "#0d0887"
             ],
             [
              0.1111111111111111,
              "#46039f"
             ],
             [
              0.2222222222222222,
              "#7201a8"
             ],
             [
              0.3333333333333333,
              "#9c179e"
             ],
             [
              0.4444444444444444,
              "#bd3786"
             ],
             [
              0.5555555555555556,
              "#d8576b"
             ],
             [
              0.6666666666666666,
              "#ed7953"
             ],
             [
              0.7777777777777778,
              "#fb9f3a"
             ],
             [
              0.8888888888888888,
              "#fdca26"
             ],
             [
              1,
              "#f0f921"
             ]
            ],
            "type": "heatmap"
           }
          ],
          "heatmapgl": [
           {
            "colorbar": {
             "outlinewidth": 0,
             "ticks": ""
            },
            "colorscale": [
             [
              0,
              "#0d0887"
             ],
             [
              0.1111111111111111,
              "#46039f"
             ],
             [
              0.2222222222222222,
              "#7201a8"
             ],
             [
              0.3333333333333333,
              "#9c179e"
             ],
             [
              0.4444444444444444,
              "#bd3786"
             ],
             [
              0.5555555555555556,
              "#d8576b"
             ],
             [
              0.6666666666666666,
              "#ed7953"
             ],
             [
              0.7777777777777778,
              "#fb9f3a"
             ],
             [
              0.8888888888888888,
              "#fdca26"
             ],
             [
              1,
              "#f0f921"
             ]
            ],
            "type": "heatmapgl"
           }
          ],
          "histogram": [
           {
            "marker": {
             "colorbar": {
              "outlinewidth": 0,
              "ticks": ""
             }
            },
            "type": "histogram"
           }
          ],
          "histogram2d": [
           {
            "colorbar": {
             "outlinewidth": 0,
             "ticks": ""
            },
            "colorscale": [
             [
              0,
              "#0d0887"
             ],
             [
              0.1111111111111111,
              "#46039f"
             ],
             [
              0.2222222222222222,
              "#7201a8"
             ],
             [
              0.3333333333333333,
              "#9c179e"
             ],
             [
              0.4444444444444444,
              "#bd3786"
             ],
             [
              0.5555555555555556,
              "#d8576b"
             ],
             [
              0.6666666666666666,
              "#ed7953"
             ],
             [
              0.7777777777777778,
              "#fb9f3a"
             ],
             [
              0.8888888888888888,
              "#fdca26"
             ],
             [
              1,
              "#f0f921"
             ]
            ],
            "type": "histogram2d"
           }
          ],
          "histogram2dcontour": [
           {
            "colorbar": {
             "outlinewidth": 0,
             "ticks": ""
            },
            "colorscale": [
             [
              0,
              "#0d0887"
             ],
             [
              0.1111111111111111,
              "#46039f"
             ],
             [
              0.2222222222222222,
              "#7201a8"
             ],
             [
              0.3333333333333333,
              "#9c179e"
             ],
             [
              0.4444444444444444,
              "#bd3786"
             ],
             [
              0.5555555555555556,
              "#d8576b"
             ],
             [
              0.6666666666666666,
              "#ed7953"
             ],
             [
              0.7777777777777778,
              "#fb9f3a"
             ],
             [
              0.8888888888888888,
              "#fdca26"
             ],
             [
              1,
              "#f0f921"
             ]
            ],
            "type": "histogram2dcontour"
           }
          ],
          "mesh3d": [
           {
            "colorbar": {
             "outlinewidth": 0,
             "ticks": ""
            },
            "type": "mesh3d"
           }
          ],
          "parcoords": [
           {
            "line": {
             "colorbar": {
              "outlinewidth": 0,
              "ticks": ""
             }
            },
            "type": "parcoords"
           }
          ],
          "pie": [
           {
            "automargin": true,
            "type": "pie"
           }
          ],
          "scatter": [
           {
            "marker": {
             "colorbar": {
              "outlinewidth": 0,
              "ticks": ""
             }
            },
            "type": "scatter"
           }
          ],
          "scatter3d": [
           {
            "line": {
             "colorbar": {
              "outlinewidth": 0,
              "ticks": ""
             }
            },
            "marker": {
             "colorbar": {
              "outlinewidth": 0,
              "ticks": ""
             }
            },
            "type": "scatter3d"
           }
          ],
          "scattercarpet": [
           {
            "marker": {
             "colorbar": {
              "outlinewidth": 0,
              "ticks": ""
             }
            },
            "type": "scattercarpet"
           }
          ],
          "scattergeo": [
           {
            "marker": {
             "colorbar": {
              "outlinewidth": 0,
              "ticks": ""
             }
            },
            "type": "scattergeo"
           }
          ],
          "scattergl": [
           {
            "marker": {
             "colorbar": {
              "outlinewidth": 0,
              "ticks": ""
             }
            },
            "type": "scattergl"
           }
          ],
          "scattermapbox": [
           {
            "marker": {
             "colorbar": {
              "outlinewidth": 0,
              "ticks": ""
             }
            },
            "type": "scattermapbox"
           }
          ],
          "scatterpolar": [
           {
            "marker": {
             "colorbar": {
              "outlinewidth": 0,
              "ticks": ""
             }
            },
            "type": "scatterpolar"
           }
          ],
          "scatterpolargl": [
           {
            "marker": {
             "colorbar": {
              "outlinewidth": 0,
              "ticks": ""
             }
            },
            "type": "scatterpolargl"
           }
          ],
          "scatterternary": [
           {
            "marker": {
             "colorbar": {
              "outlinewidth": 0,
              "ticks": ""
             }
            },
            "type": "scatterternary"
           }
          ],
          "surface": [
           {
            "colorbar": {
             "outlinewidth": 0,
             "ticks": ""
            },
            "colorscale": [
             [
              0,
              "#0d0887"
             ],
             [
              0.1111111111111111,
              "#46039f"
             ],
             [
              0.2222222222222222,
              "#7201a8"
             ],
             [
              0.3333333333333333,
              "#9c179e"
             ],
             [
              0.4444444444444444,
              "#bd3786"
             ],
             [
              0.5555555555555556,
              "#d8576b"
             ],
             [
              0.6666666666666666,
              "#ed7953"
             ],
             [
              0.7777777777777778,
              "#fb9f3a"
             ],
             [
              0.8888888888888888,
              "#fdca26"
             ],
             [
              1,
              "#f0f921"
             ]
            ],
            "type": "surface"
           }
          ],
          "table": [
           {
            "cells": {
             "fill": {
              "color": "#EBF0F8"
             },
             "line": {
              "color": "white"
             }
            },
            "header": {
             "fill": {
              "color": "#C8D4E3"
             },
             "line": {
              "color": "white"
             }
            },
            "type": "table"
           }
          ]
         },
         "layout": {
          "annotationdefaults": {
           "arrowcolor": "#2a3f5f",
           "arrowhead": 0,
           "arrowwidth": 1
          },
          "autotypenumbers": "strict",
          "coloraxis": {
           "colorbar": {
            "outlinewidth": 0,
            "ticks": ""
           }
          },
          "colorscale": {
           "diverging": [
            [
             0,
             "#8e0152"
            ],
            [
             0.1,
             "#c51b7d"
            ],
            [
             0.2,
             "#de77ae"
            ],
            [
             0.3,
             "#f1b6da"
            ],
            [
             0.4,
             "#fde0ef"
            ],
            [
             0.5,
             "#f7f7f7"
            ],
            [
             0.6,
             "#e6f5d0"
            ],
            [
             0.7,
             "#b8e186"
            ],
            [
             0.8,
             "#7fbc41"
            ],
            [
             0.9,
             "#4d9221"
            ],
            [
             1,
             "#276419"
            ]
           ],
           "sequential": [
            [
             0,
             "#0d0887"
            ],
            [
             0.1111111111111111,
             "#46039f"
            ],
            [
             0.2222222222222222,
             "#7201a8"
            ],
            [
             0.3333333333333333,
             "#9c179e"
            ],
            [
             0.4444444444444444,
             "#bd3786"
            ],
            [
             0.5555555555555556,
             "#d8576b"
            ],
            [
             0.6666666666666666,
             "#ed7953"
            ],
            [
             0.7777777777777778,
             "#fb9f3a"
            ],
            [
             0.8888888888888888,
             "#fdca26"
            ],
            [
             1,
             "#f0f921"
            ]
           ],
           "sequentialminus": [
            [
             0,
             "#0d0887"
            ],
            [
             0.1111111111111111,
             "#46039f"
            ],
            [
             0.2222222222222222,
             "#7201a8"
            ],
            [
             0.3333333333333333,
             "#9c179e"
            ],
            [
             0.4444444444444444,
             "#bd3786"
            ],
            [
             0.5555555555555556,
             "#d8576b"
            ],
            [
             0.6666666666666666,
             "#ed7953"
            ],
            [
             0.7777777777777778,
             "#fb9f3a"
            ],
            [
             0.8888888888888888,
             "#fdca26"
            ],
            [
             1,
             "#f0f921"
            ]
           ]
          },
          "colorway": [
           "#636efa",
           "#EF553B",
           "#00cc96",
           "#ab63fa",
           "#FFA15A",
           "#19d3f3",
           "#FF6692",
           "#B6E880",
           "#FF97FF",
           "#FECB52"
          ],
          "font": {
           "color": "#2a3f5f"
          },
          "geo": {
           "bgcolor": "white",
           "lakecolor": "white",
           "landcolor": "#E5ECF6",
           "showlakes": true,
           "showland": true,
           "subunitcolor": "white"
          },
          "hoverlabel": {
           "align": "left"
          },
          "hovermode": "closest",
          "mapbox": {
           "style": "light"
          },
          "paper_bgcolor": "white",
          "plot_bgcolor": "#E5ECF6",
          "polar": {
           "angularaxis": {
            "gridcolor": "white",
            "linecolor": "white",
            "ticks": ""
           },
           "bgcolor": "#E5ECF6",
           "radialaxis": {
            "gridcolor": "white",
            "linecolor": "white",
            "ticks": ""
           }
          },
          "scene": {
           "xaxis": {
            "backgroundcolor": "#E5ECF6",
            "gridcolor": "white",
            "gridwidth": 2,
            "linecolor": "white",
            "showbackground": true,
            "ticks": "",
            "zerolinecolor": "white"
           },
           "yaxis": {
            "backgroundcolor": "#E5ECF6",
            "gridcolor": "white",
            "gridwidth": 2,
            "linecolor": "white",
            "showbackground": true,
            "ticks": "",
            "zerolinecolor": "white"
           },
           "zaxis": {
            "backgroundcolor": "#E5ECF6",
            "gridcolor": "white",
            "gridwidth": 2,
            "linecolor": "white",
            "showbackground": true,
            "ticks": "",
            "zerolinecolor": "white"
           }
          },
          "shapedefaults": {
           "line": {
            "color": "#2a3f5f"
           }
          },
          "ternary": {
           "aaxis": {
            "gridcolor": "white",
            "linecolor": "white",
            "ticks": ""
           },
           "baxis": {
            "gridcolor": "white",
            "linecolor": "white",
            "ticks": ""
           },
           "bgcolor": "#E5ECF6",
           "caxis": {
            "gridcolor": "white",
            "linecolor": "white",
            "ticks": ""
           }
          },
          "title": {
           "x": 0.05
          },
          "xaxis": {
           "automargin": true,
           "gridcolor": "white",
           "linecolor": "white",
           "ticks": "",
           "title": {
            "standoff": 15
           },
           "zerolinecolor": "white",
           "zerolinewidth": 2
          },
          "yaxis": {
           "automargin": true,
           "gridcolor": "white",
           "linecolor": "white",
           "ticks": "",
           "title": {
            "standoff": 15
           },
           "zerolinecolor": "white",
           "zerolinewidth": 2
          }
         }
        },
        "title": {
         "text": "Total Netflix productions %",
         "x": 0.5,
         "xanchor": "center",
         "y": 0.85,
         "yanchor": "top"
        },
        "yaxis": {
         "tickmode": "array",
         "ticktext": [
          "0%",
          "20%",
          "40%",
          "60%",
          "80%",
          "100%"
         ],
         "tickvals": [
          0,
          20,
          40,
          60,
          80,
          100
         ],
         "title": {
          "font": {
           "size": 16
          },
          "text": "Productions added %"
         }
        }
       }
      },
      "text/html": [
       "<div>                            <div id=\"1704e8d7-0bda-4086-af2c-c10be8f32618\" class=\"plotly-graph-div\" style=\"height:525px; width:100%;\"></div>            <script type=\"text/javascript\">                require([\"plotly\"], function(Plotly) {                    window.PLOTLYENV=window.PLOTLYENV || {};                                    if (document.getElementById(\"1704e8d7-0bda-4086-af2c-c10be8f32618\")) {                    Plotly.newPlot(                        \"1704e8d7-0bda-4086-af2c-c10be8f32618\",                        [{\"marker\": {\"color\": \"rgba(128,128,64, 0.6)\"}, \"name\": \"TV Shows %\", \"type\": \"bar\", \"x\": [2008, 2009, 2010, 2011, 2012, 2013, 2014, 2015, 2016, 2017, 2018, 2019, 2020, 2021], \"y\": [50.0, 0.0, 0.0, 0.0, 0.0, 45.45, 24.0, 34.09, 41.76, 29.47, 25.52, 30.47, 34.69, 24.79]}, {\"marker\": {\"color\": \"rgba(255,0,0, 0.6)\"}, \"name\": \"Movies %\", \"type\": \"bar\", \"x\": [2008, 2009, 2010, 2011, 2012, 2013, 2014, 2015, 2016, 2017, 2018, 2019, 2020, 2021], \"y\": [50.0, 100.0, 100.0, 100.0, 100.0, 54.55, 76.0, 65.91, 58.24, 70.53, 74.48, 69.53, 65.31, 75.21]}],                        {\"autosize\": false, \"barmode\": \"stack\", \"paper_bgcolor\": \"rgba(0,0,0,0)\", \"plot_bgcolor\": \"rgba(0,0,0,0)\", \"template\": {\"data\": {\"bar\": [{\"error_x\": {\"color\": \"#2a3f5f\"}, \"error_y\": {\"color\": \"#2a3f5f\"}, \"marker\": {\"line\": {\"color\": \"#E5ECF6\", \"width\": 0.5}}, \"type\": \"bar\"}], \"barpolar\": [{\"marker\": {\"line\": {\"color\": \"#E5ECF6\", \"width\": 0.5}}, \"type\": \"barpolar\"}], \"carpet\": [{\"aaxis\": {\"endlinecolor\": \"#2a3f5f\", \"gridcolor\": \"white\", \"linecolor\": \"white\", \"minorgridcolor\": \"white\", \"startlinecolor\": \"#2a3f5f\"}, \"baxis\": {\"endlinecolor\": \"#2a3f5f\", \"gridcolor\": \"white\", \"linecolor\": \"white\", \"minorgridcolor\": \"white\", \"startlinecolor\": \"#2a3f5f\"}, \"type\": \"carpet\"}], \"choropleth\": [{\"colorbar\": {\"outlinewidth\": 0, \"ticks\": \"\"}, \"type\": \"choropleth\"}], \"contour\": [{\"colorbar\": {\"outlinewidth\": 0, \"ticks\": \"\"}, \"colorscale\": [[0.0, \"#0d0887\"], [0.1111111111111111, \"#46039f\"], [0.2222222222222222, \"#7201a8\"], [0.3333333333333333, \"#9c179e\"], [0.4444444444444444, \"#bd3786\"], [0.5555555555555556, \"#d8576b\"], [0.6666666666666666, \"#ed7953\"], [0.7777777777777778, \"#fb9f3a\"], [0.8888888888888888, \"#fdca26\"], [1.0, \"#f0f921\"]], \"type\": \"contour\"}], \"contourcarpet\": [{\"colorbar\": {\"outlinewidth\": 0, \"ticks\": \"\"}, \"type\": \"contourcarpet\"}], \"heatmap\": [{\"colorbar\": {\"outlinewidth\": 0, \"ticks\": \"\"}, \"colorscale\": [[0.0, \"#0d0887\"], [0.1111111111111111, \"#46039f\"], [0.2222222222222222, \"#7201a8\"], [0.3333333333333333, \"#9c179e\"], [0.4444444444444444, \"#bd3786\"], [0.5555555555555556, \"#d8576b\"], [0.6666666666666666, \"#ed7953\"], [0.7777777777777778, \"#fb9f3a\"], [0.8888888888888888, \"#fdca26\"], [1.0, \"#f0f921\"]], \"type\": \"heatmap\"}], \"heatmapgl\": [{\"colorbar\": {\"outlinewidth\": 0, \"ticks\": \"\"}, \"colorscale\": [[0.0, \"#0d0887\"], [0.1111111111111111, \"#46039f\"], [0.2222222222222222, \"#7201a8\"], [0.3333333333333333, \"#9c179e\"], [0.4444444444444444, \"#bd3786\"], [0.5555555555555556, \"#d8576b\"], [0.6666666666666666, \"#ed7953\"], [0.7777777777777778, \"#fb9f3a\"], [0.8888888888888888, \"#fdca26\"], [1.0, \"#f0f921\"]], \"type\": \"heatmapgl\"}], \"histogram\": [{\"marker\": {\"colorbar\": {\"outlinewidth\": 0, \"ticks\": \"\"}}, \"type\": \"histogram\"}], \"histogram2d\": [{\"colorbar\": {\"outlinewidth\": 0, \"ticks\": \"\"}, \"colorscale\": [[0.0, \"#0d0887\"], [0.1111111111111111, \"#46039f\"], [0.2222222222222222, \"#7201a8\"], [0.3333333333333333, \"#9c179e\"], [0.4444444444444444, \"#bd3786\"], [0.5555555555555556, \"#d8576b\"], [0.6666666666666666, \"#ed7953\"], [0.7777777777777778, \"#fb9f3a\"], [0.8888888888888888, \"#fdca26\"], [1.0, \"#f0f921\"]], \"type\": \"histogram2d\"}], \"histogram2dcontour\": [{\"colorbar\": {\"outlinewidth\": 0, \"ticks\": \"\"}, \"colorscale\": [[0.0, \"#0d0887\"], [0.1111111111111111, \"#46039f\"], [0.2222222222222222, \"#7201a8\"], [0.3333333333333333, \"#9c179e\"], [0.4444444444444444, \"#bd3786\"], [0.5555555555555556, \"#d8576b\"], [0.6666666666666666, \"#ed7953\"], [0.7777777777777778, \"#fb9f3a\"], [0.8888888888888888, \"#fdca26\"], [1.0, \"#f0f921\"]], \"type\": \"histogram2dcontour\"}], \"mesh3d\": [{\"colorbar\": {\"outlinewidth\": 0, \"ticks\": \"\"}, \"type\": \"mesh3d\"}], \"parcoords\": [{\"line\": {\"colorbar\": {\"outlinewidth\": 0, \"ticks\": \"\"}}, \"type\": \"parcoords\"}], \"pie\": [{\"automargin\": true, \"type\": \"pie\"}], \"scatter\": [{\"marker\": {\"colorbar\": {\"outlinewidth\": 0, \"ticks\": \"\"}}, \"type\": \"scatter\"}], \"scatter3d\": [{\"line\": {\"colorbar\": {\"outlinewidth\": 0, \"ticks\": \"\"}}, \"marker\": {\"colorbar\": {\"outlinewidth\": 0, \"ticks\": \"\"}}, \"type\": \"scatter3d\"}], \"scattercarpet\": [{\"marker\": {\"colorbar\": {\"outlinewidth\": 0, \"ticks\": \"\"}}, \"type\": \"scattercarpet\"}], \"scattergeo\": [{\"marker\": {\"colorbar\": {\"outlinewidth\": 0, \"ticks\": \"\"}}, \"type\": \"scattergeo\"}], \"scattergl\": [{\"marker\": {\"colorbar\": {\"outlinewidth\": 0, \"ticks\": \"\"}}, \"type\": \"scattergl\"}], \"scattermapbox\": [{\"marker\": {\"colorbar\": {\"outlinewidth\": 0, \"ticks\": \"\"}}, \"type\": \"scattermapbox\"}], \"scatterpolar\": [{\"marker\": {\"colorbar\": {\"outlinewidth\": 0, \"ticks\": \"\"}}, \"type\": \"scatterpolar\"}], \"scatterpolargl\": [{\"marker\": {\"colorbar\": {\"outlinewidth\": 0, \"ticks\": \"\"}}, \"type\": \"scatterpolargl\"}], \"scatterternary\": [{\"marker\": {\"colorbar\": {\"outlinewidth\": 0, \"ticks\": \"\"}}, \"type\": \"scatterternary\"}], \"surface\": [{\"colorbar\": {\"outlinewidth\": 0, \"ticks\": \"\"}, \"colorscale\": [[0.0, \"#0d0887\"], [0.1111111111111111, \"#46039f\"], [0.2222222222222222, \"#7201a8\"], [0.3333333333333333, \"#9c179e\"], [0.4444444444444444, \"#bd3786\"], [0.5555555555555556, \"#d8576b\"], [0.6666666666666666, \"#ed7953\"], [0.7777777777777778, \"#fb9f3a\"], [0.8888888888888888, \"#fdca26\"], [1.0, \"#f0f921\"]], \"type\": \"surface\"}], \"table\": [{\"cells\": {\"fill\": {\"color\": \"#EBF0F8\"}, \"line\": {\"color\": \"white\"}}, \"header\": {\"fill\": {\"color\": \"#C8D4E3\"}, \"line\": {\"color\": \"white\"}}, \"type\": \"table\"}]}, \"layout\": {\"annotationdefaults\": {\"arrowcolor\": \"#2a3f5f\", \"arrowhead\": 0, \"arrowwidth\": 1}, \"autotypenumbers\": \"strict\", \"coloraxis\": {\"colorbar\": {\"outlinewidth\": 0, \"ticks\": \"\"}}, \"colorscale\": {\"diverging\": [[0, \"#8e0152\"], [0.1, \"#c51b7d\"], [0.2, \"#de77ae\"], [0.3, \"#f1b6da\"], [0.4, \"#fde0ef\"], [0.5, \"#f7f7f7\"], [0.6, \"#e6f5d0\"], [0.7, \"#b8e186\"], [0.8, \"#7fbc41\"], [0.9, \"#4d9221\"], [1, \"#276419\"]], \"sequential\": [[0.0, \"#0d0887\"], [0.1111111111111111, \"#46039f\"], [0.2222222222222222, \"#7201a8\"], [0.3333333333333333, \"#9c179e\"], [0.4444444444444444, \"#bd3786\"], [0.5555555555555556, \"#d8576b\"], [0.6666666666666666, \"#ed7953\"], [0.7777777777777778, \"#fb9f3a\"], [0.8888888888888888, \"#fdca26\"], [1.0, \"#f0f921\"]], \"sequentialminus\": [[0.0, \"#0d0887\"], [0.1111111111111111, \"#46039f\"], [0.2222222222222222, \"#7201a8\"], [0.3333333333333333, \"#9c179e\"], [0.4444444444444444, \"#bd3786\"], [0.5555555555555556, \"#d8576b\"], [0.6666666666666666, \"#ed7953\"], [0.7777777777777778, \"#fb9f3a\"], [0.8888888888888888, \"#fdca26\"], [1.0, \"#f0f921\"]]}, \"colorway\": [\"#636efa\", \"#EF553B\", \"#00cc96\", \"#ab63fa\", \"#FFA15A\", \"#19d3f3\", \"#FF6692\", \"#B6E880\", \"#FF97FF\", \"#FECB52\"], \"font\": {\"color\": \"#2a3f5f\"}, \"geo\": {\"bgcolor\": \"white\", \"lakecolor\": \"white\", \"landcolor\": \"#E5ECF6\", \"showlakes\": true, \"showland\": true, \"subunitcolor\": \"white\"}, \"hoverlabel\": {\"align\": \"left\"}, \"hovermode\": \"closest\", \"mapbox\": {\"style\": \"light\"}, \"paper_bgcolor\": \"white\", \"plot_bgcolor\": \"#E5ECF6\", \"polar\": {\"angularaxis\": {\"gridcolor\": \"white\", \"linecolor\": \"white\", \"ticks\": \"\"}, \"bgcolor\": \"#E5ECF6\", \"radialaxis\": {\"gridcolor\": \"white\", \"linecolor\": \"white\", \"ticks\": \"\"}}, \"scene\": {\"xaxis\": {\"backgroundcolor\": \"#E5ECF6\", \"gridcolor\": \"white\", \"gridwidth\": 2, \"linecolor\": \"white\", \"showbackground\": true, \"ticks\": \"\", \"zerolinecolor\": \"white\"}, \"yaxis\": {\"backgroundcolor\": \"#E5ECF6\", \"gridcolor\": \"white\", \"gridwidth\": 2, \"linecolor\": \"white\", \"showbackground\": true, \"ticks\": \"\", \"zerolinecolor\": \"white\"}, \"zaxis\": {\"backgroundcolor\": \"#E5ECF6\", \"gridcolor\": \"white\", \"gridwidth\": 2, \"linecolor\": \"white\", \"showbackground\": true, \"ticks\": \"\", \"zerolinecolor\": \"white\"}}, \"shapedefaults\": {\"line\": {\"color\": \"#2a3f5f\"}}, \"ternary\": {\"aaxis\": {\"gridcolor\": \"white\", \"linecolor\": \"white\", \"ticks\": \"\"}, \"baxis\": {\"gridcolor\": \"white\", \"linecolor\": \"white\", \"ticks\": \"\"}, \"bgcolor\": \"#E5ECF6\", \"caxis\": {\"gridcolor\": \"white\", \"linecolor\": \"white\", \"ticks\": \"\"}}, \"title\": {\"x\": 0.05}, \"xaxis\": {\"automargin\": true, \"gridcolor\": \"white\", \"linecolor\": \"white\", \"ticks\": \"\", \"title\": {\"standoff\": 15}, \"zerolinecolor\": \"white\", \"zerolinewidth\": 2}, \"yaxis\": {\"automargin\": true, \"gridcolor\": \"white\", \"linecolor\": \"white\", \"ticks\": \"\", \"title\": {\"standoff\": 15}, \"zerolinecolor\": \"white\", \"zerolinewidth\": 2}}}, \"title\": {\"text\": \"Total Netflix productions %\", \"x\": 0.5, \"xanchor\": \"center\", \"y\": 0.85, \"yanchor\": \"top\"}, \"yaxis\": {\"tickmode\": \"array\", \"ticktext\": [\"0%\", \"20%\", \"40%\", \"60%\", \"80%\", \"100%\"], \"tickvals\": [0, 20, 40, 60, 80, 100], \"title\": {\"font\": {\"size\": 16}, \"text\": \"Productions added %\"}}},                        {\"responsive\": true}                    ).then(function(){\n",
       "                            \n",
       "var gd = document.getElementById('1704e8d7-0bda-4086-af2c-c10be8f32618');\n",
       "var x = new MutationObserver(function (mutations, observer) {{\n",
       "        var display = window.getComputedStyle(gd).display;\n",
       "        if (!display || display === 'none') {{\n",
       "            console.log([gd, 'removed!']);\n",
       "            Plotly.purge(gd);\n",
       "            observer.disconnect();\n",
       "        }}\n",
       "}});\n",
       "\n",
       "// Listen for the removal of the full notebook cells\n",
       "var notebookContainer = gd.closest('#notebook-container');\n",
       "if (notebookContainer) {{\n",
       "    x.observe(notebookContainer, {childList: true});\n",
       "}}\n",
       "\n",
       "// Listen for the clearing of the current output cell\n",
       "var outputEl = gd.closest('.output');\n",
       "if (outputEl) {{\n",
       "    x.observe(outputEl, {childList: true});\n",
       "}}\n",
       "\n",
       "                        })                };                });            </script>        </div>"
      ]
     },
     "metadata": {},
     "output_type": "display_data"
    }
   ],
   "source": [
    "fig = go.Figure()\n",
    "fig.add_trace(\n",
    "    go.Bar(y=counts_by_year_percentage[\"TV Shows %\"],\n",
    "           x=counts_by_year_percentage.Year,\n",
    "           name=\"TV Shows %\",\n",
    "           marker={\"color\": 'rgba(128,128,64, 0.6)'}))\n",
    "fig.add_trace(\n",
    "    go.Bar(y=counts_by_year_percentage[\"Movies %\"],\n",
    "           x=counts_by_year_percentage.Year,\n",
    "           name=\"Movies %\",\n",
    "           marker={\"color\": 'rgba(255,0,0, 0.6)'}))\n",
    "\n",
    "fig.update_layout(yaxis={\n",
    "    \"title_text\": \"Productions added %\",\n",
    "    \"ticktext\": [\"0%\", \"20%\", \"40%\", \"60%\", \"80%\", \"100%\"],\n",
    "    \"tickvals\": [0, 20, 40, 60, 80, 100],\n",
    "    \"tickmode\": \"array\",\n",
    "    \"titlefont\": {\n",
    "        \"size\": 16\n",
    "    },\n",
    "},\n",
    "                  autosize=False,\n",
    "                  paper_bgcolor='rgba(0,0,0,0)',\n",
    "                  plot_bgcolor='rgba(0,0,0,0)',\n",
    "                  title={\n",
    "                      'text': \"Total Netflix productions %\",\n",
    "                      'y': 0.85,\n",
    "                      'x': 0.5,\n",
    "                      'xanchor': 'center',\n",
    "                      'yanchor': 'top'\n",
    "                  },\n",
    "                  barmode='stack')\n",
    "fig.show()"
   ]
  },
  {
   "cell_type": "markdown",
   "metadata": {},
   "source": [
    "### 3. Average movie duration"
   ]
  },
  {
   "cell_type": "markdown",
   "metadata": {},
   "source": [
    "Extract productions that are of type movie"
   ]
  },
  {
   "cell_type": "code",
   "execution_count": 39,
   "metadata": {},
   "outputs": [
    {
     "data": {
      "text/html": [
       "<div>\n",
       "<style scoped>\n",
       "    .dataframe tbody tr th:only-of-type {\n",
       "        vertical-align: middle;\n",
       "    }\n",
       "\n",
       "    .dataframe tbody tr th {\n",
       "        vertical-align: top;\n",
       "    }\n",
       "\n",
       "    .dataframe thead th {\n",
       "        text-align: right;\n",
       "    }\n",
       "</style>\n",
       "<table border=\"1\" class=\"dataframe\">\n",
       "  <thead>\n",
       "    <tr style=\"text-align: right;\">\n",
       "      <th></th>\n",
       "      <th>show_id</th>\n",
       "      <th>type</th>\n",
       "      <th>title</th>\n",
       "      <th>director</th>\n",
       "      <th>cast</th>\n",
       "      <th>country</th>\n",
       "      <th>date_added</th>\n",
       "      <th>release_year</th>\n",
       "      <th>rating</th>\n",
       "      <th>duration</th>\n",
       "      <th>listed_in</th>\n",
       "      <th>description</th>\n",
       "    </tr>\n",
       "  </thead>\n",
       "  <tbody>\n",
       "    <tr>\n",
       "      <th>1</th>\n",
       "      <td>s2</td>\n",
       "      <td>Movie</td>\n",
       "      <td>7:19</td>\n",
       "      <td>Jorge Michel Grau</td>\n",
       "      <td>Demián Bichir, Héctor Bonilla, Oscar Serrano, ...</td>\n",
       "      <td>Mexico</td>\n",
       "      <td>December 23, 2016</td>\n",
       "      <td>2016</td>\n",
       "      <td>TV-MA</td>\n",
       "      <td>93 min</td>\n",
       "      <td>Dramas, International Movies</td>\n",
       "      <td>After a devastating earthquake hits Mexico Cit...</td>\n",
       "    </tr>\n",
       "    <tr>\n",
       "      <th>2</th>\n",
       "      <td>s3</td>\n",
       "      <td>Movie</td>\n",
       "      <td>23:59</td>\n",
       "      <td>Gilbert Chan</td>\n",
       "      <td>Tedd Chan, Stella Chung, Henley Hii, Lawrence ...</td>\n",
       "      <td>Singapore</td>\n",
       "      <td>December 20, 2018</td>\n",
       "      <td>2011</td>\n",
       "      <td>R</td>\n",
       "      <td>78 min</td>\n",
       "      <td>Horror Movies, International Movies</td>\n",
       "      <td>When an army recruit is found dead, his fellow...</td>\n",
       "    </tr>\n",
       "    <tr>\n",
       "      <th>3</th>\n",
       "      <td>s4</td>\n",
       "      <td>Movie</td>\n",
       "      <td>9</td>\n",
       "      <td>Shane Acker</td>\n",
       "      <td>Elijah Wood, John C. Reilly, Jennifer Connelly...</td>\n",
       "      <td>United States</td>\n",
       "      <td>November 16, 2017</td>\n",
       "      <td>2009</td>\n",
       "      <td>PG-13</td>\n",
       "      <td>80 min</td>\n",
       "      <td>Action &amp; Adventure, Independent Movies, Sci-Fi...</td>\n",
       "      <td>In a postapocalyptic world, rag-doll robots hi...</td>\n",
       "    </tr>\n",
       "    <tr>\n",
       "      <th>4</th>\n",
       "      <td>s5</td>\n",
       "      <td>Movie</td>\n",
       "      <td>21</td>\n",
       "      <td>Robert Luketic</td>\n",
       "      <td>Jim Sturgess, Kevin Spacey, Kate Bosworth, Aar...</td>\n",
       "      <td>United States</td>\n",
       "      <td>January 1, 2020</td>\n",
       "      <td>2008</td>\n",
       "      <td>PG-13</td>\n",
       "      <td>123 min</td>\n",
       "      <td>Dramas</td>\n",
       "      <td>A brilliant group of students become card-coun...</td>\n",
       "    </tr>\n",
       "    <tr>\n",
       "      <th>6</th>\n",
       "      <td>s7</td>\n",
       "      <td>Movie</td>\n",
       "      <td>122</td>\n",
       "      <td>Yasir Al Yasiri</td>\n",
       "      <td>Amina Khalil, Ahmed Dawood, Tarek Lotfy, Ahmed...</td>\n",
       "      <td>Egypt</td>\n",
       "      <td>June 1, 2020</td>\n",
       "      <td>2019</td>\n",
       "      <td>TV-MA</td>\n",
       "      <td>95 min</td>\n",
       "      <td>Horror Movies, International Movies</td>\n",
       "      <td>After an awful accident, a couple admitted to ...</td>\n",
       "    </tr>\n",
       "    <tr>\n",
       "      <th>...</th>\n",
       "      <td>...</td>\n",
       "      <td>...</td>\n",
       "      <td>...</td>\n",
       "      <td>...</td>\n",
       "      <td>...</td>\n",
       "      <td>...</td>\n",
       "      <td>...</td>\n",
       "      <td>...</td>\n",
       "      <td>...</td>\n",
       "      <td>...</td>\n",
       "      <td>...</td>\n",
       "      <td>...</td>\n",
       "    </tr>\n",
       "    <tr>\n",
       "      <th>7781</th>\n",
       "      <td>s7782</td>\n",
       "      <td>Movie</td>\n",
       "      <td>Zoom</td>\n",
       "      <td>Peter Hewitt</td>\n",
       "      <td>Tim Allen, Courteney Cox, Chevy Chase, Kate Ma...</td>\n",
       "      <td>United States</td>\n",
       "      <td>January 11, 2020</td>\n",
       "      <td>2006</td>\n",
       "      <td>PG</td>\n",
       "      <td>88 min</td>\n",
       "      <td>Children &amp; Family Movies, Comedies</td>\n",
       "      <td>Dragged from civilian life, a former superhero...</td>\n",
       "    </tr>\n",
       "    <tr>\n",
       "      <th>7782</th>\n",
       "      <td>s7783</td>\n",
       "      <td>Movie</td>\n",
       "      <td>Zozo</td>\n",
       "      <td>Josef Fares</td>\n",
       "      <td>Imad Creidi, Antoinette Turk, Elias Gergi, Car...</td>\n",
       "      <td>Sweden, Czech Republic, United Kingdom, Denmar...</td>\n",
       "      <td>October 19, 2020</td>\n",
       "      <td>2005</td>\n",
       "      <td>TV-MA</td>\n",
       "      <td>99 min</td>\n",
       "      <td>Dramas, International Movies</td>\n",
       "      <td>When Lebanon's Civil War deprives Zozo of his ...</td>\n",
       "    </tr>\n",
       "    <tr>\n",
       "      <th>7783</th>\n",
       "      <td>s7784</td>\n",
       "      <td>Movie</td>\n",
       "      <td>Zubaan</td>\n",
       "      <td>Mozez Singh</td>\n",
       "      <td>Vicky Kaushal, Sarah-Jane Dias, Raaghav Chanan...</td>\n",
       "      <td>India</td>\n",
       "      <td>March 2, 2019</td>\n",
       "      <td>2015</td>\n",
       "      <td>TV-14</td>\n",
       "      <td>111 min</td>\n",
       "      <td>Dramas, International Movies, Music &amp; Musicals</td>\n",
       "      <td>A scrappy but poor boy worms his way into a ty...</td>\n",
       "    </tr>\n",
       "    <tr>\n",
       "      <th>7784</th>\n",
       "      <td>s7785</td>\n",
       "      <td>Movie</td>\n",
       "      <td>Zulu Man in Japan</td>\n",
       "      <td>NaN</td>\n",
       "      <td>Nasty C</td>\n",
       "      <td>NaN</td>\n",
       "      <td>September 25, 2020</td>\n",
       "      <td>2019</td>\n",
       "      <td>TV-MA</td>\n",
       "      <td>44 min</td>\n",
       "      <td>Documentaries, International Movies, Music &amp; M...</td>\n",
       "      <td>In this documentary, South African rapper Nast...</td>\n",
       "    </tr>\n",
       "    <tr>\n",
       "      <th>7786</th>\n",
       "      <td>s7787</td>\n",
       "      <td>Movie</td>\n",
       "      <td>ZZ TOP: THAT LITTLE OL' BAND FROM TEXAS</td>\n",
       "      <td>Sam Dunn</td>\n",
       "      <td>NaN</td>\n",
       "      <td>United Kingdom, Canada, United States</td>\n",
       "      <td>March 1, 2020</td>\n",
       "      <td>2019</td>\n",
       "      <td>TV-MA</td>\n",
       "      <td>90 min</td>\n",
       "      <td>Documentaries, Music &amp; Musicals</td>\n",
       "      <td>This documentary delves into the mystique behi...</td>\n",
       "    </tr>\n",
       "  </tbody>\n",
       "</table>\n",
       "<p>5377 rows × 12 columns</p>\n",
       "</div>"
      ],
      "text/plain": [
       "     show_id   type                                    title  \\\n",
       "1         s2  Movie                                     7:19   \n",
       "2         s3  Movie                                    23:59   \n",
       "3         s4  Movie                                        9   \n",
       "4         s5  Movie                                       21   \n",
       "6         s7  Movie                                      122   \n",
       "...      ...    ...                                      ...   \n",
       "7781   s7782  Movie                                     Zoom   \n",
       "7782   s7783  Movie                                     Zozo   \n",
       "7783   s7784  Movie                                   Zubaan   \n",
       "7784   s7785  Movie                        Zulu Man in Japan   \n",
       "7786   s7787  Movie  ZZ TOP: THAT LITTLE OL' BAND FROM TEXAS   \n",
       "\n",
       "               director                                               cast  \\\n",
       "1     Jorge Michel Grau  Demián Bichir, Héctor Bonilla, Oscar Serrano, ...   \n",
       "2          Gilbert Chan  Tedd Chan, Stella Chung, Henley Hii, Lawrence ...   \n",
       "3           Shane Acker  Elijah Wood, John C. Reilly, Jennifer Connelly...   \n",
       "4        Robert Luketic  Jim Sturgess, Kevin Spacey, Kate Bosworth, Aar...   \n",
       "6       Yasir Al Yasiri  Amina Khalil, Ahmed Dawood, Tarek Lotfy, Ahmed...   \n",
       "...                 ...                                                ...   \n",
       "7781       Peter Hewitt  Tim Allen, Courteney Cox, Chevy Chase, Kate Ma...   \n",
       "7782        Josef Fares  Imad Creidi, Antoinette Turk, Elias Gergi, Car...   \n",
       "7783        Mozez Singh  Vicky Kaushal, Sarah-Jane Dias, Raaghav Chanan...   \n",
       "7784                NaN                                            Nasty C   \n",
       "7786           Sam Dunn                                                NaN   \n",
       "\n",
       "                                                country          date_added  \\\n",
       "1                                                Mexico   December 23, 2016   \n",
       "2                                             Singapore   December 20, 2018   \n",
       "3                                         United States   November 16, 2017   \n",
       "4                                         United States     January 1, 2020   \n",
       "6                                                 Egypt        June 1, 2020   \n",
       "...                                                 ...                 ...   \n",
       "7781                                      United States    January 11, 2020   \n",
       "7782  Sweden, Czech Republic, United Kingdom, Denmar...    October 19, 2020   \n",
       "7783                                              India       March 2, 2019   \n",
       "7784                                                NaN  September 25, 2020   \n",
       "7786              United Kingdom, Canada, United States       March 1, 2020   \n",
       "\n",
       "      release_year rating duration  \\\n",
       "1             2016  TV-MA   93 min   \n",
       "2             2011      R   78 min   \n",
       "3             2009  PG-13   80 min   \n",
       "4             2008  PG-13  123 min   \n",
       "6             2019  TV-MA   95 min   \n",
       "...            ...    ...      ...   \n",
       "7781          2006     PG   88 min   \n",
       "7782          2005  TV-MA   99 min   \n",
       "7783          2015  TV-14  111 min   \n",
       "7784          2019  TV-MA   44 min   \n",
       "7786          2019  TV-MA   90 min   \n",
       "\n",
       "                                              listed_in  \\\n",
       "1                          Dramas, International Movies   \n",
       "2                   Horror Movies, International Movies   \n",
       "3     Action & Adventure, Independent Movies, Sci-Fi...   \n",
       "4                                                Dramas   \n",
       "6                   Horror Movies, International Movies   \n",
       "...                                                 ...   \n",
       "7781                 Children & Family Movies, Comedies   \n",
       "7782                       Dramas, International Movies   \n",
       "7783     Dramas, International Movies, Music & Musicals   \n",
       "7784  Documentaries, International Movies, Music & M...   \n",
       "7786                    Documentaries, Music & Musicals   \n",
       "\n",
       "                                            description  \n",
       "1     After a devastating earthquake hits Mexico Cit...  \n",
       "2     When an army recruit is found dead, his fellow...  \n",
       "3     In a postapocalyptic world, rag-doll robots hi...  \n",
       "4     A brilliant group of students become card-coun...  \n",
       "6     After an awful accident, a couple admitted to ...  \n",
       "...                                                 ...  \n",
       "7781  Dragged from civilian life, a former superhero...  \n",
       "7782  When Lebanon's Civil War deprives Zozo of his ...  \n",
       "7783  A scrappy but poor boy worms his way into a ty...  \n",
       "7784  In this documentary, South African rapper Nast...  \n",
       "7786  This documentary delves into the mystique behi...  \n",
       "\n",
       "[5377 rows x 12 columns]"
      ]
     },
     "execution_count": 39,
     "metadata": {},
     "output_type": "execute_result"
    }
   ],
   "source": [
    "movies = dataframe[dataframe['type'] == 'Movie'].copy()\n",
    "movies"
   ]
  },
  {
   "cell_type": "markdown",
   "metadata": {},
   "source": [
    "Convert the duration column from string `x min` to the number `x`"
   ]
  },
  {
   "cell_type": "code",
   "execution_count": 40,
   "metadata": {},
   "outputs": [
    {
     "data": {
      "text/html": [
       "<div>\n",
       "<style scoped>\n",
       "    .dataframe tbody tr th:only-of-type {\n",
       "        vertical-align: middle;\n",
       "    }\n",
       "\n",
       "    .dataframe tbody tr th {\n",
       "        vertical-align: top;\n",
       "    }\n",
       "\n",
       "    .dataframe thead th {\n",
       "        text-align: right;\n",
       "    }\n",
       "</style>\n",
       "<table border=\"1\" class=\"dataframe\">\n",
       "  <thead>\n",
       "    <tr style=\"text-align: right;\">\n",
       "      <th></th>\n",
       "      <th>show_id</th>\n",
       "      <th>type</th>\n",
       "      <th>title</th>\n",
       "      <th>director</th>\n",
       "      <th>cast</th>\n",
       "      <th>country</th>\n",
       "      <th>date_added</th>\n",
       "      <th>release_year</th>\n",
       "      <th>rating</th>\n",
       "      <th>duration</th>\n",
       "      <th>listed_in</th>\n",
       "      <th>description</th>\n",
       "    </tr>\n",
       "  </thead>\n",
       "  <tbody>\n",
       "    <tr>\n",
       "      <th>1</th>\n",
       "      <td>s2</td>\n",
       "      <td>Movie</td>\n",
       "      <td>7:19</td>\n",
       "      <td>Jorge Michel Grau</td>\n",
       "      <td>Demián Bichir, Héctor Bonilla, Oscar Serrano, ...</td>\n",
       "      <td>Mexico</td>\n",
       "      <td>December 23, 2016</td>\n",
       "      <td>2016</td>\n",
       "      <td>TV-MA</td>\n",
       "      <td>93</td>\n",
       "      <td>Dramas, International Movies</td>\n",
       "      <td>After a devastating earthquake hits Mexico Cit...</td>\n",
       "    </tr>\n",
       "    <tr>\n",
       "      <th>2</th>\n",
       "      <td>s3</td>\n",
       "      <td>Movie</td>\n",
       "      <td>23:59</td>\n",
       "      <td>Gilbert Chan</td>\n",
       "      <td>Tedd Chan, Stella Chung, Henley Hii, Lawrence ...</td>\n",
       "      <td>Singapore</td>\n",
       "      <td>December 20, 2018</td>\n",
       "      <td>2011</td>\n",
       "      <td>R</td>\n",
       "      <td>78</td>\n",
       "      <td>Horror Movies, International Movies</td>\n",
       "      <td>When an army recruit is found dead, his fellow...</td>\n",
       "    </tr>\n",
       "    <tr>\n",
       "      <th>3</th>\n",
       "      <td>s4</td>\n",
       "      <td>Movie</td>\n",
       "      <td>9</td>\n",
       "      <td>Shane Acker</td>\n",
       "      <td>Elijah Wood, John C. Reilly, Jennifer Connelly...</td>\n",
       "      <td>United States</td>\n",
       "      <td>November 16, 2017</td>\n",
       "      <td>2009</td>\n",
       "      <td>PG-13</td>\n",
       "      <td>80</td>\n",
       "      <td>Action &amp; Adventure, Independent Movies, Sci-Fi...</td>\n",
       "      <td>In a postapocalyptic world, rag-doll robots hi...</td>\n",
       "    </tr>\n",
       "    <tr>\n",
       "      <th>4</th>\n",
       "      <td>s5</td>\n",
       "      <td>Movie</td>\n",
       "      <td>21</td>\n",
       "      <td>Robert Luketic</td>\n",
       "      <td>Jim Sturgess, Kevin Spacey, Kate Bosworth, Aar...</td>\n",
       "      <td>United States</td>\n",
       "      <td>January 1, 2020</td>\n",
       "      <td>2008</td>\n",
       "      <td>PG-13</td>\n",
       "      <td>123</td>\n",
       "      <td>Dramas</td>\n",
       "      <td>A brilliant group of students become card-coun...</td>\n",
       "    </tr>\n",
       "    <tr>\n",
       "      <th>6</th>\n",
       "      <td>s7</td>\n",
       "      <td>Movie</td>\n",
       "      <td>122</td>\n",
       "      <td>Yasir Al Yasiri</td>\n",
       "      <td>Amina Khalil, Ahmed Dawood, Tarek Lotfy, Ahmed...</td>\n",
       "      <td>Egypt</td>\n",
       "      <td>June 1, 2020</td>\n",
       "      <td>2019</td>\n",
       "      <td>TV-MA</td>\n",
       "      <td>95</td>\n",
       "      <td>Horror Movies, International Movies</td>\n",
       "      <td>After an awful accident, a couple admitted to ...</td>\n",
       "    </tr>\n",
       "    <tr>\n",
       "      <th>...</th>\n",
       "      <td>...</td>\n",
       "      <td>...</td>\n",
       "      <td>...</td>\n",
       "      <td>...</td>\n",
       "      <td>...</td>\n",
       "      <td>...</td>\n",
       "      <td>...</td>\n",
       "      <td>...</td>\n",
       "      <td>...</td>\n",
       "      <td>...</td>\n",
       "      <td>...</td>\n",
       "      <td>...</td>\n",
       "    </tr>\n",
       "    <tr>\n",
       "      <th>7781</th>\n",
       "      <td>s7782</td>\n",
       "      <td>Movie</td>\n",
       "      <td>Zoom</td>\n",
       "      <td>Peter Hewitt</td>\n",
       "      <td>Tim Allen, Courteney Cox, Chevy Chase, Kate Ma...</td>\n",
       "      <td>United States</td>\n",
       "      <td>January 11, 2020</td>\n",
       "      <td>2006</td>\n",
       "      <td>PG</td>\n",
       "      <td>88</td>\n",
       "      <td>Children &amp; Family Movies, Comedies</td>\n",
       "      <td>Dragged from civilian life, a former superhero...</td>\n",
       "    </tr>\n",
       "    <tr>\n",
       "      <th>7782</th>\n",
       "      <td>s7783</td>\n",
       "      <td>Movie</td>\n",
       "      <td>Zozo</td>\n",
       "      <td>Josef Fares</td>\n",
       "      <td>Imad Creidi, Antoinette Turk, Elias Gergi, Car...</td>\n",
       "      <td>Sweden, Czech Republic, United Kingdom, Denmar...</td>\n",
       "      <td>October 19, 2020</td>\n",
       "      <td>2005</td>\n",
       "      <td>TV-MA</td>\n",
       "      <td>99</td>\n",
       "      <td>Dramas, International Movies</td>\n",
       "      <td>When Lebanon's Civil War deprives Zozo of his ...</td>\n",
       "    </tr>\n",
       "    <tr>\n",
       "      <th>7783</th>\n",
       "      <td>s7784</td>\n",
       "      <td>Movie</td>\n",
       "      <td>Zubaan</td>\n",
       "      <td>Mozez Singh</td>\n",
       "      <td>Vicky Kaushal, Sarah-Jane Dias, Raaghav Chanan...</td>\n",
       "      <td>India</td>\n",
       "      <td>March 2, 2019</td>\n",
       "      <td>2015</td>\n",
       "      <td>TV-14</td>\n",
       "      <td>111</td>\n",
       "      <td>Dramas, International Movies, Music &amp; Musicals</td>\n",
       "      <td>A scrappy but poor boy worms his way into a ty...</td>\n",
       "    </tr>\n",
       "    <tr>\n",
       "      <th>7784</th>\n",
       "      <td>s7785</td>\n",
       "      <td>Movie</td>\n",
       "      <td>Zulu Man in Japan</td>\n",
       "      <td>NaN</td>\n",
       "      <td>Nasty C</td>\n",
       "      <td>NaN</td>\n",
       "      <td>September 25, 2020</td>\n",
       "      <td>2019</td>\n",
       "      <td>TV-MA</td>\n",
       "      <td>44</td>\n",
       "      <td>Documentaries, International Movies, Music &amp; M...</td>\n",
       "      <td>In this documentary, South African rapper Nast...</td>\n",
       "    </tr>\n",
       "    <tr>\n",
       "      <th>7786</th>\n",
       "      <td>s7787</td>\n",
       "      <td>Movie</td>\n",
       "      <td>ZZ TOP: THAT LITTLE OL' BAND FROM TEXAS</td>\n",
       "      <td>Sam Dunn</td>\n",
       "      <td>NaN</td>\n",
       "      <td>United Kingdom, Canada, United States</td>\n",
       "      <td>March 1, 2020</td>\n",
       "      <td>2019</td>\n",
       "      <td>TV-MA</td>\n",
       "      <td>90</td>\n",
       "      <td>Documentaries, Music &amp; Musicals</td>\n",
       "      <td>This documentary delves into the mystique behi...</td>\n",
       "    </tr>\n",
       "  </tbody>\n",
       "</table>\n",
       "<p>5377 rows × 12 columns</p>\n",
       "</div>"
      ],
      "text/plain": [
       "     show_id   type                                    title  \\\n",
       "1         s2  Movie                                     7:19   \n",
       "2         s3  Movie                                    23:59   \n",
       "3         s4  Movie                                        9   \n",
       "4         s5  Movie                                       21   \n",
       "6         s7  Movie                                      122   \n",
       "...      ...    ...                                      ...   \n",
       "7781   s7782  Movie                                     Zoom   \n",
       "7782   s7783  Movie                                     Zozo   \n",
       "7783   s7784  Movie                                   Zubaan   \n",
       "7784   s7785  Movie                        Zulu Man in Japan   \n",
       "7786   s7787  Movie  ZZ TOP: THAT LITTLE OL' BAND FROM TEXAS   \n",
       "\n",
       "               director                                               cast  \\\n",
       "1     Jorge Michel Grau  Demián Bichir, Héctor Bonilla, Oscar Serrano, ...   \n",
       "2          Gilbert Chan  Tedd Chan, Stella Chung, Henley Hii, Lawrence ...   \n",
       "3           Shane Acker  Elijah Wood, John C. Reilly, Jennifer Connelly...   \n",
       "4        Robert Luketic  Jim Sturgess, Kevin Spacey, Kate Bosworth, Aar...   \n",
       "6       Yasir Al Yasiri  Amina Khalil, Ahmed Dawood, Tarek Lotfy, Ahmed...   \n",
       "...                 ...                                                ...   \n",
       "7781       Peter Hewitt  Tim Allen, Courteney Cox, Chevy Chase, Kate Ma...   \n",
       "7782        Josef Fares  Imad Creidi, Antoinette Turk, Elias Gergi, Car...   \n",
       "7783        Mozez Singh  Vicky Kaushal, Sarah-Jane Dias, Raaghav Chanan...   \n",
       "7784                NaN                                            Nasty C   \n",
       "7786           Sam Dunn                                                NaN   \n",
       "\n",
       "                                                country          date_added  \\\n",
       "1                                                Mexico   December 23, 2016   \n",
       "2                                             Singapore   December 20, 2018   \n",
       "3                                         United States   November 16, 2017   \n",
       "4                                         United States     January 1, 2020   \n",
       "6                                                 Egypt        June 1, 2020   \n",
       "...                                                 ...                 ...   \n",
       "7781                                      United States    January 11, 2020   \n",
       "7782  Sweden, Czech Republic, United Kingdom, Denmar...    October 19, 2020   \n",
       "7783                                              India       March 2, 2019   \n",
       "7784                                                NaN  September 25, 2020   \n",
       "7786              United Kingdom, Canada, United States       March 1, 2020   \n",
       "\n",
       "      release_year rating  duration  \\\n",
       "1             2016  TV-MA        93   \n",
       "2             2011      R        78   \n",
       "3             2009  PG-13        80   \n",
       "4             2008  PG-13       123   \n",
       "6             2019  TV-MA        95   \n",
       "...            ...    ...       ...   \n",
       "7781          2006     PG        88   \n",
       "7782          2005  TV-MA        99   \n",
       "7783          2015  TV-14       111   \n",
       "7784          2019  TV-MA        44   \n",
       "7786          2019  TV-MA        90   \n",
       "\n",
       "                                              listed_in  \\\n",
       "1                          Dramas, International Movies   \n",
       "2                   Horror Movies, International Movies   \n",
       "3     Action & Adventure, Independent Movies, Sci-Fi...   \n",
       "4                                                Dramas   \n",
       "6                   Horror Movies, International Movies   \n",
       "...                                                 ...   \n",
       "7781                 Children & Family Movies, Comedies   \n",
       "7782                       Dramas, International Movies   \n",
       "7783     Dramas, International Movies, Music & Musicals   \n",
       "7784  Documentaries, International Movies, Music & M...   \n",
       "7786                    Documentaries, Music & Musicals   \n",
       "\n",
       "                                            description  \n",
       "1     After a devastating earthquake hits Mexico Cit...  \n",
       "2     When an army recruit is found dead, his fellow...  \n",
       "3     In a postapocalyptic world, rag-doll robots hi...  \n",
       "4     A brilliant group of students become card-coun...  \n",
       "6     After an awful accident, a couple admitted to ...  \n",
       "...                                                 ...  \n",
       "7781  Dragged from civilian life, a former superhero...  \n",
       "7782  When Lebanon's Civil War deprives Zozo of his ...  \n",
       "7783  A scrappy but poor boy worms his way into a ty...  \n",
       "7784  In this documentary, South African rapper Nast...  \n",
       "7786  This documentary delves into the mystique behi...  \n",
       "\n",
       "[5377 rows x 12 columns]"
      ]
     },
     "execution_count": 40,
     "metadata": {},
     "output_type": "execute_result"
    }
   ],
   "source": [
    "movies['duration'] = movies['duration'].apply(lambda x: int(x.split()[0]))\n",
    "\n",
    "movies"
   ]
  },
  {
   "cell_type": "markdown",
   "metadata": {},
   "source": [
    "Group movies by their release year and compute average, minimum and maximum durations"
   ]
  },
  {
   "cell_type": "code",
   "execution_count": 41,
   "metadata": {},
   "outputs": [
    {
     "data": {
      "text/html": [
       "<div>\n",
       "<style scoped>\n",
       "    .dataframe tbody tr th:only-of-type {\n",
       "        vertical-align: middle;\n",
       "    }\n",
       "\n",
       "    .dataframe tbody tr th {\n",
       "        vertical-align: top;\n",
       "    }\n",
       "\n",
       "    .dataframe thead th {\n",
       "        text-align: right;\n",
       "    }\n",
       "</style>\n",
       "<table border=\"1\" class=\"dataframe\">\n",
       "  <thead>\n",
       "    <tr style=\"text-align: right;\">\n",
       "      <th></th>\n",
       "      <th>release_year</th>\n",
       "      <th>num_movies</th>\n",
       "      <th>average_duration</th>\n",
       "      <th>min_duration</th>\n",
       "      <th>max_duration</th>\n",
       "    </tr>\n",
       "  </thead>\n",
       "  <tbody>\n",
       "    <tr>\n",
       "      <th>0</th>\n",
       "      <td>1942</td>\n",
       "      <td>2</td>\n",
       "      <td>35.000000</td>\n",
       "      <td>18</td>\n",
       "      <td>52</td>\n",
       "    </tr>\n",
       "    <tr>\n",
       "      <th>1</th>\n",
       "      <td>1943</td>\n",
       "      <td>3</td>\n",
       "      <td>62.666667</td>\n",
       "      <td>45</td>\n",
       "      <td>82</td>\n",
       "    </tr>\n",
       "    <tr>\n",
       "      <th>2</th>\n",
       "      <td>1944</td>\n",
       "      <td>3</td>\n",
       "      <td>52.000000</td>\n",
       "      <td>40</td>\n",
       "      <td>76</td>\n",
       "    </tr>\n",
       "    <tr>\n",
       "      <th>3</th>\n",
       "      <td>1945</td>\n",
       "      <td>3</td>\n",
       "      <td>51.333333</td>\n",
       "      <td>32</td>\n",
       "      <td>63</td>\n",
       "    </tr>\n",
       "    <tr>\n",
       "      <th>4</th>\n",
       "      <td>1946</td>\n",
       "      <td>1</td>\n",
       "      <td>58.000000</td>\n",
       "      <td>58</td>\n",
       "      <td>58</td>\n",
       "    </tr>\n",
       "    <tr>\n",
       "      <th>...</th>\n",
       "      <td>...</td>\n",
       "      <td>...</td>\n",
       "      <td>...</td>\n",
       "      <td>...</td>\n",
       "      <td>...</td>\n",
       "    </tr>\n",
       "    <tr>\n",
       "      <th>67</th>\n",
       "      <td>2017</td>\n",
       "      <td>744</td>\n",
       "      <td>94.836022</td>\n",
       "      <td>11</td>\n",
       "      <td>166</td>\n",
       "    </tr>\n",
       "    <tr>\n",
       "      <th>68</th>\n",
       "      <td>2018</td>\n",
       "      <td>734</td>\n",
       "      <td>96.170300</td>\n",
       "      <td>12</td>\n",
       "      <td>312</td>\n",
       "    </tr>\n",
       "    <tr>\n",
       "      <th>69</th>\n",
       "      <td>2019</td>\n",
       "      <td>582</td>\n",
       "      <td>93.457045</td>\n",
       "      <td>10</td>\n",
       "      <td>209</td>\n",
       "    </tr>\n",
       "    <tr>\n",
       "      <th>70</th>\n",
       "      <td>2020</td>\n",
       "      <td>411</td>\n",
       "      <td>89.795620</td>\n",
       "      <td>5</td>\n",
       "      <td>190</td>\n",
       "    </tr>\n",
       "    <tr>\n",
       "      <th>71</th>\n",
       "      <td>2021</td>\n",
       "      <td>12</td>\n",
       "      <td>80.166667</td>\n",
       "      <td>14</td>\n",
       "      <td>116</td>\n",
       "    </tr>\n",
       "  </tbody>\n",
       "</table>\n",
       "<p>72 rows × 5 columns</p>\n",
       "</div>"
      ],
      "text/plain": [
       "    release_year  num_movies  average_duration  min_duration  max_duration\n",
       "0           1942           2         35.000000            18            52\n",
       "1           1943           3         62.666667            45            82\n",
       "2           1944           3         52.000000            40            76\n",
       "3           1945           3         51.333333            32            63\n",
       "4           1946           1         58.000000            58            58\n",
       "..           ...         ...               ...           ...           ...\n",
       "67          2017         744         94.836022            11           166\n",
       "68          2018         734         96.170300            12           312\n",
       "69          2019         582         93.457045            10           209\n",
       "70          2020         411         89.795620             5           190\n",
       "71          2021          12         80.166667            14           116\n",
       "\n",
       "[72 rows x 5 columns]"
      ]
     },
     "execution_count": 41,
     "metadata": {},
     "output_type": "execute_result"
    }
   ],
   "source": [
    "duration_per_year = movies.groupby(by='release_year', as_index=False).agg(\n",
    "    num_movies=('show_id', 'count'),\n",
    "    average_duration=('duration', 'mean'),\n",
    "    min_duration=('duration', 'min'),\n",
    "    max_duration=('duration', 'max'))\n",
    "duration_per_year"
   ]
  },
  {
   "cell_type": "markdown",
   "metadata": {},
   "source": [
    "Let's see the number of movies produced every year"
   ]
  },
  {
   "cell_type": "code",
   "execution_count": 42,
   "metadata": {},
   "outputs": [
    {
     "data": {
      "application/vnd.plotly.v1+json": {
       "config": {
        "plotlyServerURL": "https://plot.ly"
       },
       "data": [
        {
         "alignmentgroup": "True",
         "hovertemplate": "release_year=%{x}<br>num_movies=%{y}<extra></extra>",
         "legendgroup": "",
         "marker": {
          "color": "#636efa"
         },
         "name": "",
         "offsetgroup": "",
         "orientation": "v",
         "showlegend": false,
         "textposition": "auto",
         "type": "bar",
         "x": [
          1942,
          1943,
          1944,
          1945,
          1946,
          1947,
          1954,
          1955,
          1956,
          1958,
          1959,
          1960,
          1962,
          1963,
          1964,
          1965,
          1966,
          1967,
          1968,
          1969,
          1970,
          1971,
          1972,
          1973,
          1974,
          1975,
          1976,
          1977,
          1978,
          1979,
          1980,
          1981,
          1982,
          1983,
          1984,
          1985,
          1986,
          1987,
          1988,
          1989,
          1990,
          1991,
          1992,
          1993,
          1994,
          1995,
          1996,
          1997,
          1998,
          1999,
          2000,
          2001,
          2002,
          2003,
          2004,
          2005,
          2006,
          2007,
          2008,
          2009,
          2010,
          2011,
          2012,
          2013,
          2014,
          2015,
          2016,
          2017,
          2018,
          2019,
          2020,
          2021
         ],
         "xaxis": "x",
         "y": [
          2,
          3,
          3,
          3,
          1,
          1,
          2,
          3,
          2,
          3,
          1,
          4,
          3,
          1,
          1,
          2,
          1,
          4,
          4,
          2,
          2,
          5,
          3,
          10,
          6,
          6,
          9,
          6,
          6,
          10,
          9,
          8,
          15,
          9,
          9,
          8,
          8,
          7,
          14,
          12,
          17,
          16,
          16,
          18,
          15,
          17,
          16,
          26,
          27,
          26,
          30,
          32,
          39,
          40,
          50,
          61,
          72,
          72,
          102,
          103,
          136,
          127,
          158,
          202,
          244,
          382,
          642,
          744,
          734,
          582,
          411,
          12
         ],
         "yaxis": "y"
        }
       ],
       "layout": {
        "barmode": "relative",
        "legend": {
         "tracegroupgap": 0
        },
        "margin": {
         "t": 60
        },
        "template": {
         "data": {
          "bar": [
           {
            "error_x": {
             "color": "#2a3f5f"
            },
            "error_y": {
             "color": "#2a3f5f"
            },
            "marker": {
             "line": {
              "color": "#E5ECF6",
              "width": 0.5
             }
            },
            "type": "bar"
           }
          ],
          "barpolar": [
           {
            "marker": {
             "line": {
              "color": "#E5ECF6",
              "width": 0.5
             }
            },
            "type": "barpolar"
           }
          ],
          "carpet": [
           {
            "aaxis": {
             "endlinecolor": "#2a3f5f",
             "gridcolor": "white",
             "linecolor": "white",
             "minorgridcolor": "white",
             "startlinecolor": "#2a3f5f"
            },
            "baxis": {
             "endlinecolor": "#2a3f5f",
             "gridcolor": "white",
             "linecolor": "white",
             "minorgridcolor": "white",
             "startlinecolor": "#2a3f5f"
            },
            "type": "carpet"
           }
          ],
          "choropleth": [
           {
            "colorbar": {
             "outlinewidth": 0,
             "ticks": ""
            },
            "type": "choropleth"
           }
          ],
          "contour": [
           {
            "colorbar": {
             "outlinewidth": 0,
             "ticks": ""
            },
            "colorscale": [
             [
              0,
              "#0d0887"
             ],
             [
              0.1111111111111111,
              "#46039f"
             ],
             [
              0.2222222222222222,
              "#7201a8"
             ],
             [
              0.3333333333333333,
              "#9c179e"
             ],
             [
              0.4444444444444444,
              "#bd3786"
             ],
             [
              0.5555555555555556,
              "#d8576b"
             ],
             [
              0.6666666666666666,
              "#ed7953"
             ],
             [
              0.7777777777777778,
              "#fb9f3a"
             ],
             [
              0.8888888888888888,
              "#fdca26"
             ],
             [
              1,
              "#f0f921"
             ]
            ],
            "type": "contour"
           }
          ],
          "contourcarpet": [
           {
            "colorbar": {
             "outlinewidth": 0,
             "ticks": ""
            },
            "type": "contourcarpet"
           }
          ],
          "heatmap": [
           {
            "colorbar": {
             "outlinewidth": 0,
             "ticks": ""
            },
            "colorscale": [
             [
              0,
              "#0d0887"
             ],
             [
              0.1111111111111111,
              "#46039f"
             ],
             [
              0.2222222222222222,
              "#7201a8"
             ],
             [
              0.3333333333333333,
              "#9c179e"
             ],
             [
              0.4444444444444444,
              "#bd3786"
             ],
             [
              0.5555555555555556,
              "#d8576b"
             ],
             [
              0.6666666666666666,
              "#ed7953"
             ],
             [
              0.7777777777777778,
              "#fb9f3a"
             ],
             [
              0.8888888888888888,
              "#fdca26"
             ],
             [
              1,
              "#f0f921"
             ]
            ],
            "type": "heatmap"
           }
          ],
          "heatmapgl": [
           {
            "colorbar": {
             "outlinewidth": 0,
             "ticks": ""
            },
            "colorscale": [
             [
              0,
              "#0d0887"
             ],
             [
              0.1111111111111111,
              "#46039f"
             ],
             [
              0.2222222222222222,
              "#7201a8"
             ],
             [
              0.3333333333333333,
              "#9c179e"
             ],
             [
              0.4444444444444444,
              "#bd3786"
             ],
             [
              0.5555555555555556,
              "#d8576b"
             ],
             [
              0.6666666666666666,
              "#ed7953"
             ],
             [
              0.7777777777777778,
              "#fb9f3a"
             ],
             [
              0.8888888888888888,
              "#fdca26"
             ],
             [
              1,
              "#f0f921"
             ]
            ],
            "type": "heatmapgl"
           }
          ],
          "histogram": [
           {
            "marker": {
             "colorbar": {
              "outlinewidth": 0,
              "ticks": ""
             }
            },
            "type": "histogram"
           }
          ],
          "histogram2d": [
           {
            "colorbar": {
             "outlinewidth": 0,
             "ticks": ""
            },
            "colorscale": [
             [
              0,
              "#0d0887"
             ],
             [
              0.1111111111111111,
              "#46039f"
             ],
             [
              0.2222222222222222,
              "#7201a8"
             ],
             [
              0.3333333333333333,
              "#9c179e"
             ],
             [
              0.4444444444444444,
              "#bd3786"
             ],
             [
              0.5555555555555556,
              "#d8576b"
             ],
             [
              0.6666666666666666,
              "#ed7953"
             ],
             [
              0.7777777777777778,
              "#fb9f3a"
             ],
             [
              0.8888888888888888,
              "#fdca26"
             ],
             [
              1,
              "#f0f921"
             ]
            ],
            "type": "histogram2d"
           }
          ],
          "histogram2dcontour": [
           {
            "colorbar": {
             "outlinewidth": 0,
             "ticks": ""
            },
            "colorscale": [
             [
              0,
              "#0d0887"
             ],
             [
              0.1111111111111111,
              "#46039f"
             ],
             [
              0.2222222222222222,
              "#7201a8"
             ],
             [
              0.3333333333333333,
              "#9c179e"
             ],
             [
              0.4444444444444444,
              "#bd3786"
             ],
             [
              0.5555555555555556,
              "#d8576b"
             ],
             [
              0.6666666666666666,
              "#ed7953"
             ],
             [
              0.7777777777777778,
              "#fb9f3a"
             ],
             [
              0.8888888888888888,
              "#fdca26"
             ],
             [
              1,
              "#f0f921"
             ]
            ],
            "type": "histogram2dcontour"
           }
          ],
          "mesh3d": [
           {
            "colorbar": {
             "outlinewidth": 0,
             "ticks": ""
            },
            "type": "mesh3d"
           }
          ],
          "parcoords": [
           {
            "line": {
             "colorbar": {
              "outlinewidth": 0,
              "ticks": ""
             }
            },
            "type": "parcoords"
           }
          ],
          "pie": [
           {
            "automargin": true,
            "type": "pie"
           }
          ],
          "scatter": [
           {
            "marker": {
             "colorbar": {
              "outlinewidth": 0,
              "ticks": ""
             }
            },
            "type": "scatter"
           }
          ],
          "scatter3d": [
           {
            "line": {
             "colorbar": {
              "outlinewidth": 0,
              "ticks": ""
             }
            },
            "marker": {
             "colorbar": {
              "outlinewidth": 0,
              "ticks": ""
             }
            },
            "type": "scatter3d"
           }
          ],
          "scattercarpet": [
           {
            "marker": {
             "colorbar": {
              "outlinewidth": 0,
              "ticks": ""
             }
            },
            "type": "scattercarpet"
           }
          ],
          "scattergeo": [
           {
            "marker": {
             "colorbar": {
              "outlinewidth": 0,
              "ticks": ""
             }
            },
            "type": "scattergeo"
           }
          ],
          "scattergl": [
           {
            "marker": {
             "colorbar": {
              "outlinewidth": 0,
              "ticks": ""
             }
            },
            "type": "scattergl"
           }
          ],
          "scattermapbox": [
           {
            "marker": {
             "colorbar": {
              "outlinewidth": 0,
              "ticks": ""
             }
            },
            "type": "scattermapbox"
           }
          ],
          "scatterpolar": [
           {
            "marker": {
             "colorbar": {
              "outlinewidth": 0,
              "ticks": ""
             }
            },
            "type": "scatterpolar"
           }
          ],
          "scatterpolargl": [
           {
            "marker": {
             "colorbar": {
              "outlinewidth": 0,
              "ticks": ""
             }
            },
            "type": "scatterpolargl"
           }
          ],
          "scatterternary": [
           {
            "marker": {
             "colorbar": {
              "outlinewidth": 0,
              "ticks": ""
             }
            },
            "type": "scatterternary"
           }
          ],
          "surface": [
           {
            "colorbar": {
             "outlinewidth": 0,
             "ticks": ""
            },
            "colorscale": [
             [
              0,
              "#0d0887"
             ],
             [
              0.1111111111111111,
              "#46039f"
             ],
             [
              0.2222222222222222,
              "#7201a8"
             ],
             [
              0.3333333333333333,
              "#9c179e"
             ],
             [
              0.4444444444444444,
              "#bd3786"
             ],
             [
              0.5555555555555556,
              "#d8576b"
             ],
             [
              0.6666666666666666,
              "#ed7953"
             ],
             [
              0.7777777777777778,
              "#fb9f3a"
             ],
             [
              0.8888888888888888,
              "#fdca26"
             ],
             [
              1,
              "#f0f921"
             ]
            ],
            "type": "surface"
           }
          ],
          "table": [
           {
            "cells": {
             "fill": {
              "color": "#EBF0F8"
             },
             "line": {
              "color": "white"
             }
            },
            "header": {
             "fill": {
              "color": "#C8D4E3"
             },
             "line": {
              "color": "white"
             }
            },
            "type": "table"
           }
          ]
         },
         "layout": {
          "annotationdefaults": {
           "arrowcolor": "#2a3f5f",
           "arrowhead": 0,
           "arrowwidth": 1
          },
          "autotypenumbers": "strict",
          "coloraxis": {
           "colorbar": {
            "outlinewidth": 0,
            "ticks": ""
           }
          },
          "colorscale": {
           "diverging": [
            [
             0,
             "#8e0152"
            ],
            [
             0.1,
             "#c51b7d"
            ],
            [
             0.2,
             "#de77ae"
            ],
            [
             0.3,
             "#f1b6da"
            ],
            [
             0.4,
             "#fde0ef"
            ],
            [
             0.5,
             "#f7f7f7"
            ],
            [
             0.6,
             "#e6f5d0"
            ],
            [
             0.7,
             "#b8e186"
            ],
            [
             0.8,
             "#7fbc41"
            ],
            [
             0.9,
             "#4d9221"
            ],
            [
             1,
             "#276419"
            ]
           ],
           "sequential": [
            [
             0,
             "#0d0887"
            ],
            [
             0.1111111111111111,
             "#46039f"
            ],
            [
             0.2222222222222222,
             "#7201a8"
            ],
            [
             0.3333333333333333,
             "#9c179e"
            ],
            [
             0.4444444444444444,
             "#bd3786"
            ],
            [
             0.5555555555555556,
             "#d8576b"
            ],
            [
             0.6666666666666666,
             "#ed7953"
            ],
            [
             0.7777777777777778,
             "#fb9f3a"
            ],
            [
             0.8888888888888888,
             "#fdca26"
            ],
            [
             1,
             "#f0f921"
            ]
           ],
           "sequentialminus": [
            [
             0,
             "#0d0887"
            ],
            [
             0.1111111111111111,
             "#46039f"
            ],
            [
             0.2222222222222222,
             "#7201a8"
            ],
            [
             0.3333333333333333,
             "#9c179e"
            ],
            [
             0.4444444444444444,
             "#bd3786"
            ],
            [
             0.5555555555555556,
             "#d8576b"
            ],
            [
             0.6666666666666666,
             "#ed7953"
            ],
            [
             0.7777777777777778,
             "#fb9f3a"
            ],
            [
             0.8888888888888888,
             "#fdca26"
            ],
            [
             1,
             "#f0f921"
            ]
           ]
          },
          "colorway": [
           "#636efa",
           "#EF553B",
           "#00cc96",
           "#ab63fa",
           "#FFA15A",
           "#19d3f3",
           "#FF6692",
           "#B6E880",
           "#FF97FF",
           "#FECB52"
          ],
          "font": {
           "color": "#2a3f5f"
          },
          "geo": {
           "bgcolor": "white",
           "lakecolor": "white",
           "landcolor": "#E5ECF6",
           "showlakes": true,
           "showland": true,
           "subunitcolor": "white"
          },
          "hoverlabel": {
           "align": "left"
          },
          "hovermode": "closest",
          "mapbox": {
           "style": "light"
          },
          "paper_bgcolor": "white",
          "plot_bgcolor": "#E5ECF6",
          "polar": {
           "angularaxis": {
            "gridcolor": "white",
            "linecolor": "white",
            "ticks": ""
           },
           "bgcolor": "#E5ECF6",
           "radialaxis": {
            "gridcolor": "white",
            "linecolor": "white",
            "ticks": ""
           }
          },
          "scene": {
           "xaxis": {
            "backgroundcolor": "#E5ECF6",
            "gridcolor": "white",
            "gridwidth": 2,
            "linecolor": "white",
            "showbackground": true,
            "ticks": "",
            "zerolinecolor": "white"
           },
           "yaxis": {
            "backgroundcolor": "#E5ECF6",
            "gridcolor": "white",
            "gridwidth": 2,
            "linecolor": "white",
            "showbackground": true,
            "ticks": "",
            "zerolinecolor": "white"
           },
           "zaxis": {
            "backgroundcolor": "#E5ECF6",
            "gridcolor": "white",
            "gridwidth": 2,
            "linecolor": "white",
            "showbackground": true,
            "ticks": "",
            "zerolinecolor": "white"
           }
          },
          "shapedefaults": {
           "line": {
            "color": "#2a3f5f"
           }
          },
          "ternary": {
           "aaxis": {
            "gridcolor": "white",
            "linecolor": "white",
            "ticks": ""
           },
           "baxis": {
            "gridcolor": "white",
            "linecolor": "white",
            "ticks": ""
           },
           "bgcolor": "#E5ECF6",
           "caxis": {
            "gridcolor": "white",
            "linecolor": "white",
            "ticks": ""
           }
          },
          "title": {
           "x": 0.05
          },
          "xaxis": {
           "automargin": true,
           "gridcolor": "white",
           "linecolor": "white",
           "ticks": "",
           "title": {
            "standoff": 15
           },
           "zerolinecolor": "white",
           "zerolinewidth": 2
          },
          "yaxis": {
           "automargin": true,
           "gridcolor": "white",
           "linecolor": "white",
           "ticks": "",
           "title": {
            "standoff": 15
           },
           "zerolinecolor": "white",
           "zerolinewidth": 2
          }
         }
        },
        "xaxis": {
         "anchor": "y",
         "domain": [
          0,
          1
         ],
         "title": {
          "text": "release_year"
         }
        },
        "yaxis": {
         "anchor": "x",
         "domain": [
          0,
          1
         ],
         "title": {
          "text": "num_movies"
         }
        }
       }
      },
      "text/html": [
       "<div>                            <div id=\"d03c826b-0b90-4e0e-9644-e805fb37cfe5\" class=\"plotly-graph-div\" style=\"height:525px; width:100%;\"></div>            <script type=\"text/javascript\">                require([\"plotly\"], function(Plotly) {                    window.PLOTLYENV=window.PLOTLYENV || {};                                    if (document.getElementById(\"d03c826b-0b90-4e0e-9644-e805fb37cfe5\")) {                    Plotly.newPlot(                        \"d03c826b-0b90-4e0e-9644-e805fb37cfe5\",                        [{\"alignmentgroup\": \"True\", \"hovertemplate\": \"release_year=%{x}<br>num_movies=%{y}<extra></extra>\", \"legendgroup\": \"\", \"marker\": {\"color\": \"#636efa\"}, \"name\": \"\", \"offsetgroup\": \"\", \"orientation\": \"v\", \"showlegend\": false, \"textposition\": \"auto\", \"type\": \"bar\", \"x\": [1942, 1943, 1944, 1945, 1946, 1947, 1954, 1955, 1956, 1958, 1959, 1960, 1962, 1963, 1964, 1965, 1966, 1967, 1968, 1969, 1970, 1971, 1972, 1973, 1974, 1975, 1976, 1977, 1978, 1979, 1980, 1981, 1982, 1983, 1984, 1985, 1986, 1987, 1988, 1989, 1990, 1991, 1992, 1993, 1994, 1995, 1996, 1997, 1998, 1999, 2000, 2001, 2002, 2003, 2004, 2005, 2006, 2007, 2008, 2009, 2010, 2011, 2012, 2013, 2014, 2015, 2016, 2017, 2018, 2019, 2020, 2021], \"xaxis\": \"x\", \"y\": [2, 3, 3, 3, 1, 1, 2, 3, 2, 3, 1, 4, 3, 1, 1, 2, 1, 4, 4, 2, 2, 5, 3, 10, 6, 6, 9, 6, 6, 10, 9, 8, 15, 9, 9, 8, 8, 7, 14, 12, 17, 16, 16, 18, 15, 17, 16, 26, 27, 26, 30, 32, 39, 40, 50, 61, 72, 72, 102, 103, 136, 127, 158, 202, 244, 382, 642, 744, 734, 582, 411, 12], \"yaxis\": \"y\"}],                        {\"barmode\": \"relative\", \"legend\": {\"tracegroupgap\": 0}, \"margin\": {\"t\": 60}, \"template\": {\"data\": {\"bar\": [{\"error_x\": {\"color\": \"#2a3f5f\"}, \"error_y\": {\"color\": \"#2a3f5f\"}, \"marker\": {\"line\": {\"color\": \"#E5ECF6\", \"width\": 0.5}}, \"type\": \"bar\"}], \"barpolar\": [{\"marker\": {\"line\": {\"color\": \"#E5ECF6\", \"width\": 0.5}}, \"type\": \"barpolar\"}], \"carpet\": [{\"aaxis\": {\"endlinecolor\": \"#2a3f5f\", \"gridcolor\": \"white\", \"linecolor\": \"white\", \"minorgridcolor\": \"white\", \"startlinecolor\": \"#2a3f5f\"}, \"baxis\": {\"endlinecolor\": \"#2a3f5f\", \"gridcolor\": \"white\", \"linecolor\": \"white\", \"minorgridcolor\": \"white\", \"startlinecolor\": \"#2a3f5f\"}, \"type\": \"carpet\"}], \"choropleth\": [{\"colorbar\": {\"outlinewidth\": 0, \"ticks\": \"\"}, \"type\": \"choropleth\"}], \"contour\": [{\"colorbar\": {\"outlinewidth\": 0, \"ticks\": \"\"}, \"colorscale\": [[0.0, \"#0d0887\"], [0.1111111111111111, \"#46039f\"], [0.2222222222222222, \"#7201a8\"], [0.3333333333333333, \"#9c179e\"], [0.4444444444444444, \"#bd3786\"], [0.5555555555555556, \"#d8576b\"], [0.6666666666666666, \"#ed7953\"], [0.7777777777777778, \"#fb9f3a\"], [0.8888888888888888, \"#fdca26\"], [1.0, \"#f0f921\"]], \"type\": \"contour\"}], \"contourcarpet\": [{\"colorbar\": {\"outlinewidth\": 0, \"ticks\": \"\"}, \"type\": \"contourcarpet\"}], \"heatmap\": [{\"colorbar\": {\"outlinewidth\": 0, \"ticks\": \"\"}, \"colorscale\": [[0.0, \"#0d0887\"], [0.1111111111111111, \"#46039f\"], [0.2222222222222222, \"#7201a8\"], [0.3333333333333333, \"#9c179e\"], [0.4444444444444444, \"#bd3786\"], [0.5555555555555556, \"#d8576b\"], [0.6666666666666666, \"#ed7953\"], [0.7777777777777778, \"#fb9f3a\"], [0.8888888888888888, \"#fdca26\"], [1.0, \"#f0f921\"]], \"type\": \"heatmap\"}], \"heatmapgl\": [{\"colorbar\": {\"outlinewidth\": 0, \"ticks\": \"\"}, \"colorscale\": [[0.0, \"#0d0887\"], [0.1111111111111111, \"#46039f\"], [0.2222222222222222, \"#7201a8\"], [0.3333333333333333, \"#9c179e\"], [0.4444444444444444, \"#bd3786\"], [0.5555555555555556, \"#d8576b\"], [0.6666666666666666, \"#ed7953\"], [0.7777777777777778, \"#fb9f3a\"], [0.8888888888888888, \"#fdca26\"], [1.0, \"#f0f921\"]], \"type\": \"heatmapgl\"}], \"histogram\": [{\"marker\": {\"colorbar\": {\"outlinewidth\": 0, \"ticks\": \"\"}}, \"type\": \"histogram\"}], \"histogram2d\": [{\"colorbar\": {\"outlinewidth\": 0, \"ticks\": \"\"}, \"colorscale\": [[0.0, \"#0d0887\"], [0.1111111111111111, \"#46039f\"], [0.2222222222222222, \"#7201a8\"], [0.3333333333333333, \"#9c179e\"], [0.4444444444444444, \"#bd3786\"], [0.5555555555555556, \"#d8576b\"], [0.6666666666666666, \"#ed7953\"], [0.7777777777777778, \"#fb9f3a\"], [0.8888888888888888, \"#fdca26\"], [1.0, \"#f0f921\"]], \"type\": \"histogram2d\"}], \"histogram2dcontour\": [{\"colorbar\": {\"outlinewidth\": 0, \"ticks\": \"\"}, \"colorscale\": [[0.0, \"#0d0887\"], [0.1111111111111111, \"#46039f\"], [0.2222222222222222, \"#7201a8\"], [0.3333333333333333, \"#9c179e\"], [0.4444444444444444, \"#bd3786\"], [0.5555555555555556, \"#d8576b\"], [0.6666666666666666, \"#ed7953\"], [0.7777777777777778, \"#fb9f3a\"], [0.8888888888888888, \"#fdca26\"], [1.0, \"#f0f921\"]], \"type\": \"histogram2dcontour\"}], \"mesh3d\": [{\"colorbar\": {\"outlinewidth\": 0, \"ticks\": \"\"}, \"type\": \"mesh3d\"}], \"parcoords\": [{\"line\": {\"colorbar\": {\"outlinewidth\": 0, \"ticks\": \"\"}}, \"type\": \"parcoords\"}], \"pie\": [{\"automargin\": true, \"type\": \"pie\"}], \"scatter\": [{\"marker\": {\"colorbar\": {\"outlinewidth\": 0, \"ticks\": \"\"}}, \"type\": \"scatter\"}], \"scatter3d\": [{\"line\": {\"colorbar\": {\"outlinewidth\": 0, \"ticks\": \"\"}}, \"marker\": {\"colorbar\": {\"outlinewidth\": 0, \"ticks\": \"\"}}, \"type\": \"scatter3d\"}], \"scattercarpet\": [{\"marker\": {\"colorbar\": {\"outlinewidth\": 0, \"ticks\": \"\"}}, \"type\": \"scattercarpet\"}], \"scattergeo\": [{\"marker\": {\"colorbar\": {\"outlinewidth\": 0, \"ticks\": \"\"}}, \"type\": \"scattergeo\"}], \"scattergl\": [{\"marker\": {\"colorbar\": {\"outlinewidth\": 0, \"ticks\": \"\"}}, \"type\": \"scattergl\"}], \"scattermapbox\": [{\"marker\": {\"colorbar\": {\"outlinewidth\": 0, \"ticks\": \"\"}}, \"type\": \"scattermapbox\"}], \"scatterpolar\": [{\"marker\": {\"colorbar\": {\"outlinewidth\": 0, \"ticks\": \"\"}}, \"type\": \"scatterpolar\"}], \"scatterpolargl\": [{\"marker\": {\"colorbar\": {\"outlinewidth\": 0, \"ticks\": \"\"}}, \"type\": \"scatterpolargl\"}], \"scatterternary\": [{\"marker\": {\"colorbar\": {\"outlinewidth\": 0, \"ticks\": \"\"}}, \"type\": \"scatterternary\"}], \"surface\": [{\"colorbar\": {\"outlinewidth\": 0, \"ticks\": \"\"}, \"colorscale\": [[0.0, \"#0d0887\"], [0.1111111111111111, \"#46039f\"], [0.2222222222222222, \"#7201a8\"], [0.3333333333333333, \"#9c179e\"], [0.4444444444444444, \"#bd3786\"], [0.5555555555555556, \"#d8576b\"], [0.6666666666666666, \"#ed7953\"], [0.7777777777777778, \"#fb9f3a\"], [0.8888888888888888, \"#fdca26\"], [1.0, \"#f0f921\"]], \"type\": \"surface\"}], \"table\": [{\"cells\": {\"fill\": {\"color\": \"#EBF0F8\"}, \"line\": {\"color\": \"white\"}}, \"header\": {\"fill\": {\"color\": \"#C8D4E3\"}, \"line\": {\"color\": \"white\"}}, \"type\": \"table\"}]}, \"layout\": {\"annotationdefaults\": {\"arrowcolor\": \"#2a3f5f\", \"arrowhead\": 0, \"arrowwidth\": 1}, \"autotypenumbers\": \"strict\", \"coloraxis\": {\"colorbar\": {\"outlinewidth\": 0, \"ticks\": \"\"}}, \"colorscale\": {\"diverging\": [[0, \"#8e0152\"], [0.1, \"#c51b7d\"], [0.2, \"#de77ae\"], [0.3, \"#f1b6da\"], [0.4, \"#fde0ef\"], [0.5, \"#f7f7f7\"], [0.6, \"#e6f5d0\"], [0.7, \"#b8e186\"], [0.8, \"#7fbc41\"], [0.9, \"#4d9221\"], [1, \"#276419\"]], \"sequential\": [[0.0, \"#0d0887\"], [0.1111111111111111, \"#46039f\"], [0.2222222222222222, \"#7201a8\"], [0.3333333333333333, \"#9c179e\"], [0.4444444444444444, \"#bd3786\"], [0.5555555555555556, \"#d8576b\"], [0.6666666666666666, \"#ed7953\"], [0.7777777777777778, \"#fb9f3a\"], [0.8888888888888888, \"#fdca26\"], [1.0, \"#f0f921\"]], \"sequentialminus\": [[0.0, \"#0d0887\"], [0.1111111111111111, \"#46039f\"], [0.2222222222222222, \"#7201a8\"], [0.3333333333333333, \"#9c179e\"], [0.4444444444444444, \"#bd3786\"], [0.5555555555555556, \"#d8576b\"], [0.6666666666666666, \"#ed7953\"], [0.7777777777777778, \"#fb9f3a\"], [0.8888888888888888, \"#fdca26\"], [1.0, \"#f0f921\"]]}, \"colorway\": [\"#636efa\", \"#EF553B\", \"#00cc96\", \"#ab63fa\", \"#FFA15A\", \"#19d3f3\", \"#FF6692\", \"#B6E880\", \"#FF97FF\", \"#FECB52\"], \"font\": {\"color\": \"#2a3f5f\"}, \"geo\": {\"bgcolor\": \"white\", \"lakecolor\": \"white\", \"landcolor\": \"#E5ECF6\", \"showlakes\": true, \"showland\": true, \"subunitcolor\": \"white\"}, \"hoverlabel\": {\"align\": \"left\"}, \"hovermode\": \"closest\", \"mapbox\": {\"style\": \"light\"}, \"paper_bgcolor\": \"white\", \"plot_bgcolor\": \"#E5ECF6\", \"polar\": {\"angularaxis\": {\"gridcolor\": \"white\", \"linecolor\": \"white\", \"ticks\": \"\"}, \"bgcolor\": \"#E5ECF6\", \"radialaxis\": {\"gridcolor\": \"white\", \"linecolor\": \"white\", \"ticks\": \"\"}}, \"scene\": {\"xaxis\": {\"backgroundcolor\": \"#E5ECF6\", \"gridcolor\": \"white\", \"gridwidth\": 2, \"linecolor\": \"white\", \"showbackground\": true, \"ticks\": \"\", \"zerolinecolor\": \"white\"}, \"yaxis\": {\"backgroundcolor\": \"#E5ECF6\", \"gridcolor\": \"white\", \"gridwidth\": 2, \"linecolor\": \"white\", \"showbackground\": true, \"ticks\": \"\", \"zerolinecolor\": \"white\"}, \"zaxis\": {\"backgroundcolor\": \"#E5ECF6\", \"gridcolor\": \"white\", \"gridwidth\": 2, \"linecolor\": \"white\", \"showbackground\": true, \"ticks\": \"\", \"zerolinecolor\": \"white\"}}, \"shapedefaults\": {\"line\": {\"color\": \"#2a3f5f\"}}, \"ternary\": {\"aaxis\": {\"gridcolor\": \"white\", \"linecolor\": \"white\", \"ticks\": \"\"}, \"baxis\": {\"gridcolor\": \"white\", \"linecolor\": \"white\", \"ticks\": \"\"}, \"bgcolor\": \"#E5ECF6\", \"caxis\": {\"gridcolor\": \"white\", \"linecolor\": \"white\", \"ticks\": \"\"}}, \"title\": {\"x\": 0.05}, \"xaxis\": {\"automargin\": true, \"gridcolor\": \"white\", \"linecolor\": \"white\", \"ticks\": \"\", \"title\": {\"standoff\": 15}, \"zerolinecolor\": \"white\", \"zerolinewidth\": 2}, \"yaxis\": {\"automargin\": true, \"gridcolor\": \"white\", \"linecolor\": \"white\", \"ticks\": \"\", \"title\": {\"standoff\": 15}, \"zerolinecolor\": \"white\", \"zerolinewidth\": 2}}}, \"xaxis\": {\"anchor\": \"y\", \"domain\": [0.0, 1.0], \"title\": {\"text\": \"release_year\"}}, \"yaxis\": {\"anchor\": \"x\", \"domain\": [0.0, 1.0], \"title\": {\"text\": \"num_movies\"}}},                        {\"responsive\": true}                    ).then(function(){\n",
       "                            \n",
       "var gd = document.getElementById('d03c826b-0b90-4e0e-9644-e805fb37cfe5');\n",
       "var x = new MutationObserver(function (mutations, observer) {{\n",
       "        var display = window.getComputedStyle(gd).display;\n",
       "        if (!display || display === 'none') {{\n",
       "            console.log([gd, 'removed!']);\n",
       "            Plotly.purge(gd);\n",
       "            observer.disconnect();\n",
       "        }}\n",
       "}});\n",
       "\n",
       "// Listen for the removal of the full notebook cells\n",
       "var notebookContainer = gd.closest('#notebook-container');\n",
       "if (notebookContainer) {{\n",
       "    x.observe(notebookContainer, {childList: true});\n",
       "}}\n",
       "\n",
       "// Listen for the clearing of the current output cell\n",
       "var outputEl = gd.closest('.output');\n",
       "if (outputEl) {{\n",
       "    x.observe(outputEl, {childList: true});\n",
       "}}\n",
       "\n",
       "                        })                };                });            </script>        </div>"
      ]
     },
     "metadata": {},
     "output_type": "display_data"
    }
   ],
   "source": [
    "fig = px.bar(duration_per_year, x='release_year', y='num_movies')\n",
    "fig.show()"
   ]
  },
  {
   "cell_type": "markdown",
   "metadata": {},
   "source": [
    "It looks like most of the movies are released after year 2000 so we will only use these ones in oroder to have correct metrics  "
   ]
  },
  {
   "cell_type": "code",
   "execution_count": 43,
   "metadata": {},
   "outputs": [
    {
     "data": {
      "text/html": [
       "<div>\n",
       "<style scoped>\n",
       "    .dataframe tbody tr th:only-of-type {\n",
       "        vertical-align: middle;\n",
       "    }\n",
       "\n",
       "    .dataframe tbody tr th {\n",
       "        vertical-align: top;\n",
       "    }\n",
       "\n",
       "    .dataframe thead th {\n",
       "        text-align: right;\n",
       "    }\n",
       "</style>\n",
       "<table border=\"1\" class=\"dataframe\">\n",
       "  <thead>\n",
       "    <tr style=\"text-align: right;\">\n",
       "      <th></th>\n",
       "      <th>release_year</th>\n",
       "      <th>num_movies</th>\n",
       "      <th>average_duration</th>\n",
       "      <th>min_duration</th>\n",
       "      <th>max_duration</th>\n",
       "    </tr>\n",
       "  </thead>\n",
       "  <tbody>\n",
       "    <tr>\n",
       "      <th>51</th>\n",
       "      <td>2001</td>\n",
       "      <td>32</td>\n",
       "      <td>118.875000</td>\n",
       "      <td>42</td>\n",
       "      <td>224</td>\n",
       "    </tr>\n",
       "    <tr>\n",
       "      <th>52</th>\n",
       "      <td>2002</td>\n",
       "      <td>39</td>\n",
       "      <td>118.871795</td>\n",
       "      <td>78</td>\n",
       "      <td>179</td>\n",
       "    </tr>\n",
       "    <tr>\n",
       "      <th>53</th>\n",
       "      <td>2003</td>\n",
       "      <td>40</td>\n",
       "      <td>117.125000</td>\n",
       "      <td>37</td>\n",
       "      <td>201</td>\n",
       "    </tr>\n",
       "    <tr>\n",
       "      <th>54</th>\n",
       "      <td>2004</td>\n",
       "      <td>50</td>\n",
       "      <td>115.940000</td>\n",
       "      <td>46</td>\n",
       "      <td>185</td>\n",
       "    </tr>\n",
       "    <tr>\n",
       "      <th>55</th>\n",
       "      <td>2005</td>\n",
       "      <td>61</td>\n",
       "      <td>114.360656</td>\n",
       "      <td>55</td>\n",
       "      <td>208</td>\n",
       "    </tr>\n",
       "    <tr>\n",
       "      <th>56</th>\n",
       "      <td>2006</td>\n",
       "      <td>72</td>\n",
       "      <td>114.541667</td>\n",
       "      <td>45</td>\n",
       "      <td>196</td>\n",
       "    </tr>\n",
       "    <tr>\n",
       "      <th>57</th>\n",
       "      <td>2007</td>\n",
       "      <td>72</td>\n",
       "      <td>113.069444</td>\n",
       "      <td>70</td>\n",
       "      <td>169</td>\n",
       "    </tr>\n",
       "    <tr>\n",
       "      <th>58</th>\n",
       "      <td>2008</td>\n",
       "      <td>102</td>\n",
       "      <td>106.666667</td>\n",
       "      <td>25</td>\n",
       "      <td>214</td>\n",
       "    </tr>\n",
       "    <tr>\n",
       "      <th>59</th>\n",
       "      <td>2009</td>\n",
       "      <td>103</td>\n",
       "      <td>108.621359</td>\n",
       "      <td>29</td>\n",
       "      <td>203</td>\n",
       "    </tr>\n",
       "    <tr>\n",
       "      <th>60</th>\n",
       "      <td>2010</td>\n",
       "      <td>136</td>\n",
       "      <td>104.426471</td>\n",
       "      <td>23</td>\n",
       "      <td>186</td>\n",
       "    </tr>\n",
       "    <tr>\n",
       "      <th>61</th>\n",
       "      <td>2011</td>\n",
       "      <td>127</td>\n",
       "      <td>102.826772</td>\n",
       "      <td>24</td>\n",
       "      <td>164</td>\n",
       "    </tr>\n",
       "    <tr>\n",
       "      <th>62</th>\n",
       "      <td>2012</td>\n",
       "      <td>158</td>\n",
       "      <td>100.620253</td>\n",
       "      <td>23</td>\n",
       "      <td>172</td>\n",
       "    </tr>\n",
       "    <tr>\n",
       "      <th>63</th>\n",
       "      <td>2013</td>\n",
       "      <td>202</td>\n",
       "      <td>98.752475</td>\n",
       "      <td>22</td>\n",
       "      <td>180</td>\n",
       "    </tr>\n",
       "    <tr>\n",
       "      <th>64</th>\n",
       "      <td>2014</td>\n",
       "      <td>244</td>\n",
       "      <td>100.266393</td>\n",
       "      <td>3</td>\n",
       "      <td>190</td>\n",
       "    </tr>\n",
       "    <tr>\n",
       "      <th>65</th>\n",
       "      <td>2015</td>\n",
       "      <td>382</td>\n",
       "      <td>99.827225</td>\n",
       "      <td>12</td>\n",
       "      <td>205</td>\n",
       "    </tr>\n",
       "    <tr>\n",
       "      <th>66</th>\n",
       "      <td>2016</td>\n",
       "      <td>642</td>\n",
       "      <td>95.112150</td>\n",
       "      <td>22</td>\n",
       "      <td>173</td>\n",
       "    </tr>\n",
       "    <tr>\n",
       "      <th>67</th>\n",
       "      <td>2017</td>\n",
       "      <td>744</td>\n",
       "      <td>94.836022</td>\n",
       "      <td>11</td>\n",
       "      <td>166</td>\n",
       "    </tr>\n",
       "    <tr>\n",
       "      <th>68</th>\n",
       "      <td>2018</td>\n",
       "      <td>734</td>\n",
       "      <td>96.170300</td>\n",
       "      <td>12</td>\n",
       "      <td>312</td>\n",
       "    </tr>\n",
       "    <tr>\n",
       "      <th>69</th>\n",
       "      <td>2019</td>\n",
       "      <td>582</td>\n",
       "      <td>93.457045</td>\n",
       "      <td>10</td>\n",
       "      <td>209</td>\n",
       "    </tr>\n",
       "    <tr>\n",
       "      <th>70</th>\n",
       "      <td>2020</td>\n",
       "      <td>411</td>\n",
       "      <td>89.795620</td>\n",
       "      <td>5</td>\n",
       "      <td>190</td>\n",
       "    </tr>\n",
       "    <tr>\n",
       "      <th>71</th>\n",
       "      <td>2021</td>\n",
       "      <td>12</td>\n",
       "      <td>80.166667</td>\n",
       "      <td>14</td>\n",
       "      <td>116</td>\n",
       "    </tr>\n",
       "  </tbody>\n",
       "</table>\n",
       "</div>"
      ],
      "text/plain": [
       "    release_year  num_movies  average_duration  min_duration  max_duration\n",
       "51          2001          32        118.875000            42           224\n",
       "52          2002          39        118.871795            78           179\n",
       "53          2003          40        117.125000            37           201\n",
       "54          2004          50        115.940000            46           185\n",
       "55          2005          61        114.360656            55           208\n",
       "56          2006          72        114.541667            45           196\n",
       "57          2007          72        113.069444            70           169\n",
       "58          2008         102        106.666667            25           214\n",
       "59          2009         103        108.621359            29           203\n",
       "60          2010         136        104.426471            23           186\n",
       "61          2011         127        102.826772            24           164\n",
       "62          2012         158        100.620253            23           172\n",
       "63          2013         202         98.752475            22           180\n",
       "64          2014         244        100.266393             3           190\n",
       "65          2015         382         99.827225            12           205\n",
       "66          2016         642         95.112150            22           173\n",
       "67          2017         744         94.836022            11           166\n",
       "68          2018         734         96.170300            12           312\n",
       "69          2019         582         93.457045            10           209\n",
       "70          2020         411         89.795620             5           190\n",
       "71          2021          12         80.166667            14           116"
      ]
     },
     "execution_count": 43,
     "metadata": {},
     "output_type": "execute_result"
    }
   ],
   "source": [
    "recent_movies = duration_per_year[duration_per_year['release_year'] > 2000].copy()\n",
    "\n",
    "recent_movies"
   ]
  },
  {
   "cell_type": "markdown",
   "metadata": {},
   "source": [
    "We can also compute the regression line of the average duration"
   ]
  },
  {
   "cell_type": "code",
   "execution_count": 75,
   "metadata": {},
   "outputs": [
    {
     "data": {
      "text/plain": [
       "'rbf'"
      ]
     },
     "execution_count": 75,
     "metadata": {},
     "output_type": "execute_result"
    }
   ],
   "source": [
    "model.kernel"
   ]
  },
  {
   "cell_type": "code",
   "execution_count": 80,
   "metadata": {},
   "outputs": [],
   "source": [
    "from sklearn.linear_model import LinearRegression\n",
    "from sklearn.svm import SVR\n",
    "from sklearn.pipeline import make_pipeline\n",
    "from sklearn.preprocessing import StandardScaler\n",
    "\n",
    "\n",
    "x = recent_movies['release_year'].values.reshape(-1, 1)\n",
    "y = recent_movies['average_duration'].values\n",
    "\n",
    "model = make_pipeline(StandardScaler(), SVR())\n",
    "\n",
    "model = SVR(kernel='linear')\n",
    "model.fit(x, y)\n",
    "\n",
    "x_future = np.linspace(2021, 2025, 100)\n",
    "y_future = model.predict(x_future.reshape(-1, 1))"
   ]
  },
  {
   "cell_type": "markdown",
   "metadata": {},
   "source": [
    "Plot all the data"
   ]
  },
  {
   "cell_type": "code",
   "execution_count": 85,
   "metadata": {},
   "outputs": [
    {
     "data": {
      "application/vnd.plotly.v1+json": {
       "config": {
        "plotlyServerURL": "https://plot.ly"
       },
       "data": [
        {
         "line": {
          "color": "firebrick",
          "width": 2
         },
         "mode": "lines+markers",
         "name": "Average duration",
         "type": "scatter",
         "x": [
          2001,
          2002,
          2003,
          2004,
          2005,
          2006,
          2007,
          2008,
          2009,
          2010,
          2011,
          2012,
          2013,
          2014,
          2015,
          2016,
          2017,
          2018,
          2019,
          2020,
          2021
         ],
         "y": [
          118.875,
          118.87179487179488,
          117.125,
          115.94,
          114.36065573770492,
          114.54166666666667,
          113.06944444444444,
          106.66666666666667,
          108.62135922330097,
          104.42647058823529,
          102.8267716535433,
          100.62025316455696,
          98.75247524752476,
          100.26639344262296,
          99.82722513089006,
          95.11214953271028,
          94.83602150537635,
          96.17029972752043,
          93.45704467353951,
          89.7956204379562,
          80.16666666666667
         ]
        },
        {
         "line": {
          "color": "royalblue",
          "dash": "dot",
          "width": 2
         },
         "mode": "lines+markers",
         "name": "Minimum duration",
         "type": "scatter",
         "x": [
          2001,
          2002,
          2003,
          2004,
          2005,
          2006,
          2007,
          2008,
          2009,
          2010,
          2011,
          2012,
          2013,
          2014,
          2015,
          2016,
          2017,
          2018,
          2019,
          2020,
          2021
         ],
         "y": [
          42,
          78,
          37,
          46,
          55,
          45,
          70,
          25,
          29,
          23,
          24,
          23,
          22,
          3,
          12,
          22,
          11,
          12,
          10,
          5,
          14
         ]
        },
        {
         "line": {
          "color": "blueviolet",
          "dash": "dashdot",
          "width": 2
         },
         "name": "Regression Line",
         "type": "scatter",
         "x": [
          2021,
          2021.040404040404,
          2021.080808080808,
          2021.121212121212,
          2021.1616161616162,
          2021.20202020202,
          2021.2424242424242,
          2021.2828282828282,
          2021.3232323232323,
          2021.3636363636363,
          2021.4040404040404,
          2021.4444444444443,
          2021.4848484848485,
          2021.5252525252524,
          2021.5656565656566,
          2021.6060606060605,
          2021.6464646464647,
          2021.6868686868686,
          2021.7272727272727,
          2021.7676767676767,
          2021.8080808080808,
          2021.8484848484848,
          2021.888888888889,
          2021.9292929292928,
          2021.969696969697,
          2022.010101010101,
          2022.050505050505,
          2022.090909090909,
          2022.1313131313132,
          2022.171717171717,
          2022.2121212121212,
          2022.2525252525252,
          2022.2929292929293,
          2022.3333333333333,
          2022.3737373737374,
          2022.4141414141413,
          2022.4545454545455,
          2022.4949494949494,
          2022.5353535353536,
          2022.5757575757575,
          2022.6161616161617,
          2022.6565656565656,
          2022.6969696969697,
          2022.7373737373737,
          2022.7777777777778,
          2022.8181818181818,
          2022.858585858586,
          2022.8989898989898,
          2022.939393939394,
          2022.979797979798,
          2023.020202020202,
          2023.060606060606,
          2023.1010101010102,
          2023.141414141414,
          2023.1818181818182,
          2023.2222222222222,
          2023.2626262626263,
          2023.3030303030303,
          2023.3434343434344,
          2023.3838383838383,
          2023.4242424242425,
          2023.4646464646464,
          2023.5050505050506,
          2023.5454545454545,
          2023.5858585858587,
          2023.6262626262626,
          2023.6666666666667,
          2023.7070707070707,
          2023.7474747474748,
          2023.7878787878788,
          2023.828282828283,
          2023.8686868686868,
          2023.909090909091,
          2023.949494949495,
          2023.989898989899,
          2024.030303030303,
          2024.0707070707072,
          2024.111111111111,
          2024.1515151515152,
          2024.1919191919192,
          2024.2323232323233,
          2024.2727272727273,
          2024.3131313131314,
          2024.3535353535353,
          2024.3939393939395,
          2024.4343434343434,
          2024.4747474747476,
          2024.5151515151515,
          2024.5555555555557,
          2024.5959595959596,
          2024.6363636363637,
          2024.6767676767677,
          2024.7171717171718,
          2024.7575757575758,
          2024.79797979798,
          2024.8383838383838,
          2024.878787878788,
          2024.919191919192,
          2024.959595959596,
          2025
         ],
         "y": [
          88.31059907809595,
          88.24569582161257,
          88.18079256466353,
          88.11588930678317,
          88.0509860502998,
          87.9860827928851,
          87.92117953407342,
          87.85627628131533,
          87.79137302110666,
          87.72646976602027,
          87.66156650907124,
          87.59666325351918,
          87.5317599970358,
          87.46685673775846,
          87.40195348220641,
          87.33705022479171,
          87.27214696830833,
          87.20724371182496,
          87.1423404539446,
          87.0774371965299,
          87.01253394330615,
          86.94763068263183,
          86.8827274280111,
          86.81782417152772,
          86.75292091411302,
          86.68801765669832,
          86.62311439928362,
          86.55821114466289,
          86.49330788631687,
          86.42840463123048,
          86.36350137381578,
          86.29859811593542,
          86.23369485945204,
          86.168791602503,
          86.10388834508831,
          86.03898508860493,
          85.97408183351854,
          85.90917857563818,
          85.84427532008613,
          85.77937206080878,
          85.71446880292842,
          85.64956554830769,
          85.58466229135865,
          85.51975903487528,
          85.4548557760636,
          85.38995251958022,
          85.32504926402817,
          85.2601460061478,
          85.19524275106141,
          85.1303394927154,
          85.0654362353007,
          85.00053297881732,
          84.93562972186828,
          84.87072646585057,
          84.80582320843587,
          84.74091995195249,
          84.67601669593478,
          84.61111343665743,
          84.54621018157104,
          84.48130692695031,
          84.4164036672073,
          84.3515004097926,
          84.28659715237791,
          84.2216938963602,
          84.1567906412738,
          84.09188738292778,
          84.0269841264444,
          83.96208086856404,
          83.89717761208067,
          83.83227435513163,
          83.76737109864825,
          83.70246784356186,
          83.6375645833532,
          83.57266132873247,
          83.50775807224909,
          83.44285481390307,
          83.37795155741969,
          83.313048300005,
          83.24814504538426,
          83.18324178564126,
          83.11833853334883,
          83.05343527407149,
          82.98853201805377,
          82.92362875970775,
          82.85872550322438,
          82.79382224580968,
          82.72891899025763,
          82.66401573098028,
          82.5991124744969,
          82.53420921894485,
          82.46930596199581,
          82.40440270690942,
          82.3394994485634,
          82.27459619394267,
          82.20969293513099,
          82.14478967864761,
          82.07988642123291,
          82.0149831652152,
          81.95007990640352,
          81.88517665178279
         ]
        },
        {
         "line": {
          "color": "green",
          "dash": "dot",
          "width": 2
         },
         "mode": "lines+markers",
         "name": "Maximum duration",
         "type": "scatter",
         "x": [
          2001,
          2002,
          2003,
          2004,
          2005,
          2006,
          2007,
          2008,
          2009,
          2010,
          2011,
          2012,
          2013,
          2014,
          2015,
          2016,
          2017,
          2018,
          2019,
          2020,
          2021
         ],
         "y": [
          224,
          179,
          201,
          185,
          208,
          196,
          169,
          214,
          203,
          186,
          164,
          172,
          180,
          190,
          205,
          173,
          166,
          312,
          209,
          190,
          116
         ]
        }
       ],
       "layout": {
        "template": {
         "data": {
          "bar": [
           {
            "error_x": {
             "color": "#2a3f5f"
            },
            "error_y": {
             "color": "#2a3f5f"
            },
            "marker": {
             "line": {
              "color": "#E5ECF6",
              "width": 0.5
             }
            },
            "type": "bar"
           }
          ],
          "barpolar": [
           {
            "marker": {
             "line": {
              "color": "#E5ECF6",
              "width": 0.5
             }
            },
            "type": "barpolar"
           }
          ],
          "carpet": [
           {
            "aaxis": {
             "endlinecolor": "#2a3f5f",
             "gridcolor": "white",
             "linecolor": "white",
             "minorgridcolor": "white",
             "startlinecolor": "#2a3f5f"
            },
            "baxis": {
             "endlinecolor": "#2a3f5f",
             "gridcolor": "white",
             "linecolor": "white",
             "minorgridcolor": "white",
             "startlinecolor": "#2a3f5f"
            },
            "type": "carpet"
           }
          ],
          "choropleth": [
           {
            "colorbar": {
             "outlinewidth": 0,
             "ticks": ""
            },
            "type": "choropleth"
           }
          ],
          "contour": [
           {
            "colorbar": {
             "outlinewidth": 0,
             "ticks": ""
            },
            "colorscale": [
             [
              0,
              "#0d0887"
             ],
             [
              0.1111111111111111,
              "#46039f"
             ],
             [
              0.2222222222222222,
              "#7201a8"
             ],
             [
              0.3333333333333333,
              "#9c179e"
             ],
             [
              0.4444444444444444,
              "#bd3786"
             ],
             [
              0.5555555555555556,
              "#d8576b"
             ],
             [
              0.6666666666666666,
              "#ed7953"
             ],
             [
              0.7777777777777778,
              "#fb9f3a"
             ],
             [
              0.8888888888888888,
              "#fdca26"
             ],
             [
              1,
              "#f0f921"
             ]
            ],
            "type": "contour"
           }
          ],
          "contourcarpet": [
           {
            "colorbar": {
             "outlinewidth": 0,
             "ticks": ""
            },
            "type": "contourcarpet"
           }
          ],
          "heatmap": [
           {
            "colorbar": {
             "outlinewidth": 0,
             "ticks": ""
            },
            "colorscale": [
             [
              0,
              "#0d0887"
             ],
             [
              0.1111111111111111,
              "#46039f"
             ],
             [
              0.2222222222222222,
              "#7201a8"
             ],
             [
              0.3333333333333333,
              "#9c179e"
             ],
             [
              0.4444444444444444,
              "#bd3786"
             ],
             [
              0.5555555555555556,
              "#d8576b"
             ],
             [
              0.6666666666666666,
              "#ed7953"
             ],
             [
              0.7777777777777778,
              "#fb9f3a"
             ],
             [
              0.8888888888888888,
              "#fdca26"
             ],
             [
              1,
              "#f0f921"
             ]
            ],
            "type": "heatmap"
           }
          ],
          "heatmapgl": [
           {
            "colorbar": {
             "outlinewidth": 0,
             "ticks": ""
            },
            "colorscale": [
             [
              0,
              "#0d0887"
             ],
             [
              0.1111111111111111,
              "#46039f"
             ],
             [
              0.2222222222222222,
              "#7201a8"
             ],
             [
              0.3333333333333333,
              "#9c179e"
             ],
             [
              0.4444444444444444,
              "#bd3786"
             ],
             [
              0.5555555555555556,
              "#d8576b"
             ],
             [
              0.6666666666666666,
              "#ed7953"
             ],
             [
              0.7777777777777778,
              "#fb9f3a"
             ],
             [
              0.8888888888888888,
              "#fdca26"
             ],
             [
              1,
              "#f0f921"
             ]
            ],
            "type": "heatmapgl"
           }
          ],
          "histogram": [
           {
            "marker": {
             "colorbar": {
              "outlinewidth": 0,
              "ticks": ""
             }
            },
            "type": "histogram"
           }
          ],
          "histogram2d": [
           {
            "colorbar": {
             "outlinewidth": 0,
             "ticks": ""
            },
            "colorscale": [
             [
              0,
              "#0d0887"
             ],
             [
              0.1111111111111111,
              "#46039f"
             ],
             [
              0.2222222222222222,
              "#7201a8"
             ],
             [
              0.3333333333333333,
              "#9c179e"
             ],
             [
              0.4444444444444444,
              "#bd3786"
             ],
             [
              0.5555555555555556,
              "#d8576b"
             ],
             [
              0.6666666666666666,
              "#ed7953"
             ],
             [
              0.7777777777777778,
              "#fb9f3a"
             ],
             [
              0.8888888888888888,
              "#fdca26"
             ],
             [
              1,
              "#f0f921"
             ]
            ],
            "type": "histogram2d"
           }
          ],
          "histogram2dcontour": [
           {
            "colorbar": {
             "outlinewidth": 0,
             "ticks": ""
            },
            "colorscale": [
             [
              0,
              "#0d0887"
             ],
             [
              0.1111111111111111,
              "#46039f"
             ],
             [
              0.2222222222222222,
              "#7201a8"
             ],
             [
              0.3333333333333333,
              "#9c179e"
             ],
             [
              0.4444444444444444,
              "#bd3786"
             ],
             [
              0.5555555555555556,
              "#d8576b"
             ],
             [
              0.6666666666666666,
              "#ed7953"
             ],
             [
              0.7777777777777778,
              "#fb9f3a"
             ],
             [
              0.8888888888888888,
              "#fdca26"
             ],
             [
              1,
              "#f0f921"
             ]
            ],
            "type": "histogram2dcontour"
           }
          ],
          "mesh3d": [
           {
            "colorbar": {
             "outlinewidth": 0,
             "ticks": ""
            },
            "type": "mesh3d"
           }
          ],
          "parcoords": [
           {
            "line": {
             "colorbar": {
              "outlinewidth": 0,
              "ticks": ""
             }
            },
            "type": "parcoords"
           }
          ],
          "pie": [
           {
            "automargin": true,
            "type": "pie"
           }
          ],
          "scatter": [
           {
            "marker": {
             "colorbar": {
              "outlinewidth": 0,
              "ticks": ""
             }
            },
            "type": "scatter"
           }
          ],
          "scatter3d": [
           {
            "line": {
             "colorbar": {
              "outlinewidth": 0,
              "ticks": ""
             }
            },
            "marker": {
             "colorbar": {
              "outlinewidth": 0,
              "ticks": ""
             }
            },
            "type": "scatter3d"
           }
          ],
          "scattercarpet": [
           {
            "marker": {
             "colorbar": {
              "outlinewidth": 0,
              "ticks": ""
             }
            },
            "type": "scattercarpet"
           }
          ],
          "scattergeo": [
           {
            "marker": {
             "colorbar": {
              "outlinewidth": 0,
              "ticks": ""
             }
            },
            "type": "scattergeo"
           }
          ],
          "scattergl": [
           {
            "marker": {
             "colorbar": {
              "outlinewidth": 0,
              "ticks": ""
             }
            },
            "type": "scattergl"
           }
          ],
          "scattermapbox": [
           {
            "marker": {
             "colorbar": {
              "outlinewidth": 0,
              "ticks": ""
             }
            },
            "type": "scattermapbox"
           }
          ],
          "scatterpolar": [
           {
            "marker": {
             "colorbar": {
              "outlinewidth": 0,
              "ticks": ""
             }
            },
            "type": "scatterpolar"
           }
          ],
          "scatterpolargl": [
           {
            "marker": {
             "colorbar": {
              "outlinewidth": 0,
              "ticks": ""
             }
            },
            "type": "scatterpolargl"
           }
          ],
          "scatterternary": [
           {
            "marker": {
             "colorbar": {
              "outlinewidth": 0,
              "ticks": ""
             }
            },
            "type": "scatterternary"
           }
          ],
          "surface": [
           {
            "colorbar": {
             "outlinewidth": 0,
             "ticks": ""
            },
            "colorscale": [
             [
              0,
              "#0d0887"
             ],
             [
              0.1111111111111111,
              "#46039f"
             ],
             [
              0.2222222222222222,
              "#7201a8"
             ],
             [
              0.3333333333333333,
              "#9c179e"
             ],
             [
              0.4444444444444444,
              "#bd3786"
             ],
             [
              0.5555555555555556,
              "#d8576b"
             ],
             [
              0.6666666666666666,
              "#ed7953"
             ],
             [
              0.7777777777777778,
              "#fb9f3a"
             ],
             [
              0.8888888888888888,
              "#fdca26"
             ],
             [
              1,
              "#f0f921"
             ]
            ],
            "type": "surface"
           }
          ],
          "table": [
           {
            "cells": {
             "fill": {
              "color": "#EBF0F8"
             },
             "line": {
              "color": "white"
             }
            },
            "header": {
             "fill": {
              "color": "#C8D4E3"
             },
             "line": {
              "color": "white"
             }
            },
            "type": "table"
           }
          ]
         },
         "layout": {
          "annotationdefaults": {
           "arrowcolor": "#2a3f5f",
           "arrowhead": 0,
           "arrowwidth": 1
          },
          "autotypenumbers": "strict",
          "coloraxis": {
           "colorbar": {
            "outlinewidth": 0,
            "ticks": ""
           }
          },
          "colorscale": {
           "diverging": [
            [
             0,
             "#8e0152"
            ],
            [
             0.1,
             "#c51b7d"
            ],
            [
             0.2,
             "#de77ae"
            ],
            [
             0.3,
             "#f1b6da"
            ],
            [
             0.4,
             "#fde0ef"
            ],
            [
             0.5,
             "#f7f7f7"
            ],
            [
             0.6,
             "#e6f5d0"
            ],
            [
             0.7,
             "#b8e186"
            ],
            [
             0.8,
             "#7fbc41"
            ],
            [
             0.9,
             "#4d9221"
            ],
            [
             1,
             "#276419"
            ]
           ],
           "sequential": [
            [
             0,
             "#0d0887"
            ],
            [
             0.1111111111111111,
             "#46039f"
            ],
            [
             0.2222222222222222,
             "#7201a8"
            ],
            [
             0.3333333333333333,
             "#9c179e"
            ],
            [
             0.4444444444444444,
             "#bd3786"
            ],
            [
             0.5555555555555556,
             "#d8576b"
            ],
            [
             0.6666666666666666,
             "#ed7953"
            ],
            [
             0.7777777777777778,
             "#fb9f3a"
            ],
            [
             0.8888888888888888,
             "#fdca26"
            ],
            [
             1,
             "#f0f921"
            ]
           ],
           "sequentialminus": [
            [
             0,
             "#0d0887"
            ],
            [
             0.1111111111111111,
             "#46039f"
            ],
            [
             0.2222222222222222,
             "#7201a8"
            ],
            [
             0.3333333333333333,
             "#9c179e"
            ],
            [
             0.4444444444444444,
             "#bd3786"
            ],
            [
             0.5555555555555556,
             "#d8576b"
            ],
            [
             0.6666666666666666,
             "#ed7953"
            ],
            [
             0.7777777777777778,
             "#fb9f3a"
            ],
            [
             0.8888888888888888,
             "#fdca26"
            ],
            [
             1,
             "#f0f921"
            ]
           ]
          },
          "colorway": [
           "#636efa",
           "#EF553B",
           "#00cc96",
           "#ab63fa",
           "#FFA15A",
           "#19d3f3",
           "#FF6692",
           "#B6E880",
           "#FF97FF",
           "#FECB52"
          ],
          "font": {
           "color": "#2a3f5f"
          },
          "geo": {
           "bgcolor": "white",
           "lakecolor": "white",
           "landcolor": "#E5ECF6",
           "showlakes": true,
           "showland": true,
           "subunitcolor": "white"
          },
          "hoverlabel": {
           "align": "left"
          },
          "hovermode": "closest",
          "mapbox": {
           "style": "light"
          },
          "paper_bgcolor": "white",
          "plot_bgcolor": "#E5ECF6",
          "polar": {
           "angularaxis": {
            "gridcolor": "white",
            "linecolor": "white",
            "ticks": ""
           },
           "bgcolor": "#E5ECF6",
           "radialaxis": {
            "gridcolor": "white",
            "linecolor": "white",
            "ticks": ""
           }
          },
          "scene": {
           "xaxis": {
            "backgroundcolor": "#E5ECF6",
            "gridcolor": "white",
            "gridwidth": 2,
            "linecolor": "white",
            "showbackground": true,
            "ticks": "",
            "zerolinecolor": "white"
           },
           "yaxis": {
            "backgroundcolor": "#E5ECF6",
            "gridcolor": "white",
            "gridwidth": 2,
            "linecolor": "white",
            "showbackground": true,
            "ticks": "",
            "zerolinecolor": "white"
           },
           "zaxis": {
            "backgroundcolor": "#E5ECF6",
            "gridcolor": "white",
            "gridwidth": 2,
            "linecolor": "white",
            "showbackground": true,
            "ticks": "",
            "zerolinecolor": "white"
           }
          },
          "shapedefaults": {
           "line": {
            "color": "#2a3f5f"
           }
          },
          "ternary": {
           "aaxis": {
            "gridcolor": "white",
            "linecolor": "white",
            "ticks": ""
           },
           "baxis": {
            "gridcolor": "white",
            "linecolor": "white",
            "ticks": ""
           },
           "bgcolor": "#E5ECF6",
           "caxis": {
            "gridcolor": "white",
            "linecolor": "white",
            "ticks": ""
           }
          },
          "title": {
           "x": 0.05
          },
          "xaxis": {
           "automargin": true,
           "gridcolor": "white",
           "linecolor": "white",
           "ticks": "",
           "title": {
            "standoff": 15
           },
           "zerolinecolor": "white",
           "zerolinewidth": 2
          },
          "yaxis": {
           "automargin": true,
           "gridcolor": "white",
           "linecolor": "white",
           "ticks": "",
           "title": {
            "standoff": 15
           },
           "zerolinecolor": "white",
           "zerolinewidth": 2
          }
         }
        },
        "title": {
         "text": "Duration of movies from the Netflix collection by release year"
        },
        "xaxis": {
         "title": {
          "text": "Release year"
         }
        },
        "yaxis": {
         "title": {
          "text": "Duration (minutes)"
         }
        }
       }
      },
      "text/html": [
       "<div>                            <div id=\"59c8afb1-99a1-4008-a9db-8a02b2d40f91\" class=\"plotly-graph-div\" style=\"height:525px; width:100%;\"></div>            <script type=\"text/javascript\">                require([\"plotly\"], function(Plotly) {                    window.PLOTLYENV=window.PLOTLYENV || {};                                    if (document.getElementById(\"59c8afb1-99a1-4008-a9db-8a02b2d40f91\")) {                    Plotly.newPlot(                        \"59c8afb1-99a1-4008-a9db-8a02b2d40f91\",                        [{\"line\": {\"color\": \"firebrick\", \"width\": 2}, \"mode\": \"lines+markers\", \"name\": \"Average duration\", \"type\": \"scatter\", \"x\": [2001, 2002, 2003, 2004, 2005, 2006, 2007, 2008, 2009, 2010, 2011, 2012, 2013, 2014, 2015, 2016, 2017, 2018, 2019, 2020, 2021], \"y\": [118.875, 118.87179487179488, 117.125, 115.94, 114.36065573770492, 114.54166666666667, 113.06944444444444, 106.66666666666667, 108.62135922330097, 104.42647058823529, 102.8267716535433, 100.62025316455696, 98.75247524752476, 100.26639344262296, 99.82722513089006, 95.11214953271028, 94.83602150537635, 96.17029972752043, 93.45704467353951, 89.7956204379562, 80.16666666666667]}, {\"line\": {\"color\": \"royalblue\", \"dash\": \"dot\", \"width\": 2}, \"mode\": \"lines+markers\", \"name\": \"Minimum duration\", \"type\": \"scatter\", \"x\": [2001, 2002, 2003, 2004, 2005, 2006, 2007, 2008, 2009, 2010, 2011, 2012, 2013, 2014, 2015, 2016, 2017, 2018, 2019, 2020, 2021], \"y\": [42, 78, 37, 46, 55, 45, 70, 25, 29, 23, 24, 23, 22, 3, 12, 22, 11, 12, 10, 5, 14]}, {\"line\": {\"color\": \"blueviolet\", \"dash\": \"dashdot\", \"width\": 2}, \"name\": \"Regression Line\", \"type\": \"scatter\", \"x\": [2021.0, 2021.040404040404, 2021.080808080808, 2021.121212121212, 2021.1616161616162, 2021.20202020202, 2021.2424242424242, 2021.2828282828282, 2021.3232323232323, 2021.3636363636363, 2021.4040404040404, 2021.4444444444443, 2021.4848484848485, 2021.5252525252524, 2021.5656565656566, 2021.6060606060605, 2021.6464646464647, 2021.6868686868686, 2021.7272727272727, 2021.7676767676767, 2021.8080808080808, 2021.8484848484848, 2021.888888888889, 2021.9292929292928, 2021.969696969697, 2022.010101010101, 2022.050505050505, 2022.090909090909, 2022.1313131313132, 2022.171717171717, 2022.2121212121212, 2022.2525252525252, 2022.2929292929293, 2022.3333333333333, 2022.3737373737374, 2022.4141414141413, 2022.4545454545455, 2022.4949494949494, 2022.5353535353536, 2022.5757575757575, 2022.6161616161617, 2022.6565656565656, 2022.6969696969697, 2022.7373737373737, 2022.7777777777778, 2022.8181818181818, 2022.858585858586, 2022.8989898989898, 2022.939393939394, 2022.979797979798, 2023.020202020202, 2023.060606060606, 2023.1010101010102, 2023.141414141414, 2023.1818181818182, 2023.2222222222222, 2023.2626262626263, 2023.3030303030303, 2023.3434343434344, 2023.3838383838383, 2023.4242424242425, 2023.4646464646464, 2023.5050505050506, 2023.5454545454545, 2023.5858585858587, 2023.6262626262626, 2023.6666666666667, 2023.7070707070707, 2023.7474747474748, 2023.7878787878788, 2023.828282828283, 2023.8686868686868, 2023.909090909091, 2023.949494949495, 2023.989898989899, 2024.030303030303, 2024.0707070707072, 2024.111111111111, 2024.1515151515152, 2024.1919191919192, 2024.2323232323233, 2024.2727272727273, 2024.3131313131314, 2024.3535353535353, 2024.3939393939395, 2024.4343434343434, 2024.4747474747476, 2024.5151515151515, 2024.5555555555557, 2024.5959595959596, 2024.6363636363637, 2024.6767676767677, 2024.7171717171718, 2024.7575757575758, 2024.79797979798, 2024.8383838383838, 2024.878787878788, 2024.919191919192, 2024.959595959596, 2025.0], \"y\": [88.31059907809595, 88.24569582161257, 88.18079256466353, 88.11588930678317, 88.0509860502998, 87.9860827928851, 87.92117953407342, 87.85627628131533, 87.79137302110666, 87.72646976602027, 87.66156650907124, 87.59666325351918, 87.5317599970358, 87.46685673775846, 87.40195348220641, 87.33705022479171, 87.27214696830833, 87.20724371182496, 87.1423404539446, 87.0774371965299, 87.01253394330615, 86.94763068263183, 86.8827274280111, 86.81782417152772, 86.75292091411302, 86.68801765669832, 86.62311439928362, 86.55821114466289, 86.49330788631687, 86.42840463123048, 86.36350137381578, 86.29859811593542, 86.23369485945204, 86.168791602503, 86.10388834508831, 86.03898508860493, 85.97408183351854, 85.90917857563818, 85.84427532008613, 85.77937206080878, 85.71446880292842, 85.64956554830769, 85.58466229135865, 85.51975903487528, 85.4548557760636, 85.38995251958022, 85.32504926402817, 85.2601460061478, 85.19524275106141, 85.1303394927154, 85.0654362353007, 85.00053297881732, 84.93562972186828, 84.87072646585057, 84.80582320843587, 84.74091995195249, 84.67601669593478, 84.61111343665743, 84.54621018157104, 84.48130692695031, 84.4164036672073, 84.3515004097926, 84.28659715237791, 84.2216938963602, 84.1567906412738, 84.09188738292778, 84.0269841264444, 83.96208086856404, 83.89717761208067, 83.83227435513163, 83.76737109864825, 83.70246784356186, 83.6375645833532, 83.57266132873247, 83.50775807224909, 83.44285481390307, 83.37795155741969, 83.313048300005, 83.24814504538426, 83.18324178564126, 83.11833853334883, 83.05343527407149, 82.98853201805377, 82.92362875970775, 82.85872550322438, 82.79382224580968, 82.72891899025763, 82.66401573098028, 82.5991124744969, 82.53420921894485, 82.46930596199581, 82.40440270690942, 82.3394994485634, 82.27459619394267, 82.20969293513099, 82.14478967864761, 82.07988642123291, 82.0149831652152, 81.95007990640352, 81.88517665178279]}, {\"line\": {\"color\": \"green\", \"dash\": \"dot\", \"width\": 2}, \"mode\": \"lines+markers\", \"name\": \"Maximum duration\", \"type\": \"scatter\", \"x\": [2001, 2002, 2003, 2004, 2005, 2006, 2007, 2008, 2009, 2010, 2011, 2012, 2013, 2014, 2015, 2016, 2017, 2018, 2019, 2020, 2021], \"y\": [224, 179, 201, 185, 208, 196, 169, 214, 203, 186, 164, 172, 180, 190, 205, 173, 166, 312, 209, 190, 116]}],                        {\"template\": {\"data\": {\"bar\": [{\"error_x\": {\"color\": \"#2a3f5f\"}, \"error_y\": {\"color\": \"#2a3f5f\"}, \"marker\": {\"line\": {\"color\": \"#E5ECF6\", \"width\": 0.5}}, \"type\": \"bar\"}], \"barpolar\": [{\"marker\": {\"line\": {\"color\": \"#E5ECF6\", \"width\": 0.5}}, \"type\": \"barpolar\"}], \"carpet\": [{\"aaxis\": {\"endlinecolor\": \"#2a3f5f\", \"gridcolor\": \"white\", \"linecolor\": \"white\", \"minorgridcolor\": \"white\", \"startlinecolor\": \"#2a3f5f\"}, \"baxis\": {\"endlinecolor\": \"#2a3f5f\", \"gridcolor\": \"white\", \"linecolor\": \"white\", \"minorgridcolor\": \"white\", \"startlinecolor\": \"#2a3f5f\"}, \"type\": \"carpet\"}], \"choropleth\": [{\"colorbar\": {\"outlinewidth\": 0, \"ticks\": \"\"}, \"type\": \"choropleth\"}], \"contour\": [{\"colorbar\": {\"outlinewidth\": 0, \"ticks\": \"\"}, \"colorscale\": [[0.0, \"#0d0887\"], [0.1111111111111111, \"#46039f\"], [0.2222222222222222, \"#7201a8\"], [0.3333333333333333, \"#9c179e\"], [0.4444444444444444, \"#bd3786\"], [0.5555555555555556, \"#d8576b\"], [0.6666666666666666, \"#ed7953\"], [0.7777777777777778, \"#fb9f3a\"], [0.8888888888888888, \"#fdca26\"], [1.0, \"#f0f921\"]], \"type\": \"contour\"}], \"contourcarpet\": [{\"colorbar\": {\"outlinewidth\": 0, \"ticks\": \"\"}, \"type\": \"contourcarpet\"}], \"heatmap\": [{\"colorbar\": {\"outlinewidth\": 0, \"ticks\": \"\"}, \"colorscale\": [[0.0, \"#0d0887\"], [0.1111111111111111, \"#46039f\"], [0.2222222222222222, \"#7201a8\"], [0.3333333333333333, \"#9c179e\"], [0.4444444444444444, \"#bd3786\"], [0.5555555555555556, \"#d8576b\"], [0.6666666666666666, \"#ed7953\"], [0.7777777777777778, \"#fb9f3a\"], [0.8888888888888888, \"#fdca26\"], [1.0, \"#f0f921\"]], \"type\": \"heatmap\"}], \"heatmapgl\": [{\"colorbar\": {\"outlinewidth\": 0, \"ticks\": \"\"}, \"colorscale\": [[0.0, \"#0d0887\"], [0.1111111111111111, \"#46039f\"], [0.2222222222222222, \"#7201a8\"], [0.3333333333333333, \"#9c179e\"], [0.4444444444444444, \"#bd3786\"], [0.5555555555555556, \"#d8576b\"], [0.6666666666666666, \"#ed7953\"], [0.7777777777777778, \"#fb9f3a\"], [0.8888888888888888, \"#fdca26\"], [1.0, \"#f0f921\"]], \"type\": \"heatmapgl\"}], \"histogram\": [{\"marker\": {\"colorbar\": {\"outlinewidth\": 0, \"ticks\": \"\"}}, \"type\": \"histogram\"}], \"histogram2d\": [{\"colorbar\": {\"outlinewidth\": 0, \"ticks\": \"\"}, \"colorscale\": [[0.0, \"#0d0887\"], [0.1111111111111111, \"#46039f\"], [0.2222222222222222, \"#7201a8\"], [0.3333333333333333, \"#9c179e\"], [0.4444444444444444, \"#bd3786\"], [0.5555555555555556, \"#d8576b\"], [0.6666666666666666, \"#ed7953\"], [0.7777777777777778, \"#fb9f3a\"], [0.8888888888888888, \"#fdca26\"], [1.0, \"#f0f921\"]], \"type\": \"histogram2d\"}], \"histogram2dcontour\": [{\"colorbar\": {\"outlinewidth\": 0, \"ticks\": \"\"}, \"colorscale\": [[0.0, \"#0d0887\"], [0.1111111111111111, \"#46039f\"], [0.2222222222222222, \"#7201a8\"], [0.3333333333333333, \"#9c179e\"], [0.4444444444444444, \"#bd3786\"], [0.5555555555555556, \"#d8576b\"], [0.6666666666666666, \"#ed7953\"], [0.7777777777777778, \"#fb9f3a\"], [0.8888888888888888, \"#fdca26\"], [1.0, \"#f0f921\"]], \"type\": \"histogram2dcontour\"}], \"mesh3d\": [{\"colorbar\": {\"outlinewidth\": 0, \"ticks\": \"\"}, \"type\": \"mesh3d\"}], \"parcoords\": [{\"line\": {\"colorbar\": {\"outlinewidth\": 0, \"ticks\": \"\"}}, \"type\": \"parcoords\"}], \"pie\": [{\"automargin\": true, \"type\": \"pie\"}], \"scatter\": [{\"marker\": {\"colorbar\": {\"outlinewidth\": 0, \"ticks\": \"\"}}, \"type\": \"scatter\"}], \"scatter3d\": [{\"line\": {\"colorbar\": {\"outlinewidth\": 0, \"ticks\": \"\"}}, \"marker\": {\"colorbar\": {\"outlinewidth\": 0, \"ticks\": \"\"}}, \"type\": \"scatter3d\"}], \"scattercarpet\": [{\"marker\": {\"colorbar\": {\"outlinewidth\": 0, \"ticks\": \"\"}}, \"type\": \"scattercarpet\"}], \"scattergeo\": [{\"marker\": {\"colorbar\": {\"outlinewidth\": 0, \"ticks\": \"\"}}, \"type\": \"scattergeo\"}], \"scattergl\": [{\"marker\": {\"colorbar\": {\"outlinewidth\": 0, \"ticks\": \"\"}}, \"type\": \"scattergl\"}], \"scattermapbox\": [{\"marker\": {\"colorbar\": {\"outlinewidth\": 0, \"ticks\": \"\"}}, \"type\": \"scattermapbox\"}], \"scatterpolar\": [{\"marker\": {\"colorbar\": {\"outlinewidth\": 0, \"ticks\": \"\"}}, \"type\": \"scatterpolar\"}], \"scatterpolargl\": [{\"marker\": {\"colorbar\": {\"outlinewidth\": 0, \"ticks\": \"\"}}, \"type\": \"scatterpolargl\"}], \"scatterternary\": [{\"marker\": {\"colorbar\": {\"outlinewidth\": 0, \"ticks\": \"\"}}, \"type\": \"scatterternary\"}], \"surface\": [{\"colorbar\": {\"outlinewidth\": 0, \"ticks\": \"\"}, \"colorscale\": [[0.0, \"#0d0887\"], [0.1111111111111111, \"#46039f\"], [0.2222222222222222, \"#7201a8\"], [0.3333333333333333, \"#9c179e\"], [0.4444444444444444, \"#bd3786\"], [0.5555555555555556, \"#d8576b\"], [0.6666666666666666, \"#ed7953\"], [0.7777777777777778, \"#fb9f3a\"], [0.8888888888888888, \"#fdca26\"], [1.0, \"#f0f921\"]], \"type\": \"surface\"}], \"table\": [{\"cells\": {\"fill\": {\"color\": \"#EBF0F8\"}, \"line\": {\"color\": \"white\"}}, \"header\": {\"fill\": {\"color\": \"#C8D4E3\"}, \"line\": {\"color\": \"white\"}}, \"type\": \"table\"}]}, \"layout\": {\"annotationdefaults\": {\"arrowcolor\": \"#2a3f5f\", \"arrowhead\": 0, \"arrowwidth\": 1}, \"autotypenumbers\": \"strict\", \"coloraxis\": {\"colorbar\": {\"outlinewidth\": 0, \"ticks\": \"\"}}, \"colorscale\": {\"diverging\": [[0, \"#8e0152\"], [0.1, \"#c51b7d\"], [0.2, \"#de77ae\"], [0.3, \"#f1b6da\"], [0.4, \"#fde0ef\"], [0.5, \"#f7f7f7\"], [0.6, \"#e6f5d0\"], [0.7, \"#b8e186\"], [0.8, \"#7fbc41\"], [0.9, \"#4d9221\"], [1, \"#276419\"]], \"sequential\": [[0.0, \"#0d0887\"], [0.1111111111111111, \"#46039f\"], [0.2222222222222222, \"#7201a8\"], [0.3333333333333333, \"#9c179e\"], [0.4444444444444444, \"#bd3786\"], [0.5555555555555556, \"#d8576b\"], [0.6666666666666666, \"#ed7953\"], [0.7777777777777778, \"#fb9f3a\"], [0.8888888888888888, \"#fdca26\"], [1.0, \"#f0f921\"]], \"sequentialminus\": [[0.0, \"#0d0887\"], [0.1111111111111111, \"#46039f\"], [0.2222222222222222, \"#7201a8\"], [0.3333333333333333, \"#9c179e\"], [0.4444444444444444, \"#bd3786\"], [0.5555555555555556, \"#d8576b\"], [0.6666666666666666, \"#ed7953\"], [0.7777777777777778, \"#fb9f3a\"], [0.8888888888888888, \"#fdca26\"], [1.0, \"#f0f921\"]]}, \"colorway\": [\"#636efa\", \"#EF553B\", \"#00cc96\", \"#ab63fa\", \"#FFA15A\", \"#19d3f3\", \"#FF6692\", \"#B6E880\", \"#FF97FF\", \"#FECB52\"], \"font\": {\"color\": \"#2a3f5f\"}, \"geo\": {\"bgcolor\": \"white\", \"lakecolor\": \"white\", \"landcolor\": \"#E5ECF6\", \"showlakes\": true, \"showland\": true, \"subunitcolor\": \"white\"}, \"hoverlabel\": {\"align\": \"left\"}, \"hovermode\": \"closest\", \"mapbox\": {\"style\": \"light\"}, \"paper_bgcolor\": \"white\", \"plot_bgcolor\": \"#E5ECF6\", \"polar\": {\"angularaxis\": {\"gridcolor\": \"white\", \"linecolor\": \"white\", \"ticks\": \"\"}, \"bgcolor\": \"#E5ECF6\", \"radialaxis\": {\"gridcolor\": \"white\", \"linecolor\": \"white\", \"ticks\": \"\"}}, \"scene\": {\"xaxis\": {\"backgroundcolor\": \"#E5ECF6\", \"gridcolor\": \"white\", \"gridwidth\": 2, \"linecolor\": \"white\", \"showbackground\": true, \"ticks\": \"\", \"zerolinecolor\": \"white\"}, \"yaxis\": {\"backgroundcolor\": \"#E5ECF6\", \"gridcolor\": \"white\", \"gridwidth\": 2, \"linecolor\": \"white\", \"showbackground\": true, \"ticks\": \"\", \"zerolinecolor\": \"white\"}, \"zaxis\": {\"backgroundcolor\": \"#E5ECF6\", \"gridcolor\": \"white\", \"gridwidth\": 2, \"linecolor\": \"white\", \"showbackground\": true, \"ticks\": \"\", \"zerolinecolor\": \"white\"}}, \"shapedefaults\": {\"line\": {\"color\": \"#2a3f5f\"}}, \"ternary\": {\"aaxis\": {\"gridcolor\": \"white\", \"linecolor\": \"white\", \"ticks\": \"\"}, \"baxis\": {\"gridcolor\": \"white\", \"linecolor\": \"white\", \"ticks\": \"\"}, \"bgcolor\": \"#E5ECF6\", \"caxis\": {\"gridcolor\": \"white\", \"linecolor\": \"white\", \"ticks\": \"\"}}, \"title\": {\"x\": 0.05}, \"xaxis\": {\"automargin\": true, \"gridcolor\": \"white\", \"linecolor\": \"white\", \"ticks\": \"\", \"title\": {\"standoff\": 15}, \"zerolinecolor\": \"white\", \"zerolinewidth\": 2}, \"yaxis\": {\"automargin\": true, \"gridcolor\": \"white\", \"linecolor\": \"white\", \"ticks\": \"\", \"title\": {\"standoff\": 15}, \"zerolinecolor\": \"white\", \"zerolinewidth\": 2}}}, \"title\": {\"text\": \"Duration of movies from the Netflix collection by release year\"}, \"xaxis\": {\"title\": {\"text\": \"Release year\"}}, \"yaxis\": {\"title\": {\"text\": \"Duration (minutes)\"}}},                        {\"responsive\": true}                    ).then(function(){\n",
       "                            \n",
       "var gd = document.getElementById('59c8afb1-99a1-4008-a9db-8a02b2d40f91');\n",
       "var x = new MutationObserver(function (mutations, observer) {{\n",
       "        var display = window.getComputedStyle(gd).display;\n",
       "        if (!display || display === 'none') {{\n",
       "            console.log([gd, 'removed!']);\n",
       "            Plotly.purge(gd);\n",
       "            observer.disconnect();\n",
       "        }}\n",
       "}});\n",
       "\n",
       "// Listen for the removal of the full notebook cells\n",
       "var notebookContainer = gd.closest('#notebook-container');\n",
       "if (notebookContainer) {{\n",
       "    x.observe(notebookContainer, {childList: true});\n",
       "}}\n",
       "\n",
       "// Listen for the clearing of the current output cell\n",
       "var outputEl = gd.closest('.output');\n",
       "if (outputEl) {{\n",
       "    x.observe(outputEl, {childList: true});\n",
       "}}\n",
       "\n",
       "                        })                };                });            </script>        </div>"
      ]
     },
     "metadata": {},
     "output_type": "display_data"
    }
   ],
   "source": [
    "fig = go.Figure()\n",
    "\n",
    "fig.add_trace(\n",
    "    go.Scatter(x=recent_movies['release_year'],\n",
    "               y=recent_movies['average_duration'],\n",
    "               name='Average duration',\n",
    "               mode='lines+markers',\n",
    "               line={\n",
    "                   \"color\": 'firebrick',\n",
    "                   \"width\": 2,\n",
    "               }))\n",
    "fig.add_trace(\n",
    "    go.Scatter(x=recent_movies['release_year'],\n",
    "               y=recent_movies['min_duration'],\n",
    "               name='Minimum duration',\n",
    "               mode='lines+markers',\n",
    "               line={\n",
    "                   \"color\": 'royalblue',\n",
    "                   \"width\": 2,\n",
    "                   \"dash\": 'dot'\n",
    "               }))\n",
    "\n",
    "fig.add_traces(\n",
    "    go.Scatter(x=x_future,\n",
    "               y=y_future.reshape(-1, ),\n",
    "               name='Regression Line',\n",
    "               line={\n",
    "                   \"color\": 'blueviolet',\n",
    "                   \"width\": 2,\n",
    "                   \"dash\":\"dashdot\"\n",
    "               }))\n",
    "fig.add_trace(\n",
    "    go.Scatter(x=recent_movies['release_year'],\n",
    "               y=recent_movies['max_duration'],\n",
    "               name='Maximum duration',\n",
    "               mode='lines+markers',\n",
    "               line={\n",
    "                   \"color\": 'green',\n",
    "                   \"width\": 2,\n",
    "                   \"dash\": 'dot'\n",
    "               }))\n",
    "\n",
    "fig.update_layout(\n",
    "    title='Duration of movies from the Netflix collection by release year',\n",
    "    xaxis_title='Release year',\n",
    "    yaxis_title='Duration (minutes)')\n",
    "\n",
    "fig.show()"
   ]
  },
  {
   "cell_type": "code",
   "execution_count": 82,
   "metadata": {},
   "outputs": [
    {
     "data": {
      "text/plain": [
       "array([[-1.60635561]])"
      ]
     },
     "execution_count": 82,
     "metadata": {},
     "output_type": "execute_result"
    }
   ],
   "source": [
    "model.coef_"
   ]
  },
  {
   "cell_type": "code",
   "execution_count": 51,
   "metadata": {
    "scrolled": true
   },
   "outputs": [
    {
     "data": {
      "text/plain": [
       "array([118.875     , 118.87179487, 117.125     , 115.94      ,\n",
       "       114.36065574, 114.54166667, 113.06944444, 106.66666667,\n",
       "       108.62135922, 104.42647059, 102.82677165, 100.62025316,\n",
       "        98.75247525, 100.26639344,  99.82722513,  95.11214953,\n",
       "        94.83602151,  96.17029973,  93.45704467,  89.79562044,\n",
       "        80.16666667])"
      ]
     },
     "execution_count": 51,
     "metadata": {},
     "output_type": "execute_result"
    }
   ],
   "source": [
    "recent_movies['average_duration'].values"
   ]
  },
  {
   "cell_type": "code",
   "execution_count": null,
   "metadata": {
    "scrolled": true
   },
   "outputs": [],
   "source": [
    "recent_movies"
   ]
  }
 ],
 "metadata": {
  "kernelspec": {
   "display_name": "Python 3",
   "language": "python",
   "name": "python3"
  },
  "language_info": {
   "codemirror_mode": {
    "name": "ipython",
    "version": 3
   },
   "file_extension": ".py",
   "mimetype": "text/x-python",
   "name": "python",
   "nbconvert_exporter": "python",
   "pygments_lexer": "ipython3",
   "version": "3.8.3"
  }
 },
 "nbformat": 4,
 "nbformat_minor": 4
}
